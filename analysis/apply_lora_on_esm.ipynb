{
 "cells": [
  {
   "cell_type": "code",
   "execution_count": 1,
   "metadata": {},
   "outputs": [
    {
     "name": "stdout",
     "output_type": "stream",
     "text": [
      "/home/kaustubh/RuBisCO_ML/ESM_LoRA/analysis\n"
     ]
    }
   ],
   "source": [
    "import os\n",
    "import sys\n",
    "%cd /home/kaustubh/RuBisCO_ML/ESM_LoRA/analysis/"
   ]
  },
  {
   "cell_type": "code",
   "execution_count": 2,
   "metadata": {},
   "outputs": [],
   "source": [
    "import matplotlib.pyplot as plt\n",
    "from lora_esm2_script_updated import *\n",
    "# from lora_esm2_script_updated import CustomModel"
   ]
  },
  {
   "cell_type": "code",
   "execution_count": 3,
   "metadata": {},
   "outputs": [
    {
     "name": "stdout",
     "output_type": "stream",
     "text": [
      "1\n",
      "NVIDIA L40S\n",
      "OrderedDict({'active.all.allocated': 0, 'active.all.current': 0, 'active.all.freed': 0, 'active.all.peak': 0, 'active.large_pool.allocated': 0, 'active.large_pool.current': 0, 'active.large_pool.freed': 0, 'active.large_pool.peak': 0, 'active.small_pool.allocated': 0, 'active.small_pool.current': 0, 'active.small_pool.freed': 0, 'active.small_pool.peak': 0, 'active_bytes.all.allocated': 0, 'active_bytes.all.current': 0, 'active_bytes.all.freed': 0, 'active_bytes.all.peak': 0, 'active_bytes.large_pool.allocated': 0, 'active_bytes.large_pool.current': 0, 'active_bytes.large_pool.freed': 0, 'active_bytes.large_pool.peak': 0, 'active_bytes.small_pool.allocated': 0, 'active_bytes.small_pool.current': 0, 'active_bytes.small_pool.freed': 0, 'active_bytes.small_pool.peak': 0, 'allocated_bytes.all.allocated': 0, 'allocated_bytes.all.current': 0, 'allocated_bytes.all.freed': 0, 'allocated_bytes.all.peak': 0, 'allocated_bytes.large_pool.allocated': 0, 'allocated_bytes.large_pool.current': 0, 'allocated_bytes.large_pool.freed': 0, 'allocated_bytes.large_pool.peak': 0, 'allocated_bytes.small_pool.allocated': 0, 'allocated_bytes.small_pool.current': 0, 'allocated_bytes.small_pool.freed': 0, 'allocated_bytes.small_pool.peak': 0, 'allocation.all.allocated': 0, 'allocation.all.current': 0, 'allocation.all.freed': 0, 'allocation.all.peak': 0, 'allocation.large_pool.allocated': 0, 'allocation.large_pool.current': 0, 'allocation.large_pool.freed': 0, 'allocation.large_pool.peak': 0, 'allocation.small_pool.allocated': 0, 'allocation.small_pool.current': 0, 'allocation.small_pool.freed': 0, 'allocation.small_pool.peak': 0, 'inactive_split.all.allocated': 0, 'inactive_split.all.current': 0, 'inactive_split.all.freed': 0, 'inactive_split.all.peak': 0, 'inactive_split.large_pool.allocated': 0, 'inactive_split.large_pool.current': 0, 'inactive_split.large_pool.freed': 0, 'inactive_split.large_pool.peak': 0, 'inactive_split.small_pool.allocated': 0, 'inactive_split.small_pool.current': 0, 'inactive_split.small_pool.freed': 0, 'inactive_split.small_pool.peak': 0, 'inactive_split_bytes.all.allocated': 0, 'inactive_split_bytes.all.current': 0, 'inactive_split_bytes.all.freed': 0, 'inactive_split_bytes.all.peak': 0, 'inactive_split_bytes.large_pool.allocated': 0, 'inactive_split_bytes.large_pool.current': 0, 'inactive_split_bytes.large_pool.freed': 0, 'inactive_split_bytes.large_pool.peak': 0, 'inactive_split_bytes.small_pool.allocated': 0, 'inactive_split_bytes.small_pool.current': 0, 'inactive_split_bytes.small_pool.freed': 0, 'inactive_split_bytes.small_pool.peak': 0, 'max_split_size': -1, 'num_alloc_retries': 0, 'num_device_alloc': 0, 'num_device_free': 0, 'num_ooms': 0, 'num_sync_all_streams': 0, 'oversize_allocations.allocated': 0, 'oversize_allocations.current': 0, 'oversize_allocations.freed': 0, 'oversize_allocations.peak': 0, 'oversize_segments.allocated': 0, 'oversize_segments.current': 0, 'oversize_segments.freed': 0, 'oversize_segments.peak': 0, 'requested_bytes.all.allocated': 0, 'requested_bytes.all.current': 0, 'requested_bytes.all.freed': 0, 'requested_bytes.all.peak': 0, 'requested_bytes.large_pool.allocated': 0, 'requested_bytes.large_pool.current': 0, 'requested_bytes.large_pool.freed': 0, 'requested_bytes.large_pool.peak': 0, 'requested_bytes.small_pool.allocated': 0, 'requested_bytes.small_pool.current': 0, 'requested_bytes.small_pool.freed': 0, 'requested_bytes.small_pool.peak': 0, 'reserved_bytes.all.allocated': 0, 'reserved_bytes.all.current': 0, 'reserved_bytes.all.freed': 0, 'reserved_bytes.all.peak': 0, 'reserved_bytes.large_pool.allocated': 0, 'reserved_bytes.large_pool.current': 0, 'reserved_bytes.large_pool.freed': 0, 'reserved_bytes.large_pool.peak': 0, 'reserved_bytes.small_pool.allocated': 0, 'reserved_bytes.small_pool.current': 0, 'reserved_bytes.small_pool.freed': 0, 'reserved_bytes.small_pool.peak': 0, 'segment.all.allocated': 0, 'segment.all.current': 0, 'segment.all.freed': 0, 'segment.all.peak': 0, 'segment.large_pool.allocated': 0, 'segment.large_pool.current': 0, 'segment.large_pool.freed': 0, 'segment.large_pool.peak': 0, 'segment.small_pool.allocated': 0, 'segment.small_pool.current': 0, 'segment.small_pool.freed': 0, 'segment.small_pool.peak': 0})\n"
     ]
    }
   ],
   "source": [
    "print(torch.cuda.device_count())\n",
    "print(torch.cuda.get_device_name(0))\n",
    "print(torch.cuda.memory_stats())"
   ]
  },
  {
   "cell_type": "code",
   "execution_count": 4,
   "metadata": {},
   "outputs": [
    {
     "name": "stderr",
     "output_type": "stream",
     "text": [
      "Detected kernel version 5.4.0, which is below the recommended minimum of 5.5.0; this can cause the process to hang. It is recommended to upgrade the kernel to the minimum version or higher.\n",
      "/home/kaustubh/RuBisCO_ML/ESM_LoRA/analysis/lora_esm2_script_updated.py:51: SettingWithCopyWarning: \n",
      "A value is trying to be set on a copy of a slice from a DataFrame.\n",
      "Try using .loc[row_indexer,col_indexer] = value instead\n",
      "\n",
      "See the caveats in the documentation: https://pandas.pydata.org/pandas-docs/stable/user_guide/indexing.html#returning-a-view-versus-a-copy\n",
      "  formIII_lsu_variant_data_df['fixed_threshold_activity'] = formIII_lsu_variant_data_df['mean_reading'].apply(lambda x: 1 if x >= 50 else 0)\n",
      "/home/kaustubh/miniforge3/envs/lora_esm/lib/python3.13/site-packages/transformers/training_args.py:1594: FutureWarning: `evaluation_strategy` is deprecated and will be removed in version 4.46 of 🤗 Transformers. Use `eval_strategy` instead\n",
      "  warnings.warn(\n",
      "Detected kernel version 5.4.0, which is below the recommended minimum of 5.5.0; this can cause the process to hang. It is recommended to upgrade the kernel to the minimum version or higher.\n"
     ]
    },
    {
     "name": "stdout",
     "output_type": "stream",
     "text": [
      "OrderedDict({'active.all.allocated': 0, 'active.all.current': 0, 'active.all.freed': 0, 'active.all.peak': 0, 'active.large_pool.allocated': 0, 'active.large_pool.current': 0, 'active.large_pool.freed': 0, 'active.large_pool.peak': 0, 'active.small_pool.allocated': 0, 'active.small_pool.current': 0, 'active.small_pool.freed': 0, 'active.small_pool.peak': 0, 'active_bytes.all.allocated': 0, 'active_bytes.all.current': 0, 'active_bytes.all.freed': 0, 'active_bytes.all.peak': 0, 'active_bytes.large_pool.allocated': 0, 'active_bytes.large_pool.current': 0, 'active_bytes.large_pool.freed': 0, 'active_bytes.large_pool.peak': 0, 'active_bytes.small_pool.allocated': 0, 'active_bytes.small_pool.current': 0, 'active_bytes.small_pool.freed': 0, 'active_bytes.small_pool.peak': 0, 'allocated_bytes.all.allocated': 0, 'allocated_bytes.all.current': 0, 'allocated_bytes.all.freed': 0, 'allocated_bytes.all.peak': 0, 'allocated_bytes.large_pool.allocated': 0, 'allocated_bytes.large_pool.current': 0, 'allocated_bytes.large_pool.freed': 0, 'allocated_bytes.large_pool.peak': 0, 'allocated_bytes.small_pool.allocated': 0, 'allocated_bytes.small_pool.current': 0, 'allocated_bytes.small_pool.freed': 0, 'allocated_bytes.small_pool.peak': 0, 'allocation.all.allocated': 0, 'allocation.all.current': 0, 'allocation.all.freed': 0, 'allocation.all.peak': 0, 'allocation.large_pool.allocated': 0, 'allocation.large_pool.current': 0, 'allocation.large_pool.freed': 0, 'allocation.large_pool.peak': 0, 'allocation.small_pool.allocated': 0, 'allocation.small_pool.current': 0, 'allocation.small_pool.freed': 0, 'allocation.small_pool.peak': 0, 'inactive_split.all.allocated': 0, 'inactive_split.all.current': 0, 'inactive_split.all.freed': 0, 'inactive_split.all.peak': 0, 'inactive_split.large_pool.allocated': 0, 'inactive_split.large_pool.current': 0, 'inactive_split.large_pool.freed': 0, 'inactive_split.large_pool.peak': 0, 'inactive_split.small_pool.allocated': 0, 'inactive_split.small_pool.current': 0, 'inactive_split.small_pool.freed': 0, 'inactive_split.small_pool.peak': 0, 'inactive_split_bytes.all.allocated': 0, 'inactive_split_bytes.all.current': 0, 'inactive_split_bytes.all.freed': 0, 'inactive_split_bytes.all.peak': 0, 'inactive_split_bytes.large_pool.allocated': 0, 'inactive_split_bytes.large_pool.current': 0, 'inactive_split_bytes.large_pool.freed': 0, 'inactive_split_bytes.large_pool.peak': 0, 'inactive_split_bytes.small_pool.allocated': 0, 'inactive_split_bytes.small_pool.current': 0, 'inactive_split_bytes.small_pool.freed': 0, 'inactive_split_bytes.small_pool.peak': 0, 'max_split_size': -1, 'num_alloc_retries': 0, 'num_device_alloc': 0, 'num_device_free': 0, 'num_ooms': 0, 'num_sync_all_streams': 1, 'oversize_allocations.allocated': 0, 'oversize_allocations.current': 0, 'oversize_allocations.freed': 0, 'oversize_allocations.peak': 0, 'oversize_segments.allocated': 0, 'oversize_segments.current': 0, 'oversize_segments.freed': 0, 'oversize_segments.peak': 0, 'requested_bytes.all.allocated': 0, 'requested_bytes.all.current': 0, 'requested_bytes.all.freed': 0, 'requested_bytes.all.peak': 0, 'requested_bytes.large_pool.allocated': 0, 'requested_bytes.large_pool.current': 0, 'requested_bytes.large_pool.freed': 0, 'requested_bytes.large_pool.peak': 0, 'requested_bytes.small_pool.allocated': 0, 'requested_bytes.small_pool.current': 0, 'requested_bytes.small_pool.freed': 0, 'requested_bytes.small_pool.peak': 0, 'reserved_bytes.all.allocated': 0, 'reserved_bytes.all.current': 0, 'reserved_bytes.all.freed': 0, 'reserved_bytes.all.peak': 0, 'reserved_bytes.large_pool.allocated': 0, 'reserved_bytes.large_pool.current': 0, 'reserved_bytes.large_pool.freed': 0, 'reserved_bytes.large_pool.peak': 0, 'reserved_bytes.small_pool.allocated': 0, 'reserved_bytes.small_pool.current': 0, 'reserved_bytes.small_pool.freed': 0, 'reserved_bytes.small_pool.peak': 0, 'segment.all.allocated': 0, 'segment.all.current': 0, 'segment.all.freed': 0, 'segment.all.peak': 0, 'segment.large_pool.allocated': 0, 'segment.large_pool.current': 0, 'segment.large_pool.freed': 0, 'segment.large_pool.peak': 0, 'segment.small_pool.allocated': 0, 'segment.small_pool.current': 0, 'segment.small_pool.freed': 0, 'segment.small_pool.peak': 0})\n"
     ]
    },
    {
     "name": "stderr",
     "output_type": "stream",
     "text": [
      "Some weights of EsmModel were not initialized from the model checkpoint at facebook/esm2_t33_650M_UR50D and are newly initialized: ['esm.pooler.dense.bias', 'esm.pooler.dense.weight']\n",
      "You should probably TRAIN this model on a down-stream task to be able to use it for predictions and inference.\n"
     ]
    },
    {
     "name": "stdout",
     "output_type": "stream",
     "text": [
      "dict_keys(['method', 'metric', 'parameters'])\n",
      "Trial 1/10\n",
      "learning_rate:  1e-05\n",
      "OrderedDict({'active.all.allocated': 770, 'active.all.current': 770, 'active.all.freed': 0, 'active.all.peak': 770, 'active.large_pool.allocated': 200, 'active.large_pool.current': 200, 'active.large_pool.freed': 0, 'active.large_pool.peak': 200, 'active.small_pool.allocated': 570, 'active.small_pool.current': 570, 'active.small_pool.freed': 0, 'active.small_pool.peak': 570, 'active_bytes.all.allocated': 2694874112, 'active_bytes.all.current': 2694874112, 'active_bytes.all.freed': 0, 'active_bytes.all.peak': 2694874112, 'active_bytes.large_pool.allocated': 2676238336, 'active_bytes.large_pool.current': 2676238336, 'active_bytes.large_pool.freed': 0, 'active_bytes.large_pool.peak': 2676238336, 'active_bytes.small_pool.allocated': 18635776, 'active_bytes.small_pool.current': 18635776, 'active_bytes.small_pool.freed': 0, 'active_bytes.small_pool.peak': 18635776, 'allocated_bytes.all.allocated': 2694874112, 'allocated_bytes.all.current': 2694874112, 'allocated_bytes.all.freed': 0, 'allocated_bytes.all.peak': 2694874112, 'allocated_bytes.large_pool.allocated': 2676238336, 'allocated_bytes.large_pool.current': 2676238336, 'allocated_bytes.large_pool.freed': 0, 'allocated_bytes.large_pool.peak': 2676238336, 'allocated_bytes.small_pool.allocated': 18635776, 'allocated_bytes.small_pool.current': 18635776, 'allocated_bytes.small_pool.freed': 0, 'allocated_bytes.small_pool.peak': 18635776, 'allocation.all.allocated': 770, 'allocation.all.current': 770, 'allocation.all.freed': 0, 'allocation.all.peak': 770, 'allocation.large_pool.allocated': 200, 'allocation.large_pool.current': 200, 'allocation.large_pool.freed': 0, 'allocation.large_pool.peak': 200, 'allocation.small_pool.allocated': 570, 'allocation.small_pool.current': 570, 'allocation.small_pool.freed': 0, 'allocation.small_pool.peak': 570, 'inactive_split.all.allocated': 54, 'inactive_split.all.current': 48, 'inactive_split.all.freed': 6, 'inactive_split.all.peak': 49, 'inactive_split.large_pool.allocated': 45, 'inactive_split.large_pool.current': 45, 'inactive_split.large_pool.freed': 0, 'inactive_split.large_pool.peak': 45, 'inactive_split.small_pool.allocated': 9, 'inactive_split.small_pool.current': 3, 'inactive_split.small_pool.freed': 6, 'inactive_split.small_pool.peak': 5, 'inactive_split_bytes.all.allocated': 668279808, 'inactive_split_bytes.all.current': 67075072, 'inactive_split_bytes.all.freed': 601204736, 'inactive_split_bytes.all.peak': 73704448, 'inactive_split_bytes.large_pool.allocated': 650106880, 'inactive_split_bytes.large_pool.current': 66836480, 'inactive_split_bytes.large_pool.freed': 583270400, 'inactive_split_bytes.large_pool.peak': 73390080, 'inactive_split_bytes.small_pool.allocated': 18172928, 'inactive_split_bytes.small_pool.current': 238592, 'inactive_split_bytes.small_pool.freed': 17934336, 'inactive_split_bytes.small_pool.peak': 2094592, 'max_split_size': -1, 'num_alloc_retries': 0, 'num_device_alloc': 120, 'num_device_free': 0, 'num_ooms': 0, 'num_sync_all_streams': 2, 'oversize_allocations.allocated': 0, 'oversize_allocations.current': 0, 'oversize_allocations.freed': 0, 'oversize_allocations.peak': 0, 'oversize_segments.allocated': 0, 'oversize_segments.current': 0, 'oversize_segments.freed': 0, 'oversize_segments.peak': 0, 'requested_bytes.all.allocated': 2625653480, 'requested_bytes.all.current': 2625653480, 'requested_bytes.all.freed': 0, 'requested_bytes.all.peak': 2625653480, 'requested_bytes.large_pool.allocated': 2607032320, 'requested_bytes.large_pool.current': 2607032320, 'requested_bytes.large_pool.freed': 0, 'requested_bytes.large_pool.peak': 2607032320, 'requested_bytes.small_pool.allocated': 18621160, 'requested_bytes.small_pool.current': 18621160, 'requested_bytes.small_pool.freed': 0, 'requested_bytes.small_pool.peak': 18621160, 'reserved_bytes.all.allocated': 2761949184, 'reserved_bytes.all.current': 2761949184, 'reserved_bytes.all.freed': 0, 'reserved_bytes.all.peak': 2761949184, 'reserved_bytes.large_pool.allocated': 2743074816, 'reserved_bytes.large_pool.current': 2743074816, 'reserved_bytes.large_pool.freed': 0, 'reserved_bytes.large_pool.peak': 2743074816, 'reserved_bytes.small_pool.allocated': 18874368, 'reserved_bytes.small_pool.current': 18874368, 'reserved_bytes.small_pool.freed': 0, 'reserved_bytes.small_pool.peak': 18874368, 'segment.all.allocated': 120, 'segment.all.current': 120, 'segment.all.freed': 0, 'segment.all.peak': 120, 'segment.large_pool.allocated': 111, 'segment.large_pool.current': 111, 'segment.large_pool.freed': 0, 'segment.large_pool.peak': 111, 'segment.small_pool.allocated': 9, 'segment.small_pool.current': 9, 'segment.small_pool.freed': 0, 'segment.small_pool.peak': 9})\n"
     ]
    },
    {
     "name": "stderr",
     "output_type": "stream",
     "text": [
      "Some weights of EsmModel were not initialized from the model checkpoint at facebook/esm2_t33_650M_UR50D and are newly initialized: ['esm.pooler.dense.bias', 'esm.pooler.dense.weight']\n",
      "You should probably TRAIN this model on a down-stream task to be able to use it for predictions and inference.\n",
      "\u001b[34m\u001b[1mwandb\u001b[0m: \u001b[33mWARNING\u001b[0m The `run_name` is currently set to the same value as `TrainingArguments.output_dir`. If this was not intended, please specify a different run name by setting the `TrainingArguments.run_name` parameter.\n",
      "\u001b[34m\u001b[1mwandb\u001b[0m: Using wandb-core as the SDK backend.  Please refer to https://wandb.me/wandb-core for more information.\n",
      "\u001b[34m\u001b[1mwandb\u001b[0m: Currently logged in as: \u001b[33mkauamritkar\u001b[0m (\u001b[33mkauamritkar-university-of-wisconsin-madison\u001b[0m) to \u001b[32mhttps://api.wandb.ai\u001b[0m. Use \u001b[1m`wandb login --relogin`\u001b[0m to force relogin\n"
     ]
    },
    {
     "data": {
      "text/html": [
       "Tracking run with wandb version 0.19.7"
      ],
      "text/plain": [
       "<IPython.core.display.HTML object>"
      ]
     },
     "metadata": {},
     "output_type": "display_data"
    },
    {
     "data": {
      "text/html": [
       "Run data is saved locally in <code>/home/kaustubh/RuBisCO_ML/ESM_LoRA/analysis/wandb/run-20250317_200149-d4pp1y00</code>"
      ],
      "text/plain": [
       "<IPython.core.display.HTML object>"
      ]
     },
     "metadata": {},
     "output_type": "display_data"
    },
    {
     "data": {
      "text/html": [
       "Syncing run <strong><a href='https://wandb.ai/kauamritkar-university-of-wisconsin-madison/huggingface/runs/d4pp1y00' target=\"_blank\">/home/kaustubh/RuBisCO_ML/ESM_LoRA/training_runs/esm2_t33_650M-finetuned-lora_2025-03-17_20-01-43</a></strong> to <a href='https://wandb.ai/kauamritkar-university-of-wisconsin-madison/huggingface' target=\"_blank\">Weights & Biases</a> (<a href='https://wandb.me/developer-guide' target=\"_blank\">docs</a>)<br>"
      ],
      "text/plain": [
       "<IPython.core.display.HTML object>"
      ]
     },
     "metadata": {},
     "output_type": "display_data"
    },
    {
     "data": {
      "text/html": [
       " View project at <a href='https://wandb.ai/kauamritkar-university-of-wisconsin-madison/huggingface' target=\"_blank\">https://wandb.ai/kauamritkar-university-of-wisconsin-madison/huggingface</a>"
      ],
      "text/plain": [
       "<IPython.core.display.HTML object>"
      ]
     },
     "metadata": {},
     "output_type": "display_data"
    },
    {
     "data": {
      "text/html": [
       " View run at <a href='https://wandb.ai/kauamritkar-university-of-wisconsin-madison/huggingface/runs/d4pp1y00' target=\"_blank\">https://wandb.ai/kauamritkar-university-of-wisconsin-madison/huggingface/runs/d4pp1y00</a>"
      ],
      "text/plain": [
       "<IPython.core.display.HTML object>"
      ]
     },
     "metadata": {},
     "output_type": "display_data"
    },
    {
     "name": "stderr",
     "output_type": "stream",
     "text": [
      "We strongly recommend passing in an `attention_mask` since your input_ids may be padded. See https://huggingface.co/docs/transformers/troubleshooting#incorrect-output-when-padding-tokens-arent-masked.\n"
     ]
    },
    {
     "data": {
      "text/html": [
       "\n",
       "    <div>\n",
       "      \n",
       "      <progress value='220' max='220' style='width:300px; height:20px; vertical-align: middle;'></progress>\n",
       "      [220/220 00:55, Epoch 5/5]\n",
       "    </div>\n",
       "    <table border=\"1\" class=\"dataframe\">\n",
       "  <thead>\n",
       " <tr style=\"text-align: left;\">\n",
       "      <th>Epoch</th>\n",
       "      <th>Training Loss</th>\n",
       "      <th>Validation Loss</th>\n",
       "      <th>Accuracy</th>\n",
       "    </tr>\n",
       "  </thead>\n",
       "  <tbody>\n",
       "    <tr>\n",
       "      <td>1</td>\n",
       "      <td>0.678500</td>\n",
       "      <td>0.680033</td>\n",
       "      <td>0.458333</td>\n",
       "    </tr>\n",
       "    <tr>\n",
       "      <td>2</td>\n",
       "      <td>0.692800</td>\n",
       "      <td>0.674693</td>\n",
       "      <td>0.458333</td>\n",
       "    </tr>\n",
       "    <tr>\n",
       "      <td>3</td>\n",
       "      <td>0.663700</td>\n",
       "      <td>0.671335</td>\n",
       "      <td>0.479167</td>\n",
       "    </tr>\n",
       "    <tr>\n",
       "      <td>4</td>\n",
       "      <td>0.667600</td>\n",
       "      <td>0.669181</td>\n",
       "      <td>0.479167</td>\n",
       "    </tr>\n",
       "    <tr>\n",
       "      <td>5</td>\n",
       "      <td>0.671100</td>\n",
       "      <td>0.668160</td>\n",
       "      <td>0.479167</td>\n",
       "    </tr>\n",
       "  </tbody>\n",
       "</table><p>"
      ],
      "text/plain": [
       "<IPython.core.display.HTML object>"
      ]
     },
     "metadata": {},
     "output_type": "display_data"
    },
    {
     "name": "stderr",
     "output_type": "stream",
     "text": [
      "/home/kaustubh/miniforge3/envs/lora_esm/lib/python3.13/site-packages/peft/utils/save_and_load.py:246: UserWarning: Could not find a config file in  - will assume that the vocabulary was not modified.\n",
      "  warnings.warn(\n",
      "/home/kaustubh/miniforge3/envs/lora_esm/lib/python3.13/site-packages/peft/utils/save_and_load.py:246: UserWarning: Could not find a config file in  - will assume that the vocabulary was not modified.\n",
      "  warnings.warn(\n",
      "/home/kaustubh/miniforge3/envs/lora_esm/lib/python3.13/site-packages/peft/utils/save_and_load.py:246: UserWarning: Could not find a config file in  - will assume that the vocabulary was not modified.\n",
      "  warnings.warn(\n",
      "/home/kaustubh/miniforge3/envs/lora_esm/lib/python3.13/site-packages/peft/utils/save_and_load.py:246: UserWarning: Could not find a config file in  - will assume that the vocabulary was not modified.\n",
      "  warnings.warn(\n",
      "/home/kaustubh/miniforge3/envs/lora_esm/lib/python3.13/site-packages/peft/utils/save_and_load.py:246: UserWarning: Could not find a config file in  - will assume that the vocabulary was not modified.\n",
      "  warnings.warn(\n",
      "/home/kaustubh/miniforge3/envs/lora_esm/lib/python3.13/site-packages/peft/utils/save_and_load.py:246: UserWarning: Could not find a config file in  - will assume that the vocabulary was not modified.\n",
      "  warnings.warn(\n"
     ]
    },
    {
     "name": "stdout",
     "output_type": "stream",
     "text": [
      "Trial 2/10\n",
      "learning_rate:  0.00010899999999999999\n",
      "OrderedDict({'active.all.allocated': 1226851, 'active.all.current': 2536, 'active.all.freed': 1224315, 'active.all.peak': 3472, 'active.large_pool.allocated': 740277, 'active.large_pool.current': 402, 'active.large_pool.freed': 739875, 'active.large_pool.peak': 903, 'active.small_pool.allocated': 486574, 'active.small_pool.current': 2134, 'active.small_pool.freed': 484440, 'active.small_pool.peak': 3070, 'active_bytes.all.allocated': 8068158653952, 'active_bytes.all.current': 5451607040, 'active_bytes.all.freed': 8062707046912, 'active_bytes.all.peak': 10544260096, 'active_bytes.large_pool.allocated': 8008454787072, 'active_bytes.large_pool.current': 5369516032, 'active_bytes.large_pool.freed': 8003085271040, 'active_bytes.large_pool.peak': 10455109632, 'active_bytes.small_pool.allocated': 59703866880, 'active_bytes.small_pool.current': 82091008, 'active_bytes.small_pool.freed': 59621775872, 'active_bytes.small_pool.peak': 151558144, 'allocated_bytes.all.allocated': 8068158653952, 'allocated_bytes.all.current': 5451607040, 'allocated_bytes.all.freed': 8062707046912, 'allocated_bytes.all.peak': 10544260096, 'allocated_bytes.large_pool.allocated': 8008454787072, 'allocated_bytes.large_pool.current': 5369516032, 'allocated_bytes.large_pool.freed': 8003085271040, 'allocated_bytes.large_pool.peak': 10455109632, 'allocated_bytes.small_pool.allocated': 59703866880, 'allocated_bytes.small_pool.current': 82091008, 'allocated_bytes.small_pool.freed': 59621775872, 'allocated_bytes.small_pool.peak': 151558144, 'allocation.all.allocated': 1226851, 'allocation.all.current': 2536, 'allocation.all.freed': 1224315, 'allocation.all.peak': 3472, 'allocation.large_pool.allocated': 740277, 'allocation.large_pool.current': 402, 'allocation.large_pool.freed': 739875, 'allocation.large_pool.peak': 903, 'allocation.small_pool.allocated': 486574, 'allocation.small_pool.current': 2134, 'allocation.small_pool.freed': 484440, 'allocation.small_pool.peak': 3070, 'inactive_split.all.allocated': 611460, 'inactive_split.all.current': 173, 'inactive_split.all.freed': 611287, 'inactive_split.all.peak': 281, 'inactive_split.large_pool.allocated': 508947, 'inactive_split.large_pool.current': 94, 'inactive_split.large_pool.freed': 508853, 'inactive_split.large_pool.peak': 103, 'inactive_split.small_pool.allocated': 102513, 'inactive_split.small_pool.current': 79, 'inactive_split.small_pool.freed': 102434, 'inactive_split.small_pool.peak': 187, 'inactive_split_bytes.all.allocated': 4376123773952, 'inactive_split_bytes.all.current': 168760320, 'inactive_split_bytes.all.freed': 4375955013632, 'inactive_split_bytes.all.peak': 338520576, 'inactive_split_bytes.large_pool.allocated': 4310804060160, 'inactive_split_bytes.large_pool.current': 158576640, 'inactive_split_bytes.large_pool.freed': 4310645483520, 'inactive_split_bytes.large_pool.peak': 326348800, 'inactive_split_bytes.small_pool.allocated': 65319713792, 'inactive_split_bytes.small_pool.current': 10183680, 'inactive_split_bytes.small_pool.freed': 65309530112, 'inactive_split_bytes.small_pool.peak': 61088256, 'max_split_size': -1, 'num_alloc_retries': 0, 'num_device_alloc': 475, 'num_device_free': 207, 'num_ooms': 0, 'num_sync_all_streams': 5, 'oversize_allocations.allocated': 0, 'oversize_allocations.current': 0, 'oversize_allocations.freed': 0, 'oversize_allocations.peak': 0, 'oversize_segments.allocated': 0, 'oversize_segments.current': 0, 'oversize_segments.freed': 0, 'oversize_segments.peak': 0, 'requested_bytes.all.allocated': 8067663551078, 'requested_bytes.all.current': 5313164760, 'requested_bytes.all.freed': 8062350386318, 'requested_bytes.all.peak': 10404503044, 'requested_bytes.large_pool.allocated': 8008035225600, 'requested_bytes.large_pool.current': 5231104000, 'requested_bytes.large_pool.freed': 8002804121600, 'requested_bytes.large_pool.peak': 10315386880, 'requested_bytes.small_pool.allocated': 59628325478, 'requested_bytes.small_pool.current': 82060760, 'requested_bytes.small_pool.freed': 59546264718, 'requested_bytes.small_pool.peak': 151525868, 'reserved_bytes.all.allocated': 11066671104, 'reserved_bytes.all.current': 5620367360, 'reserved_bytes.all.freed': 5446303744, 'reserved_bytes.all.peak': 11066671104, 'reserved_bytes.large_pool.allocated': 10907287552, 'reserved_bytes.large_pool.current': 5528092672, 'reserved_bytes.large_pool.freed': 5379194880, 'reserved_bytes.large_pool.peak': 10907287552, 'reserved_bytes.small_pool.allocated': 159383552, 'reserved_bytes.small_pool.current': 92274688, 'reserved_bytes.small_pool.freed': 67108864, 'reserved_bytes.small_pool.peak': 159383552, 'segment.all.allocated': 475, 'segment.all.current': 268, 'segment.all.freed': 207, 'segment.all.peak': 475, 'segment.large_pool.allocated': 399, 'segment.large_pool.current': 224, 'segment.large_pool.freed': 175, 'segment.large_pool.peak': 399, 'segment.small_pool.allocated': 76, 'segment.small_pool.current': 44, 'segment.small_pool.freed': 32, 'segment.small_pool.peak': 76})\n"
     ]
    },
    {
     "name": "stderr",
     "output_type": "stream",
     "text": [
      "Some weights of EsmModel were not initialized from the model checkpoint at facebook/esm2_t33_650M_UR50D and are newly initialized: ['esm.pooler.dense.bias', 'esm.pooler.dense.weight']\n",
      "You should probably TRAIN this model on a down-stream task to be able to use it for predictions and inference.\n"
     ]
    },
    {
     "data": {
      "text/html": [
       "\n",
       "    <div>\n",
       "      \n",
       "      <progress value='220' max='220' style='width:300px; height:20px; vertical-align: middle;'></progress>\n",
       "      [220/220 00:56, Epoch 5/5]\n",
       "    </div>\n",
       "    <table border=\"1\" class=\"dataframe\">\n",
       "  <thead>\n",
       " <tr style=\"text-align: left;\">\n",
       "      <th>Epoch</th>\n",
       "      <th>Training Loss</th>\n",
       "      <th>Validation Loss</th>\n",
       "      <th>Accuracy</th>\n",
       "    </tr>\n",
       "  </thead>\n",
       "  <tbody>\n",
       "    <tr>\n",
       "      <td>1</td>\n",
       "      <td>0.610200</td>\n",
       "      <td>0.611033</td>\n",
       "      <td>0.458333</td>\n",
       "    </tr>\n",
       "    <tr>\n",
       "      <td>2</td>\n",
       "      <td>0.751700</td>\n",
       "      <td>0.588214</td>\n",
       "      <td>0.562500</td>\n",
       "    </tr>\n",
       "    <tr>\n",
       "      <td>3</td>\n",
       "      <td>0.531100</td>\n",
       "      <td>0.581404</td>\n",
       "      <td>0.541667</td>\n",
       "    </tr>\n",
       "    <tr>\n",
       "      <td>4</td>\n",
       "      <td>0.577400</td>\n",
       "      <td>0.577542</td>\n",
       "      <td>0.625000</td>\n",
       "    </tr>\n",
       "    <tr>\n",
       "      <td>5</td>\n",
       "      <td>0.605400</td>\n",
       "      <td>0.573947</td>\n",
       "      <td>0.708333</td>\n",
       "    </tr>\n",
       "  </tbody>\n",
       "</table><p>"
      ],
      "text/plain": [
       "<IPython.core.display.HTML object>"
      ]
     },
     "metadata": {},
     "output_type": "display_data"
    },
    {
     "name": "stderr",
     "output_type": "stream",
     "text": [
      "/home/kaustubh/miniforge3/envs/lora_esm/lib/python3.13/site-packages/peft/utils/save_and_load.py:246: UserWarning: Could not find a config file in  - will assume that the vocabulary was not modified.\n",
      "  warnings.warn(\n",
      "/home/kaustubh/miniforge3/envs/lora_esm/lib/python3.13/site-packages/peft/utils/save_and_load.py:246: UserWarning: Could not find a config file in  - will assume that the vocabulary was not modified.\n",
      "  warnings.warn(\n",
      "/home/kaustubh/miniforge3/envs/lora_esm/lib/python3.13/site-packages/peft/utils/save_and_load.py:246: UserWarning: Could not find a config file in  - will assume that the vocabulary was not modified.\n",
      "  warnings.warn(\n",
      "/home/kaustubh/miniforge3/envs/lora_esm/lib/python3.13/site-packages/peft/utils/save_and_load.py:246: UserWarning: Could not find a config file in  - will assume that the vocabulary was not modified.\n",
      "  warnings.warn(\n",
      "/home/kaustubh/miniforge3/envs/lora_esm/lib/python3.13/site-packages/peft/utils/save_and_load.py:246: UserWarning: Could not find a config file in  - will assume that the vocabulary was not modified.\n",
      "  warnings.warn(\n",
      "/home/kaustubh/miniforge3/envs/lora_esm/lib/python3.13/site-packages/peft/utils/save_and_load.py:246: UserWarning: Could not find a config file in  - will assume that the vocabulary was not modified.\n",
      "  warnings.warn(\n"
     ]
    },
    {
     "name": "stdout",
     "output_type": "stream",
     "text": [
      "Trial 3/10\n",
      "learning_rate:  0.000208\n",
      "OrderedDict({'active.all.allocated': 2452930, 'active.all.current': 3372, 'active.all.freed': 2449558, 'active.all.peak': 4308, 'active.large_pool.allocated': 1480352, 'active.large_pool.current': 602, 'active.large_pool.freed': 1479750, 'active.large_pool.peak': 1103, 'active.small_pool.allocated': 972578, 'active.small_pool.current': 2770, 'active.small_pool.freed': 969808, 'active.small_pool.peak': 3706, 'active_bytes.all.allocated': 16133324900352, 'active_bytes.all.current': 8155787264, 'active_bytes.all.freed': 16125169113088, 'active_bytes.all.peak': 13247129600, 'active_bytes.large_pool.allocated': 16013935802368, 'active_bytes.large_pool.current': 8046409728, 'active_bytes.large_pool.freed': 16005889392640, 'active_bytes.large_pool.peak': 13130692608, 'active_bytes.small_pool.allocated': 119389097984, 'active_bytes.small_pool.current': 109377536, 'active_bytes.small_pool.freed': 119279720448, 'active_bytes.small_pool.peak': 178844672, 'allocated_bytes.all.allocated': 16133324900352, 'allocated_bytes.all.current': 8155787264, 'allocated_bytes.all.freed': 16125169113088, 'allocated_bytes.all.peak': 13247129600, 'allocated_bytes.large_pool.allocated': 16013935802368, 'allocated_bytes.large_pool.current': 8046409728, 'allocated_bytes.large_pool.freed': 16005889392640, 'allocated_bytes.large_pool.peak': 13130692608, 'allocated_bytes.small_pool.allocated': 119389097984, 'allocated_bytes.small_pool.current': 109377536, 'allocated_bytes.small_pool.freed': 119279720448, 'allocated_bytes.small_pool.peak': 178844672, 'allocation.all.allocated': 2452930, 'allocation.all.current': 3372, 'allocation.all.freed': 2449558, 'allocation.all.peak': 4308, 'allocation.large_pool.allocated': 1480352, 'allocation.large_pool.current': 602, 'allocation.large_pool.freed': 1479750, 'allocation.large_pool.peak': 1103, 'allocation.small_pool.allocated': 972578, 'allocation.small_pool.current': 2770, 'allocation.small_pool.freed': 969808, 'allocation.small_pool.peak': 3706, 'inactive_split.all.allocated': 1254326, 'inactive_split.all.current': 256, 'inactive_split.all.freed': 1254070, 'inactive_split.all.peak': 358, 'inactive_split.large_pool.allocated': 1015127, 'inactive_split.large_pool.current': 137, 'inactive_split.large_pool.freed': 1014990, 'inactive_split.large_pool.peak': 146, 'inactive_split.small_pool.allocated': 239199, 'inactive_split.small_pool.current': 119, 'inactive_split.small_pool.freed': 239080, 'inactive_split.small_pool.peak': 221, 'inactive_split_bytes.all.allocated': 8807915684352, 'inactive_split_bytes.all.current': 222334976, 'inactive_split_bytes.all.freed': 8807693349376, 'inactive_split_bytes.all.peak': 389998080, 'inactive_split_bytes.large_pool.allocated': 8678947543040, 'inactive_split_bytes.large_pool.current': 203786240, 'inactive_split_bytes.large_pool.freed': 8678743756800, 'inactive_split_bytes.large_pool.peak': 371558400, 'inactive_split_bytes.small_pool.allocated': 128968141312, 'inactive_split_bytes.small_pool.current': 18548736, 'inactive_split_bytes.small_pool.freed': 128949592576, 'inactive_split_bytes.small_pool.peak': 61088256, 'max_split_size': -1, 'num_alloc_retries': 0, 'num_device_alloc': 805, 'num_device_free': 410, 'num_ooms': 0, 'num_sync_all_streams': 8, 'oversize_allocations.allocated': 0, 'oversize_allocations.current': 0, 'oversize_allocations.freed': 0, 'oversize_allocations.peak': 0, 'oversize_segments.allocated': 0, 'oversize_segments.current': 0, 'oversize_segments.freed': 0, 'oversize_segments.peak': 0, 'requested_bytes.all.allocated': 16132684409316, 'requested_bytes.all.current': 7947468992, 'requested_bytes.all.freed': 16124736940324, 'requested_bytes.all.peak': 13038807276, 'requested_bytes.large_pool.allocated': 16013446379520, 'requested_bytes.large_pool.current': 7838136320, 'requested_bytes.large_pool.freed': 16005608243200, 'requested_bytes.large_pool.peak': 12922419200, 'requested_bytes.small_pool.allocated': 119238029796, 'requested_bytes.small_pool.current': 109332672, 'requested_bytes.small_pool.freed': 119128697124, 'requested_bytes.small_pool.peak': 178797780, 'reserved_bytes.all.allocated': 19272826880, 'reserved_bytes.all.current': 8378122240, 'reserved_bytes.all.freed': 10894704640, 'reserved_bytes.all.peak': 13826523136, 'reserved_bytes.large_pool.allocated': 19019071488, 'reserved_bytes.large_pool.current': 8250195968, 'reserved_bytes.large_pool.freed': 10768875520, 'reserved_bytes.large_pool.peak': 13639876608, 'reserved_bytes.small_pool.allocated': 253755392, 'reserved_bytes.small_pool.current': 127926272, 'reserved_bytes.small_pool.freed': 125829120, 'reserved_bytes.small_pool.peak': 186646528, 'segment.all.allocated': 805, 'segment.all.current': 395, 'segment.all.freed': 410, 'segment.all.peak': 598, 'segment.large_pool.allocated': 684, 'segment.large_pool.current': 334, 'segment.large_pool.freed': 350, 'segment.large_pool.peak': 509, 'segment.small_pool.allocated': 121, 'segment.small_pool.current': 61, 'segment.small_pool.freed': 60, 'segment.small_pool.peak': 89})\n"
     ]
    },
    {
     "name": "stderr",
     "output_type": "stream",
     "text": [
      "Some weights of EsmModel were not initialized from the model checkpoint at facebook/esm2_t33_650M_UR50D and are newly initialized: ['esm.pooler.dense.bias', 'esm.pooler.dense.weight']\n",
      "You should probably TRAIN this model on a down-stream task to be able to use it for predictions and inference.\n"
     ]
    },
    {
     "data": {
      "text/html": [
       "\n",
       "    <div>\n",
       "      \n",
       "      <progress value='220' max='220' style='width:300px; height:20px; vertical-align: middle;'></progress>\n",
       "      [220/220 00:57, Epoch 5/5]\n",
       "    </div>\n",
       "    <table border=\"1\" class=\"dataframe\">\n",
       "  <thead>\n",
       " <tr style=\"text-align: left;\">\n",
       "      <th>Epoch</th>\n",
       "      <th>Training Loss</th>\n",
       "      <th>Validation Loss</th>\n",
       "      <th>Accuracy</th>\n",
       "    </tr>\n",
       "  </thead>\n",
       "  <tbody>\n",
       "    <tr>\n",
       "      <td>1</td>\n",
       "      <td>0.565300</td>\n",
       "      <td>0.576270</td>\n",
       "      <td>0.541667</td>\n",
       "    </tr>\n",
       "    <tr>\n",
       "      <td>2</td>\n",
       "      <td>0.817300</td>\n",
       "      <td>0.585255</td>\n",
       "      <td>0.479167</td>\n",
       "    </tr>\n",
       "    <tr>\n",
       "      <td>3</td>\n",
       "      <td>0.528300</td>\n",
       "      <td>0.578576</td>\n",
       "      <td>0.520833</td>\n",
       "    </tr>\n",
       "    <tr>\n",
       "      <td>4</td>\n",
       "      <td>0.573200</td>\n",
       "      <td>0.574012</td>\n",
       "      <td>0.562500</td>\n",
       "    </tr>\n",
       "    <tr>\n",
       "      <td>5</td>\n",
       "      <td>0.600500</td>\n",
       "      <td>0.569576</td>\n",
       "      <td>0.687500</td>\n",
       "    </tr>\n",
       "  </tbody>\n",
       "</table><p>"
      ],
      "text/plain": [
       "<IPython.core.display.HTML object>"
      ]
     },
     "metadata": {},
     "output_type": "display_data"
    },
    {
     "name": "stderr",
     "output_type": "stream",
     "text": [
      "/home/kaustubh/miniforge3/envs/lora_esm/lib/python3.13/site-packages/peft/utils/save_and_load.py:246: UserWarning: Could not find a config file in  - will assume that the vocabulary was not modified.\n",
      "  warnings.warn(\n",
      "/home/kaustubh/miniforge3/envs/lora_esm/lib/python3.13/site-packages/peft/utils/save_and_load.py:246: UserWarning: Could not find a config file in  - will assume that the vocabulary was not modified.\n",
      "  warnings.warn(\n",
      "/home/kaustubh/miniforge3/envs/lora_esm/lib/python3.13/site-packages/peft/utils/save_and_load.py:246: UserWarning: Could not find a config file in  - will assume that the vocabulary was not modified.\n",
      "  warnings.warn(\n",
      "/home/kaustubh/miniforge3/envs/lora_esm/lib/python3.13/site-packages/peft/utils/save_and_load.py:246: UserWarning: Could not find a config file in  - will assume that the vocabulary was not modified.\n",
      "  warnings.warn(\n",
      "/home/kaustubh/miniforge3/envs/lora_esm/lib/python3.13/site-packages/peft/utils/save_and_load.py:246: UserWarning: Could not find a config file in  - will assume that the vocabulary was not modified.\n",
      "  warnings.warn(\n",
      "/home/kaustubh/miniforge3/envs/lora_esm/lib/python3.13/site-packages/peft/utils/save_and_load.py:246: UserWarning: Could not find a config file in  - will assume that the vocabulary was not modified.\n",
      "  warnings.warn(\n"
     ]
    },
    {
     "name": "stdout",
     "output_type": "stream",
     "text": [
      "Trial 4/10\n",
      "learning_rate:  0.000307\n",
      "OrderedDict({'active.all.allocated': 3679009, 'active.all.current': 4208, 'active.all.freed': 3674801, 'active.all.peak': 5144, 'active.large_pool.allocated': 2220427, 'active.large_pool.current': 802, 'active.large_pool.freed': 2219625, 'active.large_pool.peak': 1303, 'active.small_pool.allocated': 1458582, 'active.small_pool.current': 3406, 'active.small_pool.freed': 1455176, 'active.small_pool.peak': 4342, 'active_bytes.all.allocated': 24198490491392, 'active_bytes.all.current': 10859312128, 'active_bytes.all.freed': 24187631179264, 'active_bytes.all.peak': 15950654464, 'active_bytes.large_pool.allocated': 24019416162304, 'active_bytes.large_pool.current': 10722648064, 'active_bytes.large_pool.freed': 24008693514240, 'active_bytes.large_pool.peak': 15806930944, 'active_bytes.small_pool.allocated': 179074329088, 'active_bytes.small_pool.current': 136664064, 'active_bytes.small_pool.freed': 178937665024, 'active_bytes.small_pool.peak': 206131200, 'allocated_bytes.all.allocated': 24198490491392, 'allocated_bytes.all.current': 10859312128, 'allocated_bytes.all.freed': 24187631179264, 'allocated_bytes.all.peak': 15950654464, 'allocated_bytes.large_pool.allocated': 24019416162304, 'allocated_bytes.large_pool.current': 10722648064, 'allocated_bytes.large_pool.freed': 24008693514240, 'allocated_bytes.large_pool.peak': 15806930944, 'allocated_bytes.small_pool.allocated': 179074329088, 'allocated_bytes.small_pool.current': 136664064, 'allocated_bytes.small_pool.freed': 178937665024, 'allocated_bytes.small_pool.peak': 206131200, 'allocation.all.allocated': 3679009, 'allocation.all.current': 4208, 'allocation.all.freed': 3674801, 'allocation.all.peak': 5144, 'allocation.large_pool.allocated': 2220427, 'allocation.large_pool.current': 802, 'allocation.large_pool.freed': 2219625, 'allocation.large_pool.peak': 1303, 'allocation.small_pool.allocated': 1458582, 'allocation.small_pool.current': 3406, 'allocation.small_pool.freed': 1455176, 'allocation.small_pool.peak': 4342, 'inactive_split.all.allocated': 1879691, 'inactive_split.all.current': 326, 'inactive_split.all.freed': 1879365, 'inactive_split.all.peak': 440, 'inactive_split.large_pool.allocated': 1502933, 'inactive_split.large_pool.current': 181, 'inactive_split.large_pool.freed': 1502752, 'inactive_split.large_pool.peak': 189, 'inactive_split.small_pool.allocated': 376758, 'inactive_split.small_pool.current': 145, 'inactive_split.small_pool.freed': 376613, 'inactive_split.small_pool.peak': 259, 'inactive_split_bytes.all.allocated': 13144066317312, 'inactive_split_bytes.all.current': 263982080, 'inactive_split_bytes.all.freed': 13143802335232, 'inactive_split_bytes.all.peak': 431645184, 'inactive_split_bytes.large_pool.allocated': 12950205224960, 'inactive_split_bytes.large_pool.current': 249651200, 'inactive_split_bytes.large_pool.freed': 12949955573760, 'inactive_split_bytes.large_pool.peak': 417423360, 'inactive_split_bytes.small_pool.allocated': 193861092352, 'inactive_split_bytes.small_pool.current': 14330880, 'inactive_split_bytes.small_pool.freed': 193846761472, 'inactive_split_bytes.small_pool.peak': 62715392, 'max_split_size': -1, 'num_alloc_retries': 0, 'num_device_alloc': 1131, 'num_device_free': 615, 'num_ooms': 0, 'num_sync_all_streams': 11, 'oversize_allocations.allocated': 0, 'oversize_allocations.current': 0, 'oversize_allocations.freed': 0, 'oversize_allocations.peak': 0, 'oversize_segments.allocated': 0, 'oversize_segments.current': 0, 'oversize_segments.freed': 0, 'oversize_segments.peak': 0, 'requested_bytes.all.allocated': 24197705267554, 'requested_bytes.all.current': 10581773224, 'requested_bytes.all.freed': 24187123494330, 'requested_bytes.all.peak': 15673111508, 'requested_bytes.large_pool.allocated': 24018857533440, 'requested_bytes.large_pool.current': 10445168640, 'requested_bytes.large_pool.freed': 24008412364800, 'requested_bytes.large_pool.peak': 15529451520, 'requested_bytes.small_pool.allocated': 178847734114, 'requested_bytes.small_pool.current': 136604584, 'requested_bytes.small_pool.freed': 178711129530, 'requested_bytes.small_pool.peak': 206069692, 'reserved_bytes.all.allocated': 27451719680, 'reserved_bytes.all.current': 11123294208, 'reserved_bytes.all.freed': 16328425472, 'reserved_bytes.all.peak': 16557015040, 'reserved_bytes.large_pool.allocated': 27109883904, 'reserved_bytes.large_pool.current': 10972299264, 'reserved_bytes.large_pool.freed': 16137584640, 'reserved_bytes.large_pool.peak': 16341008384, 'reserved_bytes.small_pool.allocated': 341835776, 'reserved_bytes.small_pool.current': 150994944, 'reserved_bytes.small_pool.freed': 190840832, 'reserved_bytes.small_pool.peak': 216006656, 'segment.all.allocated': 1131, 'segment.all.current': 516, 'segment.all.freed': 615, 'segment.all.peak': 721, 'segment.large_pool.allocated': 968, 'segment.large_pool.current': 444, 'segment.large_pool.freed': 524, 'segment.large_pool.peak': 618, 'segment.small_pool.allocated': 163, 'segment.small_pool.current': 72, 'segment.small_pool.freed': 91, 'segment.small_pool.peak': 103})\n"
     ]
    },
    {
     "name": "stderr",
     "output_type": "stream",
     "text": [
      "Some weights of EsmModel were not initialized from the model checkpoint at facebook/esm2_t33_650M_UR50D and are newly initialized: ['esm.pooler.dense.bias', 'esm.pooler.dense.weight']\n",
      "You should probably TRAIN this model on a down-stream task to be able to use it for predictions and inference.\n"
     ]
    },
    {
     "data": {
      "text/html": [
       "\n",
       "    <div>\n",
       "      \n",
       "      <progress value='220' max='220' style='width:300px; height:20px; vertical-align: middle;'></progress>\n",
       "      [220/220 00:58, Epoch 5/5]\n",
       "    </div>\n",
       "    <table border=\"1\" class=\"dataframe\">\n",
       "  <thead>\n",
       " <tr style=\"text-align: left;\">\n",
       "      <th>Epoch</th>\n",
       "      <th>Training Loss</th>\n",
       "      <th>Validation Loss</th>\n",
       "      <th>Accuracy</th>\n",
       "    </tr>\n",
       "  </thead>\n",
       "  <tbody>\n",
       "    <tr>\n",
       "      <td>1</td>\n",
       "      <td>0.543300</td>\n",
       "      <td>0.566162</td>\n",
       "      <td>0.604167</td>\n",
       "    </tr>\n",
       "    <tr>\n",
       "      <td>2</td>\n",
       "      <td>0.831500</td>\n",
       "      <td>0.579643</td>\n",
       "      <td>0.583333</td>\n",
       "    </tr>\n",
       "    <tr>\n",
       "      <td>3</td>\n",
       "      <td>0.528100</td>\n",
       "      <td>0.575207</td>\n",
       "      <td>0.625000</td>\n",
       "    </tr>\n",
       "    <tr>\n",
       "      <td>4</td>\n",
       "      <td>0.572300</td>\n",
       "      <td>0.572350</td>\n",
       "      <td>0.645833</td>\n",
       "    </tr>\n",
       "    <tr>\n",
       "      <td>5</td>\n",
       "      <td>0.599000</td>\n",
       "      <td>0.568428</td>\n",
       "      <td>0.666667</td>\n",
       "    </tr>\n",
       "  </tbody>\n",
       "</table><p>"
      ],
      "text/plain": [
       "<IPython.core.display.HTML object>"
      ]
     },
     "metadata": {},
     "output_type": "display_data"
    },
    {
     "name": "stderr",
     "output_type": "stream",
     "text": [
      "/home/kaustubh/miniforge3/envs/lora_esm/lib/python3.13/site-packages/peft/utils/save_and_load.py:246: UserWarning: Could not find a config file in  - will assume that the vocabulary was not modified.\n",
      "  warnings.warn(\n",
      "/home/kaustubh/miniforge3/envs/lora_esm/lib/python3.13/site-packages/peft/utils/save_and_load.py:246: UserWarning: Could not find a config file in  - will assume that the vocabulary was not modified.\n",
      "  warnings.warn(\n",
      "/home/kaustubh/miniforge3/envs/lora_esm/lib/python3.13/site-packages/peft/utils/save_and_load.py:246: UserWarning: Could not find a config file in  - will assume that the vocabulary was not modified.\n",
      "  warnings.warn(\n",
      "/home/kaustubh/miniforge3/envs/lora_esm/lib/python3.13/site-packages/peft/utils/save_and_load.py:246: UserWarning: Could not find a config file in  - will assume that the vocabulary was not modified.\n",
      "  warnings.warn(\n",
      "/home/kaustubh/miniforge3/envs/lora_esm/lib/python3.13/site-packages/peft/utils/save_and_load.py:246: UserWarning: Could not find a config file in  - will assume that the vocabulary was not modified.\n",
      "  warnings.warn(\n",
      "/home/kaustubh/miniforge3/envs/lora_esm/lib/python3.13/site-packages/peft/utils/save_and_load.py:246: UserWarning: Could not find a config file in  - will assume that the vocabulary was not modified.\n",
      "  warnings.warn(\n"
     ]
    },
    {
     "name": "stdout",
     "output_type": "stream",
     "text": [
      "Trial 5/10\n",
      "learning_rate:  0.000406\n",
      "OrderedDict({'active.all.allocated': 4905088, 'active.all.current': 5044, 'active.all.freed': 4900044, 'active.all.peak': 5980, 'active.large_pool.allocated': 2960502, 'active.large_pool.current': 1002, 'active.large_pool.freed': 2959500, 'active.large_pool.peak': 1503, 'active.small_pool.allocated': 1944586, 'active.small_pool.current': 4042, 'active.small_pool.freed': 1940544, 'active.small_pool.peak': 4978, 'active_bytes.all.allocated': 32263656082432, 'active_bytes.all.current': 13562836992, 'active_bytes.all.freed': 32250093245440, 'active_bytes.all.peak': 18654179328, 'active_bytes.large_pool.allocated': 32024896522240, 'active_bytes.large_pool.current': 13398886400, 'active_bytes.large_pool.freed': 32011497635840, 'active_bytes.large_pool.peak': 18483169280, 'active_bytes.small_pool.allocated': 238759560192, 'active_bytes.small_pool.current': 163950592, 'active_bytes.small_pool.freed': 238595609600, 'active_bytes.small_pool.peak': 233417728, 'allocated_bytes.all.allocated': 32263656082432, 'allocated_bytes.all.current': 13562836992, 'allocated_bytes.all.freed': 32250093245440, 'allocated_bytes.all.peak': 18654179328, 'allocated_bytes.large_pool.allocated': 32024896522240, 'allocated_bytes.large_pool.current': 13398886400, 'allocated_bytes.large_pool.freed': 32011497635840, 'allocated_bytes.large_pool.peak': 18483169280, 'allocated_bytes.small_pool.allocated': 238759560192, 'allocated_bytes.small_pool.current': 163950592, 'allocated_bytes.small_pool.freed': 238595609600, 'allocated_bytes.small_pool.peak': 233417728, 'allocation.all.allocated': 4905088, 'allocation.all.current': 5044, 'allocation.all.freed': 4900044, 'allocation.all.peak': 5980, 'allocation.large_pool.allocated': 2960502, 'allocation.large_pool.current': 1002, 'allocation.large_pool.freed': 2959500, 'allocation.large_pool.peak': 1503, 'allocation.small_pool.allocated': 1944586, 'allocation.small_pool.current': 4042, 'allocation.small_pool.freed': 1940544, 'allocation.small_pool.peak': 4978, 'inactive_split.all.allocated': 2550628, 'inactive_split.all.current': 404, 'inactive_split.all.freed': 2550224, 'inactive_split.all.peak': 529, 'inactive_split.large_pool.allocated': 2033248, 'inactive_split.large_pool.current': 226, 'inactive_split.large_pool.freed': 2033022, 'inactive_split.large_pool.peak': 232, 'inactive_split.small_pool.allocated': 517380, 'inactive_split.small_pool.current': 178, 'inactive_split.small_pool.freed': 517202, 'inactive_split.small_pool.peak': 303, 'inactive_split_bytes.all.allocated': 17594400620032, 'inactive_split_bytes.all.current': 328697856, 'inactive_split_bytes.all.freed': 17594071922176, 'inactive_split_bytes.all.peak': 498458112, 'inactive_split_bytes.large_pool.allocated': 17335222906880, 'inactive_split_bytes.large_pool.current': 316487680, 'inactive_split_bytes.large_pool.freed': 17334906419200, 'inactive_split_bytes.large_pool.peak': 484259840, 'inactive_split_bytes.small_pool.allocated': 259177713152, 'inactive_split_bytes.small_pool.current': 12210176, 'inactive_split_bytes.small_pool.freed': 259165502976, 'inactive_split_bytes.small_pool.peak': 62715392, 'max_split_size': -1, 'num_alloc_retries': 0, 'num_device_alloc': 1460, 'num_device_free': 821, 'num_ooms': 0, 'num_sync_all_streams': 14, 'oversize_allocations.allocated': 0, 'oversize_allocations.current': 0, 'oversize_allocations.freed': 0, 'oversize_allocations.peak': 0, 'oversize_segments.allocated': 0, 'oversize_segments.current': 0, 'oversize_segments.freed': 0, 'oversize_segments.peak': 0, 'requested_bytes.all.allocated': 32262726125792, 'requested_bytes.all.current': 13216077456, 'requested_bytes.all.freed': 32249510048336, 'requested_bytes.all.peak': 18307415740, 'requested_bytes.large_pool.allocated': 32024268687360, 'requested_bytes.large_pool.current': 13052200960, 'requested_bytes.large_pool.freed': 32011216486400, 'requested_bytes.large_pool.peak': 18136483840, 'requested_bytes.small_pool.allocated': 238457438432, 'requested_bytes.small_pool.current': 163876496, 'requested_bytes.small_pool.freed': 238293561936, 'requested_bytes.small_pool.peak': 233341604, 'reserved_bytes.all.allocated': 35655778304, 'reserved_bytes.all.current': 13891534848, 'reserved_bytes.all.freed': 21764243456, 'reserved_bytes.all.peak': 19327352832, 'reserved_bytes.large_pool.allocated': 35221667840, 'reserved_bytes.large_pool.current': 13715374080, 'reserved_bytes.large_pool.freed': 21506293760, 'reserved_bytes.large_pool.peak': 19084083200, 'reserved_bytes.small_pool.allocated': 434110464, 'reserved_bytes.small_pool.current': 176160768, 'reserved_bytes.small_pool.freed': 257949696, 'reserved_bytes.small_pool.peak': 243269632, 'segment.all.allocated': 1460, 'segment.all.current': 639, 'segment.all.freed': 821, 'segment.all.peak': 845, 'segment.large_pool.allocated': 1253, 'segment.large_pool.current': 555, 'segment.large_pool.freed': 698, 'segment.large_pool.peak': 729, 'segment.small_pool.allocated': 207, 'segment.small_pool.current': 84, 'segment.small_pool.freed': 123, 'segment.small_pool.peak': 116})\n"
     ]
    },
    {
     "name": "stderr",
     "output_type": "stream",
     "text": [
      "Some weights of EsmModel were not initialized from the model checkpoint at facebook/esm2_t33_650M_UR50D and are newly initialized: ['esm.pooler.dense.bias', 'esm.pooler.dense.weight']\n",
      "You should probably TRAIN this model on a down-stream task to be able to use it for predictions and inference.\n"
     ]
    },
    {
     "data": {
      "text/html": [
       "\n",
       "    <div>\n",
       "      \n",
       "      <progress value='220' max='220' style='width:300px; height:20px; vertical-align: middle;'></progress>\n",
       "      [220/220 00:58, Epoch 5/5]\n",
       "    </div>\n",
       "    <table border=\"1\" class=\"dataframe\">\n",
       "  <thead>\n",
       " <tr style=\"text-align: left;\">\n",
       "      <th>Epoch</th>\n",
       "      <th>Training Loss</th>\n",
       "      <th>Validation Loss</th>\n",
       "      <th>Accuracy</th>\n",
       "    </tr>\n",
       "  </thead>\n",
       "  <tbody>\n",
       "    <tr>\n",
       "      <td>1</td>\n",
       "      <td>0.533300</td>\n",
       "      <td>0.563965</td>\n",
       "      <td>0.625000</td>\n",
       "    </tr>\n",
       "    <tr>\n",
       "      <td>2</td>\n",
       "      <td>0.833700</td>\n",
       "      <td>0.579636</td>\n",
       "      <td>0.562500</td>\n",
       "    </tr>\n",
       "    <tr>\n",
       "      <td>3</td>\n",
       "      <td>0.530300</td>\n",
       "      <td>0.575090</td>\n",
       "      <td>0.604167</td>\n",
       "    </tr>\n",
       "    <tr>\n",
       "      <td>4</td>\n",
       "      <td>0.572100</td>\n",
       "      <td>0.571647</td>\n",
       "      <td>0.625000</td>\n",
       "    </tr>\n",
       "    <tr>\n",
       "      <td>5</td>\n",
       "      <td>0.597400</td>\n",
       "      <td>0.567431</td>\n",
       "      <td>0.666667</td>\n",
       "    </tr>\n",
       "  </tbody>\n",
       "</table><p>"
      ],
      "text/plain": [
       "<IPython.core.display.HTML object>"
      ]
     },
     "metadata": {},
     "output_type": "display_data"
    },
    {
     "name": "stderr",
     "output_type": "stream",
     "text": [
      "/home/kaustubh/miniforge3/envs/lora_esm/lib/python3.13/site-packages/peft/utils/save_and_load.py:246: UserWarning: Could not find a config file in  - will assume that the vocabulary was not modified.\n",
      "  warnings.warn(\n",
      "/home/kaustubh/miniforge3/envs/lora_esm/lib/python3.13/site-packages/peft/utils/save_and_load.py:246: UserWarning: Could not find a config file in  - will assume that the vocabulary was not modified.\n",
      "  warnings.warn(\n",
      "/home/kaustubh/miniforge3/envs/lora_esm/lib/python3.13/site-packages/peft/utils/save_and_load.py:246: UserWarning: Could not find a config file in  - will assume that the vocabulary was not modified.\n",
      "  warnings.warn(\n",
      "/home/kaustubh/miniforge3/envs/lora_esm/lib/python3.13/site-packages/peft/utils/save_and_load.py:246: UserWarning: Could not find a config file in  - will assume that the vocabulary was not modified.\n",
      "  warnings.warn(\n",
      "/home/kaustubh/miniforge3/envs/lora_esm/lib/python3.13/site-packages/peft/utils/save_and_load.py:246: UserWarning: Could not find a config file in  - will assume that the vocabulary was not modified.\n",
      "  warnings.warn(\n",
      "/home/kaustubh/miniforge3/envs/lora_esm/lib/python3.13/site-packages/peft/utils/save_and_load.py:246: UserWarning: Could not find a config file in  - will assume that the vocabulary was not modified.\n",
      "  warnings.warn(\n"
     ]
    },
    {
     "name": "stdout",
     "output_type": "stream",
     "text": [
      "Trial 6/10\n",
      "learning_rate:  0.000505\n",
      "OrderedDict({'active.all.allocated': 6131167, 'active.all.current': 5880, 'active.all.freed': 6125287, 'active.all.peak': 6816, 'active.large_pool.allocated': 3700577, 'active.large_pool.current': 1202, 'active.large_pool.freed': 3699375, 'active.large_pool.peak': 1703, 'active.small_pool.allocated': 2430590, 'active.small_pool.current': 4678, 'active.small_pool.freed': 2425912, 'active.small_pool.peak': 5614, 'active_bytes.all.allocated': 40328821673472, 'active_bytes.all.current': 16266361856, 'active_bytes.all.freed': 40312555311616, 'active_bytes.all.peak': 21357704192, 'active_bytes.large_pool.allocated': 40030376882176, 'active_bytes.large_pool.current': 16075124736, 'active_bytes.large_pool.freed': 40014301757440, 'active_bytes.large_pool.peak': 21159407616, 'active_bytes.small_pool.allocated': 298444791296, 'active_bytes.small_pool.current': 191237120, 'active_bytes.small_pool.freed': 298253554176, 'active_bytes.small_pool.peak': 260704256, 'allocated_bytes.all.allocated': 40328821673472, 'allocated_bytes.all.current': 16266361856, 'allocated_bytes.all.freed': 40312555311616, 'allocated_bytes.all.peak': 21357704192, 'allocated_bytes.large_pool.allocated': 40030376882176, 'allocated_bytes.large_pool.current': 16075124736, 'allocated_bytes.large_pool.freed': 40014301757440, 'allocated_bytes.large_pool.peak': 21159407616, 'allocated_bytes.small_pool.allocated': 298444791296, 'allocated_bytes.small_pool.current': 191237120, 'allocated_bytes.small_pool.freed': 298253554176, 'allocated_bytes.small_pool.peak': 260704256, 'allocation.all.allocated': 6131167, 'allocation.all.current': 5880, 'allocation.all.freed': 6125287, 'allocation.all.peak': 6816, 'allocation.large_pool.allocated': 3700577, 'allocation.large_pool.current': 1202, 'allocation.large_pool.freed': 3699375, 'allocation.large_pool.peak': 1703, 'allocation.small_pool.allocated': 2430590, 'allocation.small_pool.current': 4678, 'allocation.small_pool.freed': 2425912, 'allocation.small_pool.peak': 5614, 'inactive_split.all.allocated': 3196275, 'inactive_split.all.current': 482, 'inactive_split.all.freed': 3195793, 'inactive_split.all.peak': 603, 'inactive_split.large_pool.allocated': 2537368, 'inactive_split.large_pool.current': 271, 'inactive_split.large_pool.freed': 2537097, 'inactive_split.large_pool.peak': 281, 'inactive_split.small_pool.allocated': 658907, 'inactive_split.small_pool.current': 211, 'inactive_split.small_pool.freed': 658696, 'inactive_split.small_pool.peak': 332, 'inactive_split_bytes.all.allocated': 22025831749632, 'inactive_split_bytes.all.current': 397607936, 'inactive_split_bytes.all.freed': 22025434141696, 'inactive_split_bytes.all.peak': 567368192, 'inactive_split_bytes.large_pool.allocated': 21701750272000, 'inactive_split_bytes.large_pool.current': 383324160, 'inactive_split_bytes.large_pool.freed': 21701366947840, 'inactive_split_bytes.large_pool.peak': 551096320, 'inactive_split_bytes.small_pool.allocated': 324081477632, 'inactive_split_bytes.small_pool.current': 14283776, 'inactive_split_bytes.small_pool.freed': 324067193856, 'inactive_split_bytes.small_pool.peak': 62715392, 'max_split_size': -1, 'num_alloc_retries': 0, 'num_device_alloc': 1790, 'num_device_free': 1026, 'num_ooms': 0, 'num_sync_all_streams': 17, 'oversize_allocations.allocated': 0, 'oversize_allocations.current': 0, 'oversize_allocations.freed': 0, 'oversize_allocations.peak': 0, 'oversize_segments.allocated': 0, 'oversize_segments.current': 0, 'oversize_segments.freed': 0, 'oversize_segments.peak': 0, 'requested_bytes.all.allocated': 40327746984030, 'requested_bytes.all.current': 15850381688, 'requested_bytes.all.freed': 40311896602342, 'requested_bytes.all.peak': 20941719972, 'requested_bytes.large_pool.allocated': 40029679841280, 'requested_bytes.large_pool.current': 15659233280, 'requested_bytes.large_pool.freed': 40014020608000, 'requested_bytes.large_pool.peak': 20743516160, 'requested_bytes.small_pool.allocated': 298067142750, 'requested_bytes.small_pool.current': 191148408, 'requested_bytes.small_pool.freed': 297875994342, 'requested_bytes.small_pool.peak': 260613516, 'reserved_bytes.all.allocated': 43861934080, 'reserved_bytes.all.current': 16663969792, 'reserved_bytes.all.freed': 27197964288, 'reserved_bytes.all.peak': 22097690624, 'reserved_bytes.large_pool.allocated': 43333451776, 'reserved_bytes.large_pool.current': 16458448896, 'reserved_bytes.large_pool.freed': 26875002880, 'reserved_bytes.large_pool.peak': 21827158016, 'reserved_bytes.small_pool.allocated': 528482304, 'reserved_bytes.small_pool.current': 205520896, 'reserved_bytes.small_pool.freed': 322961408, 'reserved_bytes.small_pool.peak': 270532608, 'segment.all.allocated': 1790, 'segment.all.current': 764, 'segment.all.freed': 1026, 'segment.all.peak': 969, 'segment.large_pool.allocated': 1538, 'segment.large_pool.current': 666, 'segment.large_pool.freed': 872, 'segment.large_pool.peak': 840, 'segment.small_pool.allocated': 252, 'segment.small_pool.current': 98, 'segment.small_pool.freed': 154, 'segment.small_pool.peak': 129})\n"
     ]
    },
    {
     "name": "stderr",
     "output_type": "stream",
     "text": [
      "Some weights of EsmModel were not initialized from the model checkpoint at facebook/esm2_t33_650M_UR50D and are newly initialized: ['esm.pooler.dense.bias', 'esm.pooler.dense.weight']\n",
      "You should probably TRAIN this model on a down-stream task to be able to use it for predictions and inference.\n"
     ]
    },
    {
     "data": {
      "text/html": [
       "\n",
       "    <div>\n",
       "      \n",
       "      <progress value='220' max='220' style='width:300px; height:20px; vertical-align: middle;'></progress>\n",
       "      [220/220 00:59, Epoch 5/5]\n",
       "    </div>\n",
       "    <table border=\"1\" class=\"dataframe\">\n",
       "  <thead>\n",
       " <tr style=\"text-align: left;\">\n",
       "      <th>Epoch</th>\n",
       "      <th>Training Loss</th>\n",
       "      <th>Validation Loss</th>\n",
       "      <th>Accuracy</th>\n",
       "    </tr>\n",
       "  </thead>\n",
       "  <tbody>\n",
       "    <tr>\n",
       "      <td>1</td>\n",
       "      <td>0.529800</td>\n",
       "      <td>0.563961</td>\n",
       "      <td>0.500000</td>\n",
       "    </tr>\n",
       "    <tr>\n",
       "      <td>2</td>\n",
       "      <td>0.834300</td>\n",
       "      <td>0.582086</td>\n",
       "      <td>0.625000</td>\n",
       "    </tr>\n",
       "    <tr>\n",
       "      <td>3</td>\n",
       "      <td>0.532900</td>\n",
       "      <td>0.575485</td>\n",
       "      <td>0.666667</td>\n",
       "    </tr>\n",
       "    <tr>\n",
       "      <td>4</td>\n",
       "      <td>0.572700</td>\n",
       "      <td>0.571726</td>\n",
       "      <td>0.729167</td>\n",
       "    </tr>\n",
       "    <tr>\n",
       "      <td>5</td>\n",
       "      <td>0.598100</td>\n",
       "      <td>0.567282</td>\n",
       "      <td>0.729167</td>\n",
       "    </tr>\n",
       "  </tbody>\n",
       "</table><p>"
      ],
      "text/plain": [
       "<IPython.core.display.HTML object>"
      ]
     },
     "metadata": {},
     "output_type": "display_data"
    },
    {
     "name": "stderr",
     "output_type": "stream",
     "text": [
      "/home/kaustubh/miniforge3/envs/lora_esm/lib/python3.13/site-packages/peft/utils/save_and_load.py:246: UserWarning: Could not find a config file in  - will assume that the vocabulary was not modified.\n",
      "  warnings.warn(\n",
      "/home/kaustubh/miniforge3/envs/lora_esm/lib/python3.13/site-packages/peft/utils/save_and_load.py:246: UserWarning: Could not find a config file in  - will assume that the vocabulary was not modified.\n",
      "  warnings.warn(\n",
      "/home/kaustubh/miniforge3/envs/lora_esm/lib/python3.13/site-packages/peft/utils/save_and_load.py:246: UserWarning: Could not find a config file in  - will assume that the vocabulary was not modified.\n",
      "  warnings.warn(\n",
      "/home/kaustubh/miniforge3/envs/lora_esm/lib/python3.13/site-packages/peft/utils/save_and_load.py:246: UserWarning: Could not find a config file in  - will assume that the vocabulary was not modified.\n",
      "  warnings.warn(\n",
      "/home/kaustubh/miniforge3/envs/lora_esm/lib/python3.13/site-packages/peft/utils/save_and_load.py:246: UserWarning: Could not find a config file in  - will assume that the vocabulary was not modified.\n",
      "  warnings.warn(\n",
      "/home/kaustubh/miniforge3/envs/lora_esm/lib/python3.13/site-packages/peft/utils/save_and_load.py:246: UserWarning: Could not find a config file in  - will assume that the vocabulary was not modified.\n",
      "  warnings.warn(\n"
     ]
    },
    {
     "name": "stdout",
     "output_type": "stream",
     "text": [
      "Trial 7/10\n",
      "learning_rate:  0.0006039999999999999\n",
      "OrderedDict({'active.all.allocated': 7357246, 'active.all.current': 6716, 'active.all.freed': 7350530, 'active.all.peak': 7652, 'active.large_pool.allocated': 4440652, 'active.large_pool.current': 1402, 'active.large_pool.freed': 4439250, 'active.large_pool.peak': 1903, 'active.small_pool.allocated': 2916594, 'active.small_pool.current': 5314, 'active.small_pool.freed': 2911280, 'active.small_pool.peak': 6250, 'active_bytes.all.allocated': 48393987264512, 'active_bytes.all.current': 18969886720, 'active_bytes.all.freed': 48375017377792, 'active_bytes.all.peak': 24061229056, 'active_bytes.large_pool.allocated': 48035857242112, 'active_bytes.large_pool.current': 18751363072, 'active_bytes.large_pool.freed': 48017105879040, 'active_bytes.large_pool.peak': 23835645952, 'active_bytes.small_pool.allocated': 358130022400, 'active_bytes.small_pool.current': 218523648, 'active_bytes.small_pool.freed': 357911498752, 'active_bytes.small_pool.peak': 287990784, 'allocated_bytes.all.allocated': 48393987264512, 'allocated_bytes.all.current': 18969886720, 'allocated_bytes.all.freed': 48375017377792, 'allocated_bytes.all.peak': 24061229056, 'allocated_bytes.large_pool.allocated': 48035857242112, 'allocated_bytes.large_pool.current': 18751363072, 'allocated_bytes.large_pool.freed': 48017105879040, 'allocated_bytes.large_pool.peak': 23835645952, 'allocated_bytes.small_pool.allocated': 358130022400, 'allocated_bytes.small_pool.current': 218523648, 'allocated_bytes.small_pool.freed': 357911498752, 'allocated_bytes.small_pool.peak': 287990784, 'allocation.all.allocated': 7357246, 'allocation.all.current': 6716, 'allocation.all.freed': 7350530, 'allocation.all.peak': 7652, 'allocation.large_pool.allocated': 4440652, 'allocation.large_pool.current': 1402, 'allocation.large_pool.freed': 4439250, 'allocation.large_pool.peak': 1903, 'allocation.small_pool.allocated': 2916594, 'allocation.small_pool.current': 5314, 'allocation.small_pool.freed': 2911280, 'allocation.small_pool.peak': 6250, 'inactive_split.all.allocated': 3830411, 'inactive_split.all.current': 563, 'inactive_split.all.freed': 3829848, 'inactive_split.all.peak': 685, 'inactive_split.large_pool.allocated': 3025174, 'inactive_split.large_pool.current': 315, 'inactive_split.large_pool.freed': 3024859, 'inactive_split.large_pool.peak': 323, 'inactive_split.small_pool.allocated': 805237, 'inactive_split.small_pool.current': 248, 'inactive_split.small_pool.freed': 804989, 'inactive_split.small_pool.peak': 370, 'inactive_split_bytes.all.allocated': 26361624250880, 'inactive_split_bytes.all.current': 443449344, 'inactive_split_bytes.all.freed': 26361180801536, 'inactive_split_bytes.all.peak': 613209600, 'inactive_split_bytes.large_pool.allocated': 25973007953920, 'inactive_split_bytes.large_pool.current': 429189120, 'inactive_split_bytes.large_pool.freed': 25972578764800, 'inactive_split_bytes.large_pool.peak': 596961280, 'inactive_split_bytes.small_pool.allocated': 388616296960, 'inactive_split_bytes.small_pool.current': 14260224, 'inactive_split_bytes.small_pool.freed': 388602036736, 'inactive_split_bytes.small_pool.peak': 62715392, 'max_split_size': -1, 'num_alloc_retries': 0, 'num_device_alloc': 2118, 'num_device_free': 1231, 'num_ooms': 0, 'num_sync_all_streams': 20, 'oversize_allocations.allocated': 0, 'oversize_allocations.current': 0, 'oversize_allocations.freed': 0, 'oversize_allocations.peak': 0, 'oversize_segments.allocated': 0, 'oversize_segments.current': 0, 'oversize_segments.freed': 0, 'oversize_segments.peak': 0, 'requested_bytes.all.allocated': 48392767842268, 'requested_bytes.all.current': 18484685920, 'requested_bytes.all.freed': 48374283156348, 'requested_bytes.all.peak': 23576024204, 'requested_bytes.large_pool.allocated': 48035090995200, 'requested_bytes.large_pool.current': 18266265600, 'requested_bytes.large_pool.freed': 48016824729600, 'requested_bytes.large_pool.peak': 23350548480, 'requested_bytes.small_pool.allocated': 357676847068, 'requested_bytes.small_pool.current': 218420320, 'requested_bytes.small_pool.freed': 357458426748, 'requested_bytes.small_pool.peak': 287885428, 'reserved_bytes.all.allocated': 52045021184, 'reserved_bytes.all.current': 19413336064, 'reserved_bytes.all.freed': 32631685120, 'reserved_bytes.all.peak': 24847056896, 'reserved_bytes.large_pool.allocated': 51424264192, 'reserved_bytes.large_pool.current': 19180552192, 'reserved_bytes.large_pool.freed': 32243712000, 'reserved_bytes.large_pool.peak': 24549261312, 'reserved_bytes.small_pool.allocated': 620756992, 'reserved_bytes.small_pool.current': 232783872, 'reserved_bytes.small_pool.freed': 387973120, 'reserved_bytes.small_pool.peak': 297795584, 'segment.all.allocated': 2118, 'segment.all.current': 887, 'segment.all.freed': 1231, 'segment.all.peak': 1092, 'segment.large_pool.allocated': 1822, 'segment.large_pool.current': 776, 'segment.large_pool.freed': 1046, 'segment.large_pool.peak': 950, 'segment.small_pool.allocated': 296, 'segment.small_pool.current': 111, 'segment.small_pool.freed': 185, 'segment.small_pool.peak': 142})\n"
     ]
    },
    {
     "name": "stderr",
     "output_type": "stream",
     "text": [
      "Some weights of EsmModel were not initialized from the model checkpoint at facebook/esm2_t33_650M_UR50D and are newly initialized: ['esm.pooler.dense.bias', 'esm.pooler.dense.weight']\n",
      "You should probably TRAIN this model on a down-stream task to be able to use it for predictions and inference.\n"
     ]
    },
    {
     "data": {
      "text/html": [
       "\n",
       "    <div>\n",
       "      \n",
       "      <progress value='220' max='220' style='width:300px; height:20px; vertical-align: middle;'></progress>\n",
       "      [220/220 00:58, Epoch 5/5]\n",
       "    </div>\n",
       "    <table border=\"1\" class=\"dataframe\">\n",
       "  <thead>\n",
       " <tr style=\"text-align: left;\">\n",
       "      <th>Epoch</th>\n",
       "      <th>Training Loss</th>\n",
       "      <th>Validation Loss</th>\n",
       "      <th>Accuracy</th>\n",
       "    </tr>\n",
       "  </thead>\n",
       "  <tbody>\n",
       "    <tr>\n",
       "      <td>1</td>\n",
       "      <td>0.526900</td>\n",
       "      <td>0.563312</td>\n",
       "      <td>0.479167</td>\n",
       "    </tr>\n",
       "    <tr>\n",
       "      <td>2</td>\n",
       "      <td>0.829300</td>\n",
       "      <td>0.587829</td>\n",
       "      <td>0.604167</td>\n",
       "    </tr>\n",
       "    <tr>\n",
       "      <td>3</td>\n",
       "      <td>0.535100</td>\n",
       "      <td>0.575984</td>\n",
       "      <td>0.666667</td>\n",
       "    </tr>\n",
       "    <tr>\n",
       "      <td>4</td>\n",
       "      <td>0.573500</td>\n",
       "      <td>0.571352</td>\n",
       "      <td>0.687500</td>\n",
       "    </tr>\n",
       "    <tr>\n",
       "      <td>5</td>\n",
       "      <td>0.598400</td>\n",
       "      <td>0.565621</td>\n",
       "      <td>0.645833</td>\n",
       "    </tr>\n",
       "  </tbody>\n",
       "</table><p>"
      ],
      "text/plain": [
       "<IPython.core.display.HTML object>"
      ]
     },
     "metadata": {},
     "output_type": "display_data"
    },
    {
     "name": "stderr",
     "output_type": "stream",
     "text": [
      "/home/kaustubh/miniforge3/envs/lora_esm/lib/python3.13/site-packages/peft/utils/save_and_load.py:246: UserWarning: Could not find a config file in  - will assume that the vocabulary was not modified.\n",
      "  warnings.warn(\n",
      "/home/kaustubh/miniforge3/envs/lora_esm/lib/python3.13/site-packages/peft/utils/save_and_load.py:246: UserWarning: Could not find a config file in  - will assume that the vocabulary was not modified.\n",
      "  warnings.warn(\n",
      "/home/kaustubh/miniforge3/envs/lora_esm/lib/python3.13/site-packages/peft/utils/save_and_load.py:246: UserWarning: Could not find a config file in  - will assume that the vocabulary was not modified.\n",
      "  warnings.warn(\n",
      "/home/kaustubh/miniforge3/envs/lora_esm/lib/python3.13/site-packages/peft/utils/save_and_load.py:246: UserWarning: Could not find a config file in  - will assume that the vocabulary was not modified.\n",
      "  warnings.warn(\n",
      "/home/kaustubh/miniforge3/envs/lora_esm/lib/python3.13/site-packages/peft/utils/save_and_load.py:246: UserWarning: Could not find a config file in  - will assume that the vocabulary was not modified.\n",
      "  warnings.warn(\n",
      "/home/kaustubh/miniforge3/envs/lora_esm/lib/python3.13/site-packages/peft/utils/save_and_load.py:246: UserWarning: Could not find a config file in  - will assume that the vocabulary was not modified.\n",
      "  warnings.warn(\n"
     ]
    },
    {
     "name": "stdout",
     "output_type": "stream",
     "text": [
      "Trial 8/10\n",
      "learning_rate:  0.000703\n",
      "OrderedDict({'active.all.allocated': 8583325, 'active.all.current': 7552, 'active.all.freed': 8575773, 'active.all.peak': 8488, 'active.large_pool.allocated': 5180727, 'active.large_pool.current': 1602, 'active.large_pool.freed': 5179125, 'active.large_pool.peak': 2103, 'active.small_pool.allocated': 3402598, 'active.small_pool.current': 5950, 'active.small_pool.freed': 3396648, 'active.small_pool.peak': 6886, 'active_bytes.all.allocated': 56459152855552, 'active_bytes.all.current': 21673411584, 'active_bytes.all.freed': 56437479443968, 'active_bytes.all.peak': 26764753920, 'active_bytes.large_pool.allocated': 56041337602048, 'active_bytes.large_pool.current': 21427601408, 'active_bytes.large_pool.freed': 56019910000640, 'active_bytes.large_pool.peak': 26511884288, 'active_bytes.small_pool.allocated': 417815253504, 'active_bytes.small_pool.current': 245810176, 'active_bytes.small_pool.freed': 417569443328, 'active_bytes.small_pool.peak': 315277312, 'allocated_bytes.all.allocated': 56459152855552, 'allocated_bytes.all.current': 21673411584, 'allocated_bytes.all.freed': 56437479443968, 'allocated_bytes.all.peak': 26764753920, 'allocated_bytes.large_pool.allocated': 56041337602048, 'allocated_bytes.large_pool.current': 21427601408, 'allocated_bytes.large_pool.freed': 56019910000640, 'allocated_bytes.large_pool.peak': 26511884288, 'allocated_bytes.small_pool.allocated': 417815253504, 'allocated_bytes.small_pool.current': 245810176, 'allocated_bytes.small_pool.freed': 417569443328, 'allocated_bytes.small_pool.peak': 315277312, 'allocation.all.allocated': 8583325, 'allocation.all.current': 7552, 'allocation.all.freed': 8575773, 'allocation.all.peak': 8488, 'allocation.large_pool.allocated': 5180727, 'allocation.large_pool.current': 1602, 'allocation.large_pool.freed': 5179125, 'allocation.large_pool.peak': 2103, 'allocation.small_pool.allocated': 3402598, 'allocation.small_pool.current': 5950, 'allocation.small_pool.freed': 3396648, 'allocation.small_pool.peak': 6886, 'inactive_split.all.allocated': 4508567, 'inactive_split.all.current': 647, 'inactive_split.all.freed': 4507920, 'inactive_split.all.peak': 759, 'inactive_split.large_pool.allocated': 3555489, 'inactive_split.large_pool.current': 360, 'inactive_split.large_pool.freed': 3555129, 'inactive_split.large_pool.peak': 366, 'inactive_split.small_pool.allocated': 953078, 'inactive_split.small_pool.current': 287, 'inactive_split.small_pool.freed': 952791, 'inactive_split.small_pool.peak': 399, 'inactive_split_bytes.all.allocated': 30810703836160, 'inactive_split_bytes.all.current': 514456576, 'inactive_split_bytes.all.freed': 30810189379584, 'inactive_split_bytes.all.peak': 682119680, 'inactive_split_bytes.large_pool.allocated': 30358025635840, 'inactive_split_bytes.large_pool.current': 496025600, 'inactive_split_bytes.large_pool.freed': 30357529610240, 'inactive_split_bytes.large_pool.peak': 663797760, 'inactive_split_bytes.small_pool.allocated': 452678200320, 'inactive_split_bytes.small_pool.current': 18430976, 'inactive_split_bytes.small_pool.freed': 452659769344, 'inactive_split_bytes.small_pool.peak': 62715392, 'max_split_size': -1, 'num_alloc_retries': 0, 'num_device_alloc': 2447, 'num_device_free': 1434, 'num_ooms': 0, 'num_sync_all_streams': 23, 'oversize_allocations.allocated': 0, 'oversize_allocations.current': 0, 'oversize_allocations.freed': 0, 'oversize_allocations.peak': 0, 'oversize_segments.allocated': 0, 'oversize_segments.current': 0, 'oversize_segments.freed': 0, 'oversize_segments.peak': 0, 'requested_bytes.all.allocated': 56457788700506, 'requested_bytes.all.current': 21118990152, 'requested_bytes.all.freed': 56436669710354, 'requested_bytes.all.peak': 26210328436, 'requested_bytes.large_pool.allocated': 56040502149120, 'requested_bytes.large_pool.current': 20873297920, 'requested_bytes.large_pool.freed': 56019628851200, 'requested_bytes.large_pool.peak': 25957580800, 'requested_bytes.small_pool.allocated': 417286551386, 'requested_bytes.small_pool.current': 245692232, 'requested_bytes.small_pool.freed': 417040859154, 'requested_bytes.small_pool.peak': 315157340, 'reserved_bytes.all.allocated': 60249079808, 'reserved_bytes.all.current': 22187868160, 'reserved_bytes.all.freed': 38061211648, 'reserved_bytes.all.peak': 27617394688, 'reserved_bytes.large_pool.allocated': 59536048128, 'reserved_bytes.large_pool.current': 21923627008, 'reserved_bytes.large_pool.freed': 37612421120, 'reserved_bytes.large_pool.peak': 27292336128, 'reserved_bytes.small_pool.allocated': 713031680, 'reserved_bytes.small_pool.current': 264241152, 'reserved_bytes.small_pool.freed': 448790528, 'reserved_bytes.small_pool.peak': 325058560, 'segment.all.allocated': 2447, 'segment.all.current': 1013, 'segment.all.freed': 1434, 'segment.all.peak': 1216, 'segment.large_pool.allocated': 2107, 'segment.large_pool.current': 887, 'segment.large_pool.freed': 1220, 'segment.large_pool.peak': 1061, 'segment.small_pool.allocated': 340, 'segment.small_pool.current': 126, 'segment.small_pool.freed': 214, 'segment.small_pool.peak': 155})\n"
     ]
    },
    {
     "name": "stderr",
     "output_type": "stream",
     "text": [
      "Some weights of EsmModel were not initialized from the model checkpoint at facebook/esm2_t33_650M_UR50D and are newly initialized: ['esm.pooler.dense.bias', 'esm.pooler.dense.weight']\n",
      "You should probably TRAIN this model on a down-stream task to be able to use it for predictions and inference.\n"
     ]
    },
    {
     "data": {
      "text/html": [
       "\n",
       "    <div>\n",
       "      \n",
       "      <progress value='220' max='220' style='width:300px; height:20px; vertical-align: middle;'></progress>\n",
       "      [220/220 00:58, Epoch 5/5]\n",
       "    </div>\n",
       "    <table border=\"1\" class=\"dataframe\">\n",
       "  <thead>\n",
       " <tr style=\"text-align: left;\">\n",
       "      <th>Epoch</th>\n",
       "      <th>Training Loss</th>\n",
       "      <th>Validation Loss</th>\n",
       "      <th>Accuracy</th>\n",
       "    </tr>\n",
       "  </thead>\n",
       "  <tbody>\n",
       "    <tr>\n",
       "      <td>1</td>\n",
       "      <td>0.525600</td>\n",
       "      <td>0.592878</td>\n",
       "      <td>0.208333</td>\n",
       "    </tr>\n",
       "    <tr>\n",
       "      <td>2</td>\n",
       "      <td>0.831000</td>\n",
       "      <td>0.649343</td>\n",
       "      <td>0.583333</td>\n",
       "    </tr>\n",
       "    <tr>\n",
       "      <td>3</td>\n",
       "      <td>0.537300</td>\n",
       "      <td>0.566597</td>\n",
       "      <td>0.645833</td>\n",
       "    </tr>\n",
       "    <tr>\n",
       "      <td>4</td>\n",
       "      <td>0.576100</td>\n",
       "      <td>0.570813</td>\n",
       "      <td>0.687500</td>\n",
       "    </tr>\n",
       "    <tr>\n",
       "      <td>5</td>\n",
       "      <td>0.611000</td>\n",
       "      <td>0.566517</td>\n",
       "      <td>0.625000</td>\n",
       "    </tr>\n",
       "  </tbody>\n",
       "</table><p>"
      ],
      "text/plain": [
       "<IPython.core.display.HTML object>"
      ]
     },
     "metadata": {},
     "output_type": "display_data"
    },
    {
     "name": "stderr",
     "output_type": "stream",
     "text": [
      "/home/kaustubh/miniforge3/envs/lora_esm/lib/python3.13/site-packages/peft/utils/save_and_load.py:246: UserWarning: Could not find a config file in  - will assume that the vocabulary was not modified.\n",
      "  warnings.warn(\n",
      "/home/kaustubh/miniforge3/envs/lora_esm/lib/python3.13/site-packages/peft/utils/save_and_load.py:246: UserWarning: Could not find a config file in  - will assume that the vocabulary was not modified.\n",
      "  warnings.warn(\n",
      "/home/kaustubh/miniforge3/envs/lora_esm/lib/python3.13/site-packages/peft/utils/save_and_load.py:246: UserWarning: Could not find a config file in  - will assume that the vocabulary was not modified.\n",
      "  warnings.warn(\n",
      "/home/kaustubh/miniforge3/envs/lora_esm/lib/python3.13/site-packages/peft/utils/save_and_load.py:246: UserWarning: Could not find a config file in  - will assume that the vocabulary was not modified.\n",
      "  warnings.warn(\n",
      "/home/kaustubh/miniforge3/envs/lora_esm/lib/python3.13/site-packages/peft/utils/save_and_load.py:246: UserWarning: Could not find a config file in  - will assume that the vocabulary was not modified.\n",
      "  warnings.warn(\n",
      "/home/kaustubh/miniforge3/envs/lora_esm/lib/python3.13/site-packages/peft/utils/save_and_load.py:246: UserWarning: Could not find a config file in  - will assume that the vocabulary was not modified.\n",
      "  warnings.warn(\n"
     ]
    },
    {
     "name": "stdout",
     "output_type": "stream",
     "text": [
      "Trial 9/10\n",
      "learning_rate:  0.000802\n",
      "OrderedDict({'active.all.allocated': 9809404, 'active.all.current': 8388, 'active.all.freed': 9801016, 'active.all.peak': 9324, 'active.large_pool.allocated': 5920802, 'active.large_pool.current': 1802, 'active.large_pool.freed': 5919000, 'active.large_pool.peak': 2303, 'active.small_pool.allocated': 3888602, 'active.small_pool.current': 6586, 'active.small_pool.freed': 3882016, 'active.small_pool.peak': 7522, 'active_bytes.all.allocated': 64524318446592, 'active_bytes.all.current': 24376936448, 'active_bytes.all.freed': 64499941510144, 'active_bytes.all.peak': 29468278784, 'active_bytes.large_pool.allocated': 64046817961984, 'active_bytes.large_pool.current': 24103839744, 'active_bytes.large_pool.freed': 64022714122240, 'active_bytes.large_pool.peak': 29188122624, 'active_bytes.small_pool.allocated': 477500484608, 'active_bytes.small_pool.current': 273096704, 'active_bytes.small_pool.freed': 477227387904, 'active_bytes.small_pool.peak': 342563840, 'allocated_bytes.all.allocated': 64524318446592, 'allocated_bytes.all.current': 24376936448, 'allocated_bytes.all.freed': 64499941510144, 'allocated_bytes.all.peak': 29468278784, 'allocated_bytes.large_pool.allocated': 64046817961984, 'allocated_bytes.large_pool.current': 24103839744, 'allocated_bytes.large_pool.freed': 64022714122240, 'allocated_bytes.large_pool.peak': 29188122624, 'allocated_bytes.small_pool.allocated': 477500484608, 'allocated_bytes.small_pool.current': 273096704, 'allocated_bytes.small_pool.freed': 477227387904, 'allocated_bytes.small_pool.peak': 342563840, 'allocation.all.allocated': 9809404, 'allocation.all.current': 8388, 'allocation.all.freed': 9801016, 'allocation.all.peak': 9324, 'allocation.large_pool.allocated': 5920802, 'allocation.large_pool.current': 1802, 'allocation.large_pool.freed': 5919000, 'allocation.large_pool.peak': 2303, 'allocation.small_pool.allocated': 3888602, 'allocation.small_pool.current': 6586, 'allocation.small_pool.freed': 3882016, 'allocation.small_pool.peak': 7522, 'inactive_split.all.allocated': 5162812, 'inactive_split.all.current': 723, 'inactive_split.all.freed': 5162089, 'inactive_split.all.peak': 833, 'inactive_split.large_pool.allocated': 4059609, 'inactive_split.large_pool.current': 405, 'inactive_split.large_pool.freed': 4059204, 'inactive_split.large_pool.peak': 415, 'inactive_split.small_pool.allocated': 1103203, 'inactive_split.small_pool.current': 318, 'inactive_split.small_pool.freed': 1102885, 'inactive_split.small_pool.peak': 428, 'inactive_split_bytes.all.allocated': 35241710017024, 'inactive_split_bytes.all.current': 579172352, 'inactive_split_bytes.all.freed': 35241130844672, 'inactive_split_bytes.all.peak': 746835456, 'inactive_split_bytes.large_pool.allocated': 34724553000960, 'inactive_split_bytes.large_pool.current': 562862080, 'inactive_split_bytes.large_pool.freed': 34723990138880, 'inactive_split_bytes.large_pool.peak': 730634240, 'inactive_split_bytes.small_pool.allocated': 517157016064, 'inactive_split_bytes.small_pool.current': 16310272, 'inactive_split_bytes.small_pool.freed': 517140705792, 'inactive_split_bytes.small_pool.peak': 62926336, 'max_split_size': -1, 'num_alloc_retries': 0, 'num_device_alloc': 2774, 'num_device_free': 1638, 'num_ooms': 0, 'num_sync_all_streams': 26, 'oversize_allocations.allocated': 0, 'oversize_allocations.current': 0, 'oversize_allocations.freed': 0, 'oversize_allocations.peak': 0, 'oversize_segments.allocated': 0, 'oversize_segments.current': 0, 'oversize_segments.freed': 0, 'oversize_segments.peak': 0, 'requested_bytes.all.allocated': 64522809558744, 'requested_bytes.all.current': 23753294384, 'requested_bytes.all.freed': 64499056264360, 'requested_bytes.all.peak': 28844632668, 'requested_bytes.large_pool.allocated': 64045913303040, 'requested_bytes.large_pool.current': 23480330240, 'requested_bytes.large_pool.freed': 64022432972800, 'requested_bytes.large_pool.peak': 28564613120, 'requested_bytes.small_pool.allocated': 476896255704, 'requested_bytes.small_pool.current': 272964144, 'requested_bytes.small_pool.freed': 476623291560, 'requested_bytes.small_pool.peak': 342429252, 'reserved_bytes.all.allocated': 68448944128, 'reserved_bytes.all.current': 24956108800, 'reserved_bytes.all.freed': 43492835328, 'reserved_bytes.all.peak': 30387732480, 'reserved_bytes.large_pool.allocated': 67647832064, 'reserved_bytes.large_pool.current': 24666701824, 'reserved_bytes.large_pool.freed': 42981130240, 'reserved_bytes.large_pool.peak': 30035410944, 'reserved_bytes.small_pool.allocated': 801112064, 'reserved_bytes.small_pool.current': 289406976, 'reserved_bytes.small_pool.freed': 511705088, 'reserved_bytes.small_pool.peak': 352321536, 'segment.all.allocated': 2774, 'segment.all.current': 1136, 'segment.all.freed': 1638, 'segment.all.peak': 1340, 'segment.large_pool.allocated': 2392, 'segment.large_pool.current': 998, 'segment.large_pool.freed': 1394, 'segment.large_pool.peak': 1172, 'segment.small_pool.allocated': 382, 'segment.small_pool.current': 138, 'segment.small_pool.freed': 244, 'segment.small_pool.peak': 168})\n"
     ]
    },
    {
     "name": "stderr",
     "output_type": "stream",
     "text": [
      "Some weights of EsmModel were not initialized from the model checkpoint at facebook/esm2_t33_650M_UR50D and are newly initialized: ['esm.pooler.dense.bias', 'esm.pooler.dense.weight']\n",
      "You should probably TRAIN this model on a down-stream task to be able to use it for predictions and inference.\n"
     ]
    },
    {
     "data": {
      "text/html": [
       "\n",
       "    <div>\n",
       "      \n",
       "      <progress value='220' max='220' style='width:300px; height:20px; vertical-align: middle;'></progress>\n",
       "      [220/220 00:58, Epoch 5/5]\n",
       "    </div>\n",
       "    <table border=\"1\" class=\"dataframe\">\n",
       "  <thead>\n",
       " <tr style=\"text-align: left;\">\n",
       "      <th>Epoch</th>\n",
       "      <th>Training Loss</th>\n",
       "      <th>Validation Loss</th>\n",
       "      <th>Accuracy</th>\n",
       "    </tr>\n",
       "  </thead>\n",
       "  <tbody>\n",
       "    <tr>\n",
       "      <td>1</td>\n",
       "      <td>0.528300</td>\n",
       "      <td>0.563885</td>\n",
       "      <td>0.583333</td>\n",
       "    </tr>\n",
       "    <tr>\n",
       "      <td>2</td>\n",
       "      <td>0.832800</td>\n",
       "      <td>0.586599</td>\n",
       "      <td>0.500000</td>\n",
       "    </tr>\n",
       "    <tr>\n",
       "      <td>3</td>\n",
       "      <td>0.536400</td>\n",
       "      <td>0.574840</td>\n",
       "      <td>0.520833</td>\n",
       "    </tr>\n",
       "    <tr>\n",
       "      <td>4</td>\n",
       "      <td>0.571200</td>\n",
       "      <td>0.570210</td>\n",
       "      <td>0.583333</td>\n",
       "    </tr>\n",
       "    <tr>\n",
       "      <td>5</td>\n",
       "      <td>0.595600</td>\n",
       "      <td>0.564835</td>\n",
       "      <td>0.604167</td>\n",
       "    </tr>\n",
       "  </tbody>\n",
       "</table><p>"
      ],
      "text/plain": [
       "<IPython.core.display.HTML object>"
      ]
     },
     "metadata": {},
     "output_type": "display_data"
    },
    {
     "name": "stderr",
     "output_type": "stream",
     "text": [
      "/home/kaustubh/miniforge3/envs/lora_esm/lib/python3.13/site-packages/peft/utils/save_and_load.py:246: UserWarning: Could not find a config file in  - will assume that the vocabulary was not modified.\n",
      "  warnings.warn(\n",
      "/home/kaustubh/miniforge3/envs/lora_esm/lib/python3.13/site-packages/peft/utils/save_and_load.py:246: UserWarning: Could not find a config file in  - will assume that the vocabulary was not modified.\n",
      "  warnings.warn(\n",
      "/home/kaustubh/miniforge3/envs/lora_esm/lib/python3.13/site-packages/peft/utils/save_and_load.py:246: UserWarning: Could not find a config file in  - will assume that the vocabulary was not modified.\n",
      "  warnings.warn(\n",
      "/home/kaustubh/miniforge3/envs/lora_esm/lib/python3.13/site-packages/peft/utils/save_and_load.py:246: UserWarning: Could not find a config file in  - will assume that the vocabulary was not modified.\n",
      "  warnings.warn(\n",
      "/home/kaustubh/miniforge3/envs/lora_esm/lib/python3.13/site-packages/peft/utils/save_and_load.py:246: UserWarning: Could not find a config file in  - will assume that the vocabulary was not modified.\n",
      "  warnings.warn(\n",
      "/home/kaustubh/miniforge3/envs/lora_esm/lib/python3.13/site-packages/peft/utils/save_and_load.py:246: UserWarning: Could not find a config file in  - will assume that the vocabulary was not modified.\n",
      "  warnings.warn(\n"
     ]
    },
    {
     "name": "stdout",
     "output_type": "stream",
     "text": [
      "Trial 10/10\n",
      "learning_rate:  0.000901\n",
      "OrderedDict({'active.all.allocated': 11035483, 'active.all.current': 9224, 'active.all.freed': 11026259, 'active.all.peak': 10160, 'active.large_pool.allocated': 6660877, 'active.large_pool.current': 2002, 'active.large_pool.freed': 6658875, 'active.large_pool.peak': 2503, 'active.small_pool.allocated': 4374606, 'active.small_pool.current': 7222, 'active.small_pool.freed': 4367384, 'active.small_pool.peak': 8158, 'active_bytes.all.allocated': 72589484037632, 'active_bytes.all.current': 27080461312, 'active_bytes.all.freed': 72562403576320, 'active_bytes.all.peak': 32171803648, 'active_bytes.large_pool.allocated': 72052298321920, 'active_bytes.large_pool.current': 26780078080, 'active_bytes.large_pool.freed': 72025518243840, 'active_bytes.large_pool.peak': 31864360960, 'active_bytes.small_pool.allocated': 537185715712, 'active_bytes.small_pool.current': 300383232, 'active_bytes.small_pool.freed': 536885332480, 'active_bytes.small_pool.peak': 369850368, 'allocated_bytes.all.allocated': 72589484037632, 'allocated_bytes.all.current': 27080461312, 'allocated_bytes.all.freed': 72562403576320, 'allocated_bytes.all.peak': 32171803648, 'allocated_bytes.large_pool.allocated': 72052298321920, 'allocated_bytes.large_pool.current': 26780078080, 'allocated_bytes.large_pool.freed': 72025518243840, 'allocated_bytes.large_pool.peak': 31864360960, 'allocated_bytes.small_pool.allocated': 537185715712, 'allocated_bytes.small_pool.current': 300383232, 'allocated_bytes.small_pool.freed': 536885332480, 'allocated_bytes.small_pool.peak': 369850368, 'allocation.all.allocated': 11035483, 'allocation.all.current': 9224, 'allocation.all.freed': 11026259, 'allocation.all.peak': 10160, 'allocation.large_pool.allocated': 6660877, 'allocation.large_pool.current': 2002, 'allocation.large_pool.freed': 6658875, 'allocation.large_pool.peak': 2503, 'allocation.small_pool.allocated': 4374606, 'allocation.small_pool.current': 7222, 'allocation.small_pool.freed': 4367384, 'allocation.small_pool.peak': 8158, 'inactive_split.all.allocated': 5796127, 'inactive_split.all.current': 800, 'inactive_split.all.freed': 5795327, 'inactive_split.all.peak': 911, 'inactive_split.large_pool.allocated': 4547415, 'inactive_split.large_pool.current': 449, 'inactive_split.large_pool.freed': 4546966, 'inactive_split.large_pool.peak': 457, 'inactive_split.small_pool.allocated': 1248712, 'inactive_split.small_pool.current': 351, 'inactive_split.small_pool.freed': 1248361, 'inactive_split.small_pool.peak': 462, 'inactive_split_bytes.all.allocated': 39577866551296, 'inactive_split_bytes.all.current': 622916608, 'inactive_split_bytes.all.freed': 39577243634688, 'inactive_split_bytes.all.peak': 790579712, 'inactive_split_bytes.large_pool.allocated': 38995810682880, 'inactive_split_bytes.large_pool.current': 608727040, 'inactive_split_bytes.large_pool.freed': 38995201955840, 'inactive_split_bytes.large_pool.peak': 776499200, 'inactive_split_bytes.small_pool.allocated': 582055868416, 'inactive_split_bytes.small_pool.current': 14189568, 'inactive_split_bytes.small_pool.freed': 582041678848, 'inactive_split_bytes.small_pool.peak': 62926336, 'max_split_size': -1, 'num_alloc_retries': 0, 'num_device_alloc': 3101, 'num_device_free': 1843, 'num_ooms': 0, 'num_sync_all_streams': 29, 'oversize_allocations.allocated': 0, 'oversize_allocations.current': 0, 'oversize_allocations.freed': 0, 'oversize_allocations.peak': 0, 'oversize_segments.allocated': 0, 'oversize_segments.current': 0, 'oversize_segments.freed': 0, 'oversize_segments.peak': 0, 'requested_bytes.all.allocated': 72587830416982, 'requested_bytes.all.current': 26387598616, 'requested_bytes.all.freed': 72561442818366, 'requested_bytes.all.peak': 31478936900, 'requested_bytes.large_pool.allocated': 72051324456960, 'requested_bytes.large_pool.current': 26087362560, 'requested_bytes.large_pool.freed': 72025237094400, 'requested_bytes.large_pool.peak': 31171645440, 'requested_bytes.small_pool.allocated': 536505960022, 'requested_bytes.small_pool.current': 300236056, 'requested_bytes.small_pool.freed': 536205723966, 'requested_bytes.small_pool.peak': 369701164, 'reserved_bytes.all.allocated': 76629934080, 'reserved_bytes.all.current': 27703377920, 'reserved_bytes.all.freed': 48926556160, 'reserved_bytes.all.peak': 33137098752, 'reserved_bytes.large_pool.allocated': 75738644480, 'reserved_bytes.large_pool.current': 27388805120, 'reserved_bytes.large_pool.freed': 48349839360, 'reserved_bytes.large_pool.peak': 32757514240, 'reserved_bytes.small_pool.allocated': 891289600, 'reserved_bytes.small_pool.current': 314572800, 'reserved_bytes.small_pool.freed': 576716800, 'reserved_bytes.small_pool.peak': 379584512, 'segment.all.allocated': 3101, 'segment.all.current': 1258, 'segment.all.freed': 1843, 'segment.all.peak': 1463, 'segment.large_pool.allocated': 2676, 'segment.large_pool.current': 1108, 'segment.large_pool.freed': 1568, 'segment.large_pool.peak': 1282, 'segment.small_pool.allocated': 425, 'segment.small_pool.current': 150, 'segment.small_pool.freed': 275, 'segment.small_pool.peak': 181})\n"
     ]
    },
    {
     "name": "stderr",
     "output_type": "stream",
     "text": [
      "Some weights of EsmModel were not initialized from the model checkpoint at facebook/esm2_t33_650M_UR50D and are newly initialized: ['esm.pooler.dense.bias', 'esm.pooler.dense.weight']\n",
      "You should probably TRAIN this model on a down-stream task to be able to use it for predictions and inference.\n"
     ]
    },
    {
     "data": {
      "text/html": [
       "\n",
       "    <div>\n",
       "      \n",
       "      <progress value='220' max='220' style='width:300px; height:20px; vertical-align: middle;'></progress>\n",
       "      [220/220 00:57, Epoch 5/5]\n",
       "    </div>\n",
       "    <table border=\"1\" class=\"dataframe\">\n",
       "  <thead>\n",
       " <tr style=\"text-align: left;\">\n",
       "      <th>Epoch</th>\n",
       "      <th>Training Loss</th>\n",
       "      <th>Validation Loss</th>\n",
       "      <th>Accuracy</th>\n",
       "    </tr>\n",
       "  </thead>\n",
       "  <tbody>\n",
       "    <tr>\n",
       "      <td>1</td>\n",
       "      <td>0.529200</td>\n",
       "      <td>0.566598</td>\n",
       "      <td>0.541667</td>\n",
       "    </tr>\n",
       "    <tr>\n",
       "      <td>2</td>\n",
       "      <td>0.826300</td>\n",
       "      <td>0.593293</td>\n",
       "      <td>0.625000</td>\n",
       "    </tr>\n",
       "    <tr>\n",
       "      <td>3</td>\n",
       "      <td>0.538700</td>\n",
       "      <td>0.577398</td>\n",
       "      <td>0.645833</td>\n",
       "    </tr>\n",
       "    <tr>\n",
       "      <td>4</td>\n",
       "      <td>0.584400</td>\n",
       "      <td>0.576711</td>\n",
       "      <td>0.687500</td>\n",
       "    </tr>\n",
       "    <tr>\n",
       "      <td>5</td>\n",
       "      <td>0.606600</td>\n",
       "      <td>0.568000</td>\n",
       "      <td>0.687500</td>\n",
       "    </tr>\n",
       "  </tbody>\n",
       "</table><p>"
      ],
      "text/plain": [
       "<IPython.core.display.HTML object>"
      ]
     },
     "metadata": {},
     "output_type": "display_data"
    },
    {
     "name": "stderr",
     "output_type": "stream",
     "text": [
      "/home/kaustubh/miniforge3/envs/lora_esm/lib/python3.13/site-packages/peft/utils/save_and_load.py:246: UserWarning: Could not find a config file in  - will assume that the vocabulary was not modified.\n",
      "  warnings.warn(\n",
      "/home/kaustubh/miniforge3/envs/lora_esm/lib/python3.13/site-packages/peft/utils/save_and_load.py:246: UserWarning: Could not find a config file in  - will assume that the vocabulary was not modified.\n",
      "  warnings.warn(\n",
      "/home/kaustubh/miniforge3/envs/lora_esm/lib/python3.13/site-packages/peft/utils/save_and_load.py:246: UserWarning: Could not find a config file in  - will assume that the vocabulary was not modified.\n",
      "  warnings.warn(\n",
      "/home/kaustubh/miniforge3/envs/lora_esm/lib/python3.13/site-packages/peft/utils/save_and_load.py:246: UserWarning: Could not find a config file in  - will assume that the vocabulary was not modified.\n",
      "  warnings.warn(\n",
      "/home/kaustubh/miniforge3/envs/lora_esm/lib/python3.13/site-packages/peft/utils/save_and_load.py:246: UserWarning: Could not find a config file in  - will assume that the vocabulary was not modified.\n",
      "  warnings.warn(\n",
      "/home/kaustubh/miniforge3/envs/lora_esm/lib/python3.13/site-packages/peft/utils/save_and_load.py:246: UserWarning: Could not find a config file in  - will assume that the vocabulary was not modified.\n",
      "  warnings.warn(\n"
     ]
    },
    {
     "name": "stdout",
     "output_type": "stream",
     "text": [
      "Best Trial: <transformers.trainer.Trainer object at 0x7f1e8f0baa50>\n"
     ]
    },
    {
     "ename": "AttributeError",
     "evalue": "'Trainer' object has no attribute 'hyperparameters'",
     "output_type": "error",
     "traceback": [
      "\u001b[0;31m---------------------------------------------------------------------------\u001b[0m",
      "\u001b[0;31mAttributeError\u001b[0m                            Traceback (most recent call last)",
      "Cell \u001b[0;32mIn[4], line 1\u001b[0m\n\u001b[0;32m----> 1\u001b[0m \u001b[43mtrain_protein_model\u001b[49m\u001b[43m(\u001b[49m\u001b[43m)\u001b[49m\n",
      "File \u001b[0;32m~/RuBisCO_ML/ESM_LoRA/analysis/lora_esm2_script_updated.py:275\u001b[0m, in \u001b[0;36mtrain_protein_model\u001b[0;34m()\u001b[0m\n\u001b[1;32m    273\u001b[0m     model\u001b[38;5;241m.\u001b[39msave_pretrained(output_dir)\n\u001b[1;32m    274\u001b[0m     tokenizer\u001b[38;5;241m.\u001b[39msave_pretrained(output_dir)\n\u001b[0;32m--> 275\u001b[0m \u001b[43mtrain_final_model\u001b[49m\u001b[43m(\u001b[49m\u001b[43mbest_trial\u001b[49m\u001b[43m)\u001b[49m\n",
      "File \u001b[0;32m~/RuBisCO_ML/ESM_LoRA/analysis/lora_esm2_script_updated.py:255\u001b[0m, in \u001b[0;36mtrain_protein_model.<locals>.train_final_model\u001b[0;34m(best_trial)\u001b[0m\n\u001b[1;32m    254\u001b[0m \u001b[38;5;28;01mdef\u001b[39;00m\u001b[38;5;250m \u001b[39m\u001b[38;5;21mtrain_final_model\u001b[39m(best_trial):\n\u001b[0;32m--> 255\u001b[0m     best_hyperparameters \u001b[38;5;241m=\u001b[39m \u001b[43mbest_trial\u001b[49m\u001b[38;5;241;43m.\u001b[39;49m\u001b[43mhyperparameters\u001b[49m\n\u001b[1;32m    256\u001b[0m     model \u001b[38;5;241m=\u001b[39m model_init()\n\u001b[1;32m    258\u001b[0m     args\u001b[38;5;241m.\u001b[39mlearning_rate \u001b[38;5;241m=\u001b[39m best_hyperparameters[\u001b[38;5;124m\"\u001b[39m\u001b[38;5;124mlearning_rate\u001b[39m\u001b[38;5;124m\"\u001b[39m]\n",
      "\u001b[0;31mAttributeError\u001b[0m: 'Trainer' object has no attribute 'hyperparameters'"
     ]
    }
   ],
   "source": [
    "train_protein_model()"
   ]
  },
  {
   "cell_type": "code",
   "execution_count": null,
   "metadata": {},
   "outputs": [],
   "source": [
    "model_path = \"/home/kaustubh/RuBisCO_ML/ESM_LoRA/training_runs/esm2_t33_650M-finetuned-lora_2025-03-17_16-43-28\"\n",
    "base_model_path = \"facebook/esm2_t33_650M_UR50D\""
   ]
  },
  {
   "cell_type": "code",
   "execution_count": 6,
   "metadata": {},
   "outputs": [],
   "source": [
    "class CustomModel(EsmPreTrainedModel):\n",
    "    def __init__(self):\n",
    "        super().__init__(EsmConfig.from_pretrained(\"facebook/esm2_t33_650M_UR50D\"))\n",
    "        self.backbone = EsmModel.from_pretrained(\"facebook/esm2_t33_650M_UR50D\")\n",
    "\n",
    "        self.outputs = torch.nn.Linear(1280, 1)\n",
    "\n",
    "    def forward(\n",
    "        self,\n",
    "        input_ids,\n",
    "        attention_mask=None,\n",
    "        token_type_ids=None,\n",
    "        position_ids=None,\n",
    "        labels=None,\n",
    "        inputs_embeds=None,\n",
    "        output_attentions=False,\n",
    "        output_hidden_states=False,\n",
    "        return_dict=True\n",
    "    ):\n",
    "        outputs = self.backbone(\n",
    "            input_ids,\n",
    "            inputs_embeds=inputs_embeds,\n",
    "            output_attentions=output_attentions,\n",
    "            output_hidden_states=output_hidden_states,\n",
    "            return_dict=return_dict\n",
    "        )\n",
    "\n",
    "        sequence_output = outputs.last_hidden_state # (B, L, 1280)\n",
    "        bos_emb = sequence_output[:,0] # (B, L, 1280) -> (B, 1280)\n",
    "        # outputs = [self.outputs[i](sequence_output) for i in range(5)]\n",
    "        pred = self.outputs(bos_emb).squeeze(1) # (B,)\n",
    "\n",
    "        # if labels, then we are training\n",
    "        loss = None\n",
    "        if labels is not None:\n",
    "            assert pred.shape == labels.shape, f\"{pred}, {labels}\"\n",
    "            loss_fn = torch.nn.BCEWithLogitsLoss(reduction=\"mean\")\n",
    "            loss = loss_fn(pred, labels.float())\n",
    "            # loss = sum(losses)/len(losses)\n",
    "\n",
    "        return {\n",
    "            \"loss\": loss,\n",
    "            \"last_hidden_state\": sequence_output,\n",
    "            \"logits\": pred\n",
    "        }\n",
    "\n",
    "    def get_embedding(\n",
    "        self,\n",
    "        input_ids,\n",
    "        attention_mask=None,\n",
    "        token_type_ids=None,\n",
    "        position_ids=None,\n",
    "        labels=None,\n",
    "        inputs_embeds=None,\n",
    "        output_attentions=False,\n",
    "        output_hidden_states=False,\n",
    "        return_dict=True\n",
    "    ):\n",
    "        outputs = self.backbone(\n",
    "            input_ids,\n",
    "            inputs_embeds=inputs_embeds,\n",
    "            output_attentions=output_attentions,\n",
    "            output_hidden_states=output_hidden_states,\n",
    "            return_dict=return_dict\n",
    "        )\n",
    "\n",
    "        return outputs"
   ]
  },
  {
   "cell_type": "code",
   "execution_count": 7,
   "metadata": {},
   "outputs": [
    {
     "name": "stderr",
     "output_type": "stream",
     "text": [
      "Some weights of EsmModel were not initialized from the model checkpoint at facebook/esm2_t33_650M_UR50D and are newly initialized: ['esm.pooler.dense.bias', 'esm.pooler.dense.weight']\n",
      "You should probably TRAIN this model on a down-stream task to be able to use it for predictions and inference.\n"
     ]
    },
    {
     "data": {
      "text/plain": [
       "PeftModelForTokenClassification(\n",
       "  (base_model): LoraModel(\n",
       "    (model): CustomModel(\n",
       "      (backbone): EsmModel(\n",
       "        (embeddings): EsmEmbeddings(\n",
       "          (word_embeddings): Embedding(33, 1280, padding_idx=1)\n",
       "          (dropout): Dropout(p=0.0, inplace=False)\n",
       "          (position_embeddings): Embedding(1026, 1280, padding_idx=1)\n",
       "        )\n",
       "        (encoder): EsmEncoder(\n",
       "          (layer): ModuleList(\n",
       "            (0-32): 33 x EsmLayer(\n",
       "              (attention): EsmAttention(\n",
       "                (self): EsmSelfAttention(\n",
       "                  (query): lora.Linear(\n",
       "                    (base_layer): Linear(in_features=1280, out_features=1280, bias=True)\n",
       "                    (lora_dropout): ModuleDict(\n",
       "                      (default): Dropout(p=0.1, inplace=False)\n",
       "                    )\n",
       "                    (lora_A): ModuleDict(\n",
       "                      (default): Linear(in_features=1280, out_features=16, bias=False)\n",
       "                    )\n",
       "                    (lora_B): ModuleDict(\n",
       "                      (default): Linear(in_features=16, out_features=1280, bias=False)\n",
       "                    )\n",
       "                    (lora_embedding_A): ParameterDict()\n",
       "                    (lora_embedding_B): ParameterDict()\n",
       "                    (lora_magnitude_vector): ModuleDict()\n",
       "                  )\n",
       "                  (key): lora.Linear(\n",
       "                    (base_layer): Linear(in_features=1280, out_features=1280, bias=True)\n",
       "                    (lora_dropout): ModuleDict(\n",
       "                      (default): Dropout(p=0.1, inplace=False)\n",
       "                    )\n",
       "                    (lora_A): ModuleDict(\n",
       "                      (default): Linear(in_features=1280, out_features=16, bias=False)\n",
       "                    )\n",
       "                    (lora_B): ModuleDict(\n",
       "                      (default): Linear(in_features=16, out_features=1280, bias=False)\n",
       "                    )\n",
       "                    (lora_embedding_A): ParameterDict()\n",
       "                    (lora_embedding_B): ParameterDict()\n",
       "                    (lora_magnitude_vector): ModuleDict()\n",
       "                  )\n",
       "                  (value): lora.Linear(\n",
       "                    (base_layer): Linear(in_features=1280, out_features=1280, bias=True)\n",
       "                    (lora_dropout): ModuleDict(\n",
       "                      (default): Dropout(p=0.1, inplace=False)\n",
       "                    )\n",
       "                    (lora_A): ModuleDict(\n",
       "                      (default): Linear(in_features=1280, out_features=16, bias=False)\n",
       "                    )\n",
       "                    (lora_B): ModuleDict(\n",
       "                      (default): Linear(in_features=16, out_features=1280, bias=False)\n",
       "                    )\n",
       "                    (lora_embedding_A): ParameterDict()\n",
       "                    (lora_embedding_B): ParameterDict()\n",
       "                    (lora_magnitude_vector): ModuleDict()\n",
       "                  )\n",
       "                  (dropout): Dropout(p=0.0, inplace=False)\n",
       "                  (rotary_embeddings): RotaryEmbedding()\n",
       "                )\n",
       "                (output): EsmSelfOutput(\n",
       "                  (dense): Linear(in_features=1280, out_features=1280, bias=True)\n",
       "                  (dropout): Dropout(p=0.0, inplace=False)\n",
       "                )\n",
       "                (LayerNorm): LayerNorm((1280,), eps=1e-05, elementwise_affine=True)\n",
       "              )\n",
       "              (intermediate): EsmIntermediate(\n",
       "                (dense): Linear(in_features=1280, out_features=5120, bias=True)\n",
       "              )\n",
       "              (output): EsmOutput(\n",
       "                (dense): Linear(in_features=5120, out_features=1280, bias=True)\n",
       "                (dropout): Dropout(p=0.0, inplace=False)\n",
       "              )\n",
       "              (LayerNorm): LayerNorm((1280,), eps=1e-05, elementwise_affine=True)\n",
       "            )\n",
       "          )\n",
       "          (emb_layer_norm_after): LayerNorm((1280,), eps=1e-05, elementwise_affine=True)\n",
       "        )\n",
       "        (pooler): EsmPooler(\n",
       "          (dense): Linear(in_features=1280, out_features=1280, bias=True)\n",
       "          (activation): Tanh()\n",
       "        )\n",
       "        (contact_head): EsmContactPredictionHead(\n",
       "          (regression): Linear(in_features=660, out_features=1, bias=True)\n",
       "          (activation): Sigmoid()\n",
       "        )\n",
       "      )\n",
       "      (outputs): Linear(in_features=1280, out_features=1, bias=True)\n",
       "    )\n",
       "  )\n",
       ")"
      ]
     },
     "execution_count": 7,
     "metadata": {},
     "output_type": "execute_result"
    }
   ],
   "source": [
    "base_model = CustomModel()\n",
    "loaded_model = PeftModel.from_pretrained(base_model, model_path)\n",
    "loaded_model.eval()\n",
    "# Load base_model_path to base_model\n",
    "# base_model.load_state_dict(torch.load(model_path))"
   ]
  },
  {
   "cell_type": "code",
   "execution_count": 8,
   "metadata": {},
   "outputs": [],
   "source": [
    "loaded_tokenizer = AutoTokenizer.from_pretrained(model_path)"
   ]
  },
  {
   "cell_type": "code",
   "execution_count": 9,
   "metadata": {},
   "outputs": [],
   "source": [
    "train_set_seqs = [\n",
    "  'MSIRYTDFVDLNYTPGDNDLVCTFRIEPADGMSLEAAASRVASESSNGTWATLSVDEDIKKLKATVFEIDGNIIKIAYPLGLFEPGNIPQILSSIAGNIFGMKAVKNIRLLDCEWPEELLSSFKGPQFGSEGVQEILGVDDRPLTATVPKPKVGLSTEQHAEVGYEAWVGGLDLLKDDENLTDQPFNPFEERVKESLEARDKAEDETGEKKAYLVNITAETNEMLERAELVAEYGGEYVMVDVITAGWAAVQTLRERCEDLGLAIHAHRAMHAAFDRLPSHGVSMRVLAQLARLVGVDQLHTGTAGLGKLANDKETLAINDWLRSDWYGIKDVLPVASGGLHPGLVPELLDAFGTNIIIQAGGGVHGHPDGTRAGAKALRQAVEAVVEGVSLEEYAKDHPELAKALEKWGHVRPR',\n",
    "  'MSRYTDYVDLNYTPKENDLICTFHIEPADGVDLEEAAGRVAAESSIGTWTDVSTMPEIWEKLKARVYEIDETGNIVKIAYPLDLFEPGNIPQILSSIAGNIFGMKAVKNLRLLDIRFPEELVKSFKGPKFGIEGVRELLGVYDRPLVGTIVKPKVGLSAEEHAEVAYEAWVGGLDLVKDDENLTSQPFNPFEERVKKVLEARDKAEEETGEKKVYLVNITAPTEEMIRRAELVADLGGKYVMIDIITAGFSAVQSLREEDLGLAIHAHRAMHAAFTRNPKHGISMLVLAKLARLVGVDQLHIGTGVGKMEGDKEEVLAIRDALRLDRVPADEANHFLEQDWYNIKPVFPVASGGLHPGLVPDLIDIFGKDIIIQAGGGVHGHPDGTRAGAKALRQAIEAVMEGISLEEYAKEHKELKKALEKWGHVR',\n",
    "  'MSKRYTDYVDLNYTPKENDLICTFHIEPADGVDLEEAAGRVAAESSIGTWTDVSTMPEIWEKLKARVYEIDESGNIVKIAYPLDLFEPGNIPQILSSIAGNIFGMKAVKNLRLLDIRFPKELVKSFKGPKFGIEGVRELLGVYDRPLVGTIVKPKVGLSAEEHAEVAYEAWVGGIDLVKDDENLTSQPFNPFEERVKKVMEARDKAEEETGEKKVYLVNITAPTEEMIRRAELVKDLGGKYVMIDIITAGFSAVQSLREEDLGLAIHAHRAMHAAFTRNPKHGISMLVLAKLARLVGVDQLHIGTVVGKMEGDKEEVLAIRDALRLDRVPADEANHFLEQDWYNIKPVFPVASGGLHPGLVPDLIDIFGKDIIIQAGGGVHGHPDGTRAGAKAMRQAIEAVMEGISLEEYAKEHKELAKALEKWGHV',\n",
    "  'MSERYTDFVDLNYEPTDNDLVCTFRIEPADGMSMEAAASRVASESSTGTWTALSVDERIKKLSAKTFSIDGNIIKIAYPLGLFEPGNIPQILSSIAGNIFGMKAVKTLRLLDCEFPESLLKSFPGPQFGSSVRREILGVHDRPLTATVPKPKVGLSAEEHAEVGYEAWVGGLDLIKDDENLTDQPFNPFEDRLTESLEARDKAEEETGEKKAYLVNITAETEEMLRRADLVAEQGGEYVMVDIITAGWSAVQTVRERCEDLGLAIHAHRAMHAAFDRNPSHGISMRVLAKIARLVGVDQLHTGTAGVGKLEGEKEVVAIADMLRSDLYNMNPVLPVASGGLHPGLVPDLIDAFGTNICIQAGGGIHGHPDGTRAGAKALRQAIDAAMEGVSLEEYADDHPELATALDKWGHVTPR',\n",
    "  'MSERYTDFLDLNYTPGDNDLVCTFRIEPADGMSMEAAAGRVASESSTGTWATLQVMERITDLSAKVFEIDGNIIKVAYPAGLFEPGNMPQILSSIAGNIFGMKAVDTIRLLDIEWPESILSSFPGPQFGIEGVREIFGVHDRPLTATVPKPKVGLSAEEHAQIGYEAWVGGLDLIKDDENLTDQAFNPFEERVTKVLEARDKAEEETGEKKSYLVNITAETNEMLERADMVADYGGEYVMIDVITAGWAAVQTLRERCEDLGLAIHAHRAMHAAFTRNPKHGVSMRVLAKIARLCGVDQLHTGTAGLGKMAGEKDVLGIAEMLRQDWYNINPVFPVASGGLHPGLVPDLLEIFGKNIIIQAGGGIHGHPDGTRAGAKALRQAVDAVMEGVSLEEYADDHPELATALDKWGTERPR',\n",
    "  'MSGIRYTDFLDLNYTPGETDLVCTFRIEPAEGISMEEAASRVASESSNGTWTALQTMERVTKLSAKTFSIDGNTVKIAYPLGLFEPGNMPQILSCIAGNIFGMKAVDNLRLLDIEWPESILSSFKGPQFGSEGRREIFGVDDRPLTATVPKPKVGLSTEEHAEVGYEAWVGGLDLLKDDENLTSQAFNPFEERLKKVMAMRDKAEDETGEKKAYLVNITAETNEMLRRADMVAEYGGEYVMIDIITAGWSAVQTVRERCEDLGLAIHAHRAMHAAFDRLPKHGISMLVLAQLARLVGVDQLHTGTAGLGKMEGEKEDVVAINEWLRQDWYGMKDVFPVASGGLHPGLVPELLDIFGKDICIQAGGGVHGHPDGTRAGAKALRQAVDAAVEGVSLEEYAKDHPELATALDKWGHVRPK',\n",
    "  'MSITYEDFLDLSYEPGETDLICTFRIEPAEGISLEAAASRVASESSTGTWTTLSTMDDVTKLSAKVFSIDGNIIKIAYPLGLFEPGNMPQILSCIAGNIMGMKAVKNIRLLDIEWPEEILKSFKGPQFGIEGRQEIFGVHDRPITATVPKPKVGLSAEQHAQVAYEAWVGGIDLLKDDENLTDQPFNPFEDRVKKSMAMRDKAEEETGEKKSYLVNITAETEEMLRRADLVAEYGGEYVMIDIITAGWSAVQTLRERCEDLGLAIHAHRAMHAAFDRLPSHGVSMRVLAKIARLCGVDQLHTGTGVGKLEGDKEEVLGIAEWLRSDWYNIKDVLPVASGGLHPGLVPDLLDIAGKNICIQAGGGVHGHPDGTRAGAKALRQAVDAVVEGVSIEEYADDHPELATALDKWGHVTPR',\n",
    "  'MSERYEDFVDLNYEPTDNDLVCTFRIEPADGISMEAAASRVASESSTGTWTTLQVMDRIKKLKATTFEIDGNIIKIAYPLGLFEPGNMPQILSSIAGNIMGMKAVDNIRLLDIHFPEEILKSFPGPQFGSEGVREIFGVDDRPITATVPKPKVGLSAEEHAEIGYEAWVGGLDLIKDDENLTDQPFNPFEERVKESMAMRDKAEEETGEKKSYLVNITAETNEMLERAELVAEQGGEYVMIDIITAGWSAVQTVRERCEDLGLAIHAHRAMHAAFDRNPSHGVSMRVLAKIARLVGVDQLHTGTAGVGKLANEKEEVVGINEMLRSDLYGINDVFPVASGGLHPGLVPELIDIAGKNIIIQAGGGVHGHPDGTRAGAKALRQAVDAVVEGVSLEEYAKEHPELAKALEKWGTVRPR',\n",
    "  'MSIRYTDFLDLNYEPGDNDLVCTFRIEPADGMSMEEAAGRVASESSTGTWTALSTMERIKDLSAKVFEIDGNTVKIAYPADLFEPGNMPQILSCIAGNIFGMKAVKTIRLLDCHWPESIVSSFPGPQFGSEVRQELLGVDDRPLTATVPKPKVGLSTEQHAEVGYEAWVGGIDLIKDDENLTDQPFNPFEDRVKEVMAMRDKAEEETGEKKAYLVNITAETNEMLRRAELVADQGGEYVMVDVITAGWSAVQTLRERCEDLGLAIHAHRAMHAAFDRLPKHGVSMRVLAKIARLVGVDQLHTGTAGLGKMANEEEVLGINDWLRQDWYNMKDVFPVASGGLHPGLVPDLLDIAGTNICIQAGGGIHGHPDGTRAGAKALRQAVDAVVEGVSLEEYADDHPELAKALEKWGHVRPK',\n",
    "  'MSRYTDYVDLNYTPKENDLICTFHIEPADGVDLEEAAGRVAAESSIGTWTDVSTMPEIWEKLKARVYEIDESGNIVKIAYPLDLFEPGNIPQILSSIAGNIFGMKAVKNLRLLDIRFPKELVKSFKGPKFGIEGVRELLGVYDRPLVGTIVKPKVGLSAEEHAEVAYEAWVGGLDLVKDDENLTSQPFNPFEERVKKVMEARDKAEEETGEKKVYLVNITAPTEEMIRRAELVADLGGKYVMIDIITAGFSAVQSLREEDLGLAIHAHRAMHAAFTRNPKHGISMLVLAKLARLVGVDQLHIGTVVGKMEGDKEEVLAIRDALRLDRVPADEANHFLEQDWYNIKPVFPVASGGLHPGLVPDLIDIFGKDIIIQAGGGVHGHPDGTRAGAKALRQAIEAAMEGISLEEYAKEHPELKKALEKWGHVK',\n",
    "  'MSRYTDYVDLNYTPKENDLICTFHIEPADGVDLEEAAGRVAAESSIGTWTDVSTMPEIWEKLKARVYEIDESGNIVKIAYPLDLFEPGNIPQILSSIAGNIFGMKAVKNLRLLDIRFPEELVKSFKGPKFGIEGVRELLGVYDRPLVGTIVKPKVGLSAEEHAEVAYEAWVGGLDLVKDDENLTSQPFNPFEERVKKVMEARDKAEEETGEKKVYLVNITAPTEEMIRRAELVKDLGGKYVMIDIITAGFSAVQSLREEDLGLAIHAHRAMHAAFTRNPKHGISMLVLAKLARLVGVDQLHIGTVVGKMEGDKEEVLAIRDALRLDRVPADEANHFLEQDWYNIKPVFPVASGGLHPGLVPDLIDIFGKDVIIQAGGGVHGHPDGTRAGAKAMRQAIEAVMEGISLEEYAKEHKELKKALEKWGHVRPK',\n",
    "  'MSKRYTDYVDLNYTPKENDLICTFHIEPADGVDLEEAAGRVAAESSTGTWTDVSTMKPEIWEKLKARVYEIDESGNIVKIAYPLDLFEPGNIPQILSSIAGNIFGMKAVKNLRLLDIRFPEELVKSFKGPKFGIEGVRELLGVYDRPLVGTIVKPKVGLSAEEHAEVAYEAWVGGLDLVKDDENLTSQPFNPFEERVKKVMEARDKAEEETGEKKVYLVNITAPTEEMIRRAELVADLGGKYVMIDIITAGFSAVQSLREEDLGLAIHAHRAMHAAFTRNPKHGISMLVLAKLARLVGVDQLHIGTVVGKMEGDKEEVLAIRDALRLDRVPADEANHFLEQDWYNIKPVFPVASGGLHPGLVPDLIDIFGKDVIIQAGGGVHGHPDGTRAGAKAMRQAIEAVMEGISLEEYAKEHKELKKALEKWGHVR',\n",
    "  'MSERYTDFLDLSYEPGDTDLICTFRIEPAEGISLEAAASRVASESSNGTWAALQTMERIKDLKAKVFSIDGNIVKVAYPLDLFEPGNIPQILSSIAGNIFGMKAVDTLRLLDIHFPEEILSSFKGPQFGSSGRRELFGVHDRPLTATVPKPKVGLSAEQHAEIGYEAWVGGIDLLKDDENLTDQPFNPFEDRLKEVMAMRDKAEDETGEKKSYLVNITAPTNEMLRRAEMVADYGGEYVMIDVITAGWSAVQTLRERCEDLGLAIHAHRAMHAAFTRLPKHGVSMRVLAQLARLCGVDQLHTGTAGLGKLAGEKDTLAIAEWLRSDLYGINPVLPVASGGLHPGLVPDLIDAAGTDICIQAGGGVHGHPDGTRAGAKALRQAVDAAMEGISLEEYAKEHPELATALDKWGTVRPR',\n",
    "  'MSKRYTDYVDLNYTPKENDLICCFHIEPADGVDLEEAAGRVAAESSIGTWTDVSTMPEIVEKLKARVYEIDESGNIVKIAYPLDLFEPGNIPQILSSIAGNIFGMKAVKNLRLLDIRFPKELVKSFKGPKFGIEGVRELLGVYDRPLVGTIVKPKVGLSAEEHAEVAYEAWVGGLDLIKDDENLTSQPFNPFEERVKKVLEARDKAEEETGEKKVYLVNITAPTEEMIRRAELVKDLGGKYVMIDIITAGFSAVQSLREEDLGLAIHAHRAMHAAFTRNPKHGISMLVLAKLARLVGVDQLHIGTVVGKMEGDKEEVLAIRDALRLDRVPADEANHFLEQDWYNIKPVFPVASGGLHPGLVPDLIDIFGKDVIIQAGGGVHGHPDGTRAGAKALRQAIEAVMEGISLEEYAKEHKELAKALEKWGHRP',\n",
    "  'MSKRYTDYIDLNYTPKENDLICTFHIEPADGVDLEEAAGRVAAESSIGTWTDVSTMPEIVEKLKARVYEIDESGNIVKIAYPLDLFEPGNIPQILSSIAGNIFGMKAVKNLRLLDIRFPKELVKSFKGPKFGIEGVRELLGVYDRPLVGTIVKPKVGLSAEEHAEVAYEAWVGGLDLVKDDENLTSQPFNPFEERVKKVLEARDKAEEETGEKKVYLVNITAPTEEMIRRAELVADLGGKYVMIDIITAGFSAVQSLREEDLGLAIHAHRAMHAAFTRNPKHGISMLVLAKLARLVGVDQLHIGTVVGKMEGDKEEVLAIRDALRLDRVPADEANHFLEQDWYNIKPVFPVASGGLHPGLVPDLIDIFGKDVIIQAGGGVHGHPDGTRAGAKALRQAIEAVMEGISLEEYAKEHPELKKALEKWGHVK',\n",
    "  'MSRYTDYVDLNYTPKENDLICTFHIEPADGVDLEEAAGRVAAESSIGTWTDVSTMPEIWEKLKARVYEIDESGNIVKIAYPLDLFEPGNIPQILSSIAGNIFGMKAVKNLRLLDIRFPKELVKSFKGPKFGIEGVRELLGVYDRPLVGTIVKPKVGLSAEEHAEVAYEAWVGGLDLIKDDENLTSQPFNPFEERVKKTLEARDKAEEETGEKKVYLVNITAPTEEMIRRAELVKDLGGKYVMIDIITAGFSAVQSLREEDLGLAIHAHRAMHAAFTRNPKHGISMLVLAKLARLVGVDQLHIGTGVGKMEGDKEEVLAIRDALRLDRVPADEANHFLEQDWYNIKPVFPVASGGLHPGLVPDLIDIFGKDIIIQAGGGVHGHPDGTRAGAKALRQAIEAVMEGISLEEYAKEHPELKKALEKWGHVR',\n",
    "  'MSETYEDFVDLSYEPGDNDLICTFRIEPADGMSMEAAAGRVASESSTGTWATLSTDDRVTKLSAKVFEIDGNIIKVAYPLDLFEPGNIPQILSSIAGNIMGMKAVKTLRLLDIHWPEELVKSFPGPQFGSEGRRELLGVDDRPITATVPKPKVGLSTEQHAQVGYEAWVGGLDLLKDDENLTDQAFNPFEERVTKVMEMRDKAEEETGEKKAYLVNITAETEEMLRRADMVAEQGGEYVMVDVITAGWAAVQTLRERCEDLGLAIHAHRAMHAAFDRLPKHGISMRVLAKLARLCGVDQLHTGTGLGKMEGEDVVGIADMLRSDWYNINDVFPVASGGLHPGLVPELLDAFGKNICIQAGGGIHGHPDGTRAGAKALRQAIDAAMEGVSIEEYADDHPELAKALEKWGTVRPR',\n",
    "  'MSKRYTDYIDLNYTPKENDLICCFHIEPADGVDLEEAAGRVAAESSIGTWTDVSTMPEIWEKLKARVYEIDESGNIVKIAYPLDLFEPGNIPQILSSIAGNIFGMKAVKNLRLLDIRFPKELVKSFKGPKFGIEGVRELLGVYDRPLVGTIVKPKVGLSAEEHAEVAYEAWVGGLDLVKDDENLTSQPFNPFEERVKKVLEARDKAEEETGEKKVYLVNITAPTEEMIRRAELVADLGGKYVMIDIITAGFSAVQSLREEDLGLAIHAHRAMHAAFTRNPKHGISMLVLAKLARLVGVDQLHIGTGVGKMEGDKEEVLAIRDALRLDRVPADEANHFLEQDWYNIKPVFPVASGGLHPGLVPDLIDIFGKDVIIQAGGGVHGHPDGTRAGAKALRQAIEAAMEGISLEEYAKEHPELAKALEKWGHVRP',\n",
    "  'MSERYEDFVDLNYEPGDNDLVCTFRIEPADGMSMEAAASRVASESSTGTWATLQTDDDVKDLKAKVFEIDGNTIKIAYPAGLFEAGNMPQILSCIAGNIMGMKAVKTLRLLDCHWPESILSSFKGPQFGISGVRELFGVHDRPITATVPKPKVGLSAEQHAQVAYEAWVGGIDLLKDDENLTSQPFNPFEDRLKKSMEMRDKAEDETGEKKAYLVNITAPTNEMLERADLVAEYGGEYVMVDVITAGWSAVQTLRERCEDLGLAIHAHRAMHAAFDRLPKHGVSMLVLAQIARLVGVDQLHTGTGVGKMANEKEEVVAIADMLRSDWYNMKDVFPVASGGLHPGLVPDLLDAAGTNICIQAGGGVHGHPDGTRAGAKALRQAIDAVMEGVSLEEYADEHPELATALDKWGHERPR',\n",
    "  'MSKRYTDFVDLNYTPKENDLICTFHIEPADGVDLEEAAGRVAAESSTGTWTDVSTMPEIVEKLKARVYEIDESGNIVKIAYPLDLFEPGNIPQILSSIAGNIFGMKAVKNLRLLDIHFPEELVKSFKGPKFGIEGVRELLGVYDRPLVGTIVKPKVGLSAEEHAEVAYEAWVGGIDLIKDDENLTSQPFNPFEERVKKVMEARDKAEEETGEKKVYLVNITAPTEEMIRRAELVADLGGKYVMIDIITAGFSAVQSLREEDLGLAIHAHRAMHAAFTRNPKHGISMLVLAKLARLVGVDQLHIGTGVGKMEGDKEEVLAIRDALRQDWYNIKPVFPVASGGLHPGLVPDLIDIFGKDIIIQAGGGVHGHPDGTRAGAKALRQAIEAVMEGISLEEYAKEHPELAKALEKWGHVRPK',\n",
    "  'MSRYTDYVDLNYTPKENDLICTFHIEPADGVDLEEAAGRVAAESSIGTWTDVSTMPEIWEKLKARVYEIDETGNIVKIAYPLDLFEPGNIPQILSSIAGNIFGMKAVKNLRLLDIRFPEELVKSFKGPKFGIEGVRELLGVYDRPLVGTIVKPKVGLSAEEHAEVAYEAWVGGIDLVKDDENLTSQPFNPFEERVKKVLEARDKAEEETGEKKVYLVNITAPTEEMIRRAELVADLGGKYVMIDIITAGFSAVQSLREEDLGLAIHAHRAMHAAFTRNPKHGISMLVLAKLARLVGVDQLHIGTVVGKMEGDKEEVLAIRDALRLDRVPADEANHFLEQDWYNIKPVFPVASGGLHPGLVPDLIDIFGKDVIIQAGGGVHGHPDGTRAGAKALRQAIEAAMEGISLEEYAKEHPELAKALEKWGHVR',\n",
    "  'MSRYTDYVDLNYTPKENDLICCFHIEPADGVDLEEAAGRVAAESSTGTWTDVSTMPEIWEKLKARVYEIDESGNIVKIAYPLDLFEPGNIPQILSSIAGNIFGMKAVKNLRLLDIRFPEELVKSFKGPKFGIEGVRELLGVYDRPLVGTIVKPKVGLSAEEHAEVAYEAWVGGLDLVKDDENLTSQPFNPFEERVKKVLEARDKAEEETGEKKVYLVNITAPTEEMIRRAELVKDLGGKYVMIDIITAGFSAVQSLREEDLGLAIHAHRAMHAAFTRNPKHGISMLVLAKLARLVGVDQLHIGTGVGKMEGDKEEVLAIRDALRLDRVPADEANHFLEQDWYNIKPVFPVASGGLHPGLVPDLIDIFGKDIIIQAGGGVHGHPDGTRAGAKALRQAIEAAMEGISLEEYAKEHKELAKALEKWGHVR',\n",
    "  'MSGIRYTDFLDLNYEPGETDLVCTFRIEPADGISMEEAASRVASESSTGTWAALSTDERVKDLKAKVFEIDGNTVKIAYPAGLFEPGNMPQILSSIAGNIMGMKAVKTLRLLDCEWPEELVKSFPGPQFGSEVRREIFGVDDRPLTATVPKPKVGLSAEEHAEVGYEAWVGGLDLIKDDENLTDQPFNPFEERVTKVLEMRDKAEEETGEKKSYLVNITAPTNEMLERADMVADYGGEYVMIDVITAGWAAVQTLRERCEDLGLAIHAHRAMHAAFDRLPSHGVSMLVLAQIARLVGVDQLHTGTAGVGKMANDKDVLGIAEWLRQDLYGIKPVLPVASGGLHPGLVPDLLDIAGTDICIQAGGGIHGHPDGTRAGAKALRQAVEAVMEGISIEEYAKEHPELATALDKWGHVTPR',\n",
    "  'MSERYEDFLDLNYTPGDTDLVCTFRIEPAEGMSLEEAASRVASESSNGTWAALQTMEDIKDLKAKVFSIDGNIIKVAYPLGLFEAGNMPQILSSIAGNIFGMKAVKTIRLLDCHFPESIVSSFKGPQFGSSGRRELFGVHDRPLTATVPKPKVGLSAEEHAEIGYEAWVGGLDLIKDDENLTSQPFNPFEERVKKSMEMRDKAEEETGEKKSYLVNITAETNEMLERADLVADQGGEYVMVDIITAGWSAVQTVRERCEDLGLAIHAHRAMHAAFDRLPKHGVSMRVLAKLARLCGVDQLHTGTGLGKMENEKEVLAINDWLRSDLYGINPVLPVASGGLHPGLVPELIEAAGTDICIQAGGGIHGHPDGTRAGAKALRQAIEAVMEGISIEEYADDHPELAKALEKWGHVTPK',\n",
    "  'MSKRYTDYIDLNYTPKENDLICTFHIEPADGVDLEEAAGRVAAESSTGTWTDVSTMPEIWEKLKARVYEIDESGNIVKIAYPLDLFEPGNIPQILSSIAGNIFGMKAVKNLRLLDIRFPKELVKSFKGPKFGIEGVRELLGVYDRPLVGTIVKPKVGLSAEEHAEVAYEAWVGGLDLVKDDENLTSQPFNPFEERVKKVLEARDKAEEETGEKKVYLVNITAPTEEMIRRAELVADLGGKYVMIDIITAGFSAVQSLREEDLGLAIHAHRAMHAAFTRNPKHGISMLVLAKLARLVGVDQLHIGTVVGKMEGDKEEVLAIRDALRLDRVPADEANHFLEQDWYNIKPVFPVASGGLHPGLVPDLIDIFGKDVIIQAGGGVHGHPDGTRAGAKALRQAIEAAMEGISLEEYAKEHPELAKALEKWGHVR',\n",
    "  'MSRYTDYVDLNYTPKENDLICTFHIEPADGVDLEEAAGRVAAESSIGTWTDVSTMKPEIWEKLKARVYEIDESGNIVKIAYPLDLFEPGNIPQILSSIAGNIFGMKAVKNLRLLDIHFPKELVKSFKGPKFGIEGVRELLGVYDRPLVGTIVKPKVGLSAEEHAEVAYEAWVGGLDLVKDDENLTSQPFNPFEERVKKVLEARDKAEEETGEKKVYLVNITAPTEEMIRRAELVKDLGGKYVMIDIITAGFSAVQSLREEDLGLAIHAHRAMHAAFTRNPKHGISMLVLAKLARLVGVDQLHIGTVVGKMEGDKEEVLAIRDALRLDRVPADEANHFLEQDWYNIKPVFPVASGGLHPGLVPDLIDIFGKDVIIQAGGGVHGHPDGTRAGAKALRQAIEAVMEGISLEEYAKEHPELAKALEKWGHVPK',\n",
    "  'MSKRYTDYIDLNYTPKENDLICTFHIEPADGVDLEEAAGRVAAESSIGTWTDVSTMPEIWEKLKARVYEIDESGNIVKIAYPLDLFEPGNIPQILSSIAGNIFGMKAVKNLRLLDIRFPKELVKSFKGPKFGIEGVRELLGVYDRPLVGTIVKPKVGLSAEEHAEVAYEAWVGGLDLVKDDENLTSQPFNPFEERVKKVLEARDKAEEETGEKKVYLVNITAPTEEMIRRAELVKDLGGKYVMIDIITAGFSAVQSLREEDLGLAIHAHRAMHAAFTRNPKHGISMLVLAKLARLVGVDQLHIGTGVGKMEGDKEEVLAIRDALRLDRVPADEANHFLEQDWYNIKPVFPVASGGLHPGLVPDLIDIFGKDIIIQAGGGVHGHPDGTRAGAKAMRQAIEAVMEGISLEEYAKEHKELAKALEKWGHVPK',\n",
    "  'MSGERYTDFVDLNYTPGETDLICTFRIEPADGISMEAAAGRVASESSNGTWTTLQVMPDRITKLSAKVFEIDGNIVKVAYPLGLFEPGNMPQILSCIAGNIMGMKAVDTLRLLDIHWPEEIVKSFKGPQFGSEVRRELFGVHDRPITATVPKPKVGLSAEEHAEVAYEAWVGGLDLLKDDENLTDQPFNPFEERLTKVLEMRDKAEEETGEKKAYLVNITAETNEMLRRAEMVADQGGEYVMVDVITAGWAAVQTVRERCEDLGLAIHAHRAMHAAFDRLPSHGISMLVLAQIARLCGVDQLHTGTGVGKLAGDDVVGINEMLRSDWYGIKDVFPVASGGLHPGLVPELLEIAGTNIIIQAGGGVHGHPDGTRAGAKALRQAIDAVVEGISIEEYAKEHPELATALDKWGTVTPR',\n",
    "  'MSKRYTDYVDLNYTPKENDLICTFHIEPADGVDLEEAAGRVAAESSTGTWTDVSTMKPEIWEKLKARVYEIDESGNIVKIAYPLDLFEPGNIPQILSSIAGNIFGMKAVKNLRLLDIRFPKELVKSFKGPKFGIEGVRELLGVYDRPLVGTIVKPKVGLSAEEHAEVAYEAWVGGLDLVKDDENLTSQPFNPFEERVKKVLEARDKAEEETGEKKVYLVNITAPTEEMIRRAELVKDLGGKYVMIDIITAGFSAVQSLREEDLGLAIHAHRAMHAAFTRNPKHGISMLVLAKLARLVGVDQLHIGTGVGKMEGDKEEVLAIRDALRLDRVPADEANHFLEQDWYNIKPVFPVASGGLHPGLVPDLIDIFGKDVIIQAGGGVHGHPDGTRAGAKALRQAIEAAMEGISLEEYAKEHPELAKALEKWGHVP',\n",
    "  'MSGETYEDFLDLNYTPGDNDLICTFRIEPAEGMSLEAAASRVASESSNGTWAALQVMERIKDLKATTFSIDGNIVKIAYPLGLFEPGNIPQILSCIAGNIMGMKAVKTLRLLDIEWPEEIVSSFPGPQFGISGVRELLGVHDRPLTATVPKPKVGLSAEEHAQIGYEAWVGGLDLLKDDENLTSQPFNPFEERVKEVLAMRDKAEEETGEKKSYLVNITAPTEEMLERAELVAEQGGEYVMIDIITAGWSAVQTLRERCEDLGLAIHAHRAMHAAFDRLPSHGVSMRVLAQIARLCGVDQLHTGTAGLGKLEGDKDTLAINDMLRQDLYGIKPVLPVASGGLHPGLVPELIDAFGTNIIIQAGGGVHGHPDGTRAGAKALRQAVEAVMEGISIEEYADEHPELATALEKWGHVRPR',\n",
    "  'MSKRYTDYVDLNYTPKENDLICCFHIEPADGVDLEEAAGRVAAESSTGTWTDVSTMPEIWEKLKARVYEIDESGNIVKIAYPLDLFEPGNIPQILSSIAGNIFGMKAVKNLRLLDIRFPEELVKSFKGPKFGIEGVRELLGVYDRPLVGTIVKPKVGLSAEEHAEVAYEAWVGGLDLVKDDENLTSQPFNPFEERVKKVLEARDKAEEETGEKKVYLVNITAPTEEMIRRAELVKDLGGKYVMIDIITAGFSAVQSLREEDLGLAIHAHRAMHAAFTRNPKHGISMLVLAKLARLVGVDQLHIGTVVGKMEGDKEEVLAIRDALRLDRVPADEANHFLEQDWYNIKPVFPVASGGLHPGLVPDLIDIFGKDIIIQAGGGVHGHPDGTRAGAKAMRQAIEAAMEGISLEEYAKEHKELAKALEKWGHVRP',\n",
    "  'MSIRYTDFVDLNYEPGDTDLICTFRIEPADGMSMEEAAGRVASESSNGTWAALSTDEDITDLSAKVFEIDGNIVKVAYPLGLFEPGNMPQILSCIAGNIMGMKAVDTLRLLDIEWPEELVSSFKGPQFGSEGVRELFGVHDRPLTATVPKPKVGLSTEQHAQIGYEAWVGGIDLIKDDENLTSQAFNPFEDRVKEVLEMRDKAEEETGEKKSYLVNITAETNEMLERADLVADYGGEYVMVDVITAGWSAVQTLRERCEDLGLAIHAHRAMHAAFTRLPSHGISMLVLAKIARLCGVDQLHTGTGLGKMAGDEVVAIAEWLRSDWYNIKDVLPVASGGLHPGLVPDLLDIFGKDIIIQAGGGIHGHPDGTRAGAKALRQAVDAAMEGVSIEEYAKDHPELATALEKWGTVRPR',\n",
    "  'MSKRYTDYVDLNYTPKENDLICTFHIEPADGVDLEEAAGRVAAESSIGTWTDVSTMPEIVEKLKARVYEIDESGNIVKIAYPLDLFEPGNIPQILSSIAGNIFGMKAVKNLRLLDIRFPKELVKSFKGPKFGIEGVRELLGVYDRPLVGTIVKPKVGLSAEEHAEVAYEAWVGGLDLVKDDENLTSQPFNPFEERVKKTLEARDKAEEETGEKKVYLVNITAPTEEMIRRAELVKDLGGKYVMIDIITAGFSAVQSLREEDLGLAIHAHRAMHAAFTRNPKHGISMLVLAKLARLVGVDQLHIGTGVGKMEGDKEEVLAIRDALRLDRVPADEANHFLEQDWYNIKPVFPVASGGLHPGLVPDLIDIFGKDIIIQAGGGVHGHPDGTRAGAKAMRQAIEAAMEGISLEEYAKEHPELAKALEKWGHVR',\n",
    "  'MSGIRYTDFLDLNYTPGETDLICTFRIEPADGMSLEEAASRVASESSNGTWTTLQTMDDIKDLKAKVFSIDGNTVKVAYPLGLFEPGNMPQILSSIAGNIMGMKAVKTIRLLDCHWPESLLKSFKGPQFGISGRREIFGVHDRPLTATVPKPKVGLSTEQHAQVGYEAWVGGIDLIKDDENLTSQAFNPFEDRVTEVLEMRDKAEEETGEKKSYLVNITAETNEMLERADMVADQGGEYVMVDIITAGWSAVQTLRERCEDLGLAIHAHRAMHAAFTRNPKHGISMRVLAQIARLVGVDQLHTGTGVGKLANEEEVVGINDWLRQDLYNIKDVFPVASGGLHPGLVPDLIDAFGTNICIQAGGGVHGHPDGTRAGAKALRQAVEAAMEGVSIEEYAKEHPELAKALDKWGHERPR',\n",
    "  'MSKRYTDYIDLNYTPKENDLICTFHIEPADGVDLEEAAGRVAAESSTGTWTDVSTMPEIVEKLKARVYEIDESGNIVKIAYPLDLFEPGNIPQILSSIAGNIFGMKAVKNLRLLDIHFPKELVKSFKGPKFGIEGVRELLGVYDRPLVGTIVKPKVGLSAEEHAEVAYEAWVGGLDLIKDDENLTSQPFNPFEERVKKVLEARDKAEEETGEKKVYLVNITAPTEEMIRRAELVKDLGGKYVMIDIITAGFSAVQSLREEDLGLAIHAHRAMHAAFTRNPKHGISMLVLAKLARLVGVDQLHIGTVVGKMEGDKEEVLAIRDALRLDRVPADEANHFLEQDWYNIKPVFPVASGGLHPGLVPDLIDIFGKDVIIQAGGGVHGHPDGTRAGAKAMRQAIEAVMEGISLEEYAKEHKELKKALEKWGHVR',\n",
    "  'MSRYTDYVDLNYTPKENDLICTFHIEPADGVDLEEAAGRVAAESSIGTWTDVSTMPEIWEKLKARVYEIDETGNIVKIAYPLDLFEPGNIPQILSSIAGNIFGMKAVKNLRLLDIRFPKELVKSFKGPKFGIEGVRELLGVYDRPLVGTIVKPKVGLSAEEHAEVAYEAWVGGLDLVKDDENLTSQPFNPFEERVKKVLEARDKAEEETGEKKVYLVNITAPTEEMIRRAELVADLGGKYVMIDIITAGFSAVQSLREEDLGLAIHAHRAMHAAFTRNPKHGISMLVLAKLARLVGVDQLHIGTVVGKMEGDKEEVLAIRDALRLDRVPADEANHFLEQDWYNIKPVFPVASGGLHPGLVPDLIDIFGKDIIIQAGGGVHGHPDGTRAGAKAMRQAIEAVMEGISLEEYAKEHKELAKALEKWGHVRPK',\n",
    "  'MSRYTDYVDLNYTPKENDLICTFHIEPADGVDLEEAAGRVAAESSTGTWTDVSTMKPEIWEKLKARVYEIDESGNIVKIAYPLDLFEPGNIPQILSSIAGNIFGMKAVKNLRLLDIHFPKELVKSFKGPKFGIEGVRELLGVYDRPLVGTIVKPKVGLSAEEHAEVAYEAWVGGLDLIKDDENLTSQPFNPFEERVKKVMEARDKAEEETGEKKVYLVNITAPTEEMIRRAELVKDLGGKYVMIDIITAGFSAVQSLREEDLGLAIHAHRAMHAAFTRNPKHGISMLVLAKLARLVGVDQLHIGTVVGKMEGDKEEVLAIRDALRLDRVPADEANHFLEQDWYNIKPVFPVASGGLHPGLVPDLIDIFGKDVIIQAGGGVHGHPDGTRAGAKAMRQAIEAAMEGISLEEYAKEHPELAKALEKWGHVR',\n",
    "  'MSKRYTDYVDLNYTPKENDLICTFHIEPADGVDLEEAAGRVAAESSIGTWTDVSTMPEIWEKLKARVYEIDETGNIVKIAYPLDLFEPGNIPQILSSIAGNIFGMKAVKNLRLLDIRFPEELVKSFKGPKFGIEGVRELLGVYDRPLVGTIVKPKVGLSAEEHAEVAYEAWVGGLDLVKDDENLTSQPFNPFEERVKKVLEARDKAEEETGEKKVYLVNITAPTEEMIRRAELVKDLGGKYVMIDIITAGFSAVQSLREEDLGLAIHAHRAMHAAFTRNPKHGISMLVLAKLARLVGVDQLHIGTVVGKMEGDKEEVLAIRDALRLDRVPADEANHFLEQDWYNIKPVFPVASGGLHPGLVPDLIDIFGKDIIIQAGGGVHGHPDGTRAGAKAMRQAIEAVMEGISLEEYAKEHPELAKALEKWGHVR',\n",
    "  'MSERYTDFVDLSYEPGETDLICTFRIEPADGISMEAAASRVASESSTGTWAALQVMERVTDLKAKVFEIDGNIVKVAYPLGLFEPGNIPQILSSIAGNIMGMKAVKTLRLLDIEWPEELLSSFPGPQFGSEVRREIFGVHDRPLTATVPKPKVGLSTEQHAEVAYEAWVGGLDLIKDDENLTDQAFNPFEERLKEVMEARDKAEDETGEKKSYLVNITAPTEEMLERAELVAEQGGEYVMVDVITAGWAAVQTVRERCEDLGLAIHAHRAMHAAFDRLPSHGISMRVLAQLARLCGVDQLHTGTGLGKLEGDKETVGINDWLRSDLYNMKDVFPVASGGLHPGLVPELIEIAGTDIIIQAGGGVHGHPDGTRAGAKALRQAVEAAVEGVSIEEYAKDHPELAKALDKWGTVRPR',\n",
    "  'MSETYEDFVDLNYEPGDNDLVCTFRIEPADGISMEEAAGRVASESSNGTWAALQTMDRVKKLSAKVFEIDGNIVKVAYPLGLFEPGNMPQILSCIAGNIFGMKAVDTLRLLDIHFPESLLKSFKGPQFGSSGVRELFGVHDRPITATVPKPKVGLSTEQHAQVGYEAWVGGIDLLKDDENLTSQPFNPFEDRLTKSLEARDKAEEETGEKKSYLVNITAETEEMLERAEMVADQGGEYVMVDIITAGWAAVQTLRERCEDLGLAIHAHRAMHAAFTRLPKHGISMRVLAQLARLCGVDQLHTGTAGLGKLENDDVVAINEWLRQDWYGINDVLPVASGGLHPGLVPELLEIFGKDICIQAGGGVHGHPDGTRAGAKALRQAVDAVVEGVSLEEYAKDHPELATALDKWGTVRPR',\n",
    "  'MSKRYTDYVDLNYTPKENDLICTFHIEPADGVDLEEAAGRVAAESSIGTWTDVSTMPEIWEKLKARVYEIDETGNIVKIAYPLDLFEPGNIPQILSSIAGNIFGMKAVKNLRLLDIHFPKELVKSFKGPKFGIEGVRELLGVYDRPLVGTIVKPKVGLSAEEHAEVAYEAWVGGIDLVKDDENLTSQPFNPFEERVKKVLEARDKAEEETGEKKVYLVNITAPTEEMIRRAELVKDLGGKYVMIDIITAGFSAVQSLREEDLGLAIHAHRAMHAAFTRNPKHGISMLVLAKLARLVGVDQLHIGTVVGKMEGDKEEVLAIRDALRLDRVPADEANHFLEQDWYNIKPVFPVASGGLHPGLVPDLIDIFGKDVIIQAGGGVHGHPDGTRAGAKALRQAIEAAMEGISLEEYAKEHPELAKALEKWGHVP',\n",
    "  'MSKYTDYVDLNYTPKENDLICTFHIEPADGVDLEEAAGRVAAESSIGTWTDVSTMPEIWEKLKARVYEIDESGNIVKIAYPLDLFEPGNIPQILSSIAGNIFGMKAVKNLRLLDIRFPEELVKSFKGPKFGIEGVRELLGVYDRPLVGTIVKPKVGLSAEEHAEVAYEAWVGGLDLVKDDENLTSQPFNPFEERVKKVLEARDKAEEETGEKKVYLVNITAPTEEMIRRAELVADLGGKYVMIDIITAGFSAVQSLREEDLGLAIHAHRAMHAAFTRNPKHGISMLVLAKLARLVGVDQLHIGTVVGKMEGDKEEVLAIRDALRLDRVPADEANHFLEQDWYNIKPVFPVASGGLHPGLVPDLIDIFGKDIIIQAGGGVHGHPDGTRAGAKALRQAIEAAMEGISLEEYAKEHPELKKALEKWGHVR',\n",
    "  'MSERYTDFLDLNYEPTETDLICTFRIEPAEGMSLEAAASRVASESSTGTWATLQVMERIKKLSATTFSIDGNTVKIAYPAGLFEAGNMPQILSSIAGNIMGMKAVKTLRLLDCEWPEELVSSFKGPQFGSEVVREIFGVHDRPITATVPKPKVGLSTEQHAEVAYEAWVGGLDLLKDDENLTDQPFNPFEERLKEVLAMRDKAEDETGEKKSYLVNITAETNEMLRRAELVAEQGGEYVMVDIITAGWAAVQTLRERCEDLGLAIHAHRAMHAAFDRNPKHGISMLVLAQIARLVGVDQLHTGTGLGKMANDKDVVGIADWLRQDWYNIKPVFPVASGGLHPGLVPELLEAAGKNIIIQAGGGIHGHPDGTRAGAKALRQAVEAAMEGISLEEYADEHPELAKALEKWGHVRPK',\n",
    "  'MSKRYTDYIDLNYTPKENDLICTFHIEPADGVDLEEAAGRVAAESSIGTWTDVSTMPEIWEKLKARVYEIDESGNIVKIAYPLDLFEPGNIPQILSSIAGNIFGMKAVKNLRLLDIRFPEELVKSFKGPKFGIEGVRELLGVYDRPLVGTIVKPKVGLSAEEHAEVAYEAWVGGLDLVKDDENLTSQPFNPFEERVKKVMEARDKAEEETGEKKVYLVNITAPTEEMIRRAELVKDLGGKYVMIDIITAGFSAVQSLREEDLGLAIHAHRAMHAAFTRNPKHGISMLVLAKLARLVGVDQLHIGTVVGKMEGDKEEVLAIRDALRLDRVPADEANHFLEQDWYNIKPVFPVASGGLHPGLVPDLIDIFGKDVIIQAGGGVHGHPDGTRAGAKALRQAIEAAMEGISLEEYAKEHPELKKALEKWGHVPK',\n",
    "  'MSGITYTDFVDLNYTPGDTDLICTFRIEPAEGMSLEAAASRVASESSNGTWTTLQVDERIKKLSATVFEIDGNTIKVAYPLGLFEAGNIPQILSSIAGNIMGMKAVKTLRLLDIHWPEEILSSFPGPQFGSEGRQEILGVHDRPLTATVPKPKVGLSAEEHAQVGYEAWVGGLDLIKDDENLTSQAFNPFEDRLKKSMAARDKAEDETGEKKAYLVNITAETEEMLERAEMVAEYGGEYVMIDIITAGWAAVQTVRERCEDLGLAIHAHRAMHAAFDRNPSHGISMRVLAKLARLVGVDQLHTGTGLGKMEGDEEVVAIAEWLRSDWYNMKDVFPVASGGLHPGLVPDLLDAAGTNIIIQAGGGIHGHPDGTRAGAKALRQAVEAVVEGVSLEEYAKEHPELATALEKWGTERPR',\n",
    "  'MSERYEDFVDLNYEPGETDLICTFRIEPAEGISLEAAAGRVASESSNGTWAALSTDPERIKKLSAKTFEIDGNTVKIAYPLGLFEAGNMPQILSCIAGNIFGMKAVKNLRLLDCHWPESLVSSFKGPQFGSEVRRELLGVDDRPITATVPKPKVGLSTEEHAQVGYEAWVGGLDLIKDDENLTSQAFNPFEERLKEVMAARDKAEEETGEKKAYLVNITAETNEMLRRADMVADYGGEYVMVDVITAGWSAVQTLRERCEDLGLAIHAHRAMHAAFDRLPKHGISMRVLAQIARLCGVDQLHTGTAGVGKMAGDETVAINDWLRSDWYGMKDVLPVASGGLHPGLVPELIDIFGTNIIIQAGGGVHGHPDGTRAGAKALRQAVDAAVEGVSIEEYADEHPELAKALEKWGHVRPR',\n",
    "  'MSKRYTDYVDLNYTPKENDLICTFHIEPADGVDLEEAAGRVAAESSIGTWTDVSTMKPEIWEKLKARVYEIDESGNIVKIAYPLDLFEPGNIPQILSSIAGNIFGMKAVKNLRLLDIRFPEELVKSFKGPKFGIEGVRELLGVYDRPLVGTIVKPKVGLSAEEHAEVAYEAWVGGLDLVKDDENLTSQPFNPFEERVKKVLEARDKAEEETGEKKVYLVNITAPTEEMIRRAELVKDLGGKYVMIDIITAGFSAVQSLREEDLGLAIHAHRAMHAAFTRNPKHGISMLVLAKLARLVGVDQLHIGTGVGKMEGDKEEVLAIRDALRLDRVPADEANHFLEQDWYNIKPVFPVASGGLHPGLVPDLIDIFGKDIIIQAGGGVHGHPDGTRAGAKALRQAIEAVMEGISLEEYAKEHKELKKALEKWGHVP',\n",
    "  'MSIRYEDFVDLSYEPTDTDLICTFRIEPADGMSLEEAAGRVASESSTGTWAALSTDDRVKKLKAKVFSIDGNIVKIAYPLGLFEPGNMPQILSSIAGNIMGMKAVKTLRLLDCHWPEEILKSFPGPQFGSSVVRELFGVHDRPLTATVPKPKVGLSTEEHAQIGYEAWVGGLDLLKDDENLTSQPFNPFEERLKEVMEMRDKAEDETGEKKSYLVNITAETNEMLRRADMVADQGGEYVMIDIITAGWAAVQTVRERCEDLGLAIHAHRAMHAAFDRNPSHGVSMRVLAKIARLCGVDQLHTGTGLGKLANEEDTVAIAEWLRQDWYGMKPVLPVASGGLHPGLVPDLLEIFGTNIIIQAGGGVHGHPDGTRAGAKALRQAIEAVMEGISIEEYAKDHPELAKALDKWGHETPK',\n",
    "  'MSIRYTDFLDLSYEPGDNDLICTFRIEPADGMSMEAAAGRVASESSNGTWTALQVMEDVTDLKAKVFSIDGNIIKVAYPLGLFEPGNMPQILSCIAGNIMGMKAVKTLRLLDIEWPEELVSSFKGPQFGISGVQEILGVDDRPLTATVPKPKVGLSTEEHAEIGYEAWVGGIDLLKDDENLTSQAFNPFEERVKKVMEMRDKAEEETGEKKSYLVNITAETNEMLRRAELVAEQGGEYVMVDIITAGWSAVQTLRERCEDLGLAIHAHRAMHAAFDRLPSHGVSMLVLAKLARLVGVDQLHTGTGLGKLEGEEEVVGINEWLRQDWYNMKDVFPVASGGLHPGLVPELLDAFGKNICIQAGGGVHGHPDGTRAGAKALRQAIEAAMEGVSLEEYADDHPELAKALEKWGTETPK',\n",
    "  'MSGITYEDFVDLNYTPGDTDLICTFRIEPADGMSLEAAAGRVASESSNGTWAALSVMDRVKDLKATTFEIDGNIIKVAYPAGLFEAGNMPQILSCIAGNIMGMKAVKTLRLLDIEWPESIVSSFKGPQFGSSVVQELLGVDDRPITATVPKPKVGLSAEEHAEVGYEAWVGGLDLIKDDENLTDQPFNPFEDRVKKVLEMRDKAEEETGEKKSYLVNITAPTNEMLERAELVAEQGGEYVMIDIITAGWSAVQTVRERCEDLGLAIHAHRAMHAAFTRNPKHGVSMRVLAKIARLVGVDQLHTGTGVGKMEGEKDVLAINDMLRSDLYNIKPVLPVASGGLHPGLVPDLLDIFGKNICIQAGGGIHGHPDGTRAGAKALRQAIEAAVEGISIEEYADEHPELATALDKWGTVRPK',\n",
    "  'MSTDYIDLNYTPKENDLICCFHIEPADGVDLEEAAGRVAAESSIGTWTDVSTMKPEIWEKLKARVYEIDETGNIVKIAYPLDLFEPGNIPQILSSIAGNIFGMKAVKNLRLLDIRFPKELVKSFKGPKFGIEGVRELLGVYDRPLVGTIVKPKVGLSAEEHAEVAYEAWVGGLDLVKDDENLTSQPFNPFEERVKKTLEARDKAEEETGEKKVYLVNITAPTEEMIRRAELVKDLGGKYVMIDIITAGFSAVQSLREEDLGLAIHAHRAMHAAFTRNPKHGISMLVLAKLARLVGVDQLHIGTVVGKMEGDKEEVLAIRDALRLDRVPADEANHFLEQDWYNIKPVFPVASGGLHPGLVPDLIDIFGKDVIIQAGGGVHGHPDGTRAGAKAMRQAIEAAMEGISLEEYAKEHKELKKALEKWGH',\n",
    "  'MSKRYTDYIDLNYTPKENDLICTFHIEPADGVDLEEAAGRVAAESSTGTWTDVSTMPEIWEKLKARVYEIDETGNIVKIAYPLDLFEPGNIPQILSSIAGNIFGMKAVKNLRLLDIRFPKELVKSFKGPKFGIEGVRELLGVYDRPLVGTIVKPKVGLSAEEHAEVAYEAWVGGLDLIKDDENLTSQPFNPFEERVKKVLEARDKAEEETGEKKVYLVNITAPTEEMIRRAELVKDLGGKYVMIDIITAGFSAVQSLREEDLGLAIHAHRAMHAAFTRNPKHGISMLVLAKLARLVGVDQLHIGTGVGKMEGDKEEVLAIRDALRLDRVPADEANHFLEQDWYNIKPVFPVASGGLHPGLVPDLIDIFGKDVIIQAGGGVHGHPDGTRAGAKALRQAIEAVMEGISLEEYAKEHKELKKALEKWGHVRK',\n",
    "  'MSKRYTDYIDLNYTPKENDLICTFHIEPADGVDLEEAAGRVAAESSIGTWTDVSTMPEIVEKLKARVYEIDESGNIVKIAYPLDLFEPGNIPQILSSIAGNIFGMKAVKNLRLLDIRFPEELVKSFKGPKFGIEGVRELLGVYDRPLVGTIVKPKVGLSAEEHAEVAYEAWVGGLDLIKDDENLTSQPFNPFEERVKKVMEARDKAEEETGEKKVYLVNITAPTEEMIRRAELVKDLGGKYVMIDIITAGFSAVQSLREEDLGLAIHAHRAMHAAFTRNPKHGISMLVLAKLARLVGVDQLHIGTVVGKMEGDKEEVLAIRDALRLDRVPADEANHFLEQDWYNIKPVFPVASGGLHPGLVPDLIDIFGKDVIIQAGGGVHGHPDGTRAGAKAMRQAIEAAMEGISLEEYAKEHPELKKALEKWGHVP',\n",
    "  'MSKRYTDYIDLNYTPKENDLICTFHIEPADGVDLEEAAGRVAAESSTGTWTDVSTMPEIVEKLKARVYEIDESGNIVKIAYPLDLFEPGNIPQILSSIAGNIFGMKAVKNLRLLDIRFPKELVKSFKGPKFGIEGVRELLGVYDRPLVGTIVKPKVGLSAEEHAEVAYEAWVGGLDLVKDDENLTSQPFNPFEERVKKVLEARDKAEEETGEKKVYLVNITAPTEEMIRRAELVADLGGKYVMIDIITAGFSAVQSLREEDLGLAIHAHRAMHAAFTRNPKHGISMLVLAKLARLVGVDQLHIGTVVGKMEGDKEEVLAIRDALRLDRVPADEANHFLEQDWYNIKPVFPVASGGLHPGLVPDLIDIFGKDVIIQAGGGVHGHPDGTRAGAKALRQAIEAVMEGISLEEYAKEHKELKKALEKWGHVR',\n",
    "  'MSERYTDFVDLNYTPGENDLICTFRIEPADGISLEEAAGRVASESSTGTWTTLSTMPERVKKLKAKVFEIDGNIVKIAYPLDLFEPGNIPQILSSIAGNIFGMKAVKNLRLLDIHFPEELLKSFKGPQFGIEGVRELLGVHDRPLTATVPKPKVGLSAEEHAEVAYEAWVGGIDLIKDDENLTSQPFNPFEERVKKVMEARDKAEEETGEKKAYLVNITAPTEEMLRRAELVADYGGEYVMIDIITAGWSAVQTLRERCEDLGLAIHAHRAMHAAFTRNPKHGISMLVLAKLARLVGVDQLHTGTGVGKMEGDKEEVLAIADMLRQDWYNIKPVFPVASGGLHPGLVPDLIEIFGKDIIIQAGGGVHGHPDGTRAGAKALRQAIEAVMEGISLEEYAKEHPELAKALEKWGHVRPK',\n",
    "  'MSRYTDYVDLNYTPKENDLICCFHIEPADGVDLEEAAGRVAAESSTGTWTDVSTMPEIWEKLKARVYEIDESGNIVKIAYPLDLFEPGNIPQILSSIAGNIFGMKAVKNLRLLDIRFPKELVKSFKGPKFGIEGVRELLGVYDRPLVGTIVKPKVGLSAEEHAEVAYEAWVGGLDLVKDDENLTSQPFNPFEERVKKVMEARDKAEEETGEKKVYLVNITAPTEEMIRRAELVKDLGGKYVMIDIITAGFSAVQSLREEDLGLAIHAHRAMHAAFTRNPKHGISMLVLAKLARLVGVDQLHIGTVVGKMEGDKEEVLAIRDALRLDRVPADEANHFLEQDWYNIKPVFPVASGGLHPGLVPDLIDIFGKDIIIQAGGGVHGHPDGTRAGAKALRQAIEAVMEGISLEEYAKEHPELAKALEKWGHV',\n",
    "  'MSIRYEDFLDLNYEPGDTDLICTFRIEPADGISLEAAAGRVASESSNGTWAALSVMDDIKKLKAKVFEIDGNTVKVAYPLGLFEPGNMPQILSSIAGNIMGMKAVKTLRLLDIEWPEEILKSFPGPQFGSSVRQELFGVDDRPLTATVPKPKVGLSAEEHAEVGYEAWVGGIDLIKDDENLTDQAFNPFEDRLTKSMAMRDKAEEETGEKKSYLVNITAPTNEMLERADMVAEQGGEYVMIDIITAGWSAVQTLRERCEDLGLAIHAHRAMHAAFDRLPSHGISMRVLAKIARLVGVDQLHTGTAGVGKLEGDKEVVAINEWLRQDWYGMKDVFPVASGGLHPGLVPDLIEIFGTDICIQAGGGIHGHPDGTRAGAKALRQAVEAVVEGISLEEYAKDHPELATALDKWGHERPK',\n",
    "  'MSIRYEDFLDLSYEPGETDLVCTFRIEPAEGMSLEEAAGRVASESSNGTWTTLSTDPEDITDLKATVFSIDGNIIKIAYPLDLFEAGNMPQILSSIAGNIFGMKAVDNIRLLDIHWPESLVKSFKGPQFGISVRRELFGVHDRPLTATVPKPKVGLSTEEHAEVGYEAWVGGLDLIKDDENLTDQPFNPFEERVKKVLEARDKAEEETGEKKAYLVNITAETEEMLRRADMVAEQGGEYVMVDIITAGWAAVQTLRERCEDLGLAIHAHRAMHAAFDRLPKHGISMLVLAQLARLCGVDQLHTGTGVGKLANEDTLAINEMLRSDWYGMKDVFPVASGGLHPGLVPELLDAFGTNIIIQAGGGIHGHPDGTRAGAKALRQAVEAVVEGVSLEEYAKEHPELATALDKWGHVRPR',\n",
    "  'MSGITYEDFLDLSYEPTDTDLVCTFRIEPAEGMSMEAAASRVASESSNGTWAALQVDDDITDLSATTFSIDGNTIKVAYPAGLFEAGNMPQILSCIAGNIMGMKAVDTIRLLDCEWPESIVSSFPGPQFGSSVRQEIFGVDDRPITATVPKPKVGLSTEQHAQIGYEAWVGGLDLLKDDENLTDQAFNPFEDRLTESLAMRDKAEDETGEKKSYLVNITAETNEMLERADMVAEQGGEYVMVDVITAGWAAVQTVRERCEDLGLAIHAHRAMHAAFDRLPSHGVSMRVLAQIARLCGVDQLHTGTAGLGKLANEDTVGINEWLRSDLYGMNDVLPVASGGLHPGLVPELLDAAGTNICIQAGGGIHGHPDGTRAGAKALRQAVDAAVEGVSIEEYADDHPELATALDKWGTETPR',\n",
    "  'MSGIRYTDFVDLNYEPTENDLICTFRIEPADGMSMEEAAGRVASESSNGTWAALSTMERVKKLSATTFEIDGNIVKVAYPLGLFEPGNMPQILSCIAGNIMGMKAVKNLRLLDCHFPEELLKSFPGPQFGISVRRELFGVDDRPLTATVPKPKVGLSAEQHAEVGYEAWVGGIDLIKDDENLTSQPFNPFEDRLTKSLEMRDKAEDETGEKKSYLVNITAPTNEMLERADLVAEYGGEYVMVDIITAGWSAVQTVRERCEDLGLAIHAHRAMHAAFDRLPKHGISMRVLAQIARLCGVDQLHTGTAGVGKMAGDETLGINDWLRSDWYNIKPVLPVASGGLHPGLVPELLDIAGTNIIIQAGGGIHGHPDGTRAGAKALRQAVDAAMEGISLEEYADDHPELAKALDKWGTVRPR',\n",
    "  'MSKRYTDYVDLNYTPKENDLICTFHIEPADGVDLEEAAGRVAAESSIGTWTDVSTMPEIWEKLKARVYEIDESGNIVKIAYPLDLFEPGNIPQILSSIAGNIFGMKAVKNLRLLDIRFPKELVKSFKGPKFGIEGVRELLGVYDRPLVGTIVKPKVGLSAEEHAEVAYEAWVGGLDLVKDDENLTSQPFNPFEERVKKVMEARDKAEEETGEKKVYLVNITAPTEEMIRRAELVKDLGGKYVMIDIITAGFSAVQSLREEDLGLAIHAHRAMHAAFTRNPKHGISMLVLAKLARLVGVDQLHIGTVVGKMEGDKEEVLAIRDALRLDRVPADEANHFLEQDWYNIKPVFPVASGGLHPGLVPDLIDIFGKDVIIQAGGGVHGHPDGTRAGAKALRQAIEAVMEGISLEEYAKEHKELKKALEKWGHVPK',\n",
    "  'MSKRYTDYVDLNYTPKENDLICTFHIEPADGVDLEEAAGRVAAESSIGTWTDVSTMPEIWEKLKARVYEIDETGNIVKIAYPLDLFEPGNIPQILSSIAGNIFGMKAVKNLRLLDIRFPEELVKSFKGPKFGIEGVRELLGVYDRPLVGTIVKPKVGLSAEEHAEVAYEAWVGGLDLIKDDENLTSQPFNPFEERVKKVMEARDKAEEETGEKKVYLVNITAPTEEMIRRAELVKDLGGKYVMIDIITAGFSAVQSLREEDLGLAIHAHRAMHAAFTRNPKHGISMLVLAKLARLVGVDQLHIGTVVGKMEGDKEEVLAIRDALRLDRVPADEANHFLEQDWYNIKPVFPVASGGLHPGLVPDLIDIFGKDIIIQAGGGVHGHPDGTRAGAKAMRQAIEAVMEGISLEEYAKEHPELKKALEKWGHV',\n",
    "  'MSKRYTDYVDLNYTPKENDLICTFHIEPADGVDLEEAAGRVAAESSTGTWTDVSTMPEIVEKLKARVYEIDESGNIVKIAYPLDLFEPGNIPQILSSIAGNIFGMKAVKNLRLLDIRFPKELVKSFKGPKFGIEGVRELLGVYDRPLVGTIVKPKVGLSAEEHAEVAYEAWVGGLDLVKDDENLTSQPFNPFEERVKKTLEARDKAEEETGEKKVYLVNITAPTEEMIRRAELVKDLGGKYVMIDIITAGFSAVQSLREEDLGLAIHAHRAMHAAFTRNPKHGISMLVLAKLARLVGVDQLHIGTVVGKMEGDKEEVLAIRDALRLDRVPADEANHFLEQDWYNIKPVFPVASGGLHPGLVPDLIDIFGKDVIIQAGGGVHGHPDGTRAGAKAMRQAIEAVMEGISLEEYAKEHPELKKALEKWGHVRP',\n",
    "  'MSIRYEDFVDLNYTPGDNDLVCTFRIEPAEGISMEAAAGRVASESSNGTWAALSVMPERIKDLKAKTFSIDGNIIKIAYPLGLFEPGNIPQILSCIAGNIFGMKAVDTIRLLDCHWPEEIVSSFKGPQFGSSGRREIFGVDDRPITATVPKPKVGLSAEEHAEIGYEAWVGGLDLIKDDENLTDQPFNPFEERVTKSMEARDKAEEETGEKKAYLVNITAETNEMLERADLVAEYGGEYVMVDIITAGWAAVQTVRERCEDLGLAIHAHRAMHAAFDRLPSHGISMLVLAQLARLVGVDQLHTGTGVGKLANEKETLAINDMLRSDLYNIKPVFPVASGGLHPGLVPDLLDAAGTDICIQAGGGVHGHPDGTRAGAKALRQAIDAAMEGVSIEEYAKEHPELAKALDKWGTVRPK',\n",
    "  'MSGITYEDFVDLNYTPTDTDLICTFRIEPAEGMSLEAAAGRVASESSTGTWTALSTMERVKKLSAKTFSIDGNIVKVAYPAGLFEPGNMPQILSCIAGNIFGMKAVKTLRLLDIHWPESLVSSFPGPQFGISVRQELFGVDDRPITATVPKPKVGLSTEQHAEIGYEAWVGGLDLIKDDENLTSQPFNPFEERVKKVMEMRDKAEDETGEKKAYLVNITAETNEMLERAELVADYGGEYVMIDIITAGWSAVQTLRERCEDLGLAIHAHRAMHAAFDRLPSHGVSMLVLAKLARLVGVDQLHTGTGLGKMENEDVLGINDWLRSDLYNINPVLPVASGGLHPGLVPELLEAAGTDICIQAGGGIHGHPDGTRAGAKALRQAVEAVVEGVSLEEYAKEHPELAKALEKWGTERPK',\n",
    "  'MSIRYEDFLDLNYEPGETDLICTFRIEPADGMSLEAAASRVASESSNGTWATLQTMPDDIKKLSAKVFEIDGNIVKIAYPLGLFEPGNMPQILSCIAGNIFGMKAVKTLRLLDCHWPESILKSFPGPQFGSSGRQELFGVHDRPITATVPKPKVGLSTEEHAQIGYEAWVGGIDLIKDDENLTSQPFNPFEERLKKSLEMRDKAEDETGEKKAYLVNITAETEEMLRRAELVADQGGEYVMIDIITAGWAAVQTVRERCEDLGLAIHAHRAMHAAFDRLPSHGVSMRVLAQLARLVGVDQLHTGTAGVGKMEGDKDVLAINEWLRQDLYGMKPVFPVASGGLHPGLVPELLDIAGTNICIQAGGGIHGHPDGTRAGAKALRQAVEAAMEGISIEEYAKEHPELAKALEKWGTVTPR',\n",
    "  'MSKRYTDFIDLNYTPKENDLICTFHIEPADGVDLEEAAGRVAAESSIGTWTDVSTMPEIWEKLKARVYEIDESGNIVKIAYPLDLFEPGNIPQILSSIAGNIFGMKAVKNLRLLDIRFPKELVKSFKGPKFGIEGVRELLGVYDRPLVGTIVKPKVGLSAEEHAEVAYEAWVGGLDLVKDDENLTSQPFNPFEERVKKVLEARDKAEEETGEKKVYLVNITAPTEEMIRRAELVKDLGGKYVMIDIITAGFSAVQSLREEDLGLAIHAHRAMHAAFTRNPKHGISMLVLAKLARLVGVDQLHIGTGVGKMEGDKEEVLAIRDALRLDRVPADEANHFLEQDWYNIKPVFPVASGGLHPGLVPDLIDIFGKDVIIQAGGGVHGHPDGTRAGAKALRQAIEAAMEGISLEEYAKEHPELKKALEKWGHVRP',\n",
    "  'MSKRYTDYVDLNYTPKENDLICTFHIEPADGVDLEEAAGRVAAESSTGTWTDVSTMPEIWEKLKARVYEIDETGNIVKIAYPLDLFEPGNIPQILSSIAGNIFGMKAVKNLRLLDIRFPKELVKSFKGPKFGIEGVRELLGVYDRPLVGTIVKPKVGLSAEEHAEVAYEAWVGGIDLVKDDENLTSQPFNPFEERVKKVLEARDKAEEETGEKKVYLVNITAPTEEMIRRAELVKDLGGKYVMIDIITAGFSAVQSLREEDLGLAIHAHRAMHAAFTRNPKHGISMLVLAKLARLVGVDQLHIGTVVGKMEGDKEEVLAIRDALRLDRVPADEANHFLEQDWYNIKPVFPVASGGLHPGLVPDLIDIFGKDIIIQAGGGVHGHPDGTRAGAKAMRQAIEAAMEGISLEEYAKEHPELKKALEKWGHVRK',\n",
    "  'MSRYTDYVDLNYTPKENDLICTFHIEPADGVDLEEAAGRVAAESSTGTWTDVSTMPEIVEKLKARVYEIDESGNIVKIAYPLDLFEPGNIPQILSSIAGNIFGMKAVKNLRLLDIRFPKELVKSFKGPKFGIEGVRELLGVYDRPLVGTIVKPKVGLSAEEHAEVAYEAWVGGLDLVKDDENLTSQPFNPFEERVKKVLEARDKAEEETGEKKVYLVNITAPTEEMIRRAELVKDLGGKYVMIDIITAGFSAVQSLREEDLGLAIHAHRAMHAAFTRNPKHGISMLVLAKLARLVGVDQLHIGTVVGKMEGDKEEVLAIRDALRLDRVPADEANHFLEQDWYNIKPVFPVASGGLHPGLVPDLIDIFGKDIIIQAGGGVHGHPDGTRAGAKAMRQAIEAVMEGISLEEYAKEHKELKKALEKWGHRPK',\n",
    "  'MSERYTDFLDLSYEPGDNDLVCTFRIEPAEGMSMEAAAGRVASESSNGTWTALQTMEDVKKLKATVFSIDGNIVKIAYPLGLFEPGNMPQILSCIAGNIMGMKAVDNLRLLDIHWPEEIVSSFPGPQFGSSVVQELFGVHDRPITATVPKPKVGLSAEQHAEVGYEAWVGGIDLLKDDENLTSQAFNPFEERLTKSMEMRDKAEDETGEKKSYLVNITAETNEMLRRAELVADYGGEYVMVDVITAGWSAVQTVRERCEDLGLAIHAHRAMHAAFTRNPSHGISMLVLAQLARLCGVDQLHTGTGLGKLAGDDTVGINDWLRSDWYNIKDVLPVASGGLHPGLVPELLDAFGKDIIIQAGGGVHGHPDGTRAGAKALRQAIEAAMEGVSLEEYAKEHPELAKALEKWGHVTPR',\n",
    "  'MSRYTDYVDLNYTPKENDLICTFHIEPADGVDLEEAAGRVAAESSTGTWTDVSTMPEIWEKLKARVYEIDESGNIVKIAYPLDLFEPGNIPQILSSIAGNIFGMKAVKNLRLLDIHFPKELVKSFKGPKFGIEGVRELLGVYDRPLVGTIVKPKVGLSAEEHAEVAYEAWVGGLDLIKDDENLTSQPFNPFEERVKKVLEARDKAEEETGEKKVYLVNITAPTEEMIRRAELVKDLGGKYVMIDIITAGFSAVQSLREEDLGLAIHAHRAMHAAFTRNPKHGISMLVLAKLARLVGVDQLHIGTVVGKMEGDKEEVLAIRDALRLDRVPADEANHFLEQDWYNIKPVFPVASGGLHPGLVPDLIDIFGKDIIIQAGGGVHGHPDGTRAGAKAMRQAIEAAMEGISLEEYAKEHKELAKALEKWGHVR',\n",
    "  'MSERYTDFVDLNYEPGETDLICTFRIEPADGISLEAAAGRVASESSTGTWATLQVMPERITKLKAKVFSIDGNIIKVAYPAGLFEPGNIPQILSCIAGNIMGMKAVDNLRLLDIHWPEEILKSFKGPQFGSSVVQEIFGVHDRPLTATVPKPKVGLSAEEHAQIGYEAWVGGLDLLKDDENLTDQAFNPFEERLTEVMAMRDKAEEETGEKKAYLVNITAPTNEMLERADMVADYGGEYVMIDIITAGWSAVQTVRERCEDLGLAIHAHRAMHAAFTRLPSHGVSMRVLAQIARLCGVDQLHTGTAGVGKLEGDKETVAINDWLRQDLYNMNDVFPVASGGLHPGLVPELIDAFGTNIIIQAGGGIHGHPDGTRAGAKALRQAVDAVVEGISLEEYADEHPELATALDKWGHVRPR',\n",
    "  'MSERYEDFLDLNYEPTDNDLVCTFRIEPADGISMEAAASRVASESSTGTWAALQTMERITKLKAKVFEIDGNIIKVAYPLGLFEAGNIPQILSCIAGNIFGMKAVDTLRLLDCEWPESILKSFPGPQFGSSGVRELLGVDDRPLTATVPKPKVGLSAEEHAEIGYEAWVGGIDLLKDDENLTSQPFNPFEERLKEVMEMRDKAEDETGEKKAYLVNITAETEEMLERADMVADQGGEYVMVDIITAGWSAVQTLRERCEDLGLAIHAHRAMHAAFTRLPSHGISMLVLAKLARLCGVDQLHTGTGLGKLENDETLGIADWLRSDWYNINPVLPVASGGLHPGLVPELLEAFGTNIIIQAGGGIHGHPDGTRAGAKALRQAIEAAMEGISIEEYAKDHPELAKALDKWGTETPR',\n",
    "  'MSKRYTDYVDLNYTPKENDLICTFHIEPADGVDLEEAAGRVAAESSTGTWTDVSTMPEIWEKLKARVYEIDESGNIVKIAYPLDLFEPGNIPQILSSIAGNIFGMKAVKNLRLLDIRFPKELVKSFKGPKFGIEGVRELLGVYDRPLVGTIVKPKVGLSAEEHAEVAYEAWVGGLDLVKDDENLTSQPFNPFEERVKKVMEARDKAEEETGEKKVYLVNITAPTEEMIRRAELVKDLGGKYVMIDIITAGFSAVQSLREEDLGLAIHAHRAMHAAFTRNPKHGISMLVLAKLARLVGVDQLHIGTVVGKMEGDKEEVLAIRDALRLDRVPADEANHFLEQDWYNIKPVFPVASGGLHPGLVPDLIDIFGKDVIIQAGGGVHGHPDGTRAGAKALRQAIEAAMEGISLEEYAKEHPELAKALEKWGHR',\n",
    "  'MSIRYTDFLDLNYEPGDTDLVCTFRIEPADGMSLEAAAGRVASESSNGTWTALQVMERIKKLKATTFSIDGNIIKIAYPADLFEPGNIPQILSSIAGNIMGMKAVDTIRLLDIHWPESILKSFPGPQFGSEVVREIFGVHDRPITATVPKPKVGLSTEQHAQVAYEAWVGGLDLIKDDENLTDQPFNPFEERLTKSLEARDKAEEETGEKKSYLVNITAETEEMLERAEMVAEYGGEYVMIDIITAGWAAVQTVRERCEDLGLAIHAHRAMHAAFDRLPKHGISMRVLAKLARLCGVDQLHTGTAGVGKMEGEETVAIAEWLRQDWYGIKPVFPVASGGLHPGLVPDLIDAFGTNIIIQAGGGVHGHPDGTRAGAKALRQAVDAAMEGISLEEYADEHPELATALDKWGHERPK',\n",
    "  'MSRYTDYVDLNYTPKENDLICTFHIEPADGVDLEEAAGRVAAESSIGTWTDVSTMPEIWEKLKARVYEIDESGNIVKIAYPLDLFEPGNIPQILSSIAGNIFGMKAVKNLRLLDIRFPKELVKSFKGPKFGIEGVRELLGVYDRPLVGTIVKPKVGLSAEEHAEVAYEAWVGGLDLVKDDENLTSQPFNPFEERVKKVLEARDKAEEETGEKKVYLVNITAPTEEMIRRAELVKDLGGKYVMIDIITAGFSAVQSLREEDLGLAIHAHRAMHAAFTRNPKHGISMLVLAKLARLVGVDQLHIGTGVGKMEGDKEEVLAIRDALRLDRVPADEANHFLEQDWYNIKPVFPVASGGLHPGLVPDLIDIFGKDVIIQAGGGVHGHPDGTRAGAKALRQAIEAAMEGISLEEYAKEHPELAKALEKWGHVRK',\n",
    "  'MSGITYEDFVDLSYTPGETDLICTFRIEPADGMSLEEAASRVASESSNGTWTTLQVMPEDIKKLSATVFSIDGNTVKVAYPAGLFEAGNMPQILSCIAGNIMGMKAVKNIRLLDCHWPESIVKSFKGPQFGSSGRREILGVDDRPITATVPKPKVGLSAEEHAEVGYEAWVGGIDLLKDDENLTDQPFNPFEERLTKVLEMRDKAEDETGEKKSYLVNITAETNEMLERAELVAEYGGEYVMVDVITAGWSAVQTLRERCEDLGLAIHAHRAMHAAFTRNPKHGISMRVLAKIARLVGVDQLHTGTGVGKLAGDKEDVLAINDWLRSDWYNMKDVLPVASGGLHPGLVPDLLEIFGTNIIIQAGGGIHGHPDGTRAGAKALRQAIEAVVEGISIEEYAKEHPELATALDKWGHERPR',\n",
    "  'MSERYEDFVDLNYTPGDNDLICTFRIEPADGISMEAAASRVASESSTGTWAALQVMPDRIKKLSAKTFSIDGNIVKVAYPLGLFEPGNMPQILSCIAGNIMGMKAVDTIRLLDCEWPEEILKSFKGPQFGSSGVRELFGVDDRPLTATVPKPKVGLSAEQHAEVAYEAWVGGIDLIKDDENLTDQPFNPFEDRVTKSMEARDKAEDETGEKKSYLVNITAPTNEMLRRAEMVAEYGGEYVMIDVITAGWAAVQTLRERCEDLGLAIHAHRAMHAAFDRLPSHGVSMRVLAKLARLVGVDQLHTGTGVGKMAGEEVVGIADWLRQDLYGIKPVLPVASGGLHPGLVPELIDAFGKNICIQAGGGVHGHPDGTRAGAKALRQAIDAAVEGVSIEEYADDHPELAKALDKWGTVRPR',\n",
    "  'MSKRYTDYIDLNYTPKENDLICTFHIEPADGVDLEEAAGRVAAESSTGTWTDVSTMPEIVEKLKARVYEIDETGNIVKIAYPLDLFEPGNIPQILSSIAGNIFGMKAVKNLRLLDIRFPKELVKSFKGPKFGIEGVRELLGVYDRPLVGTIVKPKVGLSAEEHAEVAYEAWVGGLDLIKDDENLTSQPFNPFEERVKKVLEARDKAEEETGEKKVYLVNITAPTEEMIRRAELVADLGGKYVMIDIITAGFSAVQSLREEDLGLAIHAHRAMHAAFTRNPKHGISMLVLAKLARLVGVDQLHIGTVVGKMEGDKEEVLAIRDALRLDRVPADEANHFLEQDWYNIKPVFPVASGGLHPGLVPDLIDIFGKDVIIQAGGGVHGHPDGTRAGAKALRQAIEAVMEGISLEEYAKEHKELKKALEKWGHVR',\n",
    "  'MSITYEDFVDLSYTPGDNDLICTFRIEPADGMSMEEAAGRVASESSTGTWATLSVDERIKDLSAKVFEIDGNIVKVAYPLGLFEPGNMPQILSSIAGNIMGMKAVKTLRLLDIHWPESILSSFPGPQFGSEVVQEIFGVDDRPITATVPKPKVGLSAEEHAEIGYEAWVGGIDLIKDDENLTDQAFNPFEDRVTKSLAMRDKAEEETGEKKAYLVNITAETNEMLERAELVAEYGGEYVMIDIITAGWAAVQTLRERCEDLGLAIHAHRAMHAAFTRNPKHGVSMRVLAKLARLCGVDQLHTGTGLGKLAGDKEDTVGINEWLRSDWYGIKDVLPVASGGLHPGLVPDLIEAFGTNIIIQAGGGIHGHPDGTRAGAKALRQAVEAVMEGISLEEYADEHPELAKALEKWGTVTPR',\n",
    "  'MSIRYEDFLDLNYEPTDTDLVCTFRIEPADGMSLEEAASRVASESSTGTWATLQTMDDVKKLSATVFEIDGNIVKIAYPLGLFEAGNMPQILSSIAGNIMGMKAVKNLRLLDIHWPESIVKSFKGPQFGSEVRRELLGVHDRPLTATVPKPKVGLSTEEHAEIAYEAWVGGLDLLKDDENLTDQAFNPFEDRLTEVLEARDKAEDETGEKKSYLVNITAETNEMLERADLVAEYGGEYVMIDIITAGWAAVQTVRERCEDLGLAIHAHRAMHAAFDRLPKHGISMRVLAKIARLCGVDQLHTGTAGVGKLENDKETLAINDWLRQDWYNMKDVFPVASGGLHPGLVPDLLDIAGTDIIIQAGGGVHGHPDGTRAGAKALRQAIEAAVEGVSIEEYAKEHPELAKALDKWGHVTPK',\n",
    "  'MSERYEDFVDLSYTPGDTDLVCTFRIEPAEGISMEAAAGRVASESSNGTWTALSTMEDIKKLKAKTFSIDGNIVKVAYPLGLFEAGNIPQILSSIAGNIFGMKAVKNIRLLDCHWPEELLKSFPGPQFGSSVVQELFGVHDRPITATVPKPKVGLSTEQHAQIGYEAWVGGIDLIKDDENLTDQAFNPFEERVTKVLAMRDKAEDETGEKKSYLVNITAPTEEMLRRAELVAEYGGEYVMIDVITAGWAAVQTVRERCEDLGLAIHAHRAMHAAFTRLPKHGISMRVLAQIARLCGVDQLHTGTGVGKLAGDEDVLGIAEWLRSDWYNIKDVLPVASGGLHPGLVPELIDIAGTDICIQAGGGVHGHPDGTRAGAKALRQAVEAVMEGISIEEYAKDHPELATALDKWGTVRPR',\n",
    "  'MSRYTDYVDLNYTPKENDLICTFHIEPADGVDLEEAAGRVAAESSIGTWTDVSTMKPEIWEKLKARVYEIDESGNIVKIAYPLDLFEPGNIPQILSSIAGNIFGMKAVKNLRLLDIRFPEELVKSFKGPKFGIEGVRELLGVYDRPLVGTIVKPKVGLSAEEHAEVAYEAWVGGLDLVKDDENLTSQPFNPFEERVKKVMEARDKAEEETGEKKVYLVNITAPTEEMIRRAELVKDLGGKYVMIDIITAGFSAVQSLREEDLGLAIHAHRAMHAAFTRNPKHGISMLVLAKLARLVGVDQLHIGTVVGKMEGDKEEVLAIRDALRLDRVPADEANHFLEQDWYNIKPVFPVASGGLHPGLVPDLIDIFGKDIIIQAGGGVHGHPDGTRAGAKAMRQAIEAVMEGISLEEYAKEHPELKKALEKWGHVRP',\n",
    "  'MSIRYEDFVDLSYTPGDTDLICTFRIEPAEGISMEAAASRVASESSNGTWAALQTMDDIKKLKAKVFSIDGNTVKIAYPLGLFEPGNIPQILSSIAGNIFGMKAVKTIRLLDCHFPEEIVSSFPGPQFGSSVVQELLGVHDRPITATVPKPKVGLSTEEHAQVGYEAWVGGLDLIKDDENLTSQPFNPFEERVKESMAMRDKAEDETGEKKSYLVNITAETNEMLRRAEMVAEYGGEYVMIDVITAGWAAVQTLRERCEDLGLAIHAHRAMHAAFDRNPSHGISMRVLAQIARLVGVDQLHTGTGLGKLENEKEDVLAIAEWLRSDWYGMNDVFPVASGGLHPGLVPELLEIAGKDIIIQAGGGIHGHPDGTRAGAKALRQAIEAAMEGISLEEYAKEHPELAKALDKWGHVRPR',\n",
    "  'MSRYTDYVDLNYTPKENDLICTFHIEPADGVDLEEAAGRVAAESSIGTWTDVSTMPEIWEKLKARVYEIDESGNIVKIAYPLDLFEPGNIPQILSSIAGNIFGMKAVKNLRLLDIHFPKELVKSFKGPKFGIEGVRELLGVYDRPLVGTIVKPKVGLSAEEHAEVAYEAWVGGLDLVKDDENLTSQPFNPFEERVKKVLEARDKAEEETGEKKVYLVNITAPTEEMIRRAELVKDLGGKYVMIDIITAGFSAVQSLREEDLGLAIHAHRAMHAAFTRNPKHGISMLVLAKLARLVGVDQLHIGTVVGKMEGDKEEVLAIRDALRLDRVPADEANHFLEQDWYNIKPVFPVASGGLHPGLVPDLIDIFGKDIIIQAGGGVHGHPDGTRAGAKALRQAIEAAMEGISLEEYAKEHKELAKALEKWGHVRK',\n",
    "  'MSKRYTDYVDLNYTPKENDLICTFHIEPADGVDLEEAAGRVAAESSTGTWTDVSTMPEIVEKLKARVYEIDESGNIVKIAYPLDLFEPGNIPQILSSIAGNIFGMKAVKNLRLLDIRFPKELVKSFKGPKFGIEGVRELLGVYDRPLVGTIVKPKVGLSAEEHAEVAYEAWVGGLDLVKDDENLTSQPFNPFEERVKKVLEARDKAEEETGEKKVYLVNITAPTEEMIRRAELVKDLGGKYVMIDIITAGFSAVQSLREEDLGLAIHAHRAMHAAFTRNPKHGISMLVLAKLARLVGVDQLHIGTGVGKMEGDKEEVLAIRDALRLDRVPADEANHFLEQDWYNIKPVFPVASGGLHPGLVPDLIDIFGKDVIIQAGGGVHGHPDGTRAGAKAMRQAIEAVMEGISLEEYAKEHPELKKALEKWGHP',\n",
    "  'MSKYTDYVDLNYTPKENDLICTFHIEPADGVDLEEAAGRVAAESSIGTWTDVSTMPEIWEKLKARVYEIDETGNIVKIAYPLDLFEPGNIPQILSSIAGNIFGMKAVKNLRLLDIRFPKELVKSFKGPKFGIEGVRELLGVYDRPLVGTIVKPKVGLSAEEHAEVAYEAWVGGLDLIKDDENLTSQPFNPFEERVKKVMEARDKAEEETGEKKVYLVNITAPTEEMIRRAELVKDLGGKYVMIDIITAGFSAVQSLREEDLGLAIHAHRAMHAAFTRNPKHGISMLVLAKLARLVGVDQLHIGTVVGKMEGDKEEVLAIRDALRLDRVPADEANHFLEQDWYNIKPVFPVASGGLHPGLVPDLIDIFGKDVIIQAGGGVHGHPDGTRAGAKAMRQAIEAVMEGISLEEYAKEHPELAKALEKWGHVRP',\n",
    "  'MSIRYTDFVDLNYEPGETDLVCTFRIEPAEGISMEAAASRVASESSNGTWTTLQTMERITDLKAKVFSIDGNIIKIAYPAGLFEAGNMPQILSCIAGNIMGMKAVDTLRLLDCHWPEEILSSFPGPQFGISGRREIFGVHDRPLTATVPKPKVGLSTEEHAEVGYEAWVGGIDLIKDDENLTSQPFNPFEERVTKSMEMRDKAEEETGEKKAYLVNITAETEEMLRRADLVAEYGGEYVMVDVITAGWAAVQTLRERCEDLGLAIHAHRAMHAAFDRNPKHGVSMLVLAKLARLCGVDQLHTGTAGLGKMAGDDTVGINEMLRSDLYGIKDVFPVASGGLHPGLVPELIEIAGKNICIQAGGGVHGHPDGTRAGAKALRQAIEAAVEGISLEEYAKEHPELAKALDKWGTVTPR'\n",
    "]\n",
    "train_set_labels = [0, 1, 1, 0, 1, 0, 0, 0, 1, 0, 0, 0, 0, 0, 0, 1, 0, 1, 1, 1, 0, 1, 0, 0, 0, 0, 1, 0, 0, 1, 1, 0, 0, 0, 1, 0, 0, 0, 0, 0, 0, 0, 0, 1, 0, 1, 0, 0, 0, 0, 0, 1, 0, 0, 1, 1, 0, 0, 0, 1, 0, 1, 0, 0, 1, 0, 1, 0, 0, 0, 1, 0, 0, 0, 0, 0, 1, 0, 0, 0, 0, 0, 0, 0, 0, 1, 0, 0]"
   ]
  },
  {
   "cell_type": "code",
   "execution_count": 10,
   "metadata": {},
   "outputs": [],
   "source": [
    "## Copy pasting the entries and labels from the validation set with random manual seed(42)\n",
    "\n",
    "val_set_seqs = [\n",
    "  'MSKRYTDYVDLNYTPKENDLICTFHIEPADGVDLEEAAGRVAAESSIGTWTDVSTMPEIVEKLKARVYEIDESGNIVKIAYPLDLFEPGNIPQILSSIAGNIFGMKAVKNLRLLDIRFPKELVKSFKGPKFGIEGVRELLGVYDRPLVGTIVKPKVGLSAEEHAEVAYEAWVGGLDLVKDDENLTSQPFNPFEERVKKVLEARDKAEEETGEKKVYLVNITAPTEEMIRRAELVADLGGKYVMIDIITAGFSAVQSLREEDLGLAIHAHRAMHAAFTRNPKHGISMLVLAKLARLVGVDQLHIGTVVGKMEGDKEEVLAIRDALRLDRVPADEANHFLEQDWYNIKPVFPVASGGLHPGLVPDLIDIFGKDIIIQAGGGVHGHPDGTRAGAKALRQAIEAAMEGISLEEYAKEHKELKKALEKWGHVR',\n",
    "  'MSIRYEDFLDLNYEPGDNDLICTFRIEPADGISMEAAASRVASESSNGTWTTLQVMPDRIKKLSATVFEIDGNIVKIAYPADLFEPGNMPQILSSIAGNIMGMKAVDTIRLLDCHWPESLVSSFPGPQFGSSVRRELFGVHDRPLTATVPKPKVGLSAEQHAQIAYEAWVGGLDLIKDDENLTDQPFNPFEERVKKVLAARDKAEEETGEKKAYLVNITAETNEMLERADLVADYGGEYVMIDVITAGWSAVQTLRERCEDLGLAIHAHRAMHAAFTRLPSHGVSMRVLAQIARLVGVDQLHTGTGLGKMEGDEDVLGIADWLRQDLYNINDVFPVASGGLHPGLVPELIEAFGTDICIQAGGGVHGHPDGTRAGAKALRQAVEAAMEGVSLEEYADDHPELATALDKWGTERPR',\n",
    "  'MSERYEDFVDLSYTPGENDLVCTFRIEPAEGMSMEEAASRVASESSNGTWATLSTMEDIKDLKAKTFSIDGNIIKIAYPLGLFEAGNMPQILSCIAGNIMGMKAVDTLRLLDIHWPEELLSSFKGPQFGSEGRQEIFGVHDRPITATVPKPKVGLSAEQHAQIAYEAWVGGIDLLKDDENLTSQPFNPFEERLKEVLAMRDKAEEETGEKKAYLVNITAPTEEMLRRAEMVAEQGGEYVMVDIITAGWAAVQTLRERCEDLGLAIHAHRAMHAAFTRLPSHGISMLVLAQIARLVGVDQLHTGTGLGKLANEEDVLAINDMLRSDWYGMNDVFPVASGGLHPGLVPELIEIFGKNICIQAGGGIHGHPDGTRAGAKALRQAVDAVVEGISIEEYAKEHPELATALEKWGHVTPK',\n",
    "  'MSIRYEDFLDLNYEPGETDLVCTFRIEPADGMSLEAAAGRVASESSTGTWATLQVMDRITDLKATVFEIDGNIVKIAYPLGLFEPGNMPQILSCIAGNIMGMKAVKNLRLLDCHWPESLLKSFKGPQFGSEGRQEIFGVHDRPLTATVPKPKVGLSTEEHAQVGYEAWVGGLDLLKDDENLTDQPFNPFEDRLKEVMEMRDKAEEETGEKKAYLVNITAETNEMLRRADLVADQGGEYVMVDIITAGWAAVQTLRERCEDLGLAIHAHRAMHAAFTRNPKHGISMRVLAQLARLCGVDQLHTGTAGVGKLENDKDVLAINDWLRSDWYGIKDVLPVASGGLHPGLVPDLLDAAGKDIIIQAGGGIHGHPDGTRAGAKALRQAIDAAVEGISLEEYADDHPELATALEKWGTVRPR',\n",
    "  'MSGERYTDFVDLNYTPGDTDLVCTFRIEPAEGMSMEAAASRVASESSTGTWTTLQTMEDIKKLSATVFSIDGNIVKVAYPAGLFEPGNIPQILSCIAGNIMGMKAVDTLRLLDCHWPESILSSFPGPQFGISGRRELFGVHDRPLTATVPKPKVGLSAEEHAEVGYEAWVGGIDLLKDDENLTSQPFNPFEDRVKESMAARDKAEEETGEKKAYLVNITAETNEMLRRADMVADQGGEYVMVDIITAGWAAVQTLRERCEDLGLAIHAHRAMHAAFDRLPSHGVSMRVLAKLARLVGVDQLHTGTGVGKLEGDETLGIADMLRSDWYGIKDVLPVASGGLHPGLVPELLEIAGTDICIQAGGGVHGHPDGTRAGAKALRQAVDAVVEGISIEEYAKDHPELAKALEKWGHETPR',\n",
    "  'MSKRYTDFVDLNYTPKENDLICTFHIEPADGVDLEEAAGRVAAESSIGTWTDVSTMPEIWEKLKARVYEIDETGNIVKIAYPLDLFEPGNIPQILSSIAGNIFGMKAVKNLRLLDIRFPKELVKSFKGPKFGIEGVRELLGVYDRPLVGTIVKPKVGLSAEEHAEVAYEAWVGGLDLVKDDENLTSQPFNPFEERVKKVMEARDKAEEETGEKKVYLVNITAPTEEMIRRAELVADLGGKYVMIDIITAGFSAVQSLREEDLGLAIHAHRAMHAAFTRNPKHGISMLVLAKLARLVGVDQLHIGTVVGKMEGDKEEVLAIRDALRLDRVPADEANHFLEQDWYNIKPVFPVASGGLHPGLVPDLIDIFGKDVIIQAGGGVHGHPDGTRAGAKALRQAIEAAMEGISLEEYAKEHPELKKALEKWGHVR',\n",
    "  'MSERYTDFVDLNYTPGENDLICTFRIEPADGMSLEEAASRVASESSNGTWTALSTMDRIKKLSAKTFEIDGNIIKVAYPLGLFEAGNIPQILSCIAGNIFGMKAVDNLRLLDCEFPESILKSFKGPQFGSSVVQELFGVDDRPLTATVPKPKVGLSTEEHAEVGYEAWVGGLDLIKDDENLTDQPFNPFEERLKKVLAARDKAEDETGEKKSYLVNITAPTEEMLRRADMVAEYGGEYVMIDIITAGWAAVQTLRERCEDLGLAIHAHRAMHAAFDRNPKHGVSMRVLAKIARLCGVDQLHTGTAGLGKMENDDVVGINEWLRQDWYGMKDVFPVASGGLHPGLVPDLIDIFGTNICIQAGGGIHGHPDGTRAGAKALRQAVEAAVEGVSIEEYAKDHPELAKALDKWGTERPR',\n",
    "  'MSRYTDYVDLNYTPKENDLICCFHIEPADGVDLEEAAGRVAAESSIGTWTDVSTMKPEIWEKLKARVYEIDESGNIVKIAYPLDLFEPGNIPQILSSIAGNIFGMKAVKNLRLLDIRFPKELVKSFKGPKFGIEGVRELLGVYDRPLVGTIVKPKVGLSAEEHAEVAYEAWVGGLDLVKDDENLTSQPFNPFEERVKKVMEARDKAEEETGEKKVYLVNITAPTEEMIRRAELVADLGGKYVMIDIITAGFSAVQSLREEDLGLAIHAHRAMHAAFTRNPKHGISMLVLAKLARLVGVDQLHIGTVVGKMEGDKEEVLAIRDALRLDRVPADEANHFLEQDWYNIKPVFPVASGGLHPGLVPDLIDIFGKDIIIQAGGGVHGHPDGTRAGAKAMRQAIEAVMEGISLEEYAKEHPELAKALEKWGHVRP',\n",
    "  'MSKRYTDYIDLNYTPKENDLICTFHIEPADGVDLEEAAGRVAAESSIGTWTDVSTMPEIWEKLKARVYEIDESGNIVKIAYPLDLFEPGNIPQILSSIAGNIFGMKAVKNLRLLDIRFPKELVKSFKGPKFGIEGVRELLGVYDRPLVGTIVKPKVGLSAEEHAEVAYEAWVGGLDLVKDDENLTSQPFNPFEERVKKVMEARDKAEEETGEKKVYLVNITAPTEEMIRRAELVKDLGGKYVMIDIITAGFSAVQSLREEDLGLAIHAHRAMHAAFTRNPKHGISMLVLAKLARLVGVDQLHIGTVVGKMEGDKEEVLAIRDALRLDRVPADEANHFLEQDWYNIKPVFPVASGGLHPGLVPDLIDIFGKDIIIQAGGGVHGHPDGTRAGAKAMRQAIEAAMEGISLEEYAKEHPELKKALEKWGHVRPK',\n",
    "  'MSGIRYEDFLDLNYEPGDTDLVCTFRIEPAEGISMEAAASRVASESSTGTWATLQVDEDIKDLKAKVFSIDGNIIKVAYPLDLFEAGNMPQILSCIAGNIMGMKAVKTIRLLDIEWPEEILKSFKGPQFGSSGRQELFGVHDRPLTATVPKPKVGLSAEEHAEIGYEAWVGGLDLIKDDENLTDQAFNPFEDRVTKVMEARDKAEEETGEKKSYLVNITAPTEEMLRRAEMVADYGGEYVMIDIITAGWAAVQTLRERCEDLGLAIHAHRAMHAAFTRNPSHGVSMRVLAKLARLVGVDQLHTGTGVGKMEGDEDTLGINDWLRQDLYNMKDVFPVASGGLHPGLVPDLLDAFGTDIIIQAGGGVHGHPDGTRAGAKALRQAVDAVMEGVSIEEYAKDHPELAKALDKWGTERPR',\n",
    "  'MSKRYTDYVDLNYTPKENDLICTFHIEPADGVDLEEAAGRVAAESSIGTWTDVSTMPEIWEKLKARVYEIDESGNIVKIAYPLDLFEPGNIPQILSSIAGNIFGMKAVKNLRLLDIRFPKELVKSFKGPKFGIEGVRELLGVYDRPLVGTIVKPKVGLSAEEHAEVAYEAWVGGLDLIKDDENLTSQPFNPFEERVKKTLEARDKAEEETGEKKVYLVNITAPTEEMIRRAELVADLGGKYVMIDIITAGFSAVQSLREEDLGLAIHAHRAMHAAFTRNPKHGISMLVLAKLARLVGVDQLHIGTVVGKMEGDKEEVLAIRDALRLDRVPADEANHFLEQDWYNIKPVFPVASGGLHPGLVPDLIDIFGKDVIIQAGGGVHGHPDGTRAGAKAMRQAIEAAMEGISLEEYAKEHKELAKALEKWGHVRPK',\n",
    "  'MSITYEDFVDLNYEPGETDLVCTFRIEPADGMSMEAAAGRVASESSNGTWAALQTMDRVKKLKATVFEIDGNIVKIAYPAGLFEAGNMPQILSCIAGNIFGMKAVDTIRLLDIHWPEEILKSFKGPQFGSSGRQEIFGVDDRPLTATVPKPKVGLSAEEHAEVGYEAWVGGIDLIKDDENLTDQPFNPFEDRVKKVLEMRDKAEDETGEKKAYLVNITAETNEMLRRADMVADQGGEYVMIDVITAGWSAVQTLRERCEDLGLAIHAHRAMHAAFDRNPKHGVSMRVLAKIARLCGVDQLHTGTAGLGKMANEKEETVGIADMLRSDWYGINPVFPVASGGLHPGLVPDLIDAFGKNICIQAGGGIHGHPDGTRAGAKALRQAVDAVMEGISLEEYAKDHPELAKALDKWGHERPR',\n",
    "  'MSRYTDYVDLNYTPKENDLICTFHIEPADGVDLEEAAGRVAAESSTGTWTDVSTMPEIWEKLKARVYEIDESGNIVKIAYPLDLFEPGNIPQILSSIAGNIFGMKAVKNLRLLDIRFPEELVKSFKGPKFGIEGVRELLGVYDRPLVGTIVKPKVGLSAEEHAEVAYEAWVGGLDLIKDDENLTSQPFNPFEERVKKVMEARDKAEEETGEKKVYLVNITAPTEEMIRRAELVKDLGGKYVMIDIITAGFSAVQSLREEDLGLAIHAHRAMHAAFTRNPKHGISMLVLAKLARLVGVDQLHIGTVVGKMEGDKEEVLAIRDALRLDRVPADEANHFLEQDWYNIKPVFPVASGGLHPGLVPDLIDIFGKDVIIQAGGGVHGHPDGTRAGAKAMRQAIEAVMEGISLEEYAKEHPELKKALEKWGHV',\n",
    "  'MSGERYEDFLDLNYTPGDNDLICTFRIEPADGMSLEAAASRVASESSNGTWAALQVMERITKLSATVFEIDGNIVKVAYPADLFEAGNIPQILSCIAGNIFGMKAVKNLRLLDIEWPESLLKSFPGPQFGSSVVRELFGVHDRPITATVPKPKVGLSAEEHAQVAYEAWVGGLDLIKDDENLTDQPFNPFEDRLKESMAMRDKAEDETGEKKAYLVNITAETNEMLRRADMVAEYGGEYVMVDIITAGWAAVQTVRERCEDLGLAIHAHRAMHAAFDRLPKHGVSMRVLAKLARLCGVDQLHTGTGLGKMEGDEDVLAINDMLRQDLYGMKPVLPVASGGLHPGLVPDLLDIFGTNIIIQAGGGVHGHPDGTRAGAKALRQAVEAAVEGISLEEYADDHPELAKALDKWGHVRPR',\n",
    "  'MSKYTDYVDLNYTPKENDLICTFHIEPADGVDLEEAAGRVAAESSIGTWTDVSTMPEIWEKLKARVYEIDETGNIVKIAYPLDLFEPGNIPQILSSIAGNIFGMKAVKNLRLLDIRFPKELVKSFKGPKFGIEGVRELLGVYDRPLVGTIVKPKVGLSAEEHAEVAYEAWVGGLDLVKDDENLTSQPFNPFEERVKKVLEARDKAEEETGEKKVYLVNITAPTEEMIRRAELVADLGGKYVMIDIITAGFSAVQSLREEDLGLAIHAHRAMHAAFTRNPKHGISMLVLAKLARLVGVDQLHIGTGVGKMEGDKEEVLAIRDALRLDRVPADEANHFLEQDWYNIKPVFPVASGGLHPGLVPDLIDIFGKDVIIQAGGGVHGHPDGTRAGAKAMRQAIEAVMEGISLEEYAKEHPELAKALEKWGHVRP',\n",
    "  'MSITYEDFLDLNYTPGDNDLVCTFRIEPADGISMEAAASRVASESSTGTWTTLSVMDRVKKLSAKTFEIDGNTIKIAYPLDLFEAGNMPQILSSIAGNIMGMKAVDTLRLLDIHWPESILKSFPGPQFGSSGRREIFGVHDRPITATVPKPKVGLSTEEHAQIAYEAWVGGLDLIKDDENLTDQPFNPFEERLKKVMEMRDKAEDETGEKKAYLVNITAETNEMLRRADLVADYGGEYVMVDVITAGWAAVQTVRERCEDLGLAIHAHRAMHAAFDRLPSHGISMLVLAQIARLVGVDQLHTGTGVGKLENEEDVLGIADWLRSDWYNMKDVFPVASGGLHPGLVPDLIEIFGTDIIIQAGGGVHGHPDGTRAGAKALRQAIDAAVEGVSIEEYADEHPELATALDKWGTVTPK'\n",
    "  ]\n",
    "val_set_labels = [0, 0, 0, 0, 0, 1, 1, 0, 0, 0, 0, 1, 1, 1, 1, 0]"
   ]
  },
  {
   "cell_type": "code",
   "execution_count": 10,
   "metadata": {},
   "outputs": [
    {
     "name": "stdout",
     "output_type": "stream",
     "text": [
      "[0.39141196]\n",
      "[0.40846667]\n",
      "[0.3891067]\n",
      "[0.40961963]\n",
      "[0.4090864]\n",
      "[0.3885698]\n",
      "[0.36698443]\n",
      "[0.4174836]\n",
      "[0.39052194]\n",
      "[0.4057564]\n",
      "[0.40720266]\n",
      "[0.39096788]\n",
      "[0.40432054]\n",
      "[0.39365855]\n",
      "[0.3904029]\n",
      "[0.40649733]\n"
     ]
    }
   ],
   "source": [
    "output_pred = []\n",
    "\n",
    "for i in range(len(val_set_seqs)):\n",
    "    inputs = loaded_tokenizer(train_set_seqs[i], truncation=True, padding='max_length', max_length=512, return_tensors=\"pt\")\n",
    "    inputs = {key: inputs[key] for key in inputs}\n",
    "\n",
    "    with torch.no_grad():\n",
    "        outputs = loaded_model(**inputs)[\"logits\"]\n",
    "\n",
    "        probs = torch.sigmoid(outputs).cpu().numpy()\n",
    "        print(probs)"
   ]
  },
  {
   "cell_type": "code",
   "execution_count": 11,
   "metadata": {},
   "outputs": [
    {
     "data": {
      "text/plain": [
       "Text(0.5, 1.0, 'Predictions vs Labels for the training set')"
      ]
     },
     "execution_count": 11,
     "metadata": {},
     "output_type": "execute_result"
    },
    {
     "data": {
      "image/png": "[encoded data removed]",
      "text/plain": [
       "<Figure size 640x480 with 1 Axes>"
      ]
     },
     "metadata": {},
     "output_type": "display_data"
    }
   ],
   "source": [
    "output_pred = []\n",
    "\n",
    "for i in range(len(train_set_seqs)):\n",
    "    inputs = loaded_tokenizer(train_set_seqs[i], truncation=True, padding='max_length', max_length=512, return_tensors=\"pt\")\n",
    "    labels = [train_set_labels[i]]\n",
    "\n",
    "    with torch.no_grad():\n",
    "        outputs = loaded_model(**inputs)[\"logits\"].squeeze(0)\n",
    "        outputs = outputs.cpu().numpy()\n",
    "        # Sigmoid activation\n",
    "        outputs = 1 / (1 + np.exp(-outputs))\n",
    "        # print(outputs, labels)\n",
    "\n",
    "        output_pred.append(outputs)\n",
    "\n",
    "#Plot the values in output_pred with the labels from val_set_labels\n",
    "\n",
    "output_pred = np.array(output_pred)\n",
    "val_set_labels = np.array(val_set_labels)\n",
    "\n",
    "plt.scatter(output_pred, train_set_labels)\n",
    "plt.title(\"Predictions vs Labels for the training set\")"
   ]
  },
  {
   "cell_type": "code",
   "execution_count": 12,
   "metadata": {},
   "outputs": [
    {
     "data": {
      "text/plain": [
       "Text(0.5, 1.0, 'Predictions vs Labels for the validation set')"
      ]
     },
     "execution_count": 12,
     "metadata": {},
     "output_type": "execute_result"
    },
    {
     "data": {
      "image/png": "[encoded data removed]",
      "text/plain": [
       "<Figure size 640x480 with 1 Axes>"
      ]
     },
     "metadata": {},
     "output_type": "display_data"
    },
    {
     "name": "stdout",
     "output_type": "stream",
     "text": [
      "\u001b[1;34mwandb\u001b[0m: \n",
      "\u001b[1;34mwandb\u001b[0m: 🚀 View run \u001b[33mrestful-sweep-10\u001b[0m at: \u001b[34mhttps://wandb.ai/kauamritkar-university-of-wisconsin-madison/uncategorized/runs/2ehv6ere\u001b[0m\n",
      "\u001b[1;34mwandb\u001b[0m: Find logs at: \u001b[1;35mwandb/run-20250317_165517-2ehv6ere/logs\u001b[0m\n"
     ]
    }
   ],
   "source": [
    "output_pred = []\n",
    "\n",
    "for i in range(len(val_set_seqs)):\n",
    "    inputs = loaded_tokenizer(val_set_seqs[i], truncation=True, padding='max_length', max_length=512, return_tensors=\"pt\")\n",
    "    labels = [val_set_labels[i]]\n",
    "\n",
    "    with torch.no_grad():\n",
    "        outputs = loaded_model(**inputs)[\"logits\"].squeeze(0)\n",
    "        outputs = outputs.cpu().numpy()\n",
    "        # Sigmoid activation\n",
    "        outputs = 1 / (1 + np.exp(-outputs))\n",
    "        # print(outputs, labels)\n",
    "\n",
    "        output_pred.append(outputs)\n",
    "\n",
    "#Plot the values in output_pred with the labels from val_set_labels\n",
    "\n",
    "output_pred = np.array(output_pred)\n",
    "val_set_labels = np.array(val_set_labels)\n",
    "\n",
    "plt.scatter(output_pred, val_set_labels)\n",
    "plt.title(\"Predictions vs Labels for the validation set\")"
   ]
  },
  {
   "cell_type": "code",
   "execution_count": null,
   "metadata": {},
   "outputs": [],
   "source": []
  }
 ],
 "metadata": {
  "kernelspec": {
   "display_name": "Python 3 (ipykernel)",
   "language": "python",
   "name": "python3"
  },
  "language_info": {
   "codemirror_mode": {
    "name": "ipython",
    "version": 3
   },
   "file_extension": ".py",
   "mimetype": "text/x-python",
   "name": "python",
   "nbconvert_exporter": "python",
   "pygments_lexer": "ipython3",
   "version": "3.13.2"
  }
 },
 "nbformat": 4,
 "nbformat_minor": 2
}
