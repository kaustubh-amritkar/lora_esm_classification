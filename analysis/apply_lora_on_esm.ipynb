{
 "cells": [
  {
   "cell_type": "code",
   "execution_count": 27,
   "metadata": {},
   "outputs": [
    {
     "name": "stdout",
     "output_type": "stream",
     "text": [
      "/home/kaustubh/RuBisCO_ML/ESM_LoRA/analysis\n"
     ]
    }
   ],
   "source": [
    "import os\n",
    "import sys\n",
    "%cd /home/kaustubh/RuBisCO_ML/ESM_LoRA/analysis/"
   ]
  },
  {
   "cell_type": "code",
   "execution_count": 28,
   "metadata": {},
   "outputs": [],
   "source": [
    "import matplotlib.pyplot as plt\n",
    "from lora_esm2_script_updated import *\n",
    "# from lora_esm2_script_updated import CustomModel"
   ]
  },
  {
   "cell_type": "code",
   "execution_count": 24,
   "metadata": {},
   "outputs": [
    {
     "name": "stderr",
     "output_type": "stream",
     "text": [
      "Detected kernel version 5.4.0, which is below the recommended minimum of 5.5.0; this can cause the process to hang. It is recommended to upgrade the kernel to the minimum version or higher.\n",
      "/home/kaustubh/miniforge3/envs/lora_esm/lib/python3.13/site-packages/transformers/training_args.py:1594: FutureWarning: `evaluation_strategy` is deprecated and will be removed in version 4.46 of 🤗 Transformers. Use `eval_strategy` instead\n",
      "  warnings.warn(\n",
      "Detected kernel version 5.4.0, which is below the recommended minimum of 5.5.0; this can cause the process to hang. It is recommended to upgrade the kernel to the minimum version or higher.\n",
      "Some weights of EsmModel were not initialized from the model checkpoint at facebook/esm2_t6_8M_UR50D and are newly initialized: ['esm.pooler.dense.bias', 'esm.pooler.dense.weight']\n",
      "You should probably TRAIN this model on a down-stream task to be able to use it for predictions and inference.\n"
     ]
    },
    {
     "name": "stdout",
     "output_type": "stream",
     "text": [
      "Create sweep with ID: 8gjc48ic\n",
      "Sweep URL: https://wandb.ai/kauamritkar-university-of-wisconsin-madison/uncategorized/sweeps/8gjc48ic\n"
     ]
    },
    {
     "name": "stderr",
     "output_type": "stream",
     "text": [
      "\u001b[34m\u001b[1mwandb\u001b[0m: Agent Starting Run: kj5noa65 with config:\n",
      "\u001b[34m\u001b[1mwandb\u001b[0m: \tlearning_rate: 0.00026045934651139244\n",
      "\u001b[34m\u001b[1mwandb\u001b[0m: \tper_device_train_batch_size: 2\n"
     ]
    },
    {
     "name": "stdout",
     "output_type": "stream",
     "text": [
      "\u001b[1;34mwandb\u001b[0m: \n",
      "\u001b[1;34mwandb\u001b[0m: 🚀 View run \u001b[33mlogical-sweep-1\u001b[0m at: \u001b[34mhttps://wandb.ai/kauamritkar-university-of-wisconsin-madison/uncategorized/runs/3ejyq6v9\u001b[0m\n",
      "\u001b[1;34mwandb\u001b[0m: Find logs at: \u001b[1;35mwandb/run-20250311_182451-3ejyq6v9/logs\u001b[0m\n"
     ]
    },
    {
     "data": {
      "text/html": [
       "Tracking run with wandb version 0.19.7"
      ],
      "text/plain": [
       "<IPython.core.display.HTML object>"
      ]
     },
     "metadata": {},
     "output_type": "display_data"
    },
    {
     "data": {
      "text/html": [
       "Run data is saved locally in <code>/home/kaustubh/RuBisCO_ML/ESM_LoRA/analysis/wandb/run-20250311_220016-kj5noa65</code>"
      ],
      "text/plain": [
       "<IPython.core.display.HTML object>"
      ]
     },
     "metadata": {},
     "output_type": "display_data"
    },
    {
     "data": {
      "text/html": [
       "Syncing run <strong><a href='https://wandb.ai/kauamritkar-university-of-wisconsin-madison/uncategorized/runs/kj5noa65' target=\"_blank\">zany-sweep-1</a></strong> to <a href='https://wandb.ai/kauamritkar-university-of-wisconsin-madison/uncategorized' target=\"_blank\">Weights & Biases</a> (<a href='https://wandb.me/developer-guide' target=\"_blank\">docs</a>)<br>Sweep page: <a href='https://wandb.ai/kauamritkar-university-of-wisconsin-madison/uncategorized/sweeps/8gjc48ic' target=\"_blank\">https://wandb.ai/kauamritkar-university-of-wisconsin-madison/uncategorized/sweeps/8gjc48ic</a>"
      ],
      "text/plain": [
       "<IPython.core.display.HTML object>"
      ]
     },
     "metadata": {},
     "output_type": "display_data"
    },
    {
     "data": {
      "text/html": [
       " View project at <a href='https://wandb.ai/kauamritkar-university-of-wisconsin-madison/uncategorized' target=\"_blank\">https://wandb.ai/kauamritkar-university-of-wisconsin-madison/uncategorized</a>"
      ],
      "text/plain": [
       "<IPython.core.display.HTML object>"
      ]
     },
     "metadata": {},
     "output_type": "display_data"
    },
    {
     "data": {
      "text/html": [
       " View sweep at <a href='https://wandb.ai/kauamritkar-university-of-wisconsin-madison/uncategorized/sweeps/8gjc48ic' target=\"_blank\">https://wandb.ai/kauamritkar-university-of-wisconsin-madison/uncategorized/sweeps/8gjc48ic</a>"
      ],
      "text/plain": [
       "<IPython.core.display.HTML object>"
      ]
     },
     "metadata": {},
     "output_type": "display_data"
    },
    {
     "data": {
      "text/html": [
       " View run at <a href='https://wandb.ai/kauamritkar-university-of-wisconsin-madison/uncategorized/runs/kj5noa65' target=\"_blank\">https://wandb.ai/kauamritkar-university-of-wisconsin-madison/uncategorized/runs/kj5noa65</a>"
      ],
      "text/plain": [
       "<IPython.core.display.HTML object>"
      ]
     },
     "metadata": {},
     "output_type": "display_data"
    },
    {
     "name": "stderr",
     "output_type": "stream",
     "text": [
      "Trying to set _wandb in the hyperparameter search but there is no corresponding field in `TrainingArguments`.\n",
      "Trying to set assignments in the hyperparameter search but there is no corresponding field in `TrainingArguments`.\n",
      "Trying to set metric in the hyperparameter search but there is no corresponding field in `TrainingArguments`.\n",
      "Detected kernel version 5.4.0, which is below the recommended minimum of 5.5.0; this can cause the process to hang. It is recommended to upgrade the kernel to the minimum version or higher.\n",
      "Some weights of EsmModel were not initialized from the model checkpoint at facebook/esm2_t6_8M_UR50D and are newly initialized: ['esm.pooler.dense.bias', 'esm.pooler.dense.weight']\n",
      "You should probably TRAIN this model on a down-stream task to be able to use it for predictions and inference.\n"
     ]
    },
    {
     "data": {
      "text/html": [],
      "text/plain": [
       "<IPython.core.display.HTML object>"
      ]
     },
     "metadata": {},
     "output_type": "display_data"
    },
    {
     "data": {
      "text/html": [
       " View run <strong style=\"color:#cdcd00\">zany-sweep-1</strong> at: <a href='https://wandb.ai/kauamritkar-university-of-wisconsin-madison/uncategorized/runs/kj5noa65' target=\"_blank\">https://wandb.ai/kauamritkar-university-of-wisconsin-madison/uncategorized/runs/kj5noa65</a><br> View project at: <a href='https://wandb.ai/kauamritkar-university-of-wisconsin-madison/uncategorized' target=\"_blank\">https://wandb.ai/kauamritkar-university-of-wisconsin-madison/uncategorized</a><br>Synced 5 W&B file(s), 0 media file(s), 0 artifact file(s) and 0 other file(s)"
      ],
      "text/plain": [
       "<IPython.core.display.HTML object>"
      ]
     },
     "metadata": {},
     "output_type": "display_data"
    },
    {
     "data": {
      "text/html": [
       "Find logs at: <code>./wandb/run-20250311_220016-kj5noa65/logs</code>"
      ],
      "text/plain": [
       "<IPython.core.display.HTML object>"
      ]
     },
     "metadata": {},
     "output_type": "display_data"
    },
    {
     "data": {
      "text/html": [
       "Ignoring project 'uncategorized' when running a sweep."
      ],
      "text/plain": [
       "<IPython.core.display.HTML object>"
      ]
     },
     "metadata": {},
     "output_type": "display_data"
    },
    {
     "data": {
      "text/html": [
       "Tracking run with wandb version 0.19.7"
      ],
      "text/plain": [
       "<IPython.core.display.HTML object>"
      ]
     },
     "metadata": {},
     "output_type": "display_data"
    },
    {
     "data": {
      "text/html": [
       "Run data is saved locally in <code>/home/kaustubh/RuBisCO_ML/ESM_LoRA/analysis/wandb/run-20250311_220020-kj5noa65</code>"
      ],
      "text/plain": [
       "<IPython.core.display.HTML object>"
      ]
     },
     "metadata": {},
     "output_type": "display_data"
    },
    {
     "data": {
      "text/html": [
       "Syncing run <strong><a href='https://wandb.ai/kauamritkar-university-of-wisconsin-madison/uncategorized/runs/kj5noa65' target=\"_blank\">zany-sweep-1</a></strong> to <a href='https://wandb.ai/kauamritkar-university-of-wisconsin-madison/uncategorized' target=\"_blank\">Weights & Biases</a> (<a href='https://wandb.me/developer-guide' target=\"_blank\">docs</a>)<br>Sweep page: <a href='https://wandb.ai/kauamritkar-university-of-wisconsin-madison/uncategorized/sweeps/8gjc48ic' target=\"_blank\">https://wandb.ai/kauamritkar-university-of-wisconsin-madison/uncategorized/sweeps/8gjc48ic</a>"
      ],
      "text/plain": [
       "<IPython.core.display.HTML object>"
      ]
     },
     "metadata": {},
     "output_type": "display_data"
    },
    {
     "data": {
      "text/html": [
       " View project at <a href='https://wandb.ai/kauamritkar-university-of-wisconsin-madison/uncategorized' target=\"_blank\">https://wandb.ai/kauamritkar-university-of-wisconsin-madison/uncategorized</a>"
      ],
      "text/plain": [
       "<IPython.core.display.HTML object>"
      ]
     },
     "metadata": {},
     "output_type": "display_data"
    },
    {
     "data": {
      "text/html": [
       " View sweep at <a href='https://wandb.ai/kauamritkar-university-of-wisconsin-madison/uncategorized/sweeps/8gjc48ic' target=\"_blank\">https://wandb.ai/kauamritkar-university-of-wisconsin-madison/uncategorized/sweeps/8gjc48ic</a>"
      ],
      "text/plain": [
       "<IPython.core.display.HTML object>"
      ]
     },
     "metadata": {},
     "output_type": "display_data"
    },
    {
     "data": {
      "text/html": [
       " View run at <a href='https://wandb.ai/kauamritkar-university-of-wisconsin-madison/uncategorized/runs/kj5noa65' target=\"_blank\">https://wandb.ai/kauamritkar-university-of-wisconsin-madison/uncategorized/runs/kj5noa65</a>"
      ],
      "text/plain": [
       "<IPython.core.display.HTML object>"
      ]
     },
     "metadata": {},
     "output_type": "display_data"
    },
    {
     "name": "stderr",
     "output_type": "stream",
     "text": [
      "\u001b[34m\u001b[1mwandb\u001b[0m: \u001b[33mWARNING\u001b[0m Config item 'per_device_train_batch_size' was locked by 'sweep' (ignored update).\n",
      "\u001b[34m\u001b[1mwandb\u001b[0m: \u001b[33mWARNING\u001b[0m Config item 'learning_rate' was locked by 'sweep' (ignored update).\n",
      "/home/kaustubh/miniforge3/envs/lora_esm/lib/python3.13/site-packages/torch/nn/parallel/_functions.py:70: UserWarning: Was asked to gather along dimension 0, but all input tensors were scalars; will instead unsqueeze and return a vector.\n",
      "  warnings.warn(\n"
     ]
    },
    {
     "data": {
      "text/html": [
       "\n",
       "    <div>\n",
       "      \n",
       "      <progress value='55' max='55' style='width:300px; height:20px; vertical-align: middle;'></progress>\n",
       "      [55/55 00:04, Epoch 5/5]\n",
       "    </div>\n",
       "    <table border=\"1\" class=\"dataframe\">\n",
       "  <thead>\n",
       " <tr style=\"text-align: left;\">\n",
       "      <th>Epoch</th>\n",
       "      <th>Training Loss</th>\n",
       "      <th>Validation Loss</th>\n",
       "      <th>Accuracy</th>\n",
       "    </tr>\n",
       "  </thead>\n",
       "  <tbody>\n",
       "    <tr>\n",
       "      <td>1</td>\n",
       "      <td>0.685500</td>\n",
       "      <td>0.789934</td>\n",
       "      <td>0.916667</td>\n",
       "    </tr>\n",
       "    <tr>\n",
       "      <td>2</td>\n",
       "      <td>0.665400</td>\n",
       "      <td>0.785971</td>\n",
       "      <td>0.916667</td>\n",
       "    </tr>\n",
       "    <tr>\n",
       "      <td>3</td>\n",
       "      <td>0.690700</td>\n",
       "      <td>0.791976</td>\n",
       "      <td>1.000000</td>\n",
       "    </tr>\n",
       "    <tr>\n",
       "      <td>4</td>\n",
       "      <td>0.672500</td>\n",
       "      <td>0.791634</td>\n",
       "      <td>1.000000</td>\n",
       "    </tr>\n",
       "    <tr>\n",
       "      <td>5</td>\n",
       "      <td>0.681700</td>\n",
       "      <td>0.790835</td>\n",
       "      <td>0.916667</td>\n",
       "    </tr>\n",
       "  </tbody>\n",
       "</table><p>"
      ],
      "text/plain": [
       "<IPython.core.display.HTML object>"
      ]
     },
     "metadata": {},
     "output_type": "display_data"
    },
    {
     "name": "stdout",
     "output_type": "stream",
     "text": [
      "Predictions shape: (8,)\n",
      "Labels shape: (8,)\n"
     ]
    },
    {
     "name": "stderr",
     "output_type": "stream",
     "text": [
      "/home/kaustubh/miniforge3/envs/lora_esm/lib/python3.13/site-packages/peft/utils/save_and_load.py:246: UserWarning: Could not find a config file in /tmp/facebook/esm2_t6_8M_UR50D - will assume that the vocabulary was not modified.\n",
      "  warnings.warn(\n",
      "/home/kaustubh/miniforge3/envs/lora_esm/lib/python3.13/site-packages/torch/nn/parallel/_functions.py:70: UserWarning: Was asked to gather along dimension 0, but all input tensors were scalars; will instead unsqueeze and return a vector.\n",
      "  warnings.warn(\n"
     ]
    },
    {
     "name": "stdout",
     "output_type": "stream",
     "text": [
      "Predictions shape: (8,)\n",
      "Labels shape: (8,)\n"
     ]
    },
    {
     "name": "stderr",
     "output_type": "stream",
     "text": [
      "/home/kaustubh/miniforge3/envs/lora_esm/lib/python3.13/site-packages/peft/utils/save_and_load.py:246: UserWarning: Could not find a config file in /tmp/facebook/esm2_t6_8M_UR50D - will assume that the vocabulary was not modified.\n",
      "  warnings.warn(\n",
      "/home/kaustubh/miniforge3/envs/lora_esm/lib/python3.13/site-packages/torch/nn/parallel/_functions.py:70: UserWarning: Was asked to gather along dimension 0, but all input tensors were scalars; will instead unsqueeze and return a vector.\n",
      "  warnings.warn(\n"
     ]
    },
    {
     "name": "stdout",
     "output_type": "stream",
     "text": [
      "Predictions shape: (8,)\n",
      "Labels shape: (8,)\n"
     ]
    },
    {
     "name": "stderr",
     "output_type": "stream",
     "text": [
      "/home/kaustubh/miniforge3/envs/lora_esm/lib/python3.13/site-packages/peft/utils/save_and_load.py:246: UserWarning: Could not find a config file in /tmp/facebook/esm2_t6_8M_UR50D - will assume that the vocabulary was not modified.\n",
      "  warnings.warn(\n",
      "/home/kaustubh/miniforge3/envs/lora_esm/lib/python3.13/site-packages/torch/nn/parallel/_functions.py:70: UserWarning: Was asked to gather along dimension 0, but all input tensors were scalars; will instead unsqueeze and return a vector.\n",
      "  warnings.warn(\n"
     ]
    },
    {
     "name": "stdout",
     "output_type": "stream",
     "text": [
      "Predictions shape: (8,)\n",
      "Labels shape: (8,)\n"
     ]
    },
    {
     "name": "stderr",
     "output_type": "stream",
     "text": [
      "/home/kaustubh/miniforge3/envs/lora_esm/lib/python3.13/site-packages/peft/utils/save_and_load.py:246: UserWarning: Could not find a config file in /tmp/facebook/esm2_t6_8M_UR50D - will assume that the vocabulary was not modified.\n",
      "  warnings.warn(\n",
      "/home/kaustubh/miniforge3/envs/lora_esm/lib/python3.13/site-packages/torch/nn/parallel/_functions.py:70: UserWarning: Was asked to gather along dimension 0, but all input tensors were scalars; will instead unsqueeze and return a vector.\n",
      "  warnings.warn(\n",
      "/home/kaustubh/miniforge3/envs/lora_esm/lib/python3.13/site-packages/peft/utils/save_and_load.py:246: UserWarning: Could not find a config file in /tmp/facebook/esm2_t6_8M_UR50D - will assume that the vocabulary was not modified.\n",
      "  warnings.warn(\n",
      "/home/kaustubh/miniforge3/envs/lora_esm/lib/python3.13/site-packages/torch/nn/parallel/_functions.py:70: UserWarning: Was asked to gather along dimension 0, but all input tensors were scalars; will instead unsqueeze and return a vector.\n",
      "  warnings.warn(\n"
     ]
    },
    {
     "name": "stdout",
     "output_type": "stream",
     "text": [
      "Predictions shape: (8,)\n",
      "Labels shape: (8,)\n"
     ]
    },
    {
     "name": "stderr",
     "output_type": "stream",
     "text": [
      "/home/kaustubh/miniforge3/envs/lora_esm/lib/python3.13/site-packages/peft/utils/save_and_load.py:246: UserWarning: Could not find a config file in /tmp/facebook/esm2_t6_8M_UR50D - will assume that the vocabulary was not modified.\n",
      "  warnings.warn(\n"
     ]
    },
    {
     "data": {
      "text/html": [],
      "text/plain": [
       "<IPython.core.display.HTML object>"
      ]
     },
     "metadata": {},
     "output_type": "display_data"
    },
    {
     "data": {
      "text/html": [
       "<br>    <style><br>        .wandb-row {<br>            display: flex;<br>            flex-direction: row;<br>            flex-wrap: wrap;<br>            justify-content: flex-start;<br>            width: 100%;<br>        }<br>        .wandb-col {<br>            display: flex;<br>            flex-direction: column;<br>            flex-basis: 100%;<br>            flex: 1;<br>            padding: 10px;<br>        }<br>    </style><br><div class=\"wandb-row\"><div class=\"wandb-col\"><h3>Run history:</h3><br/><table class=\"wandb\"><tr><td>eval/accuracy</td><td>▁▁██▁</td></tr><tr><td>eval/loss</td><td>▆▁██▇</td></tr><tr><td>eval/runtime</td><td>▆▄▁▂█</td></tr><tr><td>eval/samples_per_second</td><td>▃▄█▆▁</td></tr><tr><td>eval/steps_per_second</td><td>▃▄█▆▁</td></tr><tr><td>train/epoch</td><td>▁▁▃▃▄▅▆▆▇██</td></tr><tr><td>train/global_step</td><td>▁▁▃▃▄▅▆▆▇██</td></tr><tr><td>train/grad_norm</td><td>▆▃▁▁█</td></tr><tr><td>train/learning_rate</td><td>█▆▄▃▁</td></tr><tr><td>train/loss</td><td>▇▁█▃▆</td></tr></table><br/></div><div class=\"wandb-col\"><h3>Run summary:</h3><br/><table class=\"wandb\"><tr><td>eval/accuracy</td><td>0.91667</td></tr><tr><td>eval/loss</td><td>0.79084</td></tr><tr><td>eval/runtime</td><td>0.0542</td></tr><tr><td>eval/samples_per_second</td><td>147.484</td></tr><tr><td>eval/steps_per_second</td><td>18.436</td></tr><tr><td>total_flos</td><td>5194426490880.0</td></tr><tr><td>train/epoch</td><td>5</td></tr><tr><td>train/global_step</td><td>55</td></tr><tr><td>train/grad_norm</td><td>0.67111</td></tr><tr><td>train/learning_rate</td><td>2e-05</td></tr><tr><td>train/loss</td><td>0.6817</td></tr><tr><td>train_loss</td><td>0.67689</td></tr><tr><td>train_runtime</td><td>9.4503</td></tr><tr><td>train_samples_per_second</td><td>23.28</td></tr><tr><td>train_steps_per_second</td><td>5.82</td></tr></table><br/></div></div>"
      ],
      "text/plain": [
       "<IPython.core.display.HTML object>"
      ]
     },
     "metadata": {},
     "output_type": "display_data"
    },
    {
     "data": {
      "text/html": [
       " View run <strong style=\"color:#cdcd00\">zany-sweep-1</strong> at: <a href='https://wandb.ai/kauamritkar-university-of-wisconsin-madison/uncategorized/runs/kj5noa65' target=\"_blank\">https://wandb.ai/kauamritkar-university-of-wisconsin-madison/uncategorized/runs/kj5noa65</a><br> View project at: <a href='https://wandb.ai/kauamritkar-university-of-wisconsin-madison/uncategorized' target=\"_blank\">https://wandb.ai/kauamritkar-university-of-wisconsin-madison/uncategorized</a><br>Synced 5 W&B file(s), 0 media file(s), 0 artifact file(s) and 0 other file(s)"
      ],
      "text/plain": [
       "<IPython.core.display.HTML object>"
      ]
     },
     "metadata": {},
     "output_type": "display_data"
    },
    {
     "data": {
      "text/html": [
       "Find logs at: <code>./wandb/run-20250311_220020-kj5noa65/logs</code>"
      ],
      "text/plain": [
       "<IPython.core.display.HTML object>"
      ]
     },
     "metadata": {},
     "output_type": "display_data"
    },
    {
     "name": "stderr",
     "output_type": "stream",
     "text": [
      "\u001b[34m\u001b[1mwandb\u001b[0m: Agent Starting Run: rymehbv4 with config:\n",
      "\u001b[34m\u001b[1mwandb\u001b[0m: \tlearning_rate: 7.235193330863894e-05\n",
      "\u001b[34m\u001b[1mwandb\u001b[0m: \tper_device_train_batch_size: 8\n"
     ]
    },
    {
     "data": {
      "text/html": [
       "Tracking run with wandb version 0.19.7"
      ],
      "text/plain": [
       "<IPython.core.display.HTML object>"
      ]
     },
     "metadata": {},
     "output_type": "display_data"
    },
    {
     "data": {
      "text/html": [
       "Run data is saved locally in <code>/home/kaustubh/RuBisCO_ML/ESM_LoRA/analysis/wandb/run-20250311_220032-rymehbv4</code>"
      ],
      "text/plain": [
       "<IPython.core.display.HTML object>"
      ]
     },
     "metadata": {},
     "output_type": "display_data"
    },
    {
     "data": {
      "text/html": [
       "Syncing run <strong><a href='https://wandb.ai/kauamritkar-university-of-wisconsin-madison/uncategorized/runs/rymehbv4' target=\"_blank\">dry-sweep-2</a></strong> to <a href='https://wandb.ai/kauamritkar-university-of-wisconsin-madison/uncategorized' target=\"_blank\">Weights & Biases</a> (<a href='https://wandb.me/developer-guide' target=\"_blank\">docs</a>)<br>Sweep page: <a href='https://wandb.ai/kauamritkar-university-of-wisconsin-madison/uncategorized/sweeps/8gjc48ic' target=\"_blank\">https://wandb.ai/kauamritkar-university-of-wisconsin-madison/uncategorized/sweeps/8gjc48ic</a>"
      ],
      "text/plain": [
       "<IPython.core.display.HTML object>"
      ]
     },
     "metadata": {},
     "output_type": "display_data"
    },
    {
     "data": {
      "text/html": [
       " View project at <a href='https://wandb.ai/kauamritkar-university-of-wisconsin-madison/uncategorized' target=\"_blank\">https://wandb.ai/kauamritkar-university-of-wisconsin-madison/uncategorized</a>"
      ],
      "text/plain": [
       "<IPython.core.display.HTML object>"
      ]
     },
     "metadata": {},
     "output_type": "display_data"
    },
    {
     "data": {
      "text/html": [
       " View sweep at <a href='https://wandb.ai/kauamritkar-university-of-wisconsin-madison/uncategorized/sweeps/8gjc48ic' target=\"_blank\">https://wandb.ai/kauamritkar-university-of-wisconsin-madison/uncategorized/sweeps/8gjc48ic</a>"
      ],
      "text/plain": [
       "<IPython.core.display.HTML object>"
      ]
     },
     "metadata": {},
     "output_type": "display_data"
    },
    {
     "data": {
      "text/html": [
       " View run at <a href='https://wandb.ai/kauamritkar-university-of-wisconsin-madison/uncategorized/runs/rymehbv4' target=\"_blank\">https://wandb.ai/kauamritkar-university-of-wisconsin-madison/uncategorized/runs/rymehbv4</a>"
      ],
      "text/plain": [
       "<IPython.core.display.HTML object>"
      ]
     },
     "metadata": {},
     "output_type": "display_data"
    },
    {
     "name": "stderr",
     "output_type": "stream",
     "text": [
      "Trying to set _wandb in the hyperparameter search but there is no corresponding field in `TrainingArguments`.\n",
      "Trying to set assignments in the hyperparameter search but there is no corresponding field in `TrainingArguments`.\n",
      "Trying to set metric in the hyperparameter search but there is no corresponding field in `TrainingArguments`.\n",
      "Detected kernel version 5.4.0, which is below the recommended minimum of 5.5.0; this can cause the process to hang. It is recommended to upgrade the kernel to the minimum version or higher.\n",
      "Some weights of EsmModel were not initialized from the model checkpoint at facebook/esm2_t6_8M_UR50D and are newly initialized: ['esm.pooler.dense.bias', 'esm.pooler.dense.weight']\n",
      "You should probably TRAIN this model on a down-stream task to be able to use it for predictions and inference.\n"
     ]
    },
    {
     "data": {
      "text/html": [],
      "text/plain": [
       "<IPython.core.display.HTML object>"
      ]
     },
     "metadata": {},
     "output_type": "display_data"
    },
    {
     "data": {
      "text/html": [
       " View run <strong style=\"color:#cdcd00\">dry-sweep-2</strong> at: <a href='https://wandb.ai/kauamritkar-university-of-wisconsin-madison/uncategorized/runs/rymehbv4' target=\"_blank\">https://wandb.ai/kauamritkar-university-of-wisconsin-madison/uncategorized/runs/rymehbv4</a><br> View project at: <a href='https://wandb.ai/kauamritkar-university-of-wisconsin-madison/uncategorized' target=\"_blank\">https://wandb.ai/kauamritkar-university-of-wisconsin-madison/uncategorized</a><br>Synced 5 W&B file(s), 0 media file(s), 0 artifact file(s) and 0 other file(s)"
      ],
      "text/plain": [
       "<IPython.core.display.HTML object>"
      ]
     },
     "metadata": {},
     "output_type": "display_data"
    },
    {
     "data": {
      "text/html": [
       "Find logs at: <code>./wandb/run-20250311_220032-rymehbv4/logs</code>"
      ],
      "text/plain": [
       "<IPython.core.display.HTML object>"
      ]
     },
     "metadata": {},
     "output_type": "display_data"
    },
    {
     "data": {
      "text/html": [
       "Ignoring project 'uncategorized' when running a sweep."
      ],
      "text/plain": [
       "<IPython.core.display.HTML object>"
      ]
     },
     "metadata": {},
     "output_type": "display_data"
    },
    {
     "data": {
      "text/html": [
       "Tracking run with wandb version 0.19.7"
      ],
      "text/plain": [
       "<IPython.core.display.HTML object>"
      ]
     },
     "metadata": {},
     "output_type": "display_data"
    },
    {
     "data": {
      "text/html": [
       "Run data is saved locally in <code>/home/kaustubh/RuBisCO_ML/ESM_LoRA/analysis/wandb/run-20250311_220036-rymehbv4</code>"
      ],
      "text/plain": [
       "<IPython.core.display.HTML object>"
      ]
     },
     "metadata": {},
     "output_type": "display_data"
    },
    {
     "data": {
      "text/html": [
       "Syncing run <strong><a href='https://wandb.ai/kauamritkar-university-of-wisconsin-madison/uncategorized/runs/rymehbv4' target=\"_blank\">dry-sweep-2</a></strong> to <a href='https://wandb.ai/kauamritkar-university-of-wisconsin-madison/uncategorized' target=\"_blank\">Weights & Biases</a> (<a href='https://wandb.me/developer-guide' target=\"_blank\">docs</a>)<br>Sweep page: <a href='https://wandb.ai/kauamritkar-university-of-wisconsin-madison/uncategorized/sweeps/8gjc48ic' target=\"_blank\">https://wandb.ai/kauamritkar-university-of-wisconsin-madison/uncategorized/sweeps/8gjc48ic</a>"
      ],
      "text/plain": [
       "<IPython.core.display.HTML object>"
      ]
     },
     "metadata": {},
     "output_type": "display_data"
    },
    {
     "data": {
      "text/html": [
       " View project at <a href='https://wandb.ai/kauamritkar-university-of-wisconsin-madison/uncategorized' target=\"_blank\">https://wandb.ai/kauamritkar-university-of-wisconsin-madison/uncategorized</a>"
      ],
      "text/plain": [
       "<IPython.core.display.HTML object>"
      ]
     },
     "metadata": {},
     "output_type": "display_data"
    },
    {
     "data": {
      "text/html": [
       " View sweep at <a href='https://wandb.ai/kauamritkar-university-of-wisconsin-madison/uncategorized/sweeps/8gjc48ic' target=\"_blank\">https://wandb.ai/kauamritkar-university-of-wisconsin-madison/uncategorized/sweeps/8gjc48ic</a>"
      ],
      "text/plain": [
       "<IPython.core.display.HTML object>"
      ]
     },
     "metadata": {},
     "output_type": "display_data"
    },
    {
     "data": {
      "text/html": [
       " View run at <a href='https://wandb.ai/kauamritkar-university-of-wisconsin-madison/uncategorized/runs/rymehbv4' target=\"_blank\">https://wandb.ai/kauamritkar-university-of-wisconsin-madison/uncategorized/runs/rymehbv4</a>"
      ],
      "text/plain": [
       "<IPython.core.display.HTML object>"
      ]
     },
     "metadata": {},
     "output_type": "display_data"
    },
    {
     "name": "stderr",
     "output_type": "stream",
     "text": [
      "\u001b[34m\u001b[1mwandb\u001b[0m: \u001b[33mWARNING\u001b[0m Config item 'per_device_train_batch_size' was locked by 'sweep' (ignored update).\n",
      "\u001b[34m\u001b[1mwandb\u001b[0m: \u001b[33mWARNING\u001b[0m Config item 'learning_rate' was locked by 'sweep' (ignored update).\n",
      "/home/kaustubh/miniforge3/envs/lora_esm/lib/python3.13/site-packages/torch/nn/parallel/_functions.py:70: UserWarning: Was asked to gather along dimension 0, but all input tensors were scalars; will instead unsqueeze and return a vector.\n",
      "  warnings.warn(\n"
     ]
    },
    {
     "data": {
      "text/html": [
       "\n",
       "    <div>\n",
       "      \n",
       "      <progress value='15' max='15' style='width:300px; height:20px; vertical-align: middle;'></progress>\n",
       "      [15/15 00:02, Epoch 5/5]\n",
       "    </div>\n",
       "    <table border=\"1\" class=\"dataframe\">\n",
       "  <thead>\n",
       " <tr style=\"text-align: left;\">\n",
       "      <th>Epoch</th>\n",
       "      <th>Training Loss</th>\n",
       "      <th>Validation Loss</th>\n",
       "      <th>Accuracy</th>\n",
       "    </tr>\n",
       "  </thead>\n",
       "  <tbody>\n",
       "    <tr>\n",
       "      <td>1</td>\n",
       "      <td>No log</td>\n",
       "      <td>0.791575</td>\n",
       "      <td>0.916667</td>\n",
       "    </tr>\n",
       "    <tr>\n",
       "      <td>2</td>\n",
       "      <td>No log</td>\n",
       "      <td>0.790225</td>\n",
       "      <td>0.916667</td>\n",
       "    </tr>\n",
       "    <tr>\n",
       "      <td>3</td>\n",
       "      <td>No log</td>\n",
       "      <td>0.790583</td>\n",
       "      <td>0.916667</td>\n",
       "    </tr>\n",
       "    <tr>\n",
       "      <td>4</td>\n",
       "      <td>0.677400</td>\n",
       "      <td>0.790715</td>\n",
       "      <td>0.916667</td>\n",
       "    </tr>\n",
       "    <tr>\n",
       "      <td>5</td>\n",
       "      <td>0.677400</td>\n",
       "      <td>0.790698</td>\n",
       "      <td>0.916667</td>\n",
       "    </tr>\n",
       "  </tbody>\n",
       "</table><p>"
      ],
      "text/plain": [
       "<IPython.core.display.HTML object>"
      ]
     },
     "metadata": {},
     "output_type": "display_data"
    },
    {
     "name": "stdout",
     "output_type": "stream",
     "text": [
      "Predictions shape: (8,)\n",
      "Labels shape: (8,)\n"
     ]
    },
    {
     "name": "stderr",
     "output_type": "stream",
     "text": [
      "/home/kaustubh/miniforge3/envs/lora_esm/lib/python3.13/site-packages/peft/utils/save_and_load.py:246: UserWarning: Could not find a config file in /tmp/facebook/esm2_t6_8M_UR50D - will assume that the vocabulary was not modified.\n",
      "  warnings.warn(\n",
      "/home/kaustubh/miniforge3/envs/lora_esm/lib/python3.13/site-packages/torch/nn/parallel/_functions.py:70: UserWarning: Was asked to gather along dimension 0, but all input tensors were scalars; will instead unsqueeze and return a vector.\n",
      "  warnings.warn(\n"
     ]
    },
    {
     "name": "stdout",
     "output_type": "stream",
     "text": [
      "Predictions shape: (8,)\n",
      "Labels shape: (8,)\n"
     ]
    },
    {
     "name": "stderr",
     "output_type": "stream",
     "text": [
      "/home/kaustubh/miniforge3/envs/lora_esm/lib/python3.13/site-packages/peft/utils/save_and_load.py:246: UserWarning: Could not find a config file in /tmp/facebook/esm2_t6_8M_UR50D - will assume that the vocabulary was not modified.\n",
      "  warnings.warn(\n",
      "/home/kaustubh/miniforge3/envs/lora_esm/lib/python3.13/site-packages/torch/nn/parallel/_functions.py:70: UserWarning: Was asked to gather along dimension 0, but all input tensors were scalars; will instead unsqueeze and return a vector.\n",
      "  warnings.warn(\n"
     ]
    },
    {
     "name": "stdout",
     "output_type": "stream",
     "text": [
      "Predictions shape: (8,)\n",
      "Labels shape: (8,)\n"
     ]
    },
    {
     "name": "stderr",
     "output_type": "stream",
     "text": [
      "/home/kaustubh/miniforge3/envs/lora_esm/lib/python3.13/site-packages/peft/utils/save_and_load.py:246: UserWarning: Could not find a config file in /tmp/facebook/esm2_t6_8M_UR50D - will assume that the vocabulary was not modified.\n",
      "  warnings.warn(\n",
      "/home/kaustubh/miniforge3/envs/lora_esm/lib/python3.13/site-packages/torch/nn/parallel/_functions.py:70: UserWarning: Was asked to gather along dimension 0, but all input tensors were scalars; will instead unsqueeze and return a vector.\n",
      "  warnings.warn(\n"
     ]
    },
    {
     "name": "stdout",
     "output_type": "stream",
     "text": [
      "Predictions shape: (8,)\n",
      "Labels shape: (8,)\n"
     ]
    },
    {
     "name": "stderr",
     "output_type": "stream",
     "text": [
      "/home/kaustubh/miniforge3/envs/lora_esm/lib/python3.13/site-packages/peft/utils/save_and_load.py:246: UserWarning: Could not find a config file in /tmp/facebook/esm2_t6_8M_UR50D - will assume that the vocabulary was not modified.\n",
      "  warnings.warn(\n",
      "/home/kaustubh/miniforge3/envs/lora_esm/lib/python3.13/site-packages/torch/nn/parallel/_functions.py:70: UserWarning: Was asked to gather along dimension 0, but all input tensors were scalars; will instead unsqueeze and return a vector.\n",
      "  warnings.warn(\n",
      "/home/kaustubh/miniforge3/envs/lora_esm/lib/python3.13/site-packages/peft/utils/save_and_load.py:246: UserWarning: Could not find a config file in /tmp/facebook/esm2_t6_8M_UR50D - will assume that the vocabulary was not modified.\n",
      "  warnings.warn(\n",
      "/home/kaustubh/miniforge3/envs/lora_esm/lib/python3.13/site-packages/torch/nn/parallel/_functions.py:70: UserWarning: Was asked to gather along dimension 0, but all input tensors were scalars; will instead unsqueeze and return a vector.\n",
      "  warnings.warn(\n"
     ]
    },
    {
     "name": "stdout",
     "output_type": "stream",
     "text": [
      "Predictions shape: (8,)\n",
      "Labels shape: (8,)\n"
     ]
    },
    {
     "name": "stderr",
     "output_type": "stream",
     "text": [
      "/home/kaustubh/miniforge3/envs/lora_esm/lib/python3.13/site-packages/peft/utils/save_and_load.py:246: UserWarning: Could not find a config file in /tmp/facebook/esm2_t6_8M_UR50D - will assume that the vocabulary was not modified.\n",
      "  warnings.warn(\n"
     ]
    },
    {
     "data": {
      "text/html": [],
      "text/plain": [
       "<IPython.core.display.HTML object>"
      ]
     },
     "metadata": {},
     "output_type": "display_data"
    },
    {
     "data": {
      "text/html": [
       "<br>    <style><br>        .wandb-row {<br>            display: flex;<br>            flex-direction: row;<br>            flex-wrap: wrap;<br>            justify-content: flex-start;<br>            width: 100%;<br>        }<br>        .wandb-col {<br>            display: flex;<br>            flex-direction: column;<br>            flex-basis: 100%;<br>            flex: 1;<br>            padding: 10px;<br>        }<br>    </style><br><div class=\"wandb-row\"><div class=\"wandb-col\"><h3>Run history:</h3><br/><table class=\"wandb\"><tr><td>eval/accuracy</td><td>▁▁▁▁▁</td></tr><tr><td>eval/loss</td><td>█▁▃▄▃</td></tr><tr><td>eval/runtime</td><td>▁▂▁▃█</td></tr><tr><td>eval/samples_per_second</td><td>▇▇█▆▁</td></tr><tr><td>eval/steps_per_second</td><td>▇▇█▆▁</td></tr><tr><td>train/epoch</td><td>▁▃▅▅▆██</td></tr><tr><td>train/global_step</td><td>▁▃▅▅▆██</td></tr><tr><td>train/grad_norm</td><td>▁</td></tr><tr><td>train/learning_rate</td><td>▁</td></tr><tr><td>train/loss</td><td>▁</td></tr></table><br/></div><div class=\"wandb-col\"><h3>Run summary:</h3><br/><table class=\"wandb\"><tr><td>eval/accuracy</td><td>0.91667</td></tr><tr><td>eval/loss</td><td>0.7907</td></tr><tr><td>eval/runtime</td><td>0.0518</td></tr><tr><td>eval/samples_per_second</td><td>154.562</td></tr><tr><td>eval/steps_per_second</td><td>19.32</td></tr><tr><td>total_flos</td><td>5194426490880.0</td></tr><tr><td>train/epoch</td><td>5</td></tr><tr><td>train/global_step</td><td>15</td></tr><tr><td>train/grad_norm</td><td>0.04477</td></tr><tr><td>train/learning_rate</td><td>2e-05</td></tr><tr><td>train/loss</td><td>0.6774</td></tr><tr><td>train_loss</td><td>0.67632</td></tr><tr><td>train_runtime</td><td>5.0018</td></tr><tr><td>train_samples_per_second</td><td>43.984</td></tr><tr><td>train_steps_per_second</td><td>2.999</td></tr></table><br/></div></div>"
      ],
      "text/plain": [
       "<IPython.core.display.HTML object>"
      ]
     },
     "metadata": {},
     "output_type": "display_data"
    },
    {
     "data": {
      "text/html": [
       " View run <strong style=\"color:#cdcd00\">dry-sweep-2</strong> at: <a href='https://wandb.ai/kauamritkar-university-of-wisconsin-madison/uncategorized/runs/rymehbv4' target=\"_blank\">https://wandb.ai/kauamritkar-university-of-wisconsin-madison/uncategorized/runs/rymehbv4</a><br> View project at: <a href='https://wandb.ai/kauamritkar-university-of-wisconsin-madison/uncategorized' target=\"_blank\">https://wandb.ai/kauamritkar-university-of-wisconsin-madison/uncategorized</a><br>Synced 5 W&B file(s), 0 media file(s), 0 artifact file(s) and 0 other file(s)"
      ],
      "text/plain": [
       "<IPython.core.display.HTML object>"
      ]
     },
     "metadata": {},
     "output_type": "display_data"
    },
    {
     "data": {
      "text/html": [
       "Find logs at: <code>./wandb/run-20250311_220036-rymehbv4/logs</code>"
      ],
      "text/plain": [
       "<IPython.core.display.HTML object>"
      ]
     },
     "metadata": {},
     "output_type": "display_data"
    },
    {
     "name": "stderr",
     "output_type": "stream",
     "text": [
      "\u001b[34m\u001b[1mwandb\u001b[0m: Agent Starting Run: iex5fxvg with config:\n",
      "\u001b[34m\u001b[1mwandb\u001b[0m: \tlearning_rate: 0.0009527882487525412\n",
      "\u001b[34m\u001b[1mwandb\u001b[0m: \tper_device_train_batch_size: 8\n"
     ]
    },
    {
     "data": {
      "text/html": [
       "Tracking run with wandb version 0.19.7"
      ],
      "text/plain": [
       "<IPython.core.display.HTML object>"
      ]
     },
     "metadata": {},
     "output_type": "display_data"
    },
    {
     "data": {
      "text/html": [
       "Run data is saved locally in <code>/home/kaustubh/RuBisCO_ML/ESM_LoRA/analysis/wandb/run-20250311_220043-iex5fxvg</code>"
      ],
      "text/plain": [
       "<IPython.core.display.HTML object>"
      ]
     },
     "metadata": {},
     "output_type": "display_data"
    },
    {
     "data": {
      "text/html": [
       "Syncing run <strong><a href='https://wandb.ai/kauamritkar-university-of-wisconsin-madison/uncategorized/runs/iex5fxvg' target=\"_blank\">helpful-sweep-3</a></strong> to <a href='https://wandb.ai/kauamritkar-university-of-wisconsin-madison/uncategorized' target=\"_blank\">Weights & Biases</a> (<a href='https://wandb.me/developer-guide' target=\"_blank\">docs</a>)<br>Sweep page: <a href='https://wandb.ai/kauamritkar-university-of-wisconsin-madison/uncategorized/sweeps/8gjc48ic' target=\"_blank\">https://wandb.ai/kauamritkar-university-of-wisconsin-madison/uncategorized/sweeps/8gjc48ic</a>"
      ],
      "text/plain": [
       "<IPython.core.display.HTML object>"
      ]
     },
     "metadata": {},
     "output_type": "display_data"
    },
    {
     "data": {
      "text/html": [
       " View project at <a href='https://wandb.ai/kauamritkar-university-of-wisconsin-madison/uncategorized' target=\"_blank\">https://wandb.ai/kauamritkar-university-of-wisconsin-madison/uncategorized</a>"
      ],
      "text/plain": [
       "<IPython.core.display.HTML object>"
      ]
     },
     "metadata": {},
     "output_type": "display_data"
    },
    {
     "data": {
      "text/html": [
       " View sweep at <a href='https://wandb.ai/kauamritkar-university-of-wisconsin-madison/uncategorized/sweeps/8gjc48ic' target=\"_blank\">https://wandb.ai/kauamritkar-university-of-wisconsin-madison/uncategorized/sweeps/8gjc48ic</a>"
      ],
      "text/plain": [
       "<IPython.core.display.HTML object>"
      ]
     },
     "metadata": {},
     "output_type": "display_data"
    },
    {
     "data": {
      "text/html": [
       " View run at <a href='https://wandb.ai/kauamritkar-university-of-wisconsin-madison/uncategorized/runs/iex5fxvg' target=\"_blank\">https://wandb.ai/kauamritkar-university-of-wisconsin-madison/uncategorized/runs/iex5fxvg</a>"
      ],
      "text/plain": [
       "<IPython.core.display.HTML object>"
      ]
     },
     "metadata": {},
     "output_type": "display_data"
    },
    {
     "name": "stderr",
     "output_type": "stream",
     "text": [
      "Trying to set _wandb in the hyperparameter search but there is no corresponding field in `TrainingArguments`.\n",
      "Trying to set assignments in the hyperparameter search but there is no corresponding field in `TrainingArguments`.\n",
      "Trying to set metric in the hyperparameter search but there is no corresponding field in `TrainingArguments`.\n",
      "Detected kernel version 5.4.0, which is below the recommended minimum of 5.5.0; this can cause the process to hang. It is recommended to upgrade the kernel to the minimum version or higher.\n",
      "Some weights of EsmModel were not initialized from the model checkpoint at facebook/esm2_t6_8M_UR50D and are newly initialized: ['esm.pooler.dense.bias', 'esm.pooler.dense.weight']\n",
      "You should probably TRAIN this model on a down-stream task to be able to use it for predictions and inference.\n"
     ]
    },
    {
     "data": {
      "text/html": [],
      "text/plain": [
       "<IPython.core.display.HTML object>"
      ]
     },
     "metadata": {},
     "output_type": "display_data"
    },
    {
     "data": {
      "text/html": [
       " View run <strong style=\"color:#cdcd00\">helpful-sweep-3</strong> at: <a href='https://wandb.ai/kauamritkar-university-of-wisconsin-madison/uncategorized/runs/iex5fxvg' target=\"_blank\">https://wandb.ai/kauamritkar-university-of-wisconsin-madison/uncategorized/runs/iex5fxvg</a><br> View project at: <a href='https://wandb.ai/kauamritkar-university-of-wisconsin-madison/uncategorized' target=\"_blank\">https://wandb.ai/kauamritkar-university-of-wisconsin-madison/uncategorized</a><br>Synced 5 W&B file(s), 0 media file(s), 0 artifact file(s) and 0 other file(s)"
      ],
      "text/plain": [
       "<IPython.core.display.HTML object>"
      ]
     },
     "metadata": {},
     "output_type": "display_data"
    },
    {
     "data": {
      "text/html": [
       "Find logs at: <code>./wandb/run-20250311_220043-iex5fxvg/logs</code>"
      ],
      "text/plain": [
       "<IPython.core.display.HTML object>"
      ]
     },
     "metadata": {},
     "output_type": "display_data"
    },
    {
     "data": {
      "text/html": [
       "Ignoring project 'uncategorized' when running a sweep."
      ],
      "text/plain": [
       "<IPython.core.display.HTML object>"
      ]
     },
     "metadata": {},
     "output_type": "display_data"
    },
    {
     "data": {
      "text/html": [
       "Tracking run with wandb version 0.19.7"
      ],
      "text/plain": [
       "<IPython.core.display.HTML object>"
      ]
     },
     "metadata": {},
     "output_type": "display_data"
    },
    {
     "data": {
      "text/html": [
       "Run data is saved locally in <code>/home/kaustubh/RuBisCO_ML/ESM_LoRA/analysis/wandb/run-20250311_220047-iex5fxvg</code>"
      ],
      "text/plain": [
       "<IPython.core.display.HTML object>"
      ]
     },
     "metadata": {},
     "output_type": "display_data"
    },
    {
     "data": {
      "text/html": [
       "Syncing run <strong><a href='https://wandb.ai/kauamritkar-university-of-wisconsin-madison/uncategorized/runs/iex5fxvg' target=\"_blank\">helpful-sweep-3</a></strong> to <a href='https://wandb.ai/kauamritkar-university-of-wisconsin-madison/uncategorized' target=\"_blank\">Weights & Biases</a> (<a href='https://wandb.me/developer-guide' target=\"_blank\">docs</a>)<br>Sweep page: <a href='https://wandb.ai/kauamritkar-university-of-wisconsin-madison/uncategorized/sweeps/8gjc48ic' target=\"_blank\">https://wandb.ai/kauamritkar-university-of-wisconsin-madison/uncategorized/sweeps/8gjc48ic</a>"
      ],
      "text/plain": [
       "<IPython.core.display.HTML object>"
      ]
     },
     "metadata": {},
     "output_type": "display_data"
    },
    {
     "data": {
      "text/html": [
       " View project at <a href='https://wandb.ai/kauamritkar-university-of-wisconsin-madison/uncategorized' target=\"_blank\">https://wandb.ai/kauamritkar-university-of-wisconsin-madison/uncategorized</a>"
      ],
      "text/plain": [
       "<IPython.core.display.HTML object>"
      ]
     },
     "metadata": {},
     "output_type": "display_data"
    },
    {
     "data": {
      "text/html": [
       " View sweep at <a href='https://wandb.ai/kauamritkar-university-of-wisconsin-madison/uncategorized/sweeps/8gjc48ic' target=\"_blank\">https://wandb.ai/kauamritkar-university-of-wisconsin-madison/uncategorized/sweeps/8gjc48ic</a>"
      ],
      "text/plain": [
       "<IPython.core.display.HTML object>"
      ]
     },
     "metadata": {},
     "output_type": "display_data"
    },
    {
     "data": {
      "text/html": [
       " View run at <a href='https://wandb.ai/kauamritkar-university-of-wisconsin-madison/uncategorized/runs/iex5fxvg' target=\"_blank\">https://wandb.ai/kauamritkar-university-of-wisconsin-madison/uncategorized/runs/iex5fxvg</a>"
      ],
      "text/plain": [
       "<IPython.core.display.HTML object>"
      ]
     },
     "metadata": {},
     "output_type": "display_data"
    },
    {
     "name": "stderr",
     "output_type": "stream",
     "text": [
      "\u001b[34m\u001b[1mwandb\u001b[0m: \u001b[33mWARNING\u001b[0m Config item 'per_device_train_batch_size' was locked by 'sweep' (ignored update).\n",
      "\u001b[34m\u001b[1mwandb\u001b[0m: \u001b[33mWARNING\u001b[0m Config item 'learning_rate' was locked by 'sweep' (ignored update).\n",
      "/home/kaustubh/miniforge3/envs/lora_esm/lib/python3.13/site-packages/torch/nn/parallel/_functions.py:70: UserWarning: Was asked to gather along dimension 0, but all input tensors were scalars; will instead unsqueeze and return a vector.\n",
      "  warnings.warn(\n"
     ]
    },
    {
     "data": {
      "text/html": [
       "\n",
       "    <div>\n",
       "      \n",
       "      <progress value='15' max='15' style='width:300px; height:20px; vertical-align: middle;'></progress>\n",
       "      [15/15 00:01, Epoch 5/5]\n",
       "    </div>\n",
       "    <table border=\"1\" class=\"dataframe\">\n",
       "  <thead>\n",
       " <tr style=\"text-align: left;\">\n",
       "      <th>Epoch</th>\n",
       "      <th>Training Loss</th>\n",
       "      <th>Validation Loss</th>\n",
       "      <th>Accuracy</th>\n",
       "    </tr>\n",
       "  </thead>\n",
       "  <tbody>\n",
       "    <tr>\n",
       "      <td>1</td>\n",
       "      <td>No log</td>\n",
       "      <td>0.782509</td>\n",
       "      <td>0.833333</td>\n",
       "    </tr>\n",
       "    <tr>\n",
       "      <td>2</td>\n",
       "      <td>No log</td>\n",
       "      <td>0.779618</td>\n",
       "      <td>0.916667</td>\n",
       "    </tr>\n",
       "    <tr>\n",
       "      <td>3</td>\n",
       "      <td>No log</td>\n",
       "      <td>0.789699</td>\n",
       "      <td>0.916667</td>\n",
       "    </tr>\n",
       "    <tr>\n",
       "      <td>4</td>\n",
       "      <td>0.679000</td>\n",
       "      <td>0.793962</td>\n",
       "      <td>0.916667</td>\n",
       "    </tr>\n",
       "    <tr>\n",
       "      <td>5</td>\n",
       "      <td>0.679000</td>\n",
       "      <td>0.794568</td>\n",
       "      <td>1.000000</td>\n",
       "    </tr>\n",
       "  </tbody>\n",
       "</table><p>"
      ],
      "text/plain": [
       "<IPython.core.display.HTML object>"
      ]
     },
     "metadata": {},
     "output_type": "display_data"
    },
    {
     "name": "stdout",
     "output_type": "stream",
     "text": [
      "Predictions shape: (8,)\n",
      "Labels shape: (8,)\n"
     ]
    },
    {
     "name": "stderr",
     "output_type": "stream",
     "text": [
      "/home/kaustubh/miniforge3/envs/lora_esm/lib/python3.13/site-packages/peft/utils/save_and_load.py:246: UserWarning: Could not find a config file in /tmp/facebook/esm2_t6_8M_UR50D - will assume that the vocabulary was not modified.\n",
      "  warnings.warn(\n",
      "/home/kaustubh/miniforge3/envs/lora_esm/lib/python3.13/site-packages/torch/nn/parallel/_functions.py:70: UserWarning: Was asked to gather along dimension 0, but all input tensors were scalars; will instead unsqueeze and return a vector.\n",
      "  warnings.warn(\n"
     ]
    },
    {
     "name": "stdout",
     "output_type": "stream",
     "text": [
      "Predictions shape: (8,)\n",
      "Labels shape: (8,)\n"
     ]
    },
    {
     "name": "stderr",
     "output_type": "stream",
     "text": [
      "/home/kaustubh/miniforge3/envs/lora_esm/lib/python3.13/site-packages/peft/utils/save_and_load.py:246: UserWarning: Could not find a config file in /tmp/facebook/esm2_t6_8M_UR50D - will assume that the vocabulary was not modified.\n",
      "  warnings.warn(\n",
      "/home/kaustubh/miniforge3/envs/lora_esm/lib/python3.13/site-packages/torch/nn/parallel/_functions.py:70: UserWarning: Was asked to gather along dimension 0, but all input tensors were scalars; will instead unsqueeze and return a vector.\n",
      "  warnings.warn(\n"
     ]
    },
    {
     "name": "stdout",
     "output_type": "stream",
     "text": [
      "Predictions shape: (8,)\n",
      "Labels shape: (8,)\n"
     ]
    },
    {
     "name": "stderr",
     "output_type": "stream",
     "text": [
      "/home/kaustubh/miniforge3/envs/lora_esm/lib/python3.13/site-packages/peft/utils/save_and_load.py:246: UserWarning: Could not find a config file in /tmp/facebook/esm2_t6_8M_UR50D - will assume that the vocabulary was not modified.\n",
      "  warnings.warn(\n",
      "/home/kaustubh/miniforge3/envs/lora_esm/lib/python3.13/site-packages/torch/nn/parallel/_functions.py:70: UserWarning: Was asked to gather along dimension 0, but all input tensors were scalars; will instead unsqueeze and return a vector.\n",
      "  warnings.warn(\n"
     ]
    },
    {
     "name": "stdout",
     "output_type": "stream",
     "text": [
      "Predictions shape: (8,)\n",
      "Labels shape: (8,)\n"
     ]
    },
    {
     "name": "stderr",
     "output_type": "stream",
     "text": [
      "/home/kaustubh/miniforge3/envs/lora_esm/lib/python3.13/site-packages/peft/utils/save_and_load.py:246: UserWarning: Could not find a config file in /tmp/facebook/esm2_t6_8M_UR50D - will assume that the vocabulary was not modified.\n",
      "  warnings.warn(\n",
      "/home/kaustubh/miniforge3/envs/lora_esm/lib/python3.13/site-packages/torch/nn/parallel/_functions.py:70: UserWarning: Was asked to gather along dimension 0, but all input tensors were scalars; will instead unsqueeze and return a vector.\n",
      "  warnings.warn(\n",
      "/home/kaustubh/miniforge3/envs/lora_esm/lib/python3.13/site-packages/peft/utils/save_and_load.py:246: UserWarning: Could not find a config file in /tmp/facebook/esm2_t6_8M_UR50D - will assume that the vocabulary was not modified.\n",
      "  warnings.warn(\n",
      "/home/kaustubh/miniforge3/envs/lora_esm/lib/python3.13/site-packages/torch/nn/parallel/_functions.py:70: UserWarning: Was asked to gather along dimension 0, but all input tensors were scalars; will instead unsqueeze and return a vector.\n",
      "  warnings.warn(\n"
     ]
    },
    {
     "name": "stdout",
     "output_type": "stream",
     "text": [
      "Predictions shape: (8,)\n",
      "Labels shape: (8,)\n"
     ]
    },
    {
     "name": "stderr",
     "output_type": "stream",
     "text": [
      "/home/kaustubh/miniforge3/envs/lora_esm/lib/python3.13/site-packages/peft/utils/save_and_load.py:246: UserWarning: Could not find a config file in /tmp/facebook/esm2_t6_8M_UR50D - will assume that the vocabulary was not modified.\n",
      "  warnings.warn(\n"
     ]
    },
    {
     "data": {
      "text/html": [],
      "text/plain": [
       "<IPython.core.display.HTML object>"
      ]
     },
     "metadata": {},
     "output_type": "display_data"
    },
    {
     "data": {
      "text/html": [
       "<br>    <style><br>        .wandb-row {<br>            display: flex;<br>            flex-direction: row;<br>            flex-wrap: wrap;<br>            justify-content: flex-start;<br>            width: 100%;<br>        }<br>        .wandb-col {<br>            display: flex;<br>            flex-direction: column;<br>            flex-basis: 100%;<br>            flex: 1;<br>            padding: 10px;<br>        }<br>    </style><br><div class=\"wandb-row\"><div class=\"wandb-col\"><h3>Run history:</h3><br/><table class=\"wandb\"><tr><td>eval/accuracy</td><td>▁▅▅▅█</td></tr><tr><td>eval/loss</td><td>▂▁▆██</td></tr><tr><td>eval/runtime</td><td>▂▁▅▄█</td></tr><tr><td>eval/samples_per_second</td><td>▇█▄▅▁</td></tr><tr><td>eval/steps_per_second</td><td>▇█▄▅▁</td></tr><tr><td>train/epoch</td><td>▁▃▅▅▆██</td></tr><tr><td>train/global_step</td><td>▁▃▅▅▆██</td></tr><tr><td>train/grad_norm</td><td>▁</td></tr><tr><td>train/learning_rate</td><td>▁</td></tr><tr><td>train/loss</td><td>▁</td></tr></table><br/></div><div class=\"wandb-col\"><h3>Run summary:</h3><br/><table class=\"wandb\"><tr><td>eval/accuracy</td><td>1</td></tr><tr><td>eval/loss</td><td>0.79457</td></tr><tr><td>eval/runtime</td><td>0.0523</td></tr><tr><td>eval/samples_per_second</td><td>152.875</td></tr><tr><td>eval/steps_per_second</td><td>19.109</td></tr><tr><td>total_flos</td><td>5194426490880.0</td></tr><tr><td>train/epoch</td><td>5</td></tr><tr><td>train/global_step</td><td>15</td></tr><tr><td>train/grad_norm</td><td>0.04045</td></tr><tr><td>train/learning_rate</td><td>0.00032</td></tr><tr><td>train/loss</td><td>0.679</td></tr><tr><td>train_loss</td><td>0.67708</td></tr><tr><td>train_runtime</td><td>4.9206</td></tr><tr><td>train_samples_per_second</td><td>44.71</td></tr><tr><td>train_steps_per_second</td><td>3.048</td></tr></table><br/></div></div>"
      ],
      "text/plain": [
       "<IPython.core.display.HTML object>"
      ]
     },
     "metadata": {},
     "output_type": "display_data"
    },
    {
     "data": {
      "text/html": [
       " View run <strong style=\"color:#cdcd00\">helpful-sweep-3</strong> at: <a href='https://wandb.ai/kauamritkar-university-of-wisconsin-madison/uncategorized/runs/iex5fxvg' target=\"_blank\">https://wandb.ai/kauamritkar-university-of-wisconsin-madison/uncategorized/runs/iex5fxvg</a><br> View project at: <a href='https://wandb.ai/kauamritkar-university-of-wisconsin-madison/uncategorized' target=\"_blank\">https://wandb.ai/kauamritkar-university-of-wisconsin-madison/uncategorized</a><br>Synced 5 W&B file(s), 0 media file(s), 0 artifact file(s) and 0 other file(s)"
      ],
      "text/plain": [
       "<IPython.core.display.HTML object>"
      ]
     },
     "metadata": {},
     "output_type": "display_data"
    },
    {
     "data": {
      "text/html": [
       "Find logs at: <code>./wandb/run-20250311_220047-iex5fxvg/logs</code>"
      ],
      "text/plain": [
       "<IPython.core.display.HTML object>"
      ]
     },
     "metadata": {},
     "output_type": "display_data"
    },
    {
     "name": "stderr",
     "output_type": "stream",
     "text": [
      "\u001b[34m\u001b[1mwandb\u001b[0m: Agent Starting Run: inrjiphf with config:\n",
      "\u001b[34m\u001b[1mwandb\u001b[0m: \tlearning_rate: 0.000938430136130186\n",
      "\u001b[34m\u001b[1mwandb\u001b[0m: \tper_device_train_batch_size: 8\n"
     ]
    },
    {
     "data": {
      "text/html": [
       "Tracking run with wandb version 0.19.7"
      ],
      "text/plain": [
       "<IPython.core.display.HTML object>"
      ]
     },
     "metadata": {},
     "output_type": "display_data"
    },
    {
     "data": {
      "text/html": [
       "Run data is saved locally in <code>/home/kaustubh/RuBisCO_ML/ESM_LoRA/analysis/wandb/run-20250311_220054-inrjiphf</code>"
      ],
      "text/plain": [
       "<IPython.core.display.HTML object>"
      ]
     },
     "metadata": {},
     "output_type": "display_data"
    },
    {
     "data": {
      "text/html": [
       "Syncing run <strong><a href='https://wandb.ai/kauamritkar-university-of-wisconsin-madison/uncategorized/runs/inrjiphf' target=\"_blank\">mild-sweep-4</a></strong> to <a href='https://wandb.ai/kauamritkar-university-of-wisconsin-madison/uncategorized' target=\"_blank\">Weights & Biases</a> (<a href='https://wandb.me/developer-guide' target=\"_blank\">docs</a>)<br>Sweep page: <a href='https://wandb.ai/kauamritkar-university-of-wisconsin-madison/uncategorized/sweeps/8gjc48ic' target=\"_blank\">https://wandb.ai/kauamritkar-university-of-wisconsin-madison/uncategorized/sweeps/8gjc48ic</a>"
      ],
      "text/plain": [
       "<IPython.core.display.HTML object>"
      ]
     },
     "metadata": {},
     "output_type": "display_data"
    },
    {
     "data": {
      "text/html": [
       " View project at <a href='https://wandb.ai/kauamritkar-university-of-wisconsin-madison/uncategorized' target=\"_blank\">https://wandb.ai/kauamritkar-university-of-wisconsin-madison/uncategorized</a>"
      ],
      "text/plain": [
       "<IPython.core.display.HTML object>"
      ]
     },
     "metadata": {},
     "output_type": "display_data"
    },
    {
     "data": {
      "text/html": [
       " View sweep at <a href='https://wandb.ai/kauamritkar-university-of-wisconsin-madison/uncategorized/sweeps/8gjc48ic' target=\"_blank\">https://wandb.ai/kauamritkar-university-of-wisconsin-madison/uncategorized/sweeps/8gjc48ic</a>"
      ],
      "text/plain": [
       "<IPython.core.display.HTML object>"
      ]
     },
     "metadata": {},
     "output_type": "display_data"
    },
    {
     "data": {
      "text/html": [
       " View run at <a href='https://wandb.ai/kauamritkar-university-of-wisconsin-madison/uncategorized/runs/inrjiphf' target=\"_blank\">https://wandb.ai/kauamritkar-university-of-wisconsin-madison/uncategorized/runs/inrjiphf</a>"
      ],
      "text/plain": [
       "<IPython.core.display.HTML object>"
      ]
     },
     "metadata": {},
     "output_type": "display_data"
    },
    {
     "name": "stderr",
     "output_type": "stream",
     "text": [
      "Trying to set _wandb in the hyperparameter search but there is no corresponding field in `TrainingArguments`.\n",
      "Trying to set assignments in the hyperparameter search but there is no corresponding field in `TrainingArguments`.\n",
      "Trying to set metric in the hyperparameter search but there is no corresponding field in `TrainingArguments`.\n",
      "Detected kernel version 5.4.0, which is below the recommended minimum of 5.5.0; this can cause the process to hang. It is recommended to upgrade the kernel to the minimum version or higher.\n",
      "Some weights of EsmModel were not initialized from the model checkpoint at facebook/esm2_t6_8M_UR50D and are newly initialized: ['esm.pooler.dense.bias', 'esm.pooler.dense.weight']\n",
      "You should probably TRAIN this model on a down-stream task to be able to use it for predictions and inference.\n"
     ]
    },
    {
     "data": {
      "text/html": [],
      "text/plain": [
       "<IPython.core.display.HTML object>"
      ]
     },
     "metadata": {},
     "output_type": "display_data"
    },
    {
     "data": {
      "text/html": [
       " View run <strong style=\"color:#cdcd00\">mild-sweep-4</strong> at: <a href='https://wandb.ai/kauamritkar-university-of-wisconsin-madison/uncategorized/runs/inrjiphf' target=\"_blank\">https://wandb.ai/kauamritkar-university-of-wisconsin-madison/uncategorized/runs/inrjiphf</a><br> View project at: <a href='https://wandb.ai/kauamritkar-university-of-wisconsin-madison/uncategorized' target=\"_blank\">https://wandb.ai/kauamritkar-university-of-wisconsin-madison/uncategorized</a><br>Synced 5 W&B file(s), 0 media file(s), 0 artifact file(s) and 0 other file(s)"
      ],
      "text/plain": [
       "<IPython.core.display.HTML object>"
      ]
     },
     "metadata": {},
     "output_type": "display_data"
    },
    {
     "data": {
      "text/html": [
       "Find logs at: <code>./wandb/run-20250311_220054-inrjiphf/logs</code>"
      ],
      "text/plain": [
       "<IPython.core.display.HTML object>"
      ]
     },
     "metadata": {},
     "output_type": "display_data"
    },
    {
     "data": {
      "text/html": [
       "Ignoring project 'uncategorized' when running a sweep."
      ],
      "text/plain": [
       "<IPython.core.display.HTML object>"
      ]
     },
     "metadata": {},
     "output_type": "display_data"
    },
    {
     "data": {
      "text/html": [
       "Tracking run with wandb version 0.19.7"
      ],
      "text/plain": [
       "<IPython.core.display.HTML object>"
      ]
     },
     "metadata": {},
     "output_type": "display_data"
    },
    {
     "data": {
      "text/html": [
       "Run data is saved locally in <code>/home/kaustubh/RuBisCO_ML/ESM_LoRA/analysis/wandb/run-20250311_220058-inrjiphf</code>"
      ],
      "text/plain": [
       "<IPython.core.display.HTML object>"
      ]
     },
     "metadata": {},
     "output_type": "display_data"
    },
    {
     "data": {
      "text/html": [
       "Syncing run <strong><a href='https://wandb.ai/kauamritkar-university-of-wisconsin-madison/uncategorized/runs/inrjiphf' target=\"_blank\">mild-sweep-4</a></strong> to <a href='https://wandb.ai/kauamritkar-university-of-wisconsin-madison/uncategorized' target=\"_blank\">Weights & Biases</a> (<a href='https://wandb.me/developer-guide' target=\"_blank\">docs</a>)<br>Sweep page: <a href='https://wandb.ai/kauamritkar-university-of-wisconsin-madison/uncategorized/sweeps/8gjc48ic' target=\"_blank\">https://wandb.ai/kauamritkar-university-of-wisconsin-madison/uncategorized/sweeps/8gjc48ic</a>"
      ],
      "text/plain": [
       "<IPython.core.display.HTML object>"
      ]
     },
     "metadata": {},
     "output_type": "display_data"
    },
    {
     "data": {
      "text/html": [
       " View project at <a href='https://wandb.ai/kauamritkar-university-of-wisconsin-madison/uncategorized' target=\"_blank\">https://wandb.ai/kauamritkar-university-of-wisconsin-madison/uncategorized</a>"
      ],
      "text/plain": [
       "<IPython.core.display.HTML object>"
      ]
     },
     "metadata": {},
     "output_type": "display_data"
    },
    {
     "data": {
      "text/html": [
       " View sweep at <a href='https://wandb.ai/kauamritkar-university-of-wisconsin-madison/uncategorized/sweeps/8gjc48ic' target=\"_blank\">https://wandb.ai/kauamritkar-university-of-wisconsin-madison/uncategorized/sweeps/8gjc48ic</a>"
      ],
      "text/plain": [
       "<IPython.core.display.HTML object>"
      ]
     },
     "metadata": {},
     "output_type": "display_data"
    },
    {
     "data": {
      "text/html": [
       " View run at <a href='https://wandb.ai/kauamritkar-university-of-wisconsin-madison/uncategorized/runs/inrjiphf' target=\"_blank\">https://wandb.ai/kauamritkar-university-of-wisconsin-madison/uncategorized/runs/inrjiphf</a>"
      ],
      "text/plain": [
       "<IPython.core.display.HTML object>"
      ]
     },
     "metadata": {},
     "output_type": "display_data"
    },
    {
     "name": "stderr",
     "output_type": "stream",
     "text": [
      "\u001b[34m\u001b[1mwandb\u001b[0m: \u001b[33mWARNING\u001b[0m Config item 'per_device_train_batch_size' was locked by 'sweep' (ignored update).\n",
      "\u001b[34m\u001b[1mwandb\u001b[0m: \u001b[33mWARNING\u001b[0m Config item 'learning_rate' was locked by 'sweep' (ignored update).\n",
      "/home/kaustubh/miniforge3/envs/lora_esm/lib/python3.13/site-packages/torch/nn/parallel/_functions.py:70: UserWarning: Was asked to gather along dimension 0, but all input tensors were scalars; will instead unsqueeze and return a vector.\n",
      "  warnings.warn(\n"
     ]
    },
    {
     "data": {
      "text/html": [
       "\n",
       "    <div>\n",
       "      \n",
       "      <progress value='15' max='15' style='width:300px; height:20px; vertical-align: middle;'></progress>\n",
       "      [15/15 00:02, Epoch 5/5]\n",
       "    </div>\n",
       "    <table border=\"1\" class=\"dataframe\">\n",
       "  <thead>\n",
       " <tr style=\"text-align: left;\">\n",
       "      <th>Epoch</th>\n",
       "      <th>Training Loss</th>\n",
       "      <th>Validation Loss</th>\n",
       "      <th>Accuracy</th>\n",
       "    </tr>\n",
       "  </thead>\n",
       "  <tbody>\n",
       "    <tr>\n",
       "      <td>1</td>\n",
       "      <td>No log</td>\n",
       "      <td>0.782543</td>\n",
       "      <td>0.833333</td>\n",
       "    </tr>\n",
       "    <tr>\n",
       "      <td>2</td>\n",
       "      <td>No log</td>\n",
       "      <td>0.779552</td>\n",
       "      <td>0.916667</td>\n",
       "    </tr>\n",
       "    <tr>\n",
       "      <td>3</td>\n",
       "      <td>No log</td>\n",
       "      <td>0.789500</td>\n",
       "      <td>0.916667</td>\n",
       "    </tr>\n",
       "    <tr>\n",
       "      <td>4</td>\n",
       "      <td>0.679000</td>\n",
       "      <td>0.793726</td>\n",
       "      <td>0.916667</td>\n",
       "    </tr>\n",
       "    <tr>\n",
       "      <td>5</td>\n",
       "      <td>0.679000</td>\n",
       "      <td>0.794335</td>\n",
       "      <td>0.916667</td>\n",
       "    </tr>\n",
       "  </tbody>\n",
       "</table><p>"
      ],
      "text/plain": [
       "<IPython.core.display.HTML object>"
      ]
     },
     "metadata": {},
     "output_type": "display_data"
    },
    {
     "name": "stdout",
     "output_type": "stream",
     "text": [
      "Predictions shape: (8,)\n",
      "Labels shape: (8,)\n"
     ]
    },
    {
     "name": "stderr",
     "output_type": "stream",
     "text": [
      "/home/kaustubh/miniforge3/envs/lora_esm/lib/python3.13/site-packages/peft/utils/save_and_load.py:246: UserWarning: Could not find a config file in /tmp/facebook/esm2_t6_8M_UR50D - will assume that the vocabulary was not modified.\n",
      "  warnings.warn(\n",
      "/home/kaustubh/miniforge3/envs/lora_esm/lib/python3.13/site-packages/torch/nn/parallel/_functions.py:70: UserWarning: Was asked to gather along dimension 0, but all input tensors were scalars; will instead unsqueeze and return a vector.\n",
      "  warnings.warn(\n"
     ]
    },
    {
     "name": "stdout",
     "output_type": "stream",
     "text": [
      "Predictions shape: (8,)\n",
      "Labels shape: (8,)\n"
     ]
    },
    {
     "name": "stderr",
     "output_type": "stream",
     "text": [
      "/home/kaustubh/miniforge3/envs/lora_esm/lib/python3.13/site-packages/peft/utils/save_and_load.py:246: UserWarning: Could not find a config file in /tmp/facebook/esm2_t6_8M_UR50D - will assume that the vocabulary was not modified.\n",
      "  warnings.warn(\n",
      "/home/kaustubh/miniforge3/envs/lora_esm/lib/python3.13/site-packages/torch/nn/parallel/_functions.py:70: UserWarning: Was asked to gather along dimension 0, but all input tensors were scalars; will instead unsqueeze and return a vector.\n",
      "  warnings.warn(\n"
     ]
    },
    {
     "name": "stdout",
     "output_type": "stream",
     "text": [
      "Predictions shape: (8,)\n",
      "Labels shape: (8,)\n"
     ]
    },
    {
     "name": "stderr",
     "output_type": "stream",
     "text": [
      "/home/kaustubh/miniforge3/envs/lora_esm/lib/python3.13/site-packages/peft/utils/save_and_load.py:246: UserWarning: Could not find a config file in /tmp/facebook/esm2_t6_8M_UR50D - will assume that the vocabulary was not modified.\n",
      "  warnings.warn(\n",
      "/home/kaustubh/miniforge3/envs/lora_esm/lib/python3.13/site-packages/torch/nn/parallel/_functions.py:70: UserWarning: Was asked to gather along dimension 0, but all input tensors were scalars; will instead unsqueeze and return a vector.\n",
      "  warnings.warn(\n"
     ]
    },
    {
     "name": "stdout",
     "output_type": "stream",
     "text": [
      "Predictions shape: (8,)\n",
      "Labels shape: (8,)\n"
     ]
    },
    {
     "name": "stderr",
     "output_type": "stream",
     "text": [
      "/home/kaustubh/miniforge3/envs/lora_esm/lib/python3.13/site-packages/peft/utils/save_and_load.py:246: UserWarning: Could not find a config file in /tmp/facebook/esm2_t6_8M_UR50D - will assume that the vocabulary was not modified.\n",
      "  warnings.warn(\n",
      "/home/kaustubh/miniforge3/envs/lora_esm/lib/python3.13/site-packages/torch/nn/parallel/_functions.py:70: UserWarning: Was asked to gather along dimension 0, but all input tensors were scalars; will instead unsqueeze and return a vector.\n",
      "  warnings.warn(\n",
      "/home/kaustubh/miniforge3/envs/lora_esm/lib/python3.13/site-packages/peft/utils/save_and_load.py:246: UserWarning: Could not find a config file in /tmp/facebook/esm2_t6_8M_UR50D - will assume that the vocabulary was not modified.\n",
      "  warnings.warn(\n",
      "/home/kaustubh/miniforge3/envs/lora_esm/lib/python3.13/site-packages/torch/nn/parallel/_functions.py:70: UserWarning: Was asked to gather along dimension 0, but all input tensors were scalars; will instead unsqueeze and return a vector.\n",
      "  warnings.warn(\n"
     ]
    },
    {
     "name": "stdout",
     "output_type": "stream",
     "text": [
      "Predictions shape: (8,)\n",
      "Labels shape: (8,)\n"
     ]
    },
    {
     "name": "stderr",
     "output_type": "stream",
     "text": [
      "/home/kaustubh/miniforge3/envs/lora_esm/lib/python3.13/site-packages/peft/utils/save_and_load.py:246: UserWarning: Could not find a config file in /tmp/facebook/esm2_t6_8M_UR50D - will assume that the vocabulary was not modified.\n",
      "  warnings.warn(\n"
     ]
    },
    {
     "data": {
      "text/html": [],
      "text/plain": [
       "<IPython.core.display.HTML object>"
      ]
     },
     "metadata": {},
     "output_type": "display_data"
    },
    {
     "data": {
      "text/html": [
       "<br>    <style><br>        .wandb-row {<br>            display: flex;<br>            flex-direction: row;<br>            flex-wrap: wrap;<br>            justify-content: flex-start;<br>            width: 100%;<br>        }<br>        .wandb-col {<br>            display: flex;<br>            flex-direction: column;<br>            flex-basis: 100%;<br>            flex: 1;<br>            padding: 10px;<br>        }<br>    </style><br><div class=\"wandb-row\"><div class=\"wandb-col\"><h3>Run history:</h3><br/><table class=\"wandb\"><tr><td>eval/accuracy</td><td>▁████</td></tr><tr><td>eval/loss</td><td>▂▁▆██</td></tr><tr><td>eval/runtime</td><td>▂▄▁▁█</td></tr><tr><td>eval/samples_per_second</td><td>▇▅██▁</td></tr><tr><td>eval/steps_per_second</td><td>▇▅██▁</td></tr><tr><td>train/epoch</td><td>▁▃▅▅▆██</td></tr><tr><td>train/global_step</td><td>▁▃▅▅▆██</td></tr><tr><td>train/grad_norm</td><td>▁</td></tr><tr><td>train/learning_rate</td><td>▁</td></tr><tr><td>train/loss</td><td>▁</td></tr></table><br/></div><div class=\"wandb-col\"><h3>Run summary:</h3><br/><table class=\"wandb\"><tr><td>eval/accuracy</td><td>0.91667</td></tr><tr><td>eval/loss</td><td>0.79434</td></tr><tr><td>eval/runtime</td><td>0.0527</td></tr><tr><td>eval/samples_per_second</td><td>151.926</td></tr><tr><td>eval/steps_per_second</td><td>18.991</td></tr><tr><td>total_flos</td><td>5194426490880.0</td></tr><tr><td>train/epoch</td><td>5</td></tr><tr><td>train/global_step</td><td>15</td></tr><tr><td>train/grad_norm</td><td>0.04031</td></tr><tr><td>train/learning_rate</td><td>0.00031</td></tr><tr><td>train/loss</td><td>0.679</td></tr><tr><td>train_loss</td><td>0.67707</td></tr><tr><td>train_runtime</td><td>5.0533</td></tr><tr><td>train_samples_per_second</td><td>43.536</td></tr><tr><td>train_steps_per_second</td><td>2.968</td></tr></table><br/></div></div>"
      ],
      "text/plain": [
       "<IPython.core.display.HTML object>"
      ]
     },
     "metadata": {},
     "output_type": "display_data"
    },
    {
     "data": {
      "text/html": [
       " View run <strong style=\"color:#cdcd00\">mild-sweep-4</strong> at: <a href='https://wandb.ai/kauamritkar-university-of-wisconsin-madison/uncategorized/runs/inrjiphf' target=\"_blank\">https://wandb.ai/kauamritkar-university-of-wisconsin-madison/uncategorized/runs/inrjiphf</a><br> View project at: <a href='https://wandb.ai/kauamritkar-university-of-wisconsin-madison/uncategorized' target=\"_blank\">https://wandb.ai/kauamritkar-university-of-wisconsin-madison/uncategorized</a><br>Synced 5 W&B file(s), 0 media file(s), 0 artifact file(s) and 0 other file(s)"
      ],
      "text/plain": [
       "<IPython.core.display.HTML object>"
      ]
     },
     "metadata": {},
     "output_type": "display_data"
    },
    {
     "data": {
      "text/html": [
       "Find logs at: <code>./wandb/run-20250311_220058-inrjiphf/logs</code>"
      ],
      "text/plain": [
       "<IPython.core.display.HTML object>"
      ]
     },
     "metadata": {},
     "output_type": "display_data"
    },
    {
     "name": "stderr",
     "output_type": "stream",
     "text": [
      "\u001b[34m\u001b[1mwandb\u001b[0m: Agent Starting Run: 4js9pmo4 with config:\n",
      "\u001b[34m\u001b[1mwandb\u001b[0m: \tlearning_rate: 0.00028073496457456056\n",
      "\u001b[34m\u001b[1mwandb\u001b[0m: \tper_device_train_batch_size: 8\n"
     ]
    },
    {
     "data": {
      "text/html": [
       "Tracking run with wandb version 0.19.7"
      ],
      "text/plain": [
       "<IPython.core.display.HTML object>"
      ]
     },
     "metadata": {},
     "output_type": "display_data"
    },
    {
     "data": {
      "text/html": [
       "Run data is saved locally in <code>/home/kaustubh/RuBisCO_ML/ESM_LoRA/analysis/wandb/run-20250311_220104-4js9pmo4</code>"
      ],
      "text/plain": [
       "<IPython.core.display.HTML object>"
      ]
     },
     "metadata": {},
     "output_type": "display_data"
    },
    {
     "data": {
      "text/html": [
       "Syncing run <strong><a href='https://wandb.ai/kauamritkar-university-of-wisconsin-madison/uncategorized/runs/4js9pmo4' target=\"_blank\">ethereal-sweep-5</a></strong> to <a href='https://wandb.ai/kauamritkar-university-of-wisconsin-madison/uncategorized' target=\"_blank\">Weights & Biases</a> (<a href='https://wandb.me/developer-guide' target=\"_blank\">docs</a>)<br>Sweep page: <a href='https://wandb.ai/kauamritkar-university-of-wisconsin-madison/uncategorized/sweeps/8gjc48ic' target=\"_blank\">https://wandb.ai/kauamritkar-university-of-wisconsin-madison/uncategorized/sweeps/8gjc48ic</a>"
      ],
      "text/plain": [
       "<IPython.core.display.HTML object>"
      ]
     },
     "metadata": {},
     "output_type": "display_data"
    },
    {
     "data": {
      "text/html": [
       " View project at <a href='https://wandb.ai/kauamritkar-university-of-wisconsin-madison/uncategorized' target=\"_blank\">https://wandb.ai/kauamritkar-university-of-wisconsin-madison/uncategorized</a>"
      ],
      "text/plain": [
       "<IPython.core.display.HTML object>"
      ]
     },
     "metadata": {},
     "output_type": "display_data"
    },
    {
     "data": {
      "text/html": [
       " View sweep at <a href='https://wandb.ai/kauamritkar-university-of-wisconsin-madison/uncategorized/sweeps/8gjc48ic' target=\"_blank\">https://wandb.ai/kauamritkar-university-of-wisconsin-madison/uncategorized/sweeps/8gjc48ic</a>"
      ],
      "text/plain": [
       "<IPython.core.display.HTML object>"
      ]
     },
     "metadata": {},
     "output_type": "display_data"
    },
    {
     "data": {
      "text/html": [
       " View run at <a href='https://wandb.ai/kauamritkar-university-of-wisconsin-madison/uncategorized/runs/4js9pmo4' target=\"_blank\">https://wandb.ai/kauamritkar-university-of-wisconsin-madison/uncategorized/runs/4js9pmo4</a>"
      ],
      "text/plain": [
       "<IPython.core.display.HTML object>"
      ]
     },
     "metadata": {},
     "output_type": "display_data"
    },
    {
     "name": "stderr",
     "output_type": "stream",
     "text": [
      "Trying to set _wandb in the hyperparameter search but there is no corresponding field in `TrainingArguments`.\n",
      "Trying to set assignments in the hyperparameter search but there is no corresponding field in `TrainingArguments`.\n",
      "Trying to set metric in the hyperparameter search but there is no corresponding field in `TrainingArguments`.\n",
      "Detected kernel version 5.4.0, which is below the recommended minimum of 5.5.0; this can cause the process to hang. It is recommended to upgrade the kernel to the minimum version or higher.\n",
      "Some weights of EsmModel were not initialized from the model checkpoint at facebook/esm2_t6_8M_UR50D and are newly initialized: ['esm.pooler.dense.bias', 'esm.pooler.dense.weight']\n",
      "You should probably TRAIN this model on a down-stream task to be able to use it for predictions and inference.\n"
     ]
    },
    {
     "data": {
      "text/html": [],
      "text/plain": [
       "<IPython.core.display.HTML object>"
      ]
     },
     "metadata": {},
     "output_type": "display_data"
    },
    {
     "data": {
      "text/html": [
       " View run <strong style=\"color:#cdcd00\">ethereal-sweep-5</strong> at: <a href='https://wandb.ai/kauamritkar-university-of-wisconsin-madison/uncategorized/runs/4js9pmo4' target=\"_blank\">https://wandb.ai/kauamritkar-university-of-wisconsin-madison/uncategorized/runs/4js9pmo4</a><br> View project at: <a href='https://wandb.ai/kauamritkar-university-of-wisconsin-madison/uncategorized' target=\"_blank\">https://wandb.ai/kauamritkar-university-of-wisconsin-madison/uncategorized</a><br>Synced 5 W&B file(s), 0 media file(s), 0 artifact file(s) and 0 other file(s)"
      ],
      "text/plain": [
       "<IPython.core.display.HTML object>"
      ]
     },
     "metadata": {},
     "output_type": "display_data"
    },
    {
     "data": {
      "text/html": [
       "Find logs at: <code>./wandb/run-20250311_220104-4js9pmo4/logs</code>"
      ],
      "text/plain": [
       "<IPython.core.display.HTML object>"
      ]
     },
     "metadata": {},
     "output_type": "display_data"
    },
    {
     "data": {
      "text/html": [
       "Ignoring project 'uncategorized' when running a sweep."
      ],
      "text/plain": [
       "<IPython.core.display.HTML object>"
      ]
     },
     "metadata": {},
     "output_type": "display_data"
    },
    {
     "data": {
      "text/html": [
       "Tracking run with wandb version 0.19.7"
      ],
      "text/plain": [
       "<IPython.core.display.HTML object>"
      ]
     },
     "metadata": {},
     "output_type": "display_data"
    },
    {
     "data": {
      "text/html": [
       "Run data is saved locally in <code>/home/kaustubh/RuBisCO_ML/ESM_LoRA/analysis/wandb/run-20250311_220108-4js9pmo4</code>"
      ],
      "text/plain": [
       "<IPython.core.display.HTML object>"
      ]
     },
     "metadata": {},
     "output_type": "display_data"
    },
    {
     "data": {
      "text/html": [
       "Syncing run <strong><a href='https://wandb.ai/kauamritkar-university-of-wisconsin-madison/uncategorized/runs/4js9pmo4' target=\"_blank\">ethereal-sweep-5</a></strong> to <a href='https://wandb.ai/kauamritkar-university-of-wisconsin-madison/uncategorized' target=\"_blank\">Weights & Biases</a> (<a href='https://wandb.me/developer-guide' target=\"_blank\">docs</a>)<br>Sweep page: <a href='https://wandb.ai/kauamritkar-university-of-wisconsin-madison/uncategorized/sweeps/8gjc48ic' target=\"_blank\">https://wandb.ai/kauamritkar-university-of-wisconsin-madison/uncategorized/sweeps/8gjc48ic</a>"
      ],
      "text/plain": [
       "<IPython.core.display.HTML object>"
      ]
     },
     "metadata": {},
     "output_type": "display_data"
    },
    {
     "data": {
      "text/html": [
       " View project at <a href='https://wandb.ai/kauamritkar-university-of-wisconsin-madison/uncategorized' target=\"_blank\">https://wandb.ai/kauamritkar-university-of-wisconsin-madison/uncategorized</a>"
      ],
      "text/plain": [
       "<IPython.core.display.HTML object>"
      ]
     },
     "metadata": {},
     "output_type": "display_data"
    },
    {
     "data": {
      "text/html": [
       " View sweep at <a href='https://wandb.ai/kauamritkar-university-of-wisconsin-madison/uncategorized/sweeps/8gjc48ic' target=\"_blank\">https://wandb.ai/kauamritkar-university-of-wisconsin-madison/uncategorized/sweeps/8gjc48ic</a>"
      ],
      "text/plain": [
       "<IPython.core.display.HTML object>"
      ]
     },
     "metadata": {},
     "output_type": "display_data"
    },
    {
     "data": {
      "text/html": [
       " View run at <a href='https://wandb.ai/kauamritkar-university-of-wisconsin-madison/uncategorized/runs/4js9pmo4' target=\"_blank\">https://wandb.ai/kauamritkar-university-of-wisconsin-madison/uncategorized/runs/4js9pmo4</a>"
      ],
      "text/plain": [
       "<IPython.core.display.HTML object>"
      ]
     },
     "metadata": {},
     "output_type": "display_data"
    },
    {
     "name": "stderr",
     "output_type": "stream",
     "text": [
      "\u001b[34m\u001b[1mwandb\u001b[0m: \u001b[33mWARNING\u001b[0m Config item 'per_device_train_batch_size' was locked by 'sweep' (ignored update).\n",
      "\u001b[34m\u001b[1mwandb\u001b[0m: \u001b[33mWARNING\u001b[0m Config item 'learning_rate' was locked by 'sweep' (ignored update).\n",
      "/home/kaustubh/miniforge3/envs/lora_esm/lib/python3.13/site-packages/torch/nn/parallel/_functions.py:70: UserWarning: Was asked to gather along dimension 0, but all input tensors were scalars; will instead unsqueeze and return a vector.\n",
      "  warnings.warn(\n"
     ]
    },
    {
     "data": {
      "text/html": [
       "\n",
       "    <div>\n",
       "      \n",
       "      <progress value='15' max='15' style='width:300px; height:20px; vertical-align: middle;'></progress>\n",
       "      [15/15 00:02, Epoch 5/5]\n",
       "    </div>\n",
       "    <table border=\"1\" class=\"dataframe\">\n",
       "  <thead>\n",
       " <tr style=\"text-align: left;\">\n",
       "      <th>Epoch</th>\n",
       "      <th>Training Loss</th>\n",
       "      <th>Validation Loss</th>\n",
       "      <th>Accuracy</th>\n",
       "    </tr>\n",
       "  </thead>\n",
       "  <tbody>\n",
       "    <tr>\n",
       "      <td>1</td>\n",
       "      <td>No log</td>\n",
       "      <td>0.787621</td>\n",
       "      <td>0.833333</td>\n",
       "    </tr>\n",
       "    <tr>\n",
       "      <td>2</td>\n",
       "      <td>No log</td>\n",
       "      <td>0.783768</td>\n",
       "      <td>0.833333</td>\n",
       "    </tr>\n",
       "    <tr>\n",
       "      <td>3</td>\n",
       "      <td>No log</td>\n",
       "      <td>0.786053</td>\n",
       "      <td>0.833333</td>\n",
       "    </tr>\n",
       "    <tr>\n",
       "      <td>4</td>\n",
       "      <td>0.677800</td>\n",
       "      <td>0.787121</td>\n",
       "      <td>0.833333</td>\n",
       "    </tr>\n",
       "    <tr>\n",
       "      <td>5</td>\n",
       "      <td>0.677800</td>\n",
       "      <td>0.787274</td>\n",
       "      <td>0.833333</td>\n",
       "    </tr>\n",
       "  </tbody>\n",
       "</table><p>"
      ],
      "text/plain": [
       "<IPython.core.display.HTML object>"
      ]
     },
     "metadata": {},
     "output_type": "display_data"
    },
    {
     "name": "stdout",
     "output_type": "stream",
     "text": [
      "Predictions shape: (8,)\n",
      "Labels shape: (8,)\n"
     ]
    },
    {
     "name": "stderr",
     "output_type": "stream",
     "text": [
      "/home/kaustubh/miniforge3/envs/lora_esm/lib/python3.13/site-packages/peft/utils/save_and_load.py:246: UserWarning: Could not find a config file in /tmp/facebook/esm2_t6_8M_UR50D - will assume that the vocabulary was not modified.\n",
      "  warnings.warn(\n",
      "/home/kaustubh/miniforge3/envs/lora_esm/lib/python3.13/site-packages/torch/nn/parallel/_functions.py:70: UserWarning: Was asked to gather along dimension 0, but all input tensors were scalars; will instead unsqueeze and return a vector.\n",
      "  warnings.warn(\n"
     ]
    },
    {
     "name": "stdout",
     "output_type": "stream",
     "text": [
      "Predictions shape: (8,)\n",
      "Labels shape: (8,)\n"
     ]
    },
    {
     "name": "stderr",
     "output_type": "stream",
     "text": [
      "/home/kaustubh/miniforge3/envs/lora_esm/lib/python3.13/site-packages/peft/utils/save_and_load.py:246: UserWarning: Could not find a config file in /tmp/facebook/esm2_t6_8M_UR50D - will assume that the vocabulary was not modified.\n",
      "  warnings.warn(\n",
      "/home/kaustubh/miniforge3/envs/lora_esm/lib/python3.13/site-packages/torch/nn/parallel/_functions.py:70: UserWarning: Was asked to gather along dimension 0, but all input tensors were scalars; will instead unsqueeze and return a vector.\n",
      "  warnings.warn(\n"
     ]
    },
    {
     "name": "stdout",
     "output_type": "stream",
     "text": [
      "Predictions shape: (8,)\n",
      "Labels shape: (8,)\n"
     ]
    },
    {
     "name": "stderr",
     "output_type": "stream",
     "text": [
      "/home/kaustubh/miniforge3/envs/lora_esm/lib/python3.13/site-packages/peft/utils/save_and_load.py:246: UserWarning: Could not find a config file in /tmp/facebook/esm2_t6_8M_UR50D - will assume that the vocabulary was not modified.\n",
      "  warnings.warn(\n",
      "/home/kaustubh/miniforge3/envs/lora_esm/lib/python3.13/site-packages/torch/nn/parallel/_functions.py:70: UserWarning: Was asked to gather along dimension 0, but all input tensors were scalars; will instead unsqueeze and return a vector.\n",
      "  warnings.warn(\n"
     ]
    },
    {
     "name": "stdout",
     "output_type": "stream",
     "text": [
      "Predictions shape: (8,)\n",
      "Labels shape: (8,)\n"
     ]
    },
    {
     "name": "stderr",
     "output_type": "stream",
     "text": [
      "/home/kaustubh/miniforge3/envs/lora_esm/lib/python3.13/site-packages/peft/utils/save_and_load.py:246: UserWarning: Could not find a config file in /tmp/facebook/esm2_t6_8M_UR50D - will assume that the vocabulary was not modified.\n",
      "  warnings.warn(\n",
      "/home/kaustubh/miniforge3/envs/lora_esm/lib/python3.13/site-packages/torch/nn/parallel/_functions.py:70: UserWarning: Was asked to gather along dimension 0, but all input tensors were scalars; will instead unsqueeze and return a vector.\n",
      "  warnings.warn(\n",
      "/home/kaustubh/miniforge3/envs/lora_esm/lib/python3.13/site-packages/peft/utils/save_and_load.py:246: UserWarning: Could not find a config file in /tmp/facebook/esm2_t6_8M_UR50D - will assume that the vocabulary was not modified.\n",
      "  warnings.warn(\n",
      "/home/kaustubh/miniforge3/envs/lora_esm/lib/python3.13/site-packages/torch/nn/parallel/_functions.py:70: UserWarning: Was asked to gather along dimension 0, but all input tensors were scalars; will instead unsqueeze and return a vector.\n",
      "  warnings.warn(\n"
     ]
    },
    {
     "name": "stdout",
     "output_type": "stream",
     "text": [
      "Predictions shape: (8,)\n",
      "Labels shape: (8,)\n"
     ]
    },
    {
     "name": "stderr",
     "output_type": "stream",
     "text": [
      "/home/kaustubh/miniforge3/envs/lora_esm/lib/python3.13/site-packages/peft/utils/save_and_load.py:246: UserWarning: Could not find a config file in /tmp/facebook/esm2_t6_8M_UR50D - will assume that the vocabulary was not modified.\n",
      "  warnings.warn(\n"
     ]
    },
    {
     "data": {
      "text/html": [],
      "text/plain": [
       "<IPython.core.display.HTML object>"
      ]
     },
     "metadata": {},
     "output_type": "display_data"
    },
    {
     "data": {
      "text/html": [
       "<br>    <style><br>        .wandb-row {<br>            display: flex;<br>            flex-direction: row;<br>            flex-wrap: wrap;<br>            justify-content: flex-start;<br>            width: 100%;<br>        }<br>        .wandb-col {<br>            display: flex;<br>            flex-direction: column;<br>            flex-basis: 100%;<br>            flex: 1;<br>            padding: 10px;<br>        }<br>    </style><br><div class=\"wandb-row\"><div class=\"wandb-col\"><h3>Run history:</h3><br/><table class=\"wandb\"><tr><td>eval/accuracy</td><td>▁▁▁▁▁</td></tr><tr><td>eval/loss</td><td>█▁▅▇▇</td></tr><tr><td>eval/runtime</td><td>▂▁▁▁█</td></tr><tr><td>eval/samples_per_second</td><td>▆███▁</td></tr><tr><td>eval/steps_per_second</td><td>▆███▁</td></tr><tr><td>train/epoch</td><td>▁▃▅▅▆██</td></tr><tr><td>train/global_step</td><td>▁▃▅▅▆██</td></tr><tr><td>train/grad_norm</td><td>▁</td></tr><tr><td>train/learning_rate</td><td>▁</td></tr><tr><td>train/loss</td><td>▁</td></tr></table><br/></div><div class=\"wandb-col\"><h3>Run summary:</h3><br/><table class=\"wandb\"><tr><td>eval/accuracy</td><td>0.83333</td></tr><tr><td>eval/loss</td><td>0.78727</td></tr><tr><td>eval/runtime</td><td>0.061</td></tr><tr><td>eval/samples_per_second</td><td>131.252</td></tr><tr><td>eval/steps_per_second</td><td>16.406</td></tr><tr><td>total_flos</td><td>5194426490880.0</td></tr><tr><td>train/epoch</td><td>5</td></tr><tr><td>train/global_step</td><td>15</td></tr><tr><td>train/grad_norm</td><td>0.03938</td></tr><tr><td>train/learning_rate</td><td>9e-05</td></tr><tr><td>train/loss</td><td>0.6778</td></tr><tr><td>train_loss</td><td>0.67649</td></tr><tr><td>train_runtime</td><td>5.0354</td></tr><tr><td>train_samples_per_second</td><td>43.69</td></tr><tr><td>train_steps_per_second</td><td>2.979</td></tr></table><br/></div></div>"
      ],
      "text/plain": [
       "<IPython.core.display.HTML object>"
      ]
     },
     "metadata": {},
     "output_type": "display_data"
    },
    {
     "data": {
      "text/html": [
       " View run <strong style=\"color:#cdcd00\">ethereal-sweep-5</strong> at: <a href='https://wandb.ai/kauamritkar-university-of-wisconsin-madison/uncategorized/runs/4js9pmo4' target=\"_blank\">https://wandb.ai/kauamritkar-university-of-wisconsin-madison/uncategorized/runs/4js9pmo4</a><br> View project at: <a href='https://wandb.ai/kauamritkar-university-of-wisconsin-madison/uncategorized' target=\"_blank\">https://wandb.ai/kauamritkar-university-of-wisconsin-madison/uncategorized</a><br>Synced 5 W&B file(s), 0 media file(s), 0 artifact file(s) and 0 other file(s)"
      ],
      "text/plain": [
       "<IPython.core.display.HTML object>"
      ]
     },
     "metadata": {},
     "output_type": "display_data"
    },
    {
     "data": {
      "text/html": [
       "Find logs at: <code>./wandb/run-20250311_220108-4js9pmo4/logs</code>"
      ],
      "text/plain": [
       "<IPython.core.display.HTML object>"
      ]
     },
     "metadata": {},
     "output_type": "display_data"
    },
    {
     "name": "stderr",
     "output_type": "stream",
     "text": [
      "\u001b[34m\u001b[1mwandb\u001b[0m: Agent Starting Run: d1fl1r9r with config:\n",
      "\u001b[34m\u001b[1mwandb\u001b[0m: \tlearning_rate: 0.0006918306125369617\n",
      "\u001b[34m\u001b[1mwandb\u001b[0m: \tper_device_train_batch_size: 2\n"
     ]
    },
    {
     "data": {
      "text/html": [
       "Tracking run with wandb version 0.19.7"
      ],
      "text/plain": [
       "<IPython.core.display.HTML object>"
      ]
     },
     "metadata": {},
     "output_type": "display_data"
    },
    {
     "data": {
      "text/html": [
       "Run data is saved locally in <code>/home/kaustubh/RuBisCO_ML/ESM_LoRA/analysis/wandb/run-20250311_220115-d1fl1r9r</code>"
      ],
      "text/plain": [
       "<IPython.core.display.HTML object>"
      ]
     },
     "metadata": {},
     "output_type": "display_data"
    },
    {
     "data": {
      "text/html": [
       "Syncing run <strong><a href='https://wandb.ai/kauamritkar-university-of-wisconsin-madison/uncategorized/runs/d1fl1r9r' target=\"_blank\">lilac-sweep-6</a></strong> to <a href='https://wandb.ai/kauamritkar-university-of-wisconsin-madison/uncategorized' target=\"_blank\">Weights & Biases</a> (<a href='https://wandb.me/developer-guide' target=\"_blank\">docs</a>)<br>Sweep page: <a href='https://wandb.ai/kauamritkar-university-of-wisconsin-madison/uncategorized/sweeps/8gjc48ic' target=\"_blank\">https://wandb.ai/kauamritkar-university-of-wisconsin-madison/uncategorized/sweeps/8gjc48ic</a>"
      ],
      "text/plain": [
       "<IPython.core.display.HTML object>"
      ]
     },
     "metadata": {},
     "output_type": "display_data"
    },
    {
     "data": {
      "text/html": [
       " View project at <a href='https://wandb.ai/kauamritkar-university-of-wisconsin-madison/uncategorized' target=\"_blank\">https://wandb.ai/kauamritkar-university-of-wisconsin-madison/uncategorized</a>"
      ],
      "text/plain": [
       "<IPython.core.display.HTML object>"
      ]
     },
     "metadata": {},
     "output_type": "display_data"
    },
    {
     "data": {
      "text/html": [
       " View sweep at <a href='https://wandb.ai/kauamritkar-university-of-wisconsin-madison/uncategorized/sweeps/8gjc48ic' target=\"_blank\">https://wandb.ai/kauamritkar-university-of-wisconsin-madison/uncategorized/sweeps/8gjc48ic</a>"
      ],
      "text/plain": [
       "<IPython.core.display.HTML object>"
      ]
     },
     "metadata": {},
     "output_type": "display_data"
    },
    {
     "data": {
      "text/html": [
       " View run at <a href='https://wandb.ai/kauamritkar-university-of-wisconsin-madison/uncategorized/runs/d1fl1r9r' target=\"_blank\">https://wandb.ai/kauamritkar-university-of-wisconsin-madison/uncategorized/runs/d1fl1r9r</a>"
      ],
      "text/plain": [
       "<IPython.core.display.HTML object>"
      ]
     },
     "metadata": {},
     "output_type": "display_data"
    },
    {
     "name": "stderr",
     "output_type": "stream",
     "text": [
      "Trying to set _wandb in the hyperparameter search but there is no corresponding field in `TrainingArguments`.\n",
      "Trying to set assignments in the hyperparameter search but there is no corresponding field in `TrainingArguments`.\n",
      "Trying to set metric in the hyperparameter search but there is no corresponding field in `TrainingArguments`.\n",
      "Detected kernel version 5.4.0, which is below the recommended minimum of 5.5.0; this can cause the process to hang. It is recommended to upgrade the kernel to the minimum version or higher.\n",
      "Some weights of EsmModel were not initialized from the model checkpoint at facebook/esm2_t6_8M_UR50D and are newly initialized: ['esm.pooler.dense.bias', 'esm.pooler.dense.weight']\n",
      "You should probably TRAIN this model on a down-stream task to be able to use it for predictions and inference.\n"
     ]
    },
    {
     "data": {
      "text/html": [],
      "text/plain": [
       "<IPython.core.display.HTML object>"
      ]
     },
     "metadata": {},
     "output_type": "display_data"
    },
    {
     "data": {
      "text/html": [
       " View run <strong style=\"color:#cdcd00\">lilac-sweep-6</strong> at: <a href='https://wandb.ai/kauamritkar-university-of-wisconsin-madison/uncategorized/runs/d1fl1r9r' target=\"_blank\">https://wandb.ai/kauamritkar-university-of-wisconsin-madison/uncategorized/runs/d1fl1r9r</a><br> View project at: <a href='https://wandb.ai/kauamritkar-university-of-wisconsin-madison/uncategorized' target=\"_blank\">https://wandb.ai/kauamritkar-university-of-wisconsin-madison/uncategorized</a><br>Synced 5 W&B file(s), 0 media file(s), 0 artifact file(s) and 0 other file(s)"
      ],
      "text/plain": [
       "<IPython.core.display.HTML object>"
      ]
     },
     "metadata": {},
     "output_type": "display_data"
    },
    {
     "data": {
      "text/html": [
       "Find logs at: <code>./wandb/run-20250311_220115-d1fl1r9r/logs</code>"
      ],
      "text/plain": [
       "<IPython.core.display.HTML object>"
      ]
     },
     "metadata": {},
     "output_type": "display_data"
    },
    {
     "data": {
      "text/html": [
       "Ignoring project 'uncategorized' when running a sweep."
      ],
      "text/plain": [
       "<IPython.core.display.HTML object>"
      ]
     },
     "metadata": {},
     "output_type": "display_data"
    },
    {
     "data": {
      "text/html": [
       "Tracking run with wandb version 0.19.7"
      ],
      "text/plain": [
       "<IPython.core.display.HTML object>"
      ]
     },
     "metadata": {},
     "output_type": "display_data"
    },
    {
     "data": {
      "text/html": [
       "Run data is saved locally in <code>/home/kaustubh/RuBisCO_ML/ESM_LoRA/analysis/wandb/run-20250311_220119-d1fl1r9r</code>"
      ],
      "text/plain": [
       "<IPython.core.display.HTML object>"
      ]
     },
     "metadata": {},
     "output_type": "display_data"
    },
    {
     "data": {
      "text/html": [
       "Syncing run <strong><a href='https://wandb.ai/kauamritkar-university-of-wisconsin-madison/uncategorized/runs/d1fl1r9r' target=\"_blank\">lilac-sweep-6</a></strong> to <a href='https://wandb.ai/kauamritkar-university-of-wisconsin-madison/uncategorized' target=\"_blank\">Weights & Biases</a> (<a href='https://wandb.me/developer-guide' target=\"_blank\">docs</a>)<br>Sweep page: <a href='https://wandb.ai/kauamritkar-university-of-wisconsin-madison/uncategorized/sweeps/8gjc48ic' target=\"_blank\">https://wandb.ai/kauamritkar-university-of-wisconsin-madison/uncategorized/sweeps/8gjc48ic</a>"
      ],
      "text/plain": [
       "<IPython.core.display.HTML object>"
      ]
     },
     "metadata": {},
     "output_type": "display_data"
    },
    {
     "data": {
      "text/html": [
       " View project at <a href='https://wandb.ai/kauamritkar-university-of-wisconsin-madison/uncategorized' target=\"_blank\">https://wandb.ai/kauamritkar-university-of-wisconsin-madison/uncategorized</a>"
      ],
      "text/plain": [
       "<IPython.core.display.HTML object>"
      ]
     },
     "metadata": {},
     "output_type": "display_data"
    },
    {
     "data": {
      "text/html": [
       " View sweep at <a href='https://wandb.ai/kauamritkar-university-of-wisconsin-madison/uncategorized/sweeps/8gjc48ic' target=\"_blank\">https://wandb.ai/kauamritkar-university-of-wisconsin-madison/uncategorized/sweeps/8gjc48ic</a>"
      ],
      "text/plain": [
       "<IPython.core.display.HTML object>"
      ]
     },
     "metadata": {},
     "output_type": "display_data"
    },
    {
     "data": {
      "text/html": [
       " View run at <a href='https://wandb.ai/kauamritkar-university-of-wisconsin-madison/uncategorized/runs/d1fl1r9r' target=\"_blank\">https://wandb.ai/kauamritkar-university-of-wisconsin-madison/uncategorized/runs/d1fl1r9r</a>"
      ],
      "text/plain": [
       "<IPython.core.display.HTML object>"
      ]
     },
     "metadata": {},
     "output_type": "display_data"
    },
    {
     "name": "stderr",
     "output_type": "stream",
     "text": [
      "\u001b[34m\u001b[1mwandb\u001b[0m: \u001b[33mWARNING\u001b[0m Config item 'per_device_train_batch_size' was locked by 'sweep' (ignored update).\n",
      "\u001b[34m\u001b[1mwandb\u001b[0m: \u001b[33mWARNING\u001b[0m Config item 'learning_rate' was locked by 'sweep' (ignored update).\n",
      "/home/kaustubh/miniforge3/envs/lora_esm/lib/python3.13/site-packages/torch/nn/parallel/_functions.py:70: UserWarning: Was asked to gather along dimension 0, but all input tensors were scalars; will instead unsqueeze and return a vector.\n",
      "  warnings.warn(\n"
     ]
    },
    {
     "data": {
      "text/html": [
       "\n",
       "    <div>\n",
       "      \n",
       "      <progress value='55' max='55' style='width:300px; height:20px; vertical-align: middle;'></progress>\n",
       "      [55/55 00:04, Epoch 5/5]\n",
       "    </div>\n",
       "    <table border=\"1\" class=\"dataframe\">\n",
       "  <thead>\n",
       " <tr style=\"text-align: left;\">\n",
       "      <th>Epoch</th>\n",
       "      <th>Training Loss</th>\n",
       "      <th>Validation Loss</th>\n",
       "      <th>Accuracy</th>\n",
       "    </tr>\n",
       "  </thead>\n",
       "  <tbody>\n",
       "    <tr>\n",
       "      <td>1</td>\n",
       "      <td>0.692400</td>\n",
       "      <td>0.798027</td>\n",
       "      <td>0.916667</td>\n",
       "    </tr>\n",
       "    <tr>\n",
       "      <td>2</td>\n",
       "      <td>0.666400</td>\n",
       "      <td>0.789660</td>\n",
       "      <td>1.000000</td>\n",
       "    </tr>\n",
       "    <tr>\n",
       "      <td>3</td>\n",
       "      <td>0.691600</td>\n",
       "      <td>0.800218</td>\n",
       "      <td>1.000000</td>\n",
       "    </tr>\n",
       "    <tr>\n",
       "      <td>4</td>\n",
       "      <td>0.672300</td>\n",
       "      <td>0.797954</td>\n",
       "      <td>1.000000</td>\n",
       "    </tr>\n",
       "    <tr>\n",
       "      <td>5</td>\n",
       "      <td>0.681800</td>\n",
       "      <td>0.795823</td>\n",
       "      <td>1.000000</td>\n",
       "    </tr>\n",
       "  </tbody>\n",
       "</table><p>"
      ],
      "text/plain": [
       "<IPython.core.display.HTML object>"
      ]
     },
     "metadata": {},
     "output_type": "display_data"
    },
    {
     "name": "stdout",
     "output_type": "stream",
     "text": [
      "Predictions shape: (8,)\n",
      "Labels shape: (8,)\n"
     ]
    },
    {
     "name": "stderr",
     "output_type": "stream",
     "text": [
      "/home/kaustubh/miniforge3/envs/lora_esm/lib/python3.13/site-packages/peft/utils/save_and_load.py:246: UserWarning: Could not find a config file in /tmp/facebook/esm2_t6_8M_UR50D - will assume that the vocabulary was not modified.\n",
      "  warnings.warn(\n",
      "/home/kaustubh/miniforge3/envs/lora_esm/lib/python3.13/site-packages/torch/nn/parallel/_functions.py:70: UserWarning: Was asked to gather along dimension 0, but all input tensors were scalars; will instead unsqueeze and return a vector.\n",
      "  warnings.warn(\n"
     ]
    },
    {
     "name": "stdout",
     "output_type": "stream",
     "text": [
      "Predictions shape: (8,)\n",
      "Labels shape: (8,)\n"
     ]
    },
    {
     "name": "stderr",
     "output_type": "stream",
     "text": [
      "/home/kaustubh/miniforge3/envs/lora_esm/lib/python3.13/site-packages/peft/utils/save_and_load.py:246: UserWarning: Could not find a config file in /tmp/facebook/esm2_t6_8M_UR50D - will assume that the vocabulary was not modified.\n",
      "  warnings.warn(\n",
      "/home/kaustubh/miniforge3/envs/lora_esm/lib/python3.13/site-packages/torch/nn/parallel/_functions.py:70: UserWarning: Was asked to gather along dimension 0, but all input tensors were scalars; will instead unsqueeze and return a vector.\n",
      "  warnings.warn(\n"
     ]
    },
    {
     "name": "stdout",
     "output_type": "stream",
     "text": [
      "Predictions shape: (8,)\n",
      "Labels shape: (8,)\n"
     ]
    },
    {
     "name": "stderr",
     "output_type": "stream",
     "text": [
      "/home/kaustubh/miniforge3/envs/lora_esm/lib/python3.13/site-packages/peft/utils/save_and_load.py:246: UserWarning: Could not find a config file in /tmp/facebook/esm2_t6_8M_UR50D - will assume that the vocabulary was not modified.\n",
      "  warnings.warn(\n",
      "/home/kaustubh/miniforge3/envs/lora_esm/lib/python3.13/site-packages/torch/nn/parallel/_functions.py:70: UserWarning: Was asked to gather along dimension 0, but all input tensors were scalars; will instead unsqueeze and return a vector.\n",
      "  warnings.warn(\n"
     ]
    },
    {
     "name": "stdout",
     "output_type": "stream",
     "text": [
      "Predictions shape: (8,)\n",
      "Labels shape: (8,)\n"
     ]
    },
    {
     "name": "stderr",
     "output_type": "stream",
     "text": [
      "/home/kaustubh/miniforge3/envs/lora_esm/lib/python3.13/site-packages/peft/utils/save_and_load.py:246: UserWarning: Could not find a config file in /tmp/facebook/esm2_t6_8M_UR50D - will assume that the vocabulary was not modified.\n",
      "  warnings.warn(\n",
      "/home/kaustubh/miniforge3/envs/lora_esm/lib/python3.13/site-packages/torch/nn/parallel/_functions.py:70: UserWarning: Was asked to gather along dimension 0, but all input tensors were scalars; will instead unsqueeze and return a vector.\n",
      "  warnings.warn(\n",
      "/home/kaustubh/miniforge3/envs/lora_esm/lib/python3.13/site-packages/peft/utils/save_and_load.py:246: UserWarning: Could not find a config file in /tmp/facebook/esm2_t6_8M_UR50D - will assume that the vocabulary was not modified.\n",
      "  warnings.warn(\n",
      "/home/kaustubh/miniforge3/envs/lora_esm/lib/python3.13/site-packages/torch/nn/parallel/_functions.py:70: UserWarning: Was asked to gather along dimension 0, but all input tensors were scalars; will instead unsqueeze and return a vector.\n",
      "  warnings.warn(\n"
     ]
    },
    {
     "name": "stdout",
     "output_type": "stream",
     "text": [
      "Predictions shape: (8,)\n",
      "Labels shape: (8,)\n"
     ]
    },
    {
     "name": "stderr",
     "output_type": "stream",
     "text": [
      "/home/kaustubh/miniforge3/envs/lora_esm/lib/python3.13/site-packages/peft/utils/save_and_load.py:246: UserWarning: Could not find a config file in /tmp/facebook/esm2_t6_8M_UR50D - will assume that the vocabulary was not modified.\n",
      "  warnings.warn(\n"
     ]
    },
    {
     "data": {
      "text/html": [],
      "text/plain": [
       "<IPython.core.display.HTML object>"
      ]
     },
     "metadata": {},
     "output_type": "display_data"
    },
    {
     "data": {
      "text/html": [
       "<br>    <style><br>        .wandb-row {<br>            display: flex;<br>            flex-direction: row;<br>            flex-wrap: wrap;<br>            justify-content: flex-start;<br>            width: 100%;<br>        }<br>        .wandb-col {<br>            display: flex;<br>            flex-direction: column;<br>            flex-basis: 100%;<br>            flex: 1;<br>            padding: 10px;<br>        }<br>    </style><br><div class=\"wandb-row\"><div class=\"wandb-col\"><h3>Run history:</h3><br/><table class=\"wandb\"><tr><td>eval/accuracy</td><td>▁████</td></tr><tr><td>eval/loss</td><td>▇▁█▆▅</td></tr><tr><td>eval/runtime</td><td>▂▁▁▂█</td></tr><tr><td>eval/samples_per_second</td><td>▆██▇▁</td></tr><tr><td>eval/steps_per_second</td><td>▆██▇▁</td></tr><tr><td>train/epoch</td><td>▁▁▃▃▄▅▆▆▇██</td></tr><tr><td>train/global_step</td><td>▁▁▃▃▄▅▆▆▇██</td></tr><tr><td>train/grad_norm</td><td>▇▃▁▁█</td></tr><tr><td>train/learning_rate</td><td>█▆▄▃▁</td></tr><tr><td>train/loss</td><td>█▁█▃▅</td></tr></table><br/></div><div class=\"wandb-col\"><h3>Run summary:</h3><br/><table class=\"wandb\"><tr><td>eval/accuracy</td><td>1</td></tr><tr><td>eval/loss</td><td>0.79582</td></tr><tr><td>eval/runtime</td><td>0.0573</td></tr><tr><td>eval/samples_per_second</td><td>139.7</td></tr><tr><td>eval/steps_per_second</td><td>17.462</td></tr><tr><td>total_flos</td><td>5194426490880.0</td></tr><tr><td>train/epoch</td><td>5</td></tr><tr><td>train/global_step</td><td>55</td></tr><tr><td>train/grad_norm</td><td>0.60637</td></tr><tr><td>train/learning_rate</td><td>6e-05</td></tr><tr><td>train/loss</td><td>0.6818</td></tr><tr><td>train_loss</td><td>0.6784</td></tr><tr><td>train_runtime</td><td>7.6479</td></tr><tr><td>train_samples_per_second</td><td>28.766</td></tr><tr><td>train_steps_per_second</td><td>7.192</td></tr></table><br/></div></div>"
      ],
      "text/plain": [
       "<IPython.core.display.HTML object>"
      ]
     },
     "metadata": {},
     "output_type": "display_data"
    },
    {
     "data": {
      "text/html": [
       " View run <strong style=\"color:#cdcd00\">lilac-sweep-6</strong> at: <a href='https://wandb.ai/kauamritkar-university-of-wisconsin-madison/uncategorized/runs/d1fl1r9r' target=\"_blank\">https://wandb.ai/kauamritkar-university-of-wisconsin-madison/uncategorized/runs/d1fl1r9r</a><br> View project at: <a href='https://wandb.ai/kauamritkar-university-of-wisconsin-madison/uncategorized' target=\"_blank\">https://wandb.ai/kauamritkar-university-of-wisconsin-madison/uncategorized</a><br>Synced 5 W&B file(s), 0 media file(s), 0 artifact file(s) and 0 other file(s)"
      ],
      "text/plain": [
       "<IPython.core.display.HTML object>"
      ]
     },
     "metadata": {},
     "output_type": "display_data"
    },
    {
     "data": {
      "text/html": [
       "Find logs at: <code>./wandb/run-20250311_220119-d1fl1r9r/logs</code>"
      ],
      "text/plain": [
       "<IPython.core.display.HTML object>"
      ]
     },
     "metadata": {},
     "output_type": "display_data"
    },
    {
     "name": "stderr",
     "output_type": "stream",
     "text": [
      "\u001b[34m\u001b[1mwandb\u001b[0m: Agent Starting Run: 00qat0ah with config:\n",
      "\u001b[34m\u001b[1mwandb\u001b[0m: \tlearning_rate: 0.0005578079064762261\n",
      "\u001b[34m\u001b[1mwandb\u001b[0m: \tper_device_train_batch_size: 8\n"
     ]
    },
    {
     "data": {
      "text/html": [
       "Tracking run with wandb version 0.19.7"
      ],
      "text/plain": [
       "<IPython.core.display.HTML object>"
      ]
     },
     "metadata": {},
     "output_type": "display_data"
    },
    {
     "data": {
      "text/html": [
       "Run data is saved locally in <code>/home/kaustubh/RuBisCO_ML/ESM_LoRA/analysis/wandb/run-20250311_220131-00qat0ah</code>"
      ],
      "text/plain": [
       "<IPython.core.display.HTML object>"
      ]
     },
     "metadata": {},
     "output_type": "display_data"
    },
    {
     "data": {
      "text/html": [
       "Syncing run <strong><a href='https://wandb.ai/kauamritkar-university-of-wisconsin-madison/uncategorized/runs/00qat0ah' target=\"_blank\">daily-sweep-7</a></strong> to <a href='https://wandb.ai/kauamritkar-university-of-wisconsin-madison/uncategorized' target=\"_blank\">Weights & Biases</a> (<a href='https://wandb.me/developer-guide' target=\"_blank\">docs</a>)<br>Sweep page: <a href='https://wandb.ai/kauamritkar-university-of-wisconsin-madison/uncategorized/sweeps/8gjc48ic' target=\"_blank\">https://wandb.ai/kauamritkar-university-of-wisconsin-madison/uncategorized/sweeps/8gjc48ic</a>"
      ],
      "text/plain": [
       "<IPython.core.display.HTML object>"
      ]
     },
     "metadata": {},
     "output_type": "display_data"
    },
    {
     "data": {
      "text/html": [
       " View project at <a href='https://wandb.ai/kauamritkar-university-of-wisconsin-madison/uncategorized' target=\"_blank\">https://wandb.ai/kauamritkar-university-of-wisconsin-madison/uncategorized</a>"
      ],
      "text/plain": [
       "<IPython.core.display.HTML object>"
      ]
     },
     "metadata": {},
     "output_type": "display_data"
    },
    {
     "data": {
      "text/html": [
       " View sweep at <a href='https://wandb.ai/kauamritkar-university-of-wisconsin-madison/uncategorized/sweeps/8gjc48ic' target=\"_blank\">https://wandb.ai/kauamritkar-university-of-wisconsin-madison/uncategorized/sweeps/8gjc48ic</a>"
      ],
      "text/plain": [
       "<IPython.core.display.HTML object>"
      ]
     },
     "metadata": {},
     "output_type": "display_data"
    },
    {
     "data": {
      "text/html": [
       " View run at <a href='https://wandb.ai/kauamritkar-university-of-wisconsin-madison/uncategorized/runs/00qat0ah' target=\"_blank\">https://wandb.ai/kauamritkar-university-of-wisconsin-madison/uncategorized/runs/00qat0ah</a>"
      ],
      "text/plain": [
       "<IPython.core.display.HTML object>"
      ]
     },
     "metadata": {},
     "output_type": "display_data"
    },
    {
     "name": "stderr",
     "output_type": "stream",
     "text": [
      "Trying to set _wandb in the hyperparameter search but there is no corresponding field in `TrainingArguments`.\n",
      "Trying to set assignments in the hyperparameter search but there is no corresponding field in `TrainingArguments`.\n",
      "Trying to set metric in the hyperparameter search but there is no corresponding field in `TrainingArguments`.\n",
      "Detected kernel version 5.4.0, which is below the recommended minimum of 5.5.0; this can cause the process to hang. It is recommended to upgrade the kernel to the minimum version or higher.\n",
      "Some weights of EsmModel were not initialized from the model checkpoint at facebook/esm2_t6_8M_UR50D and are newly initialized: ['esm.pooler.dense.bias', 'esm.pooler.dense.weight']\n",
      "You should probably TRAIN this model on a down-stream task to be able to use it for predictions and inference.\n"
     ]
    },
    {
     "data": {
      "text/html": [],
      "text/plain": [
       "<IPython.core.display.HTML object>"
      ]
     },
     "metadata": {},
     "output_type": "display_data"
    },
    {
     "data": {
      "text/html": [
       " View run <strong style=\"color:#cdcd00\">daily-sweep-7</strong> at: <a href='https://wandb.ai/kauamritkar-university-of-wisconsin-madison/uncategorized/runs/00qat0ah' target=\"_blank\">https://wandb.ai/kauamritkar-university-of-wisconsin-madison/uncategorized/runs/00qat0ah</a><br> View project at: <a href='https://wandb.ai/kauamritkar-university-of-wisconsin-madison/uncategorized' target=\"_blank\">https://wandb.ai/kauamritkar-university-of-wisconsin-madison/uncategorized</a><br>Synced 5 W&B file(s), 0 media file(s), 0 artifact file(s) and 0 other file(s)"
      ],
      "text/plain": [
       "<IPython.core.display.HTML object>"
      ]
     },
     "metadata": {},
     "output_type": "display_data"
    },
    {
     "data": {
      "text/html": [
       "Find logs at: <code>./wandb/run-20250311_220131-00qat0ah/logs</code>"
      ],
      "text/plain": [
       "<IPython.core.display.HTML object>"
      ]
     },
     "metadata": {},
     "output_type": "display_data"
    },
    {
     "data": {
      "text/html": [
       "Ignoring project 'uncategorized' when running a sweep."
      ],
      "text/plain": [
       "<IPython.core.display.HTML object>"
      ]
     },
     "metadata": {},
     "output_type": "display_data"
    },
    {
     "data": {
      "text/html": [
       "Tracking run with wandb version 0.19.7"
      ],
      "text/plain": [
       "<IPython.core.display.HTML object>"
      ]
     },
     "metadata": {},
     "output_type": "display_data"
    },
    {
     "data": {
      "text/html": [
       "Run data is saved locally in <code>/home/kaustubh/RuBisCO_ML/ESM_LoRA/analysis/wandb/run-20250311_220135-00qat0ah</code>"
      ],
      "text/plain": [
       "<IPython.core.display.HTML object>"
      ]
     },
     "metadata": {},
     "output_type": "display_data"
    },
    {
     "data": {
      "text/html": [
       "Syncing run <strong><a href='https://wandb.ai/kauamritkar-university-of-wisconsin-madison/uncategorized/runs/00qat0ah' target=\"_blank\">daily-sweep-7</a></strong> to <a href='https://wandb.ai/kauamritkar-university-of-wisconsin-madison/uncategorized' target=\"_blank\">Weights & Biases</a> (<a href='https://wandb.me/developer-guide' target=\"_blank\">docs</a>)<br>Sweep page: <a href='https://wandb.ai/kauamritkar-university-of-wisconsin-madison/uncategorized/sweeps/8gjc48ic' target=\"_blank\">https://wandb.ai/kauamritkar-university-of-wisconsin-madison/uncategorized/sweeps/8gjc48ic</a>"
      ],
      "text/plain": [
       "<IPython.core.display.HTML object>"
      ]
     },
     "metadata": {},
     "output_type": "display_data"
    },
    {
     "data": {
      "text/html": [
       " View project at <a href='https://wandb.ai/kauamritkar-university-of-wisconsin-madison/uncategorized' target=\"_blank\">https://wandb.ai/kauamritkar-university-of-wisconsin-madison/uncategorized</a>"
      ],
      "text/plain": [
       "<IPython.core.display.HTML object>"
      ]
     },
     "metadata": {},
     "output_type": "display_data"
    },
    {
     "data": {
      "text/html": [
       " View sweep at <a href='https://wandb.ai/kauamritkar-university-of-wisconsin-madison/uncategorized/sweeps/8gjc48ic' target=\"_blank\">https://wandb.ai/kauamritkar-university-of-wisconsin-madison/uncategorized/sweeps/8gjc48ic</a>"
      ],
      "text/plain": [
       "<IPython.core.display.HTML object>"
      ]
     },
     "metadata": {},
     "output_type": "display_data"
    },
    {
     "data": {
      "text/html": [
       " View run at <a href='https://wandb.ai/kauamritkar-university-of-wisconsin-madison/uncategorized/runs/00qat0ah' target=\"_blank\">https://wandb.ai/kauamritkar-university-of-wisconsin-madison/uncategorized/runs/00qat0ah</a>"
      ],
      "text/plain": [
       "<IPython.core.display.HTML object>"
      ]
     },
     "metadata": {},
     "output_type": "display_data"
    },
    {
     "name": "stderr",
     "output_type": "stream",
     "text": [
      "\u001b[34m\u001b[1mwandb\u001b[0m: \u001b[33mWARNING\u001b[0m Config item 'per_device_train_batch_size' was locked by 'sweep' (ignored update).\n",
      "\u001b[34m\u001b[1mwandb\u001b[0m: \u001b[33mWARNING\u001b[0m Config item 'learning_rate' was locked by 'sweep' (ignored update).\n",
      "/home/kaustubh/miniforge3/envs/lora_esm/lib/python3.13/site-packages/torch/nn/parallel/_functions.py:70: UserWarning: Was asked to gather along dimension 0, but all input tensors were scalars; will instead unsqueeze and return a vector.\n",
      "  warnings.warn(\n"
     ]
    },
    {
     "data": {
      "text/html": [
       "\n",
       "    <div>\n",
       "      \n",
       "      <progress value='15' max='15' style='width:300px; height:20px; vertical-align: middle;'></progress>\n",
       "      [15/15 00:01, Epoch 5/5]\n",
       "    </div>\n",
       "    <table border=\"1\" class=\"dataframe\">\n",
       "  <thead>\n",
       " <tr style=\"text-align: left;\">\n",
       "      <th>Epoch</th>\n",
       "      <th>Training Loss</th>\n",
       "      <th>Validation Loss</th>\n",
       "      <th>Accuracy</th>\n",
       "    </tr>\n",
       "  </thead>\n",
       "  <tbody>\n",
       "    <tr>\n",
       "      <td>1</td>\n",
       "      <td>No log</td>\n",
       "      <td>0.784426</td>\n",
       "      <td>0.833333</td>\n",
       "    </tr>\n",
       "    <tr>\n",
       "      <td>2</td>\n",
       "      <td>No log</td>\n",
       "      <td>0.779763</td>\n",
       "      <td>0.916667</td>\n",
       "    </tr>\n",
       "    <tr>\n",
       "      <td>3</td>\n",
       "      <td>No log</td>\n",
       "      <td>0.785468</td>\n",
       "      <td>0.916667</td>\n",
       "    </tr>\n",
       "    <tr>\n",
       "      <td>4</td>\n",
       "      <td>0.678300</td>\n",
       "      <td>0.788135</td>\n",
       "      <td>0.916667</td>\n",
       "    </tr>\n",
       "    <tr>\n",
       "      <td>5</td>\n",
       "      <td>0.678300</td>\n",
       "      <td>0.788610</td>\n",
       "      <td>0.916667</td>\n",
       "    </tr>\n",
       "  </tbody>\n",
       "</table><p>"
      ],
      "text/plain": [
       "<IPython.core.display.HTML object>"
      ]
     },
     "metadata": {},
     "output_type": "display_data"
    },
    {
     "name": "stdout",
     "output_type": "stream",
     "text": [
      "Predictions shape: (8,)\n",
      "Labels shape: (8,)\n"
     ]
    },
    {
     "name": "stderr",
     "output_type": "stream",
     "text": [
      "/home/kaustubh/miniforge3/envs/lora_esm/lib/python3.13/site-packages/peft/utils/save_and_load.py:246: UserWarning: Could not find a config file in /tmp/facebook/esm2_t6_8M_UR50D - will assume that the vocabulary was not modified.\n",
      "  warnings.warn(\n",
      "/home/kaustubh/miniforge3/envs/lora_esm/lib/python3.13/site-packages/torch/nn/parallel/_functions.py:70: UserWarning: Was asked to gather along dimension 0, but all input tensors were scalars; will instead unsqueeze and return a vector.\n",
      "  warnings.warn(\n"
     ]
    },
    {
     "name": "stdout",
     "output_type": "stream",
     "text": [
      "Predictions shape: (8,)\n",
      "Labels shape: (8,)\n"
     ]
    },
    {
     "name": "stderr",
     "output_type": "stream",
     "text": [
      "/home/kaustubh/miniforge3/envs/lora_esm/lib/python3.13/site-packages/peft/utils/save_and_load.py:246: UserWarning: Could not find a config file in /tmp/facebook/esm2_t6_8M_UR50D - will assume that the vocabulary was not modified.\n",
      "  warnings.warn(\n",
      "/home/kaustubh/miniforge3/envs/lora_esm/lib/python3.13/site-packages/torch/nn/parallel/_functions.py:70: UserWarning: Was asked to gather along dimension 0, but all input tensors were scalars; will instead unsqueeze and return a vector.\n",
      "  warnings.warn(\n"
     ]
    },
    {
     "name": "stdout",
     "output_type": "stream",
     "text": [
      "Predictions shape: (8,)\n",
      "Labels shape: (8,)\n"
     ]
    },
    {
     "name": "stderr",
     "output_type": "stream",
     "text": [
      "/home/kaustubh/miniforge3/envs/lora_esm/lib/python3.13/site-packages/peft/utils/save_and_load.py:246: UserWarning: Could not find a config file in /tmp/facebook/esm2_t6_8M_UR50D - will assume that the vocabulary was not modified.\n",
      "  warnings.warn(\n",
      "/home/kaustubh/miniforge3/envs/lora_esm/lib/python3.13/site-packages/torch/nn/parallel/_functions.py:70: UserWarning: Was asked to gather along dimension 0, but all input tensors were scalars; will instead unsqueeze and return a vector.\n",
      "  warnings.warn(\n"
     ]
    },
    {
     "name": "stdout",
     "output_type": "stream",
     "text": [
      "Predictions shape: (8,)\n",
      "Labels shape: (8,)\n"
     ]
    },
    {
     "name": "stderr",
     "output_type": "stream",
     "text": [
      "/home/kaustubh/miniforge3/envs/lora_esm/lib/python3.13/site-packages/peft/utils/save_and_load.py:246: UserWarning: Could not find a config file in /tmp/facebook/esm2_t6_8M_UR50D - will assume that the vocabulary was not modified.\n",
      "  warnings.warn(\n",
      "/home/kaustubh/miniforge3/envs/lora_esm/lib/python3.13/site-packages/torch/nn/parallel/_functions.py:70: UserWarning: Was asked to gather along dimension 0, but all input tensors were scalars; will instead unsqueeze and return a vector.\n",
      "  warnings.warn(\n",
      "/home/kaustubh/miniforge3/envs/lora_esm/lib/python3.13/site-packages/peft/utils/save_and_load.py:246: UserWarning: Could not find a config file in /tmp/facebook/esm2_t6_8M_UR50D - will assume that the vocabulary was not modified.\n",
      "  warnings.warn(\n",
      "/home/kaustubh/miniforge3/envs/lora_esm/lib/python3.13/site-packages/torch/nn/parallel/_functions.py:70: UserWarning: Was asked to gather along dimension 0, but all input tensors were scalars; will instead unsqueeze and return a vector.\n",
      "  warnings.warn(\n"
     ]
    },
    {
     "name": "stdout",
     "output_type": "stream",
     "text": [
      "Predictions shape: (8,)\n",
      "Labels shape: (8,)\n"
     ]
    },
    {
     "name": "stderr",
     "output_type": "stream",
     "text": [
      "/home/kaustubh/miniforge3/envs/lora_esm/lib/python3.13/site-packages/peft/utils/save_and_load.py:246: UserWarning: Could not find a config file in /tmp/facebook/esm2_t6_8M_UR50D - will assume that the vocabulary was not modified.\n",
      "  warnings.warn(\n"
     ]
    },
    {
     "data": {
      "text/html": [],
      "text/plain": [
       "<IPython.core.display.HTML object>"
      ]
     },
     "metadata": {},
     "output_type": "display_data"
    },
    {
     "data": {
      "text/html": [
       "<br>    <style><br>        .wandb-row {<br>            display: flex;<br>            flex-direction: row;<br>            flex-wrap: wrap;<br>            justify-content: flex-start;<br>            width: 100%;<br>        }<br>        .wandb-col {<br>            display: flex;<br>            flex-direction: column;<br>            flex-basis: 100%;<br>            flex: 1;<br>            padding: 10px;<br>        }<br>    </style><br><div class=\"wandb-row\"><div class=\"wandb-col\"><h3>Run history:</h3><br/><table class=\"wandb\"><tr><td>eval/accuracy</td><td>▁████</td></tr><tr><td>eval/loss</td><td>▅▁▆██</td></tr><tr><td>eval/runtime</td><td>▂▁▁▄█</td></tr><tr><td>eval/samples_per_second</td><td>▇██▄▁</td></tr><tr><td>eval/steps_per_second</td><td>▇██▄▁</td></tr><tr><td>train/epoch</td><td>▁▃▅▅▆██</td></tr><tr><td>train/global_step</td><td>▁▃▅▅▆██</td></tr><tr><td>train/grad_norm</td><td>▁</td></tr><tr><td>train/learning_rate</td><td>▁</td></tr><tr><td>train/loss</td><td>▁</td></tr></table><br/></div><div class=\"wandb-col\"><h3>Run summary:</h3><br/><table class=\"wandb\"><tr><td>eval/accuracy</td><td>0.91667</td></tr><tr><td>eval/loss</td><td>0.78861</td></tr><tr><td>eval/runtime</td><td>0.05</td></tr><tr><td>eval/samples_per_second</td><td>159.911</td></tr><tr><td>eval/steps_per_second</td><td>19.989</td></tr><tr><td>total_flos</td><td>5194426490880.0</td></tr><tr><td>train/epoch</td><td>5</td></tr><tr><td>train/global_step</td><td>15</td></tr><tr><td>train/grad_norm</td><td>0.03782</td></tr><tr><td>train/learning_rate</td><td>0.00019</td></tr><tr><td>train/loss</td><td>0.6783</td></tr><tr><td>train_loss</td><td>0.67672</td></tr><tr><td>train_runtime</td><td>5.0151</td></tr><tr><td>train_samples_per_second</td><td>43.868</td></tr><tr><td>train_steps_per_second</td><td>2.991</td></tr></table><br/></div></div>"
      ],
      "text/plain": [
       "<IPython.core.display.HTML object>"
      ]
     },
     "metadata": {},
     "output_type": "display_data"
    },
    {
     "data": {
      "text/html": [
       " View run <strong style=\"color:#cdcd00\">daily-sweep-7</strong> at: <a href='https://wandb.ai/kauamritkar-university-of-wisconsin-madison/uncategorized/runs/00qat0ah' target=\"_blank\">https://wandb.ai/kauamritkar-university-of-wisconsin-madison/uncategorized/runs/00qat0ah</a><br> View project at: <a href='https://wandb.ai/kauamritkar-university-of-wisconsin-madison/uncategorized' target=\"_blank\">https://wandb.ai/kauamritkar-university-of-wisconsin-madison/uncategorized</a><br>Synced 5 W&B file(s), 0 media file(s), 0 artifact file(s) and 0 other file(s)"
      ],
      "text/plain": [
       "<IPython.core.display.HTML object>"
      ]
     },
     "metadata": {},
     "output_type": "display_data"
    },
    {
     "data": {
      "text/html": [
       "Find logs at: <code>./wandb/run-20250311_220135-00qat0ah/logs</code>"
      ],
      "text/plain": [
       "<IPython.core.display.HTML object>"
      ]
     },
     "metadata": {},
     "output_type": "display_data"
    },
    {
     "name": "stderr",
     "output_type": "stream",
     "text": [
      "\u001b[34m\u001b[1mwandb\u001b[0m: Agent Starting Run: h55zznho with config:\n",
      "\u001b[34m\u001b[1mwandb\u001b[0m: \tlearning_rate: 0.00022171998850153583\n",
      "\u001b[34m\u001b[1mwandb\u001b[0m: \tper_device_train_batch_size: 4\n"
     ]
    },
    {
     "data": {
      "text/html": [
       "Tracking run with wandb version 0.19.7"
      ],
      "text/plain": [
       "<IPython.core.display.HTML object>"
      ]
     },
     "metadata": {},
     "output_type": "display_data"
    },
    {
     "data": {
      "text/html": [
       "Run data is saved locally in <code>/home/kaustubh/RuBisCO_ML/ESM_LoRA/analysis/wandb/run-20250311_220142-h55zznho</code>"
      ],
      "text/plain": [
       "<IPython.core.display.HTML object>"
      ]
     },
     "metadata": {},
     "output_type": "display_data"
    },
    {
     "data": {
      "text/html": [
       "Syncing run <strong><a href='https://wandb.ai/kauamritkar-university-of-wisconsin-madison/uncategorized/runs/h55zznho' target=\"_blank\">flowing-sweep-8</a></strong> to <a href='https://wandb.ai/kauamritkar-university-of-wisconsin-madison/uncategorized' target=\"_blank\">Weights & Biases</a> (<a href='https://wandb.me/developer-guide' target=\"_blank\">docs</a>)<br>Sweep page: <a href='https://wandb.ai/kauamritkar-university-of-wisconsin-madison/uncategorized/sweeps/8gjc48ic' target=\"_blank\">https://wandb.ai/kauamritkar-university-of-wisconsin-madison/uncategorized/sweeps/8gjc48ic</a>"
      ],
      "text/plain": [
       "<IPython.core.display.HTML object>"
      ]
     },
     "metadata": {},
     "output_type": "display_data"
    },
    {
     "data": {
      "text/html": [
       " View project at <a href='https://wandb.ai/kauamritkar-university-of-wisconsin-madison/uncategorized' target=\"_blank\">https://wandb.ai/kauamritkar-university-of-wisconsin-madison/uncategorized</a>"
      ],
      "text/plain": [
       "<IPython.core.display.HTML object>"
      ]
     },
     "metadata": {},
     "output_type": "display_data"
    },
    {
     "data": {
      "text/html": [
       " View sweep at <a href='https://wandb.ai/kauamritkar-university-of-wisconsin-madison/uncategorized/sweeps/8gjc48ic' target=\"_blank\">https://wandb.ai/kauamritkar-university-of-wisconsin-madison/uncategorized/sweeps/8gjc48ic</a>"
      ],
      "text/plain": [
       "<IPython.core.display.HTML object>"
      ]
     },
     "metadata": {},
     "output_type": "display_data"
    },
    {
     "data": {
      "text/html": [
       " View run at <a href='https://wandb.ai/kauamritkar-university-of-wisconsin-madison/uncategorized/runs/h55zznho' target=\"_blank\">https://wandb.ai/kauamritkar-university-of-wisconsin-madison/uncategorized/runs/h55zznho</a>"
      ],
      "text/plain": [
       "<IPython.core.display.HTML object>"
      ]
     },
     "metadata": {},
     "output_type": "display_data"
    },
    {
     "name": "stderr",
     "output_type": "stream",
     "text": [
      "Trying to set _wandb in the hyperparameter search but there is no corresponding field in `TrainingArguments`.\n",
      "Trying to set assignments in the hyperparameter search but there is no corresponding field in `TrainingArguments`.\n",
      "Trying to set metric in the hyperparameter search but there is no corresponding field in `TrainingArguments`.\n",
      "Detected kernel version 5.4.0, which is below the recommended minimum of 5.5.0; this can cause the process to hang. It is recommended to upgrade the kernel to the minimum version or higher.\n",
      "Some weights of EsmModel were not initialized from the model checkpoint at facebook/esm2_t6_8M_UR50D and are newly initialized: ['esm.pooler.dense.bias', 'esm.pooler.dense.weight']\n",
      "You should probably TRAIN this model on a down-stream task to be able to use it for predictions and inference.\n"
     ]
    },
    {
     "data": {
      "text/html": [],
      "text/plain": [
       "<IPython.core.display.HTML object>"
      ]
     },
     "metadata": {},
     "output_type": "display_data"
    },
    {
     "data": {
      "text/html": [
       " View run <strong style=\"color:#cdcd00\">flowing-sweep-8</strong> at: <a href='https://wandb.ai/kauamritkar-university-of-wisconsin-madison/uncategorized/runs/h55zznho' target=\"_blank\">https://wandb.ai/kauamritkar-university-of-wisconsin-madison/uncategorized/runs/h55zznho</a><br> View project at: <a href='https://wandb.ai/kauamritkar-university-of-wisconsin-madison/uncategorized' target=\"_blank\">https://wandb.ai/kauamritkar-university-of-wisconsin-madison/uncategorized</a><br>Synced 5 W&B file(s), 0 media file(s), 0 artifact file(s) and 0 other file(s)"
      ],
      "text/plain": [
       "<IPython.core.display.HTML object>"
      ]
     },
     "metadata": {},
     "output_type": "display_data"
    },
    {
     "data": {
      "text/html": [
       "Find logs at: <code>./wandb/run-20250311_220142-h55zznho/logs</code>"
      ],
      "text/plain": [
       "<IPython.core.display.HTML object>"
      ]
     },
     "metadata": {},
     "output_type": "display_data"
    },
    {
     "data": {
      "text/html": [
       "Ignoring project 'uncategorized' when running a sweep."
      ],
      "text/plain": [
       "<IPython.core.display.HTML object>"
      ]
     },
     "metadata": {},
     "output_type": "display_data"
    },
    {
     "data": {
      "text/html": [
       "Tracking run with wandb version 0.19.7"
      ],
      "text/plain": [
       "<IPython.core.display.HTML object>"
      ]
     },
     "metadata": {},
     "output_type": "display_data"
    },
    {
     "data": {
      "text/html": [
       "Run data is saved locally in <code>/home/kaustubh/RuBisCO_ML/ESM_LoRA/analysis/wandb/run-20250311_220148-h55zznho</code>"
      ],
      "text/plain": [
       "<IPython.core.display.HTML object>"
      ]
     },
     "metadata": {},
     "output_type": "display_data"
    },
    {
     "data": {
      "text/html": [
       "Syncing run <strong><a href='https://wandb.ai/kauamritkar-university-of-wisconsin-madison/uncategorized/runs/h55zznho' target=\"_blank\">flowing-sweep-8</a></strong> to <a href='https://wandb.ai/kauamritkar-university-of-wisconsin-madison/uncategorized' target=\"_blank\">Weights & Biases</a> (<a href='https://wandb.me/developer-guide' target=\"_blank\">docs</a>)<br>Sweep page: <a href='https://wandb.ai/kauamritkar-university-of-wisconsin-madison/uncategorized/sweeps/8gjc48ic' target=\"_blank\">https://wandb.ai/kauamritkar-university-of-wisconsin-madison/uncategorized/sweeps/8gjc48ic</a>"
      ],
      "text/plain": [
       "<IPython.core.display.HTML object>"
      ]
     },
     "metadata": {},
     "output_type": "display_data"
    },
    {
     "data": {
      "text/html": [
       " View project at <a href='https://wandb.ai/kauamritkar-university-of-wisconsin-madison/uncategorized' target=\"_blank\">https://wandb.ai/kauamritkar-university-of-wisconsin-madison/uncategorized</a>"
      ],
      "text/plain": [
       "<IPython.core.display.HTML object>"
      ]
     },
     "metadata": {},
     "output_type": "display_data"
    },
    {
     "data": {
      "text/html": [
       " View sweep at <a href='https://wandb.ai/kauamritkar-university-of-wisconsin-madison/uncategorized/sweeps/8gjc48ic' target=\"_blank\">https://wandb.ai/kauamritkar-university-of-wisconsin-madison/uncategorized/sweeps/8gjc48ic</a>"
      ],
      "text/plain": [
       "<IPython.core.display.HTML object>"
      ]
     },
     "metadata": {},
     "output_type": "display_data"
    },
    {
     "data": {
      "text/html": [
       " View run at <a href='https://wandb.ai/kauamritkar-university-of-wisconsin-madison/uncategorized/runs/h55zznho' target=\"_blank\">https://wandb.ai/kauamritkar-university-of-wisconsin-madison/uncategorized/runs/h55zznho</a>"
      ],
      "text/plain": [
       "<IPython.core.display.HTML object>"
      ]
     },
     "metadata": {},
     "output_type": "display_data"
    },
    {
     "name": "stderr",
     "output_type": "stream",
     "text": [
      "\u001b[34m\u001b[1mwandb\u001b[0m: \u001b[33mWARNING\u001b[0m Config item 'per_device_train_batch_size' was locked by 'sweep' (ignored update).\n",
      "\u001b[34m\u001b[1mwandb\u001b[0m: \u001b[33mWARNING\u001b[0m Config item 'learning_rate' was locked by 'sweep' (ignored update).\n",
      "/home/kaustubh/miniforge3/envs/lora_esm/lib/python3.13/site-packages/torch/nn/parallel/_functions.py:70: UserWarning: Was asked to gather along dimension 0, but all input tensors were scalars; will instead unsqueeze and return a vector.\n",
      "  warnings.warn(\n"
     ]
    },
    {
     "data": {
      "text/html": [
       "\n",
       "    <div>\n",
       "      \n",
       "      <progress value='30' max='30' style='width:300px; height:20px; vertical-align: middle;'></progress>\n",
       "      [30/30 00:02, Epoch 5/5]\n",
       "    </div>\n",
       "    <table border=\"1\" class=\"dataframe\">\n",
       "  <thead>\n",
       " <tr style=\"text-align: left;\">\n",
       "      <th>Epoch</th>\n",
       "      <th>Training Loss</th>\n",
       "      <th>Validation Loss</th>\n",
       "      <th>Accuracy</th>\n",
       "    </tr>\n",
       "  </thead>\n",
       "  <tbody>\n",
       "    <tr>\n",
       "      <td>1</td>\n",
       "      <td>No log</td>\n",
       "      <td>0.788724</td>\n",
       "      <td>0.833333</td>\n",
       "    </tr>\n",
       "    <tr>\n",
       "      <td>2</td>\n",
       "      <td>0.674100</td>\n",
       "      <td>0.788695</td>\n",
       "      <td>0.833333</td>\n",
       "    </tr>\n",
       "    <tr>\n",
       "      <td>3</td>\n",
       "      <td>0.674100</td>\n",
       "      <td>0.791926</td>\n",
       "      <td>0.833333</td>\n",
       "    </tr>\n",
       "    <tr>\n",
       "      <td>4</td>\n",
       "      <td>0.681900</td>\n",
       "      <td>0.791345</td>\n",
       "      <td>0.833333</td>\n",
       "    </tr>\n",
       "    <tr>\n",
       "      <td>5</td>\n",
       "      <td>0.676900</td>\n",
       "      <td>0.790837</td>\n",
       "      <td>0.833333</td>\n",
       "    </tr>\n",
       "  </tbody>\n",
       "</table><p>"
      ],
      "text/plain": [
       "<IPython.core.display.HTML object>"
      ]
     },
     "metadata": {},
     "output_type": "display_data"
    },
    {
     "name": "stdout",
     "output_type": "stream",
     "text": [
      "Predictions shape: (8,)\n",
      "Labels shape: (8,)\n"
     ]
    },
    {
     "name": "stderr",
     "output_type": "stream",
     "text": [
      "/home/kaustubh/miniforge3/envs/lora_esm/lib/python3.13/site-packages/peft/utils/save_and_load.py:246: UserWarning: Could not find a config file in /tmp/facebook/esm2_t6_8M_UR50D - will assume that the vocabulary was not modified.\n",
      "  warnings.warn(\n",
      "/home/kaustubh/miniforge3/envs/lora_esm/lib/python3.13/site-packages/torch/nn/parallel/_functions.py:70: UserWarning: Was asked to gather along dimension 0, but all input tensors were scalars; will instead unsqueeze and return a vector.\n",
      "  warnings.warn(\n"
     ]
    },
    {
     "name": "stdout",
     "output_type": "stream",
     "text": [
      "Predictions shape: (8,)\n",
      "Labels shape: (8,)\n"
     ]
    },
    {
     "name": "stderr",
     "output_type": "stream",
     "text": [
      "/home/kaustubh/miniforge3/envs/lora_esm/lib/python3.13/site-packages/peft/utils/save_and_load.py:246: UserWarning: Could not find a config file in /tmp/facebook/esm2_t6_8M_UR50D - will assume that the vocabulary was not modified.\n",
      "  warnings.warn(\n",
      "/home/kaustubh/miniforge3/envs/lora_esm/lib/python3.13/site-packages/torch/nn/parallel/_functions.py:70: UserWarning: Was asked to gather along dimension 0, but all input tensors were scalars; will instead unsqueeze and return a vector.\n",
      "  warnings.warn(\n"
     ]
    },
    {
     "name": "stdout",
     "output_type": "stream",
     "text": [
      "Predictions shape: (8,)\n",
      "Labels shape: (8,)\n"
     ]
    },
    {
     "name": "stderr",
     "output_type": "stream",
     "text": [
      "/home/kaustubh/miniforge3/envs/lora_esm/lib/python3.13/site-packages/peft/utils/save_and_load.py:246: UserWarning: Could not find a config file in /tmp/facebook/esm2_t6_8M_UR50D - will assume that the vocabulary was not modified.\n",
      "  warnings.warn(\n",
      "/home/kaustubh/miniforge3/envs/lora_esm/lib/python3.13/site-packages/torch/nn/parallel/_functions.py:70: UserWarning: Was asked to gather along dimension 0, but all input tensors were scalars; will instead unsqueeze and return a vector.\n",
      "  warnings.warn(\n"
     ]
    },
    {
     "name": "stdout",
     "output_type": "stream",
     "text": [
      "Predictions shape: (8,)\n",
      "Labels shape: (8,)\n"
     ]
    },
    {
     "name": "stderr",
     "output_type": "stream",
     "text": [
      "/home/kaustubh/miniforge3/envs/lora_esm/lib/python3.13/site-packages/peft/utils/save_and_load.py:246: UserWarning: Could not find a config file in /tmp/facebook/esm2_t6_8M_UR50D - will assume that the vocabulary was not modified.\n",
      "  warnings.warn(\n",
      "/home/kaustubh/miniforge3/envs/lora_esm/lib/python3.13/site-packages/torch/nn/parallel/_functions.py:70: UserWarning: Was asked to gather along dimension 0, but all input tensors were scalars; will instead unsqueeze and return a vector.\n",
      "  warnings.warn(\n",
      "/home/kaustubh/miniforge3/envs/lora_esm/lib/python3.13/site-packages/peft/utils/save_and_load.py:246: UserWarning: Could not find a config file in /tmp/facebook/esm2_t6_8M_UR50D - will assume that the vocabulary was not modified.\n",
      "  warnings.warn(\n",
      "/home/kaustubh/miniforge3/envs/lora_esm/lib/python3.13/site-packages/torch/nn/parallel/_functions.py:70: UserWarning: Was asked to gather along dimension 0, but all input tensors were scalars; will instead unsqueeze and return a vector.\n",
      "  warnings.warn(\n"
     ]
    },
    {
     "name": "stdout",
     "output_type": "stream",
     "text": [
      "Predictions shape: (8,)\n",
      "Labels shape: (8,)\n"
     ]
    },
    {
     "name": "stderr",
     "output_type": "stream",
     "text": [
      "/home/kaustubh/miniforge3/envs/lora_esm/lib/python3.13/site-packages/peft/utils/save_and_load.py:246: UserWarning: Could not find a config file in /tmp/facebook/esm2_t6_8M_UR50D - will assume that the vocabulary was not modified.\n",
      "  warnings.warn(\n"
     ]
    },
    {
     "data": {
      "text/html": [],
      "text/plain": [
       "<IPython.core.display.HTML object>"
      ]
     },
     "metadata": {},
     "output_type": "display_data"
    },
    {
     "data": {
      "text/html": [
       "<br>    <style><br>        .wandb-row {<br>            display: flex;<br>            flex-direction: row;<br>            flex-wrap: wrap;<br>            justify-content: flex-start;<br>            width: 100%;<br>        }<br>        .wandb-col {<br>            display: flex;<br>            flex-direction: column;<br>            flex-basis: 100%;<br>            flex: 1;<br>            padding: 10px;<br>        }<br>    </style><br><div class=\"wandb-row\"><div class=\"wandb-col\"><h3>Run history:</h3><br/><table class=\"wandb\"><tr><td>eval/accuracy</td><td>▁▁▁▁▁</td></tr><tr><td>eval/loss</td><td>▁▁█▇▆</td></tr><tr><td>eval/runtime</td><td>▃▂▁▆█</td></tr><tr><td>eval/samples_per_second</td><td>▆▇█▃▁</td></tr><tr><td>eval/steps_per_second</td><td>▆▇█▃▁</td></tr><tr><td>train/epoch</td><td>▁▂▃▅▅▆███</td></tr><tr><td>train/global_step</td><td>▁▂▃▅▅▆███</td></tr><tr><td>train/grad_norm</td><td>█▄▁</td></tr><tr><td>train/learning_rate</td><td>█▅▁</td></tr><tr><td>train/loss</td><td>▁█▄</td></tr></table><br/></div><div class=\"wandb-col\"><h3>Run summary:</h3><br/><table class=\"wandb\"><tr><td>eval/accuracy</td><td>0.83333</td></tr><tr><td>eval/loss</td><td>0.79084</td></tr><tr><td>eval/runtime</td><td>0.0547</td></tr><tr><td>eval/samples_per_second</td><td>146.31</td></tr><tr><td>eval/steps_per_second</td><td>18.289</td></tr><tr><td>total_flos</td><td>5194426490880.0</td></tr><tr><td>train/epoch</td><td>5</td></tr><tr><td>train/global_step</td><td>30</td></tr><tr><td>train/grad_norm</td><td>0.1471</td></tr><tr><td>train/learning_rate</td><td>0</td></tr><tr><td>train/loss</td><td>0.6769</td></tr><tr><td>train_loss</td><td>0.67764</td></tr><tr><td>train_runtime</td><td>5.8886</td></tr><tr><td>train_samples_per_second</td><td>37.36</td></tr><tr><td>train_steps_per_second</td><td>5.095</td></tr></table><br/></div></div>"
      ],
      "text/plain": [
       "<IPython.core.display.HTML object>"
      ]
     },
     "metadata": {},
     "output_type": "display_data"
    },
    {
     "data": {
      "text/html": [
       " View run <strong style=\"color:#cdcd00\">flowing-sweep-8</strong> at: <a href='https://wandb.ai/kauamritkar-university-of-wisconsin-madison/uncategorized/runs/h55zznho' target=\"_blank\">https://wandb.ai/kauamritkar-university-of-wisconsin-madison/uncategorized/runs/h55zznho</a><br> View project at: <a href='https://wandb.ai/kauamritkar-university-of-wisconsin-madison/uncategorized' target=\"_blank\">https://wandb.ai/kauamritkar-university-of-wisconsin-madison/uncategorized</a><br>Synced 5 W&B file(s), 0 media file(s), 0 artifact file(s) and 0 other file(s)"
      ],
      "text/plain": [
       "<IPython.core.display.HTML object>"
      ]
     },
     "metadata": {},
     "output_type": "display_data"
    },
    {
     "data": {
      "text/html": [
       "Find logs at: <code>./wandb/run-20250311_220148-h55zznho/logs</code>"
      ],
      "text/plain": [
       "<IPython.core.display.HTML object>"
      ]
     },
     "metadata": {},
     "output_type": "display_data"
    },
    {
     "name": "stderr",
     "output_type": "stream",
     "text": [
      "\u001b[34m\u001b[1mwandb\u001b[0m: Agent Starting Run: m0zt42yd with config:\n",
      "\u001b[34m\u001b[1mwandb\u001b[0m: \tlearning_rate: 0.0007691293411592992\n",
      "\u001b[34m\u001b[1mwandb\u001b[0m: \tper_device_train_batch_size: 16\n"
     ]
    },
    {
     "data": {
      "text/html": [
       "Tracking run with wandb version 0.19.7"
      ],
      "text/plain": [
       "<IPython.core.display.HTML object>"
      ]
     },
     "metadata": {},
     "output_type": "display_data"
    },
    {
     "data": {
      "text/html": [
       "Run data is saved locally in <code>/home/kaustubh/RuBisCO_ML/ESM_LoRA/analysis/wandb/run-20250311_220158-m0zt42yd</code>"
      ],
      "text/plain": [
       "<IPython.core.display.HTML object>"
      ]
     },
     "metadata": {},
     "output_type": "display_data"
    },
    {
     "data": {
      "text/html": [
       "Syncing run <strong><a href='https://wandb.ai/kauamritkar-university-of-wisconsin-madison/uncategorized/runs/m0zt42yd' target=\"_blank\">woven-sweep-9</a></strong> to <a href='https://wandb.ai/kauamritkar-university-of-wisconsin-madison/uncategorized' target=\"_blank\">Weights & Biases</a> (<a href='https://wandb.me/developer-guide' target=\"_blank\">docs</a>)<br>Sweep page: <a href='https://wandb.ai/kauamritkar-university-of-wisconsin-madison/uncategorized/sweeps/8gjc48ic' target=\"_blank\">https://wandb.ai/kauamritkar-university-of-wisconsin-madison/uncategorized/sweeps/8gjc48ic</a>"
      ],
      "text/plain": [
       "<IPython.core.display.HTML object>"
      ]
     },
     "metadata": {},
     "output_type": "display_data"
    },
    {
     "data": {
      "text/html": [
       " View project at <a href='https://wandb.ai/kauamritkar-university-of-wisconsin-madison/uncategorized' target=\"_blank\">https://wandb.ai/kauamritkar-university-of-wisconsin-madison/uncategorized</a>"
      ],
      "text/plain": [
       "<IPython.core.display.HTML object>"
      ]
     },
     "metadata": {},
     "output_type": "display_data"
    },
    {
     "data": {
      "text/html": [
       " View sweep at <a href='https://wandb.ai/kauamritkar-university-of-wisconsin-madison/uncategorized/sweeps/8gjc48ic' target=\"_blank\">https://wandb.ai/kauamritkar-university-of-wisconsin-madison/uncategorized/sweeps/8gjc48ic</a>"
      ],
      "text/plain": [
       "<IPython.core.display.HTML object>"
      ]
     },
     "metadata": {},
     "output_type": "display_data"
    },
    {
     "data": {
      "text/html": [
       " View run at <a href='https://wandb.ai/kauamritkar-university-of-wisconsin-madison/uncategorized/runs/m0zt42yd' target=\"_blank\">https://wandb.ai/kauamritkar-university-of-wisconsin-madison/uncategorized/runs/m0zt42yd</a>"
      ],
      "text/plain": [
       "<IPython.core.display.HTML object>"
      ]
     },
     "metadata": {},
     "output_type": "display_data"
    },
    {
     "name": "stderr",
     "output_type": "stream",
     "text": [
      "Trying to set _wandb in the hyperparameter search but there is no corresponding field in `TrainingArguments`.\n",
      "Trying to set assignments in the hyperparameter search but there is no corresponding field in `TrainingArguments`.\n",
      "Trying to set metric in the hyperparameter search but there is no corresponding field in `TrainingArguments`.\n",
      "Detected kernel version 5.4.0, which is below the recommended minimum of 5.5.0; this can cause the process to hang. It is recommended to upgrade the kernel to the minimum version or higher.\n",
      "Some weights of EsmModel were not initialized from the model checkpoint at facebook/esm2_t6_8M_UR50D and are newly initialized: ['esm.pooler.dense.bias', 'esm.pooler.dense.weight']\n",
      "You should probably TRAIN this model on a down-stream task to be able to use it for predictions and inference.\n"
     ]
    },
    {
     "data": {
      "text/html": [],
      "text/plain": [
       "<IPython.core.display.HTML object>"
      ]
     },
     "metadata": {},
     "output_type": "display_data"
    },
    {
     "data": {
      "text/html": [
       " View run <strong style=\"color:#cdcd00\">woven-sweep-9</strong> at: <a href='https://wandb.ai/kauamritkar-university-of-wisconsin-madison/uncategorized/runs/m0zt42yd' target=\"_blank\">https://wandb.ai/kauamritkar-university-of-wisconsin-madison/uncategorized/runs/m0zt42yd</a><br> View project at: <a href='https://wandb.ai/kauamritkar-university-of-wisconsin-madison/uncategorized' target=\"_blank\">https://wandb.ai/kauamritkar-university-of-wisconsin-madison/uncategorized</a><br>Synced 5 W&B file(s), 0 media file(s), 0 artifact file(s) and 0 other file(s)"
      ],
      "text/plain": [
       "<IPython.core.display.HTML object>"
      ]
     },
     "metadata": {},
     "output_type": "display_data"
    },
    {
     "data": {
      "text/html": [
       "Find logs at: <code>./wandb/run-20250311_220158-m0zt42yd/logs</code>"
      ],
      "text/plain": [
       "<IPython.core.display.HTML object>"
      ]
     },
     "metadata": {},
     "output_type": "display_data"
    },
    {
     "data": {
      "text/html": [
       "Ignoring project 'uncategorized' when running a sweep."
      ],
      "text/plain": [
       "<IPython.core.display.HTML object>"
      ]
     },
     "metadata": {},
     "output_type": "display_data"
    },
    {
     "data": {
      "text/html": [
       "Tracking run with wandb version 0.19.7"
      ],
      "text/plain": [
       "<IPython.core.display.HTML object>"
      ]
     },
     "metadata": {},
     "output_type": "display_data"
    },
    {
     "data": {
      "text/html": [
       "Run data is saved locally in <code>/home/kaustubh/RuBisCO_ML/ESM_LoRA/analysis/wandb/run-20250311_220201-m0zt42yd</code>"
      ],
      "text/plain": [
       "<IPython.core.display.HTML object>"
      ]
     },
     "metadata": {},
     "output_type": "display_data"
    },
    {
     "data": {
      "text/html": [
       "Syncing run <strong><a href='https://wandb.ai/kauamritkar-university-of-wisconsin-madison/uncategorized/runs/m0zt42yd' target=\"_blank\">woven-sweep-9</a></strong> to <a href='https://wandb.ai/kauamritkar-university-of-wisconsin-madison/uncategorized' target=\"_blank\">Weights & Biases</a> (<a href='https://wandb.me/developer-guide' target=\"_blank\">docs</a>)<br>Sweep page: <a href='https://wandb.ai/kauamritkar-university-of-wisconsin-madison/uncategorized/sweeps/8gjc48ic' target=\"_blank\">https://wandb.ai/kauamritkar-university-of-wisconsin-madison/uncategorized/sweeps/8gjc48ic</a>"
      ],
      "text/plain": [
       "<IPython.core.display.HTML object>"
      ]
     },
     "metadata": {},
     "output_type": "display_data"
    },
    {
     "data": {
      "text/html": [
       " View project at <a href='https://wandb.ai/kauamritkar-university-of-wisconsin-madison/uncategorized' target=\"_blank\">https://wandb.ai/kauamritkar-university-of-wisconsin-madison/uncategorized</a>"
      ],
      "text/plain": [
       "<IPython.core.display.HTML object>"
      ]
     },
     "metadata": {},
     "output_type": "display_data"
    },
    {
     "data": {
      "text/html": [
       " View sweep at <a href='https://wandb.ai/kauamritkar-university-of-wisconsin-madison/uncategorized/sweeps/8gjc48ic' target=\"_blank\">https://wandb.ai/kauamritkar-university-of-wisconsin-madison/uncategorized/sweeps/8gjc48ic</a>"
      ],
      "text/plain": [
       "<IPython.core.display.HTML object>"
      ]
     },
     "metadata": {},
     "output_type": "display_data"
    },
    {
     "data": {
      "text/html": [
       " View run at <a href='https://wandb.ai/kauamritkar-university-of-wisconsin-madison/uncategorized/runs/m0zt42yd' target=\"_blank\">https://wandb.ai/kauamritkar-university-of-wisconsin-madison/uncategorized/runs/m0zt42yd</a>"
      ],
      "text/plain": [
       "<IPython.core.display.HTML object>"
      ]
     },
     "metadata": {},
     "output_type": "display_data"
    },
    {
     "name": "stderr",
     "output_type": "stream",
     "text": [
      "\u001b[34m\u001b[1mwandb\u001b[0m: \u001b[33mWARNING\u001b[0m Config item 'per_device_train_batch_size' was locked by 'sweep' (ignored update).\n",
      "\u001b[34m\u001b[1mwandb\u001b[0m: \u001b[33mWARNING\u001b[0m Config item 'learning_rate' was locked by 'sweep' (ignored update).\n",
      "/home/kaustubh/miniforge3/envs/lora_esm/lib/python3.13/site-packages/torch/nn/parallel/_functions.py:70: UserWarning: Was asked to gather along dimension 0, but all input tensors were scalars; will instead unsqueeze and return a vector.\n",
      "  warnings.warn(\n"
     ]
    },
    {
     "data": {
      "text/html": [
       "\n",
       "    <div>\n",
       "      \n",
       "      <progress value='10' max='10' style='width:300px; height:20px; vertical-align: middle;'></progress>\n",
       "      [10/10 00:01, Epoch 5/5]\n",
       "    </div>\n",
       "    <table border=\"1\" class=\"dataframe\">\n",
       "  <thead>\n",
       " <tr style=\"text-align: left;\">\n",
       "      <th>Epoch</th>\n",
       "      <th>Training Loss</th>\n",
       "      <th>Validation Loss</th>\n",
       "      <th>Accuracy</th>\n",
       "    </tr>\n",
       "  </thead>\n",
       "  <tbody>\n",
       "    <tr>\n",
       "      <td>1</td>\n",
       "      <td>No log</td>\n",
       "      <td>0.814839</td>\n",
       "      <td>0.833333</td>\n",
       "    </tr>\n",
       "    <tr>\n",
       "      <td>2</td>\n",
       "      <td>No log</td>\n",
       "      <td>0.790571</td>\n",
       "      <td>0.916667</td>\n",
       "    </tr>\n",
       "    <tr>\n",
       "      <td>3</td>\n",
       "      <td>No log</td>\n",
       "      <td>0.780788</td>\n",
       "      <td>0.833333</td>\n",
       "    </tr>\n",
       "    <tr>\n",
       "      <td>4</td>\n",
       "      <td>No log</td>\n",
       "      <td>0.781877</td>\n",
       "      <td>0.833333</td>\n",
       "    </tr>\n",
       "    <tr>\n",
       "      <td>5</td>\n",
       "      <td>0.678100</td>\n",
       "      <td>0.782732</td>\n",
       "      <td>0.833333</td>\n",
       "    </tr>\n",
       "  </tbody>\n",
       "</table><p>"
      ],
      "text/plain": [
       "<IPython.core.display.HTML object>"
      ]
     },
     "metadata": {},
     "output_type": "display_data"
    },
    {
     "name": "stdout",
     "output_type": "stream",
     "text": [
      "Predictions shape: (8,)\n",
      "Labels shape: (8,)\n"
     ]
    },
    {
     "name": "stderr",
     "output_type": "stream",
     "text": [
      "/home/kaustubh/miniforge3/envs/lora_esm/lib/python3.13/site-packages/peft/utils/save_and_load.py:246: UserWarning: Could not find a config file in /tmp/facebook/esm2_t6_8M_UR50D - will assume that the vocabulary was not modified.\n",
      "  warnings.warn(\n",
      "/home/kaustubh/miniforge3/envs/lora_esm/lib/python3.13/site-packages/torch/nn/parallel/_functions.py:70: UserWarning: Was asked to gather along dimension 0, but all input tensors were scalars; will instead unsqueeze and return a vector.\n",
      "  warnings.warn(\n"
     ]
    },
    {
     "name": "stdout",
     "output_type": "stream",
     "text": [
      "Predictions shape: (8,)\n",
      "Labels shape: (8,)\n"
     ]
    },
    {
     "name": "stderr",
     "output_type": "stream",
     "text": [
      "/home/kaustubh/miniforge3/envs/lora_esm/lib/python3.13/site-packages/peft/utils/save_and_load.py:246: UserWarning: Could not find a config file in /tmp/facebook/esm2_t6_8M_UR50D - will assume that the vocabulary was not modified.\n",
      "  warnings.warn(\n",
      "/home/kaustubh/miniforge3/envs/lora_esm/lib/python3.13/site-packages/torch/nn/parallel/_functions.py:70: UserWarning: Was asked to gather along dimension 0, but all input tensors were scalars; will instead unsqueeze and return a vector.\n",
      "  warnings.warn(\n"
     ]
    },
    {
     "name": "stdout",
     "output_type": "stream",
     "text": [
      "Predictions shape: (8,)\n",
      "Labels shape: (8,)\n"
     ]
    },
    {
     "name": "stderr",
     "output_type": "stream",
     "text": [
      "/home/kaustubh/miniforge3/envs/lora_esm/lib/python3.13/site-packages/peft/utils/save_and_load.py:246: UserWarning: Could not find a config file in /tmp/facebook/esm2_t6_8M_UR50D - will assume that the vocabulary was not modified.\n",
      "  warnings.warn(\n",
      "/home/kaustubh/miniforge3/envs/lora_esm/lib/python3.13/site-packages/torch/nn/parallel/_functions.py:70: UserWarning: Was asked to gather along dimension 0, but all input tensors were scalars; will instead unsqueeze and return a vector.\n",
      "  warnings.warn(\n"
     ]
    },
    {
     "name": "stdout",
     "output_type": "stream",
     "text": [
      "Predictions shape: (8,)\n",
      "Labels shape: (8,)\n"
     ]
    },
    {
     "name": "stderr",
     "output_type": "stream",
     "text": [
      "/home/kaustubh/miniforge3/envs/lora_esm/lib/python3.13/site-packages/peft/utils/save_and_load.py:246: UserWarning: Could not find a config file in /tmp/facebook/esm2_t6_8M_UR50D - will assume that the vocabulary was not modified.\n",
      "  warnings.warn(\n",
      "/home/kaustubh/miniforge3/envs/lora_esm/lib/python3.13/site-packages/torch/nn/parallel/_functions.py:70: UserWarning: Was asked to gather along dimension 0, but all input tensors were scalars; will instead unsqueeze and return a vector.\n",
      "  warnings.warn(\n",
      "/home/kaustubh/miniforge3/envs/lora_esm/lib/python3.13/site-packages/peft/utils/save_and_load.py:246: UserWarning: Could not find a config file in /tmp/facebook/esm2_t6_8M_UR50D - will assume that the vocabulary was not modified.\n",
      "  warnings.warn(\n",
      "/home/kaustubh/miniforge3/envs/lora_esm/lib/python3.13/site-packages/torch/nn/parallel/_functions.py:70: UserWarning: Was asked to gather along dimension 0, but all input tensors were scalars; will instead unsqueeze and return a vector.\n",
      "  warnings.warn(\n"
     ]
    },
    {
     "name": "stdout",
     "output_type": "stream",
     "text": [
      "Predictions shape: (8,)\n",
      "Labels shape: (8,)\n"
     ]
    },
    {
     "name": "stderr",
     "output_type": "stream",
     "text": [
      "/home/kaustubh/miniforge3/envs/lora_esm/lib/python3.13/site-packages/peft/utils/save_and_load.py:246: UserWarning: Could not find a config file in /tmp/facebook/esm2_t6_8M_UR50D - will assume that the vocabulary was not modified.\n",
      "  warnings.warn(\n"
     ]
    },
    {
     "data": {
      "text/html": [],
      "text/plain": [
       "<IPython.core.display.HTML object>"
      ]
     },
     "metadata": {},
     "output_type": "display_data"
    },
    {
     "data": {
      "text/html": [
       "<br>    <style><br>        .wandb-row {<br>            display: flex;<br>            flex-direction: row;<br>            flex-wrap: wrap;<br>            justify-content: flex-start;<br>            width: 100%;<br>        }<br>        .wandb-col {<br>            display: flex;<br>            flex-direction: column;<br>            flex-basis: 100%;<br>            flex: 1;<br>            padding: 10px;<br>        }<br>    </style><br><div class=\"wandb-row\"><div class=\"wandb-col\"><h3>Run history:</h3><br/><table class=\"wandb\"><tr><td>eval/accuracy</td><td>▁█▁▁▁</td></tr><tr><td>eval/loss</td><td>█▃▁▁▁</td></tr><tr><td>eval/runtime</td><td>▄▁▂▂█</td></tr><tr><td>eval/samples_per_second</td><td>▄█▇▇▁</td></tr><tr><td>eval/steps_per_second</td><td>▄█▇▇▁</td></tr><tr><td>train/epoch</td><td>▁▃▅▆███</td></tr><tr><td>train/global_step</td><td>▁▃▅▆███</td></tr><tr><td>train/grad_norm</td><td>▁</td></tr><tr><td>train/learning_rate</td><td>▁</td></tr><tr><td>train/loss</td><td>▁</td></tr></table><br/></div><div class=\"wandb-col\"><h3>Run summary:</h3><br/><table class=\"wandb\"><tr><td>eval/accuracy</td><td>0.83333</td></tr><tr><td>eval/loss</td><td>0.78273</td></tr><tr><td>eval/runtime</td><td>0.0536</td></tr><tr><td>eval/samples_per_second</td><td>149.26</td></tr><tr><td>eval/steps_per_second</td><td>18.658</td></tr><tr><td>total_flos</td><td>5194426490880.0</td></tr><tr><td>train/epoch</td><td>5</td></tr><tr><td>train/global_step</td><td>10</td></tr><tr><td>train/grad_norm</td><td>0.02348</td></tr><tr><td>train/learning_rate</td><td>0</td></tr><tr><td>train/loss</td><td>0.6781</td></tr><tr><td>train_loss</td><td>0.67806</td></tr><tr><td>train_runtime</td><td>4.9059</td></tr><tr><td>train_samples_per_second</td><td>44.844</td></tr><tr><td>train_steps_per_second</td><td>2.038</td></tr></table><br/></div></div>"
      ],
      "text/plain": [
       "<IPython.core.display.HTML object>"
      ]
     },
     "metadata": {},
     "output_type": "display_data"
    },
    {
     "data": {
      "text/html": [
       " View run <strong style=\"color:#cdcd00\">woven-sweep-9</strong> at: <a href='https://wandb.ai/kauamritkar-university-of-wisconsin-madison/uncategorized/runs/m0zt42yd' target=\"_blank\">https://wandb.ai/kauamritkar-university-of-wisconsin-madison/uncategorized/runs/m0zt42yd</a><br> View project at: <a href='https://wandb.ai/kauamritkar-university-of-wisconsin-madison/uncategorized' target=\"_blank\">https://wandb.ai/kauamritkar-university-of-wisconsin-madison/uncategorized</a><br>Synced 5 W&B file(s), 0 media file(s), 0 artifact file(s) and 0 other file(s)"
      ],
      "text/plain": [
       "<IPython.core.display.HTML object>"
      ]
     },
     "metadata": {},
     "output_type": "display_data"
    },
    {
     "data": {
      "text/html": [
       "Find logs at: <code>./wandb/run-20250311_220201-m0zt42yd/logs</code>"
      ],
      "text/plain": [
       "<IPython.core.display.HTML object>"
      ]
     },
     "metadata": {},
     "output_type": "display_data"
    },
    {
     "name": "stderr",
     "output_type": "stream",
     "text": [
      "\u001b[34m\u001b[1mwandb\u001b[0m: Agent Starting Run: g45j21bs with config:\n",
      "\u001b[34m\u001b[1mwandb\u001b[0m: \tlearning_rate: 4.857781508788186e-05\n",
      "\u001b[34m\u001b[1mwandb\u001b[0m: \tper_device_train_batch_size: 4\n"
     ]
    },
    {
     "data": {
      "text/html": [
       "Tracking run with wandb version 0.19.7"
      ],
      "text/plain": [
       "<IPython.core.display.HTML object>"
      ]
     },
     "metadata": {},
     "output_type": "display_data"
    },
    {
     "data": {
      "text/html": [
       "Run data is saved locally in <code>/home/kaustubh/RuBisCO_ML/ESM_LoRA/analysis/wandb/run-20250311_220208-g45j21bs</code>"
      ],
      "text/plain": [
       "<IPython.core.display.HTML object>"
      ]
     },
     "metadata": {},
     "output_type": "display_data"
    },
    {
     "data": {
      "text/html": [
       "Syncing run <strong><a href='https://wandb.ai/kauamritkar-university-of-wisconsin-madison/uncategorized/runs/g45j21bs' target=\"_blank\">cool-sweep-10</a></strong> to <a href='https://wandb.ai/kauamritkar-university-of-wisconsin-madison/uncategorized' target=\"_blank\">Weights & Biases</a> (<a href='https://wandb.me/developer-guide' target=\"_blank\">docs</a>)<br>Sweep page: <a href='https://wandb.ai/kauamritkar-university-of-wisconsin-madison/uncategorized/sweeps/8gjc48ic' target=\"_blank\">https://wandb.ai/kauamritkar-university-of-wisconsin-madison/uncategorized/sweeps/8gjc48ic</a>"
      ],
      "text/plain": [
       "<IPython.core.display.HTML object>"
      ]
     },
     "metadata": {},
     "output_type": "display_data"
    },
    {
     "data": {
      "text/html": [
       " View project at <a href='https://wandb.ai/kauamritkar-university-of-wisconsin-madison/uncategorized' target=\"_blank\">https://wandb.ai/kauamritkar-university-of-wisconsin-madison/uncategorized</a>"
      ],
      "text/plain": [
       "<IPython.core.display.HTML object>"
      ]
     },
     "metadata": {},
     "output_type": "display_data"
    },
    {
     "data": {
      "text/html": [
       " View sweep at <a href='https://wandb.ai/kauamritkar-university-of-wisconsin-madison/uncategorized/sweeps/8gjc48ic' target=\"_blank\">https://wandb.ai/kauamritkar-university-of-wisconsin-madison/uncategorized/sweeps/8gjc48ic</a>"
      ],
      "text/plain": [
       "<IPython.core.display.HTML object>"
      ]
     },
     "metadata": {},
     "output_type": "display_data"
    },
    {
     "data": {
      "text/html": [
       " View run at <a href='https://wandb.ai/kauamritkar-university-of-wisconsin-madison/uncategorized/runs/g45j21bs' target=\"_blank\">https://wandb.ai/kauamritkar-university-of-wisconsin-madison/uncategorized/runs/g45j21bs</a>"
      ],
      "text/plain": [
       "<IPython.core.display.HTML object>"
      ]
     },
     "metadata": {},
     "output_type": "display_data"
    },
    {
     "name": "stderr",
     "output_type": "stream",
     "text": [
      "Trying to set _wandb in the hyperparameter search but there is no corresponding field in `TrainingArguments`.\n",
      "Trying to set assignments in the hyperparameter search but there is no corresponding field in `TrainingArguments`.\n",
      "Trying to set metric in the hyperparameter search but there is no corresponding field in `TrainingArguments`.\n",
      "Detected kernel version 5.4.0, which is below the recommended minimum of 5.5.0; this can cause the process to hang. It is recommended to upgrade the kernel to the minimum version or higher.\n",
      "Some weights of EsmModel were not initialized from the model checkpoint at facebook/esm2_t6_8M_UR50D and are newly initialized: ['esm.pooler.dense.bias', 'esm.pooler.dense.weight']\n",
      "You should probably TRAIN this model on a down-stream task to be able to use it for predictions and inference.\n"
     ]
    },
    {
     "data": {
      "text/html": [],
      "text/plain": [
       "<IPython.core.display.HTML object>"
      ]
     },
     "metadata": {},
     "output_type": "display_data"
    },
    {
     "data": {
      "text/html": [
       " View run <strong style=\"color:#cdcd00\">cool-sweep-10</strong> at: <a href='https://wandb.ai/kauamritkar-university-of-wisconsin-madison/uncategorized/runs/g45j21bs' target=\"_blank\">https://wandb.ai/kauamritkar-university-of-wisconsin-madison/uncategorized/runs/g45j21bs</a><br> View project at: <a href='https://wandb.ai/kauamritkar-university-of-wisconsin-madison/uncategorized' target=\"_blank\">https://wandb.ai/kauamritkar-university-of-wisconsin-madison/uncategorized</a><br>Synced 5 W&B file(s), 0 media file(s), 0 artifact file(s) and 0 other file(s)"
      ],
      "text/plain": [
       "<IPython.core.display.HTML object>"
      ]
     },
     "metadata": {},
     "output_type": "display_data"
    },
    {
     "data": {
      "text/html": [
       "Find logs at: <code>./wandb/run-20250311_220208-g45j21bs/logs</code>"
      ],
      "text/plain": [
       "<IPython.core.display.HTML object>"
      ]
     },
     "metadata": {},
     "output_type": "display_data"
    },
    {
     "data": {
      "text/html": [
       "Ignoring project 'uncategorized' when running a sweep."
      ],
      "text/plain": [
       "<IPython.core.display.HTML object>"
      ]
     },
     "metadata": {},
     "output_type": "display_data"
    },
    {
     "data": {
      "text/html": [
       "Tracking run with wandb version 0.19.7"
      ],
      "text/plain": [
       "<IPython.core.display.HTML object>"
      ]
     },
     "metadata": {},
     "output_type": "display_data"
    },
    {
     "data": {
      "text/html": [
       "Run data is saved locally in <code>/home/kaustubh/RuBisCO_ML/ESM_LoRA/analysis/wandb/run-20250311_220212-g45j21bs</code>"
      ],
      "text/plain": [
       "<IPython.core.display.HTML object>"
      ]
     },
     "metadata": {},
     "output_type": "display_data"
    },
    {
     "data": {
      "text/html": [
       "Syncing run <strong><a href='https://wandb.ai/kauamritkar-university-of-wisconsin-madison/uncategorized/runs/g45j21bs' target=\"_blank\">cool-sweep-10</a></strong> to <a href='https://wandb.ai/kauamritkar-university-of-wisconsin-madison/uncategorized' target=\"_blank\">Weights & Biases</a> (<a href='https://wandb.me/developer-guide' target=\"_blank\">docs</a>)<br>Sweep page: <a href='https://wandb.ai/kauamritkar-university-of-wisconsin-madison/uncategorized/sweeps/8gjc48ic' target=\"_blank\">https://wandb.ai/kauamritkar-university-of-wisconsin-madison/uncategorized/sweeps/8gjc48ic</a>"
      ],
      "text/plain": [
       "<IPython.core.display.HTML object>"
      ]
     },
     "metadata": {},
     "output_type": "display_data"
    },
    {
     "data": {
      "text/html": [
       " View project at <a href='https://wandb.ai/kauamritkar-university-of-wisconsin-madison/uncategorized' target=\"_blank\">https://wandb.ai/kauamritkar-university-of-wisconsin-madison/uncategorized</a>"
      ],
      "text/plain": [
       "<IPython.core.display.HTML object>"
      ]
     },
     "metadata": {},
     "output_type": "display_data"
    },
    {
     "data": {
      "text/html": [
       " View sweep at <a href='https://wandb.ai/kauamritkar-university-of-wisconsin-madison/uncategorized/sweeps/8gjc48ic' target=\"_blank\">https://wandb.ai/kauamritkar-university-of-wisconsin-madison/uncategorized/sweeps/8gjc48ic</a>"
      ],
      "text/plain": [
       "<IPython.core.display.HTML object>"
      ]
     },
     "metadata": {},
     "output_type": "display_data"
    },
    {
     "data": {
      "text/html": [
       " View run at <a href='https://wandb.ai/kauamritkar-university-of-wisconsin-madison/uncategorized/runs/g45j21bs' target=\"_blank\">https://wandb.ai/kauamritkar-university-of-wisconsin-madison/uncategorized/runs/g45j21bs</a>"
      ],
      "text/plain": [
       "<IPython.core.display.HTML object>"
      ]
     },
     "metadata": {},
     "output_type": "display_data"
    },
    {
     "name": "stderr",
     "output_type": "stream",
     "text": [
      "\u001b[34m\u001b[1mwandb\u001b[0m: \u001b[33mWARNING\u001b[0m Config item 'per_device_train_batch_size' was locked by 'sweep' (ignored update).\n",
      "\u001b[34m\u001b[1mwandb\u001b[0m: \u001b[33mWARNING\u001b[0m Config item 'learning_rate' was locked by 'sweep' (ignored update).\n",
      "/home/kaustubh/miniforge3/envs/lora_esm/lib/python3.13/site-packages/torch/nn/parallel/_functions.py:70: UserWarning: Was asked to gather along dimension 0, but all input tensors were scalars; will instead unsqueeze and return a vector.\n",
      "  warnings.warn(\n"
     ]
    },
    {
     "data": {
      "text/html": [
       "\n",
       "    <div>\n",
       "      \n",
       "      <progress value='30' max='30' style='width:300px; height:20px; vertical-align: middle;'></progress>\n",
       "      [30/30 00:02, Epoch 5/5]\n",
       "    </div>\n",
       "    <table border=\"1\" class=\"dataframe\">\n",
       "  <thead>\n",
       " <tr style=\"text-align: left;\">\n",
       "      <th>Epoch</th>\n",
       "      <th>Training Loss</th>\n",
       "      <th>Validation Loss</th>\n",
       "      <th>Accuracy</th>\n",
       "    </tr>\n",
       "  </thead>\n",
       "  <tbody>\n",
       "    <tr>\n",
       "      <td>1</td>\n",
       "      <td>No log</td>\n",
       "      <td>0.791866</td>\n",
       "      <td>0.916667</td>\n",
       "    </tr>\n",
       "    <tr>\n",
       "      <td>2</td>\n",
       "      <td>0.673000</td>\n",
       "      <td>0.791577</td>\n",
       "      <td>0.916667</td>\n",
       "    </tr>\n",
       "    <tr>\n",
       "      <td>3</td>\n",
       "      <td>0.673000</td>\n",
       "      <td>0.792182</td>\n",
       "      <td>0.916667</td>\n",
       "    </tr>\n",
       "    <tr>\n",
       "      <td>4</td>\n",
       "      <td>0.682000</td>\n",
       "      <td>0.791996</td>\n",
       "      <td>0.916667</td>\n",
       "    </tr>\n",
       "    <tr>\n",
       "      <td>5</td>\n",
       "      <td>0.677200</td>\n",
       "      <td>0.791863</td>\n",
       "      <td>0.916667</td>\n",
       "    </tr>\n",
       "  </tbody>\n",
       "</table><p>"
      ],
      "text/plain": [
       "<IPython.core.display.HTML object>"
      ]
     },
     "metadata": {},
     "output_type": "display_data"
    },
    {
     "name": "stdout",
     "output_type": "stream",
     "text": [
      "Predictions shape: (8,)\n",
      "Labels shape: (8,)\n"
     ]
    },
    {
     "name": "stderr",
     "output_type": "stream",
     "text": [
      "/home/kaustubh/miniforge3/envs/lora_esm/lib/python3.13/site-packages/peft/utils/save_and_load.py:246: UserWarning: Could not find a config file in /tmp/facebook/esm2_t6_8M_UR50D - will assume that the vocabulary was not modified.\n",
      "  warnings.warn(\n",
      "/home/kaustubh/miniforge3/envs/lora_esm/lib/python3.13/site-packages/torch/nn/parallel/_functions.py:70: UserWarning: Was asked to gather along dimension 0, but all input tensors were scalars; will instead unsqueeze and return a vector.\n",
      "  warnings.warn(\n"
     ]
    },
    {
     "name": "stdout",
     "output_type": "stream",
     "text": [
      "Predictions shape: (8,)\n",
      "Labels shape: (8,)\n"
     ]
    },
    {
     "name": "stderr",
     "output_type": "stream",
     "text": [
      "/home/kaustubh/miniforge3/envs/lora_esm/lib/python3.13/site-packages/peft/utils/save_and_load.py:246: UserWarning: Could not find a config file in /tmp/facebook/esm2_t6_8M_UR50D - will assume that the vocabulary was not modified.\n",
      "  warnings.warn(\n",
      "/home/kaustubh/miniforge3/envs/lora_esm/lib/python3.13/site-packages/torch/nn/parallel/_functions.py:70: UserWarning: Was asked to gather along dimension 0, but all input tensors were scalars; will instead unsqueeze and return a vector.\n",
      "  warnings.warn(\n"
     ]
    },
    {
     "name": "stdout",
     "output_type": "stream",
     "text": [
      "Predictions shape: (8,)\n",
      "Labels shape: (8,)\n"
     ]
    },
    {
     "name": "stderr",
     "output_type": "stream",
     "text": [
      "/home/kaustubh/miniforge3/envs/lora_esm/lib/python3.13/site-packages/peft/utils/save_and_load.py:246: UserWarning: Could not find a config file in /tmp/facebook/esm2_t6_8M_UR50D - will assume that the vocabulary was not modified.\n",
      "  warnings.warn(\n",
      "/home/kaustubh/miniforge3/envs/lora_esm/lib/python3.13/site-packages/torch/nn/parallel/_functions.py:70: UserWarning: Was asked to gather along dimension 0, but all input tensors were scalars; will instead unsqueeze and return a vector.\n",
      "  warnings.warn(\n"
     ]
    },
    {
     "name": "stdout",
     "output_type": "stream",
     "text": [
      "Predictions shape: (8,)\n",
      "Labels shape: (8,)\n"
     ]
    },
    {
     "name": "stderr",
     "output_type": "stream",
     "text": [
      "/home/kaustubh/miniforge3/envs/lora_esm/lib/python3.13/site-packages/peft/utils/save_and_load.py:246: UserWarning: Could not find a config file in /tmp/facebook/esm2_t6_8M_UR50D - will assume that the vocabulary was not modified.\n",
      "  warnings.warn(\n",
      "/home/kaustubh/miniforge3/envs/lora_esm/lib/python3.13/site-packages/torch/nn/parallel/_functions.py:70: UserWarning: Was asked to gather along dimension 0, but all input tensors were scalars; will instead unsqueeze and return a vector.\n",
      "  warnings.warn(\n",
      "/home/kaustubh/miniforge3/envs/lora_esm/lib/python3.13/site-packages/peft/utils/save_and_load.py:246: UserWarning: Could not find a config file in /tmp/facebook/esm2_t6_8M_UR50D - will assume that the vocabulary was not modified.\n",
      "  warnings.warn(\n",
      "/home/kaustubh/miniforge3/envs/lora_esm/lib/python3.13/site-packages/torch/nn/parallel/_functions.py:70: UserWarning: Was asked to gather along dimension 0, but all input tensors were scalars; will instead unsqueeze and return a vector.\n",
      "  warnings.warn(\n"
     ]
    },
    {
     "name": "stdout",
     "output_type": "stream",
     "text": [
      "Predictions shape: (8,)\n",
      "Labels shape: (8,)\n"
     ]
    },
    {
     "name": "stderr",
     "output_type": "stream",
     "text": [
      "/home/kaustubh/miniforge3/envs/lora_esm/lib/python3.13/site-packages/peft/utils/save_and_load.py:246: UserWarning: Could not find a config file in /tmp/facebook/esm2_t6_8M_UR50D - will assume that the vocabulary was not modified.\n",
      "  warnings.warn(\n"
     ]
    },
    {
     "data": {
      "text/html": [],
      "text/plain": [
       "<IPython.core.display.HTML object>"
      ]
     },
     "metadata": {},
     "output_type": "display_data"
    },
    {
     "data": {
      "text/html": [
       "<br>    <style><br>        .wandb-row {<br>            display: flex;<br>            flex-direction: row;<br>            flex-wrap: wrap;<br>            justify-content: flex-start;<br>            width: 100%;<br>        }<br>        .wandb-col {<br>            display: flex;<br>            flex-direction: column;<br>            flex-basis: 100%;<br>            flex: 1;<br>            padding: 10px;<br>        }<br>    </style><br><div class=\"wandb-row\"><div class=\"wandb-col\"><h3>Run history:</h3><br/><table class=\"wandb\"><tr><td>eval/accuracy</td><td>▁▁▁▁▁</td></tr><tr><td>eval/loss</td><td>▄▁█▆▄</td></tr><tr><td>eval/runtime</td><td>▁▆▁▄█</td></tr><tr><td>eval/samples_per_second</td><td>█▃█▄▁</td></tr><tr><td>eval/steps_per_second</td><td>█▃█▄▁</td></tr><tr><td>train/epoch</td><td>▁▂▃▅▅▆███</td></tr><tr><td>train/global_step</td><td>▁▂▃▅▅▆███</td></tr><tr><td>train/grad_norm</td><td>█▄▁</td></tr><tr><td>train/learning_rate</td><td>█▅▁</td></tr><tr><td>train/loss</td><td>▁█▄</td></tr></table><br/></div><div class=\"wandb-col\"><h3>Run summary:</h3><br/><table class=\"wandb\"><tr><td>eval/accuracy</td><td>0.91667</td></tr><tr><td>eval/loss</td><td>0.79186</td></tr><tr><td>eval/runtime</td><td>0.0517</td></tr><tr><td>eval/samples_per_second</td><td>154.633</td></tr><tr><td>eval/steps_per_second</td><td>19.329</td></tr><tr><td>total_flos</td><td>5194426490880.0</td></tr><tr><td>train/epoch</td><td>5</td></tr><tr><td>train/global_step</td><td>30</td></tr><tr><td>train/grad_norm</td><td>0.15001</td></tr><tr><td>train/learning_rate</td><td>0</td></tr><tr><td>train/loss</td><td>0.6772</td></tr><tr><td>train_loss</td><td>0.67742</td></tr><tr><td>train_runtime</td><td>5.8627</td></tr><tr><td>train_samples_per_second</td><td>37.525</td></tr><tr><td>train_steps_per_second</td><td>5.117</td></tr></table><br/></div></div>"
      ],
      "text/plain": [
       "<IPython.core.display.HTML object>"
      ]
     },
     "metadata": {},
     "output_type": "display_data"
    },
    {
     "data": {
      "text/html": [
       " View run <strong style=\"color:#cdcd00\">cool-sweep-10</strong> at: <a href='https://wandb.ai/kauamritkar-university-of-wisconsin-madison/uncategorized/runs/g45j21bs' target=\"_blank\">https://wandb.ai/kauamritkar-university-of-wisconsin-madison/uncategorized/runs/g45j21bs</a><br> View project at: <a href='https://wandb.ai/kauamritkar-university-of-wisconsin-madison/uncategorized' target=\"_blank\">https://wandb.ai/kauamritkar-university-of-wisconsin-madison/uncategorized</a><br>Synced 5 W&B file(s), 0 media file(s), 0 artifact file(s) and 0 other file(s)"
      ],
      "text/plain": [
       "<IPython.core.display.HTML object>"
      ]
     },
     "metadata": {},
     "output_type": "display_data"
    },
    {
     "data": {
      "text/html": [
       "Find logs at: <code>./wandb/run-20250311_220212-g45j21bs/logs</code>"
      ],
      "text/plain": [
       "<IPython.core.display.HTML object>"
      ]
     },
     "metadata": {},
     "output_type": "display_data"
    },
    {
     "name": "stdout",
     "output_type": "stream",
     "text": [
      "Best Trial: BestRun(run_id='iex5fxvg', objective=1.0, hyperparameters={'learning_rate': 0.0009527882487525412, 'per_device_train_batch_size': 8, 'assignments': {}, 'metric': 'eval/loss'}, run_summary=None)\n"
     ]
    },
    {
     "name": "stderr",
     "output_type": "stream",
     "text": [
      "Some weights of EsmModel were not initialized from the model checkpoint at facebook/esm2_t6_8M_UR50D and are newly initialized: ['esm.pooler.dense.bias', 'esm.pooler.dense.weight']\n",
      "You should probably TRAIN this model on a down-stream task to be able to use it for predictions and inference.\n",
      "Detected kernel version 5.4.0, which is below the recommended minimum of 5.5.0; this can cause the process to hang. It is recommended to upgrade the kernel to the minimum version or higher.\n"
     ]
    },
    {
     "data": {
      "text/html": [
       "Changes to your `wandb` environment variables will be ignored because your `wandb` session has already started. For more information on how to modify your settings with `wandb.init()` arguments, please refer to <a href='https://wandb.me/wandb-init' target=\"_blank\">the W&B docs</a>."
      ],
      "text/plain": [
       "<IPython.core.display.HTML object>"
      ]
     },
     "metadata": {},
     "output_type": "display_data"
    },
    {
     "data": {
      "text/html": [
       "Ignoring project 'uncategorized' when running a sweep."
      ],
      "text/plain": [
       "<IPython.core.display.HTML object>"
      ]
     },
     "metadata": {},
     "output_type": "display_data"
    },
    {
     "data": {
      "text/html": [
       "Tracking run with wandb version 0.19.7"
      ],
      "text/plain": [
       "<IPython.core.display.HTML object>"
      ]
     },
     "metadata": {},
     "output_type": "display_data"
    },
    {
     "data": {
      "text/html": [
       "Run data is saved locally in <code>/home/kaustubh/RuBisCO_ML/ESM_LoRA/analysis/wandb/run-20250311_220220-g45j21bs</code>"
      ],
      "text/plain": [
       "<IPython.core.display.HTML object>"
      ]
     },
     "metadata": {},
     "output_type": "display_data"
    },
    {
     "data": {
      "text/html": [
       "Syncing run <strong><a href='https://wandb.ai/kauamritkar-university-of-wisconsin-madison/uncategorized/runs/g45j21bs' target=\"_blank\">cool-sweep-10</a></strong> to <a href='https://wandb.ai/kauamritkar-university-of-wisconsin-madison/uncategorized' target=\"_blank\">Weights & Biases</a> (<a href='https://wandb.me/developer-guide' target=\"_blank\">docs</a>)<br>Sweep page: <a href='https://wandb.ai/kauamritkar-university-of-wisconsin-madison/uncategorized/sweeps/8gjc48ic' target=\"_blank\">https://wandb.ai/kauamritkar-university-of-wisconsin-madison/uncategorized/sweeps/8gjc48ic</a>"
      ],
      "text/plain": [
       "<IPython.core.display.HTML object>"
      ]
     },
     "metadata": {},
     "output_type": "display_data"
    },
    {
     "data": {
      "text/html": [
       " View project at <a href='https://wandb.ai/kauamritkar-university-of-wisconsin-madison/uncategorized' target=\"_blank\">https://wandb.ai/kauamritkar-university-of-wisconsin-madison/uncategorized</a>"
      ],
      "text/plain": [
       "<IPython.core.display.HTML object>"
      ]
     },
     "metadata": {},
     "output_type": "display_data"
    },
    {
     "data": {
      "text/html": [
       " View sweep at <a href='https://wandb.ai/kauamritkar-university-of-wisconsin-madison/uncategorized/sweeps/8gjc48ic' target=\"_blank\">https://wandb.ai/kauamritkar-university-of-wisconsin-madison/uncategorized/sweeps/8gjc48ic</a>"
      ],
      "text/plain": [
       "<IPython.core.display.HTML object>"
      ]
     },
     "metadata": {},
     "output_type": "display_data"
    },
    {
     "data": {
      "text/html": [
       " View run at <a href='https://wandb.ai/kauamritkar-university-of-wisconsin-madison/uncategorized/runs/g45j21bs' target=\"_blank\">https://wandb.ai/kauamritkar-university-of-wisconsin-madison/uncategorized/runs/g45j21bs</a>"
      ],
      "text/plain": [
       "<IPython.core.display.HTML object>"
      ]
     },
     "metadata": {},
     "output_type": "display_data"
    },
    {
     "name": "stderr",
     "output_type": "stream",
     "text": [
      "\u001b[34m\u001b[1mwandb\u001b[0m: \u001b[33mWARNING\u001b[0m Config item 'per_device_train_batch_size' was locked by 'sweep' (ignored update).\n",
      "\u001b[34m\u001b[1mwandb\u001b[0m: \u001b[33mWARNING\u001b[0m Config item 'learning_rate' was locked by 'sweep' (ignored update).\n",
      "/home/kaustubh/miniforge3/envs/lora_esm/lib/python3.13/site-packages/torch/nn/parallel/_functions.py:70: UserWarning: Was asked to gather along dimension 0, but all input tensors were scalars; will instead unsqueeze and return a vector.\n",
      "  warnings.warn(\n"
     ]
    },
    {
     "data": {
      "text/html": [
       "\n",
       "    <div>\n",
       "      \n",
       "      <progress value='15' max='15' style='width:300px; height:20px; vertical-align: middle;'></progress>\n",
       "      [15/15 00:02, Epoch 5/5]\n",
       "    </div>\n",
       "    <table border=\"1\" class=\"dataframe\">\n",
       "  <thead>\n",
       " <tr style=\"text-align: left;\">\n",
       "      <th>Epoch</th>\n",
       "      <th>Training Loss</th>\n",
       "      <th>Validation Loss</th>\n",
       "      <th>Accuracy</th>\n",
       "    </tr>\n",
       "  </thead>\n",
       "  <tbody>\n",
       "    <tr>\n",
       "      <td>1</td>\n",
       "      <td>No log</td>\n",
       "      <td>0.801540</td>\n",
       "      <td>0.583333</td>\n",
       "    </tr>\n",
       "    <tr>\n",
       "      <td>2</td>\n",
       "      <td>No log</td>\n",
       "      <td>0.792510</td>\n",
       "      <td>0.583333</td>\n",
       "    </tr>\n",
       "    <tr>\n",
       "      <td>3</td>\n",
       "      <td>No log</td>\n",
       "      <td>0.799709</td>\n",
       "      <td>0.583333</td>\n",
       "    </tr>\n",
       "    <tr>\n",
       "      <td>4</td>\n",
       "      <td>0.678500</td>\n",
       "      <td>0.802383</td>\n",
       "      <td>0.583333</td>\n",
       "    </tr>\n",
       "    <tr>\n",
       "      <td>5</td>\n",
       "      <td>0.678500</td>\n",
       "      <td>0.802370</td>\n",
       "      <td>0.583333</td>\n",
       "    </tr>\n",
       "  </tbody>\n",
       "</table><p>"
      ],
      "text/plain": [
       "<IPython.core.display.HTML object>"
      ]
     },
     "metadata": {},
     "output_type": "display_data"
    },
    {
     "name": "stdout",
     "output_type": "stream",
     "text": [
      "Predictions shape: (8,)\n",
      "Labels shape: (8,)\n"
     ]
    },
    {
     "name": "stderr",
     "output_type": "stream",
     "text": [
      "/home/kaustubh/miniforge3/envs/lora_esm/lib/python3.13/site-packages/peft/utils/save_and_load.py:246: UserWarning: Could not find a config file in /tmp/facebook/esm2_t6_8M_UR50D - will assume that the vocabulary was not modified.\n",
      "  warnings.warn(\n",
      "/home/kaustubh/miniforge3/envs/lora_esm/lib/python3.13/site-packages/torch/nn/parallel/_functions.py:70: UserWarning: Was asked to gather along dimension 0, but all input tensors were scalars; will instead unsqueeze and return a vector.\n",
      "  warnings.warn(\n"
     ]
    },
    {
     "name": "stdout",
     "output_type": "stream",
     "text": [
      "Predictions shape: (8,)\n",
      "Labels shape: (8,)\n"
     ]
    },
    {
     "name": "stderr",
     "output_type": "stream",
     "text": [
      "/home/kaustubh/miniforge3/envs/lora_esm/lib/python3.13/site-packages/peft/utils/save_and_load.py:246: UserWarning: Could not find a config file in /tmp/facebook/esm2_t6_8M_UR50D - will assume that the vocabulary was not modified.\n",
      "  warnings.warn(\n",
      "/home/kaustubh/miniforge3/envs/lora_esm/lib/python3.13/site-packages/torch/nn/parallel/_functions.py:70: UserWarning: Was asked to gather along dimension 0, but all input tensors were scalars; will instead unsqueeze and return a vector.\n",
      "  warnings.warn(\n"
     ]
    },
    {
     "name": "stdout",
     "output_type": "stream",
     "text": [
      "Predictions shape: (8,)\n",
      "Labels shape: (8,)\n"
     ]
    },
    {
     "name": "stderr",
     "output_type": "stream",
     "text": [
      "/home/kaustubh/miniforge3/envs/lora_esm/lib/python3.13/site-packages/peft/utils/save_and_load.py:246: UserWarning: Could not find a config file in /tmp/facebook/esm2_t6_8M_UR50D - will assume that the vocabulary was not modified.\n",
      "  warnings.warn(\n",
      "/home/kaustubh/miniforge3/envs/lora_esm/lib/python3.13/site-packages/torch/nn/parallel/_functions.py:70: UserWarning: Was asked to gather along dimension 0, but all input tensors were scalars; will instead unsqueeze and return a vector.\n",
      "  warnings.warn(\n"
     ]
    },
    {
     "name": "stdout",
     "output_type": "stream",
     "text": [
      "Predictions shape: (8,)\n",
      "Labels shape: (8,)\n"
     ]
    },
    {
     "name": "stderr",
     "output_type": "stream",
     "text": [
      "/home/kaustubh/miniforge3/envs/lora_esm/lib/python3.13/site-packages/peft/utils/save_and_load.py:246: UserWarning: Could not find a config file in /tmp/facebook/esm2_t6_8M_UR50D - will assume that the vocabulary was not modified.\n",
      "  warnings.warn(\n",
      "/home/kaustubh/miniforge3/envs/lora_esm/lib/python3.13/site-packages/torch/nn/parallel/_functions.py:70: UserWarning: Was asked to gather along dimension 0, but all input tensors were scalars; will instead unsqueeze and return a vector.\n",
      "  warnings.warn(\n",
      "/home/kaustubh/miniforge3/envs/lora_esm/lib/python3.13/site-packages/peft/utils/save_and_load.py:246: UserWarning: Could not find a config file in /tmp/facebook/esm2_t6_8M_UR50D - will assume that the vocabulary was not modified.\n",
      "  warnings.warn(\n",
      "/home/kaustubh/miniforge3/envs/lora_esm/lib/python3.13/site-packages/torch/nn/parallel/_functions.py:70: UserWarning: Was asked to gather along dimension 0, but all input tensors were scalars; will instead unsqueeze and return a vector.\n",
      "  warnings.warn(\n"
     ]
    },
    {
     "name": "stdout",
     "output_type": "stream",
     "text": [
      "Predictions shape: (8,)\n",
      "Labels shape: (8,)\n"
     ]
    },
    {
     "name": "stderr",
     "output_type": "stream",
     "text": [
      "/home/kaustubh/miniforge3/envs/lora_esm/lib/python3.13/site-packages/peft/utils/save_and_load.py:246: UserWarning: Could not find a config file in /tmp/facebook/esm2_t6_8M_UR50D - will assume that the vocabulary was not modified.\n",
      "  warnings.warn(\n",
      "/home/kaustubh/miniforge3/envs/lora_esm/lib/python3.13/site-packages/peft/utils/save_and_load.py:246: UserWarning: Could not find a config file in /tmp/facebook/esm2_t6_8M_UR50D - will assume that the vocabulary was not modified.\n",
      "  warnings.warn(\n"
     ]
    }
   ],
   "source": [
    "train_protein_model()"
   ]
  },
  {
   "cell_type": "code",
   "execution_count": null,
   "metadata": {},
   "outputs": [],
   "source": []
  },
  {
   "cell_type": "code",
   "execution_count": 25,
   "metadata": {},
   "outputs": [],
   "source": [
    "from transformers import AutoModelForTokenClassification, AutoTokenizer\n",
    "from peft import PeftModel\n",
    "import torch\n",
    "import numpy as np\n",
    "import random"
   ]
  },
  {
   "cell_type": "code",
   "execution_count": 26,
   "metadata": {},
   "outputs": [],
   "source": [
    "model_path = \"/home/kaustubh/RuBisCO_ML/ESM_LoRA/training_runs/esm2_t6_8M-finetuned-lora\"\n",
    "base_model_path = \"facebook/esm2_t6_8M_UR50D\""
   ]
  },
  {
   "cell_type": "code",
   "execution_count": 9,
   "metadata": {},
   "outputs": [],
   "source": [
    "class CustomModel(EsmPreTrainedModel):\n",
    "    def __init__(self):\n",
    "        super().__init__(EsmConfig.from_pretrained(\"facebook/esm2_t6_8M_UR50D\"))\n",
    "        self.backbone = EsmModel.from_pretrained(\"facebook/esm2_t6_8M_UR50D\")\n",
    "\n",
    "        self.outputs = torch.nn.Linear(320, 1)\n",
    "\n",
    "    def forward(\n",
    "        self,\n",
    "        input_ids,\n",
    "        attention_mask=None,\n",
    "        token_type_ids=None,\n",
    "        position_ids=None,\n",
    "        labels=None,\n",
    "        inputs_embeds=None,\n",
    "        output_attentions=False,\n",
    "        output_hidden_states=False,\n",
    "        return_dict=True\n",
    "    ):\n",
    "        outputs = self.backbone(\n",
    "            input_ids,\n",
    "            inputs_embeds=inputs_embeds,\n",
    "            output_attentions=output_attentions,\n",
    "            output_hidden_states=output_hidden_states,\n",
    "            return_dict=return_dict\n",
    "        )\n",
    "\n",
    "        sequence_output = outputs.last_hidden_state # (B, L, 1280)\n",
    "        bos_emb = sequence_output[:,0] # (B, L, 1280) -> (B, 1280)\n",
    "        # outputs = [self.outputs[i](sequence_output) for i in range(5)]\n",
    "        pred = self.outputs(bos_emb).squeeze(1) # (B,)\n",
    "\n",
    "        # if labels, then we are training\n",
    "        loss = None\n",
    "        if labels is not None:\n",
    "            assert pred.shape == labels.shape, f\"{pred}, {labels}\"\n",
    "            loss_fn = torch.nn.BCEWithLogitsLoss(reduction=\"mean\")\n",
    "            loss = loss_fn(pred, labels.float())\n",
    "            # loss = sum(losses)/len(losses)\n",
    "\n",
    "        return {\n",
    "            \"loss\": loss,\n",
    "            \"last_hidden_state\": sequence_output,\n",
    "            \"logits\": pred\n",
    "        }\n",
    "\n",
    "    def get_embedding(\n",
    "        self,\n",
    "        input_ids,\n",
    "        attention_mask=None,\n",
    "        token_type_ids=None,\n",
    "        position_ids=None,\n",
    "        labels=None,\n",
    "        inputs_embeds=None,\n",
    "        output_attentions=False,\n",
    "        output_hidden_states=False,\n",
    "        return_dict=True\n",
    "    ):\n",
    "        outputs = self.backbone(\n",
    "            input_ids,\n",
    "            inputs_embeds=inputs_embeds,\n",
    "            output_attentions=output_attentions,\n",
    "            output_hidden_states=output_hidden_states,\n",
    "            return_dict=return_dict\n",
    "        )\n",
    "\n",
    "        return outputs"
   ]
  },
  {
   "cell_type": "code",
   "execution_count": 10,
   "metadata": {},
   "outputs": [
    {
     "name": "stderr",
     "output_type": "stream",
     "text": [
      "Some weights of EsmModel were not initialized from the model checkpoint at facebook/esm2_t6_8M_UR50D and are newly initialized: ['esm.pooler.dense.bias', 'esm.pooler.dense.weight']\n",
      "You should probably TRAIN this model on a down-stream task to be able to use it for predictions and inference.\n"
     ]
    }
   ],
   "source": [
    "base_model = CustomModel()\n",
    "loaded_model = PeftModel.from_pretrained(base_model, model_path)\n",
    "# loaded_model.eval()\n",
    "# Load base_model_path to base_model\n",
    "# base_model.load_state_dict(torch.load(model_path))"
   ]
  },
  {
   "cell_type": "code",
   "execution_count": 15,
   "metadata": {},
   "outputs": [],
   "source": [
    "loaded_tokenizer = AutoTokenizer.from_pretrained(model_path)"
   ]
  },
  {
   "cell_type": "code",
   "execution_count": 16,
   "metadata": {},
   "outputs": [],
   "source": [
    "train_set_seqs = ['MSKRYTDFVDLNYTPKENDLICTFHIEPADGVDLEEAAGRVAAESSIGTWTDVSTMPEIWEKLKARVYEIDETGNIVKIAYPLDLFEPGNIPQILSSIAGNIFGMKAVKNLRLLDIRFPKELVKSFKGPKFGIEGVRELLGVYDRPLVGTIVKPKVGLSAEEHAEVAYEAWVGGLDLVKDDENLTSQPFNPFEERVKKVMEARDKAEEETGEKKVYLVNITAPTEEMIRRAELVADLGGKYVMIDIITAGFSAVQSLREEDLGLAIHAHRAMHAAFTRNPKHGISMLVLAKLARLVGVDQLHIGTVVGKMEGDKEEVLAIRDALRLDRVPADEANHFLEQDWYNIKPVFPVASGGLHPGLVPDLIDIFGKDVIIQAGGGVHGHPDGTRAGAKALRQAIEAAMEGISLEEYAKEHPELKKALEKWGHVR',\n",
    "  'MSKRYTDYIDLNYTPKENDLICTFHIEPADGVDLEEAAGRVAAESSTGTWTDVSTMPEIVEKLKARVYEIDETGNIVKIAYPLDLFEPGNIPQILSSIAGNIFGMKAVKNLRLLDIRFPKELVKSFKGPKFGIEGVRELLGVYDRPLVGTIVKPKVGLSAEEHAEVAYEAWVGGLDLIKDDENLTSQPFNPFEERVKKVLEARDKAEEETGEKKVYLVNITAPTEEMIRRAELVADLGGKYVMIDIITAGFSAVQSLREEDLGLAIHAHRAMHAAFTRNPKHGISMLVLAKLARLVGVDQLHIGTVVGKMEGDKEEVLAIRDALRLDRVPADEANHFLEQDWYNIKPVFPVASGGLHPGLVPDLIDIFGKDVIIQAGGGVHGHPDGTRAGAKALRQAIEAVMEGISLEEYAKEHKELKKALEKWGHVR',\n",
    "  'MSRYTDYVDLNYTPKENDLICTFHIEPADGVDLEEAAGRVAAESSTGTWTDVSTMKPEIWEKLKARVYEIDESGNIVKIAYPLDLFEPGNIPQILSSIAGNIFGMKAVKNLRLLDIHFPKELVKSFKGPKFGIEGVRELLGVYDRPLVGTIVKPKVGLSAEEHAEVAYEAWVGGLDLIKDDENLTSQPFNPFEERVKKVMEARDKAEEETGEKKVYLVNITAPTEEMIRRAELVKDLGGKYVMIDIITAGFSAVQSLREEDLGLAIHAHRAMHAAFTRNPKHGISMLVLAKLARLVGVDQLHIGTVVGKMEGDKEEVLAIRDALRLDRVPADEANHFLEQDWYNIKPVFPVASGGLHPGLVPDLIDIFGKDVIIQAGGGVHGHPDGTRAGAKAMRQAIEAAMEGISLEEYAKEHPELAKALEKWGHVR',\n",
    "  'MSRYTDYVDLNYTPKENDLICTFHIEPADGVDLEEAAGRVAAESSIGTWTDVSTMPEIWEKLKARVYEIDESGNIVKIAYPLDLFEPGNIPQILSSIAGNIFGMKAVKNLRLLDIRFPKELVKSFKGPKFGIEGVRELLGVYDRPLVGTIVKPKVGLSAEEHAEVAYEAWVGGLDLVKDDENLTSQPFNPFEERVKKVLEARDKAEEETGEKKVYLVNITAPTEEMIRRAELVKDLGGKYVMIDIITAGFSAVQSLREEDLGLAIHAHRAMHAAFTRNPKHGISMLVLAKLARLVGVDQLHIGTGVGKMEGDKEEVLAIRDALRLDRVPADEANHFLEQDWYNIKPVFPVASGGLHPGLVPDLIDIFGKDVIIQAGGGVHGHPDGTRAGAKALRQAIEAAMEGISLEEYAKEHPELAKALEKWGHVRK',\n",
    "  'MSKRYTDYVDLNYTPKENDLICTFHIEPADGVDLEEAAGRVAAESSIGTWTDVSTMPEIWEKLKARVYEIDETGNIVKIAYPLDLFEPGNIPQILSSIAGNIFGMKAVKNLRLLDIHFPKELVKSFKGPKFGIEGVRELLGVYDRPLVGTIVKPKVGLSAEEHAEVAYEAWVGGIDLVKDDENLTSQPFNPFEERVKKVLEARDKAEEETGEKKVYLVNITAPTEEMIRRAELVKDLGGKYVMIDIITAGFSAVQSLREEDLGLAIHAHRAMHAAFTRNPKHGISMLVLAKLARLVGVDQLHIGTVVGKMEGDKEEVLAIRDALRLDRVPADEANHFLEQDWYNIKPVFPVASGGLHPGLVPDLIDIFGKDVIIQAGGGVHGHPDGTRAGAKALRQAIEAAMEGISLEEYAKEHPELAKALEKWGHVP',\n",
    "  'MSKRYTDYVDLNYTPKENDLICTFHIEPADGVDLEEAAGRVAAESSIGTWTDVSTMPEIWEKLKARVYEIDESGNIVKIAYPLDLFEPGNIPQILSSIAGNIFGMKAVKNLRLLDIRFPKELVKSFKGPKFGIEGVRELLGVYDRPLVGTIVKPKVGLSAEEHAEVAYEAWVGGIDLVKDDENLTSQPFNPFEERVKKVMEARDKAEEETGEKKVYLVNITAPTEEMIRRAELVKDLGGKYVMIDIITAGFSAVQSLREEDLGLAIHAHRAMHAAFTRNPKHGISMLVLAKLARLVGVDQLHIGTVVGKMEGDKEEVLAIRDALRLDRVPADEANHFLEQDWYNIKPVFPVASGGLHPGLVPDLIDIFGKDIIIQAGGGVHGHPDGTRAGAKAMRQAIEAVMEGISLEEYAKEHKELAKALEKWGHV',\n",
    "  'MSKRYTDYIDLNYTPKENDLICTFHIEPADGVDLEEAAGRVAAESSIGTWTDVSTMPEIVEKLKARVYEIDESGNIVKIAYPLDLFEPGNIPQILSSIAGNIFGMKAVKNLRLLDIRFPEELVKSFKGPKFGIEGVRELLGVYDRPLVGTIVKPKVGLSAEEHAEVAYEAWVGGLDLIKDDENLTSQPFNPFEERVKKVMEARDKAEEETGEKKVYLVNITAPTEEMIRRAELVKDLGGKYVMIDIITAGFSAVQSLREEDLGLAIHAHRAMHAAFTRNPKHGISMLVLAKLARLVGVDQLHIGTVVGKMEGDKEEVLAIRDALRLDRVPADEANHFLEQDWYNIKPVFPVASGGLHPGLVPDLIDIFGKDVIIQAGGGVHGHPDGTRAGAKAMRQAIEAAMEGISLEEYAKEHPELKKALEKWGHVP',\n",
    "  'MSRYTDYVDLNYTPKENDLICTFHIEPADGVDLEEAAGRVAAESSTGTWTDVSTMPEIVEKLKARVYEIDESGNIVKIAYPLDLFEPGNIPQILSSIAGNIFGMKAVKNLRLLDIRFPKELVKSFKGPKFGIEGVRELLGVYDRPLVGTIVKPKVGLSAEEHAEVAYEAWVGGLDLVKDDENLTSQPFNPFEERVKKVLEARDKAEEETGEKKVYLVNITAPTEEMIRRAELVKDLGGKYVMIDIITAGFSAVQSLREEDLGLAIHAHRAMHAAFTRNPKHGISMLVLAKLARLVGVDQLHIGTVVGKMEGDKEEVLAIRDALRLDRVPADEANHFLEQDWYNIKPVFPVASGGLHPGLVPDLIDIFGKDIIIQAGGGVHGHPDGTRAGAKAMRQAIEAVMEGISLEEYAKEHKELKKALEKWGHRPK',\n",
    "  'MSRYTDYVDLNYTPKENDLICTFHIEPADGVDLEEAAGRVAAESSIGTWTDVSTMPEIWEKLKARVYEIDESGNIVKIAYPLDLFEPGNIPQILSSIAGNIFGMKAVKNLRLLDIRFPEELVKSFKGPKFGIEGVRELLGVYDRPLVGTIVKPKVGLSAEEHAEVAYEAWVGGLDLVKDDENLTSQPFNPFEERVKKVMEARDKAEEETGEKKVYLVNITAPTEEMIRRAELVKDLGGKYVMIDIITAGFSAVQSLREEDLGLAIHAHRAMHAAFTRNPKHGISMLVLAKLARLVGVDQLHIGTVVGKMEGDKEEVLAIRDALRLDRVPADEANHFLEQDWYNIKPVFPVASGGLHPGLVPDLIDIFGKDVIIQAGGGVHGHPDGTRAGAKAMRQAIEAVMEGISLEEYAKEHKELKKALEKWGHVRPK',\n",
    "  'MSKRYTDYIDLNYTPKENDLICTFHIEPADGVDLEEAAGRVAAESSTGTWTDVSTMPEIVEKLKARVYEIDESGNIVKIAYPLDLFEPGNIPQILSSIAGNIFGMKAVKNLRLLDIRFPKELVKSFKGPKFGIEGVRELLGVYDRPLVGTIVKPKVGLSAEEHAEVAYEAWVGGLDLVKDDENLTSQPFNPFEERVKKVLEARDKAEEETGEKKVYLVNITAPTEEMIRRAELVADLGGKYVMIDIITAGFSAVQSLREEDLGLAIHAHRAMHAAFTRNPKHGISMLVLAKLARLVGVDQLHIGTVVGKMEGDKEEVLAIRDALRLDRVPADEANHFLEQDWYNIKPVFPVASGGLHPGLVPDLIDIFGKDVIIQAGGGVHGHPDGTRAGAKALRQAIEAVMEGISLEEYAKEHKELKKALEKWGHVR',\n",
    "  'MSKYTDYVDLNYTPKENDLICTFHIEPADGVDLEEAAGRVAAESSIGTWTDVSTMPEIWEKLKARVYEIDESGNIVKIAYPLDLFEPGNIPQILSSIAGNIFGMKAVKNLRLLDIRFPEELVKSFKGPKFGIEGVRELLGVYDRPLVGTIVKPKVGLSAEEHAEVAYEAWVGGLDLVKDDENLTSQPFNPFEERVKKVLEARDKAEEETGEKKVYLVNITAPTEEMIRRAELVADLGGKYVMIDIITAGFSAVQSLREEDLGLAIHAHRAMHAAFTRNPKHGISMLVLAKLARLVGVDQLHIGTVVGKMEGDKEEVLAIRDALRLDRVPADEANHFLEQDWYNIKPVFPVASGGLHPGLVPDLIDIFGKDIIIQAGGGVHGHPDGTRAGAKALRQAIEAAMEGISLEEYAKEHPELKKALEKWGHVR',\n",
    "  'MSKRYTDYIDLNYTPKENDLICTFHIEPADGVDLEEAAGRVAAESSIGTWTDVSTMPEIVEKLKARVYEIDESGNIVKIAYPLDLFEPGNIPQILSSIAGNIFGMKAVKNLRLLDIRFPKELVKSFKGPKFGIEGVRELLGVYDRPLVGTIVKPKVGLSAEEHAEVAYEAWVGGLDLVKDDENLTSQPFNPFEERVKKVLEARDKAEEETGEKKVYLVNITAPTEEMIRRAELVADLGGKYVMIDIITAGFSAVQSLREEDLGLAIHAHRAMHAAFTRNPKHGISMLVLAKLARLVGVDQLHIGTVVGKMEGDKEEVLAIRDALRLDRVPADEANHFLEQDWYNIKPVFPVASGGLHPGLVPDLIDIFGKDVIIQAGGGVHGHPDGTRAGAKALRQAIEAVMEGISLEEYAKEHPELKKALEKWGHVK',\n",
    "  'MSKRYTDYIDLNYTPKENDLICTFHIEPADGVDLEEAAGRVAAESSIGTWTDVSTMPEIWEKLKARVYEIDESGNIVKIAYPLDLFEPGNIPQILSSIAGNIFGMKAVKNLRLLDIRFPEELVKSFKGPKFGIEGVRELLGVYDRPLVGTIVKPKVGLSAEEHAEVAYEAWVGGLDLVKDDENLTSQPFNPFEERVKKVMEARDKAEEETGEKKVYLVNITAPTEEMIRRAELVKDLGGKYVMIDIITAGFSAVQSLREEDLGLAIHAHRAMHAAFTRNPKHGISMLVLAKLARLVGVDQLHIGTVVGKMEGDKEEVLAIRDALRLDRVPADEANHFLEQDWYNIKPVFPVASGGLHPGLVPDLIDIFGKDVIIQAGGGVHGHPDGTRAGAKALRQAIEAAMEGISLEEYAKEHPELKKALEKWGHVPK',\n",
    "  'MSRYTDYVDLNYTPKENDLICTFHIEPADGVDLEEAAGRVAAESSIGTWTDVSTMPEIWEKLKARVYEIDETGNIVKIAYPLDLFEPGNIPQILSSIAGNIFGMKAVKNLRLLDIRFPEELVKSFKGPKFGIEGVRELLGVYDRPLVGTIVKPKVGLSAEEHAEVAYEAWVGGLDLVKDDENLTSQPFNPFEERVKKVLEARDKAEEETGEKKVYLVNITAPTEEMIRRAELVADLGGKYVMIDIITAGFSAVQSLREEDLGLAIHAHRAMHAAFTRNPKHGISMLVLAKLARLVGVDQLHIGTGVGKMEGDKEEVLAIRDALRLDRVPADEANHFLEQDWYNIKPVFPVASGGLHPGLVPDLIDIFGKDIIIQAGGGVHGHPDGTRAGAKALRQAIEAVMEGISLEEYAKEHKELKKALEKWGHVR',\n",
    "  'MSKRYTDYIDLNYTPKENDLICTFHIEPADGVDLEEAAGRVAAESSTGTWTDVSTMPEIWEKLKARVYEIDESGNIVKIAYPLDLFEPGNIPQILSSIAGNIFGMKAVKNLRLLDIRFPKELVKSFKGPKFGIEGVRELLGVYDRPLVGTIVKPKVGLSAEEHAEVAYEAWVGGLDLVKDDENLTSQPFNPFEERVKKVLEARDKAEEETGEKKVYLVNITAPTEEMIRRAELVADLGGKYVMIDIITAGFSAVQSLREEDLGLAIHAHRAMHAAFTRNPKHGISMLVLAKLARLVGVDQLHIGTVVGKMEGDKEEVLAIRDALRLDRVPADEANHFLEQDWYNIKPVFPVASGGLHPGLVPDLIDIFGKDVIIQAGGGVHGHPDGTRAGAKALRQAIEAAMEGISLEEYAKEHPELAKALEKWGHVR',\n",
    "  'MSKRYTDYVDLNYTPKENDLICTFHIEPADGVDLEEAAGRVAAESSIGTWTDVSTMPEIWEKLKARVYEIDETGNIVKIAYPLDLFEPGNIPQILSSIAGNIFGMKAVKNLRLLDIRFPEELVKSFKGPKFGIEGVRELLGVYDRPLVGTIVKPKVGLSAEEHAEVAYEAWVGGLDLVKDDENLTSQPFNPFEERVKKVLEARDKAEEETGEKKVYLVNITAPTEEMIRRAELVKDLGGKYVMIDIITAGFSAVQSLREEDLGLAIHAHRAMHAAFTRNPKHGISMLVLAKLARLVGVDQLHIGTVVGKMEGDKEEVLAIRDALRLDRVPADEANHFLEQDWYNIKPVFPVASGGLHPGLVPDLIDIFGKDIIIQAGGGVHGHPDGTRAGAKAMRQAIEAVMEGISLEEYAKEHPELAKALEKWGHVR',\n",
    "  'MSRYTDYVDLNYTPKENDLICTFHIEPADGVDLEEAAGRVAAESSTGTWTDVSTMPEIWEKLKARVYEIDESGNIVKIAYPLDLFEPGNIPQILSSIAGNIFGMKAVKNLRLLDIRFPEELVKSFKGPKFGIEGVRELLGVYDRPLVGTIVKPKVGLSAEEHAEVAYEAWVGGLDLIKDDENLTSQPFNPFEERVKKVMEARDKAEEETGEKKVYLVNITAPTEEMIRRAELVKDLGGKYVMIDIITAGFSAVQSLREEDLGLAIHAHRAMHAAFTRNPKHGISMLVLAKLARLVGVDQLHIGTVVGKMEGDKEEVLAIRDALRLDRVPADEANHFLEQDWYNIKPVFPVASGGLHPGLVPDLIDIFGKDVIIQAGGGVHGHPDGTRAGAKAMRQAIEAVMEGISLEEYAKEHPELKKALEKWGHV',\n",
    "  'MSKRYTDYVDLNYTPKENDLICCFHIEPADGVDLEEAAGRVAAESSIGTWTDVSTMPEIVEKLKARVYEIDESGNIVKIAYPLDLFEPGNIPQILSSIAGNIFGMKAVKNLRLLDIRFPKELVKSFKGPKFGIEGVRELLGVYDRPLVGTIVKPKVGLSAEEHAEVAYEAWVGGLDLIKDDENLTSQPFNPFEERVKKVLEARDKAEEETGEKKVYLVNITAPTEEMIRRAELVKDLGGKYVMIDIITAGFSAVQSLREEDLGLAIHAHRAMHAAFTRNPKHGISMLVLAKLARLVGVDQLHIGTVVGKMEGDKEEVLAIRDALRLDRVPADEANHFLEQDWYNIKPVFPVASGGLHPGLVPDLIDIFGKDVIIQAGGGVHGHPDGTRAGAKALRQAIEAVMEGISLEEYAKEHKELAKALEKWGHRP',\n",
    "  'MSKRYTDYIDLNYTPKENDLICTFHIEPADGVDLEEAAGRVAAESSIGTWTDVSTMPEIWEKLKARVYEIDESGNIVKIAYPLDLFEPGNIPQILSSIAGNIFGMKAVKNLRLLDIRFPKELVKSFKGPKFGIEGVRELLGVYDRPLVGTIVKPKVGLSAEEHAEVAYEAWVGGLDLVKDDENLTSQPFNPFEERVKKVLEARDKAEEETGEKKVYLVNITAPTEEMIRRAELVKDLGGKYVMIDIITAGFSAVQSLREEDLGLAIHAHRAMHAAFTRNPKHGISMLVLAKLARLVGVDQLHIGTGVGKMEGDKEEVLAIRDALRLDRVPADEANHFLEQDWYNIKPVFPVASGGLHPGLVPDLIDIFGKDIIIQAGGGVHGHPDGTRAGAKAMRQAIEAVMEGISLEEYAKEHKELAKALEKWGHVPK',\n",
    "  'MSRYTDYVDLNYTPKENDLICTFHIEPADGVDLEEAAGRVAAESSIGTWTDVSTMPEIWEKLKARVYEIDESGNIVKIAYPLDLFEPGNIPQILSSIAGNIFGMKAVKNLRLLDIRFPKELVKSFKGPKFGIEGVRELLGVYDRPLVGTIVKPKVGLSAEEHAEVAYEAWVGGLDLIKDDENLTSQPFNPFEERVKKTLEARDKAEEETGEKKVYLVNITAPTEEMIRRAELVKDLGGKYVMIDIITAGFSAVQSLREEDLGLAIHAHRAMHAAFTRNPKHGISMLVLAKLARLVGVDQLHIGTGVGKMEGDKEEVLAIRDALRLDRVPADEANHFLEQDWYNIKPVFPVASGGLHPGLVPDLIDIFGKDIIIQAGGGVHGHPDGTRAGAKALRQAIEAVMEGISLEEYAKEHPELKKALEKWGHVR',\n",
    "  'MSKYTDYVDLNYTPKENDLICTFHIEPADGVDLEEAAGRVAAESSIGTWTDVSTMPEIWEKLKARVYEIDETGNIVKIAYPLDLFEPGNIPQILSSIAGNIFGMKAVKNLRLLDIRFPKELVKSFKGPKFGIEGVRELLGVYDRPLVGTIVKPKVGLSAEEHAEVAYEAWVGGLDLIKDDENLTSQPFNPFEERVKKVMEARDKAEEETGEKKVYLVNITAPTEEMIRRAELVKDLGGKYVMIDIITAGFSAVQSLREEDLGLAIHAHRAMHAAFTRNPKHGISMLVLAKLARLVGVDQLHIGTVVGKMEGDKEEVLAIRDALRLDRVPADEANHFLEQDWYNIKPVFPVASGGLHPGLVPDLIDIFGKDVIIQAGGGVHGHPDGTRAGAKAMRQAIEAVMEGISLEEYAKEHPELAKALEKWGHVRP',\n",
    "  'MSKRYTDYVDLNYTPKENDLICTFHIEPADGVDLEEAAGRVAAESSIGTWTDVSTMPEIWEKLKARVYEIDESGNIVKIAYPLDLFEPGNIPQILSSIAGNIFGMKAVKNLRLLDIRFPKELVKSFKGPKFGIEGVRELLGVYDRPLVGTIVKPKVGLSAEEHAEVAYEAWVGGLDLVKDDENLTSQPFNPFEERVKKVMEARDKAEEETGEKKVYLVNITAPTEEMIRRAELVKDLGGKYVMIDIITAGFSAVQSLREEDLGLAIHAHRAMHAAFTRNPKHGISMLVLAKLARLVGVDQLHIGTVVGKMEGDKEEVLAIRDALRLDRVPADEANHFLEQDWYNIKPVFPVASGGLHPGLVPDLIDIFGKDVIIQAGGGVHGHPDGTRAGAKALRQAIEAVMEGISLEEYAKEHKELKKALEKWGHVPK',\n",
    "  'MSRYTDYVDLNYTPKENDLICTFHIEPADGVDLEEAAGRVAAESSIGTWTDVSTMPEIWEKLKARVYEIDETGNIVKIAYPLDLFEPGNIPQILSSIAGNIFGMKAVKNLRLLDIRFPKELVKSFKGPKFGIEGVRELLGVYDRPLVGTIVKPKVGLSAEEHAEVAYEAWVGGLDLVKDDENLTSQPFNPFEERVKKVLEARDKAEEETGEKKVYLVNITAPTEEMIRRAELVADLGGKYVMIDIITAGFSAVQSLREEDLGLAIHAHRAMHAAFTRNPKHGISMLVLAKLARLVGVDQLHIGTVVGKMEGDKEEVLAIRDALRLDRVPADEANHFLEQDWYNIKPVFPVASGGLHPGLVPDLIDIFGKDIIIQAGGGVHGHPDGTRAGAKAMRQAIEAVMEGISLEEYAKEHKELAKALEKWGHVRPK',\n",
    "  'MSRYTDYVDLNYTPKENDLICTFHIEPADGVDLEEAAGRVAAESSIGTWTDVSTMKPEIWEKLKARVYEIDESGNIVKIAYPLDLFEPGNIPQILSSIAGNIFGMKAVKNLRLLDIHFPKELVKSFKGPKFGIEGVRELLGVYDRPLVGTIVKPKVGLSAEEHAEVAYEAWVGGLDLVKDDENLTSQPFNPFEERVKKVLEARDKAEEETGEKKVYLVNITAPTEEMIRRAELVKDLGGKYVMIDIITAGFSAVQSLREEDLGLAIHAHRAMHAAFTRNPKHGISMLVLAKLARLVGVDQLHIGTVVGKMEGDKEEVLAIRDALRLDRVPADEANHFLEQDWYNIKPVFPVASGGLHPGLVPDLIDIFGKDVIIQAGGGVHGHPDGTRAGAKALRQAIEAVMEGISLEEYAKEHPELAKALEKWGHVPK',\n",
    "  'MSKRYTDYVDLNYTPKENDLICTFHIEPADGVDLEEAAGRVAAESSTGTWTDVSTMKPEIWEKLKARVYEIDESGNIVKIAYPLDLFEPGNIPQILSSIAGNIFGMKAVKNLRLLDIRFPEELVKSFKGPKFGIEGVRELLGVYDRPLVGTIVKPKVGLSAEEHAEVAYEAWVGGLDLVKDDENLTSQPFNPFEERVKKVMEARDKAEEETGEKKVYLVNITAPTEEMIRRAELVADLGGKYVMIDIITAGFSAVQSLREEDLGLAIHAHRAMHAAFTRNPKHGISMLVLAKLARLVGVDQLHIGTVVGKMEGDKEEVLAIRDALRLDRVPADEANHFLEQDWYNIKPVFPVASGGLHPGLVPDLIDIFGKDVIIQAGGGVHGHPDGTRAGAKAMRQAIEAVMEGISLEEYAKEHKELKKALEKWGHVR',\n",
    "  'MSTDYIDLNYTPKENDLICCFHIEPADGVDLEEAAGRVAAESSIGTWTDVSTMKPEIWEKLKARVYEIDETGNIVKIAYPLDLFEPGNIPQILSSIAGNIFGMKAVKNLRLLDIRFPKELVKSFKGPKFGIEGVRELLGVYDRPLVGTIVKPKVGLSAEEHAEVAYEAWVGGLDLVKDDENLTSQPFNPFEERVKKTLEARDKAEEETGEKKVYLVNITAPTEEMIRRAELVKDLGGKYVMIDIITAGFSAVQSLREEDLGLAIHAHRAMHAAFTRNPKHGISMLVLAKLARLVGVDQLHIGTVVGKMEGDKEEVLAIRDALRLDRVPADEANHFLEQDWYNIKPVFPVASGGLHPGLVPDLIDIFGKDVIIQAGGGVHGHPDGTRAGAKAMRQAIEAAMEGISLEEYAKEHKELKKALEKWGH',\n",
    "  'MSRYTDYVDLNYTPKENDLICCFHIEPADGVDLEEAAGRVAAESSTGTWTDVSTMPEIWEKLKARVYEIDESGNIVKIAYPLDLFEPGNIPQILSSIAGNIFGMKAVKNLRLLDIRFPEELVKSFKGPKFGIEGVRELLGVYDRPLVGTIVKPKVGLSAEEHAEVAYEAWVGGLDLVKDDENLTSQPFNPFEERVKKVLEARDKAEEETGEKKVYLVNITAPTEEMIRRAELVKDLGGKYVMIDIITAGFSAVQSLREEDLGLAIHAHRAMHAAFTRNPKHGISMLVLAKLARLVGVDQLHIGTGVGKMEGDKEEVLAIRDALRLDRVPADEANHFLEQDWYNIKPVFPVASGGLHPGLVPDLIDIFGKDIIIQAGGGVHGHPDGTRAGAKALRQAIEAAMEGISLEEYAKEHKELAKALEKWGHVR',\n",
    "  'MSRYTDYVDLNYTPKENDLICTFHIEPADGVDLEEAAGRVAAESSIGTWTDVSTMKPEIWEKLKARVYEIDESGNIVKIAYPLDLFEPGNIPQILSSIAGNIFGMKAVKNLRLLDIRFPEELVKSFKGPKFGIEGVRELLGVYDRPLVGTIVKPKVGLSAEEHAEVAYEAWVGGLDLVKDDENLTSQPFNPFEERVKKVMEARDKAEEETGEKKVYLVNITAPTEEMIRRAELVKDLGGKYVMIDIITAGFSAVQSLREEDLGLAIHAHRAMHAAFTRNPKHGISMLVLAKLARLVGVDQLHIGTVVGKMEGDKEEVLAIRDALRLDRVPADEANHFLEQDWYNIKPVFPVASGGLHPGLVPDLIDIFGKDIIIQAGGGVHGHPDGTRAGAKAMRQAIEAVMEGISLEEYAKEHPELKKALEKWGHVRP',\n",
    "  'MSKRYTDYVDLNYTPKENDLICTFHIEPADGVDLEEAAGRVAAESSTGTWTDVSTMPEIVEKLKARVYEIDESGNIVKIAYPLDLFEPGNIPQILSSIAGNIFGMKAVKNLRLLDIRFPKELVKSFKGPKFGIEGVRELLGVYDRPLVGTIVKPKVGLSAEEHAEVAYEAWVGGLDLVKDDENLTSQPFNPFEERVKKTLEARDKAEEETGEKKVYLVNITAPTEEMIRRAELVKDLGGKYVMIDIITAGFSAVQSLREEDLGLAIHAHRAMHAAFTRNPKHGISMLVLAKLARLVGVDQLHIGTVVGKMEGDKEEVLAIRDALRLDRVPADEANHFLEQDWYNIKPVFPVASGGLHPGLVPDLIDIFGKDVIIQAGGGVHGHPDGTRAGAKAMRQAIEAVMEGISLEEYAKEHPELKKALEKWGHVRP',\n",
    "  'MSKRYTDYVDLNYTPKENDLICTFHIEPADGVDLEEAAGRVAAESSIGTWTDVSTMPEIWEKLKARVYEIDETGNIVKIAYPLDLFEPGNIPQILSSIAGNIFGMKAVKNLRLLDIRFPEELVKSFKGPKFGIEGVRELLGVYDRPLVGTIVKPKVGLSAEEHAEVAYEAWVGGLDLIKDDENLTSQPFNPFEERVKKVMEARDKAEEETGEKKVYLVNITAPTEEMIRRAELVKDLGGKYVMIDIITAGFSAVQSLREEDLGLAIHAHRAMHAAFTRNPKHGISMLVLAKLARLVGVDQLHIGTVVGKMEGDKEEVLAIRDALRLDRVPADEANHFLEQDWYNIKPVFPVASGGLHPGLVPDLIDIFGKDIIIQAGGGVHGHPDGTRAGAKAMRQAIEAVMEGISLEEYAKEHPELKKALEKWGHV',\n",
    "  'MSKRYTDYIDLNYTPKENDLICCFHIEPADGVDLEEAAGRVAAESSIGTWTDVSTMPEIWEKLKARVYEIDESGNIVKIAYPLDLFEPGNIPQILSSIAGNIFGMKAVKNLRLLDIRFPKELVKSFKGPKFGIEGVRELLGVYDRPLVGTIVKPKVGLSAEEHAEVAYEAWVGGLDLVKDDENLTSQPFNPFEERVKKVLEARDKAEEETGEKKVYLVNITAPTEEMIRRAELVADLGGKYVMIDIITAGFSAVQSLREEDLGLAIHAHRAMHAAFTRNPKHGISMLVLAKLARLVGVDQLHIGTGVGKMEGDKEEVLAIRDALRLDRVPADEANHFLEQDWYNIKPVFPVASGGLHPGLVPDLIDIFGKDVIIQAGGGVHGHPDGTRAGAKALRQAIEAAMEGISLEEYAKEHPELAKALEKWGHVRP',\n",
    "  'MSRYTDYVDLNYTPKENDLICTFHIEPADGVDLEEAAGRVAAESSIGTWTDVSTMPEIWEKLKARVYEIDESGNIVKIAYPLDLFEPGNIPQILSSIAGNIFGMKAVKNLRLLDIRFPKELVKSFKGPKFGIEGVRELLGVYDRPLVGTIVKPKVGLSAEEHAEVAYEAWVGGLDLVKDDENLTSQPFNPFEERVKKVMEARDKAEEETGEKKVYLVNITAPTEEMIRRAELVADLGGKYVMIDIITAGFSAVQSLREEDLGLAIHAHRAMHAAFTRNPKHGISMLVLAKLARLVGVDQLHIGTVVGKMEGDKEEVLAIRDALRLDRVPADEANHFLEQDWYNIKPVFPVASGGLHPGLVPDLIDIFGKDIIIQAGGGVHGHPDGTRAGAKALRQAIEAAMEGISLEEYAKEHPELKKALEKWGHVK',\n",
    "  'MSKRYTDYVDLNYTPKENDLICTFHIEPADGVDLEEAAGRVAAESSTGTWTDVSTMPEIWEKLKARVYEIDETGNIVKIAYPLDLFEPGNIPQILSSIAGNIFGMKAVKNLRLLDIRFPKELVKSFKGPKFGIEGVRELLGVYDRPLVGTIVKPKVGLSAEEHAEVAYEAWVGGIDLVKDDENLTSQPFNPFEERVKKVLEARDKAEEETGEKKVYLVNITAPTEEMIRRAELVKDLGGKYVMIDIITAGFSAVQSLREEDLGLAIHAHRAMHAAFTRNPKHGISMLVLAKLARLVGVDQLHIGTVVGKMEGDKEEVLAIRDALRLDRVPADEANHFLEQDWYNIKPVFPVASGGLHPGLVPDLIDIFGKDIIIQAGGGVHGHPDGTRAGAKAMRQAIEAAMEGISLEEYAKEHPELKKALEKWGHVRK',\n",
    "  'MSKRYTDYIDLNYTPKENDLICTFHIEPADGVDLEEAAGRVAAESSIGTWTDVSTMPEIWEKLKARVYEIDESGNIVKIAYPLDLFEPGNIPQILSSIAGNIFGMKAVKNLRLLDIRFPKELVKSFKGPKFGIEGVRELLGVYDRPLVGTIVKPKVGLSAEEHAEVAYEAWVGGLDLVKDDENLTSQPFNPFEERVKKVMEARDKAEEETGEKKVYLVNITAPTEEMIRRAELVKDLGGKYVMIDIITAGFSAVQSLREEDLGLAIHAHRAMHAAFTRNPKHGISMLVLAKLARLVGVDQLHIGTVVGKMEGDKEEVLAIRDALRLDRVPADEANHFLEQDWYNIKPVFPVASGGLHPGLVPDLIDIFGKDIIIQAGGGVHGHPDGTRAGAKAMRQAIEAAMEGISLEEYAKEHPELKKALEKWGHVRPK',\n",
    "  'MSKRYTDYVDLNYTPKENDLICTFHIEPADGVDLEEAAGRVAAESSIGTWTDVSTMPEIWEKLKARVYEIDESGNIVKIAYPLDLFEPGNIPQILSSIAGNIFGMKAVKNLRLLDIRFPKELVKSFKGPKFGIEGVRELLGVYDRPLVGTIVKPKVGLSAEEHAEVAYEAWVGGLDLIKDDENLTSQPFNPFEERVKKTLEARDKAEEETGEKKVYLVNITAPTEEMIRRAELVADLGGKYVMIDIITAGFSAVQSLREEDLGLAIHAHRAMHAAFTRNPKHGISMLVLAKLARLVGVDQLHIGTVVGKMEGDKEEVLAIRDALRLDRVPADEANHFLEQDWYNIKPVFPVASGGLHPGLVPDLIDIFGKDVIIQAGGGVHGHPDGTRAGAKAMRQAIEAAMEGISLEEYAKEHKELAKALEKWGHVRPK',\n",
    "  'MSKRYTDYVDLNYTPKENDLICTFHIEPADGVDLEEAAGRVAAESSTGTWTDVSTMPEIVEKLKARVYEIDESGNIVKIAYPLDLFEPGNIPQILSSIAGNIFGMKAVKNLRLLDIRFPKELVKSFKGPKFGIEGVRELLGVYDRPLVGTIVKPKVGLSAEEHAEVAYEAWVGGLDLVKDDENLTSQPFNPFEERVKKVLEARDKAEEETGEKKVYLVNITAPTEEMIRRAELVKDLGGKYVMIDIITAGFSAVQSLREEDLGLAIHAHRAMHAAFTRNPKHGISMLVLAKLARLVGVDQLHIGTGVGKMEGDKEEVLAIRDALRLDRVPADEANHFLEQDWYNIKPVFPVASGGLHPGLVPDLIDIFGKDVIIQAGGGVHGHPDGTRAGAKAMRQAIEAVMEGISLEEYAKEHPELKKALEKWGHP',\n",
    "  'MSKRYTDYVDLNYTPKENDLICTFHIEPADGVDLEEAAGRVAAESSTGTWTDVSTMPEIWEKLKARVYEIDESGNIVKIAYPLDLFEPGNIPQILSSIAGNIFGMKAVKNLRLLDIRFPKELVKSFKGPKFGIEGVRELLGVYDRPLVGTIVKPKVGLSAEEHAEVAYEAWVGGLDLVKDDENLTSQPFNPFEERVKKVMEARDKAEEETGEKKVYLVNITAPTEEMIRRAELVKDLGGKYVMIDIITAGFSAVQSLREEDLGLAIHAHRAMHAAFTRNPKHGISMLVLAKLARLVGVDQLHIGTVVGKMEGDKEEVLAIRDALRLDRVPADEANHFLEQDWYNIKPVFPVASGGLHPGLVPDLIDIFGKDVIIQAGGGVHGHPDGTRAGAKALRQAIEAAMEGISLEEYAKEHPELAKALEKWGHR',\n",
    "  'MSKRYTDYIDLNYTPKENDLICTFHIEPADGVDLEEAAGRVAAESSTGTWTDVSTMPEIWEKLKARVYEIDETGNIVKIAYPLDLFEPGNIPQILSSIAGNIFGMKAVKNLRLLDIRFPKELVKSFKGPKFGIEGVRELLGVYDRPLVGTIVKPKVGLSAEEHAEVAYEAWVGGLDLIKDDENLTSQPFNPFEERVKKVLEARDKAEEETGEKKVYLVNITAPTEEMIRRAELVKDLGGKYVMIDIITAGFSAVQSLREEDLGLAIHAHRAMHAAFTRNPKHGISMLVLAKLARLVGVDQLHIGTGVGKMEGDKEEVLAIRDALRLDRVPADEANHFLEQDWYNIKPVFPVASGGLHPGLVPDLIDIFGKDVIIQAGGGVHGHPDGTRAGAKALRQAIEAVMEGISLEEYAKEHKELKKALEKWGHVRK',\n",
    "  'MSRYTDYVDLNYTPKENDLICTFHIEPADGVDLEEAAGRVAAESSTGTWTDVSTMPEIWEKLKARVYEIDESGNIVKIAYPLDLFEPGNIPQILSSIAGNIFGMKAVKNLRLLDIHFPKELVKSFKGPKFGIEGVRELLGVYDRPLVGTIVKPKVGLSAEEHAEVAYEAWVGGLDLIKDDENLTSQPFNPFEERVKKVLEARDKAEEETGEKKVYLVNITAPTEEMIRRAELVKDLGGKYVMIDIITAGFSAVQSLREEDLGLAIHAHRAMHAAFTRNPKHGISMLVLAKLARLVGVDQLHIGTVVGKMEGDKEEVLAIRDALRLDRVPADEANHFLEQDWYNIKPVFPVASGGLHPGLVPDLIDIFGKDIIIQAGGGVHGHPDGTRAGAKAMRQAIEAAMEGISLEEYAKEHKELAKALEKWGHVR',\n",
    "  'MSKRYTDYVDLNYTPKENDLICTFHIEPADGVDLEEAAGRVAAESSIGTWTDVSTMPEIVEKLKARVYEIDESGNIVKIAYPLDLFEPGNIPQILSSIAGNIFGMKAVKNLRLLDIRFPKELVKSFKGPKFGIEGVRELLGVYDRPLVGTIVKPKVGLSAEEHAEVAYEAWVGGLDLVKDDENLTSQPFNPFEERVKKVLEARDKAEEETGEKKVYLVNITAPTEEMIRRAELVADLGGKYVMIDIITAGFSAVQSLREEDLGLAIHAHRAMHAAFTRNPKHGISMLVLAKLARLVGVDQLHIGTVVGKMEGDKEEVLAIRDALRLDRVPADEANHFLEQDWYNIKPVFPVASGGLHPGLVPDLIDIFGKDIIIQAGGGVHGHPDGTRAGAKALRQAIEAAMEGISLEEYAKEHKELKKALEKWGHVR',\n",
    "  'MSRYTDYVDLNYTPKENDLICCFHIEPADGVDLEEAAGRVAAESSTGTWTDVSTMPEIWEKLKARVYEIDESGNIVKIAYPLDLFEPGNIPQILSSIAGNIFGMKAVKNLRLLDIRFPKELVKSFKGPKFGIEGVRELLGVYDRPLVGTIVKPKVGLSAEEHAEVAYEAWVGGLDLVKDDENLTSQPFNPFEERVKKVMEARDKAEEETGEKKVYLVNITAPTEEMIRRAELVKDLGGKYVMIDIITAGFSAVQSLREEDLGLAIHAHRAMHAAFTRNPKHGISMLVLAKLARLVGVDQLHIGTVVGKMEGDKEEVLAIRDALRLDRVPADEANHFLEQDWYNIKPVFPVASGGLHPGLVPDLIDIFGKDIIIQAGGGVHGHPDGTRAGAKALRQAIEAVMEGISLEEYAKEHPELAKALEKWGHV',\n",
    "  'MSKRYTDYVDLNYTPKENDLICTFHIEPADGVDLEEAAGRVAAESSIGTWTDVSTMKPEIWEKLKARVYEIDESGNIVKIAYPLDLFEPGNIPQILSSIAGNIFGMKAVKNLRLLDIRFPEELVKSFKGPKFGIEGVRELLGVYDRPLVGTIVKPKVGLSAEEHAEVAYEAWVGGLDLVKDDENLTSQPFNPFEERVKKVLEARDKAEEETGEKKVYLVNITAPTEEMIRRAELVKDLGGKYVMIDIITAGFSAVQSLREEDLGLAIHAHRAMHAAFTRNPKHGISMLVLAKLARLVGVDQLHIGTGVGKMEGDKEEVLAIRDALRLDRVPADEANHFLEQDWYNIKPVFPVASGGLHPGLVPDLIDIFGKDIIIQAGGGVHGHPDGTRAGAKALRQAIEAVMEGISLEEYAKEHKELKKALEKWGHVP',\n",
    "  'MSKYTDYVDLNYTPKENDLICTFHIEPADGVDLEEAAGRVAAESSIGTWTDVSTMPEIWEKLKARVYEIDETGNIVKIAYPLDLFEPGNIPQILSSIAGNIFGMKAVKNLRLLDIRFPKELVKSFKGPKFGIEGVRELLGVYDRPLVGTIVKPKVGLSAEEHAEVAYEAWVGGLDLVKDDENLTSQPFNPFEERVKKVLEARDKAEEETGEKKVYLVNITAPTEEMIRRAELVADLGGKYVMIDIITAGFSAVQSLREEDLGLAIHAHRAMHAAFTRNPKHGISMLVLAKLARLVGVDQLHIGTGVGKMEGDKEEVLAIRDALRLDRVPADEANHFLEQDWYNIKPVFPVASGGLHPGLVPDLIDIFGKDVIIQAGGGVHGHPDGTRAGAKAMRQAIEAVMEGISLEEYAKEHPELAKALEKWGHVRP',\n",
    "  'MSKRYTDYIDLNYTPKENDLICTFHIEPADGVDLEEAAGRVAAESSTGTWTDVSTMPEIVEKLKARVYEIDESGNIVKIAYPLDLFEPGNIPQILSSIAGNIFGMKAVKNLRLLDIHFPKELVKSFKGPKFGIEGVRELLGVYDRPLVGTIVKPKVGLSAEEHAEVAYEAWVGGLDLIKDDENLTSQPFNPFEERVKKVLEARDKAEEETGEKKVYLVNITAPTEEMIRRAELVKDLGGKYVMIDIITAGFSAVQSLREEDLGLAIHAHRAMHAAFTRNPKHGISMLVLAKLARLVGVDQLHIGTVVGKMEGDKEEVLAIRDALRLDRVPADEANHFLEQDWYNIKPVFPVASGGLHPGLVPDLIDIFGKDVIIQAGGGVHGHPDGTRAGAKAMRQAIEAVMEGISLEEYAKEHKELKKALEKWGHVR']\n",
    "train_set_labels = [1, 1, 1, 1, 1, 1, 0, 0, 0, 0, 1, 0, 1, 0, 0, 0, 1, 0, 1, 1, 1, 0, 0, 0, 1, 0, 1, 0, 0, 1, 1, 1, 1, 1, 1, 1, 0, 1, 1, 0, 1, 0, 1, 1]"
   ]
  },
  {
   "cell_type": "code",
   "execution_count": 12,
   "metadata": {},
   "outputs": [],
   "source": [
    "## Copy pasting the entries and labels from the validation set with random manual seed(42)\n",
    "\n",
    "val_set_seqs = ['MSKRYTDYVDLNYTPKENDLICTFHIEPADGVDLEEAAGRVAAESSTGTWTDVSTMKPEIWEKLKARVYEIDESGNIVKIAYPLDLFEPGNIPQILSSIAGNIFGMKAVKNLRLLDIRFPKELVKSFKGPKFGIEGVRELLGVYDRPLVGTIVKPKVGLSAEEHAEVAYEAWVGGLDLVKDDENLTSQPFNPFEERVKKVLEARDKAEEETGEKKVYLVNITAPTEEMIRRAELVKDLGGKYVMIDIITAGFSAVQSLREEDLGLAIHAHRAMHAAFTRNPKHGISMLVLAKLARLVGVDQLHIGTGVGKMEGDKEEVLAIRDALRLDRVPADEANHFLEQDWYNIKPVFPVASGGLHPGLVPDLIDIFGKDVIIQAGGGVHGHPDGTRAGAKALRQAIEAAMEGISLEEYAKEHPELAKALEKWGHVP',\n",
    "  'MSKRYTDYVDLNYTPKENDLICCFHIEPADGVDLEEAAGRVAAESSTGTWTDVSTMPEIWEKLKARVYEIDESGNIVKIAYPLDLFEPGNIPQILSSIAGNIFGMKAVKNLRLLDIRFPEELVKSFKGPKFGIEGVRELLGVYDRPLVGTIVKPKVGLSAEEHAEVAYEAWVGGLDLVKDDENLTSQPFNPFEERVKKVLEARDKAEEETGEKKVYLVNITAPTEEMIRRAELVKDLGGKYVMIDIITAGFSAVQSLREEDLGLAIHAHRAMHAAFTRNPKHGISMLVLAKLARLVGVDQLHIGTVVGKMEGDKEEVLAIRDALRLDRVPADEANHFLEQDWYNIKPVFPVASGGLHPGLVPDLIDIFGKDIIIQAGGGVHGHPDGTRAGAKAMRQAIEAAMEGISLEEYAKEHKELAKALEKWGHVRP',\n",
    "  'MSGITYEDFLDLSYEPTDTDLVCTFRIEPAEGMSMEAAASRVASESSNGTWAALQVDDDITDLSATTFSIDGNTIKVAYPAGLFEAGNMPQILSCIAGNIMGMKAVDTIRLLDCEWPESIVSSFPGPQFGSSVRQEIFGVDDRPITATVPKPKVGLSTEQHAQIGYEAWVGGLDLLKDDENLTDQAFNPFEDRLTESLAMRDKAEDETGEKKSYLVNITAETNEMLERADMVAEQGGEYVMVDVITAGWAAVQTVRERCEDLGLAIHAHRAMHAAFDRLPSHGVSMRVLAQIARLCGVDQLHTGTAGLGKLANEDTVGINEWLRSDLYGMNDVLPVASGGLHPGLVPELLDAAGTNICIQAGGGIHGHPDGTRAGAKALRQAVDAAVEGVSIEEYADDHPELATALDKWGTETPR',\n",
    "  'MSRYTDYVDLNYTPKENDLICTFHIEPADGVDLEEAAGRVAAESSIGTWTDVSTMPEIWEKLKARVYEIDESGNIVKIAYPLDLFEPGNIPQILSSIAGNIFGMKAVKNLRLLDIHFPKELVKSFKGPKFGIEGVRELLGVYDRPLVGTIVKPKVGLSAEEHAEVAYEAWVGGLDLVKDDENLTSQPFNPFEERVKKVLEARDKAEEETGEKKVYLVNITAPTEEMIRRAELVKDLGGKYVMIDIITAGFSAVQSLREEDLGLAIHAHRAMHAAFTRNPKHGISMLVLAKLARLVGVDQLHIGTVVGKMEGDKEEVLAIRDALRLDRVPADEANHFLEQDWYNIKPVFPVASGGLHPGLVPDLIDIFGKDIIIQAGGGVHGHPDGTRAGAKALRQAIEAAMEGISLEEYAKEHKELAKALEKWGHVRK',\n",
    "  'MSRYTDYVDLNYTPKENDLICCFHIEPADGVDLEEAAGRVAAESSIGTWTDVSTMKPEIWEKLKARVYEIDESGNIVKIAYPLDLFEPGNIPQILSSIAGNIFGMKAVKNLRLLDIRFPKELVKSFKGPKFGIEGVRELLGVYDRPLVGTIVKPKVGLSAEEHAEVAYEAWVGGLDLVKDDENLTSQPFNPFEERVKKVMEARDKAEEETGEKKVYLVNITAPTEEMIRRAELVADLGGKYVMIDIITAGFSAVQSLREEDLGLAIHAHRAMHAAFTRNPKHGISMLVLAKLARLVGVDQLHIGTVVGKMEGDKEEVLAIRDALRLDRVPADEANHFLEQDWYNIKPVFPVASGGLHPGLVPDLIDIFGKDIIIQAGGGVHGHPDGTRAGAKAMRQAIEAVMEGISLEEYAKEHPELAKALEKWGHVRP',\n",
    "  'MSRYTDYVDLNYTPKENDLICTFHIEPADGVDLEEAAGRVAAESSIGTWTDVSTMPEIWEKLKARVYEIDETGNIVKIAYPLDLFEPGNIPQILSSIAGNIFGMKAVKNLRLLDIRFPEELVKSFKGPKFGIEGVRELLGVYDRPLVGTIVKPKVGLSAEEHAEVAYEAWVGGIDLVKDDENLTSQPFNPFEERVKKVLEARDKAEEETGEKKVYLVNITAPTEEMIRRAELVADLGGKYVMIDIITAGFSAVQSLREEDLGLAIHAHRAMHAAFTRNPKHGISMLVLAKLARLVGVDQLHIGTVVGKMEGDKEEVLAIRDALRLDRVPADEANHFLEQDWYNIKPVFPVASGGLHPGLVPDLIDIFGKDVIIQAGGGVHGHPDGTRAGAKALRQAIEAAMEGISLEEYAKEHPELAKALEKWGHVR',\n",
    "  'MSKRYTDYVDLNYTPKENDLICTFHIEPADGVDLEEAAGRVAAESSIGTWTDVSTMPEIVEKLKARVYEIDESGNIVKIAYPLDLFEPGNIPQILSSIAGNIFGMKAVKNLRLLDIRFPKELVKSFKGPKFGIEGVRELLGVYDRPLVGTIVKPKVGLSAEEHAEVAYEAWVGGLDLVKDDENLTSQPFNPFEERVKKTLEARDKAEEETGEKKVYLVNITAPTEEMIRRAELVKDLGGKYVMIDIITAGFSAVQSLREEDLGLAIHAHRAMHAAFTRNPKHGISMLVLAKLARLVGVDQLHIGTGVGKMEGDKEEVLAIRDALRLDRVPADEANHFLEQDWYNIKPVFPVASGGLHPGLVPDLIDIFGKDIIIQAGGGVHGHPDGTRAGAKAMRQAIEAAMEGISLEEYAKEHPELAKALEKWGHVR',\n",
    "  'MSKRYTDFIDLNYTPKENDLICTFHIEPADGVDLEEAAGRVAAESSIGTWTDVSTMPEIWEKLKARVYEIDESGNIVKIAYPLDLFEPGNIPQILSSIAGNIFGMKAVKNLRLLDIRFPKELVKSFKGPKFGIEGVRELLGVYDRPLVGTIVKPKVGLSAEEHAEVAYEAWVGGLDLVKDDENLTSQPFNPFEERVKKVLEARDKAEEETGEKKVYLVNITAPTEEMIRRAELVKDLGGKYVMIDIITAGFSAVQSLREEDLGLAIHAHRAMHAAFTRNPKHGISMLVLAKLARLVGVDQLHIGTGVGKMEGDKEEVLAIRDALRLDRVPADEANHFLEQDWYNIKPVFPVASGGLHPGLVPDLIDIFGKDVIIQAGGGVHGHPDGTRAGAKALRQAIEAAMEGISLEEYAKEHPELKKALEKWGHVRP']\n",
    "val_set_labels = [0, 1, 0, 0, 0, 0, 0, 1]"
   ]
  },
  {
   "cell_type": "code",
   "execution_count": 20,
   "metadata": {},
   "outputs": [
    {
     "data": {
      "text/plain": [
       "Text(0.5, 1.0, 'Predictions vs Labels for the training set')"
      ]
     },
     "execution_count": 20,
     "metadata": {},
     "output_type": "execute_result"
    },
    {
     "data": {
      "image/png": "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",
      "text/plain": [
       "<Figure size 640x480 with 1 Axes>"
      ]
     },
     "metadata": {},
     "output_type": "display_data"
    }
   ],
   "source": [
    "output_pred = []\n",
    "\n",
    "for i in range(len(train_set_seqs)):\n",
    "    inputs = loaded_tokenizer(train_set_seqs[i], truncation=True, padding='max_length', max_length=512, return_tensors=\"pt\")\n",
    "    labels = [train_set_labels[i]]\n",
    "\n",
    "    with torch.no_grad():\n",
    "        outputs = loaded_model(**inputs)[\"logits\"].squeeze(0)\n",
    "        outputs = outputs.cpu().numpy()\n",
    "        # Sigmoid activation\n",
    "        outputs = 1 / (1 + np.exp(-outputs))\n",
    "        # print(outputs, labels)\n",
    "\n",
    "        output_pred.append(outputs)\n",
    "\n",
    "#Plot the values in output_pred with the labels from val_set_labels\n",
    "\n",
    "output_pred = np.array(output_pred)\n",
    "val_set_labels = np.array(val_set_labels)\n",
    "\n",
    "plt.scatter(output_pred, train_set_labels)\n",
    "plt.title(\"Predictions vs Labels for the training set\")"
   ]
  },
  {
   "cell_type": "code",
   "execution_count": 21,
   "metadata": {},
   "outputs": [
    {
     "data": {
      "text/plain": [
       "Text(0.5, 1.0, 'Predictions vs Labels for the validation set')"
      ]
     },
     "execution_count": 21,
     "metadata": {},
     "output_type": "execute_result"
    },
    {
     "data": {
      "image/png": "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",
      "text/plain": [
       "<Figure size 640x480 with 1 Axes>"
      ]
     },
     "metadata": {},
     "output_type": "display_data"
    }
   ],
   "source": [
    "output_pred = []\n",
    "\n",
    "for i in range(len(val_set_seqs)):\n",
    "    inputs = loaded_tokenizer(val_set_seqs[i], truncation=True, padding='max_length', max_length=512, return_tensors=\"pt\")\n",
    "    labels = [val_set_labels[i]]\n",
    "\n",
    "    with torch.no_grad():\n",
    "        outputs = loaded_model(**inputs)[\"logits\"].squeeze(0)\n",
    "        outputs = outputs.cpu().numpy()\n",
    "        # Sigmoid activation\n",
    "        outputs = 1 / (1 + np.exp(-outputs))\n",
    "        # print(outputs, labels)\n",
    "\n",
    "        output_pred.append(outputs)\n",
    "\n",
    "#Plot the values in output_pred with the labels from val_set_labels\n",
    "\n",
    "output_pred = np.array(output_pred)\n",
    "val_set_labels = np.array(val_set_labels)\n",
    "\n",
    "plt.scatter(output_pred, val_set_labels)\n",
    "plt.title(\"Predictions vs Labels for the validation set\")"
   ]
  }
 ],
 "metadata": {
  "kernelspec": {
   "display_name": "Python 3 (ipykernel)",
   "language": "python",
   "name": "python3"
  },
  "language_info": {
   "codemirror_mode":