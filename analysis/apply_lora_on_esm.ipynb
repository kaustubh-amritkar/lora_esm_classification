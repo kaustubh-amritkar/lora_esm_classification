{
 "cells": [
  {
   "cell_type": "code",
   "execution_count": 1,
   "metadata": {},
   "outputs": [
    {
     "name": "stdout",
     "output_type": "stream",
     "text": [
      "/home/kaustubh/RuBisCO_ML/ESM_LoRA/analysis\n"
     ]
    }
   ],
   "source": [
    "import os\n",
    "import sys\n",
    "%cd /home/kaustubh/RuBisCO_ML/ESM_LoRA/analysis/"
   ]
  },
  {
   "cell_type": "code",
   "execution_count": 2,
   "metadata": {},
   "outputs": [],
   "source": [
    "import matplotlib.pyplot as plt\n",
    "from lora_esm2_script_updated import *\n",
    "# from lora_esm2_script_updated import CustomModel"
   ]
  },
  {
   "cell_type": "code",
   "execution_count": 3,
   "metadata": {},
   "outputs": [
    {
     "name": "stderr",
     "output_type": "stream",
     "text": [
      "Detected kernel version 5.4.0, which is below the recommended minimum of 5.5.0; this can cause the process to hang. It is recommended to upgrade the kernel to the minimum version or higher.\n",
      "/home/kaustubh/RuBisCO_ML/ESM_LoRA/analysis/lora_esm2_script_updated.py:49: SettingWithCopyWarning: \n",
      "A value is trying to be set on a copy of a slice from a DataFrame.\n",
      "Try using .loc[row_indexer,col_indexer] = value instead\n",
      "\n",
      "See the caveats in the documentation: https://pandas.pydata.org/pandas-docs/stable/user_guide/indexing.html#returning-a-view-versus-a-copy\n",
      "  formIII_lsu_variant_data_df['fixed_threshold_activity'] = formIII_lsu_variant_data_df['mean_reading'].apply(lambda x: 1 if x >= 50 else 0)\n",
      "/home/kaustubh/miniforge3/envs/lora_esm/lib/python3.13/site-packages/transformers/training_args.py:1594: FutureWarning: `evaluation_strategy` is deprecated and will be removed in version 4.46 of 🤗 Transformers. Use `eval_strategy` instead\n",
      "  warnings.warn(\n",
      "Detected kernel version 5.4.0, which is below the recommended minimum of 5.5.0; this can cause the process to hang. It is recommended to upgrade the kernel to the minimum version or higher.\n",
      "Some weights of EsmModel were not initialized from the model checkpoint at facebook/esm2_t6_8M_UR50D and are newly initialized: ['esm.pooler.dense.bias', 'esm.pooler.dense.weight']\n",
      "You should probably TRAIN this model on a down-stream task to be able to use it for predictions and inference.\n",
      "\u001b[34m\u001b[1mwandb\u001b[0m: Using wandb-core as the SDK backend.  Please refer to https://wandb.me/wandb-core for more information.\n"
     ]
    },
    {
     "name": "stdout",
     "output_type": "stream",
     "text": [
      "Create sweep with ID: qr944513\n",
      "Sweep URL: https://wandb.ai/kauamritkar-university-of-wisconsin-madison/uncategorized/sweeps/qr944513\n"
     ]
    },
    {
     "name": "stderr",
     "output_type": "stream",
     "text": [
      "\u001b[34m\u001b[1mwandb\u001b[0m: Agent Starting Run: ljvfzdk1 with config:\n",
      "\u001b[34m\u001b[1mwandb\u001b[0m: \tlearning_rate: 0.00022501775993069253\n",
      "\u001b[34m\u001b[1mwandb\u001b[0m: \tper_device_train_batch_size: 4\n",
      "\u001b[34m\u001b[1mwandb\u001b[0m: Currently logged in as: \u001b[33mkauamritkar\u001b[0m (\u001b[33mkauamritkar-university-of-wisconsin-madison\u001b[0m) to \u001b[32mhttps://api.wandb.ai\u001b[0m. Use \u001b[1m`wandb login --relogin`\u001b[0m to force relogin\n"
     ]
    },
    {
     "data": {
      "text/html": [
       "Tracking run with wandb version 0.19.7"
      ],
      "text/plain": [
       "<IPython.core.display.HTML object>"
      ]
     },
     "metadata": {},
     "output_type": "display_data"
    },
    {
     "data": {
      "text/html": [
       "Run data is saved locally in <code>/home/kaustubh/RuBisCO_ML/ESM_LoRA/analysis/wandb/run-20250314_180610-ljvfzdk1</code>"
      ],
      "text/plain": [
       "<IPython.core.display.HTML object>"
      ]
     },
     "metadata": {},
     "output_type": "display_data"
    },
    {
     "data": {
      "text/html": [
       "Syncing run <strong><a href='https://wandb.ai/kauamritkar-university-of-wisconsin-madison/uncategorized/runs/ljvfzdk1' target=\"_blank\">peach-sweep-1</a></strong> to <a href='https://wandb.ai/kauamritkar-university-of-wisconsin-madison/uncategorized' target=\"_blank\">Weights & Biases</a> (<a href='https://wandb.me/developer-guide' target=\"_blank\">docs</a>)<br>Sweep page: <a href='https://wandb.ai/kauamritkar-university-of-wisconsin-madison/uncategorized/sweeps/qr944513' target=\"_blank\">https://wandb.ai/kauamritkar-university-of-wisconsin-madison/uncategorized/sweeps/qr944513</a>"
      ],
      "text/plain": [
       "<IPython.core.display.HTML object>"
      ]
     },
     "metadata": {},
     "output_type": "display_data"
    },
    {
     "data": {
      "text/html": [
       " View project at <a href='https://wandb.ai/kauamritkar-university-of-wisconsin-madison/uncategorized' target=\"_blank\">https://wandb.ai/kauamritkar-university-of-wisconsin-madison/uncategorized</a>"
      ],
      "text/plain": [
       "<IPython.core.display.HTML object>"
      ]
     },
     "metadata": {},
     "output_type": "display_data"
    },
    {
     "data": {
      "text/html": [
       " View sweep at <a href='https://wandb.ai/kauamritkar-university-of-wisconsin-madison/uncategorized/sweeps/qr944513' target=\"_blank\">https://wandb.ai/kauamritkar-university-of-wisconsin-madison/uncategorized/sweeps/qr944513</a>"
      ],
      "text/plain": [
       "<IPython.core.display.HTML object>"
      ]
     },
     "metadata": {},
     "output_type": "display_data"
    },
    {
     "data": {
      "text/html": [
       " View run at <a href='https://wandb.ai/kauamritkar-university-of-wisconsin-madison/uncategorized/runs/ljvfzdk1' target=\"_blank\">https://wandb.ai/kauamritkar-university-of-wisconsin-madison/uncategorized/runs/ljvfzdk1</a>"
      ],
      "text/plain": [
       "<IPython.core.display.HTML object>"
      ]
     },
     "metadata": {},
     "output_type": "display_data"
    },
    {
     "name": "stderr",
     "output_type": "stream",
     "text": [
      "Trying to set _wandb in the hyperparameter search but there is no corresponding field in `TrainingArguments`.\n",
      "Trying to set assignments in the hyperparameter search but there is no corresponding field in `TrainingArguments`.\n",
      "Trying to set metric in the hyperparameter search but there is no corresponding field in `TrainingArguments`.\n",
      "Detected kernel version 5.4.0, which is below the recommended minimum of 5.5.0; this can cause the process to hang. It is recommended to upgrade the kernel to the minimum version or higher.\n",
      "Some weights of EsmModel were not initialized from the model checkpoint at facebook/esm2_t6_8M_UR50D and are newly initialized: ['esm.pooler.dense.bias', 'esm.pooler.dense.weight']\n",
      "You should probably TRAIN this model on a down-stream task to be able to use it for predictions and inference.\n"
     ]
    },
    {
     "data": {
      "text/html": [],
      "text/plain": [
       "<IPython.core.display.HTML object>"
      ]
     },
     "metadata": {},
     "output_type": "display_data"
    },
    {
     "data": {
      "text/html": [
       " View run <strong style=\"color:#cdcd00\">peach-sweep-1</strong> at: <a href='https://wandb.ai/kauamritkar-university-of-wisconsin-madison/uncategorized/runs/ljvfzdk1' target=\"_blank\">https://wandb.ai/kauamritkar-university-of-wisconsin-madison/uncategorized/runs/ljvfzdk1</a><br> View project at: <a href='https://wandb.ai/kauamritkar-university-of-wisconsin-madison/uncategorized' target=\"_blank\">https://wandb.ai/kauamritkar-university-of-wisconsin-madison/uncategorized</a><br>Synced 5 W&B file(s), 0 media file(s), 0 artifact file(s) and 0 other file(s)"
      ],
      "text/plain": [
       "<IPython.core.display.HTML object>"
      ]
     },
     "metadata": {},
     "output_type": "display_data"
    },
    {
     "data": {
      "text/html": [
       "Find logs at: <code>./wandb/run-20250314_180610-ljvfzdk1/logs</code>"
      ],
      "text/plain": [
       "<IPython.core.display.HTML object>"
      ]
     },
     "metadata": {},
     "output_type": "display_data"
    },
    {
     "data": {
      "text/html": [
       "Ignoring project 'uncategorized' when running a sweep."
      ],
      "text/plain": [
       "<IPython.core.display.HTML object>"
      ]
     },
     "metadata": {},
     "output_type": "display_data"
    },
    {
     "data": {
      "text/html": [
       "Tracking run with wandb version 0.19.7"
      ],
      "text/plain": [
       "<IPython.core.display.HTML object>"
      ]
     },
     "metadata": {},
     "output_type": "display_data"
    },
    {
     "data": {
      "text/html": [
       "Run data is saved locally in <code>/home/kaustubh/RuBisCO_ML/ESM_LoRA/analysis/wandb/run-20250314_180624-ljvfzdk1</code>"
      ],
      "text/plain": [
       "<IPython.core.display.HTML object>"
      ]
     },
     "metadata": {},
     "output_type": "display_data"
    },
    {
     "data": {
      "text/html": [
       "Syncing run <strong><a href='https://wandb.ai/kauamritkar-university-of-wisconsin-madison/uncategorized/runs/ljvfzdk1' target=\"_blank\">peach-sweep-1</a></strong> to <a href='https://wandb.ai/kauamritkar-university-of-wisconsin-madison/uncategorized' target=\"_blank\">Weights & Biases</a> (<a href='https://wandb.me/developer-guide' target=\"_blank\">docs</a>)<br>Sweep page: <a href='https://wandb.ai/kauamritkar-university-of-wisconsin-madison/uncategorized/sweeps/qr944513' target=\"_blank\">https://wandb.ai/kauamritkar-university-of-wisconsin-madison/uncategorized/sweeps/qr944513</a>"
      ],
      "text/plain": [
       "<IPython.core.display.HTML object>"
      ]
     },
     "metadata": {},
     "output_type": "display_data"
    },
    {
     "data": {
      "text/html": [
       " View project at <a href='https://wandb.ai/kauamritkar-university-of-wisconsin-madison/uncategorized' target=\"_blank\">https://wandb.ai/kauamritkar-university-of-wisconsin-madison/uncategorized</a>"
      ],
      "text/plain": [
       "<IPython.core.display.HTML object>"
      ]
     },
     "metadata": {},
     "output_type": "display_data"
    },
    {
     "data": {
      "text/html": [
       " View sweep at <a href='https://wandb.ai/kauamritkar-university-of-wisconsin-madison/uncategorized/sweeps/qr944513' target=\"_blank\">https://wandb.ai/kauamritkar-university-of-wisconsin-madison/uncategorized/sweeps/qr944513</a>"
      ],
      "text/plain": [
       "<IPython.core.display.HTML object>"
      ]
     },
     "metadata": {},
     "output_type": "display_data"
    },
    {
     "data": {
      "text/html": [
       " View run at <a href='https://wandb.ai/kauamritkar-university-of-wisconsin-madison/uncategorized/runs/ljvfzdk1' target=\"_blank\">https://wandb.ai/kauamritkar-university-of-wisconsin-madison/uncategorized/runs/ljvfzdk1</a>"
      ],
      "text/plain": [
       "<IPython.core.display.HTML object>"
      ]
     },
     "metadata": {},
     "output_type": "display_data"
    },
    {
     "name": "stderr",
     "output_type": "stream",
     "text": [
      "\u001b[34m\u001b[1mwandb\u001b[0m: \u001b[33mWARNING\u001b[0m Config item 'per_device_train_batch_size' was locked by 'sweep' (ignored update).\n",
      "\u001b[34m\u001b[1mwandb\u001b[0m: \u001b[33mWARNING\u001b[0m Config item 'learning_rate' was locked by 'sweep' (ignored update).\n",
      "We strongly recommend passing in an `attention_mask` since your input_ids may be padded. See https://huggingface.co/docs/transformers/troubleshooting#incorrect-output-when-padding-tokens-arent-masked.\n",
      "We strongly recommend passing in an `attention_mask` since your input_ids may be padded. See https://huggingface.co/docs/transformers/troubleshooting#incorrect-output-when-padding-tokens-arent-masked.\n",
      "/home/kaustubh/miniforge3/envs/lora_esm/lib/python3.13/site-packages/torch/nn/parallel/_functions.py:70: UserWarning: Was asked to gather along dimension 0, but all input tensors were scalars; will instead unsqueeze and return a vector.\n",
      "  warnings.warn(\n"
     ]
    },
    {
     "data": {
      "text/html": [
       "\n",
       "    <div>\n",
       "      \n",
       "      <progress value='55' max='55' style='width:300px; height:20px; vertical-align: middle;'></progress>\n",
       "      [55/55 00:05, Epoch 5/5]\n",
       "    </div>\n",
       "    <table border=\"1\" class=\"dataframe\">\n",
       "  <thead>\n",
       " <tr style=\"text-align: left;\">\n",
       "      <th>Epoch</th>\n",
       "      <th>Training Loss</th>\n",
       "      <th>Validation Loss</th>\n",
       "      <th>Accuracy</th>\n",
       "    </tr>\n",
       "  </thead>\n",
       "  <tbody>\n",
       "    <tr>\n",
       "      <td>1</td>\n",
       "      <td>0.728600</td>\n",
       "      <td>0.664470</td>\n",
       "      <td>0.666667</td>\n",
       "    </tr>\n",
       "    <tr>\n",
       "      <td>2</td>\n",
       "      <td>0.657800</td>\n",
       "      <td>0.596388</td>\n",
       "      <td>0.833333</td>\n",
       "    </tr>\n",
       "    <tr>\n",
       "      <td>3</td>\n",
       "      <td>0.649100</td>\n",
       "      <td>0.580661</td>\n",
       "      <td>0.770833</td>\n",
       "    </tr>\n",
       "    <tr>\n",
       "      <td>4</td>\n",
       "      <td>0.611900</td>\n",
       "      <td>0.574338</td>\n",
       "      <td>0.666667</td>\n",
       "    </tr>\n",
       "    <tr>\n",
       "      <td>5</td>\n",
       "      <td>0.589200</td>\n",
       "      <td>0.571120</td>\n",
       "      <td>0.666667</td>\n",
       "    </tr>\n",
       "  </tbody>\n",
       "</table><p>"
      ],
      "text/plain": [
       "<IPython.core.display.HTML object>"
      ]
     },
     "metadata": {},
     "output_type": "display_data"
    },
    {
     "name": "stdout",
     "output_type": "stream",
     "text": [
      "Predictions shape: (16,)\n",
      "Labels shape: (16,)\n"
     ]
    },
    {
     "name": "stderr",
     "output_type": "stream",
     "text": [
      "/home/kaustubh/miniforge3/envs/lora_esm/lib/python3.13/site-packages/peft/utils/save_and_load.py:246: UserWarning: Could not find a config file in /tmp/facebook/esm2_t6_8M_UR50D - will assume that the vocabulary was not modified.\n",
      "  warnings.warn(\n",
      "/home/kaustubh/miniforge3/envs/lora_esm/lib/python3.13/site-packages/torch/nn/parallel/_functions.py:70: UserWarning: Was asked to gather along dimension 0, but all input tensors were scalars; will instead unsqueeze and return a vector.\n",
      "  warnings.warn(\n"
     ]
    },
    {
     "name": "stdout",
     "output_type": "stream",
     "text": [
      "Predictions shape: (16,)\n",
      "Labels shape: (16,)\n"
     ]
    },
    {
     "name": "stderr",
     "output_type": "stream",
     "text": [
      "/home/kaustubh/miniforge3/envs/lora_esm/lib/python3.13/site-packages/peft/utils/save_and_load.py:246: UserWarning: Could not find a config file in /tmp/facebook/esm2_t6_8M_UR50D - will assume that the vocabulary was not modified.\n",
      "  warnings.warn(\n",
      "/home/kaustubh/miniforge3/envs/lora_esm/lib/python3.13/site-packages/torch/nn/parallel/_functions.py:70: UserWarning: Was asked to gather along dimension 0, but all input tensors were scalars; will instead unsqueeze and return a vector.\n",
      "  warnings.warn(\n"
     ]
    },
    {
     "name": "stdout",
     "output_type": "stream",
     "text": [
      "Predictions shape: (16,)\n",
      "Labels shape: (16,)\n"
     ]
    },
    {
     "name": "stderr",
     "output_type": "stream",
     "text": [
      "/home/kaustubh/miniforge3/envs/lora_esm/lib/python3.13/site-packages/peft/utils/save_and_load.py:246: UserWarning: Could not find a config file in /tmp/facebook/esm2_t6_8M_UR50D - will assume that the vocabulary was not modified.\n",
      "  warnings.warn(\n",
      "/home/kaustubh/miniforge3/envs/lora_esm/lib/python3.13/site-packages/torch/nn/parallel/_functions.py:70: UserWarning: Was asked to gather along dimension 0, but all input tensors were scalars; will instead unsqueeze and return a vector.\n",
      "  warnings.warn(\n"
     ]
    },
    {
     "name": "stdout",
     "output_type": "stream",
     "text": [
      "Predictions shape: (16,)\n",
      "Labels shape: (16,)\n"
     ]
    },
    {
     "name": "stderr",
     "output_type": "stream",
     "text": [
      "/home/kaustubh/miniforge3/envs/lora_esm/lib/python3.13/site-packages/peft/utils/save_and_load.py:246: UserWarning: Could not find a config file in /tmp/facebook/esm2_t6_8M_UR50D - will assume that the vocabulary was not modified.\n",
      "  warnings.warn(\n",
      "/home/kaustubh/miniforge3/envs/lora_esm/lib/python3.13/site-packages/torch/nn/parallel/_functions.py:70: UserWarning: Was asked to gather along dimension 0, but all input tensors were scalars; will instead unsqueeze and return a vector.\n",
      "  warnings.warn(\n",
      "/home/kaustubh/miniforge3/envs/lora_esm/lib/python3.13/site-packages/peft/utils/save_and_load.py:246: UserWarning: Could not find a config file in /tmp/facebook/esm2_t6_8M_UR50D - will assume that the vocabulary was not modified.\n",
      "  warnings.warn(\n",
      "/home/kaustubh/miniforge3/envs/lora_esm/lib/python3.13/site-packages/torch/nn/parallel/_functions.py:70: UserWarning: Was asked to gather along dimension 0, but all input tensors were scalars; will instead unsqueeze and return a vector.\n",
      "  warnings.warn(\n"
     ]
    },
    {
     "name": "stdout",
     "output_type": "stream",
     "text": [
      "Predictions shape: (16,)\n",
      "Labels shape: (16,)\n"
     ]
    },
    {
     "name": "stderr",
     "output_type": "stream",
     "text": [
      "/home/kaustubh/miniforge3/envs/lora_esm/lib/python3.13/site-packages/peft/utils/save_and_load.py:246: UserWarning: Could not find a config file in /tmp/facebook/esm2_t6_8M_UR50D - will assume that the vocabulary was not modified.\n",
      "  warnings.warn(\n"
     ]
    },
    {
     "data": {
      "text/html": [],
      "text/plain": [
       "<IPython.core.display.HTML object>"
      ]
     },
     "metadata": {},
     "output_type": "display_data"
    },
    {
     "data": {
      "text/html": [
       "<br>    <style><br>        .wandb-row {<br>            display: flex;<br>            flex-direction: row;<br>            flex-wrap: wrap;<br>            justify-content: flex-start;<br>            width: 100%;<br>        }<br>        .wandb-col {<br>            display: flex;<br>            flex-direction: column;<br>            flex-basis: 100%;<br>            flex: 1;<br>            padding: 10px;<br>        }<br>    </style><br><div class=\"wandb-row\"><div class=\"wandb-col\"><h3>Run history:</h3><br/><table class=\"wandb\"><tr><td>eval/accuracy</td><td>▁█▅▁▁</td></tr><tr><td>eval/loss</td><td>█▃▂▁▁</td></tr><tr><td>eval/runtime</td><td>▇▁▃▃█</td></tr><tr><td>eval/samples_per_second</td><td>▂█▆▆▁</td></tr><tr><td>eval/steps_per_second</td><td>▂█▆▆▁</td></tr><tr><td>train/epoch</td><td>▁▁▃▃▄▅▆▆▇██</td></tr><tr><td>train/global_step</td><td>▁▁▃▃▄▅▆▆▇██</td></tr><tr><td>train/grad_norm</td><td>█▄▄▁▆</td></tr><tr><td>train/learning_rate</td><td>█▆▅▃▁</td></tr><tr><td>train/loss</td><td>█▄▄▂▁</td></tr></table><br/></div><div class=\"wandb-col\"><h3>Run summary:</h3><br/><table class=\"wandb\"><tr><td>eval/accuracy</td><td>0.66667</td></tr><tr><td>eval/loss</td><td>0.57112</td></tr><tr><td>eval/runtime</td><td>0.0646</td></tr><tr><td>eval/samples_per_second</td><td>247.845</td></tr><tr><td>eval/steps_per_second</td><td>15.49</td></tr><tr><td>total_flos</td><td>10270797834240.0</td></tr><tr><td>train/epoch</td><td>5</td></tr><tr><td>train/global_step</td><td>55</td></tr><tr><td>train/grad_norm</td><td>0.45621</td></tr><tr><td>train/learning_rate</td><td>2e-05</td></tr><tr><td>train/loss</td><td>0.5892</td></tr><tr><td>train_loss</td><td>0.64409</td></tr><tr><td>train_runtime</td><td>9.5599</td></tr><tr><td>train_samples_per_second</td><td>45.503</td></tr><tr><td>train_steps_per_second</td><td>5.753</td></tr></table><br/></div></div>"
      ],
      "text/plain": [
       "<IPython.core.display.HTML object>"
      ]
     },
     "metadata": {},
     "output_type": "display_data"
    },
    {
     "data": {
      "text/html": [
       " View run <strong style=\"color:#cdcd00\">peach-sweep-1</strong> at: <a href='https://wandb.ai/kauamritkar-university-of-wisconsin-madison/uncategorized/runs/ljvfzdk1' target=\"_blank\">https://wandb.ai/kauamritkar-university-of-wisconsin-madison/uncategorized/runs/ljvfzdk1</a><br> View project at: <a href='https://wandb.ai/kauamritkar-university-of-wisconsin-madison/uncategorized' target=\"_blank\">https://wandb.ai/kauamritkar-university-of-wisconsin-madison/uncategorized</a><br>Synced 5 W&B file(s), 0 media file(s), 0 artifact file(s) and 0 other file(s)"
      ],
      "text/plain": [
       "<IPython.core.display.HTML object>"
      ]
     },
     "metadata": {},
     "output_type": "display_data"
    },
    {
     "data": {
      "text/html": [
       "Find logs at: <code>./wandb/run-20250314_180624-ljvfzdk1/logs</code>"
      ],
      "text/plain": [
       "<IPython.core.display.HTML object>"
      ]
     },
     "metadata": {},
     "output_type": "display_data"
    },
    {
     "name": "stderr",
     "output_type": "stream",
     "text": [
      "\u001b[34m\u001b[1mwandb\u001b[0m: Agent Starting Run: s2c1emh9 with config:\n",
      "\u001b[34m\u001b[1mwandb\u001b[0m: \tlearning_rate: 0.0009268273937610544\n",
      "\u001b[34m\u001b[1mwandb\u001b[0m: \tper_device_train_batch_size: 2\n"
     ]
    },
    {
     "data": {
      "text/html": [
       "Tracking run with wandb version 0.19.7"
      ],
      "text/plain": [
       "<IPython.core.display.HTML object>"
      ]
     },
     "metadata": {},
     "output_type": "display_data"
    },
    {
     "data": {
      "text/html": [
       "Run data is saved locally in <code>/home/kaustubh/RuBisCO_ML/ESM_LoRA/analysis/wandb/run-20250314_180636-s2c1emh9</code>"
      ],
      "text/plain": [
       "<IPython.core.display.HTML object>"
      ]
     },
     "metadata": {},
     "output_type": "display_data"
    },
    {
     "data": {
      "text/html": [
       "Syncing run <strong><a href='https://wandb.ai/kauamritkar-university-of-wisconsin-madison/uncategorized/runs/s2c1emh9' target=\"_blank\">tough-sweep-2</a></strong> to <a href='https://wandb.ai/kauamritkar-university-of-wisconsin-madison/uncategorized' target=\"_blank\">Weights & Biases</a> (<a href='https://wandb.me/developer-guide' target=\"_blank\">docs</a>)<br>Sweep page: <a href='https://wandb.ai/kauamritkar-university-of-wisconsin-madison/uncategorized/sweeps/qr944513' target=\"_blank\">https://wandb.ai/kauamritkar-university-of-wisconsin-madison/uncategorized/sweeps/qr944513</a>"
      ],
      "text/plain": [
       "<IPython.core.display.HTML object>"
      ]
     },
     "metadata": {},
     "output_type": "display_data"
    },
    {
     "data": {
      "text/html": [
       " View project at <a href='https://wandb.ai/kauamritkar-university-of-wisconsin-madison/uncategorized' target=\"_blank\">https://wandb.ai/kauamritkar-university-of-wisconsin-madison/uncategorized</a>"
      ],
      "text/plain": [
       "<IPython.core.display.HTML object>"
      ]
     },
     "metadata": {},
     "output_type": "display_data"
    },
    {
     "data": {
      "text/html": [
       " View sweep at <a href='https://wandb.ai/kauamritkar-university-of-wisconsin-madison/uncategorized/sweeps/qr944513' target=\"_blank\">https://wandb.ai/kauamritkar-university-of-wisconsin-madison/uncategorized/sweeps/qr944513</a>"
      ],
      "text/plain": [
       "<IPython.core.display.HTML object>"
      ]
     },
     "metadata": {},
     "output_type": "display_data"
    },
    {
     "data": {
      "text/html": [
       " View run at <a href='https://wandb.ai/kauamritkar-university-of-wisconsin-madison/uncategorized/runs/s2c1emh9' target=\"_blank\">https://wandb.ai/kauamritkar-university-of-wisconsin-madison/uncategorized/runs/s2c1emh9</a>"
      ],
      "text/plain": [
       "<IPython.core.display.HTML object>"
      ]
     },
     "metadata": {},
     "output_type": "display_data"
    },
    {
     "name": "stderr",
     "output_type": "stream",
     "text": [
      "Trying to set _wandb in the hyperparameter search but there is no corresponding field in `TrainingArguments`.\n",
      "Trying to set assignments in the hyperparameter search but there is no corresponding field in `TrainingArguments`.\n",
      "Trying to set metric in the hyperparameter search but there is no corresponding field in `TrainingArguments`.\n",
      "Detected kernel version 5.4.0, which is below the recommended minimum of 5.5.0; this can cause the process to hang. It is recommended to upgrade the kernel to the minimum version or higher.\n",
      "Some weights of EsmModel were not initialized from the model checkpoint at facebook/esm2_t6_8M_UR50D and are newly initialized: ['esm.pooler.dense.bias', 'esm.pooler.dense.weight']\n",
      "You should probably TRAIN this model on a down-stream task to be able to use it for predictions and inference.\n"
     ]
    },
    {
     "data": {
      "text/html": [],
      "text/plain": [
       "<IPython.core.display.HTML object>"
      ]
     },
     "metadata": {},
     "output_type": "display_data"
    },
    {
     "data": {
      "text/html": [
       " View run <strong style=\"color:#cdcd00\">tough-sweep-2</strong> at: <a href='https://wandb.ai/kauamritkar-university-of-wisconsin-madison/uncategorized/runs/s2c1emh9' target=\"_blank\">https://wandb.ai/kauamritkar-university-of-wisconsin-madison/uncategorized/runs/s2c1emh9</a><br> View project at: <a href='https://wandb.ai/kauamritkar-university-of-wisconsin-madison/uncategorized' target=\"_blank\">https://wandb.ai/kauamritkar-university-of-wisconsin-madison/uncategorized</a><br>Synced 5 W&B file(s), 0 media file(s), 0 artifact file(s) and 0 other file(s)"
      ],
      "text/plain": [
       "<IPython.core.display.HTML object>"
      ]
     },
     "metadata": {},
     "output_type": "display_data"
    },
    {
     "data": {
      "text/html": [
       "Find logs at: <code>./wandb/run-20250314_180636-s2c1emh9/logs</code>"
      ],
      "text/plain": [
       "<IPython.core.display.HTML object>"
      ]
     },
     "metadata": {},
     "output_type": "display_data"
    },
    {
     "data": {
      "text/html": [
       "Ignoring project 'uncategorized' when running a sweep."
      ],
      "text/plain": [
       "<IPython.core.display.HTML object>"
      ]
     },
     "metadata": {},
     "output_type": "display_data"
    },
    {
     "data": {
      "text/html": [
       "Tracking run with wandb version 0.19.7"
      ],
      "text/plain": [
       "<IPython.core.display.HTML object>"
      ]
     },
     "metadata": {},
     "output_type": "display_data"
    },
    {
     "data": {
      "text/html": [
       "Run data is saved locally in <code>/home/kaustubh/RuBisCO_ML/ESM_LoRA/analysis/wandb/run-20250314_180639-s2c1emh9</code>"
      ],
      "text/plain": [
       "<IPython.core.display.HTML object>"
      ]
     },
     "metadata": {},
     "output_type": "display_data"
    },
    {
     "data": {
      "text/html": [
       "Syncing run <strong><a href='https://wandb.ai/kauamritkar-university-of-wisconsin-madison/uncategorized/runs/s2c1emh9' target=\"_blank\">tough-sweep-2</a></strong> to <a href='https://wandb.ai/kauamritkar-university-of-wisconsin-madison/uncategorized' target=\"_blank\">Weights & Biases</a> (<a href='https://wandb.me/developer-guide' target=\"_blank\">docs</a>)<br>Sweep page: <a href='https://wandb.ai/kauamritkar-university-of-wisconsin-madison/uncategorized/sweeps/qr944513' target=\"_blank\">https://wandb.ai/kauamritkar-university-of-wisconsin-madison/uncategorized/sweeps/qr944513</a>"
      ],
      "text/plain": [
       "<IPython.core.display.HTML object>"
      ]
     },
     "metadata": {},
     "output_type": "display_data"
    },
    {
     "data": {
      "text/html": [
       " View project at <a href='https://wandb.ai/kauamritkar-university-of-wisconsin-madison/uncategorized' target=\"_blank\">https://wandb.ai/kauamritkar-university-of-wisconsin-madison/uncategorized</a>"
      ],
      "text/plain": [
       "<IPython.core.display.HTML object>"
      ]
     },
     "metadata": {},
     "output_type": "display_data"
    },
    {
     "data": {
      "text/html": [
       " View sweep at <a href='https://wandb.ai/kauamritkar-university-of-wisconsin-madison/uncategorized/sweeps/qr944513' target=\"_blank\">https://wandb.ai/kauamritkar-university-of-wisconsin-madison/uncategorized/sweeps/qr944513</a>"
      ],
      "text/plain": [
       "<IPython.core.display.HTML object>"
      ]
     },
     "metadata": {},
     "output_type": "display_data"
    },
    {
     "data": {
      "text/html": [
       " View run at <a href='https://wandb.ai/kauamritkar-university-of-wisconsin-madison/uncategorized/runs/s2c1emh9' target=\"_blank\">https://wandb.ai/kauamritkar-university-of-wisconsin-madison/uncategorized/runs/s2c1emh9</a>"
      ],
      "text/plain": [
       "<IPython.core.display.HTML object>"
      ]
     },
     "metadata": {},
     "output_type": "display_data"
    },
    {
     "name": "stderr",
     "output_type": "stream",
     "text": [
      "\u001b[34m\u001b[1mwandb\u001b[0m: \u001b[33mWARNING\u001b[0m Config item 'per_device_train_batch_size' was locked by 'sweep' (ignored update).\n",
      "\u001b[34m\u001b[1mwandb\u001b[0m: \u001b[33mWARNING\u001b[0m Config item 'learning_rate' was locked by 'sweep' (ignored update).\n",
      "/home/kaustubh/miniforge3/envs/lora_esm/lib/python3.13/site-packages/torch/nn/parallel/_functions.py:70: UserWarning: Was asked to gather along dimension 0, but all input tensors were scalars; will instead unsqueeze and return a vector.\n",
      "  warnings.warn(\n"
     ]
    },
    {
     "data": {
      "text/html": [
       "\n",
       "    <div>\n",
       "      \n",
       "      <progress value='110' max='110' style='width:300px; height:20px; vertical-align: middle;'></progress>\n",
       "      [110/110 00:08, Epoch 5/5]\n",
       "    </div>\n",
       "    <table border=\"1\" class=\"dataframe\">\n",
       "  <thead>\n",
       " <tr style=\"text-align: left;\">\n",
       "      <th>Epoch</th>\n",
       "      <th>Training Loss</th>\n",
       "      <th>Validation Loss</th>\n",
       "      <th>Accuracy</th>\n",
       "    </tr>\n",
       "  </thead>\n",
       "  <tbody>\n",
       "    <tr>\n",
       "      <td>1</td>\n",
       "      <td>0.593900</td>\n",
       "      <td>0.556876</td>\n",
       "      <td>0.666667</td>\n",
       "    </tr>\n",
       "    <tr>\n",
       "      <td>2</td>\n",
       "      <td>0.657600</td>\n",
       "      <td>0.574975</td>\n",
       "      <td>0.666667</td>\n",
       "    </tr>\n",
       "    <tr>\n",
       "      <td>3</td>\n",
       "      <td>0.650200</td>\n",
       "      <td>0.581243</td>\n",
       "      <td>0.625000</td>\n",
       "    </tr>\n",
       "    <tr>\n",
       "      <td>4</td>\n",
       "      <td>0.607400</td>\n",
       "      <td>0.565742</td>\n",
       "      <td>0.687500</td>\n",
       "    </tr>\n",
       "    <tr>\n",
       "      <td>5</td>\n",
       "      <td>0.607000</td>\n",
       "      <td>0.557516</td>\n",
       "      <td>0.687500</td>\n",
       "    </tr>\n",
       "  </tbody>\n",
       "</table><p>"
      ],
      "text/plain": [
       "<IPython.core.display.HTML object>"
      ]
     },
     "metadata": {},
     "output_type": "display_data"
    },
    {
     "name": "stdout",
     "output_type": "stream",
     "text": [
      "Predictions shape: (16,)\n",
      "Labels shape: (16,)\n"
     ]
    },
    {
     "name": "stderr",
     "output_type": "stream",
     "text": [
      "/home/kaustubh/miniforge3/envs/lora_esm/lib/python3.13/site-packages/peft/utils/save_and_load.py:246: UserWarning: Could not find a config file in /tmp/facebook/esm2_t6_8M_UR50D - will assume that the vocabulary was not modified.\n",
      "  warnings.warn(\n",
      "/home/kaustubh/miniforge3/envs/lora_esm/lib/python3.13/site-packages/torch/nn/parallel/_functions.py:70: UserWarning: Was asked to gather along dimension 0, but all input tensors were scalars; will instead unsqueeze and return a vector.\n",
      "  warnings.warn(\n"
     ]
    },
    {
     "name": "stdout",
     "output_type": "stream",
     "text": [
      "Predictions shape: (16,)\n",
      "Labels shape: (16,)\n"
     ]
    },
    {
     "name": "stderr",
     "output_type": "stream",
     "text": [
      "/home/kaustubh/miniforge3/envs/lora_esm/lib/python3.13/site-packages/peft/utils/save_and_load.py:246: UserWarning: Could not find a config file in /tmp/facebook/esm2_t6_8M_UR50D - will assume that the vocabulary was not modified.\n",
      "  warnings.warn(\n",
      "/home/kaustubh/miniforge3/envs/lora_esm/lib/python3.13/site-packages/torch/nn/parallel/_functions.py:70: UserWarning: Was asked to gather along dimension 0, but all input tensors were scalars; will instead unsqueeze and return a vector.\n",
      "  warnings.warn(\n"
     ]
    },
    {
     "name": "stdout",
     "output_type": "stream",
     "text": [
      "Predictions shape: (16,)\n",
      "Labels shape: (16,)\n"
     ]
    },
    {
     "name": "stderr",
     "output_type": "stream",
     "text": [
      "/home/kaustubh/miniforge3/envs/lora_esm/lib/python3.13/site-packages/peft/utils/save_and_load.py:246: UserWarning: Could not find a config file in /tmp/facebook/esm2_t6_8M_UR50D - will assume that the vocabulary was not modified.\n",
      "  warnings.warn(\n",
      "/home/kaustubh/miniforge3/envs/lora_esm/lib/python3.13/site-packages/torch/nn/parallel/_functions.py:70: UserWarning: Was asked to gather along dimension 0, but all input tensors were scalars; will instead unsqueeze and return a vector.\n",
      "  warnings.warn(\n"
     ]
    },
    {
     "name": "stdout",
     "output_type": "stream",
     "text": [
      "Predictions shape: (16,)\n",
      "Labels shape: (16,)\n"
     ]
    },
    {
     "name": "stderr",
     "output_type": "stream",
     "text": [
      "/home/kaustubh/miniforge3/envs/lora_esm/lib/python3.13/site-packages/peft/utils/save_and_load.py:246: UserWarning: Could not find a config file in /tmp/facebook/esm2_t6_8M_UR50D - will assume that the vocabulary was not modified.\n",
      "  warnings.warn(\n",
      "/home/kaustubh/miniforge3/envs/lora_esm/lib/python3.13/site-packages/torch/nn/parallel/_functions.py:70: UserWarning: Was asked to gather along dimension 0, but all input tensors were scalars; will instead unsqueeze and return a vector.\n",
      "  warnings.warn(\n",
      "/home/kaustubh/miniforge3/envs/lora_esm/lib/python3.13/site-packages/peft/utils/save_and_load.py:246: UserWarning: Could not find a config file in /tmp/facebook/esm2_t6_8M_UR50D - will assume that the vocabulary was not modified.\n",
      "  warnings.warn(\n",
      "/home/kaustubh/miniforge3/envs/lora_esm/lib/python3.13/site-packages/torch/nn/parallel/_functions.py:70: UserWarning: Was asked to gather along dimension 0, but all input tensors were scalars; will instead unsqueeze and return a vector.\n",
      "  warnings.warn(\n"
     ]
    },
    {
     "name": "stdout",
     "output_type": "stream",
     "text": [
      "Predictions shape: (16,)\n",
      "Labels shape: (16,)\n"
     ]
    },
    {
     "name": "stderr",
     "output_type": "stream",
     "text": [
      "/home/kaustubh/miniforge3/envs/lora_esm/lib/python3.13/site-packages/peft/utils/save_and_load.py:246: UserWarning: Could not find a config file in /tmp/facebook/esm2_t6_8M_UR50D - will assume that the vocabulary was not modified.\n",
      "  warnings.warn(\n"
     ]
    },
    {
     "data": {
      "text/html": [],
      "text/plain": [
       "<IPython.core.display.HTML object>"
      ]
     },
     "metadata": {},
     "output_type": "display_data"
    },
    {
     "data": {
      "text/html": [
       "<br>    <style><br>        .wandb-row {<br>            display: flex;<br>            flex-direction: row;<br>            flex-wrap: wrap;<br>            justify-content: flex-start;<br>            width: 100%;<br>        }<br>        .wandb-col {<br>            display: flex;<br>            flex-direction: column;<br>            flex-basis: 100%;<br>            flex: 1;<br>            padding: 10px;<br>        }<br>    </style><br><div class=\"wandb-row\"><div class=\"wandb-col\"><h3>Run history:</h3><br/><table class=\"wandb\"><tr><td>eval/accuracy</td><td>▆▆▁██</td></tr><tr><td>eval/loss</td><td>▁▆█▄▁</td></tr><tr><td>eval/runtime</td><td>▅▂▁▁█</td></tr><tr><td>eval/samples_per_second</td><td>▄▇██▁</td></tr><tr><td>eval/steps_per_second</td><td>▄▇██▁</td></tr><tr><td>train/epoch</td><td>▁▂▂▂▃▃▄▅▅▅▆▆▇▇███</td></tr><tr><td>train/global_step</td><td>▁▂▂▂▃▃▄▅▅▅▆▆▇▇███</td></tr><tr><td>train/grad_norm</td><td>█▆▆▆▇▂▃▄▁▄▄</td></tr><tr><td>train/learning_rate</td><td>█▇▇▆▅▅▄▃▂▂▁</td></tr><tr><td>train/loss</td><td>█▃▆█▆▇▅▄▁▂▄</td></tr></table><br/></div><div class=\"wandb-col\"><h3>Run summary:</h3><br/><table class=\"wandb\"><tr><td>eval/accuracy</td><td>0.6875</td></tr><tr><td>eval/loss</td><td>0.55752</td></tr><tr><td>eval/runtime</td><td>0.0639</td></tr><tr><td>eval/samples_per_second</td><td>250.351</td></tr><tr><td>eval/steps_per_second</td><td>15.647</td></tr><tr><td>total_flos</td><td>10270797834240.0</td></tr><tr><td>train/epoch</td><td>5</td></tr><tr><td>train/global_step</td><td>110</td></tr><tr><td>train/grad_norm</td><td>0.40274</td></tr><tr><td>train/learning_rate</td><td>0</td></tr><tr><td>train/loss</td><td>0.607</td></tr><tr><td>train_loss</td><td>0.61828</td></tr><tr><td>train_runtime</td><td>11.8564</td></tr><tr><td>train_samples_per_second</td><td>36.689</td></tr><tr><td>train_steps_per_second</td><td>9.278</td></tr></table><br/></div></div>"
      ],
      "text/plain": [
       "<IPython.core.display.HTML object>"
      ]
     },
     "metadata": {},
     "output_type": "display_data"
    },
    {
     "data": {
      "text/html": [
       " View run <strong style=\"color:#cdcd00\">tough-sweep-2</strong> at: <a href='https://wandb.ai/kauamritkar-university-of-wisconsin-madison/uncategorized/runs/s2c1emh9' target=\"_blank\">https://wandb.ai/kauamritkar-university-of-wisconsin-madison/uncategorized/runs/s2c1emh9</a><br> View project at: <a href='https://wandb.ai/kauamritkar-university-of-wisconsin-madison/uncategorized' target=\"_blank\">https://wandb.ai/kauamritkar-university-of-wisconsin-madison/uncategorized</a><br>Synced 5 W&B file(s), 0 media file(s), 0 artifact file(s) and 0 other file(s)"
      ],
      "text/plain": [
       "<IPython.core.display.HTML object>"
      ]
     },
     "metadata": {},
     "output_type": "display_data"
    },
    {
     "data": {
      "text/html": [
       "Find logs at: <code>./wandb/run-20250314_180639-s2c1emh9/logs</code>"
      ],
      "text/plain": [
       "<IPython.core.display.HTML object>"
      ]
     },
     "metadata": {},
     "output_type": "display_data"
    },
    {
     "name": "stderr",
     "output_type": "stream",
     "text": [
      "\u001b[34m\u001b[1mwandb\u001b[0m: Agent Starting Run: 4g4173es with config:\n",
      "\u001b[34m\u001b[1mwandb\u001b[0m: \tlearning_rate: 0.0005301710845905985\n",
      "\u001b[34m\u001b[1mwandb\u001b[0m: \tper_device_train_batch_size: 2\n"
     ]
    },
    {
     "data": {
      "text/html": [
       "Tracking run with wandb version 0.19.7"
      ],
      "text/plain": [
       "<IPython.core.display.HTML object>"
      ]
     },
     "metadata": {},
     "output_type": "display_data"
    },
    {
     "data": {
      "text/html": [
       "Run data is saved locally in <code>/home/kaustubh/RuBisCO_ML/ESM_LoRA/analysis/wandb/run-20250314_180657-4g4173es</code>"
      ],
      "text/plain": [
       "<IPython.core.display.HTML object>"
      ]
     },
     "metadata": {},
     "output_type": "display_data"
    },
    {
     "data": {
      "text/html": [
       "Syncing run <strong><a href='https://wandb.ai/kauamritkar-university-of-wisconsin-madison/uncategorized/runs/4g4173es' target=\"_blank\">honest-sweep-3</a></strong> to <a href='https://wandb.ai/kauamritkar-university-of-wisconsin-madison/uncategorized' target=\"_blank\">Weights & Biases</a> (<a href='https://wandb.me/developer-guide' target=\"_blank\">docs</a>)<br>Sweep page: <a href='https://wandb.ai/kauamritkar-university-of-wisconsin-madison/uncategorized/sweeps/qr944513' target=\"_blank\">https://wandb.ai/kauamritkar-university-of-wisconsin-madison/uncategorized/sweeps/qr944513</a>"
      ],
      "text/plain": [
       "<IPython.core.display.HTML object>"
      ]
     },
     "metadata": {},
     "output_type": "display_data"
    },
    {
     "data": {
      "text/html": [
       " View project at <a href='https://wandb.ai/kauamritkar-university-of-wisconsin-madison/uncategorized' target=\"_blank\">https://wandb.ai/kauamritkar-university-of-wisconsin-madison/uncategorized</a>"
      ],
      "text/plain": [
       "<IPython.core.display.HTML object>"
      ]
     },
     "metadata": {},
     "output_type": "display_data"
    },
    {
     "data": {
      "text/html": [
       " View sweep at <a href='https://wandb.ai/kauamritkar-university-of-wisconsin-madison/uncategorized/sweeps/qr944513' target=\"_blank\">https://wandb.ai/kauamritkar-university-of-wisconsin-madison/uncategorized/sweeps/qr944513</a>"
      ],
      "text/plain": [
       "<IPython.core.display.HTML object>"
      ]
     },
     "metadata": {},
     "output_type": "display_data"
    },
    {
     "data": {
      "text/html": [
       " View run at <a href='https://wandb.ai/kauamritkar-university-of-wisconsin-madison/uncategorized/runs/4g4173es' target=\"_blank\">https://wandb.ai/kauamritkar-university-of-wisconsin-madison/uncategorized/runs/4g4173es</a>"
      ],
      "text/plain": [
       "<IPython.core.display.HTML object>"
      ]
     },
     "metadata": {},
     "output_type": "display_data"
    },
    {
     "name": "stderr",
     "output_type": "stream",
     "text": [
      "Trying to set _wandb in the hyperparameter search but there is no corresponding field in `TrainingArguments`.\n",
      "Trying to set assignments in the hyperparameter search but there is no corresponding field in `TrainingArguments`.\n",
      "Trying to set metric in the hyperparameter search but there is no corresponding field in `TrainingArguments`.\n",
      "Detected kernel version 5.4.0, which is below the recommended minimum of 5.5.0; this can cause the process to hang. It is recommended to upgrade the kernel to the minimum version or higher.\n",
      "Some weights of EsmModel were not initialized from the model checkpoint at facebook/esm2_t6_8M_UR50D and are newly initialized: ['esm.pooler.dense.bias', 'esm.pooler.dense.weight']\n",
      "You should probably TRAIN this model on a down-stream task to be able to use it for predictions and inference.\n"
     ]
    },
    {
     "data": {
      "text/html": [],
      "text/plain": [
       "<IPython.core.display.HTML object>"
      ]
     },
     "metadata": {},
     "output_type": "display_data"
    },
    {
     "data": {
      "text/html": [
       " View run <strong style=\"color:#cdcd00\">honest-sweep-3</strong> at: <a href='https://wandb.ai/kauamritkar-university-of-wisconsin-madison/uncategorized/runs/4g4173es' target=\"_blank\">https://wandb.ai/kauamritkar-university-of-wisconsin-madison/uncategorized/runs/4g4173es</a><br> View project at: <a href='https://wandb.ai/kauamritkar-university-of-wisconsin-madison/uncategorized' target=\"_blank\">https://wandb.ai/kauamritkar-university-of-wisconsin-madison/uncategorized</a><br>Synced 5 W&B file(s), 0 media file(s), 0 artifact file(s) and 0 other file(s)"
      ],
      "text/plain": [
       "<IPython.core.display.HTML object>"
      ]
     },
     "metadata": {},
     "output_type": "display_data"
    },
    {
     "data": {
      "text/html": [
       "Find logs at: <code>./wandb/run-20250314_180657-4g4173es/logs</code>"
      ],
      "text/plain": [
       "<IPython.core.display.HTML object>"
      ]
     },
     "metadata": {},
     "output_type": "display_data"
    },
    {
     "data": {
      "text/html": [
       "Ignoring project 'uncategorized' when running a sweep."
      ],
      "text/plain": [
       "<IPython.core.display.HTML object>"
      ]
     },
     "metadata": {},
     "output_type": "display_data"
    },
    {
     "data": {
      "text/html": [
       "Tracking run with wandb version 0.19.7"
      ],
      "text/plain": [
       "<IPython.core.display.HTML object>"
      ]
     },
     "metadata": {},
     "output_type": "display_data"
    },
    {
     "data": {
      "text/html": [
       "Run data is saved locally in <code>/home/kaustubh/RuBisCO_ML/ESM_LoRA/analysis/wandb/run-20250314_180701-4g4173es</code>"
      ],
      "text/plain": [
       "<IPython.core.display.HTML object>"
      ]
     },
     "metadata": {},
     "output_type": "display_data"
    },
    {
     "data": {
      "text/html": [
       "Syncing run <strong><a href='https://wandb.ai/kauamritkar-university-of-wisconsin-madison/uncategorized/runs/4g4173es' target=\"_blank\">honest-sweep-3</a></strong> to <a href='https://wandb.ai/kauamritkar-university-of-wisconsin-madison/uncategorized' target=\"_blank\">Weights & Biases</a> (<a href='https://wandb.me/developer-guide' target=\"_blank\">docs</a>)<br>Sweep page: <a href='https://wandb.ai/kauamritkar-university-of-wisconsin-madison/uncategorized/sweeps/qr944513' target=\"_blank\">https://wandb.ai/kauamritkar-university-of-wisconsin-madison/uncategorized/sweeps/qr944513</a>"
      ],
      "text/plain": [
       "<IPython.core.display.HTML object>"
      ]
     },
     "metadata": {},
     "output_type": "display_data"
    },
    {
     "data": {
      "text/html": [
       " View project at <a href='https://wandb.ai/kauamritkar-university-of-wisconsin-madison/uncategorized' target=\"_blank\">https://wandb.ai/kauamritkar-university-of-wisconsin-madison/uncategorized</a>"
      ],
      "text/plain": [
       "<IPython.core.display.HTML object>"
      ]
     },
     "metadata": {},
     "output_type": "display_data"
    },
    {
     "data": {
      "text/html": [
       " View sweep at <a href='https://wandb.ai/kauamritkar-university-of-wisconsin-madison/uncategorized/sweeps/qr944513' target=\"_blank\">https://wandb.ai/kauamritkar-university-of-wisconsin-madison/uncategorized/sweeps/qr944513</a>"
      ],
      "text/plain": [
       "<IPython.core.display.HTML object>"
      ]
     },
     "metadata": {},
     "output_type": "display_data"
    },
    {
     "data": {
      "text/html": [
       " View run at <a href='https://wandb.ai/kauamritkar-university-of-wisconsin-madison/uncategorized/runs/4g4173es' target=\"_blank\">https://wandb.ai/kauamritkar-university-of-wisconsin-madison/uncategorized/runs/4g4173es</a>"
      ],
      "text/plain": [
       "<IPython.core.display.HTML object>"
      ]
     },
     "metadata": {},
     "output_type": "display_data"
    },
    {
     "name": "stderr",
     "output_type": "stream",
     "text": [
      "\u001b[34m\u001b[1mwandb\u001b[0m: \u001b[33mWARNING\u001b[0m Config item 'per_device_train_batch_size' was locked by 'sweep' (ignored update).\n",
      "\u001b[34m\u001b[1mwandb\u001b[0m: \u001b[33mWARNING\u001b[0m Config item 'learning_rate' was locked by 'sweep' (ignored update).\n",
      "/home/kaustubh/miniforge3/envs/lora_esm/lib/python3.13/site-packages/torch/nn/parallel/_functions.py:70: UserWarning: Was asked to gather along dimension 0, but all input tensors were scalars; will instead unsqueeze and return a vector.\n",
      "  warnings.warn(\n"
     ]
    },
    {
     "data": {
      "text/html": [
       "\n",
       "    <div>\n",
       "      \n",
       "      <progress value='110' max='110' style='width:300px; height:20px; vertical-align: middle;'></progress>\n",
       "      [110/110 00:09, Epoch 5/5]\n",
       "    </div>\n",
       "    <table border=\"1\" class=\"dataframe\">\n",
       "  <thead>\n",
       " <tr style=\"text-align: left;\">\n",
       "      <th>Epoch</th>\n",
       "      <th>Training Loss</th>\n",
       "      <th>Validation Loss</th>\n",
       "      <th>Accuracy</th>\n",
       "    </tr>\n",
       "  </thead>\n",
       "  <tbody>\n",
       "    <tr>\n",
       "      <td>1</td>\n",
       "      <td>0.597800</td>\n",
       "      <td>0.560703</td>\n",
       "      <td>0.687500</td>\n",
       "    </tr>\n",
       "    <tr>\n",
       "      <td>2</td>\n",
       "      <td>0.658100</td>\n",
       "      <td>0.562553</td>\n",
       "      <td>0.666667</td>\n",
       "    </tr>\n",
       "    <tr>\n",
       "      <td>3</td>\n",
       "      <td>0.654600</td>\n",
       "      <td>0.574227</td>\n",
       "      <td>0.645833</td>\n",
       "    </tr>\n",
       "    <tr>\n",
       "      <td>4</td>\n",
       "      <td>0.606400</td>\n",
       "      <td>0.566679</td>\n",
       "      <td>0.645833</td>\n",
       "    </tr>\n",
       "    <tr>\n",
       "      <td>5</td>\n",
       "      <td>0.614200</td>\n",
       "      <td>0.560989</td>\n",
       "      <td>0.645833</td>\n",
       "    </tr>\n",
       "  </tbody>\n",
       "</table><p>"
      ],
      "text/plain": [
       "<IPython.core.display.HTML object>"
      ]
     },
     "metadata": {},
     "output_type": "display_data"
    },
    {
     "name": "stdout",
     "output_type": "stream",
     "text": [
      "Predictions shape: (16,)\n",
      "Labels shape: (16,)\n"
     ]
    },
    {
     "name": "stderr",
     "output_type": "stream",
     "text": [
      "/home/kaustubh/miniforge3/envs/lora_esm/lib/python3.13/site-packages/peft/utils/save_and_load.py:246: UserWarning: Could not find a config file in /tmp/facebook/esm2_t6_8M_UR50D - will assume that the vocabulary was not modified.\n",
      "  warnings.warn(\n",
      "/home/kaustubh/miniforge3/envs/lora_esm/lib/python3.13/site-packages/torch/nn/parallel/_functions.py:70: UserWarning: Was asked to gather along dimension 0, but all input tensors were scalars; will instead unsqueeze and return a vector.\n",
      "  warnings.warn(\n"
     ]
    },
    {
     "name": "stdout",
     "output_type": "stream",
     "text": [
      "Predictions shape: (16,)\n",
      "Labels shape: (16,)\n"
     ]
    },
    {
     "name": "stderr",
     "output_type": "stream",
     "text": [
      "/home/kaustubh/miniforge3/envs/lora_esm/lib/python3.13/site-packages/peft/utils/save_and_load.py:246: UserWarning: Could not find a config file in /tmp/facebook/esm2_t6_8M_UR50D - will assume that the vocabulary was not modified.\n",
      "  warnings.warn(\n",
      "/home/kaustubh/miniforge3/envs/lora_esm/lib/python3.13/site-packages/torch/nn/parallel/_functions.py:70: UserWarning: Was asked to gather along dimension 0, but all input tensors were scalars; will instead unsqueeze and return a vector.\n",
      "  warnings.warn(\n"
     ]
    },
    {
     "name": "stdout",
     "output_type": "stream",
     "text": [
      "Predictions shape: (16,)\n",
      "Labels shape: (16,)\n"
     ]
    },
    {
     "name": "stderr",
     "output_type": "stream",
     "text": [
      "/home/kaustubh/miniforge3/envs/lora_esm/lib/python3.13/site-packages/peft/utils/save_and_load.py:246: UserWarning: Could not find a config file in /tmp/facebook/esm2_t6_8M_UR50D - will assume that the vocabulary was not modified.\n",
      "  warnings.warn(\n",
      "/home/kaustubh/miniforge3/envs/lora_esm/lib/python3.13/site-packages/torch/nn/parallel/_functions.py:70: UserWarning: Was asked to gather along dimension 0, but all input tensors were scalars; will instead unsqueeze and return a vector.\n",
      "  warnings.warn(\n"
     ]
    },
    {
     "name": "stdout",
     "output_type": "stream",
     "text": [
      "Predictions shape: (16,)\n",
      "Labels shape: (16,)\n"
     ]
    },
    {
     "name": "stderr",
     "output_type": "stream",
     "text": [
      "/home/kaustubh/miniforge3/envs/lora_esm/lib/python3.13/site-packages/peft/utils/save_and_load.py:246: UserWarning: Could not find a config file in /tmp/facebook/esm2_t6_8M_UR50D - will assume that the vocabulary was not modified.\n",
      "  warnings.warn(\n",
      "/home/kaustubh/miniforge3/envs/lora_esm/lib/python3.13/site-packages/torch/nn/parallel/_functions.py:70: UserWarning: Was asked to gather along dimension 0, but all input tensors were scalars; will instead unsqueeze and return a vector.\n",
      "  warnings.warn(\n",
      "/home/kaustubh/miniforge3/envs/lora_esm/lib/python3.13/site-packages/peft/utils/save_and_load.py:246: UserWarning: Could not find a config file in /tmp/facebook/esm2_t6_8M_UR50D - will assume that the vocabulary was not modified.\n",
      "  warnings.warn(\n",
      "/home/kaustubh/miniforge3/envs/lora_esm/lib/python3.13/site-packages/torch/nn/parallel/_functions.py:70: UserWarning: Was asked to gather along dimension 0, but all input tensors were scalars; will instead unsqueeze and return a vector.\n",
      "  warnings.warn(\n"
     ]
    },
    {
     "name": "stdout",
     "output_type": "stream",
     "text": [
      "Predictions shape: (16,)\n",
      "Labels shape: (16,)\n"
     ]
    },
    {
     "name": "stderr",
     "output_type": "stream",
     "text": [
      "/home/kaustubh/miniforge3/envs/lora_esm/lib/python3.13/site-packages/peft/utils/save_and_load.py:246: UserWarning: Could not find a config file in /tmp/facebook/esm2_t6_8M_UR50D - will assume that the vocabulary was not modified.\n",
      "  warnings.warn(\n"
     ]
    },
    {
     "data": {
      "text/html": [],
      "text/plain": [
       "<IPython.core.display.HTML object>"
      ]
     },
     "metadata": {},
     "output_type": "display_data"
    },
    {
     "data": {
      "text/html": [
       "<br>    <style><br>        .wandb-row {<br>            display: flex;<br>            flex-direction: row;<br>            flex-wrap: wrap;<br>            justify-content: flex-start;<br>            width: 100%;<br>        }<br>        .wandb-col {<br>            display: flex;<br>            flex-direction: column;<br>            flex-basis: 100%;<br>            flex: 1;<br>            padding: 10px;<br>        }<br>    </style><br><div class=\"wandb-row\"><div class=\"wandb-col\"><h3>Run history:</h3><br/><table class=\"wandb\"><tr><td>eval/accuracy</td><td>█▅▁▁▁</td></tr><tr><td>eval/loss</td><td>▁▂█▄▁</td></tr><tr><td>eval/runtime</td><td>▂▆▁▁█</td></tr><tr><td>eval/samples_per_second</td><td>▇▃██▁</td></tr><tr><td>eval/steps_per_second</td><td>▇▃██▁</td></tr><tr><td>train/epoch</td><td>▁▂▂▂▃▃▄▅▅▅▆▆▇▇███</td></tr><tr><td>train/global_step</td><td>▁▂▂▂▃▃▄▅▅▅▆▆▇▇███</td></tr><tr><td>train/grad_norm</td><td>▇▄▅▅█▂▃▃▁▃▄</td></tr><tr><td>train/learning_rate</td><td>█▇▇▆▅▅▄▃▂▂▁</td></tr><tr><td>train/loss</td><td>█▃▄▇▅▇▄▃▁▂▄</td></tr></table><br/></div><div class=\"wandb-col\"><h3>Run summary:</h3><br/><table class=\"wandb\"><tr><td>eval/accuracy</td><td>0.64583</td></tr><tr><td>eval/loss</td><td>0.56099</td></tr><tr><td>eval/runtime</td><td>0.0655</td></tr><tr><td>eval/samples_per_second</td><td>244.375</td></tr><tr><td>eval/steps_per_second</td><td>15.273</td></tr><tr><td>total_flos</td><td>10270797834240.0</td></tr><tr><td>train/epoch</td><td>5</td></tr><tr><td>train/global_step</td><td>110</td></tr><tr><td>train/grad_norm</td><td>0.55014</td></tr><tr><td>train/learning_rate</td><td>0</td></tr><tr><td>train/loss</td><td>0.6142</td></tr><tr><td>train_loss</td><td>0.62038</td></tr><tr><td>train_runtime</td><td>12.016</td></tr><tr><td>train_samples_per_second</td><td>36.202</td></tr><tr><td>train_steps_per_second</td><td>9.154</td></tr></table><br/></div></div>"
      ],
      "text/plain": [
       "<IPython.core.display.HTML object>"
      ]
     },
     "metadata": {},
     "output_type": "display_data"
    },
    {
     "data": {
      "text/html": [
       " View run <strong style=\"color:#cdcd00\">honest-sweep-3</strong> at: <a href='https://wandb.ai/kauamritkar-university-of-wisconsin-madison/uncategorized/runs/4g4173es' target=\"_blank\">https://wandb.ai/kauamritkar-university-of-wisconsin-madison/uncategorized/runs/4g4173es</a><br> View project at: <a href='https://wandb.ai/kauamritkar-university-of-wisconsin-madison/uncategorized' target=\"_blank\">https://wandb.ai/kauamritkar-university-of-wisconsin-madison/uncategorized</a><br>Synced 5 W&B file(s), 0 media file(s), 0 artifact file(s) and 0 other file(s)"
      ],
      "text/plain": [
       "<IPython.core.display.HTML object>"
      ]
     },
     "metadata": {},
     "output_type": "display_data"
    },
    {
     "data": {
      "text/html": [
       "Find logs at: <code>./wandb/run-20250314_180701-4g4173es/logs</code>"
      ],
      "text/plain": [
       "<IPython.core.display.HTML object>"
      ]
     },
     "metadata": {},
     "output_type": "display_data"
    },
    {
     "name": "stderr",
     "output_type": "stream",
     "text": [
      "\u001b[34m\u001b[1mwandb\u001b[0m: Agent Starting Run: p6c8y3u0 with config:\n",
      "\u001b[34m\u001b[1mwandb\u001b[0m: \tlearning_rate: 0.0005890282537604306\n",
      "\u001b[34m\u001b[1mwandb\u001b[0m: \tper_device_train_batch_size: 4\n"
     ]
    },
    {
     "data": {
      "text/html": [
       "Tracking run with wandb version 0.19.7"
      ],
      "text/plain": [
       "<IPython.core.display.HTML object>"
      ]
     },
     "metadata": {},
     "output_type": "display_data"
    },
    {
     "data": {
      "text/html": [
       "Run data is saved locally in <code>/home/kaustubh/RuBisCO_ML/ESM_LoRA/analysis/wandb/run-20250314_180718-p6c8y3u0</code>"
      ],
      "text/plain": [
       "<IPython.core.display.HTML object>"
      ]
     },
     "metadata": {},
     "output_type": "display_data"
    },
    {
     "data": {
      "text/html": [
       "Syncing run <strong><a href='https://wandb.ai/kauamritkar-university-of-wisconsin-madison/uncategorized/runs/p6c8y3u0' target=\"_blank\">fanciful-sweep-4</a></strong> to <a href='https://wandb.ai/kauamritkar-university-of-wisconsin-madison/uncategorized' target=\"_blank\">Weights & Biases</a> (<a href='https://wandb.me/developer-guide' target=\"_blank\">docs</a>)<br>Sweep page: <a href='https://wandb.ai/kauamritkar-university-of-wisconsin-madison/uncategorized/sweeps/qr944513' target=\"_blank\">https://wandb.ai/kauamritkar-university-of-wisconsin-madison/uncategorized/sweeps/qr944513</a>"
      ],
      "text/plain": [
       "<IPython.core.display.HTML object>"
      ]
     },
     "metadata": {},
     "output_type": "display_data"
    },
    {
     "data": {
      "text/html": [
       " View project at <a href='https://wandb.ai/kauamritkar-university-of-wisconsin-madison/uncategorized' target=\"_blank\">https://wandb.ai/kauamritkar-university-of-wisconsin-madison/uncategorized</a>"
      ],
      "text/plain": [
       "<IPython.core.display.HTML object>"
      ]
     },
     "metadata": {},
     "output_type": "display_data"
    },
    {
     "data": {
      "text/html": [
       " View sweep at <a href='https://wandb.ai/kauamritkar-university-of-wisconsin-madison/uncategorized/sweeps/qr944513' target=\"_blank\">https://wandb.ai/kauamritkar-university-of-wisconsin-madison/uncategorized/sweeps/qr944513</a>"
      ],
      "text/plain": [
       "<IPython.core.display.HTML object>"
      ]
     },
     "metadata": {},
     "output_type": "display_data"
    },
    {
     "data": {
      "text/html": [
       " View run at <a href='https://wandb.ai/kauamritkar-university-of-wisconsin-madison/uncategorized/runs/p6c8y3u0' target=\"_blank\">https://wandb.ai/kauamritkar-university-of-wisconsin-madison/uncategorized/runs/p6c8y3u0</a>"
      ],
      "text/plain": [
       "<IPython.core.display.HTML object>"
      ]
     },
     "metadata": {},
     "output_type": "display_data"
    },
    {
     "name": "stderr",
     "output_type": "stream",
     "text": [
      "Trying to set _wandb in the hyperparameter search but there is no corresponding field in `TrainingArguments`.\n",
      "Trying to set assignments in the hyperparameter search but there is no corresponding field in `TrainingArguments`.\n",
      "Trying to set metric in the hyperparameter search but there is no corresponding field in `TrainingArguments`.\n",
      "Detected kernel version 5.4.0, which is below the recommended minimum of 5.5.0; this can cause the process to hang. It is recommended to upgrade the kernel to the minimum version or higher.\n",
      "Some weights of EsmModel were not initialized from the model checkpoint at facebook/esm2_t6_8M_UR50D and are newly initialized: ['esm.pooler.dense.bias', 'esm.pooler.dense.weight']\n",
      "You should probably TRAIN this model on a down-stream task to be able to use it for predictions and inference.\n"
     ]
    },
    {
     "data": {
      "text/html": [],
      "text/plain": [
       "<IPython.core.display.HTML object>"
      ]
     },
     "metadata": {},
     "output_type": "display_data"
    },
    {
     "data": {
      "text/html": [
       " View run <strong style=\"color:#cdcd00\">fanciful-sweep-4</strong> at: <a href='https://wandb.ai/kauamritkar-university-of-wisconsin-madison/uncategorized/runs/p6c8y3u0' target=\"_blank\">https://wandb.ai/kauamritkar-university-of-wisconsin-madison/uncategorized/runs/p6c8y3u0</a><br> View project at: <a href='https://wandb.ai/kauamritkar-university-of-wisconsin-madison/uncategorized' target=\"_blank\">https://wandb.ai/kauamritkar-university-of-wisconsin-madison/uncategorized</a><br>Synced 5 W&B file(s), 0 media file(s), 0 artifact file(s) and 0 other file(s)"
      ],
      "text/plain": [
       "<IPython.core.display.HTML object>"
      ]
     },
     "metadata": {},
     "output_type": "display_data"
    },
    {
     "data": {
      "text/html": [
       "Find logs at: <code>./wandb/run-20250314_180718-p6c8y3u0/logs</code>"
      ],
      "text/plain": [
       "<IPython.core.display.HTML object>"
      ]
     },
     "metadata": {},
     "output_type": "display_data"
    },
    {
     "data": {
      "text/html": [
       "Ignoring project 'uncategorized' when running a sweep."
      ],
      "text/plain": [
       "<IPython.core.display.HTML object>"
      ]
     },
     "metadata": {},
     "output_type": "display_data"
    },
    {
     "data": {
      "text/html": [
       "Tracking run with wandb version 0.19.7"
      ],
      "text/plain": [
       "<IPython.core.display.HTML object>"
      ]
     },
     "metadata": {},
     "output_type": "display_data"
    },
    {
     "data": {
      "text/html": [
       "Run data is saved locally in <code>/home/kaustubh/RuBisCO_ML/ESM_LoRA/analysis/wandb/run-20250314_180722-p6c8y3u0</code>"
      ],
      "text/plain": [
       "<IPython.core.display.HTML object>"
      ]
     },
     "metadata": {},
     "output_type": "display_data"
    },
    {
     "data": {
      "text/html": [
       "Syncing run <strong><a href='https://wandb.ai/kauamritkar-university-of-wisconsin-madison/uncategorized/runs/p6c8y3u0' target=\"_blank\">fanciful-sweep-4</a></strong> to <a href='https://wandb.ai/kauamritkar-university-of-wisconsin-madison/uncategorized' target=\"_blank\">Weights & Biases</a> (<a href='https://wandb.me/developer-guide' target=\"_blank\">docs</a>)<br>Sweep page: <a href='https://wandb.ai/kauamritkar-university-of-wisconsin-madison/uncategorized/sweeps/qr944513' target=\"_blank\">https://wandb.ai/kauamritkar-university-of-wisconsin-madison/uncategorized/sweeps/qr944513</a>"
      ],
      "text/plain": [
       "<IPython.core.display.HTML object>"
      ]
     },
     "metadata": {},
     "output_type": "display_data"
    },
    {
     "data": {
      "text/html": [
       " View project at <a href='https://wandb.ai/kauamritkar-university-of-wisconsin-madison/uncategorized' target=\"_blank\">https://wandb.ai/kauamritkar-university-of-wisconsin-madison/uncategorized</a>"
      ],
      "text/plain": [
       "<IPython.core.display.HTML object>"
      ]
     },
     "metadata": {},
     "output_type": "display_data"
    },
    {
     "data": {
      "text/html": [
       " View sweep at <a href='https://wandb.ai/kauamritkar-university-of-wisconsin-madison/uncategorized/sweeps/qr944513' target=\"_blank\">https://wandb.ai/kauamritkar-university-of-wisconsin-madison/uncategorized/sweeps/qr944513</a>"
      ],
      "text/plain": [
       "<IPython.core.display.HTML object>"
      ]
     },
     "metadata": {},
     "output_type": "display_data"
    },
    {
     "data": {
      "text/html": [
       " View run at <a href='https://wandb.ai/kauamritkar-university-of-wisconsin-madison/uncategorized/runs/p6c8y3u0' target=\"_blank\">https://wandb.ai/kauamritkar-university-of-wisconsin-madison/uncategorized/runs/p6c8y3u0</a>"
      ],
      "text/plain": [
       "<IPython.core.display.HTML object>"
      ]
     },
     "metadata": {},
     "output_type": "display_data"
    },
    {
     "name": "stderr",
     "output_type": "stream",
     "text": [
      "\u001b[34m\u001b[1mwandb\u001b[0m: \u001b[33mWARNING\u001b[0m Config item 'per_device_train_batch_size' was locked by 'sweep' (ignored update).\n",
      "\u001b[34m\u001b[1mwandb\u001b[0m: \u001b[33mWARNING\u001b[0m Config item 'learning_rate' was locked by 'sweep' (ignored update).\n",
      "/home/kaustubh/miniforge3/envs/lora_esm/lib/python3.13/site-packages/torch/nn/parallel/_functions.py:70: UserWarning: Was asked to gather along dimension 0, but all input tensors were scalars; will instead unsqueeze and return a vector.\n",
      "  warnings.warn(\n"
     ]
    },
    {
     "data": {
      "text/html": [
       "\n",
       "    <div>\n",
       "      \n",
       "      <progress value='55' max='55' style='width:300px; height:20px; vertical-align: middle;'></progress>\n",
       "      [55/55 00:04, Epoch 5/5]\n",
       "    </div>\n",
       "    <table border=\"1\" class=\"dataframe\">\n",
       "  <thead>\n",
       " <tr style=\"text-align: left;\">\n",
       "      <th>Epoch</th>\n",
       "      <th>Training Loss</th>\n",
       "      <th>Validation Loss</th>\n",
       "      <th>Accuracy</th>\n",
       "    </tr>\n",
       "  </thead>\n",
       "  <tbody>\n",
       "    <tr>\n",
       "      <td>1</td>\n",
       "      <td>0.664500</td>\n",
       "      <td>0.564628</td>\n",
       "      <td>0.750000</td>\n",
       "    </tr>\n",
       "    <tr>\n",
       "      <td>2</td>\n",
       "      <td>0.631100</td>\n",
       "      <td>0.562007</td>\n",
       "      <td>0.520833</td>\n",
       "    </tr>\n",
       "    <tr>\n",
       "      <td>3</td>\n",
       "      <td>0.649400</td>\n",
       "      <td>0.586967</td>\n",
       "      <td>0.583333</td>\n",
       "    </tr>\n",
       "    <tr>\n",
       "      <td>4</td>\n",
       "      <td>0.609800</td>\n",
       "      <td>0.579284</td>\n",
       "      <td>0.604167</td>\n",
       "    </tr>\n",
       "    <tr>\n",
       "      <td>5</td>\n",
       "      <td>0.589300</td>\n",
       "      <td>0.572532</td>\n",
       "      <td>0.583333</td>\n",
       "    </tr>\n",
       "  </tbody>\n",
       "</table><p>"
      ],
      "text/plain": [
       "<IPython.core.display.HTML object>"
      ]
     },
     "metadata": {},
     "output_type": "display_data"
    },
    {
     "name": "stdout",
     "output_type": "stream",
     "text": [
      "Predictions shape: (16,)\n",
      "Labels shape: (16,)\n"
     ]
    },
    {
     "name": "stderr",
     "output_type": "stream",
     "text": [
      "/home/kaustubh/miniforge3/envs/lora_esm/lib/python3.13/site-packages/peft/utils/save_and_load.py:246: UserWarning: Could not find a config file in /tmp/facebook/esm2_t6_8M_UR50D - will assume that the vocabulary was not modified.\n",
      "  warnings.warn(\n",
      "/home/kaustubh/miniforge3/envs/lora_esm/lib/python3.13/site-packages/torch/nn/parallel/_functions.py:70: UserWarning: Was asked to gather along dimension 0, but all input tensors were scalars; will instead unsqueeze and return a vector.\n",
      "  warnings.warn(\n"
     ]
    },
    {
     "name": "stdout",
     "output_type": "stream",
     "text": [
      "Predictions shape: (16,)\n",
      "Labels shape: (16,)\n"
     ]
    },
    {
     "name": "stderr",
     "output_type": "stream",
     "text": [
      "/home/kaustubh/miniforge3/envs/lora_esm/lib/python3.13/site-packages/peft/utils/save_and_load.py:246: UserWarning: Could not find a config file in /tmp/facebook/esm2_t6_8M_UR50D - will assume that the vocabulary was not modified.\n",
      "  warnings.warn(\n",
      "/home/kaustubh/miniforge3/envs/lora_esm/lib/python3.13/site-packages/torch/nn/parallel/_functions.py:70: UserWarning: Was asked to gather along dimension 0, but all input tensors were scalars; will instead unsqueeze and return a vector.\n",
      "  warnings.warn(\n"
     ]
    },
    {
     "name": "stdout",
     "output_type": "stream",
     "text": [
      "Predictions shape: (16,)\n",
      "Labels shape: (16,)\n"
     ]
    },
    {
     "name": "stderr",
     "output_type": "stream",
     "text": [
      "/home/kaustubh/miniforge3/envs/lora_esm/lib/python3.13/site-packages/peft/utils/save_and_load.py:246: UserWarning: Could not find a config file in /tmp/facebook/esm2_t6_8M_UR50D - will assume that the vocabulary was not modified.\n",
      "  warnings.warn(\n",
      "/home/kaustubh/miniforge3/envs/lora_esm/lib/python3.13/site-packages/torch/nn/parallel/_functions.py:70: UserWarning: Was asked to gather along dimension 0, but all input tensors were scalars; will instead unsqueeze and return a vector.\n",
      "  warnings.warn(\n"
     ]
    },
    {
     "name": "stdout",
     "output_type": "stream",
     "text": [
      "Predictions shape: (16,)\n",
      "Labels shape: (16,)\n"
     ]
    },
    {
     "name": "stderr",
     "output_type": "stream",
     "text": [
      "/home/kaustubh/miniforge3/envs/lora_esm/lib/python3.13/site-packages/peft/utils/save_and_load.py:246: UserWarning: Could not find a config file in /tmp/facebook/esm2_t6_8M_UR50D - will assume that the vocabulary was not modified.\n",
      "  warnings.warn(\n",
      "/home/kaustubh/miniforge3/envs/lora_esm/lib/python3.13/site-packages/torch/nn/parallel/_functions.py:70: UserWarning: Was asked to gather along dimension 0, but all input tensors were scalars; will instead unsqueeze and return a vector.\n",
      "  warnings.warn(\n",
      "/home/kaustubh/miniforge3/envs/lora_esm/lib/python3.13/site-packages/peft/utils/save_and_load.py:246: UserWarning: Could not find a config file in /tmp/facebook/esm2_t6_8M_UR50D - will assume that the vocabulary was not modified.\n",
      "  warnings.warn(\n",
      "/home/kaustubh/miniforge3/envs/lora_esm/lib/python3.13/site-packages/torch/nn/parallel/_functions.py:70: UserWarning: Was asked to gather along dimension 0, but all input tensors were scalars; will instead unsqueeze and return a vector.\n",
      "  warnings.warn(\n"
     ]
    },
    {
     "name": "stdout",
     "output_type": "stream",
     "text": [
      "Predictions shape: (16,)\n",
      "Labels shape: (16,)\n"
     ]
    },
    {
     "name": "stderr",
     "output_type": "stream",
     "text": [
      "/home/kaustubh/miniforge3/envs/lora_esm/lib/python3.13/site-packages/peft/utils/save_and_load.py:246: UserWarning: Could not find a config file in /tmp/facebook/esm2_t6_8M_UR50D - will assume that the vocabulary was not modified.\n",
      "  warnings.warn(\n"
     ]
    },
    {
     "data": {
      "text/html": [],
      "text/plain": [
       "<IPython.core.display.HTML object>"
      ]
     },
     "metadata": {},
     "output_type": "display_data"
    },
    {
     "data": {
      "text/html": [
       "<br>    <style><br>        .wandb-row {<br>            display: flex;<br>            flex-direction: row;<br>            flex-wrap: wrap;<br>            justify-content: flex-start;<br>            width: 100%;<br>        }<br>        .wandb-col {<br>            display: flex;<br>            flex-direction: column;<br>            flex-basis: 100%;<br>            flex: 1;<br>            padding: 10px;<br>        }<br>    </style><br><div class=\"wandb-row\"><div class=\"wandb-col\"><h3>Run history:</h3><br/><table class=\"wandb\"><tr><td>eval/accuracy</td><td>█▁▃▄▃</td></tr><tr><td>eval/loss</td><td>▂▁█▆▄</td></tr><tr><td>eval/runtime</td><td>▂▁▁▂█</td></tr><tr><td>eval/samples_per_second</td><td>▇██▇▁</td></tr><tr><td>eval/steps_per_second</td><td>▇██▇▁</td></tr><tr><td>train/epoch</td><td>▁▁▃▃▄▅▆▆▇██</td></tr><tr><td>train/global_step</td><td>▁▁▃▃▄▅▆▆▇██</td></tr><tr><td>train/grad_norm</td><td>▃█▃▁▄</td></tr><tr><td>train/learning_rate</td><td>█▆▄▃▁</td></tr><tr><td>train/loss</td><td>█▅▇▃▁</td></tr></table><br/></div><div class=\"wandb-col\"><h3>Run summary:</h3><br/><table class=\"wandb\"><tr><td>eval/accuracy</td><td>0.58333</td></tr><tr><td>eval/loss</td><td>0.57253</td></tr><tr><td>eval/runtime</td><td>0.0647</td></tr><tr><td>eval/samples_per_second</td><td>247.121</td></tr><tr><td>eval/steps_per_second</td><td>15.445</td></tr><tr><td>total_flos</td><td>10270797834240.0</td></tr><tr><td>train/epoch</td><td>5</td></tr><tr><td>train/global_step</td><td>55</td></tr><tr><td>train/grad_norm</td><td>0.44341</td></tr><tr><td>train/learning_rate</td><td>5e-05</td></tr><tr><td>train/loss</td><td>0.5893</td></tr><tr><td>train_loss</td><td>0.62696</td></tr><tr><td>train_runtime</td><td>7.7694</td></tr><tr><td>train_samples_per_second</td><td>55.989</td></tr><tr><td>train_steps_per_second</td><td>7.079</td></tr></table><br/></div></div>"
      ],
      "text/plain": [
       "<IPython.core.display.HTML object>"
      ]
     },
     "metadata": {},
     "output_type": "display_data"
    },
    {
     "data": {
      "text/html": [
       " View run <strong style=\"color:#cdcd00\">fanciful-sweep-4</strong> at: <a href='https://wandb.ai/kauamritkar-university-of-wisconsin-madison/uncategorized/runs/p6c8y3u0' target=\"_blank\">https://wandb.ai/kauamritkar-university-of-wisconsin-madison/uncategorized/runs/p6c8y3u0</a><br> View project at: <a href='https://wandb.ai/kauamritkar-university-of-wisconsin-madison/uncategorized' target=\"_blank\">https://wandb.ai/kauamritkar-university-of-wisconsin-madison/uncategorized</a><br>Synced 5 W&B file(s), 0 media file(s), 0 artifact file(s) and 0 other file(s)"
      ],
      "text/plain": [
       "<IPython.core.display.HTML object>"
      ]
     },
     "metadata": {},
     "output_type": "display_data"
    },
    {
     "data": {
      "text/html": [
       "Find logs at: <code>./wandb/run-20250314_180722-p6c8y3u0/logs</code>"
      ],
      "text/plain": [
       "<IPython.core.display.HTML object>"
      ]
     },
     "metadata": {},
     "output_type": "display_data"
    },
    {
     "name": "stderr",
     "output_type": "stream",
     "text": [
      "\u001b[34m\u001b[1mwandb\u001b[0m: Agent Starting Run: rdmla39x with config:\n",
      "\u001b[34m\u001b[1mwandb\u001b[0m: \tlearning_rate: 0.00036032548318413874\n",
      "\u001b[34m\u001b[1mwandb\u001b[0m: \tper_device_train_batch_size: 2\n"
     ]
    },
    {
     "data": {
      "text/html": [
       "Tracking run with wandb version 0.19.7"
      ],
      "text/plain": [
       "<IPython.core.display.HTML object>"
      ]
     },
     "metadata": {},
     "output_type": "display_data"
    },
    {
     "data": {
      "text/html": [
       "Run data is saved locally in <code>/home/kaustubh/RuBisCO_ML/ESM_LoRA/analysis/wandb/run-20250314_180734-rdmla39x</code>"
      ],
      "text/plain": [
       "<IPython.core.display.HTML object>"
      ]
     },
     "metadata": {},
     "output_type": "display_data"
    },
    {
     "data": {
      "text/html": [
       "Syncing run <strong><a href='https://wandb.ai/kauamritkar-university-of-wisconsin-madison/uncategorized/runs/rdmla39x' target=\"_blank\">atomic-sweep-5</a></strong> to <a href='https://wandb.ai/kauamritkar-university-of-wisconsin-madison/uncategorized' target=\"_blank\">Weights & Biases</a> (<a href='https://wandb.me/developer-guide' target=\"_blank\">docs</a>)<br>Sweep page: <a href='https://wandb.ai/kauamritkar-university-of-wisconsin-madison/uncategorized/sweeps/qr944513' target=\"_blank\">https://wandb.ai/kauamritkar-university-of-wisconsin-madison/uncategorized/sweeps/qr944513</a>"
      ],
      "text/plain": [
       "<IPython.core.display.HTML object>"
      ]
     },
     "metadata": {},
     "output_type": "display_data"
    },
    {
     "data": {
      "text/html": [
       " View project at <a href='https://wandb.ai/kauamritkar-university-of-wisconsin-madison/uncategorized' target=\"_blank\">https://wandb.ai/kauamritkar-university-of-wisconsin-madison/uncategorized</a>"
      ],
      "text/plain": [
       "<IPython.core.display.HTML object>"
      ]
     },
     "metadata": {},
     "output_type": "display_data"
    },
    {
     "data": {
      "text/html": [
       " View sweep at <a href='https://wandb.ai/kauamritkar-university-of-wisconsin-madison/uncategorized/sweeps/qr944513' target=\"_blank\">https://wandb.ai/kauamritkar-university-of-wisconsin-madison/uncategorized/sweeps/qr944513</a>"
      ],
      "text/plain": [
       "<IPython.core.display.HTML object>"
      ]
     },
     "metadata": {},
     "output_type": "display_data"
    },
    {
     "data": {
      "text/html": [
       " View run at <a href='https://wandb.ai/kauamritkar-university-of-wisconsin-madison/uncategorized/runs/rdmla39x' target=\"_blank\">https://wandb.ai/kauamritkar-university-of-wisconsin-madison/uncategorized/runs/rdmla39x</a>"
      ],
      "text/plain": [
       "<IPython.core.display.HTML object>"
      ]
     },
     "metadata": {},
     "output_type": "display_data"
    },
    {
     "name": "stderr",
     "output_type": "stream",
     "text": [
      "Trying to set _wandb in the hyperparameter search but there is no corresponding field in `TrainingArguments`.\n",
      "Trying to set assignments in the hyperparameter search but there is no corresponding field in `TrainingArguments`.\n",
      "Trying to set metric in the hyperparameter search but there is no corresponding field in `TrainingArguments`.\n",
      "Detected kernel version 5.4.0, which is below the recommended minimum of 5.5.0; this can cause the process to hang. It is recommended to upgrade the kernel to the minimum version or higher.\n",
      "Some weights of EsmModel were not initialized from the model checkpoint at facebook/esm2_t6_8M_UR50D and are newly initialized: ['esm.pooler.dense.bias', 'esm.pooler.dense.weight']\n",
      "You should probably TRAIN this model on a down-stream task to be able to use it for predictions and inference.\n"
     ]
    },
    {
     "data": {
      "text/html": [],
      "text/plain": [
       "<IPython.core.display.HTML object>"
      ]
     },
     "metadata": {},
     "output_type": "display_data"
    },
    {
     "data": {
      "text/html": [
       " View run <strong style=\"color:#cdcd00\">atomic-sweep-5</strong> at: <a href='https://wandb.ai/kauamritkar-university-of-wisconsin-madison/uncategorized/runs/rdmla39x' target=\"_blank\">https://wandb.ai/kauamritkar-university-of-wisconsin-madison/uncategorized/runs/rdmla39x</a><br> View project at: <a href='https://wandb.ai/kauamritkar-university-of-wisconsin-madison/uncategorized' target=\"_blank\">https://wandb.ai/kauamritkar-university-of-wisconsin-madison/uncategorized</a><br>Synced 5 W&B file(s), 0 media file(s), 0 artifact file(s) and 0 other file(s)"
      ],
      "text/plain": [
       "<IPython.core.display.HTML object>"
      ]
     },
     "metadata": {},
     "output_type": "display_data"
    },
    {
     "data": {
      "text/html": [
       "Find logs at: <code>./wandb/run-20250314_180734-rdmla39x/logs</code>"
      ],
      "text/plain": [
       "<IPython.core.display.HTML object>"
      ]
     },
     "metadata": {},
     "output_type": "display_data"
    },
    {
     "data": {
      "text/html": [
       "Ignoring project 'uncategorized' when running a sweep."
      ],
      "text/plain": [
       "<IPython.core.display.HTML object>"
      ]
     },
     "metadata": {},
     "output_type": "display_data"
    },
    {
     "data": {
      "text/html": [
       "Tracking run with wandb version 0.19.7"
      ],
      "text/plain": [
       "<IPython.core.display.HTML object>"
      ]
     },
     "metadata": {},
     "output_type": "display_data"
    },
    {
     "data": {
      "text/html": [
       "Run data is saved locally in <code>/home/kaustubh/RuBisCO_ML/ESM_LoRA/analysis/wandb/run-20250314_180738-rdmla39x</code>"
      ],
      "text/plain": [
       "<IPython.core.display.HTML object>"
      ]
     },
     "metadata": {},
     "output_type": "display_data"
    },
    {
     "data": {
      "text/html": [
       "Syncing run <strong><a href='https://wandb.ai/kauamritkar-university-of-wisconsin-madison/uncategorized/runs/rdmla39x' target=\"_blank\">atomic-sweep-5</a></strong> to <a href='https://wandb.ai/kauamritkar-university-of-wisconsin-madison/uncategorized' target=\"_blank\">Weights & Biases</a> (<a href='https://wandb.me/developer-guide' target=\"_blank\">docs</a>)<br>Sweep page: <a href='https://wandb.ai/kauamritkar-university-of-wisconsin-madison/uncategorized/sweeps/qr944513' target=\"_blank\">https://wandb.ai/kauamritkar-university-of-wisconsin-madison/uncategorized/sweeps/qr944513</a>"
      ],
      "text/plain": [
       "<IPython.core.display.HTML object>"
      ]
     },
     "metadata": {},
     "output_type": "display_data"
    },
    {
     "data": {
      "text/html": [
       " View project at <a href='https://wandb.ai/kauamritkar-university-of-wisconsin-madison/uncategorized' target=\"_blank\">https://wandb.ai/kauamritkar-university-of-wisconsin-madison/uncategorized</a>"
      ],
      "text/plain": [
       "<IPython.core.display.HTML object>"
      ]
     },
     "metadata": {},
     "output_type": "display_data"
    },
    {
     "data": {
      "text/html": [
       " View sweep at <a href='https://wandb.ai/kauamritkar-university-of-wisconsin-madison/uncategorized/sweeps/qr944513' target=\"_blank\">https://wandb.ai/kauamritkar-university-of-wisconsin-madison/uncategorized/sweeps/qr944513</a>"
      ],
      "text/plain": [
       "<IPython.core.display.HTML object>"
      ]
     },
     "metadata": {},
     "output_type": "display_data"
    },
    {
     "data": {
      "text/html": [
       " View run at <a href='https://wandb.ai/kauamritkar-university-of-wisconsin-madison/uncategorized/runs/rdmla39x' target=\"_blank\">https://wandb.ai/kauamritkar-university-of-wisconsin-madison/uncategorized/runs/rdmla39x</a>"
      ],
      "text/plain": [
       "<IPython.core.display.HTML object>"
      ]
     },
     "metadata": {},
     "output_type": "display_data"
    },
    {
     "name": "stderr",
     "output_type": "stream",
     "text": [
      "\u001b[34m\u001b[1mwandb\u001b[0m: \u001b[33mWARNING\u001b[0m Config item 'per_device_train_batch_size' was locked by 'sweep' (ignored update).\n",
      "\u001b[34m\u001b[1mwandb\u001b[0m: \u001b[33mWARNING\u001b[0m Config item 'learning_rate' was locked by 'sweep' (ignored update).\n",
      "/home/kaustubh/miniforge3/envs/lora_esm/lib/python3.13/site-packages/torch/nn/parallel/_functions.py:70: UserWarning: Was asked to gather along dimension 0, but all input tensors were scalars; will instead unsqueeze and return a vector.\n",
      "  warnings.warn(\n"
     ]
    },
    {
     "data": {
      "text/html": [
       "\n",
       "    <div>\n",
       "      \n",
       "      <progress value='110' max='110' style='width:300px; height:20px; vertical-align: middle;'></progress>\n",
       "      [110/110 00:09, Epoch 5/5]\n",
       "    </div>\n",
       "    <table border=\"1\" class=\"dataframe\">\n",
       "  <thead>\n",
       " <tr style=\"text-align: left;\">\n",
       "      <th>Epoch</th>\n",
       "      <th>Training Loss</th>\n",
       "      <th>Validation Loss</th>\n",
       "      <th>Accuracy</th>\n",
       "    </tr>\n",
       "  </thead>\n",
       "  <tbody>\n",
       "    <tr>\n",
       "      <td>1</td>\n",
       "      <td>0.611800</td>\n",
       "      <td>0.567069</td>\n",
       "      <td>0.729167</td>\n",
       "    </tr>\n",
       "    <tr>\n",
       "      <td>2</td>\n",
       "      <td>0.647200</td>\n",
       "      <td>0.584135</td>\n",
       "      <td>0.520833</td>\n",
       "    </tr>\n",
       "    <tr>\n",
       "      <td>3</td>\n",
       "      <td>0.654300</td>\n",
       "      <td>0.583227</td>\n",
       "      <td>0.604167</td>\n",
       "    </tr>\n",
       "    <tr>\n",
       "      <td>4</td>\n",
       "      <td>0.609500</td>\n",
       "      <td>0.568251</td>\n",
       "      <td>0.625000</td>\n",
       "    </tr>\n",
       "    <tr>\n",
       "      <td>5</td>\n",
       "      <td>0.617000</td>\n",
       "      <td>0.562475</td>\n",
       "      <td>0.625000</td>\n",
       "    </tr>\n",
       "  </tbody>\n",
       "</table><p>"
      ],
      "text/plain": [
       "<IPython.core.display.HTML object>"
      ]
     },
     "metadata": {},
     "output_type": "display_data"
    },
    {
     "name": "stdout",
     "output_type": "stream",
     "text": [
      "Predictions shape: (16,)\n",
      "Labels shape: (16,)\n"
     ]
    },
    {
     "name": "stderr",
     "output_type": "stream",
     "text": [
      "/home/kaustubh/miniforge3/envs/lora_esm/lib/python3.13/site-packages/peft/utils/save_and_load.py:246: UserWarning: Could not find a config file in /tmp/facebook/esm2_t6_8M_UR50D - will assume that the vocabulary was not modified.\n",
      "  warnings.warn(\n",
      "/home/kaustubh/miniforge3/envs/lora_esm/lib/python3.13/site-packages/torch/nn/parallel/_functions.py:70: UserWarning: Was asked to gather along dimension 0, but all input tensors were scalars; will instead unsqueeze and return a vector.\n",
      "  warnings.warn(\n"
     ]
    },
    {
     "name": "stdout",
     "output_type": "stream",
     "text": [
      "Predictions shape: (16,)\n",
      "Labels shape: (16,)\n"
     ]
    },
    {
     "name": "stderr",
     "output_type": "stream",
     "text": [
      "/home/kaustubh/miniforge3/envs/lora_esm/lib/python3.13/site-packages/peft/utils/save_and_load.py:246: UserWarning: Could not find a config file in /tmp/facebook/esm2_t6_8M_UR50D - will assume that the vocabulary was not modified.\n",
      "  warnings.warn(\n",
      "/home/kaustubh/miniforge3/envs/lora_esm/lib/python3.13/site-packages/torch/nn/parallel/_functions.py:70: UserWarning: Was asked to gather along dimension 0, but all input tensors were scalars; will instead unsqueeze and return a vector.\n",
      "  warnings.warn(\n"
     ]
    },
    {
     "name": "stdout",
     "output_type": "stream",
     "text": [
      "Predictions shape: (16,)\n",
      "Labels shape: (16,)\n"
     ]
    },
    {
     "name": "stderr",
     "output_type": "stream",
     "text": [
      "/home/kaustubh/miniforge3/envs/lora_esm/lib/python3.13/site-packages/peft/utils/save_and_load.py:246: UserWarning: Could not find a config file in /tmp/facebook/esm2_t6_8M_UR50D - will assume that the vocabulary was not modified.\n",
      "  warnings.warn(\n",
      "/home/kaustubh/miniforge3/envs/lora_esm/lib/python3.13/site-packages/torch/nn/parallel/_functions.py:70: UserWarning: Was asked to gather along dimension 0, but all input tensors were scalars; will instead unsqueeze and return a vector.\n",
      "  warnings.warn(\n"
     ]
    },
    {
     "name": "stdout",
     "output_type": "stream",
     "text": [
      "Predictions shape: (16,)\n",
      "Labels shape: (16,)\n"
     ]
    },
    {
     "name": "stderr",
     "output_type": "stream",
     "text": [
      "/home/kaustubh/miniforge3/envs/lora_esm/lib/python3.13/site-packages/peft/utils/save_and_load.py:246: UserWarning: Could not find a config file in /tmp/facebook/esm2_t6_8M_UR50D - will assume that the vocabulary was not modified.\n",
      "  warnings.warn(\n",
      "/home/kaustubh/miniforge3/envs/lora_esm/lib/python3.13/site-packages/torch/nn/parallel/_functions.py:70: UserWarning: Was asked to gather along dimension 0, but all input tensors were scalars; will instead unsqueeze and return a vector.\n",
      "  warnings.warn(\n",
      "/home/kaustubh/miniforge3/envs/lora_esm/lib/python3.13/site-packages/peft/utils/save_and_load.py:246: UserWarning: Could not find a config file in /tmp/facebook/esm2_t6_8M_UR50D - will assume that the vocabulary was not modified.\n",
      "  warnings.warn(\n",
      "/home/kaustubh/miniforge3/envs/lora_esm/lib/python3.13/site-packages/torch/nn/parallel/_functions.py:70: UserWarning: Was asked to gather along dimension 0, but all input tensors were scalars; will instead unsqueeze and return a vector.\n",
      "  warnings.warn(\n"
     ]
    },
    {
     "name": "stdout",
     "output_type": "stream",
     "text": [
      "Predictions shape: (16,)\n",
      "Labels shape: (16,)\n"
     ]
    },
    {
     "name": "stderr",
     "output_type": "stream",
     "text": [
      "/home/kaustubh/miniforge3/envs/lora_esm/lib/python3.13/site-packages/peft/utils/save_and_load.py:246: UserWarning: Could not find a config file in /tmp/facebook/esm2_t6_8M_UR50D - will assume that the vocabulary was not modified.\n",
      "  warnings.warn(\n"
     ]
    },
    {
     "data": {
      "text/html": [],
      "text/plain": [
       "<IPython.core.display.HTML object>"
      ]
     },
     "metadata": {},
     "output_type": "display_data"
    },
    {
     "data": {
      "text/html": [
       "<br>    <style><br>        .wandb-row {<br>            display: flex;<br>            flex-direction: row;<br>            flex-wrap: wrap;<br>            justify-content: flex-start;<br>            width: 100%;<br>        }<br>        .wandb-col {<br>            display: flex;<br>            flex-direction: column;<br>            flex-basis: 100%;<br>            flex: 1;<br>            padding: 10px;<br>        }<br>    </style><br><div class=\"wandb-row\"><div class=\"wandb-col\"><h3>Run history:</h3><br/><table class=\"wandb\"><tr><td>eval/accuracy</td><td>█▁▄▅▅</td></tr><tr><td>eval/loss</td><td>▂██▃▁</td></tr><tr><td>eval/runtime</td><td>▅▁▁▃█</td></tr><tr><td>eval/samples_per_second</td><td>▃██▆▁</td></tr><tr><td>eval/steps_per_second</td><td>▃██▆▁</td></tr><tr><td>train/epoch</td><td>▁▂▂▂▃▃▄▅▅▅▆▆▇▇███</td></tr><tr><td>train/global_step</td><td>▁▂▂▂▃▃▄▅▅▅▆▆▇▇███</td></tr><tr><td>train/grad_norm</td><td>▆▃▄▇█▂▃▄▁▄▄</td></tr><tr><td>train/learning_rate</td><td>█▇▇▆▅▅▄▃▂▂▁</td></tr><tr><td>train/loss</td><td>█▃▃▅▅▆▄▃▁▂▄</td></tr></table><br/></div><div class=\"wandb-col\"><h3>Run summary:</h3><br/><table class=\"wandb\"><tr><td>eval/accuracy</td><td>0.625</td></tr><tr><td>eval/loss</td><td>0.56247</td></tr><tr><td>eval/runtime</td><td>0.0653</td></tr><tr><td>eval/samples_per_second</td><td>245.187</td></tr><tr><td>eval/steps_per_second</td><td>15.324</td></tr><tr><td>total_flos</td><td>10270797834240.0</td></tr><tr><td>train/epoch</td><td>5</td></tr><tr><td>train/global_step</td><td>110</td></tr><tr><td>train/grad_norm</td><td>0.68787</td></tr><tr><td>train/learning_rate</td><td>0</td></tr><tr><td>train/loss</td><td>0.617</td></tr><tr><td>train_loss</td><td>0.62393</td></tr><tr><td>train_runtime</td><td>11.978</td></tr><tr><td>train_samples_per_second</td><td>36.317</td></tr><tr><td>train_steps_per_second</td><td>9.184</td></tr></table><br/></div></div>"
      ],
      "text/plain": [
       "<IPython.core.display.HTML object>"
      ]
     },
     "metadata": {},
     "output_type": "display_data"
    },
    {
     "data": {
      "text/html": [
       " View run <strong style=\"color:#cdcd00\">atomic-sweep-5</strong> at: <a href='https://wandb.ai/kauamritkar-university-of-wisconsin-madison/uncategorized/runs/rdmla39x' target=\"_blank\">https://wandb.ai/kauamritkar-university-of-wisconsin-madison/uncategorized/runs/rdmla39x</a><br> View project at: <a href='https://wandb.ai/kauamritkar-university-of-wisconsin-madison/uncategorized' target=\"_blank\">https://wandb.ai/kauamritkar-university-of-wisconsin-madison/uncategorized</a><br>Synced 5 W&B file(s), 0 media file(s), 0 artifact file(s) and 0 other file(s)"
      ],
      "text/plain": [
       "<IPython.core.display.HTML object>"
      ]
     },
     "metadata": {},
     "output_type": "display_data"
    },
    {
     "data": {
      "text/html": [
       "Find logs at: <code>./wandb/run-20250314_180738-rdmla39x/logs</code>"
      ],
      "text/plain": [
       "<IPython.core.display.HTML object>"
      ]
     },
     "metadata": {},
     "output_type": "display_data"
    },
    {
     "name": "stderr",
     "output_type": "stream",
     "text": [
      "\u001b[34m\u001b[1mwandb\u001b[0m: Agent Starting Run: itpmbnss with config:\n",
      "\u001b[34m\u001b[1mwandb\u001b[0m: \tlearning_rate: 0.00090886831152893\n",
      "\u001b[34m\u001b[1mwandb\u001b[0m: \tper_device_train_batch_size: 4\n"
     ]
    },
    {
     "data": {
      "text/html": [
       "Tracking run with wandb version 0.19.7"
      ],
      "text/plain": [
       "<IPython.core.display.HTML object>"
      ]
     },
     "metadata": {},
     "output_type": "display_data"
    },
    {
     "data": {
      "text/html": [
       "Run data is saved locally in <code>/home/kaustubh/RuBisCO_ML/ESM_LoRA/analysis/wandb/run-20250314_180755-itpmbnss</code>"
      ],
      "text/plain": [
       "<IPython.core.display.HTML object>"
      ]
     },
     "metadata": {},
     "output_type": "display_data"
    },
    {
     "data": {
      "text/html": [
       "Syncing run <strong><a href='https://wandb.ai/kauamritkar-university-of-wisconsin-madison/uncategorized/runs/itpmbnss' target=\"_blank\">sleek-sweep-6</a></strong> to <a href='https://wandb.ai/kauamritkar-university-of-wisconsin-madison/uncategorized' target=\"_blank\">Weights & Biases</a> (<a href='https://wandb.me/developer-guide' target=\"_blank\">docs</a>)<br>Sweep page: <a href='https://wandb.ai/kauamritkar-university-of-wisconsin-madison/uncategorized/sweeps/qr944513' target=\"_blank\">https://wandb.ai/kauamritkar-university-of-wisconsin-madison/uncategorized/sweeps/qr944513</a>"
      ],
      "text/plain": [
       "<IPython.core.display.HTML object>"
      ]
     },
     "metadata": {},
     "output_type": "display_data"
    },
    {
     "data": {
      "text/html": [
       " View project at <a href='https://wandb.ai/kauamritkar-university-of-wisconsin-madison/uncategorized' target=\"_blank\">https://wandb.ai/kauamritkar-university-of-wisconsin-madison/uncategorized</a>"
      ],
      "text/plain": [
       "<IPython.core.display.HTML object>"
      ]
     },
     "metadata": {},
     "output_type": "display_data"
    },
    {
     "data": {
      "text/html": [
       " View sweep at <a href='https://wandb.ai/kauamritkar-university-of-wisconsin-madison/uncategorized/sweeps/qr944513' target=\"_blank\">https://wandb.ai/kauamritkar-university-of-wisconsin-madison/uncategorized/sweeps/qr944513</a>"
      ],
      "text/plain": [
       "<IPython.core.display.HTML object>"
      ]
     },
     "metadata": {},
     "output_type": "display_data"
    },
    {
     "data": {
      "text/html": [
       " View run at <a href='https://wandb.ai/kauamritkar-university-of-wisconsin-madison/uncategorized/runs/itpmbnss' target=\"_blank\">https://wandb.ai/kauamritkar-university-of-wisconsin-madison/uncategorized/runs/itpmbnss</a>"
      ],
      "text/plain": [
       "<IPython.core.display.HTML object>"
      ]
     },
     "metadata": {},
     "output_type": "display_data"
    },
    {
     "name": "stderr",
     "output_type": "stream",
     "text": [
      "Trying to set _wandb in the hyperparameter search but there is no corresponding field in `TrainingArguments`.\n",
      "Trying to set assignments in the hyperparameter search but there is no corresponding field in `TrainingArguments`.\n",
      "Trying to set metric in the hyperparameter search but there is no corresponding field in `TrainingArguments`.\n",
      "Detected kernel version 5.4.0, which is below the recommended minimum of 5.5.0; this can cause the process to hang. It is recommended to upgrade the kernel to the minimum version or higher.\n",
      "Some weights of EsmModel were not initialized from the model checkpoint at facebook/esm2_t6_8M_UR50D and are newly initialized: ['esm.pooler.dense.bias', 'esm.pooler.dense.weight']\n",
      "You should probably TRAIN this model on a down-stream task to be able to use it for predictions and inference.\n"
     ]
    },
    {
     "data": {
      "text/html": [],
      "text/plain": [
       "<IPython.core.display.HTML object>"
      ]
     },
     "metadata": {},
     "output_type": "display_data"
    },
    {
     "data": {
      "text/html": [
       " View run <strong style=\"color:#cdcd00\">sleek-sweep-6</strong> at: <a href='https://wandb.ai/kauamritkar-university-of-wisconsin-madison/uncategorized/runs/itpmbnss' target=\"_blank\">https://wandb.ai/kauamritkar-university-of-wisconsin-madison/uncategorized/runs/itpmbnss</a><br> View project at: <a href='https://wandb.ai/kauamritkar-university-of-wisconsin-madison/uncategorized' target=\"_blank\">https://wandb.ai/kauamritkar-university-of-wisconsin-madison/uncategorized</a><br>Synced 5 W&B file(s), 0 media file(s), 0 artifact file(s) and 0 other file(s)"
      ],
      "text/plain": [
       "<IPython.core.display.HTML object>"
      ]
     },
     "metadata": {},
     "output_type": "display_data"
    },
    {
     "data": {
      "text/html": [
       "Find logs at: <code>./wandb/run-20250314_180755-itpmbnss/logs</code>"
      ],
      "text/plain": [
       "<IPython.core.display.HTML object>"
      ]
     },
     "metadata": {},
     "output_type": "display_data"
    },
    {
     "data": {
      "text/html": [
       "Ignoring project 'uncategorized' when running a sweep."
      ],
      "text/plain": [
       "<IPython.core.display.HTML object>"
      ]
     },
     "metadata": {},
     "output_type": "display_data"
    },
    {
     "data": {
      "text/html": [
       "Tracking run with wandb version 0.19.7"
      ],
      "text/plain": [
       "<IPython.core.display.HTML object>"
      ]
     },
     "metadata": {},
     "output_type": "display_data"
    },
    {
     "data": {
      "text/html": [
       "Run data is saved locally in <code>/home/kaustubh/RuBisCO_ML/ESM_LoRA/analysis/wandb/run-20250314_180759-itpmbnss</code>"
      ],
      "text/plain": [
       "<IPython.core.display.HTML object>"
      ]
     },
     "metadata": {},
     "output_type": "display_data"
    },
    {
     "data": {
      "text/html": [
       "Syncing run <strong><a href='https://wandb.ai/kauamritkar-university-of-wisconsin-madison/uncategorized/runs/itpmbnss' target=\"_blank\">sleek-sweep-6</a></strong> to <a href='https://wandb.ai/kauamritkar-university-of-wisconsin-madison/uncategorized' target=\"_blank\">Weights & Biases</a> (<a href='https://wandb.me/developer-guide' target=\"_blank\">docs</a>)<br>Sweep page: <a href='https://wandb.ai/kauamritkar-university-of-wisconsin-madison/uncategorized/sweeps/qr944513' target=\"_blank\">https://wandb.ai/kauamritkar-university-of-wisconsin-madison/uncategorized/sweeps/qr944513</a>"
      ],
      "text/plain": [
       "<IPython.core.display.HTML object>"
      ]
     },
     "metadata": {},
     "output_type": "display_data"
    },
    {
     "data": {
      "text/html": [
       " View project at <a href='https://wandb.ai/kauamritkar-university-of-wisconsin-madison/uncategorized' target=\"_blank\">https://wandb.ai/kauamritkar-university-of-wisconsin-madison/uncategorized</a>"
      ],
      "text/plain": [
       "<IPython.core.display.HTML object>"
      ]
     },
     "metadata": {},
     "output_type": "display_data"
    },
    {
     "data": {
      "text/html": [
       " View sweep at <a href='https://wandb.ai/kauamritkar-university-of-wisconsin-madison/uncategorized/sweeps/qr944513' target=\"_blank\">https://wandb.ai/kauamritkar-university-of-wisconsin-madison/uncategorized/sweeps/qr944513</a>"
      ],
      "text/plain": [
       "<IPython.core.display.HTML object>"
      ]
     },
     "metadata": {},
     "output_type": "display_data"
    },
    {
     "data": {
      "text/html": [
       " View run at <a href='https://wandb.ai/kauamritkar-university-of-wisconsin-madison/uncategorized/runs/itpmbnss' target=\"_blank\">https://wandb.ai/kauamritkar-university-of-wisconsin-madison/uncategorized/runs/itpmbnss</a>"
      ],
      "text/plain": [
       "<IPython.core.display.HTML object>"
      ]
     },
     "metadata": {},
     "output_type": "display_data"
    },
    {
     "name": "stderr",
     "output_type": "stream",
     "text": [
      "\u001b[34m\u001b[1mwandb\u001b[0m: \u001b[33mWARNING\u001b[0m Config item 'per_device_train_batch_size' was locked by 'sweep' (ignored update).\n",
      "\u001b[34m\u001b[1mwandb\u001b[0m: \u001b[33mWARNING\u001b[0m Config item 'learning_rate' was locked by 'sweep' (ignored update).\n",
      "/home/kaustubh/miniforge3/envs/lora_esm/lib/python3.13/site-packages/torch/nn/parallel/_functions.py:70: UserWarning: Was asked to gather along dimension 0, but all input tensors were scalars; will instead unsqueeze and return a vector.\n",
      "  warnings.warn(\n"
     ]
    },
    {
     "data": {
      "text/html": [
       "\n",
       "    <div>\n",
       "      \n",
       "      <progress value='55' max='55' style='width:300px; height:20px; vertical-align: middle;'></progress>\n",
       "      [55/55 00:05, Epoch 5/5]\n",
       "    </div>\n",
       "    <table border=\"1\" class=\"dataframe\">\n",
       "  <thead>\n",
       " <tr style=\"text-align: left;\">\n",
       "      <th>Epoch</th>\n",
       "      <th>Training Loss</th>\n",
       "      <th>Validation Loss</th>\n",
       "      <th>Accuracy</th>\n",
       "    </tr>\n",
       "  </thead>\n",
       "  <tbody>\n",
       "    <tr>\n",
       "      <td>1</td>\n",
       "      <td>0.650100</td>\n",
       "      <td>0.561523</td>\n",
       "      <td>0.729167</td>\n",
       "    </tr>\n",
       "    <tr>\n",
       "      <td>2</td>\n",
       "      <td>0.641200</td>\n",
       "      <td>0.555324</td>\n",
       "      <td>0.645833</td>\n",
       "    </tr>\n",
       "    <tr>\n",
       "      <td>3</td>\n",
       "      <td>0.651000</td>\n",
       "      <td>0.575226</td>\n",
       "      <td>0.645833</td>\n",
       "    </tr>\n",
       "    <tr>\n",
       "      <td>4</td>\n",
       "      <td>0.604300</td>\n",
       "      <td>0.569752</td>\n",
       "      <td>0.645833</td>\n",
       "    </tr>\n",
       "    <tr>\n",
       "      <td>5</td>\n",
       "      <td>0.581200</td>\n",
       "      <td>0.564126</td>\n",
       "      <td>0.645833</td>\n",
       "    </tr>\n",
       "  </tbody>\n",
       "</table><p>"
      ],
      "text/plain": [
       "<IPython.core.display.HTML object>"
      ]
     },
     "metadata": {},
     "output_type": "display_data"
    },
    {
     "name": "stdout",
     "output_type": "stream",
     "text": [
      "Predictions shape: (16,)\n",
      "Labels shape: (16,)\n"
     ]
    },
    {
     "name": "stderr",
     "output_type": "stream",
     "text": [
      "/home/kaustubh/miniforge3/envs/lora_esm/lib/python3.13/site-packages/peft/utils/save_and_load.py:246: UserWarning: Could not find a config file in /tmp/facebook/esm2_t6_8M_UR50D - will assume that the vocabulary was not modified.\n",
      "  warnings.warn(\n",
      "/home/kaustubh/miniforge3/envs/lora_esm/lib/python3.13/site-packages/torch/nn/parallel/_functions.py:70: UserWarning: Was asked to gather along dimension 0, but all input tensors were scalars; will instead unsqueeze and return a vector.\n",
      "  warnings.warn(\n"
     ]
    },
    {
     "name": "stdout",
     "output_type": "stream",
     "text": [
      "Predictions shape: (16,)\n",
      "Labels shape: (16,)\n"
     ]
    },
    {
     "name": "stderr",
     "output_type": "stream",
     "text": [
      "/home/kaustubh/miniforge3/envs/lora_esm/lib/python3.13/site-packages/peft/utils/save_and_load.py:246: UserWarning: Could not find a config file in /tmp/facebook/esm2_t6_8M_UR50D - will assume that the vocabulary was not modified.\n",
      "  warnings.warn(\n",
      "/home/kaustubh/miniforge3/envs/lora_esm/lib/python3.13/site-packages/torch/nn/parallel/_functions.py:70: UserWarning: Was asked to gather along dimension 0, but all input tensors were scalars; will instead unsqueeze and return a vector.\n",
      "  warnings.warn(\n"
     ]
    },
    {
     "name": "stdout",
     "output_type": "stream",
     "text": [
      "Predictions shape: (16,)\n",
      "Labels shape: (16,)\n"
     ]
    },
    {
     "name": "stderr",
     "output_type": "stream",
     "text": [
      "/home/kaustubh/miniforge3/envs/lora_esm/lib/python3.13/site-packages/peft/utils/save_and_load.py:246: UserWarning: Could not find a config file in /tmp/facebook/esm2_t6_8M_UR50D - will assume that the vocabulary was not modified.\n",
      "  warnings.warn(\n",
      "/home/kaustubh/miniforge3/envs/lora_esm/lib/python3.13/site-packages/torch/nn/parallel/_functions.py:70: UserWarning: Was asked to gather along dimension 0, but all input tensors were scalars; will instead unsqueeze and return a vector.\n",
      "  warnings.warn(\n"
     ]
    },
    {
     "name": "stdout",
     "output_type": "stream",
     "text": [
      "Predictions shape: (16,)\n",
      "Labels shape: (16,)\n"
     ]
    },
    {
     "name": "stderr",
     "output_type": "stream",
     "text": [
      "/home/kaustubh/miniforge3/envs/lora_esm/lib/python3.13/site-packages/peft/utils/save_and_load.py:246: UserWarning: Could not find a config file in /tmp/facebook/esm2_t6_8M_UR50D - will assume that the vocabulary was not modified.\n",
      "  warnings.warn(\n",
      "/home/kaustubh/miniforge3/envs/lora_esm/lib/python3.13/site-packages/torch/nn/parallel/_functions.py:70: UserWarning: Was asked to gather along dimension 0, but all input tensors were scalars; will instead unsqueeze and return a vector.\n",
      "  warnings.warn(\n",
      "/home/kaustubh/miniforge3/envs/lora_esm/lib/python3.13/site-packages/peft/utils/save_and_load.py:246: UserWarning: Could not find a config file in /tmp/facebook/esm2_t6_8M_UR50D - will assume that the vocabulary was not modified.\n",
      "  warnings.warn(\n",
      "/home/kaustubh/miniforge3/envs/lora_esm/lib/python3.13/site-packages/torch/nn/parallel/_functions.py:70: UserWarning: Was asked to gather along dimension 0, but all input tensors were scalars; will instead unsqueeze and return a vector.\n",
      "  warnings.warn(\n"
     ]
    },
    {
     "name": "stdout",
     "output_type": "stream",
     "text": [
      "Predictions shape: (16,)\n",
      "Labels shape: (16,)\n"
     ]
    },
    {
     "name": "stderr",
     "output_type": "stream",
     "text": [
      "/home/kaustubh/miniforge3/envs/lora_esm/lib/python3.13/site-packages/peft/utils/save_and_load.py:246: UserWarning: Could not find a config file in /tmp/facebook/esm2_t6_8M_UR50D - will assume that the vocabulary was not modified.\n",
      "  warnings.warn(\n"
     ]
    },
    {
     "data": {
      "text/html": [],
      "text/plain": [
       "<IPython.core.display.HTML object>"
      ]
     },
     "metadata": {},
     "output_type": "display_data"
    },
    {
     "data": {
      "text/html": [
       "<br>    <style><br>        .wandb-row {<br>            display: flex;<br>            flex-direction: row;<br>            flex-wrap: wrap;<br>            justify-content: flex-start;<br>            width: 100%;<br>        }<br>        .wandb-col {<br>            display: flex;<br>            flex-direction: column;<br>            flex-basis: 100%;<br>            flex: 1;<br>            padding: 10px;<br>        }<br>    </style><br><div class=\"wandb-row\"><div class=\"wandb-col\"><h3>Run history:</h3><br/><table class=\"wandb\"><tr><td>eval/accuracy</td><td>█▁▁▁▁</td></tr><tr><td>eval/loss</td><td>▃▁█▆▄</td></tr><tr><td>eval/runtime</td><td>▃▁▁▁█</td></tr><tr><td>eval/samples_per_second</td><td>▆███▁</td></tr><tr><td>eval/steps_per_second</td><td>▆███▁</td></tr><tr><td>train/epoch</td><td>▁▁▃▃▄▅▆▆▇██</td></tr><tr><td>train/global_step</td><td>▁▁▃▃▄▅▆▆▇██</td></tr><tr><td>train/grad_norm</td><td>▂█▁▁▃</td></tr><tr><td>train/learning_rate</td><td>█▆▄▃▁</td></tr><tr><td>train/loss</td><td>█▇█▃▁</td></tr></table><br/></div><div class=\"wandb-col\"><h3>Run summary:</h3><br/><table class=\"wandb\"><tr><td>eval/accuracy</td><td>0.64583</td></tr><tr><td>eval/loss</td><td>0.56413</td></tr><tr><td>eval/runtime</td><td>0.0709</td></tr><tr><td>eval/samples_per_second</td><td>225.713</td></tr><tr><td>eval/steps_per_second</td><td>14.107</td></tr><tr><td>total_flos</td><td>10270797834240.0</td></tr><tr><td>train/epoch</td><td>5</td></tr><tr><td>train/global_step</td><td>55</td></tr><tr><td>train/grad_norm</td><td>0.38525</td></tr><tr><td>train/learning_rate</td><td>8e-05</td></tr><tr><td>train/loss</td><td>0.5812</td></tr><tr><td>train_loss</td><td>0.62331</td></tr><tr><td>train_runtime</td><td>8.0051</td></tr><tr><td>train_samples_per_second</td><td>54.341</td></tr><tr><td>train_steps_per_second</td><td>6.871</td></tr></table><br/></div></div>"
      ],
      "text/plain": [
       "<IPython.core.display.HTML object>"
      ]
     },
     "metadata": {},
     "output_type": "display_data"
    },
    {
     "data": {
      "text/html": [
       " View run <strong style=\"color:#cdcd00\">sleek-sweep-6</strong> at: <a href='https://wandb.ai/kauamritkar-university-of-wisconsin-madison/uncategorized/runs/itpmbnss' target=\"_blank\">https://wandb.ai/kauamritkar-university-of-wisconsin-madison/uncategorized/runs/itpmbnss</a><br> View project at: <a href='https://wandb.ai/kauamritkar-university-of-wisconsin-madison/uncategorized' target=\"_blank\">https://wandb.ai/kauamritkar-university-of-wisconsin-madison/uncategorized</a><br>Synced 5 W&B file(s), 0 media file(s), 0 artifact file(s) and 0 other file(s)"
      ],
      "text/plain": [
       "<IPython.core.display.HTML object>"
      ]
     },
     "metadata": {},
     "output_type": "display_data"
    },
    {
     "data": {
      "text/html": [
       "Find logs at: <code>./wandb/run-20250314_180759-itpmbnss/logs</code>"
      ],
      "text/plain": [
       "<IPython.core.display.HTML object>"
      ]
     },
     "metadata": {},
     "output_type": "display_data"
    },
    {
     "name": "stderr",
     "output_type": "stream",
     "text": [
      "\u001b[34m\u001b[1mwandb\u001b[0m: Agent Starting Run: yh435enn with config:\n",
      "\u001b[34m\u001b[1mwandb\u001b[0m: \tlearning_rate: 0.0007839574190718039\n",
      "\u001b[34m\u001b[1mwandb\u001b[0m: \tper_device_train_batch_size: 8\n"
     ]
    },
    {
     "data": {
      "text/html": [
       "Tracking run with wandb version 0.19.7"
      ],
      "text/plain": [
       "<IPython.core.display.HTML object>"
      ]
     },
     "metadata": {},
     "output_type": "display_data"
    },
    {
     "data": {
      "text/html": [
       "Run data is saved locally in <code>/home/kaustubh/RuBisCO_ML/ESM_LoRA/analysis/wandb/run-20250314_180811-yh435enn</code>"
      ],
      "text/plain": [
       "<IPython.core.display.HTML object>"
      ]
     },
     "metadata": {},
     "output_type": "display_data"
    },
    {
     "data": {
      "text/html": [
       "Syncing run <strong><a href='https://wandb.ai/kauamritkar-university-of-wisconsin-madison/uncategorized/runs/yh435enn' target=\"_blank\">true-sweep-7</a></strong> to <a href='https://wandb.ai/kauamritkar-university-of-wisconsin-madison/uncategorized' target=\"_blank\">Weights & Biases</a> (<a href='https://wandb.me/developer-guide' target=\"_blank\">docs</a>)<br>Sweep page: <a href='https://wandb.ai/kauamritkar-university-of-wisconsin-madison/uncategorized/sweeps/qr944513' target=\"_blank\">https://wandb.ai/kauamritkar-university-of-wisconsin-madison/uncategorized/sweeps/qr944513</a>"
      ],
      "text/plain": [
       "<IPython.core.display.HTML object>"
      ]
     },
     "metadata": {},
     "output_type": "display_data"
    },
    {
     "data": {
      "text/html": [
       " View project at <a href='https://wandb.ai/kauamritkar-university-of-wisconsin-madison/uncategorized' target=\"_blank\">https://wandb.ai/kauamritkar-university-of-wisconsin-madison/uncategorized</a>"
      ],
      "text/plain": [
       "<IPython.core.display.HTML object>"
      ]
     },
     "metadata": {},
     "output_type": "display_data"
    },
    {
     "data": {
      "text/html": [
       " View sweep at <a href='https://wandb.ai/kauamritkar-university-of-wisconsin-madison/uncategorized/sweeps/qr944513' target=\"_blank\">https://wandb.ai/kauamritkar-university-of-wisconsin-madison/uncategorized/sweeps/qr944513</a>"
      ],
      "text/plain": [
       "<IPython.core.display.HTML object>"
      ]
     },
     "metadata": {},
     "output_type": "display_data"
    },
    {
     "data": {
      "text/html": [
       " View run at <a href='https://wandb.ai/kauamritkar-university-of-wisconsin-madison/uncategorized/runs/yh435enn' target=\"_blank\">https://wandb.ai/kauamritkar-university-of-wisconsin-madison/uncategorized/runs/yh435enn</a>"
      ],
      "text/plain": [
       "<IPython.core.display.HTML object>"
      ]
     },
     "metadata": {},
     "output_type": "display_data"
    },
    {
     "name": "stderr",
     "output_type": "stream",
     "text": [
      "Trying to set _wandb in the hyperparameter search but there is no corresponding field in `TrainingArguments`.\n",
      "Trying to set assignments in the hyperparameter search but there is no corresponding field in `TrainingArguments`.\n",
      "Trying to set metric in the hyperparameter search but there is no corresponding field in `TrainingArguments`.\n",
      "Detected kernel version 5.4.0, which is below the recommended minimum of 5.5.0; this can cause the process to hang. It is recommended to upgrade the kernel to the minimum version or higher.\n",
      "Some weights of EsmModel were not initialized from the model checkpoint at facebook/esm2_t6_8M_UR50D and are newly initialized: ['esm.pooler.dense.bias', 'esm.pooler.dense.weight']\n",
      "You should probably TRAIN this model on a down-stream task to be able to use it for predictions and inference.\n"
     ]
    },
    {
     "data": {
      "text/html": [],
      "text/plain": [
       "<IPython.core.display.HTML object>"
      ]
     },
     "metadata": {},
     "output_type": "display_data"
    },
    {
     "data": {
      "text/html": [
       " View run <strong style=\"color:#cdcd00\">true-sweep-7</strong> at: <a href='https://wandb.ai/kauamritkar-university-of-wisconsin-madison/uncategorized/runs/yh435enn' target=\"_blank\">https://wandb.ai/kauamritkar-university-of-wisconsin-madison/uncategorized/runs/yh435enn</a><br> View project at: <a href='https://wandb.ai/kauamritkar-university-of-wisconsin-madison/uncategorized' target=\"_blank\">https://wandb.ai/kauamritkar-university-of-wisconsin-madison/uncategorized</a><br>Synced 5 W&B file(s), 0 media file(s), 0 artifact file(s) and 0 other file(s)"
      ],
      "text/plain": [
       "<IPython.core.display.HTML object>"
      ]
     },
     "metadata": {},
     "output_type": "display_data"
    },
    {
     "data": {
      "text/html": [
       "Find logs at: <code>./wandb/run-20250314_180811-yh435enn/logs</code>"
      ],
      "text/plain": [
       "<IPython.core.display.HTML object>"
      ]
     },
     "metadata": {},
     "output_type": "display_data"
    },
    {
     "data": {
      "text/html": [
       "Ignoring project 'uncategorized' when running a sweep."
      ],
      "text/plain": [
       "<IPython.core.display.HTML object>"
      ]
     },
     "metadata": {},
     "output_type": "display_data"
    },
    {
     "data": {
      "text/html": [
       "Tracking run with wandb version 0.19.7"
      ],
      "text/plain": [
       "<IPython.core.display.HTML object>"
      ]
     },
     "metadata": {},
     "output_type": "display_data"
    },
    {
     "data": {
      "text/html": [
       "Run data is saved locally in <code>/home/kaustubh/RuBisCO_ML/ESM_LoRA/analysis/wandb/run-20250314_180815-yh435enn</code>"
      ],
      "text/plain": [
       "<IPython.core.display.HTML object>"
      ]
     },
     "metadata": {},
     "output_type": "display_data"
    },
    {
     "data": {
      "text/html": [
       "Syncing run <strong><a href='https://wandb.ai/kauamritkar-university-of-wisconsin-madison/uncategorized/runs/yh435enn' target=\"_blank\">true-sweep-7</a></strong> to <a href='https://wandb.ai/kauamritkar-university-of-wisconsin-madison/uncategorized' target=\"_blank\">Weights & Biases</a> (<a href='https://wandb.me/developer-guide' target=\"_blank\">docs</a>)<br>Sweep page: <a href='https://wandb.ai/kauamritkar-university-of-wisconsin-madison/uncategorized/sweeps/qr944513' target=\"_blank\">https://wandb.ai/kauamritkar-university-of-wisconsin-madison/uncategorized/sweeps/qr944513</a>"
      ],
      "text/plain": [
       "<IPython.core.display.HTML object>"
      ]
     },
     "metadata": {},
     "output_type": "display_data"
    },
    {
     "data": {
      "text/html": [
       " View project at <a href='https://wandb.ai/kauamritkar-university-of-wisconsin-madison/uncategorized' target=\"_blank\">https://wandb.ai/kauamritkar-university-of-wisconsin-madison/uncategorized</a>"
      ],
      "text/plain": [
       "<IPython.core.display.HTML object>"
      ]
     },
     "metadata": {},
     "output_type": "display_data"
    },
    {
     "data": {
      "text/html": [
       " View sweep at <a href='https://wandb.ai/kauamritkar-university-of-wisconsin-madison/uncategorized/sweeps/qr944513' target=\"_blank\">https://wandb.ai/kauamritkar-university-of-wisconsin-madison/uncategorized/sweeps/qr944513</a>"
      ],
      "text/plain": [
       "<IPython.core.display.HTML object>"
      ]
     },
     "metadata": {},
     "output_type": "display_data"
    },
    {
     "data": {
      "text/html": [
       " View run at <a href='https://wandb.ai/kauamritkar-university-of-wisconsin-madison/uncategorized/runs/yh435enn' target=\"_blank\">https://wandb.ai/kauamritkar-university-of-wisconsin-madison/uncategorized/runs/yh435enn</a>"
      ],
      "text/plain": [
       "<IPython.core.display.HTML object>"
      ]
     },
     "metadata": {},
     "output_type": "display_data"
    },
    {
     "name": "stderr",
     "output_type": "stream",
     "text": [
      "\u001b[34m\u001b[1mwandb\u001b[0m: \u001b[33mWARNING\u001b[0m Config item 'per_device_train_batch_size' was locked by 'sweep' (ignored update).\n",
      "\u001b[34m\u001b[1mwandb\u001b[0m: \u001b[33mWARNING\u001b[0m Config item 'learning_rate' was locked by 'sweep' (ignored update).\n",
      "/home/kaustubh/miniforge3/envs/lora_esm/lib/python3.13/site-packages/torch/nn/parallel/_functions.py:70: UserWarning: Was asked to gather along dimension 0, but all input tensors were scalars; will instead unsqueeze and return a vector.\n",
      "  warnings.warn(\n"
     ]
    },
    {
     "data": {
      "text/html": [
       "\n",
       "    <div>\n",
       "      \n",
       "      <progress value='30' max='30' style='width:300px; height:20px; vertical-align: middle;'></progress>\n",
       "      [30/30 00:03, Epoch 5/5]\n",
       "    </div>\n",
       "    <table border=\"1\" class=\"dataframe\">\n",
       "  <thead>\n",
       " <tr style=\"text-align: left;\">\n",
       "      <th>Epoch</th>\n",
       "      <th>Training Loss</th>\n",
       "      <th>Validation Loss</th>\n",
       "      <th>Accuracy</th>\n",
       "    </tr>\n",
       "  </thead>\n",
       "  <tbody>\n",
       "    <tr>\n",
       "      <td>1</td>\n",
       "      <td>No log</td>\n",
       "      <td>0.600247</td>\n",
       "      <td>0.812500</td>\n",
       "    </tr>\n",
       "    <tr>\n",
       "      <td>2</td>\n",
       "      <td>0.667800</td>\n",
       "      <td>0.563257</td>\n",
       "      <td>0.791667</td>\n",
       "    </tr>\n",
       "    <tr>\n",
       "      <td>3</td>\n",
       "      <td>0.667800</td>\n",
       "      <td>0.562297</td>\n",
       "      <td>0.791667</td>\n",
       "    </tr>\n",
       "    <tr>\n",
       "      <td>4</td>\n",
       "      <td>0.630400</td>\n",
       "      <td>0.562792</td>\n",
       "      <td>0.791667</td>\n",
       "    </tr>\n",
       "    <tr>\n",
       "      <td>5</td>\n",
       "      <td>0.603500</td>\n",
       "      <td>0.561573</td>\n",
       "      <td>0.791667</td>\n",
       "    </tr>\n",
       "  </tbody>\n",
       "</table><p>"
      ],
      "text/plain": [
       "<IPython.core.display.HTML object>"
      ]
     },
     "metadata": {},
     "output_type": "display_data"
    },
    {
     "name": "stdout",
     "output_type": "stream",
     "text": [
      "Predictions shape: (16,)\n",
      "Labels shape: (16,)\n"
     ]
    },
    {
     "name": "stderr",
     "output_type": "stream",
     "text": [
      "/home/kaustubh/miniforge3/envs/lora_esm/lib/python3.13/site-packages/peft/utils/save_and_load.py:246: UserWarning: Could not find a config file in /tmp/facebook/esm2_t6_8M_UR50D - will assume that the vocabulary was not modified.\n",
      "  warnings.warn(\n",
      "/home/kaustubh/miniforge3/envs/lora_esm/lib/python3.13/site-packages/torch/nn/parallel/_functions.py:70: UserWarning: Was asked to gather along dimension 0, but all input tensors were scalars; will instead unsqueeze and return a vector.\n",
      "  warnings.warn(\n"
     ]
    },
    {
     "name": "stdout",
     "output_type": "stream",
     "text": [
      "Predictions shape: (16,)\n",
      "Labels shape: (16,)\n"
     ]
    },
    {
     "name": "stderr",
     "output_type": "stream",
     "text": [
      "/home/kaustubh/miniforge3/envs/lora_esm/lib/python3.13/site-packages/peft/utils/save_and_load.py:246: UserWarning: Could not find a config file in /tmp/facebook/esm2_t6_8M_UR50D - will assume that the vocabulary was not modified.\n",
      "  warnings.warn(\n",
      "/home/kaustubh/miniforge3/envs/lora_esm/lib/python3.13/site-packages/torch/nn/parallel/_functions.py:70: UserWarning: Was asked to gather along dimension 0, but all input tensors were scalars; will instead unsqueeze and return a vector.\n",
      "  warnings.warn(\n"
     ]
    },
    {
     "name": "stdout",
     "output_type": "stream",
     "text": [
      "Predictions shape: (16,)\n",
      "Labels shape: (16,)\n"
     ]
    },
    {
     "name": "stderr",
     "output_type": "stream",
     "text": [
      "/home/kaustubh/miniforge3/envs/lora_esm/lib/python3.13/site-packages/peft/utils/save_and_load.py:246: UserWarning: Could not find a config file in /tmp/facebook/esm2_t6_8M_UR50D - will assume that the vocabulary was not modified.\n",
      "  warnings.warn(\n",
      "/home/kaustubh/miniforge3/envs/lora_esm/lib/python3.13/site-packages/torch/nn/parallel/_functions.py:70: UserWarning: Was asked to gather along dimension 0, but all input tensors were scalars; will instead unsqueeze and return a vector.\n",
      "  warnings.warn(\n"
     ]
    },
    {
     "name": "stdout",
     "output_type": "stream",
     "text": [
      "Predictions shape: (16,)\n",
      "Labels shape: (16,)\n"
     ]
    },
    {
     "name": "stderr",
     "output_type": "stream",
     "text": [
      "/home/kaustubh/miniforge3/envs/lora_esm/lib/python3.13/site-packages/peft/utils/save_and_load.py:246: UserWarning: Could not find a config file in /tmp/facebook/esm2_t6_8M_UR50D - will assume that the vocabulary was not modified.\n",
      "  warnings.warn(\n",
      "/home/kaustubh/miniforge3/envs/lora_esm/lib/python3.13/site-packages/torch/nn/parallel/_functions.py:70: UserWarning: Was asked to gather along dimension 0, but all input tensors were scalars; will instead unsqueeze and return a vector.\n",
      "  warnings.warn(\n",
      "/home/kaustubh/miniforge3/envs/lora_esm/lib/python3.13/site-packages/peft/utils/save_and_load.py:246: UserWarning: Could not find a config file in /tmp/facebook/esm2_t6_8M_UR50D - will assume that the vocabulary was not modified.\n",
      "  warnings.warn(\n",
      "/home/kaustubh/miniforge3/envs/lora_esm/lib/python3.13/site-packages/torch/nn/parallel/_functions.py:70: UserWarning: Was asked to gather along dimension 0, but all input tensors were scalars; will instead unsqueeze and return a vector.\n",
      "  warnings.warn(\n"
     ]
    },
    {
     "name": "stdout",
     "output_type": "stream",
     "text": [
      "Predictions shape: (16,)\n",
      "Labels shape: (16,)\n"
     ]
    },
    {
     "name": "stderr",
     "output_type": "stream",
     "text": [
      "/home/kaustubh/miniforge3/envs/lora_esm/lib/python3.13/site-packages/peft/utils/save_and_load.py:246: UserWarning: Could not find a config file in /tmp/facebook/esm2_t6_8M_UR50D - will assume that the vocabulary was not modified.\n",
      "  warnings.warn(\n"
     ]
    },
    {
     "data": {
      "text/html": [],
      "text/plain": [
       "<IPython.core.display.HTML object>"
      ]
     },
     "metadata": {},
     "output_type": "display_data"
    },
    {
     "data": {
      "text/html": [
       "<br>    <style><br>        .wandb-row {<br>            display: flex;<br>            flex-direction: row;<br>            flex-wrap: wrap;<br>            justify-content: flex-start;<br>            width: 100%;<br>        }<br>        .wandb-col {<br>            display: flex;<br>            flex-direction: column;<br>            flex-basis: 100%;<br>            flex: 1;<br>            padding: 10px;<br>        }<br>    </style><br><div class=\"wandb-row\"><div class=\"wandb-col\"><h3>Run history:</h3><br/><table class=\"wandb\"><tr><td>eval/accuracy</td><td>█▁▁▁▁</td></tr><tr><td>eval/loss</td><td>█▁▁▁▁</td></tr><tr><td>eval/runtime</td><td>▃▄▅▁█</td></tr><tr><td>eval/samples_per_second</td><td>▆▅▄█▁</td></tr><tr><td>eval/steps_per_second</td><td>▆▅▄█▁</td></tr><tr><td>train/epoch</td><td>▁▂▃▅▅▆███</td></tr><tr><td>train/global_step</td><td>▁▂▃▅▅▆███</td></tr><tr><td>train/grad_norm</td><td>█▁▁</td></tr><tr><td>train/learning_rate</td><td>█▅▁</td></tr><tr><td>train/loss</td><td>█▄▁</td></tr></table><br/></div><div class=\"wandb-col\"><h3>Run summary:</h3><br/><table class=\"wandb\"><tr><td>eval/accuracy</td><td>0.79167</td></tr><tr><td>eval/loss</td><td>0.56157</td></tr><tr><td>eval/runtime</td><td>0.0658</td></tr><tr><td>eval/samples_per_second</td><td>243.031</td></tr><tr><td>eval/steps_per_second</td><td>15.189</td></tr><tr><td>total_flos</td><td>10270797834240.0</td></tr><tr><td>train/epoch</td><td>5</td></tr><tr><td>train/global_step</td><td>30</td></tr><tr><td>train/grad_norm</td><td>0.31422</td></tr><tr><td>train/learning_rate</td><td>0</td></tr><tr><td>train/loss</td><td>0.6035</td></tr><tr><td>train_loss</td><td>0.63391</td></tr><tr><td>train_runtime</td><td>6.7523</td></tr><tr><td>train_samples_per_second</td><td>64.423</td></tr><tr><td>train_steps_per_second</td><td>4.443</td></tr></table><br/></div></div>"
      ],
      "text/plain": [
       "<IPython.core.display.HTML object>"
      ]
     },
     "metadata": {},
     "output_type": "display_data"
    },
    {
     "data": {
      "text/html": [
       " View run <strong style=\"color:#cdcd00\">true-sweep-7</strong> at: <a href='https://wandb.ai/kauamritkar-university-of-wisconsin-madison/uncategorized/runs/yh435enn' target=\"_blank\">https://wandb.ai/kauamritkar-university-of-wisconsin-madison/uncategorized/runs/yh435enn</a><br> View project at: <a href='https://wandb.ai/kauamritkar-university-of-wisconsin-madison/uncategorized' target=\"_blank\">https://wandb.ai/kauamritkar-university-of-wisconsin-madison/uncategorized</a><br>Synced 5 W&B file(s), 0 media file(s), 0 artifact file(s) and 0 other file(s)"
      ],
      "text/plain": [
       "<IPython.core.display.HTML object>"
      ]
     },
     "metadata": {},
     "output_type": "display_data"
    },
    {
     "data": {
      "text/html": [
       "Find logs at: <code>./wandb/run-20250314_180815-yh435enn/logs</code>"
      ],
      "text/plain": [
       "<IPython.core.display.HTML object>"
      ]
     },
     "metadata": {},
     "output_type": "display_data"
    },
    {
     "name": "stderr",
     "output_type": "stream",
     "text": [
      "\u001b[34m\u001b[1mwandb\u001b[0m: Agent Starting Run: qicilcav with config:\n",
      "\u001b[34m\u001b[1mwandb\u001b[0m: \tlearning_rate: 0.0009800257146933718\n",
      "\u001b[34m\u001b[1mwandb\u001b[0m: \tper_device_train_batch_size: 16\n"
     ]
    },
    {
     "data": {
      "text/html": [
       "Tracking run with wandb version 0.19.7"
      ],
      "text/plain": [
       "<IPython.core.display.HTML object>"
      ]
     },
     "metadata": {},
     "output_type": "display_data"
    },
    {
     "data": {
      "text/html": [
       "Run data is saved locally in <code>/home/kaustubh/RuBisCO_ML/ESM_LoRA/analysis/wandb/run-20250314_180827-qicilcav</code>"
      ],
      "text/plain": [
       "<IPython.core.display.HTML object>"
      ]
     },
     "metadata": {},
     "output_type": "display_data"
    },
    {
     "data": {
      "text/html": [
       "Syncing run <strong><a href='https://wandb.ai/kauamritkar-university-of-wisconsin-madison/uncategorized/runs/qicilcav' target=\"_blank\">stellar-sweep-8</a></strong> to <a href='https://wandb.ai/kauamritkar-university-of-wisconsin-madison/uncategorized' target=\"_blank\">Weights & Biases</a> (<a href='https://wandb.me/developer-guide' target=\"_blank\">docs</a>)<br>Sweep page: <a href='https://wandb.ai/kauamritkar-university-of-wisconsin-madison/uncategorized/sweeps/qr944513' target=\"_blank\">https://wandb.ai/kauamritkar-university-of-wisconsin-madison/uncategorized/sweeps/qr944513</a>"
      ],
      "text/plain": [
       "<IPython.core.display.HTML object>"
      ]
     },
     "metadata": {},
     "output_type": "display_data"
    },
    {
     "data": {
      "text/html": [
       " View project at <a href='https://wandb.ai/kauamritkar-university-of-wisconsin-madison/uncategorized' target=\"_blank\">https://wandb.ai/kauamritkar-university-of-wisconsin-madison/uncategorized</a>"
      ],
      "text/plain": [
       "<IPython.core.display.HTML object>"
      ]
     },
     "metadata": {},
     "output_type": "display_data"
    },
    {
     "data": {
      "text/html": [
       " View sweep at <a href='https://wandb.ai/kauamritkar-university-of-wisconsin-madison/uncategorized/sweeps/qr944513' target=\"_blank\">https://wandb.ai/kauamritkar-university-of-wisconsin-madison/uncategorized/sweeps/qr944513</a>"
      ],
      "text/plain": [
       "<IPython.core.display.HTML object>"
      ]
     },
     "metadata": {},
     "output_type": "display_data"
    },
    {
     "data": {
      "text/html": [
       " View run at <a href='https://wandb.ai/kauamritkar-university-of-wisconsin-madison/uncategorized/runs/qicilcav' target=\"_blank\">https://wandb.ai/kauamritkar-university-of-wisconsin-madison/uncategorized/runs/qicilcav</a>"
      ],
      "text/plain": [
       "<IPython.core.display.HTML object>"
      ]
     },
     "metadata": {},
     "output_type": "display_data"
    },
    {
     "name": "stderr",
     "output_type": "stream",
     "text": [
      "Trying to set _wandb in the hyperparameter search but there is no corresponding field in `TrainingArguments`.\n",
      "Trying to set assignments in the hyperparameter search but there is no corresponding field in `TrainingArguments`.\n",
      "Trying to set metric in the hyperparameter search but there is no corresponding field in `TrainingArguments`.\n",
      "Detected kernel version 5.4.0, which is below the recommended minimum of 5.5.0; this can cause the process to hang. It is recommended to upgrade the kernel to the minimum version or higher.\n",
      "Some weights of EsmModel were not initialized from the model checkpoint at facebook/esm2_t6_8M_UR50D and are newly initialized: ['esm.pooler.dense.bias', 'esm.pooler.dense.weight']\n",
      "You should probably TRAIN this model on a down-stream task to be able to use it for predictions and inference.\n"
     ]
    },
    {
     "data": {
      "text/html": [],
      "text/plain": [
       "<IPython.core.display.HTML object>"
      ]
     },
     "metadata": {},
     "output_type": "display_data"
    },
    {
     "data": {
      "text/html": [
       " View run <strong style=\"color:#cdcd00\">stellar-sweep-8</strong> at: <a href='https://wandb.ai/kauamritkar-university-of-wisconsin-madison/uncategorized/runs/qicilcav' target=\"_blank\">https://wandb.ai/kauamritkar-university-of-wisconsin-madison/uncategorized/runs/qicilcav</a><br> View project at: <a href='https://wandb.ai/kauamritkar-university-of-wisconsin-madison/uncategorized' target=\"_blank\">https://wandb.ai/kauamritkar-university-of-wisconsin-madison/uncategorized</a><br>Synced 5 W&B file(s), 0 media file(s), 0 artifact file(s) and 0 other file(s)"
      ],
      "text/plain": [
       "<IPython.core.display.HTML object>"
      ]
     },
     "metadata": {},
     "output_type": "display_data"
    },
    {
     "data": {
      "text/html": [
       "Find logs at: <code>./wandb/run-20250314_180827-qicilcav/logs</code>"
      ],
      "text/plain": [
       "<IPython.core.display.HTML object>"
      ]
     },
     "metadata": {},
     "output_type": "display_data"
    },
    {
     "data": {
      "text/html": [
       "Ignoring project 'uncategorized' when running a sweep."
      ],
      "text/plain": [
       "<IPython.core.display.HTML object>"
      ]
     },
     "metadata": {},
     "output_type": "display_data"
    },
    {
     "data": {
      "text/html": [
       "Tracking run with wandb version 0.19.7"
      ],
      "text/plain": [
       "<IPython.core.display.HTML object>"
      ]
     },
     "metadata": {},
     "output_type": "display_data"
    },
    {
     "data": {
      "text/html": [
       "Run data is saved locally in <code>/home/kaustubh/RuBisCO_ML/ESM_LoRA/analysis/wandb/run-20250314_180831-qicilcav</code>"
      ],
      "text/plain": [
       "<IPython.core.display.HTML object>"
      ]
     },
     "metadata": {},
     "output_type": "display_data"
    },
    {
     "data": {
      "text/html": [
       "Syncing run <strong><a href='https://wandb.ai/kauamritkar-university-of-wisconsin-madison/uncategorized/runs/qicilcav' target=\"_blank\">stellar-sweep-8</a></strong> to <a href='https://wandb.ai/kauamritkar-university-of-wisconsin-madison/uncategorized' target=\"_blank\">Weights & Biases</a> (<a href='https://wandb.me/developer-guide' target=\"_blank\">docs</a>)<br>Sweep page: <a href='https://wandb.ai/kauamritkar-university-of-wisconsin-madison/uncategorized/sweeps/qr944513' target=\"_blank\">https://wandb.ai/kauamritkar-university-of-wisconsin-madison/uncategorized/sweeps/qr944513</a>"
      ],
      "text/plain": [
       "<IPython.core.display.HTML object>"
      ]
     },
     "metadata": {},
     "output_type": "display_data"
    },
    {
     "data": {
      "text/html": [
       " View project at <a href='https://wandb.ai/kauamritkar-university-of-wisconsin-madison/uncategorized' target=\"_blank\">https://wandb.ai/kauamritkar-university-of-wisconsin-madison/uncategorized</a>"
      ],
      "text/plain": [
       "<IPython.core.display.HTML object>"
      ]
     },
     "metadata": {},
     "output_type": "display_data"
    },
    {
     "data": {
      "text/html": [
       " View sweep at <a href='https://wandb.ai/kauamritkar-university-of-wisconsin-madison/uncategorized/sweeps/qr944513' target=\"_blank\">https://wandb.ai/kauamritkar-university-of-wisconsin-madison/uncategorized/sweeps/qr944513</a>"
      ],
      "text/plain": [
       "<IPython.core.display.HTML object>"
      ]
     },
     "metadata": {},
     "output_type": "display_data"
    },
    {
     "data": {
      "text/html": [
       " View run at <a href='https://wandb.ai/kauamritkar-university-of-wisconsin-madison/uncategorized/runs/qicilcav' target=\"_blank\">https://wandb.ai/kauamritkar-university-of-wisconsin-madison/uncategorized/runs/qicilcav</a>"
      ],
      "text/plain": [
       "<IPython.core.display.HTML object>"
      ]
     },
     "metadata": {},
     "output_type": "display_data"
    },
    {
     "name": "stderr",
     "output_type": "stream",
     "text": [
      "\u001b[34m\u001b[1mwandb\u001b[0m: \u001b[33mWARNING\u001b[0m Config item 'per_device_train_batch_size' was locked by 'sweep' (ignored update).\n",
      "\u001b[34m\u001b[1mwandb\u001b[0m: \u001b[33mWARNING\u001b[0m Config item 'learning_rate' was locked by 'sweep' (ignored update).\n",
      "/home/kaustubh/miniforge3/envs/lora_esm/lib/python3.13/site-packages/torch/nn/parallel/_functions.py:70: UserWarning: Was asked to gather along dimension 0, but all input tensors were scalars; will instead unsqueeze and return a vector.\n",
      "  warnings.warn(\n"
     ]
    },
    {
     "data": {
      "text/html": [
       "\n",
       "    <div>\n",
       "      \n",
       "      <progress value='15' max='15' style='width:300px; height:20px; vertical-align: middle;'></progress>\n",
       "      [15/15 00:02, Epoch 5/5]\n",
       "    </div>\n",
       "    <table border=\"1\" class=\"dataframe\">\n",
       "  <thead>\n",
       " <tr style=\"text-align: left;\">\n",
       "      <th>Epoch</th>\n",
       "      <th>Training Loss</th>\n",
       "      <th>Validation Loss</th>\n",
       "      <th>Accuracy</th>\n",
       "    </tr>\n",
       "  </thead>\n",
       "  <tbody>\n",
       "    <tr>\n",
       "      <td>1</td>\n",
       "      <td>No log</td>\n",
       "      <td>0.640094</td>\n",
       "      <td>0.666667</td>\n",
       "    </tr>\n",
       "    <tr>\n",
       "      <td>2</td>\n",
       "      <td>No log</td>\n",
       "      <td>0.587337</td>\n",
       "      <td>0.791667</td>\n",
       "    </tr>\n",
       "    <tr>\n",
       "      <td>3</td>\n",
       "      <td>No log</td>\n",
       "      <td>0.577126</td>\n",
       "      <td>0.833333</td>\n",
       "    </tr>\n",
       "    <tr>\n",
       "      <td>4</td>\n",
       "      <td>0.661800</td>\n",
       "      <td>0.562806</td>\n",
       "      <td>0.875000</td>\n",
       "    </tr>\n",
       "    <tr>\n",
       "      <td>5</td>\n",
       "      <td>0.661800</td>\n",
       "      <td>0.558059</td>\n",
       "      <td>0.895833</td>\n",
       "    </tr>\n",
       "  </tbody>\n",
       "</table><p>"
      ],
      "text/plain": [
       "<IPython.core.display.HTML object>"
      ]
     },
     "metadata": {},
     "output_type": "display_data"
    },
    {
     "name": "stdout",
     "output_type": "stream",
     "text": [
      "Predictions shape: (16,)\n",
      "Labels shape: (16,)\n"
     ]
    },
    {
     "name": "stderr",
     "output_type": "stream",
     "text": [
      "/home/kaustubh/miniforge3/envs/lora_esm/lib/python3.13/site-packages/peft/utils/save_and_load.py:246: UserWarning: Could not find a config file in /tmp/facebook/esm2_t6_8M_UR50D - will assume that the vocabulary was not modified.\n",
      "  warnings.warn(\n",
      "/home/kaustubh/miniforge3/envs/lora_esm/lib/python3.13/site-packages/torch/nn/parallel/_functions.py:70: UserWarning: Was asked to gather along dimension 0, but all input tensors were scalars; will instead unsqueeze and return a vector.\n",
      "  warnings.warn(\n"
     ]
    },
    {
     "name": "stdout",
     "output_type": "stream",
     "text": [
      "Predictions shape: (16,)\n",
      "Labels shape: (16,)\n"
     ]
    },
    {
     "name": "stderr",
     "output_type": "stream",
     "text": [
      "/home/kaustubh/miniforge3/envs/lora_esm/lib/python3.13/site-packages/peft/utils/save_and_load.py:246: UserWarning: Could not find a config file in /tmp/facebook/esm2_t6_8M_UR50D - will assume that the vocabulary was not modified.\n",
      "  warnings.warn(\n",
      "/home/kaustubh/miniforge3/envs/lora_esm/lib/python3.13/site-packages/torch/nn/parallel/_functions.py:70: UserWarning: Was asked to gather along dimension 0, but all input tensors were scalars; will instead unsqueeze and return a vector.\n",
      "  warnings.warn(\n"
     ]
    },
    {
     "name": "stdout",
     "output_type": "stream",
     "text": [
      "Predictions shape: (16,)\n",
      "Labels shape: (16,)\n"
     ]
    },
    {
     "name": "stderr",
     "output_type": "stream",
     "text": [
      "/home/kaustubh/miniforge3/envs/lora_esm/lib/python3.13/site-packages/peft/utils/save_and_load.py:246: UserWarning: Could not find a config file in /tmp/facebook/esm2_t6_8M_UR50D - will assume that the vocabulary was not modified.\n",
      "  warnings.warn(\n",
      "/home/kaustubh/miniforge3/envs/lora_esm/lib/python3.13/site-packages/torch/nn/parallel/_functions.py:70: UserWarning: Was asked to gather along dimension 0, but all input tensors were scalars; will instead unsqueeze and return a vector.\n",
      "  warnings.warn(\n"
     ]
    },
    {
     "name": "stdout",
     "output_type": "stream",
     "text": [
      "Predictions shape: (16,)\n",
      "Labels shape: (16,)\n"
     ]
    },
    {
     "name": "stderr",
     "output_type": "stream",
     "text": [
      "/home/kaustubh/miniforge3/envs/lora_esm/lib/python3.13/site-packages/peft/utils/save_and_load.py:246: UserWarning: Could not find a config file in /tmp/facebook/esm2_t6_8M_UR50D - will assume that the vocabulary was not modified.\n",
      "  warnings.warn(\n",
      "/home/kaustubh/miniforge3/envs/lora_esm/lib/python3.13/site-packages/torch/nn/parallel/_functions.py:70: UserWarning: Was asked to gather along dimension 0, but all input tensors were scalars; will instead unsqueeze and return a vector.\n",
      "  warnings.warn(\n",
      "/home/kaustubh/miniforge3/envs/lora_esm/lib/python3.13/site-packages/peft/utils/save_and_load.py:246: UserWarning: Could not find a config file in /tmp/facebook/esm2_t6_8M_UR50D - will assume that the vocabulary was not modified.\n",
      "  warnings.warn(\n",
      "/home/kaustubh/miniforge3/envs/lora_esm/lib/python3.13/site-packages/torch/nn/parallel/_functions.py:70: UserWarning: Was asked to gather along dimension 0, but all input tensors were scalars; will instead unsqueeze and return a vector.\n",
      "  warnings.warn(\n"
     ]
    },
    {
     "name": "stdout",
     "output_type": "stream",
     "text": [
      "Predictions shape: (16,)\n",
      "Labels shape: (16,)\n"
     ]
    },
    {
     "name": "stderr",
     "output_type": "stream",
     "text": [
      "/home/kaustubh/miniforge3/envs/lora_esm/lib/python3.13/site-packages/peft/utils/save_and_load.py:246: UserWarning: Could not find a config file in /tmp/facebook/esm2_t6_8M_UR50D - will assume that the vocabulary was not modified.\n",
      "  warnings.warn(\n"
     ]
    },
    {
     "data": {
      "text/html": [],
      "text/plain": [
       "<IPython.core.display.HTML object>"
      ]
     },
     "metadata": {},
     "output_type": "display_data"
    },
    {
     "data": {
      "text/html": [
       "<br>    <style><br>        .wandb-row {<br>            display: flex;<br>            flex-direction: row;<br>            flex-wrap: wrap;<br>            justify-content: flex-start;<br>            width: 100%;<br>        }<br>        .wandb-col {<br>            display: flex;<br>            flex-direction: column;<br>            flex-basis: 100%;<br>            flex: 1;<br>            padding: 10px;<br>        }<br>    </style><br><div class=\"wandb-row\"><div class=\"wandb-col\"><h3>Run history:</h3><br/><table class=\"wandb\"><tr><td>eval/accuracy</td><td>▁▅▆▇█</td></tr><tr><td>eval/loss</td><td>█▃▃▁▁</td></tr><tr><td>eval/runtime</td><td>▁▁▁▁█</td></tr><tr><td>eval/samples_per_second</td><td>████▁</td></tr><tr><td>eval/steps_per_second</td><td>████▁</td></tr><tr><td>train/epoch</td><td>▁▃▅▅▆██</td></tr><tr><td>train/global_step</td><td>▁▃▅▅▆██</td></tr><tr><td>train/grad_norm</td><td>▁</td></tr><tr><td>train/learning_rate</td><td>▁</td></tr><tr><td>train/loss</td><td>▁</td></tr></table><br/></div><div class=\"wandb-col\"><h3>Run summary:</h3><br/><table class=\"wandb\"><tr><td>eval/accuracy</td><td>0.89583</td></tr><tr><td>eval/loss</td><td>0.55806</td></tr><tr><td>eval/runtime</td><td>0.0675</td></tr><tr><td>eval/samples_per_second</td><td>237.028</td></tr><tr><td>eval/steps_per_second</td><td>14.814</td></tr><tr><td>total_flos</td><td>10270797834240.0</td></tr><tr><td>train/epoch</td><td>5</td></tr><tr><td>train/global_step</td><td>15</td></tr><tr><td>train/grad_norm</td><td>0.13081</td></tr><tr><td>train/learning_rate</td><td>0.00033</td></tr><tr><td>train/loss</td><td>0.6618</td></tr><tr><td>train_loss</td><td>0.64243</td></tr><tr><td>train_runtime</td><td>6.0165</td></tr><tr><td>train_samples_per_second</td><td>72.302</td></tr><tr><td>train_steps_per_second</td><td>2.493</td></tr></table><br/></div></div>"
      ],
      "text/plain": [
       "<IPython.core.display.HTML object>"
      ]
     },
     "metadata": {},
     "output_type": "display_data"
    },
    {
     "data": {
      "text/html": [
       " View run <strong style=\"color:#cdcd00\">stellar-sweep-8</strong> at: <a href='https://wandb.ai/kauamritkar-university-of-wisconsin-madison/uncategorized/runs/qicilcav' target=\"_blank\">https://wandb.ai/kauamritkar-university-of-wisconsin-madison/uncategorized/runs/qicilcav</a><br> View project at: <a href='https://wandb.ai/kauamritkar-university-of-wisconsin-madison/uncategorized' target=\"_blank\">https://wandb.ai/kauamritkar-university-of-wisconsin-madison/uncategorized</a><br>Synced 5 W&B file(s), 0 media file(s), 0 artifact file(s) and 0 other file(s)"
      ],
      "text/plain": [
       "<IPython.core.display.HTML object>"
      ]
     },
     "metadata": {},
     "output_type": "display_data"
    },
    {
     "data": {
      "text/html": [
       "Find logs at: <code>./wandb/run-20250314_180831-qicilcav/logs</code>"
      ],
      "text/plain": [
       "<IPython.core.display.HTML object>"
      ]
     },
     "metadata": {},
     "output_type": "display_data"
    },
    {
     "name": "stderr",
     "output_type": "stream",
     "text": [
      "\u001b[34m\u001b[1mwandb\u001b[0m: Sweep Agent: Waiting for job.\n",
      "\u001b[34m\u001b[1mwandb\u001b[0m: Job received.\n",
      "\u001b[34m\u001b[1mwandb\u001b[0m: Agent Starting Run: x2yyc07y with config:\n",
      "\u001b[34m\u001b[1mwandb\u001b[0m: \tlearning_rate: 0.00033578301379056925\n",
      "\u001b[34m\u001b[1mwandb\u001b[0m: \tper_device_train_batch_size: 2\n"
     ]
    },
    {
     "data": {
      "text/html": [
       "Tracking run with wandb version 0.19.7"
      ],
      "text/plain": [
       "<IPython.core.display.HTML object>"
      ]
     },
     "metadata": {},
     "output_type": "display_data"
    },
    {
     "data": {
      "text/html": [
       "Run data is saved locally in <code>/home/kaustubh/RuBisCO_ML/ESM_LoRA/analysis/wandb/run-20250314_180847-x2yyc07y</code>"
      ],
      "text/plain": [
       "<IPython.core.display.HTML object>"
      ]
     },
     "metadata": {},
     "output_type": "display_data"
    },
    {
     "data": {
      "text/html": [
       "Syncing run <strong><a href='https://wandb.ai/kauamritkar-university-of-wisconsin-madison/uncategorized/runs/x2yyc07y' target=\"_blank\">vibrant-sweep-9</a></strong> to <a href='https://wandb.ai/kauamritkar-university-of-wisconsin-madison/uncategorized' target=\"_blank\">Weights & Biases</a> (<a href='https://wandb.me/developer-guide' target=\"_blank\">docs</a>)<br>Sweep page: <a href='https://wandb.ai/kauamritkar-university-of-wisconsin-madison/uncategorized/sweeps/qr944513' target=\"_blank\">https://wandb.ai/kauamritkar-university-of-wisconsin-madison/uncategorized/sweeps/qr944513</a>"
      ],
      "text/plain": [
       "<IPython.core.display.HTML object>"
      ]
     },
     "metadata": {},
     "output_type": "display_data"
    },
    {
     "data": {
      "text/html": [
       " View project at <a href='https://wandb.ai/kauamritkar-university-of-wisconsin-madison/uncategorized' target=\"_blank\">https://wandb.ai/kauamritkar-university-of-wisconsin-madison/uncategorized</a>"
      ],
      "text/plain": [
       "<IPython.core.display.HTML object>"
      ]
     },
     "metadata": {},
     "output_type": "display_data"
    },
    {
     "data": {
      "text/html": [
       " View sweep at <a href='https://wandb.ai/kauamritkar-university-of-wisconsin-madison/uncategorized/sweeps/qr944513' target=\"_blank\">https://wandb.ai/kauamritkar-university-of-wisconsin-madison/uncategorized/sweeps/qr944513</a>"
      ],
      "text/plain": [
       "<IPython.core.display.HTML object>"
      ]
     },
     "metadata": {},
     "output_type": "display_data"
    },
    {
     "data": {
      "text/html": [
       " View run at <a href='https://wandb.ai/kauamritkar-university-of-wisconsin-madison/uncategorized/runs/x2yyc07y' target=\"_blank\">https://wandb.ai/kauamritkar-university-of-wisconsin-madison/uncategorized/runs/x2yyc07y</a>"
      ],
      "text/plain": [
       "<IPython.core.display.HTML object>"
      ]
     },
     "metadata": {},
     "output_type": "display_data"
    },
    {
     "name": "stderr",
     "output_type": "stream",
     "text": [
      "Trying to set _wandb in the hyperparameter search but there is no corresponding field in `TrainingArguments`.\n",
      "Trying to set assignments in the hyperparameter search but there is no corresponding field in `TrainingArguments`.\n",
      "Trying to set metric in the hyperparameter search but there is no corresponding field in `TrainingArguments`.\n",
      "Detected kernel version 5.4.0, which is below the recommended minimum of 5.5.0; this can cause the process to hang. It is recommended to upgrade the kernel to the minimum version or higher.\n",
      "Some weights of EsmModel were not initialized from the model checkpoint at facebook/esm2_t6_8M_UR50D and are newly initialized: ['esm.pooler.dense.bias', 'esm.pooler.dense.weight']\n",
      "You should probably TRAIN this model on a down-stream task to be able to use it for predictions and inference.\n"
     ]
    },
    {
     "data": {
      "text/html": [],
      "text/plain": [
       "<IPython.core.display.HTML object>"
      ]
     },
     "metadata": {},
     "output_type": "display_data"
    },
    {
     "data": {
      "text/html": [
       " View run <strong style=\"color:#cdcd00\">vibrant-sweep-9</strong> at: <a href='https://wandb.ai/kauamritkar-university-of-wisconsin-madison/uncategorized/runs/x2yyc07y' target=\"_blank\">https://wandb.ai/kauamritkar-university-of-wisconsin-madison/uncategorized/runs/x2yyc07y</a><br> View project at: <a href='https://wandb.ai/kauamritkar-university-of-wisconsin-madison/uncategorized' target=\"_blank\">https://wandb.ai/kauamritkar-university-of-wisconsin-madison/uncategorized</a><br>Synced 5 W&B file(s), 0 media file(s), 0 artifact file(s) and 0 other file(s)"
      ],
      "text/plain": [
       "<IPython.core.display.HTML object>"
      ]
     },
     "metadata": {},
     "output_type": "display_data"
    },
    {
     "data": {
      "text/html": [
       "Find logs at: <code>./wandb/run-20250314_180847-x2yyc07y/logs</code>"
      ],
      "text/plain": [
       "<IPython.core.display.HTML object>"
      ]
     },
     "metadata": {},
     "output_type": "display_data"
    },
    {
     "data": {
      "text/html": [
       "Ignoring project 'uncategorized' when running a sweep."
      ],
      "text/plain": [
       "<IPython.core.display.HTML object>"
      ]
     },
     "metadata": {},
     "output_type": "display_data"
    },
    {
     "data": {
      "text/html": [
       "Tracking run with wandb version 0.19.7"
      ],
      "text/plain": [
       "<IPython.core.display.HTML object>"
      ]
     },
     "metadata": {},
     "output_type": "display_data"
    },
    {
     "data": {
      "text/html": [
       "Run data is saved locally in <code>/home/kaustubh/RuBisCO_ML/ESM_LoRA/analysis/wandb/run-20250314_180851-x2yyc07y</code>"
      ],
      "text/plain": [
       "<IPython.core.display.HTML object>"
      ]
     },
     "metadata": {},
     "output_type": "display_data"
    },
    {
     "data": {
      "text/html": [
       "Syncing run <strong><a href='https://wandb.ai/kauamritkar-university-of-wisconsin-madison/uncategorized/runs/x2yyc07y' target=\"_blank\">vibrant-sweep-9</a></strong> to <a href='https://wandb.ai/kauamritkar-university-of-wisconsin-madison/uncategorized' target=\"_blank\">Weights & Biases</a> (<a href='https://wandb.me/developer-guide' target=\"_blank\">docs</a>)<br>Sweep page: <a href='https://wandb.ai/kauamritkar-university-of-wisconsin-madison/uncategorized/sweeps/qr944513' target=\"_blank\">https://wandb.ai/kauamritkar-university-of-wisconsin-madison/uncategorized/sweeps/qr944513</a>"
      ],
      "text/plain": [
       "<IPython.core.display.HTML object>"
      ]
     },
     "metadata": {},
     "output_type": "display_data"
    },
    {
     "data": {
      "text/html": [
       " View project at <a href='https://wandb.ai/kauamritkar-university-of-wisconsin-madison/uncategorized' target=\"_blank\">https://wandb.ai/kauamritkar-university-of-wisconsin-madison/uncategorized</a>"
      ],
      "text/plain": [
       "<IPython.core.display.HTML object>"
      ]
     },
     "metadata": {},
     "output_type": "display_data"
    },
    {
     "data": {
      "text/html": [
       " View sweep at <a href='https://wandb.ai/kauamritkar-university-of-wisconsin-madison/uncategorized/sweeps/qr944513' target=\"_blank\">https://wandb.ai/kauamritkar-university-of-wisconsin-madison/uncategorized/sweeps/qr944513</a>"
      ],
      "text/plain": [
       "<IPython.core.display.HTML object>"
      ]
     },
     "metadata": {},
     "output_type": "display_data"
    },
    {
     "data": {
      "text/html": [
       " View run at <a href='https://wandb.ai/kauamritkar-university-of-wisconsin-madison/uncategorized/runs/x2yyc07y' target=\"_blank\">https://wandb.ai/kauamritkar-university-of-wisconsin-madison/uncategorized/runs/x2yyc07y</a>"
      ],
      "text/plain": [
       "<IPython.core.display.HTML object>"
      ]
     },
     "metadata": {},
     "output_type": "display_data"
    },
    {
     "name": "stderr",
     "output_type": "stream",
     "text": [
      "\u001b[34m\u001b[1mwandb\u001b[0m: \u001b[33mWARNING\u001b[0m Config item 'per_device_train_batch_size' was locked by 'sweep' (ignored update).\n",
      "\u001b[34m\u001b[1mwandb\u001b[0m: \u001b[33mWARNING\u001b[0m Config item 'learning_rate' was locked by 'sweep' (ignored update).\n",
      "/home/kaustubh/miniforge3/envs/lora_esm/lib/python3.13/site-packages/torch/nn/parallel/_functions.py:70: UserWarning: Was asked to gather along dimension 0, but all input tensors were scalars; will instead unsqueeze and return a vector.\n",
      "  warnings.warn(\n"
     ]
    },
    {
     "data": {
      "text/html": [
       "\n",
       "    <div>\n",
       "      \n",
       "      <progress value='110' max='110' style='width:300px; height:20px; vertical-align: middle;'></progress>\n",
       "      [110/110 00:08, Epoch 5/5]\n",
       "    </div>\n",
       "    <table border=\"1\" class=\"dataframe\">\n",
       "  <thead>\n",
       " <tr style=\"text-align: left;\">\n",
       "      <th>Epoch</th>\n",
       "      <th>Training Loss</th>\n",
       "      <th>Validation Loss</th>\n",
       "      <th>Accuracy</th>\n",
       "    </tr>\n",
       "  </thead>\n",
       "  <tbody>\n",
       "    <tr>\n",
       "      <td>1</td>\n",
       "      <td>0.614400</td>\n",
       "      <td>0.569293</td>\n",
       "      <td>0.833333</td>\n",
       "    </tr>\n",
       "    <tr>\n",
       "      <td>2</td>\n",
       "      <td>0.641000</td>\n",
       "      <td>0.590361</td>\n",
       "      <td>0.479167</td>\n",
       "    </tr>\n",
       "    <tr>\n",
       "      <td>3</td>\n",
       "      <td>0.654600</td>\n",
       "      <td>0.586728</td>\n",
       "      <td>0.583333</td>\n",
       "    </tr>\n",
       "    <tr>\n",
       "      <td>4</td>\n",
       "      <td>0.610900</td>\n",
       "      <td>0.570482</td>\n",
       "      <td>0.583333</td>\n",
       "    </tr>\n",
       "    <tr>\n",
       "      <td>5</td>\n",
       "      <td>0.617200</td>\n",
       "      <td>0.564381</td>\n",
       "      <td>0.583333</td>\n",
       "    </tr>\n",
       "  </tbody>\n",
       "</table><p>"
      ],
      "text/plain": [
       "<IPython.core.display.HTML object>"
      ]
     },
     "metadata": {},
     "output_type": "display_data"
    },
    {
     "name": "stdout",
     "output_type": "stream",
     "text": [
      "Predictions shape: (16,)\n",
      "Labels shape: (16,)\n"
     ]
    },
    {
     "name": "stderr",
     "output_type": "stream",
     "text": [
      "/home/kaustubh/miniforge3/envs/lora_esm/lib/python3.13/site-packages/peft/utils/save_and_load.py:246: UserWarning: Could not find a config file in /tmp/facebook/esm2_t6_8M_UR50D - will assume that the vocabulary was not modified.\n",
      "  warnings.warn(\n",
      "/home/kaustubh/miniforge3/envs/lora_esm/lib/python3.13/site-packages/torch/nn/parallel/_functions.py:70: UserWarning: Was asked to gather along dimension 0, but all input tensors were scalars; will instead unsqueeze and return a vector.\n",
      "  warnings.warn(\n"
     ]
    },
    {
     "name": "stdout",
     "output_type": "stream",
     "text": [
      "Predictions shape: (16,)\n",
      "Labels shape: (16,)\n"
     ]
    },
    {
     "name": "stderr",
     "output_type": "stream",
     "text": [
      "/home/kaustubh/miniforge3/envs/lora_esm/lib/python3.13/site-packages/peft/utils/save_and_load.py:246: UserWarning: Could not find a config file in /tmp/facebook/esm2_t6_8M_UR50D - will assume that the vocabulary was not modified.\n",
      "  warnings.warn(\n",
      "/home/kaustubh/miniforge3/envs/lora_esm/lib/python3.13/site-packages/torch/nn/parallel/_functions.py:70: UserWarning: Was asked to gather along dimension 0, but all input tensors were scalars; will instead unsqueeze and return a vector.\n",
      "  warnings.warn(\n"
     ]
    },
    {
     "name": "stdout",
     "output_type": "stream",
     "text": [
      "Predictions shape: (16,)\n",
      "Labels shape: (16,)\n"
     ]
    },
    {
     "name": "stderr",
     "output_type": "stream",
     "text": [
      "/home/kaustubh/miniforge3/envs/lora_esm/lib/python3.13/site-packages/peft/utils/save_and_load.py:246: UserWarning: Could not find a config file in /tmp/facebook/esm2_t6_8M_UR50D - will assume that the vocabulary was not modified.\n",
      "  warnings.warn(\n",
      "/home/kaustubh/miniforge3/envs/lora_esm/lib/python3.13/site-packages/torch/nn/parallel/_functions.py:70: UserWarning: Was asked to gather along dimension 0, but all input tensors were scalars; will instead unsqueeze and return a vector.\n",
      "  warnings.warn(\n"
     ]
    },
    {
     "name": "stdout",
     "output_type": "stream",
     "text": [
      "Predictions shape: (16,)\n",
      "Labels shape: (16,)\n"
     ]
    },
    {
     "name": "stderr",
     "output_type": "stream",
     "text": [
      "/home/kaustubh/miniforge3/envs/lora_esm/lib/python3.13/site-packages/peft/utils/save_and_load.py:246: UserWarning: Could not find a config file in /tmp/facebook/esm2_t6_8M_UR50D - will assume that the vocabulary was not modified.\n",
      "  warnings.warn(\n",
      "/home/kaustubh/miniforge3/envs/lora_esm/lib/python3.13/site-packages/torch/nn/parallel/_functions.py:70: UserWarning: Was asked to gather along dimension 0, but all input tensors were scalars; will instead unsqueeze and return a vector.\n",
      "  warnings.warn(\n",
      "/home/kaustubh/miniforge3/envs/lora_esm/lib/python3.13/site-packages/peft/utils/save_and_load.py:246: UserWarning: Could not find a config file in /tmp/facebook/esm2_t6_8M_UR50D - will assume that the vocabulary was not modified.\n",
      "  warnings.warn(\n",
      "/home/kaustubh/miniforge3/envs/lora_esm/lib/python3.13/site-packages/torch/nn/parallel/_functions.py:70: UserWarning: Was asked to gather along dimension 0, but all input tensors were scalars; will instead unsqueeze and return a vector.\n",
      "  warnings.warn(\n"
     ]
    },
    {
     "name": "stdout",
     "output_type": "stream",
     "text": [
      "Predictions shape: (16,)\n",
      "Labels shape: (16,)\n"
     ]
    },
    {
     "name": "stderr",
     "output_type": "stream",
     "text": [
      "/home/kaustubh/miniforge3/envs/lora_esm/lib/python3.13/site-packages/peft/utils/save_and_load.py:246: UserWarning: Could not find a config file in /tmp/facebook/esm2_t6_8M_UR50D - will assume that the vocabulary was not modified.\n",
      "  warnings.warn(\n"
     ]
    },
    {
     "data": {
      "text/html": [],
      "text/plain": [
       "<IPython.core.display.HTML object>"
      ]
     },
     "metadata": {},
     "output_type": "display_data"
    },
    {
     "data": {
      "text/html": [
       "<br>    <style><br>        .wandb-row {<br>            display: flex;<br>            flex-direction: row;<br>            flex-wrap: wrap;<br>            justify-content: flex-start;<br>            width: 100%;<br>        }<br>        .wandb-col {<br>            display: flex;<br>            flex-direction: column;<br>            flex-basis: 100%;<br>            flex: 1;<br>            padding: 10px;<br>        }<br>    </style><br><div class=\"wandb-row\"><div class=\"wandb-col\"><h3>Run history:</h3><br/><table class=\"wandb\"><tr><td>eval/accuracy</td><td>█▁▃▃▃</td></tr><tr><td>eval/loss</td><td>▂█▇▃▁</td></tr><tr><td>eval/runtime</td><td>▁▂▇▇█</td></tr><tr><td>eval/samples_per_second</td><td>█▆▂▂▁</td></tr><tr><td>eval/steps_per_second</td><td>█▆▂▂▁</td></tr><tr><td>train/epoch</td><td>▁▂▂▂▃▃▄▅▅▅▆▆▇▇███</td></tr><tr><td>train/global_step</td><td>▁▂▂▂▃▃▄▅▅▅▆▆▇▇███</td></tr><tr><td>train/grad_norm</td><td>▇▃▄▇█▂▃▄▁▅▄</td></tr><tr><td>train/learning_rate</td><td>█▇▇▆▅▄▄▃▂▂▁</td></tr><tr><td>train/loss</td><td>█▃▃▅▅▅▄▃▁▂▃</td></tr></table><br/></div><div class=\"wandb-col\"><h3>Run summary:</h3><br/><table class=\"wandb\"><tr><td>eval/accuracy</td><td>0.58333</td></tr><tr><td>eval/loss</td><td>0.56438</td></tr><tr><td>eval/runtime</td><td>0.0649</td></tr><tr><td>eval/samples_per_second</td><td>246.649</td></tr><tr><td>eval/steps_per_second</td><td>15.416</td></tr><tr><td>total_flos</td><td>10270797834240.0</td></tr><tr><td>train/epoch</td><td>5</td></tr><tr><td>train/global_step</td><td>110</td></tr><tr><td>train/grad_norm</td><td>0.67017</td></tr><tr><td>train/learning_rate</td><td>0</td></tr><tr><td>train/loss</td><td>0.6172</td></tr><tr><td>train_loss</td><td>0.62474</td></tr><tr><td>train_runtime</td><td>12.0993</td></tr><tr><td>train_samples_per_second</td><td>35.952</td></tr><tr><td>train_steps_per_second</td><td>9.091</td></tr></table><br/></div></div>"
      ],
      "text/plain": [
       "<IPython.core.display.HTML object>"
      ]
     },
     "metadata": {},
     "output_type": "display_data"
    },
    {
     "data": {
      "text/html": [
       " View run <strong style=\"color:#cdcd00\">vibrant-sweep-9</strong> at: <a href='https://wandb.ai/kauamritkar-university-of-wisconsin-madison/uncategorized/runs/x2yyc07y' target=\"_blank\">https://wandb.ai/kauamritkar-university-of-wisconsin-madison/uncategorized/runs/x2yyc07y</a><br> View project at: <a href='https://wandb.ai/kauamritkar-university-of-wisconsin-madison/uncategorized' target=\"_blank\">https://wandb.ai/kauamritkar-university-of-wisconsin-madison/uncategorized</a><br>Synced 5 W&B file(s), 0 media file(s), 0 artifact file(s) and 0 other file(s)"
      ],
      "text/plain": [
       "<IPython.core.display.HTML object>"
      ]
     },
     "metadata": {},
     "output_type": "display_data"
    },
    {
     "data": {
      "text/html": [
       "Find logs at: <code>./wandb/run-20250314_180851-x2yyc07y/logs</code>"
      ],
      "text/plain": [
       "<IPython.core.display.HTML object>"
      ]
     },
     "metadata": {},
     "output_type": "display_data"
    },
    {
     "name": "stderr",
     "output_type": "stream",
     "text": [
      "\u001b[34m\u001b[1mwandb\u001b[0m: Sweep Agent: Waiting for job.\n",
      "\u001b[34m\u001b[1mwandb\u001b[0m: Job received.\n",
      "\u001b[34m\u001b[1mwandb\u001b[0m: Agent Starting Run: fez1aonb with config:\n",
      "\u001b[34m\u001b[1mwandb\u001b[0m: \tlearning_rate: 0.00032651304227524375\n",
      "\u001b[34m\u001b[1mwandb\u001b[0m: \tper_device_train_batch_size: 2\n"
     ]
    },
    {
     "data": {
      "text/html": [
       "Tracking run with wandb version 0.19.7"
      ],
      "text/plain": [
       "<IPython.core.display.HTML object>"
      ]
     },
     "metadata": {},
     "output_type": "display_data"
    },
    {
     "data": {
      "text/html": [
       "Run data is saved locally in <code>/home/kaustubh/RuBisCO_ML/ESM_LoRA/analysis/wandb/run-20250314_180914-fez1aonb</code>"
      ],
      "text/plain": [
       "<IPython.core.display.HTML object>"
      ]
     },
     "metadata": {},
     "output_type": "display_data"
    },
    {
     "data": {
      "text/html": [
       "Syncing run <strong><a href='https://wandb.ai/kauamritkar-university-of-wisconsin-madison/uncategorized/runs/fez1aonb' target=\"_blank\">balmy-sweep-10</a></strong> to <a href='https://wandb.ai/kauamritkar-university-of-wisconsin-madison/uncategorized' target=\"_blank\">Weights & Biases</a> (<a href='https://wandb.me/developer-guide' target=\"_blank\">docs</a>)<br>Sweep page: <a href='https://wandb.ai/kauamritkar-university-of-wisconsin-madison/uncategorized/sweeps/qr944513' target=\"_blank\">https://wandb.ai/kauamritkar-university-of-wisconsin-madison/uncategorized/sweeps/qr944513</a>"
      ],
      "text/plain": [
       "<IPython.core.display.HTML object>"
      ]
     },
     "metadata": {},
     "output_type": "display_data"
    },
    {
     "data": {
      "text/html": [
       " View project at <a href='https://wandb.ai/kauamritkar-university-of-wisconsin-madison/uncategorized' target=\"_blank\">https://wandb.ai/kauamritkar-university-of-wisconsin-madison/uncategorized</a>"
      ],
      "text/plain": [
       "<IPython.core.display.HTML object>"
      ]
     },
     "metadata": {},
     "output_type": "display_data"
    },
    {
     "data": {
      "text/html": [
       " View sweep at <a href='https://wandb.ai/kauamritkar-university-of-wisconsin-madison/uncategorized/sweeps/qr944513' target=\"_blank\">https://wandb.ai/kauamritkar-university-of-wisconsin-madison/uncategorized/sweeps/qr944513</a>"
      ],
      "text/plain": [
       "<IPython.core.display.HTML object>"
      ]
     },
     "metadata": {},
     "output_type": "display_data"
    },
    {
     "data": {
      "text/html": [
       " View run at <a href='https://wandb.ai/kauamritkar-university-of-wisconsin-madison/uncategorized/runs/fez1aonb' target=\"_blank\">https://wandb.ai/kauamritkar-university-of-wisconsin-madison/uncategorized/runs/fez1aonb</a>"
      ],
      "text/plain": [
       "<IPython.core.display.HTML object>"
      ]
     },
     "metadata": {},
     "output_type": "display_data"
    },
    {
     "name": "stderr",
     "output_type": "stream",
     "text": [
      "Trying to set _wandb in the hyperparameter search but there is no corresponding field in `TrainingArguments`.\n",
      "Trying to set assignments in the hyperparameter search but there is no corresponding field in `TrainingArguments`.\n",
      "Trying to set metric in the hyperparameter search but there is no corresponding field in `TrainingArguments`.\n",
      "Detected kernel version 5.4.0, which is below the recommended minimum of 5.5.0; this can cause the process to hang. It is recommended to upgrade the kernel to the minimum version or higher.\n",
      "Some weights of EsmModel were not initialized from the model checkpoint at facebook/esm2_t6_8M_UR50D and are newly initialized: ['esm.pooler.dense.bias', 'esm.pooler.dense.weight']\n",
      "You should probably TRAIN this model on a down-stream task to be able to use it for predictions and inference.\n"
     ]
    },
    {
     "data": {
      "text/html": [],
      "text/plain": [
       "<IPython.core.display.HTML object>"
      ]
     },
     "metadata": {},
     "output_type": "display_data"
    },
    {
     "data": {
      "text/html": [
       " View run <strong style=\"color:#cdcd00\">balmy-sweep-10</strong> at: <a href='https://wandb.ai/kauamritkar-university-of-wisconsin-madison/uncategorized/runs/fez1aonb' target=\"_blank\">https://wandb.ai/kauamritkar-university-of-wisconsin-madison/uncategorized/runs/fez1aonb</a><br> View project at: <a href='https://wandb.ai/kauamritkar-university-of-wisconsin-madison/uncategorized' target=\"_blank\">https://wandb.ai/kauamritkar-university-of-wisconsin-madison/uncategorized</a><br>Synced 5 W&B file(s), 0 media file(s), 0 artifact file(s) and 0 other file(s)"
      ],
      "text/plain": [
       "<IPython.core.display.HTML object>"
      ]
     },
     "metadata": {},
     "output_type": "display_data"
    },
    {
     "data": {
      "text/html": [
       "Find logs at: <code>./wandb/run-20250314_180914-fez1aonb/logs</code>"
      ],
      "text/plain": [
       "<IPython.core.display.HTML object>"
      ]
     },
     "metadata": {},
     "output_type": "display_data"
    },
    {
     "data": {
      "text/html": [
       "Ignoring project 'uncategorized' when running a sweep."
      ],
      "text/plain": [
       "<IPython.core.display.HTML object>"
      ]
     },
     "metadata": {},
     "output_type": "display_data"
    },
    {
     "data": {
      "text/html": [
       "Tracking run with wandb version 0.19.7"
      ],
      "text/plain": [
       "<IPython.core.display.HTML object>"
      ]
     },
     "metadata": {},
     "output_type": "display_data"
    },
    {
     "data": {
      "text/html": [
       "Run data is saved locally in <code>/home/kaustubh/RuBisCO_ML/ESM_LoRA/analysis/wandb/run-20250314_180918-fez1aonb</code>"
      ],
      "text/plain": [
       "<IPython.core.display.HTML object>"
      ]
     },
     "metadata": {},
     "output_type": "display_data"
    },
    {
     "data": {
      "text/html": [
       "Syncing run <strong><a href='https://wandb.ai/kauamritkar-university-of-wisconsin-madison/uncategorized/runs/fez1aonb' target=\"_blank\">balmy-sweep-10</a></strong> to <a href='https://wandb.ai/kauamritkar-university-of-wisconsin-madison/uncategorized' target=\"_blank\">Weights & Biases</a> (<a href='https://wandb.me/developer-guide' target=\"_blank\">docs</a>)<br>Sweep page: <a href='https://wandb.ai/kauamritkar-university-of-wisconsin-madison/uncategorized/sweeps/qr944513' target=\"_blank\">https://wandb.ai/kauamritkar-university-of-wisconsin-madison/uncategorized/sweeps/qr944513</a>"
      ],
      "text/plain": [
       "<IPython.core.display.HTML object>"
      ]
     },
     "metadata": {},
     "output_type": "display_data"
    },
    {
     "data": {
      "text/html": [
       " View project at <a href='https://wandb.ai/kauamritkar-university-of-wisconsin-madison/uncategorized' target=\"_blank\">https://wandb.ai/kauamritkar-university-of-wisconsin-madison/uncategorized</a>"
      ],
      "text/plain": [
       "<IPython.core.display.HTML object>"
      ]
     },
     "metadata": {},
     "output_type": "display_data"
    },
    {
     "data": {
      "text/html": [
       " View sweep at <a href='https://wandb.ai/kauamritkar-university-of-wisconsin-madison/uncategorized/sweeps/qr944513' target=\"_blank\">https://wandb.ai/kauamritkar-university-of-wisconsin-madison/uncategorized/sweeps/qr944513</a>"
      ],
      "text/plain": [
       "<IPython.core.display.HTML object>"
      ]
     },
     "metadata": {},
     "output_type": "display_data"
    },
    {
     "data": {
      "text/html": [
       " View run at <a href='https://wandb.ai/kauamritkar-university-of-wisconsin-madison/uncategorized/runs/fez1aonb' target=\"_blank\">https://wandb.ai/kauamritkar-university-of-wisconsin-madison/uncategorized/runs/fez1aonb</a>"
      ],
      "text/plain": [
       "<IPython.core.display.HTML object>"
      ]
     },
     "metadata": {},
     "output_type": "display_data"
    },
    {
     "name": "stderr",
     "output_type": "stream",
     "text": [
      "\u001b[34m\u001b[1mwandb\u001b[0m: \u001b[33mWARNING\u001b[0m Config item 'per_device_train_batch_size' was locked by 'sweep' (ignored update).\n",
      "\u001b[34m\u001b[1mwandb\u001b[0m: \u001b[33mWARNING\u001b[0m Config item 'learning_rate' was locked by 'sweep' (ignored update).\n",
      "/home/kaustubh/miniforge3/envs/lora_esm/lib/python3.13/site-packages/torch/nn/parallel/_functions.py:70: UserWarning: Was asked to gather along dimension 0, but all input tensors were scalars; will instead unsqueeze and return a vector.\n",
      "  warnings.warn(\n"
     ]
    },
    {
     "data": {
      "text/html": [
       "\n",
       "    <div>\n",
       "      \n",
       "      <progress value='110' max='110' style='width:300px; height:20px; vertical-align: middle;'></progress>\n",
       "      [110/110 00:08, Epoch 5/5]\n",
       "    </div>\n",
       "    <table border=\"1\" class=\"dataframe\">\n",
       "  <thead>\n",
       " <tr style=\"text-align: left;\">\n",
       "      <th>Epoch</th>\n",
       "      <th>Training Loss</th>\n",
       "      <th>Validation Loss</th>\n",
       "      <th>Accuracy</th>\n",
       "    </tr>\n",
       "  </thead>\n",
       "  <tbody>\n",
       "    <tr>\n",
       "      <td>1</td>\n",
       "      <td>0.615700</td>\n",
       "      <td>0.570593</td>\n",
       "      <td>0.833333</td>\n",
       "    </tr>\n",
       "    <tr>\n",
       "      <td>2</td>\n",
       "      <td>0.639700</td>\n",
       "      <td>0.591493</td>\n",
       "      <td>0.479167</td>\n",
       "    </tr>\n",
       "    <tr>\n",
       "      <td>3</td>\n",
       "      <td>0.654600</td>\n",
       "      <td>0.587412</td>\n",
       "      <td>0.583333</td>\n",
       "    </tr>\n",
       "    <tr>\n",
       "      <td>4</td>\n",
       "      <td>0.611200</td>\n",
       "      <td>0.570990</td>\n",
       "      <td>0.583333</td>\n",
       "    </tr>\n",
       "    <tr>\n",
       "      <td>5</td>\n",
       "      <td>0.617200</td>\n",
       "      <td>0.564852</td>\n",
       "      <td>0.562500</td>\n",
       "    </tr>\n",
       "  </tbody>\n",
       "</table><p>"
      ],
      "text/plain": [
       "<IPython.core.display.HTML object>"
      ]
     },
     "metadata": {},
     "output_type": "display_data"
    },
    {
     "name": "stdout",
     "output_type": "stream",
     "text": [
      "Predictions shape: (16,)\n",
      "Labels shape: (16,)\n"
     ]
    },
    {
     "name": "stderr",
     "output_type": "stream",
     "text": [
      "/home/kaustubh/miniforge3/envs/lora_esm/lib/python3.13/site-packages/peft/utils/save_and_load.py:246: UserWarning: Could not find a config file in /tmp/facebook/esm2_t6_8M_UR50D - will assume that the vocabulary was not modified.\n",
      "  warnings.warn(\n",
      "/home/kaustubh/miniforge3/envs/lora_esm/lib/python3.13/site-packages/torch/nn/parallel/_functions.py:70: UserWarning: Was asked to gather along dimension 0, but all input tensors were scalars; will instead unsqueeze and return a vector.\n",
      "  warnings.warn(\n"
     ]
    },
    {
     "name": "stdout",
     "output_type": "stream",
     "text": [
      "Predictions shape: (16,)\n",
      "Labels shape: (16,)\n"
     ]
    },
    {
     "name": "stderr",
     "output_type": "stream",
     "text": [
      "/home/kaustubh/miniforge3/envs/lora_esm/lib/python3.13/site-packages/peft/utils/save_and_load.py:246: UserWarning: Could not find a config file in /tmp/facebook/esm2_t6_8M_UR50D - will assume that the vocabulary was not modified.\n",
      "  warnings.warn(\n",
      "/home/kaustubh/miniforge3/envs/lora_esm/lib/python3.13/site-packages/torch/nn/parallel/_functions.py:70: UserWarning: Was asked to gather along dimension 0, but all input tensors were scalars; will instead unsqueeze and return a vector.\n",
      "  warnings.warn(\n"
     ]
    },
    {
     "name": "stdout",
     "output_type": "stream",
     "text": [
      "Predictions shape: (16,)\n",
      "Labels shape: (16,)\n"
     ]
    },
    {
     "name": "stderr",
     "output_type": "stream",
     "text": [
      "/home/kaustubh/miniforge3/envs/lora_esm/lib/python3.13/site-packages/peft/utils/save_and_load.py:246: UserWarning: Could not find a config file in /tmp/facebook/esm2_t6_8M_UR50D - will assume that the vocabulary was not modified.\n",
      "  warnings.warn(\n",
      "/home/kaustubh/miniforge3/envs/lora_esm/lib/python3.13/site-packages/torch/nn/parallel/_functions.py:70: UserWarning: Was asked to gather along dimension 0, but all input tensors were scalars; will instead unsqueeze and return a vector.\n",
      "  warnings.warn(\n"
     ]
    },
    {
     "name": "stdout",
     "output_type": "stream",
     "text": [
      "Predictions shape: (16,)\n",
      "Labels shape: (16,)\n"
     ]
    },
    {
     "name": "stderr",
     "output_type": "stream",
     "text": [
      "/home/kaustubh/miniforge3/envs/lora_esm/lib/python3.13/site-packages/peft/utils/save_and_load.py:246: UserWarning: Could not find a config file in /tmp/facebook/esm2_t6_8M_UR50D - will assume that the vocabulary was not modified.\n",
      "  warnings.warn(\n",
      "/home/kaustubh/miniforge3/envs/lora_esm/lib/python3.13/site-packages/torch/nn/parallel/_functions.py:70: UserWarning: Was asked to gather along dimension 0, but all input tensors were scalars; will instead unsqueeze and return a vector.\n",
      "  warnings.warn(\n",
      "/home/kaustubh/miniforge3/envs/lora_esm/lib/python3.13/site-packages/peft/utils/save_and_load.py:246: UserWarning: Could not find a config file in /tmp/facebook/esm2_t6_8M_UR50D - will assume that the vocabulary was not modified.\n",
      "  warnings.warn(\n",
      "/home/kaustubh/miniforge3/envs/lora_esm/lib/python3.13/site-packages/torch/nn/parallel/_functions.py:70: UserWarning: Was asked to gather along dimension 0, but all input tensors were scalars; will instead unsqueeze and return a vector.\n",
      "  warnings.warn(\n"
     ]
    },
    {
     "name": "stdout",
     "output_type": "stream",
     "text": [
      "Predictions shape: (16,)\n",
      "Labels shape: (16,)\n"
     ]
    },
    {
     "name": "stderr",
     "output_type": "stream",
     "text": [
      "/home/kaustubh/miniforge3/envs/lora_esm/lib/python3.13/site-packages/peft/utils/save_and_load.py:246: UserWarning: Could not find a config file in /tmp/facebook/esm2_t6_8M_UR50D - will assume that the vocabulary was not modified.\n",
      "  warnings.warn(\n"
     ]
    },
    {
     "data": {
      "text/html": [],
      "text/plain": [
       "<IPython.core.display.HTML object>"
      ]
     },
     "metadata": {},
     "output_type": "display_data"
    },
    {
     "data": {
      "text/html": [
       "<br>    <style><br>        .wandb-row {<br>            display: flex;<br>            flex-direction: row;<br>            flex-wrap: wrap;<br>            justify-content: flex-start;<br>            width: 100%;<br>        }<br>        .wandb-col {<br>            display: flex;<br>            flex-direction: column;<br>            flex-basis: 100%;<br>            flex: 1;<br>            padding: 10px;<br>        }<br>    </style><br><div class=\"wandb-row\"><div class=\"wandb-col\"><h3>Run history:</h3><br/><table class=\"wandb\"><tr><td>eval/accuracy</td><td>█▁▃▃▃</td></tr><tr><td>eval/loss</td><td>▃█▇▃▁</td></tr><tr><td>eval/runtime</td><td>▁▂▅▁█</td></tr><tr><td>eval/samples_per_second</td><td>█▇▄█▁</td></tr><tr><td>eval/steps_per_second</td><td>█▇▄█▁</td></tr><tr><td>train/epoch</td><td>▁▂▂▂▃▃▄▅▅▅▆▆▇▇███</td></tr><tr><td>train/global_step</td><td>▁▂▂▂▃▃▄▅▅▅▆▆▇▇███</td></tr><tr><td>train/grad_norm</td><td>▇▃▄▇█▂▃▄▁▅▄</td></tr><tr><td>train/learning_rate</td><td>█▇▇▆▅▅▄▃▂▂▁</td></tr><tr><td>train/loss</td><td>█▃▃▅▄▅▄▃▁▂▃</td></tr></table><br/></div><div class=\"wandb-col\"><h3>Run summary:</h3><br/><table class=\"wandb\"><tr><td>eval/accuracy</td><td>0.5625</td></tr><tr><td>eval/loss</td><td>0.56485</td></tr><tr><td>eval/runtime</td><td>0.0639</td></tr><tr><td>eval/samples_per_second</td><td>250.583</td></tr><tr><td>eval/steps_per_second</td><td>15.661</td></tr><tr><td>total_flos</td><td>10270797834240.0</td></tr><tr><td>train/epoch</td><td>5</td></tr><tr><td>train/global_step</td><td>110</td></tr><tr><td>train/grad_norm</td><td>0.67188</td></tr><tr><td>train/learning_rate</td><td>0</td></tr><tr><td>train/loss</td><td>0.6172</td></tr><tr><td>train_loss</td><td>0.62504</td></tr><tr><td>train_runtime</td><td>11.903</td></tr><tr><td>train_samples_per_second</td><td>36.545</td></tr><tr><td>train_steps_per_second</td><td>9.241</td></tr></table><br/></div></div>"
      ],
      "text/plain": [
       "<IPython.core.display.HTML object>"
      ]
     },
     "metadata": {},
     "output_type": "display_data"
    },
    {
     "data": {
      "text/html": [
       " View run <strong style=\"color:#cdcd00\">balmy-sweep-10</strong> at: <a href='https://wandb.ai/kauamritkar-university-of-wisconsin-madison/uncategorized/runs/fez1aonb' target=\"_blank\">https://wandb.ai/kauamritkar-university-of-wisconsin-madison/uncategorized/runs/fez1aonb</a><br> View project at: <a href='https://wandb.ai/kauamritkar-university-of-wisconsin-madison/uncategorized' target=\"_blank\">https://wandb.ai/kauamritkar-university-of-wisconsin-madison/uncategorized</a><br>Synced 5 W&B file(s), 0 media file(s), 0 artifact file(s) and 0 other file(s)"
      ],
      "text/plain": [
       "<IPython.core.display.HTML object>"
      ]
     },
     "metadata": {},
     "output_type": "display_data"
    },
    {
     "data": {
      "text/html": [
       "Find logs at: <code>./wandb/run-20250314_180918-fez1aonb/logs</code>"
      ],
      "text/plain": [
       "<IPython.core.display.HTML object>"
      ]
     },
     "metadata": {},
     "output_type": "display_data"
    },
    {
     "name": "stdout",
     "output_type": "stream",
     "text": [
      "Best Trial: BestRun(run_id='qicilcav', objective=0.8958333333333333, hyperparameters={'learning_rate': 0.0009800257146933718, 'per_device_train_batch_size': 16, 'assignments': {}, 'metric': 'eval/loss'}, run_summary=None)\n"
     ]
    },
    {
     "name": "stderr",
     "output_type": "stream",
     "text": [
      "Some weights of EsmModel were not initialized from the model checkpoint at facebook/esm2_t6_8M_UR50D and are newly initialized: ['esm.pooler.dense.bias', 'esm.pooler.dense.weight']\n",
      "You should probably TRAIN this model on a down-stream task to be able to use it for predictions and inference.\n",
      "Detected kernel version 5.4.0, which is below the recommended minimum of 5.5.0; this can cause the process to hang. It is recommended to upgrade the kernel to the minimum version or higher.\n"
     ]
    },
    {
     "data": {
      "text/html": [
       "Changes to your `wandb` environment variables will be ignored because your `wandb` session has already started. For more information on how to modify your settings with `wandb.init()` arguments, please refer to <a href='https://wandb.me/wandb-init' target=\"_blank\">the W&B docs</a>."
      ],
      "text/plain": [
       "<IPython.core.display.HTML object>"
      ]
     },
     "metadata": {},
     "output_type": "display_data"
    },
    {
     "data": {
      "text/html": [
       "Ignoring project 'uncategorized' when running a sweep."
      ],
      "text/plain": [
       "<IPython.core.display.HTML object>"
      ]
     },
     "metadata": {},
     "output_type": "display_data"
    },
    {
     "data": {
      "text/html": [
       "Tracking run with wandb version 0.19.7"
      ],
      "text/plain": [
       "<IPython.core.display.HTML object>"
      ]
     },
     "metadata": {},
     "output_type": "display_data"
    },
    {
     "data": {
      "text/html": [
       "Run data is saved locally in <code>/home/kaustubh/RuBisCO_ML/ESM_LoRA/analysis/wandb/run-20250314_180931-fez1aonb</code>"
      ],
      "text/plain": [
       "<IPython.core.display.HTML object>"
      ]
     },
     "metadata": {},
     "output_type": "display_data"
    },
    {
     "data": {
      "text/html": [
       "Syncing run <strong><a href='https://wandb.ai/kauamritkar-university-of-wisconsin-madison/uncategorized/runs/fez1aonb' target=\"_blank\">balmy-sweep-10</a></strong> to <a href='https://wandb.ai/kauamritkar-university-of-wisconsin-madison/uncategorized' target=\"_blank\">Weights & Biases</a> (<a href='https://wandb.me/developer-guide' target=\"_blank\">docs</a>)<br>Sweep page: <a href='https://wandb.ai/kauamritkar-university-of-wisconsin-madison/uncategorized/sweeps/qr944513' target=\"_blank\">https://wandb.ai/kauamritkar-university-of-wisconsin-madison/uncategorized/sweeps/qr944513</a>"
      ],
      "text/plain": [
       "<IPython.core.display.HTML object>"
      ]
     },
     "metadata": {},
     "output_type": "display_data"
    },
    {
     "data": {
      "text/html": [
       " View project at <a href='https://wandb.ai/kauamritkar-university-of-wisconsin-madison/uncategorized' target=\"_blank\">https://wandb.ai/kauamritkar-university-of-wisconsin-madison/uncategorized</a>"
      ],
      "text/plain": [
       "<IPython.core.display.HTML object>"
      ]
     },
     "metadata": {},
     "output_type": "display_data"
    },
    {
     "data": {
      "text/html": [
       " View sweep at <a href='https://wandb.ai/kauamritkar-university-of-wisconsin-madison/uncategorized/sweeps/qr944513' target=\"_blank\">https://wandb.ai/kauamritkar-university-of-wisconsin-madison/uncategorized/sweeps/qr944513</a>"
      ],
      "text/plain": [
       "<IPython.core.display.HTML object>"
      ]
     },
     "metadata": {},
     "output_type": "display_data"
    },
    {
     "data": {
      "text/html": [
       " View run at <a href='https://wandb.ai/kauamritkar-university-of-wisconsin-madison/uncategorized/runs/fez1aonb' target=\"_blank\">https://wandb.ai/kauamritkar-university-of-wisconsin-madison/uncategorized/runs/fez1aonb</a>"
      ],
      "text/plain": [
       "<IPython.core.display.HTML object>"
      ]
     },
     "metadata": {},
     "output_type": "display_data"
    },
    {
     "name": "stderr",
     "output_type": "stream",
     "text": [
      "\u001b[34m\u001b[1mwandb\u001b[0m: \u001b[33mWARNING\u001b[0m Config item 'per_device_train_batch_size' was locked by 'sweep' (ignored update).\n",
      "\u001b[34m\u001b[1mwandb\u001b[0m: \u001b[33mWARNING\u001b[0m Config item 'learning_rate' was locked by 'sweep' (ignored update).\n",
      "/home/kaustubh/miniforge3/envs/lora_esm/lib/python3.13/site-packages/torch/nn/parallel/_functions.py:70: UserWarning: Was asked to gather along dimension 0, but all input tensors were scalars; will instead unsqueeze and return a vector.\n",
      "  warnings.warn(\n"
     ]
    },
    {
     "data": {
      "text/html": [
       "\n",
       "    <div>\n",
       "      \n",
       "      <progress value='15' max='15' style='width:300px; height:20px; vertical-align: middle;'></progress>\n",
       "      [15/15 00:02, Epoch 5/5]\n",
       "    </div>\n",
       "    <table border=\"1\" class=\"dataframe\">\n",
       "  <thead>\n",
       " <tr style=\"text-align: left;\">\n",
       "      <th>Epoch</th>\n",
       "      <th>Training Loss</th>\n",
       "      <th>Validation Loss</th>\n",
       "      <th>Accuracy</th>\n",
       "    </tr>\n",
       "  </thead>\n",
       "  <tbody>\n",
       "    <tr>\n",
       "      <td>1</td>\n",
       "      <td>No log</td>\n",
       "      <td>0.640094</td>\n",
       "      <td>0.666667</td>\n",
       "    </tr>\n",
       "    <tr>\n",
       "      <td>2</td>\n",
       "      <td>No log</td>\n",
       "      <td>0.587337</td>\n",
       "      <td>0.791667</td>\n",
       "    </tr>\n",
       "    <tr>\n",
       "      <td>3</td>\n",
       "      <td>No log</td>\n",
       "      <td>0.577126</td>\n",
       "      <td>0.833333</td>\n",
       "    </tr>\n",
       "    <tr>\n",
       "      <td>4</td>\n",
       "      <td>0.661800</td>\n",
       "      <td>0.562806</td>\n",
       "      <td>0.875000</td>\n",
       "    </tr>\n",
       "    <tr>\n",
       "      <td>5</td>\n",
       "      <td>0.661800</td>\n",
       "      <td>0.558059</td>\n",
       "      <td>0.895833</td>\n",
       "    </tr>\n",
       "  </tbody>\n",
       "</table><p>"
      ],
      "text/plain": [
       "<IPython.core.display.HTML object>"
      ]
     },
     "metadata": {},
     "output_type": "display_data"
    },
    {
     "name": "stdout",
     "output_type": "stream",
     "text": [
      "Predictions shape: (16,)\n",
      "Labels shape: (16,)\n"
     ]
    },
    {
     "name": "stderr",
     "output_type": "stream",
     "text": [
      "/home/kaustubh/miniforge3/envs/lora_esm/lib/python3.13/site-packages/peft/utils/save_and_load.py:246: UserWarning: Could not find a config file in /tmp/facebook/esm2_t6_8M_UR50D - will assume that the vocabulary was not modified.\n",
      "  warnings.warn(\n",
      "/home/kaustubh/miniforge3/envs/lora_esm/lib/python3.13/site-packages/torch/nn/parallel/_functions.py:70: UserWarning: Was asked to gather along dimension 0, but all input tensors were scalars; will instead unsqueeze and return a vector.\n",
      "  warnings.warn(\n"
     ]
    },
    {
     "name": "stdout",
     "output_type": "stream",
     "text": [
      "Predictions shape: (16,)\n",
      "Labels shape: (16,)\n"
     ]
    },
    {
     "name": "stderr",
     "output_type": "stream",
     "text": [
      "/home/kaustubh/miniforge3/envs/lora_esm/lib/python3.13/site-packages/peft/utils/save_and_load.py:246: UserWarning: Could not find a config file in /tmp/facebook/esm2_t6_8M_UR50D - will assume that the vocabulary was not modified.\n",
      "  warnings.warn(\n",
      "/home/kaustubh/miniforge3/envs/lora_esm/lib/python3.13/site-packages/torch/nn/parallel/_functions.py:70: UserWarning: Was asked to gather along dimension 0, but all input tensors were scalars; will instead unsqueeze and return a vector.\n",
      "  warnings.warn(\n"
     ]
    },
    {
     "name": "stdout",
     "output_type": "stream",
     "text": [
      "Predictions shape: (16,)\n",
      "Labels shape: (16,)\n"
     ]
    },
    {
     "name": "stderr",
     "output_type": "stream",
     "text": [
      "/home/kaustubh/miniforge3/envs/lora_esm/lib/python3.13/site-packages/peft/utils/save_and_load.py:246: UserWarning: Could not find a config file in /tmp/facebook/esm2_t6_8M_UR50D - will assume that the vocabulary was not modified.\n",
      "  warnings.warn(\n",
      "/home/kaustubh/miniforge3/envs/lora_esm/lib/python3.13/site-packages/torch/nn/parallel/_functions.py:70: UserWarning: Was asked to gather along dimension 0, but all input tensors were scalars; will instead unsqueeze and return a vector.\n",
      "  warnings.warn(\n"
     ]
    },
    {
     "name": "stdout",
     "output_type": "stream",
     "text": [
      "Predictions shape: (16,)\n",
      "Labels shape: (16,)\n"
     ]
    },
    {
     "name": "stderr",
     "output_type": "stream",
     "text": [
      "/home/kaustubh/miniforge3/envs/lora_esm/lib/python3.13/site-packages/peft/utils/save_and_load.py:246: UserWarning: Could not find a config file in /tmp/facebook/esm2_t6_8M_UR50D - will assume that the vocabulary was not modified.\n",
      "  warnings.warn(\n",
      "/home/kaustubh/miniforge3/envs/lora_esm/lib/python3.13/site-packages/torch/nn/parallel/_functions.py:70: UserWarning: Was asked to gather along dimension 0, but all input tensors were scalars; will instead unsqueeze and return a vector.\n",
      "  warnings.warn(\n",
      "/home/kaustubh/miniforge3/envs/lora_esm/lib/python3.13/site-packages/peft/utils/save_and_load.py:246: UserWarning: Could not find a config file in /tmp/facebook/esm2_t6_8M_UR50D - will assume that the vocabulary was not modified.\n",
      "  warnings.warn(\n",
      "/home/kaustubh/miniforge3/envs/lora_esm/lib/python3.13/site-packages/torch/nn/parallel/_functions.py:70: UserWarning: Was asked to gather along dimension 0, but all input tensors were scalars; will instead unsqueeze and return a vector.\n",
      "  warnings.warn(\n"
     ]
    },
    {
     "name": "stdout",
     "output_type": "stream",
     "text": [
      "Predictions shape: (16,)\n",
      "Labels shape: (16,)\n"
     ]
    },
    {
     "name": "stderr",
     "output_type": "stream",
     "text": [
      "/home/kaustubh/miniforge3/envs/lora_esm/lib/python3.13/site-packages/peft/utils/save_and_load.py:246: UserWarning: Could not find a config file in /tmp/facebook/esm2_t6_8M_UR50D - will assume that the vocabulary was not modified.\n",
      "  warnings.warn(\n",
      "/home/kaustubh/miniforge3/envs/lora_esm/lib/python3.13/site-packages/peft/utils/save_and_load.py:246: UserWarning: Could not find a config file in /tmp/facebook/esm2_t6_8M_UR50D - will assume that the vocabulary was not modified.\n",
      "  warnings.warn(\n"
     ]
    }
   ],
   "source": [
    "train_protein_model()"
   ]
  },
  {
   "cell_type": "code",
   "execution_count": 4,
   "metadata": {},
   "outputs": [],
   "source": [
    "model_path = \"/home/kaustubh/RuBisCO_ML/ESM_LoRA/training_runs/esm2_t6_8M-finetuned-lora_2025-03-14_18-06-06\"\n",
    "base_model_path = \"facebook/esm2_t6_8M_UR50D\""
   ]
  },
  {
   "cell_type": "code",
   "execution_count": 5,
   "metadata": {},
   "outputs": [],
   "source": [
    "class CustomModel(EsmPreTrainedModel):\n",
    "    def __init__(self):\n",
    "        super().__init__(EsmConfig.from_pretrained(\"facebook/esm2_t6_8M_UR50D\"))\n",
    "        self.backbone = EsmModel.from_pretrained(\"facebook/esm2_t6_8M_UR50D\")\n",
    "\n",
    "        self.outputs = torch.nn.Linear(320, 1)\n",
    "\n",
    "    def forward(\n",
    "        self,\n",
    "        input_ids,\n",
    "        attention_mask=None,\n",
    "        token_type_ids=None,\n",
    "        position_ids=None,\n",
    "        labels=None,\n",
    "        inputs_embeds=None,\n",
    "        output_attentions=False,\n",
    "        output_hidden_states=False,\n",
    "        return_dict=True\n",
    "    ):\n",
    "        outputs = self.backbone(\n",
    "            input_ids,\n",
    "            inputs_embeds=inputs_embeds,\n",
    "            output_attentions=output_attentions,\n",
    "            output_hidden_states=output_hidden_states,\n",
    "            return_dict=return_dict\n",
    "        )\n",
    "\n",
    "        sequence_output = outputs.last_hidden_state # (B, L, 1280)\n",
    "        bos_emb = sequence_output[:,0] # (B, L, 1280) -> (B, 1280)\n",
    "        # outputs = [self.outputs[i](sequence_output) for i in range(5)]\n",
    "        pred = self.outputs(bos_emb).squeeze(1) # (B,)\n",
    "\n",
    "        # if labels, then we are training\n",
    "        loss = None\n",
    "        if labels is not None:\n",
    "            assert pred.shape == labels.shape, f\"{pred}, {labels}\"\n",
    "            loss_fn = torch.nn.BCEWithLogitsLoss(reduction=\"mean\")\n",
    "            loss = loss_fn(pred, labels.float())\n",
    "            # loss = sum(losses)/len(losses)\n",
    "\n",
    "        return {\n",
    "            \"loss\": loss,\n",
    "            \"last_hidden_state\": sequence_output,\n",
    "            \"logits\": pred\n",
    "        }\n",
    "\n",
    "    def get_embedding(\n",
    "        self,\n",
    "        input_ids,\n",
    "        attention_mask=None,\n",
    "        token_type_ids=None,\n",
    "        position_ids=None,\n",
    "        labels=None,\n",
    "        inputs_embeds=None,\n",
    "        output_attentions=False,\n",
    "        output_hidden_states=False,\n",
    "        return_dict=True\n",
    "    ):\n",
    "        outputs = self.backbone(\n",
    "            input_ids,\n",
    "            inputs_embeds=inputs_embeds,\n",
    "            output_attentions=output_attentions,\n",
    "            output_hidden_states=output_hidden_states,\n",
    "            return_dict=return_dict\n",
    "        )\n",
    "\n",
    "        return outputs"
   ]
  },
  {
   "cell_type": "code",
   "execution_count": 6,
   "metadata": {},
   "outputs": [
    {
     "name": "stderr",
     "output_type": "stream",
     "text": [
      "Some weights of EsmModel were not initialized from the model checkpoint at facebook/esm2_t6_8M_UR50D and are newly initialized: ['esm.pooler.dense.bias', 'esm.pooler.dense.weight']\n",
      "You should probably TRAIN this model on a down-stream task to be able to use it for predictions and inference.\n"
     ]
    },
    {
     "data": {
      "text/plain": [
       "PeftModelForTokenClassification(\n",
       "  (base_model): LoraModel(\n",
       "    (model): CustomModel(\n",
       "      (backbone): EsmModel(\n",
       "        (embeddings): EsmEmbeddings(\n",
       "          (word_embeddings): Embedding(33, 320, padding_idx=1)\n",
       "          (dropout): Dropout(p=0.0, inplace=False)\n",
       "          (position_embeddings): Embedding(1026, 320, padding_idx=1)\n",
       "        )\n",
       "        (encoder): EsmEncoder(\n",
       "          (layer): ModuleList(\n",
       "            (0-5): 6 x EsmLayer(\n",
       "              (attention): EsmAttention(\n",
       "                (self): EsmSelfAttention(\n",
       "                  (query): lora.Linear(\n",
       "                    (base_layer): Linear(in_features=320, out_features=320, bias=True)\n",
       "                    (lora_dropout): ModuleDict(\n",
       "                      (default): Dropout(p=0.1, inplace=False)\n",
       "                    )\n",
       "                    (lora_A): ModuleDict(\n",
       "                      (default): Linear(in_features=320, out_features=16, bias=False)\n",
       "                    )\n",
       "                    (lora_B): ModuleDict(\n",
       "                      (default): Linear(in_features=16, out_features=320, bias=False)\n",
       "                    )\n",
       "                    (lora_embedding_A): ParameterDict()\n",
       "                    (lora_embedding_B): ParameterDict()\n",
       "                    (lora_magnitude_vector): ModuleDict()\n",
       "                  )\n",
       "                  (key): lora.Linear(\n",
       "                    (base_layer): Linear(in_features=320, out_features=320, bias=True)\n",
       "                    (lora_dropout): ModuleDict(\n",
       "                      (default): Dropout(p=0.1, inplace=False)\n",
       "                    )\n",
       "                    (lora_A): ModuleDict(\n",
       "                      (default): Linear(in_features=320, out_features=16, bias=False)\n",
       "                    )\n",
       "                    (lora_B): ModuleDict(\n",
       "                      (default): Linear(in_features=16, out_features=320, bias=False)\n",
       "                    )\n",
       "                    (lora_embedding_A): ParameterDict()\n",
       "                    (lora_embedding_B): ParameterDict()\n",
       "                    (lora_magnitude_vector): ModuleDict()\n",
       "                  )\n",
       "                  (value): lora.Linear(\n",
       "                    (base_layer): Linear(in_features=320, out_features=320, bias=True)\n",
       "                    (lora_dropout): ModuleDict(\n",
       "                      (default): Dropout(p=0.1, inplace=False)\n",
       "                    )\n",
       "                    (lora_A): ModuleDict(\n",
       "                      (default): Linear(in_features=320, out_features=16, bias=False)\n",
       "                    )\n",
       "                    (lora_B): ModuleDict(\n",
       "                      (default): Linear(in_features=16, out_features=320, bias=False)\n",
       "                    )\n",
       "                    (lora_embedding_A): ParameterDict()\n",
       "                    (lora_embedding_B): ParameterDict()\n",
       "                    (lora_magnitude_vector): ModuleDict()\n",
       "                  )\n",
       "                  (dropout): Dropout(p=0.0, inplace=False)\n",
       "                  (rotary_embeddings): RotaryEmbedding()\n",
       "                )\n",
       "                (output): EsmSelfOutput(\n",
       "                  (dense): Linear(in_features=320, out_features=320, bias=True)\n",
       "                  (dropout): Dropout(p=0.0, inplace=False)\n",
       "                )\n",
       "                (LayerNorm): LayerNorm((320,), eps=1e-05, elementwise_affine=True)\n",
       "              )\n",
       "              (intermediate): EsmIntermediate(\n",
       "                (dense): Linear(in_features=320, out_features=1280, bias=True)\n",
       "              )\n",
       "              (output): EsmOutput(\n",
       "                (dense): Linear(in_features=1280, out_features=320, bias=True)\n",
       "                (dropout): Dropout(p=0.0, inplace=False)\n",
       "              )\n",
       "              (LayerNorm): LayerNorm((320,), eps=1e-05, elementwise_affine=True)\n",
       "            )\n",
       "          )\n",
       "          (emb_layer_norm_after): LayerNorm((320,), eps=1e-05, elementwise_affine=True)\n",
       "        )\n",
       "        (pooler): EsmPooler(\n",
       "          (dense): Linear(in_features=320, out_features=320, bias=True)\n",
       "          (activation): Tanh()\n",
       "        )\n",
       "        (contact_head): EsmContactPredictionHead(\n",
       "          (regression): Linear(in_features=120, out_features=1, bias=True)\n",
       "          (activation): Sigmoid()\n",
       "        )\n",
       "      )\n",
       "      (outputs): Linear(in_features=320, out_features=1, bias=True)\n",
       "    )\n",
       "  )\n",
       ")"
      ]
     },
     "execution_count": 6,
     "metadata": {},
     "output_type": "execute_result"
    }
   ],
   "source": [
    "base_model = CustomModel()\n",
    "loaded_model = PeftModel.from_pretrained(base_model, model_path)\n",
    "loaded_model.eval()\n",
    "# Load base_model_path to base_model\n",
    "# base_model.load_state_dict(torch.load(model_path))"
   ]
  },
  {
   "cell_type": "code",
   "execution_count": 7,
   "metadata": {},
   "outputs": [],
   "source": [
    "loaded_tokenizer = AutoTokenizer.from_pretrained(model_path)"
   ]
  },
  {
   "cell_type": "code",
   "execution_count": 8,
   "metadata": {},
   "outputs": [],
   "source": [
    "train_set_seqs = [\n",
    "  'MSIRYTDFVDLNYTPGDNDLVCTFRIEPADGMSLEAAASRVASESSNGTWATLSVDEDIKKLKATVFEIDGNIIKIAYPLGLFEPGNIPQILSSIAGNIFGMKAVKNIRLLDCEWPEELLSSFKGPQFGSEGVQEILGVDDRPLTATVPKPKVGLSTEQHAEVGYEAWVGGLDLLKDDENLTDQPFNPFEERVKESLEARDKAEDETGEKKAYLVNITAETNEMLERAELVAEYGGEYVMVDVITAGWAAVQTLRERCEDLGLAIHAHRAMHAAFDRLPSHGVSMRVLAQLARLVGVDQLHTGTAGLGKLANDKETLAINDWLRSDWYGIKDVLPVASGGLHPGLVPELLDAFGTNIIIQAGGGVHGHPDGTRAGAKALRQAVEAVVEGVSLEEYAKDHPELAKALEKWGHVRPR',\n",
    "  'MSRYTDYVDLNYTPKENDLICTFHIEPADGVDLEEAAGRVAAESSIGTWTDVSTMPEIWEKLKARVYEIDETGNIVKIAYPLDLFEPGNIPQILSSIAGNIFGMKAVKNLRLLDIRFPEELVKSFKGPKFGIEGVRELLGVYDRPLVGTIVKPKVGLSAEEHAEVAYEAWVGGLDLVKDDENLTSQPFNPFEERVKKVLEARDKAEEETGEKKVYLVNITAPTEEMIRRAELVADLGGKYVMIDIITAGFSAVQSLREEDLGLAIHAHRAMHAAFTRNPKHGISMLVLAKLARLVGVDQLHIGTGVGKMEGDKEEVLAIRDALRLDRVPADEANHFLEQDWYNIKPVFPVASGGLHPGLVPDLIDIFGKDIIIQAGGGVHGHPDGTRAGAKALRQAIEAVMEGISLEEYAKEHKELKKALEKWGHVR',\n",
    "  'MSKRYTDYVDLNYTPKENDLICTFHIEPADGVDLEEAAGRVAAESSIGTWTDVSTMPEIWEKLKARVYEIDESGNIVKIAYPLDLFEPGNIPQILSSIAGNIFGMKAVKNLRLLDIRFPKELVKSFKGPKFGIEGVRELLGVYDRPLVGTIVKPKVGLSAEEHAEVAYEAWVGGIDLVKDDENLTSQPFNPFEERVKKVMEARDKAEEETGEKKVYLVNITAPTEEMIRRAELVKDLGGKYVMIDIITAGFSAVQSLREEDLGLAIHAHRAMHAAFTRNPKHGISMLVLAKLARLVGVDQLHIGTVVGKMEGDKEEVLAIRDALRLDRVPADEANHFLEQDWYNIKPVFPVASGGLHPGLVPDLIDIFGKDIIIQAGGGVHGHPDGTRAGAKAMRQAIEAVMEGISLEEYAKEHKELAKALEKWGHV',\n",
    "  'MSERYTDFVDLNYEPTDNDLVCTFRIEPADGMSMEAAASRVASESSTGTWTALSVDERIKKLSAKTFSIDGNIIKIAYPLGLFEPGNIPQILSSIAGNIFGMKAVKTLRLLDCEFPESLLKSFPGPQFGSSVRREILGVHDRPLTATVPKPKVGLSAEEHAEVGYEAWVGGLDLIKDDENLTDQPFNPFEDRLTESLEARDKAEEETGEKKAYLVNITAETEEMLRRADLVAEQGGEYVMVDIITAGWSAVQTVRERCEDLGLAIHAHRAMHAAFDRNPSHGISMRVLAKIARLVGVDQLHTGTAGVGKLEGEKEVVAIADMLRSDLYNMNPVLPVASGGLHPGLVPDLIDAFGTNICIQAGGGIHGHPDGTRAGAKALRQAIDAAMEGVSLEEYADDHPELATALDKWGHVTPR',\n",
    "  'MSERYTDFLDLNYTPGDNDLVCTFRIEPADGMSMEAAAGRVASESSTGTWATLQVMERITDLSAKVFEIDGNIIKVAYPAGLFEPGNMPQILSSIAGNIFGMKAVDTIRLLDIEWPESILSSFPGPQFGIEGVREIFGVHDRPLTATVPKPKVGLSAEEHAQIGYEAWVGGLDLIKDDENLTDQAFNPFEERVTKVLEARDKAEEETGEKKSYLVNITAETNEMLERADMVADYGGEYVMIDVITAGWAAVQTLRERCEDLGLAIHAHRAMHAAFTRNPKHGVSMRVLAKIARLCGVDQLHTGTAGLGKMAGEKDVLGIAEMLRQDWYNINPVFPVASGGLHPGLVPDLLEIFGKNIIIQAGGGIHGHPDGTRAGAKALRQAVDAVMEGVSLEEYADDHPELATALDKWGTERPR',\n",
    "  'MSGIRYTDFLDLNYTPGETDLVCTFRIEPAEGISMEEAASRVASESSNGTWTALQTMERVTKLSAKTFSIDGNTVKIAYPLGLFEPGNMPQILSCIAGNIFGMKAVDNLRLLDIEWPESILSSFKGPQFGSEGRREIFGVDDRPLTATVPKPKVGLSTEEHAEVGYEAWVGGLDLLKDDENLTSQAFNPFEERLKKVMAMRDKAEDETGEKKAYLVNITAETNEMLRRADMVAEYGGEYVMIDIITAGWSAVQTVRERCEDLGLAIHAHRAMHAAFDRLPKHGISMLVLAQLARLVGVDQLHTGTAGLGKMEGEKEDVVAINEWLRQDWYGMKDVFPVASGGLHPGLVPELLDIFGKDICIQAGGGVHGHPDGTRAGAKALRQAVDAAVEGVSLEEYAKDHPELATALDKWGHVRPK',\n",
    "  'MSITYEDFLDLSYEPGETDLICTFRIEPAEGISLEAAASRVASESSTGTWTTLSTMDDVTKLSAKVFSIDGNIIKIAYPLGLFEPGNMPQILSCIAGNIMGMKAVKNIRLLDIEWPEEILKSFKGPQFGIEGRQEIFGVHDRPITATVPKPKVGLSAEQHAQVAYEAWVGGIDLLKDDENLTDQPFNPFEDRVKKSMAMRDKAEEETGEKKSYLVNITAETEEMLRRADLVAEYGGEYVMIDIITAGWSAVQTLRERCEDLGLAIHAHRAMHAAFDRLPSHGVSMRVLAKIARLCGVDQLHTGTGVGKLEGDKEEVLGIAEWLRSDWYNIKDVLPVASGGLHPGLVPDLLDIAGKNICIQAGGGVHGHPDGTRAGAKALRQAVDAVVEGVSIEEYADDHPELATALDKWGHVTPR',\n",
    "  'MSERYEDFVDLNYEPTDNDLVCTFRIEPADGISMEAAASRVASESSTGTWTTLQVMDRIKKLKATTFEIDGNIIKIAYPLGLFEPGNMPQILSSIAGNIMGMKAVDNIRLLDIHFPEEILKSFPGPQFGSEGVREIFGVDDRPITATVPKPKVGLSAEEHAEIGYEAWVGGLDLIKDDENLTDQPFNPFEERVKESMAMRDKAEEETGEKKSYLVNITAETNEMLERAELVAEQGGEYVMIDIITAGWSAVQTVRERCEDLGLAIHAHRAMHAAFDRNPSHGVSMRVLAKIARLVGVDQLHTGTAGVGKLANEKEEVVGINEMLRSDLYGINDVFPVASGGLHPGLVPELIDIAGKNIIIQAGGGVHGHPDGTRAGAKALRQAVDAVVEGVSLEEYAKEHPELAKALEKWGTVRPR',\n",
    "  'MSIRYTDFLDLNYEPGDNDLVCTFRIEPADGMSMEEAAGRVASESSTGTWTALSTMERIKDLSAKVFEIDGNTVKIAYPADLFEPGNMPQILSCIAGNIFGMKAVKTIRLLDCHWPESIVSSFPGPQFGSEVRQELLGVDDRPLTATVPKPKVGLSTEQHAEVGYEAWVGGIDLIKDDENLTDQPFNPFEDRVKEVMAMRDKAEEETGEKKAYLVNITAETNEMLRRAELVADQGGEYVMVDVITAGWSAVQTLRERCEDLGLAIHAHRAMHAAFDRLPKHGVSMRVLAKIARLVGVDQLHTGTAGLGKMANEEEVLGINDWLRQDWYNMKDVFPVASGGLHPGLVPDLLDIAGTNICIQAGGGIHGHPDGTRAGAKALRQAVDAVVEGVSLEEYADDHPELAKALEKWGHVRPK',\n",
    "  'MSRYTDYVDLNYTPKENDLICTFHIEPADGVDLEEAAGRVAAESSIGTWTDVSTMPEIWEKLKARVYEIDESGNIVKIAYPLDLFEPGNIPQILSSIAGNIFGMKAVKNLRLLDIRFPKELVKSFKGPKFGIEGVRELLGVYDRPLVGTIVKPKVGLSAEEHAEVAYEAWVGGLDLVKDDENLTSQPFNPFEERVKKVMEARDKAEEETGEKKVYLVNITAPTEEMIRRAELVADLGGKYVMIDIITAGFSAVQSLREEDLGLAIHAHRAMHAAFTRNPKHGISMLVLAKLARLVGVDQLHIGTVVGKMEGDKEEVLAIRDALRLDRVPADEANHFLEQDWYNIKPVFPVASGGLHPGLVPDLIDIFGKDIIIQAGGGVHGHPDGTRAGAKALRQAIEAAMEGISLEEYAKEHPELKKALEKWGHVK',\n",
    "  'MSRYTDYVDLNYTPKENDLICTFHIEPADGVDLEEAAGRVAAESSIGTWTDVSTMPEIWEKLKARVYEIDESGNIVKIAYPLDLFEPGNIPQILSSIAGNIFGMKAVKNLRLLDIRFPEELVKSFKGPKFGIEGVRELLGVYDRPLVGTIVKPKVGLSAEEHAEVAYEAWVGGLDLVKDDENLTSQPFNPFEERVKKVMEARDKAEEETGEKKVYLVNITAPTEEMIRRAELVKDLGGKYVMIDIITAGFSAVQSLREEDLGLAIHAHRAMHAAFTRNPKHGISMLVLAKLARLVGVDQLHIGTVVGKMEGDKEEVLAIRDALRLDRVPADEANHFLEQDWYNIKPVFPVASGGLHPGLVPDLIDIFGKDVIIQAGGGVHGHPDGTRAGAKAMRQAIEAVMEGISLEEYAKEHKELKKALEKWGHVRPK',\n",
    "  'MSKRYTDYVDLNYTPKENDLICTFHIEPADGVDLEEAAGRVAAESSTGTWTDVSTMKPEIWEKLKARVYEIDESGNIVKIAYPLDLFEPGNIPQILSSIAGNIFGMKAVKNLRLLDIRFPEELVKSFKGPKFGIEGVRELLGVYDRPLVGTIVKPKVGLSAEEHAEVAYEAWVGGLDLVKDDENLTSQPFNPFEERVKKVMEARDKAEEETGEKKVYLVNITAPTEEMIRRAELVADLGGKYVMIDIITAGFSAVQSLREEDLGLAIHAHRAMHAAFTRNPKHGISMLVLAKLARLVGVDQLHIGTVVGKMEGDKEEVLAIRDALRLDRVPADEANHFLEQDWYNIKPVFPVASGGLHPGLVPDLIDIFGKDVIIQAGGGVHGHPDGTRAGAKAMRQAIEAVMEGISLEEYAKEHKELKKALEKWGHVR',\n",
    "  'MSERYTDFLDLSYEPGDTDLICTFRIEPAEGISLEAAASRVASESSNGTWAALQTMERIKDLKAKVFSIDGNIVKVAYPLDLFEPGNIPQILSSIAGNIFGMKAVDTLRLLDIHFPEEILSSFKGPQFGSSGRRELFGVHDRPLTATVPKPKVGLSAEQHAEIGYEAWVGGIDLLKDDENLTDQPFNPFEDRLKEVMAMRDKAEDETGEKKSYLVNITAPTNEMLRRAEMVADYGGEYVMIDVITAGWSAVQTLRERCEDLGLAIHAHRAMHAAFTRLPKHGVSMRVLAQLARLCGVDQLHTGTAGLGKLAGEKDTLAIAEWLRSDLYGINPVLPVASGGLHPGLVPDLIDAAGTDICIQAGGGVHGHPDGTRAGAKALRQAVDAAMEGISLEEYAKEHPELATALDKWGTVRPR',\n",
    "  'MSKRYTDYVDLNYTPKENDLICCFHIEPADGVDLEEAAGRVAAESSIGTWTDVSTMPEIVEKLKARVYEIDESGNIVKIAYPLDLFEPGNIPQILSSIAGNIFGMKAVKNLRLLDIRFPKELVKSFKGPKFGIEGVRELLGVYDRPLVGTIVKPKVGLSAEEHAEVAYEAWVGGLDLIKDDENLTSQPFNPFEERVKKVLEARDKAEEETGEKKVYLVNITAPTEEMIRRAELVKDLGGKYVMIDIITAGFSAVQSLREEDLGLAIHAHRAMHAAFTRNPKHGISMLVLAKLARLVGVDQLHIGTVVGKMEGDKEEVLAIRDALRLDRVPADEANHFLEQDWYNIKPVFPVASGGLHPGLVPDLIDIFGKDVIIQAGGGVHGHPDGTRAGAKALRQAIEAVMEGISLEEYAKEHKELAKALEKWGHRP',\n",
    "  'MSKRYTDYIDLNYTPKENDLICTFHIEPADGVDLEEAAGRVAAESSIGTWTDVSTMPEIVEKLKARVYEIDESGNIVKIAYPLDLFEPGNIPQILSSIAGNIFGMKAVKNLRLLDIRFPKELVKSFKGPKFGIEGVRELLGVYDRPLVGTIVKPKVGLSAEEHAEVAYEAWVGGLDLVKDDENLTSQPFNPFEERVKKVLEARDKAEEETGEKKVYLVNITAPTEEMIRRAELVADLGGKYVMIDIITAGFSAVQSLREEDLGLAIHAHRAMHAAFTRNPKHGISMLVLAKLARLVGVDQLHIGTVVGKMEGDKEEVLAIRDALRLDRVPADEANHFLEQDWYNIKPVFPVASGGLHPGLVPDLIDIFGKDVIIQAGGGVHGHPDGTRAGAKALRQAIEAVMEGISLEEYAKEHPELKKALEKWGHVK',\n",
    "  'MSRYTDYVDLNYTPKENDLICTFHIEPADGVDLEEAAGRVAAESSIGTWTDVSTMPEIWEKLKARVYEIDESGNIVKIAYPLDLFEPGNIPQILSSIAGNIFGMKAVKNLRLLDIRFPKELVKSFKGPKFGIEGVRELLGVYDRPLVGTIVKPKVGLSAEEHAEVAYEAWVGGLDLIKDDENLTSQPFNPFEERVKKTLEARDKAEEETGEKKVYLVNITAPTEEMIRRAELVKDLGGKYVMIDIITAGFSAVQSLREEDLGLAIHAHRAMHAAFTRNPKHGISMLVLAKLARLVGVDQLHIGTGVGKMEGDKEEVLAIRDALRLDRVPADEANHFLEQDWYNIKPVFPVASGGLHPGLVPDLIDIFGKDIIIQAGGGVHGHPDGTRAGAKALRQAIEAVMEGISLEEYAKEHPELKKALEKWGHVR',\n",
    "  'MSETYEDFVDLSYEPGDNDLICTFRIEPADGMSMEAAAGRVASESSTGTWATLSTDDRVTKLSAKVFEIDGNIIKVAYPLDLFEPGNIPQILSSIAGNIMGMKAVKTLRLLDIHWPEELVKSFPGPQFGSEGRRELLGVDDRPITATVPKPKVGLSTEQHAQVGYEAWVGGLDLLKDDENLTDQAFNPFEERVTKVMEMRDKAEEETGEKKAYLVNITAETEEMLRRADMVAEQGGEYVMVDVITAGWAAVQTLRERCEDLGLAIHAHRAMHAAFDRLPKHGISMRVLAKLARLCGVDQLHTGTGLGKMEGEDVVGIADMLRSDWYNINDVFPVASGGLHPGLVPELLDAFGKNICIQAGGGIHGHPDGTRAGAKALRQAIDAAMEGVSIEEYADDHPELAKALEKWGTVRPR',\n",
    "  'MSKRYTDYIDLNYTPKENDLICCFHIEPADGVDLEEAAGRVAAESSIGTWTDVSTMPEIWEKLKARVYEIDESGNIVKIAYPLDLFEPGNIPQILSSIAGNIFGMKAVKNLRLLDIRFPKELVKSFKGPKFGIEGVRELLGVYDRPLVGTIVKPKVGLSAEEHAEVAYEAWVGGLDLVKDDENLTSQPFNPFEERVKKVLEARDKAEEETGEKKVYLVNITAPTEEMIRRAELVADLGGKYVMIDIITAGFSAVQSLREEDLGLAIHAHRAMHAAFTRNPKHGISMLVLAKLARLVGVDQLHIGTGVGKMEGDKEEVLAIRDALRLDRVPADEANHFLEQDWYNIKPVFPVASGGLHPGLVPDLIDIFGKDVIIQAGGGVHGHPDGTRAGAKALRQAIEAAMEGISLEEYAKEHPELAKALEKWGHVRP',\n",
    "  'MSERYEDFVDLNYEPGDNDLVCTFRIEPADGMSMEAAASRVASESSTGTWATLQTDDDVKDLKAKVFEIDGNTIKIAYPAGLFEAGNMPQILSCIAGNIMGMKAVKTLRLLDCHWPESILSSFKGPQFGISGVRELFGVHDRPITATVPKPKVGLSAEQHAQVAYEAWVGGIDLLKDDENLTSQPFNPFEDRLKKSMEMRDKAEDETGEKKAYLVNITAPTNEMLERADLVAEYGGEYVMVDVITAGWSAVQTLRERCEDLGLAIHAHRAMHAAFDRLPKHGVSMLVLAQIARLVGVDQLHTGTGVGKMANEKEEVVAIADMLRSDWYNMKDVFPVASGGLHPGLVPDLLDAAGTNICIQAGGGVHGHPDGTRAGAKALRQAIDAVMEGVSLEEYADEHPELATALDKWGHERPR',\n",
    "  'MSKRYTDFVDLNYTPKENDLICTFHIEPADGVDLEEAAGRVAAESSTGTWTDVSTMPEIVEKLKARVYEIDESGNIVKIAYPLDLFEPGNIPQILSSIAGNIFGMKAVKNLRLLDIHFPEELVKSFKGPKFGIEGVRELLGVYDRPLVGTIVKPKVGLSAEEHAEVAYEAWVGGIDLIKDDENLTSQPFNPFEERVKKVMEARDKAEEETGEKKVYLVNITAPTEEMIRRAELVADLGGKYVMIDIITAGFSAVQSLREEDLGLAIHAHRAMHAAFTRNPKHGISMLVLAKLARLVGVDQLHIGTGVGKMEGDKEEVLAIRDALRQDWYNIKPVFPVASGGLHPGLVPDLIDIFGKDIIIQAGGGVHGHPDGTRAGAKALRQAIEAVMEGISLEEYAKEHPELAKALEKWGHVRPK',\n",
    "  'MSRYTDYVDLNYTPKENDLICTFHIEPADGVDLEEAAGRVAAESSIGTWTDVSTMPEIWEKLKARVYEIDETGNIVKIAYPLDLFEPGNIPQILSSIAGNIFGMKAVKNLRLLDIRFPEELVKSFKGPKFGIEGVRELLGVYDRPLVGTIVKPKVGLSAEEHAEVAYEAWVGGIDLVKDDENLTSQPFNPFEERVKKVLEARDKAEEETGEKKVYLVNITAPTEEMIRRAELVADLGGKYVMIDIITAGFSAVQSLREEDLGLAIHAHRAMHAAFTRNPKHGISMLVLAKLARLVGVDQLHIGTVVGKMEGDKEEVLAIRDALRLDRVPADEANHFLEQDWYNIKPVFPVASGGLHPGLVPDLIDIFGKDVIIQAGGGVHGHPDGTRAGAKALRQAIEAAMEGISLEEYAKEHPELAKALEKWGHVR',\n",
    "  'MSRYTDYVDLNYTPKENDLICCFHIEPADGVDLEEAAGRVAAESSTGTWTDVSTMPEIWEKLKARVYEIDESGNIVKIAYPLDLFEPGNIPQILSSIAGNIFGMKAVKNLRLLDIRFPEELVKSFKGPKFGIEGVRELLGVYDRPLVGTIVKPKVGLSAEEHAEVAYEAWVGGLDLVKDDENLTSQPFNPFEERVKKVLEARDKAEEETGEKKVYLVNITAPTEEMIRRAELVKDLGGKYVMIDIITAGFSAVQSLREEDLGLAIHAHRAMHAAFTRNPKHGISMLVLAKLARLVGVDQLHIGTGVGKMEGDKEEVLAIRDALRLDRVPADEANHFLEQDWYNIKPVFPVASGGLHPGLVPDLIDIFGKDIIIQAGGGVHGHPDGTRAGAKALRQAIEAAMEGISLEEYAKEHKELAKALEKWGHVR',\n",
    "  'MSGIRYTDFLDLNYEPGETDLVCTFRIEPADGISMEEAASRVASESSTGTWAALSTDERVKDLKAKVFEIDGNTVKIAYPAGLFEPGNMPQILSSIAGNIMGMKAVKTLRLLDCEWPEELVKSFPGPQFGSEVRREIFGVDDRPLTATVPKPKVGLSAEEHAEVGYEAWVGGLDLIKDDENLTDQPFNPFEERVTKVLEMRDKAEEETGEKKSYLVNITAPTNEMLERADMVADYGGEYVMIDVITAGWAAVQTLRERCEDLGLAIHAHRAMHAAFDRLPSHGVSMLVLAQIARLVGVDQLHTGTAGVGKMANDKDVLGIAEWLRQDLYGIKPVLPVASGGLHPGLVPDLLDIAGTDICIQAGGGIHGHPDGTRAGAKALRQAVEAVMEGISIEEYAKEHPELATALDKWGHVTPR',\n",
    "  'MSERYEDFLDLNYTPGDTDLVCTFRIEPAEGMSLEEAASRVASESSNGTWAALQTMEDIKDLKAKVFSIDGNIIKVAYPLGLFEAGNMPQILSSIAGNIFGMKAVKTIRLLDCHFPESIVSSFKGPQFGSSGRRELFGVHDRPLTATVPKPKVGLSAEEHAEIGYEAWVGGLDLIKDDENLTSQPFNPFEERVKKSMEMRDKAEEETGEKKSYLVNITAETNEMLERADLVADQGGEYVMVDIITAGWSAVQTVRERCEDLGLAIHAHRAMHAAFDRLPKHGVSMRVLAKLARLCGVDQLHTGTGLGKMENEKEVLAINDWLRSDLYGINPVLPVASGGLHPGLVPELIEAAGTDICIQAGGGIHGHPDGTRAGAKALRQAIEAVMEGISIEEYADDHPELAKALEKWGHVTPK',\n",
    "  'MSKRYTDYIDLNYTPKENDLICTFHIEPADGVDLEEAAGRVAAESSTGTWTDVSTMPEIWEKLKARVYEIDESGNIVKIAYPLDLFEPGNIPQILSSIAGNIFGMKAVKNLRLLDIRFPKELVKSFKGPKFGIEGVRELLGVYDRPLVGTIVKPKVGLSAEEHAEVAYEAWVGGLDLVKDDENLTSQPFNPFEERVKKVLEARDKAEEETGEKKVYLVNITAPTEEMIRRAELVADLGGKYVMIDIITAGFSAVQSLREEDLGLAIHAHRAMHAAFTRNPKHGISMLVLAKLARLVGVDQLHIGTVVGKMEGDKEEVLAIRDALRLDRVPADEANHFLEQDWYNIKPVFPVASGGLHPGLVPDLIDIFGKDVIIQAGGGVHGHPDGTRAGAKALRQAIEAAMEGISLEEYAKEHPELAKALEKWGHVR',\n",
    "  'MSRYTDYVDLNYTPKENDLICTFHIEPADGVDLEEAAGRVAAESSIGTWTDVSTMKPEIWEKLKARVYEIDESGNIVKIAYPLDLFEPGNIPQILSSIAGNIFGMKAVKNLRLLDIHFPKELVKSFKGPKFGIEGVRELLGVYDRPLVGTIVKPKVGLSAEEHAEVAYEAWVGGLDLVKDDENLTSQPFNPFEERVKKVLEARDKAEEETGEKKVYLVNITAPTEEMIRRAELVKDLGGKYVMIDIITAGFSAVQSLREEDLGLAIHAHRAMHAAFTRNPKHGISMLVLAKLARLVGVDQLHIGTVVGKMEGDKEEVLAIRDALRLDRVPADEANHFLEQDWYNIKPVFPVASGGLHPGLVPDLIDIFGKDVIIQAGGGVHGHPDGTRAGAKALRQAIEAVMEGISLEEYAKEHPELAKALEKWGHVPK',\n",
    "  'MSKRYTDYIDLNYTPKENDLICTFHIEPADGVDLEEAAGRVAAESSIGTWTDVSTMPEIWEKLKARVYEIDESGNIVKIAYPLDLFEPGNIPQILSSIAGNIFGMKAVKNLRLLDIRFPKELVKSFKGPKFGIEGVRELLGVYDRPLVGTIVKPKVGLSAEEHAEVAYEAWVGGLDLVKDDENLTSQPFNPFEERVKKVLEARDKAEEETGEKKVYLVNITAPTEEMIRRAELVKDLGGKYVMIDIITAGFSAVQSLREEDLGLAIHAHRAMHAAFTRNPKHGISMLVLAKLARLVGVDQLHIGTGVGKMEGDKEEVLAIRDALRLDRVPADEANHFLEQDWYNIKPVFPVASGGLHPGLVPDLIDIFGKDIIIQAGGGVHGHPDGTRAGAKAMRQAIEAVMEGISLEEYAKEHKELAKALEKWGHVPK',\n",
    "  'MSGERYTDFVDLNYTPGETDLICTFRIEPADGISMEAAAGRVASESSNGTWTTLQVMPDRITKLSAKVFEIDGNIVKVAYPLGLFEPGNMPQILSCIAGNIMGMKAVDTLRLLDIHWPEEIVKSFKGPQFGSEVRRELFGVHDRPITATVPKPKVGLSAEEHAEVAYEAWVGGLDLLKDDENLTDQPFNPFEERLTKVLEMRDKAEEETGEKKAYLVNITAETNEMLRRAEMVADQGGEYVMVDVITAGWAAVQTVRERCEDLGLAIHAHRAMHAAFDRLPSHGISMLVLAQIARLCGVDQLHTGTGVGKLAGDDVVGINEMLRSDWYGIKDVFPVASGGLHPGLVPELLEIAGTNIIIQAGGGVHGHPDGTRAGAKALRQAIDAVVEGISIEEYAKEHPELATALDKWGTVTPR',\n",
    "  'MSKRYTDYVDLNYTPKENDLICTFHIEPADGVDLEEAAGRVAAESSTGTWTDVSTMKPEIWEKLKARVYEIDESGNIVKIAYPLDLFEPGNIPQILSSIAGNIFGMKAVKNLRLLDIRFPKELVKSFKGPKFGIEGVRELLGVYDRPLVGTIVKPKVGLSAEEHAEVAYEAWVGGLDLVKDDENLTSQPFNPFEERVKKVLEARDKAEEETGEKKVYLVNITAPTEEMIRRAELVKDLGGKYVMIDIITAGFSAVQSLREEDLGLAIHAHRAMHAAFTRNPKHGISMLVLAKLARLVGVDQLHIGTGVGKMEGDKEEVLAIRDALRLDRVPADEANHFLEQDWYNIKPVFPVASGGLHPGLVPDLIDIFGKDVIIQAGGGVHGHPDGTRAGAKALRQAIEAAMEGISLEEYAKEHPELAKALEKWGHVP',\n",
    "  'MSGETYEDFLDLNYTPGDNDLICTFRIEPAEGMSLEAAASRVASESSNGTWAALQVMERIKDLKATTFSIDGNIVKIAYPLGLFEPGNIPQILSCIAGNIMGMKAVKTLRLLDIEWPEEIVSSFPGPQFGISGVRELLGVHDRPLTATVPKPKVGLSAEEHAQIGYEAWVGGLDLLKDDENLTSQPFNPFEERVKEVLAMRDKAEEETGEKKSYLVNITAPTEEMLERAELVAEQGGEYVMIDIITAGWSAVQTLRERCEDLGLAIHAHRAMHAAFDRLPSHGVSMRVLAQIARLCGVDQLHTGTAGLGKLEGDKDTLAINDMLRQDLYGIKPVLPVASGGLHPGLVPELIDAFGTNIIIQAGGGVHGHPDGTRAGAKALRQAVEAVMEGISIEEYADEHPELATALEKWGHVRPR',\n",
    "  'MSKRYTDYVDLNYTPKENDLICCFHIEPADGVDLEEAAGRVAAESSTGTWTDVSTMPEIWEKLKARVYEIDESGNIVKIAYPLDLFEPGNIPQILSSIAGNIFGMKAVKNLRLLDIRFPEELVKSFKGPKFGIEGVRELLGVYDRPLVGTIVKPKVGLSAEEHAEVAYEAWVGGLDLVKDDENLTSQPFNPFEERVKKVLEARDKAEEETGEKKVYLVNITAPTEEMIRRAELVKDLGGKYVMIDIITAGFSAVQSLREEDLGLAIHAHRAMHAAFTRNPKHGISMLVLAKLARLVGVDQLHIGTVVGKMEGDKEEVLAIRDALRLDRVPADEANHFLEQDWYNIKPVFPVASGGLHPGLVPDLIDIFGKDIIIQAGGGVHGHPDGTRAGAKAMRQAIEAAMEGISLEEYAKEHKELAKALEKWGHVRP',\n",
    "  'MSIRYTDFVDLNYEPGDTDLICTFRIEPADGMSMEEAAGRVASESSNGTWAALSTDEDITDLSAKVFEIDGNIVKVAYPLGLFEPGNMPQILSCIAGNIMGMKAVDTLRLLDIEWPEELVSSFKGPQFGSEGVRELFGVHDRPLTATVPKPKVGLSTEQHAQIGYEAWVGGIDLIKDDENLTSQAFNPFEDRVKEVLEMRDKAEEETGEKKSYLVNITAETNEMLERADLVADYGGEYVMVDVITAGWSAVQTLRERCEDLGLAIHAHRAMHAAFTRLPSHGISMLVLAKIARLCGVDQLHTGTGLGKMAGDEVVAIAEWLRSDWYNIKDVLPVASGGLHPGLVPDLLDIFGKDIIIQAGGGIHGHPDGTRAGAKALRQAVDAAMEGVSIEEYAKDHPELATALEKWGTVRPR',\n",
    "  'MSKRYTDYVDLNYTPKENDLICTFHIEPADGVDLEEAAGRVAAESSIGTWTDVSTMPEIVEKLKARVYEIDESGNIVKIAYPLDLFEPGNIPQILSSIAGNIFGMKAVKNLRLLDIRFPKELVKSFKGPKFGIEGVRELLGVYDRPLVGTIVKPKVGLSAEEHAEVAYEAWVGGLDLVKDDENLTSQPFNPFEERVKKTLEARDKAEEETGEKKVYLVNITAPTEEMIRRAELVKDLGGKYVMIDIITAGFSAVQSLREEDLGLAIHAHRAMHAAFTRNPKHGISMLVLAKLARLVGVDQLHIGTGVGKMEGDKEEVLAIRDALRLDRVPADEANHFLEQDWYNIKPVFPVASGGLHPGLVPDLIDIFGKDIIIQAGGGVHGHPDGTRAGAKAMRQAIEAAMEGISLEEYAKEHPELAKALEKWGHVR',\n",
    "  'MSGIRYTDFLDLNYTPGETDLICTFRIEPADGMSLEEAASRVASESSNGTWTTLQTMDDIKDLKAKVFSIDGNTVKVAYPLGLFEPGNMPQILSSIAGNIMGMKAVKTIRLLDCHWPESLLKSFKGPQFGISGRREIFGVHDRPLTATVPKPKVGLSTEQHAQVGYEAWVGGIDLIKDDENLTSQAFNPFEDRVTEVLEMRDKAEEETGEKKSYLVNITAETNEMLERADMVADQGGEYVMVDIITAGWSAVQTLRERCEDLGLAIHAHRAMHAAFTRNPKHGISMRVLAQIARLVGVDQLHTGTGVGKLANEEEVVGINDWLRQDLYNIKDVFPVASGGLHPGLVPDLIDAFGTNICIQAGGGVHGHPDGTRAGAKALRQAVEAAMEGVSIEEYAKEHPELAKALDKWGHERPR',\n",
    "  'MSKRYTDYIDLNYTPKENDLICTFHIEPADGVDLEEAAGRVAAESSTGTWTDVSTMPEIVEKLKARVYEIDESGNIVKIAYPLDLFEPGNIPQILSSIAGNIFGMKAVKNLRLLDIHFPKELVKSFKGPKFGIEGVRELLGVYDRPLVGTIVKPKVGLSAEEHAEVAYEAWVGGLDLIKDDENLTSQPFNPFEERVKKVLEARDKAEEETGEKKVYLVNITAPTEEMIRRAELVKDLGGKYVMIDIITAGFSAVQSLREEDLGLAIHAHRAMHAAFTRNPKHGISMLVLAKLARLVGVDQLHIGTVVGKMEGDKEEVLAIRDALRLDRVPADEANHFLEQDWYNIKPVFPVASGGLHPGLVPDLIDIFGKDVIIQAGGGVHGHPDGTRAGAKAMRQAIEAVMEGISLEEYAKEHKELKKALEKWGHVR',\n",
    "  'MSRYTDYVDLNYTPKENDLICTFHIEPADGVDLEEAAGRVAAESSIGTWTDVSTMPEIWEKLKARVYEIDETGNIVKIAYPLDLFEPGNIPQILSSIAGNIFGMKAVKNLRLLDIRFPKELVKSFKGPKFGIEGVRELLGVYDRPLVGTIVKPKVGLSAEEHAEVAYEAWVGGLDLVKDDENLTSQPFNPFEERVKKVLEARDKAEEETGEKKVYLVNITAPTEEMIRRAELVADLGGKYVMIDIITAGFSAVQSLREEDLGLAIHAHRAMHAAFTRNPKHGISMLVLAKLARLVGVDQLHIGTVVGKMEGDKEEVLAIRDALRLDRVPADEANHFLEQDWYNIKPVFPVASGGLHPGLVPDLIDIFGKDIIIQAGGGVHGHPDGTRAGAKAMRQAIEAVMEGISLEEYAKEHKELAKALEKWGHVRPK',\n",
    "  'MSRYTDYVDLNYTPKENDLICTFHIEPADGVDLEEAAGRVAAESSTGTWTDVSTMKPEIWEKLKARVYEIDESGNIVKIAYPLDLFEPGNIPQILSSIAGNIFGMKAVKNLRLLDIHFPKELVKSFKGPKFGIEGVRELLGVYDRPLVGTIVKPKVGLSAEEHAEVAYEAWVGGLDLIKDDENLTSQPFNPFEERVKKVMEARDKAEEETGEKKVYLVNITAPTEEMIRRAELVKDLGGKYVMIDIITAGFSAVQSLREEDLGLAIHAHRAMHAAFTRNPKHGISMLVLAKLARLVGVDQLHIGTVVGKMEGDKEEVLAIRDALRLDRVPADEANHFLEQDWYNIKPVFPVASGGLHPGLVPDLIDIFGKDVIIQAGGGVHGHPDGTRAGAKAMRQAIEAAMEGISLEEYAKEHPELAKALEKWGHVR',\n",
    "  'MSKRYTDYVDLNYTPKENDLICTFHIEPADGVDLEEAAGRVAAESSIGTWTDVSTMPEIWEKLKARVYEIDETGNIVKIAYPLDLFEPGNIPQILSSIAGNIFGMKAVKNLRLLDIRFPEELVKSFKGPKFGIEGVRELLGVYDRPLVGTIVKPKVGLSAEEHAEVAYEAWVGGLDLVKDDENLTSQPFNPFEERVKKVLEARDKAEEETGEKKVYLVNITAPTEEMIRRAELVKDLGGKYVMIDIITAGFSAVQSLREEDLGLAIHAHRAMHAAFTRNPKHGISMLVLAKLARLVGVDQLHIGTVVGKMEGDKEEVLAIRDALRLDRVPADEANHFLEQDWYNIKPVFPVASGGLHPGLVPDLIDIFGKDIIIQAGGGVHGHPDGTRAGAKAMRQAIEAVMEGISLEEYAKEHPELAKALEKWGHVR',\n",
    "  'MSERYTDFVDLSYEPGETDLICTFRIEPADGISMEAAASRVASESSTGTWAALQVMERVTDLKAKVFEIDGNIVKVAYPLGLFEPGNIPQILSSIAGNIMGMKAVKTLRLLDIEWPEELLSSFPGPQFGSEVRREIFGVHDRPLTATVPKPKVGLSTEQHAEVAYEAWVGGLDLIKDDENLTDQAFNPFEERLKEVMEARDKAEDETGEKKSYLVNITAPTEEMLERAELVAEQGGEYVMVDVITAGWAAVQTVRERCEDLGLAIHAHRAMHAAFDRLPSHGISMRVLAQLARLCGVDQLHTGTGLGKLEGDKETVGINDWLRSDLYNMKDVFPVASGGLHPGLVPELIEIAGTDIIIQAGGGVHGHPDGTRAGAKALRQAVEAAVEGVSIEEYAKDHPELAKALDKWGTVRPR',\n",
    "  'MSETYEDFVDLNYEPGDNDLVCTFRIEPADGISMEEAAGRVASESSNGTWAALQTMDRVKKLSAKVFEIDGNIVKVAYPLGLFEPGNMPQILSCIAGNIFGMKAVDTLRLLDIHFPESLLKSFKGPQFGSSGVRELFGVHDRPITATVPKPKVGLSTEQHAQVGYEAWVGGIDLLKDDENLTSQPFNPFEDRLTKSLEARDKAEEETGEKKSYLVNITAETEEMLERAEMVADQGGEYVMVDIITAGWAAVQTLRERCEDLGLAIHAHRAMHAAFTRLPKHGISMRVLAQLARLCGVDQLHTGTAGLGKLENDDVVAINEWLRQDWYGINDVLPVASGGLHPGLVPELLEIFGKDICIQAGGGVHGHPDGTRAGAKALRQAVDAVVEGVSLEEYAKDHPELATALDKWGTVRPR',\n",
    "  'MSKRYTDYVDLNYTPKENDLICTFHIEPADGVDLEEAAGRVAAESSIGTWTDVSTMPEIWEKLKARVYEIDETGNIVKIAYPLDLFEPGNIPQILSSIAGNIFGMKAVKNLRLLDIHFPKELVKSFKGPKFGIEGVRELLGVYDRPLVGTIVKPKVGLSAEEHAEVAYEAWVGGIDLVKDDENLTSQPFNPFEERVKKVLEARDKAEEETGEKKVYLVNITAPTEEMIRRAELVKDLGGKYVMIDIITAGFSAVQSLREEDLGLAIHAHRAMHAAFTRNPKHGISMLVLAKLARLVGVDQLHIGTVVGKMEGDKEEVLAIRDALRLDRVPADEANHFLEQDWYNIKPVFPVASGGLHPGLVPDLIDIFGKDVIIQAGGGVHGHPDGTRAGAKALRQAIEAAMEGISLEEYAKEHPELAKALEKWGHVP',\n",
    "  'MSKYTDYVDLNYTPKENDLICTFHIEPADGVDLEEAAGRVAAESSIGTWTDVSTMPEIWEKLKARVYEIDESGNIVKIAYPLDLFEPGNIPQILSSIAGNIFGMKAVKNLRLLDIRFPEELVKSFKGPKFGIEGVRELLGVYDRPLVGTIVKPKVGLSAEEHAEVAYEAWVGGLDLVKDDENLTSQPFNPFEERVKKVLEARDKAEEETGEKKVYLVNITAPTEEMIRRAELVADLGGKYVMIDIITAGFSAVQSLREEDLGLAIHAHRAMHAAFTRNPKHGISMLVLAKLARLVGVDQLHIGTVVGKMEGDKEEVLAIRDALRLDRVPADEANHFLEQDWYNIKPVFPVASGGLHPGLVPDLIDIFGKDIIIQAGGGVHGHPDGTRAGAKALRQAIEAAMEGISLEEYAKEHPELKKALEKWGHVR',\n",
    "  'MSERYTDFLDLNYEPTETDLICTFRIEPAEGMSLEAAASRVASESSTGTWATLQVMERIKKLSATTFSIDGNTVKIAYPAGLFEAGNMPQILSSIAGNIMGMKAVKTLRLLDCEWPEELVSSFKGPQFGSEVVREIFGVHDRPITATVPKPKVGLSTEQHAEVAYEAWVGGLDLLKDDENLTDQPFNPFEERLKEVLAMRDKAEDETGEKKSYLVNITAETNEMLRRAELVAEQGGEYVMVDIITAGWAAVQTLRERCEDLGLAIHAHRAMHAAFDRNPKHGISMLVLAQIARLVGVDQLHTGTGLGKMANDKDVVGIADWLRQDWYNIKPVFPVASGGLHPGLVPELLEAAGKNIIIQAGGGIHGHPDGTRAGAKALRQAVEAAMEGISLEEYADEHPELAKALEKWGHVRPK',\n",
    "  'MSKRYTDYIDLNYTPKENDLICTFHIEPADGVDLEEAAGRVAAESSIGTWTDVSTMPEIWEKLKARVYEIDESGNIVKIAYPLDLFEPGNIPQILSSIAGNIFGMKAVKNLRLLDIRFPEELVKSFKGPKFGIEGVRELLGVYDRPLVGTIVKPKVGLSAEEHAEVAYEAWVGGLDLVKDDENLTSQPFNPFEERVKKVMEARDKAEEETGEKKVYLVNITAPTEEMIRRAELVKDLGGKYVMIDIITAGFSAVQSLREEDLGLAIHAHRAMHAAFTRNPKHGISMLVLAKLARLVGVDQLHIGTVVGKMEGDKEEVLAIRDALRLDRVPADEANHFLEQDWYNIKPVFPVASGGLHPGLVPDLIDIFGKDVIIQAGGGVHGHPDGTRAGAKALRQAIEAAMEGISLEEYAKEHPELKKALEKWGHVPK',\n",
    "  'MSGITYTDFVDLNYTPGDTDLICTFRIEPAEGMSLEAAASRVASESSNGTWTTLQVDERIKKLSATVFEIDGNTIKVAYPLGLFEAGNIPQILSSIAGNIMGMKAVKTLRLLDIHWPEEILSSFPGPQFGSEGRQEILGVHDRPLTATVPKPKVGLSAEEHAQVGYEAWVGGLDLIKDDENLTSQAFNPFEDRLKKSMAARDKAEDETGEKKAYLVNITAETEEMLERAEMVAEYGGEYVMIDIITAGWAAVQTVRERCEDLGLAIHAHRAMHAAFDRNPSHGISMRVLAKLARLVGVDQLHTGTGLGKMEGDEEVVAIAEWLRSDWYNMKDVFPVASGGLHPGLVPDLLDAAGTNIIIQAGGGIHGHPDGTRAGAKALRQAVEAVVEGVSLEEYAKEHPELATALEKWGTERPR',\n",
    "  'MSERYEDFVDLNYEPGETDLICTFRIEPAEGISLEAAAGRVASESSNGTWAALSTDPERIKKLSAKTFEIDGNTVKIAYPLGLFEAGNMPQILSCIAGNIFGMKAVKNLRLLDCHWPESLVSSFKGPQFGSEVRRELLGVDDRPITATVPKPKVGLSTEEHAQVGYEAWVGGLDLIKDDENLTSQAFNPFEERLKEVMAARDKAEEETGEKKAYLVNITAETNEMLRRADMVADYGGEYVMVDVITAGWSAVQTLRERCEDLGLAIHAHRAMHAAFDRLPKHGISMRVLAQIARLCGVDQLHTGTAGVGKMAGDETVAINDWLRSDWYGMKDVLPVASGGLHPGLVPELIDIFGTNIIIQAGGGVHGHPDGTRAGAKALRQAVDAAVEGVSIEEYADEHPELAKALEKWGHVRPR',\n",
    "  'MSKRYTDYVDLNYTPKENDLICTFHIEPADGVDLEEAAGRVAAESSIGTWTDVSTMKPEIWEKLKARVYEIDESGNIVKIAYPLDLFEPGNIPQILSSIAGNIFGMKAVKNLRLLDIRFPEELVKSFKGPKFGIEGVRELLGVYDRPLVGTIVKPKVGLSAEEHAEVAYEAWVGGLDLVKDDENLTSQPFNPFEERVKKVLEARDKAEEETGEKKVYLVNITAPTEEMIRRAELVKDLGGKYVMIDIITAGFSAVQSLREEDLGLAIHAHRAMHAAFTRNPKHGISMLVLAKLARLVGVDQLHIGTGVGKMEGDKEEVLAIRDALRLDRVPADEANHFLEQDWYNIKPVFPVASGGLHPGLVPDLIDIFGKDIIIQAGGGVHGHPDGTRAGAKALRQAIEAVMEGISLEEYAKEHKELKKALEKWGHVP',\n",
    "  'MSIRYEDFVDLSYEPTDTDLICTFRIEPADGMSLEEAAGRVASESSTGTWAALSTDDRVKKLKAKVFSIDGNIVKIAYPLGLFEPGNMPQILSSIAGNIMGMKAVKTLRLLDCHWPEEILKSFPGPQFGSSVVRELFGVHDRPLTATVPKPKVGLSTEEHAQIGYEAWVGGLDLLKDDENLTSQPFNPFEERLKEVMEMRDKAEDETGEKKSYLVNITAETNEMLRRADMVADQGGEYVMIDIITAGWAAVQTVRERCEDLGLAIHAHRAMHAAFDRNPSHGVSMRVLAKIARLCGVDQLHTGTGLGKLANEEDTVAIAEWLRQDWYGMKPVLPVASGGLHPGLVPDLLEIFGTNIIIQAGGGVHGHPDGTRAGAKALRQAIEAVMEGISIEEYAKDHPELAKALDKWGHETPK',\n",
    "  'MSIRYTDFLDLSYEPGDNDLICTFRIEPADGMSMEAAAGRVASESSNGTWTALQVMEDVTDLKAKVFSIDGNIIKVAYPLGLFEPGNMPQILSCIAGNIMGMKAVKTLRLLDIEWPEELVSSFKGPQFGISGVQEILGVDDRPLTATVPKPKVGLSTEEHAEIGYEAWVGGIDLLKDDENLTSQAFNPFEERVKKVMEMRDKAEEETGEKKSYLVNITAETNEMLRRAELVAEQGGEYVMVDIITAGWSAVQTLRERCEDLGLAIHAHRAMHAAFDRLPSHGVSMLVLAKLARLVGVDQLHTGTGLGKLEGEEEVVGINEWLRQDWYNMKDVFPVASGGLHPGLVPELLDAFGKNICIQAGGGVHGHPDGTRAGAKALRQAIEAAMEGVSLEEYADDHPELAKALEKWGTETPK',\n",
    "  'MSGITYEDFVDLNYTPGDTDLICTFRIEPADGMSLEAAAGRVASESSNGTWAALSVMDRVKDLKATTFEIDGNIIKVAYPAGLFEAGNMPQILSCIAGNIMGMKAVKTLRLLDIEWPESIVSSFKGPQFGSSVVQELLGVDDRPITATVPKPKVGLSAEEHAEVGYEAWVGGLDLIKDDENLTDQPFNPFEDRVKKVLEMRDKAEEETGEKKSYLVNITAPTNEMLERAELVAEQGGEYVMIDIITAGWSAVQTVRERCEDLGLAIHAHRAMHAAFTRNPKHGVSMRVLAKIARLVGVDQLHTGTGVGKMEGEKDVLAINDMLRSDLYNIKPVLPVASGGLHPGLVPDLLDIFGKNICIQAGGGIHGHPDGTRAGAKALRQAIEAAVEGISIEEYADEHPELATALDKWGTVRPK',\n",
    "  'MSTDYIDLNYTPKENDLICCFHIEPADGVDLEEAAGRVAAESSIGTWTDVSTMKPEIWEKLKARVYEIDETGNIVKIAYPLDLFEPGNIPQILSSIAGNIFGMKAVKNLRLLDIRFPKELVKSFKGPKFGIEGVRELLGVYDRPLVGTIVKPKVGLSAEEHAEVAYEAWVGGLDLVKDDENLTSQPFNPFEERVKKTLEARDKAEEETGEKKVYLVNITAPTEEMIRRAELVKDLGGKYVMIDIITAGFSAVQSLREEDLGLAIHAHRAMHAAFTRNPKHGISMLVLAKLARLVGVDQLHIGTVVGKMEGDKEEVLAIRDALRLDRVPADEANHFLEQDWYNIKPVFPVASGGLHPGLVPDLIDIFGKDVIIQAGGGVHGHPDGTRAGAKAMRQAIEAAMEGISLEEYAKEHKELKKALEKWGH',\n",
    "  'MSKRYTDYIDLNYTPKENDLICTFHIEPADGVDLEEAAGRVAAESSTGTWTDVSTMPEIWEKLKARVYEIDETGNIVKIAYPLDLFEPGNIPQILSSIAGNIFGMKAVKNLRLLDIRFPKELVKSFKGPKFGIEGVRELLGVYDRPLVGTIVKPKVGLSAEEHAEVAYEAWVGGLDLIKDDENLTSQPFNPFEERVKKVLEARDKAEEETGEKKVYLVNITAPTEEMIRRAELVKDLGGKYVMIDIITAGFSAVQSLREEDLGLAIHAHRAMHAAFTRNPKHGISMLVLAKLARLVGVDQLHIGTGVGKMEGDKEEVLAIRDALRLDRVPADEANHFLEQDWYNIKPVFPVASGGLHPGLVPDLIDIFGKDVIIQAGGGVHGHPDGTRAGAKALRQAIEAVMEGISLEEYAKEHKELKKALEKWGHVRK',\n",
    "  'MSKRYTDYIDLNYTPKENDLICTFHIEPADGVDLEEAAGRVAAESSIGTWTDVSTMPEIVEKLKARVYEIDESGNIVKIAYPLDLFEPGNIPQILSSIAGNIFGMKAVKNLRLLDIRFPEELVKSFKGPKFGIEGVRELLGVYDRPLVGTIVKPKVGLSAEEHAEVAYEAWVGGLDLIKDDENLTSQPFNPFEERVKKVMEARDKAEEETGEKKVYLVNITAPTEEMIRRAELVKDLGGKYVMIDIITAGFSAVQSLREEDLGLAIHAHRAMHAAFTRNPKHGISMLVLAKLARLVGVDQLHIGTVVGKMEGDKEEVLAIRDALRLDRVPADEANHFLEQDWYNIKPVFPVASGGLHPGLVPDLIDIFGKDVIIQAGGGVHGHPDGTRAGAKAMRQAIEAAMEGISLEEYAKEHPELKKALEKWGHVP',\n",
    "  'MSKRYTDYIDLNYTPKENDLICTFHIEPADGVDLEEAAGRVAAESSTGTWTDVSTMPEIVEKLKARVYEIDESGNIVKIAYPLDLFEPGNIPQILSSIAGNIFGMKAVKNLRLLDIRFPKELVKSFKGPKFGIEGVRELLGVYDRPLVGTIVKPKVGLSAEEHAEVAYEAWVGGLDLVKDDENLTSQPFNPFEERVKKVLEARDKAEEETGEKKVYLVNITAPTEEMIRRAELVADLGGKYVMIDIITAGFSAVQSLREEDLGLAIHAHRAMHAAFTRNPKHGISMLVLAKLARLVGVDQLHIGTVVGKMEGDKEEVLAIRDALRLDRVPADEANHFLEQDWYNIKPVFPVASGGLHPGLVPDLIDIFGKDVIIQAGGGVHGHPDGTRAGAKALRQAIEAVMEGISLEEYAKEHKELKKALEKWGHVR',\n",
    "  'MSERYTDFVDLNYTPGENDLICTFRIEPADGISLEEAAGRVASESSTGTWTTLSTMPERVKKLKAKVFEIDGNIVKIAYPLDLFEPGNIPQILSSIAGNIFGMKAVKNLRLLDIHFPEELLKSFKGPQFGIEGVRELLGVHDRPLTATVPKPKVGLSAEEHAEVAYEAWVGGIDLIKDDENLTSQPFNPFEERVKKVMEARDKAEEETGEKKAYLVNITAPTEEMLRRAELVADYGGEYVMIDIITAGWSAVQTLRERCEDLGLAIHAHRAMHAAFTRNPKHGISMLVLAKLARLVGVDQLHTGTGVGKMEGDKEEVLAIADMLRQDWYNIKPVFPVASGGLHPGLVPDLIEIFGKDIIIQAGGGVHGHPDGTRAGAKALRQAIEAVMEGISLEEYAKEHPELAKALEKWGHVRPK',\n",
    "  'MSRYTDYVDLNYTPKENDLICCFHIEPADGVDLEEAAGRVAAESSTGTWTDVSTMPEIWEKLKARVYEIDESGNIVKIAYPLDLFEPGNIPQILSSIAGNIFGMKAVKNLRLLDIRFPKELVKSFKGPKFGIEGVRELLGVYDRPLVGTIVKPKVGLSAEEHAEVAYEAWVGGLDLVKDDENLTSQPFNPFEERVKKVMEARDKAEEETGEKKVYLVNITAPTEEMIRRAELVKDLGGKYVMIDIITAGFSAVQSLREEDLGLAIHAHRAMHAAFTRNPKHGISMLVLAKLARLVGVDQLHIGTVVGKMEGDKEEVLAIRDALRLDRVPADEANHFLEQDWYNIKPVFPVASGGLHPGLVPDLIDIFGKDIIIQAGGGVHGHPDGTRAGAKALRQAIEAVMEGISLEEYAKEHPELAKALEKWGHV',\n",
    "  'MSIRYEDFLDLNYEPGDTDLICTFRIEPADGISLEAAAGRVASESSNGTWAALSVMDDIKKLKAKVFEIDGNTVKVAYPLGLFEPGNMPQILSSIAGNIMGMKAVKTLRLLDIEWPEEILKSFPGPQFGSSVRQELFGVDDRPLTATVPKPKVGLSAEEHAEVGYEAWVGGIDLIKDDENLTDQAFNPFEDRLTKSMAMRDKAEEETGEKKSYLVNITAPTNEMLERADMVAEQGGEYVMIDIITAGWSAVQTLRERCEDLGLAIHAHRAMHAAFDRLPSHGISMRVLAKIARLVGVDQLHTGTAGVGKLEGDKEVVAINEWLRQDWYGMKDVFPVASGGLHPGLVPDLIEIFGTDICIQAGGGIHGHPDGTRAGAKALRQAVEAVVEGISLEEYAKDHPELATALDKWGHERPK',\n",
    "  'MSIRYEDFLDLSYEPGETDLVCTFRIEPAEGMSLEEAAGRVASESSNGTWTTLSTDPEDITDLKATVFSIDGNIIKIAYPLDLFEAGNMPQILSSIAGNIFGMKAVDNIRLLDIHWPESLVKSFKGPQFGISVRRELFGVHDRPLTATVPKPKVGLSTEEHAEVGYEAWVGGLDLIKDDENLTDQPFNPFEERVKKVLEARDKAEEETGEKKAYLVNITAETEEMLRRADMVAEQGGEYVMVDIITAGWAAVQTLRERCEDLGLAIHAHRAMHAAFDRLPKHGISMLVLAQLARLCGVDQLHTGTGVGKLANEDTLAINEMLRSDWYGMKDVFPVASGGLHPGLVPELLDAFGTNIIIQAGGGIHGHPDGTRAGAKALRQAVEAVVEGVSLEEYAKEHPELATALDKWGHVRPR',\n",
    "  'MSGITYEDFLDLSYEPTDTDLVCTFRIEPAEGMSMEAAASRVASESSNGTWAALQVDDDITDLSATTFSIDGNTIKVAYPAGLFEAGNMPQILSCIAGNIMGMKAVDTIRLLDCEWPESIVSSFPGPQFGSSVRQEIFGVDDRPITATVPKPKVGLSTEQHAQIGYEAWVGGLDLLKDDENLTDQAFNPFEDRLTESLAMRDKAEDETGEKKSYLVNITAETNEMLERADMVAEQGGEYVMVDVITAGWAAVQTVRERCEDLGLAIHAHRAMHAAFDRLPSHGVSMRVLAQIARLCGVDQLHTGTAGLGKLANEDTVGINEWLRSDLYGMNDVLPVASGGLHPGLVPELLDAAGTNICIQAGGGIHGHPDGTRAGAKALRQAVDAAVEGVSIEEYADDHPELATALDKWGTETPR',\n",
    "  'MSGIRYTDFVDLNYEPTENDLICTFRIEPADGMSMEEAAGRVASESSNGTWAALSTMERVKKLSATTFEIDGNIVKVAYPLGLFEPGNMPQILSCIAGNIMGMKAVKNLRLLDCHFPEELLKSFPGPQFGISVRRELFGVDDRPLTATVPKPKVGLSAEQHAEVGYEAWVGGIDLIKDDENLTSQPFNPFEDRLTKSLEMRDKAEDETGEKKSYLVNITAPTNEMLERADLVAEYGGEYVMVDIITAGWSAVQTVRERCEDLGLAIHAHRAMHAAFDRLPKHGISMRVLAQIARLCGVDQLHTGTAGVGKMAGDETLGINDWLRSDWYNIKPVLPVASGGLHPGLVPELLDIAGTNIIIQAGGGIHGHPDGTRAGAKALRQAVDAAMEGISLEEYADDHPELAKALDKWGTVRPR',\n",
    "  'MSKRYTDYVDLNYTPKENDLICTFHIEPADGVDLEEAAGRVAAESSIGTWTDVSTMPEIWEKLKARVYEIDESGNIVKIAYPLDLFEPGNIPQILSSIAGNIFGMKAVKNLRLLDIRFPKELVKSFKGPKFGIEGVRELLGVYDRPLVGTIVKPKVGLSAEEHAEVAYEAWVGGLDLVKDDENLTSQPFNPFEERVKKVMEARDKAEEETGEKKVYLVNITAPTEEMIRRAELVKDLGGKYVMIDIITAGFSAVQSLREEDLGLAIHAHRAMHAAFTRNPKHGISMLVLAKLARLVGVDQLHIGTVVGKMEGDKEEVLAIRDALRLDRVPADEANHFLEQDWYNIKPVFPVASGGLHPGLVPDLIDIFGKDVIIQAGGGVHGHPDGTRAGAKALRQAIEAVMEGISLEEYAKEHKELKKALEKWGHVPK',\n",
    "  'MSKRYTDYVDLNYTPKENDLICTFHIEPADGVDLEEAAGRVAAESSIGTWTDVSTMPEIWEKLKARVYEIDETGNIVKIAYPLDLFEPGNIPQILSSIAGNIFGMKAVKNLRLLDIRFPEELVKSFKGPKFGIEGVRELLGVYDRPLVGTIVKPKVGLSAEEHAEVAYEAWVGGLDLIKDDENLTSQPFNPFEERVKKVMEARDKAEEETGEKKVYLVNITAPTEEMIRRAELVKDLGGKYVMIDIITAGFSAVQSLREEDLGLAIHAHRAMHAAFTRNPKHGISMLVLAKLARLVGVDQLHIGTVVGKMEGDKEEVLAIRDALRLDRVPADEANHFLEQDWYNIKPVFPVASGGLHPGLVPDLIDIFGKDIIIQAGGGVHGHPDGTRAGAKAMRQAIEAVMEGISLEEYAKEHPELKKALEKWGHV',\n",
    "  'MSKRYTDYVDLNYTPKENDLICTFHIEPADGVDLEEAAGRVAAESSTGTWTDVSTMPEIVEKLKARVYEIDESGNIVKIAYPLDLFEPGNIPQILSSIAGNIFGMKAVKNLRLLDIRFPKELVKSFKGPKFGIEGVRELLGVYDRPLVGTIVKPKVGLSAEEHAEVAYEAWVGGLDLVKDDENLTSQPFNPFEERVKKTLEARDKAEEETGEKKVYLVNITAPTEEMIRRAELVKDLGGKYVMIDIITAGFSAVQSLREEDLGLAIHAHRAMHAAFTRNPKHGISMLVLAKLARLVGVDQLHIGTVVGKMEGDKEEVLAIRDALRLDRVPADEANHFLEQDWYNIKPVFPVASGGLHPGLVPDLIDIFGKDVIIQAGGGVHGHPDGTRAGAKAMRQAIEAVMEGISLEEYAKEHPELKKALEKWGHVRP',\n",
    "  'MSIRYEDFVDLNYTPGDNDLVCTFRIEPAEGISMEAAAGRVASESSNGTWAALSVMPERIKDLKAKTFSIDGNIIKIAYPLGLFEPGNIPQILSCIAGNIFGMKAVDTIRLLDCHWPEEIVSSFKGPQFGSSGRREIFGVDDRPITATVPKPKVGLSAEEHAEIGYEAWVGGLDLIKDDENLTDQPFNPFEERVTKSMEARDKAEEETGEKKAYLVNITAETNEMLERADLVAEYGGEYVMVDIITAGWAAVQTVRERCEDLGLAIHAHRAMHAAFDRLPSHGISMLVLAQLARLVGVDQLHTGTGVGKLANEKETLAINDMLRSDLYNIKPVFPVASGGLHPGLVPDLLDAAGTDICIQAGGGVHGHPDGTRAGAKALRQAIDAAMEGVSIEEYAKEHPELAKALDKWGTVRPK',\n",
    "  'MSGITYEDFVDLNYTPTDTDLICTFRIEPAEGMSLEAAAGRVASESSTGTWTALSTMERVKKLSAKTFSIDGNIVKVAYPAGLFEPGNMPQILSCIAGNIFGMKAVKTLRLLDIHWPESLVSSFPGPQFGISVRQELFGVDDRPITATVPKPKVGLSTEQHAEIGYEAWVGGLDLIKDDENLTSQPFNPFEERVKKVMEMRDKAEDETGEKKAYLVNITAETNEMLERAELVADYGGEYVMIDIITAGWSAVQTLRERCEDLGLAIHAHRAMHAAFDRLPSHGVSMLVLAKLARLVGVDQLHTGTGLGKMENEDVLGINDWLRSDLYNINPVLPVASGGLHPGLVPELLEAAGTDICIQAGGGIHGHPDGTRAGAKALRQAVEAVVEGVSLEEYAKEHPELAKALEKWGTERPK',\n",
    "  'MSIRYEDFLDLNYEPGETDLICTFRIEPADGMSLEAAASRVASESSNGTWATLQTMPDDIKKLSAKVFEIDGNIVKIAYPLGLFEPGNMPQILSCIAGNIFGMKAVKTLRLLDCHWPESILKSFPGPQFGSSGRQELFGVHDRPITATVPKPKVGLSTEEHAQIGYEAWVGGIDLIKDDENLTSQPFNPFEERLKKSLEMRDKAEDETGEKKAYLVNITAETEEMLRRAELVADQGGEYVMIDIITAGWAAVQTVRERCEDLGLAIHAHRAMHAAFDRLPSHGVSMRVLAQLARLVGVDQLHTGTAGVGKMEGDKDVLAINEWLRQDLYGMKPVFPVASGGLHPGLVPELLDIAGTNICIQAGGGIHGHPDGTRAGAKALRQAVEAAMEGISIEEYAKEHPELAKALEKWGTVTPR',\n",
    "  'MSKRYTDFIDLNYTPKENDLICTFHIEPADGVDLEEAAGRVAAESSIGTWTDVSTMPEIWEKLKARVYEIDESGNIVKIAYPLDLFEPGNIPQILSSIAGNIFGMKAVKNLRLLDIRFPKELVKSFKGPKFGIEGVRELLGVYDRPLVGTIVKPKVGLSAEEHAEVAYEAWVGGLDLVKDDENLTSQPFNPFEERVKKVLEARDKAEEETGEKKVYLVNITAPTEEMIRRAELVKDLGGKYVMIDIITAGFSAVQSLREEDLGLAIHAHRAMHAAFTRNPKHGISMLVLAKLARLVGVDQLHIGTGVGKMEGDKEEVLAIRDALRLDRVPADEANHFLEQDWYNIKPVFPVASGGLHPGLVPDLIDIFGKDVIIQAGGGVHGHPDGTRAGAKALRQAIEAAMEGISLEEYAKEHPELKKALEKWGHVRP',\n",
    "  'MSKRYTDYVDLNYTPKENDLICTFHIEPADGVDLEEAAGRVAAESSTGTWTDVSTMPEIWEKLKARVYEIDETGNIVKIAYPLDLFEPGNIPQILSSIAGNIFGMKAVKNLRLLDIRFPKELVKSFKGPKFGIEGVRELLGVYDRPLVGTIVKPKVGLSAEEHAEVAYEAWVGGIDLVKDDENLTSQPFNPFEERVKKVLEARDKAEEETGEKKVYLVNITAPTEEMIRRAELVKDLGGKYVMIDIITAGFSAVQSLREEDLGLAIHAHRAMHAAFTRNPKHGISMLVLAKLARLVGVDQLHIGTVVGKMEGDKEEVLAIRDALRLDRVPADEANHFLEQDWYNIKPVFPVASGGLHPGLVPDLIDIFGKDIIIQAGGGVHGHPDGTRAGAKAMRQAIEAAMEGISLEEYAKEHPELKKALEKWGHVRK',\n",
    "  'MSRYTDYVDLNYTPKENDLICTFHIEPADGVDLEEAAGRVAAESSTGTWTDVSTMPEIVEKLKARVYEIDESGNIVKIAYPLDLFEPGNIPQILSSIAGNIFGMKAVKNLRLLDIRFPKELVKSFKGPKFGIEGVRELLGVYDRPLVGTIVKPKVGLSAEEHAEVAYEAWVGGLDLVKDDENLTSQPFNPFEERVKKVLEARDKAEEETGEKKVYLVNITAPTEEMIRRAELVKDLGGKYVMIDIITAGFSAVQSLREEDLGLAIHAHRAMHAAFTRNPKHGISMLVLAKLARLVGVDQLHIGTVVGKMEGDKEEVLAIRDALRLDRVPADEANHFLEQDWYNIKPVFPVASGGLHPGLVPDLIDIFGKDIIIQAGGGVHGHPDGTRAGAKAMRQAIEAVMEGISLEEYAKEHKELKKALEKWGHRPK',\n",
    "  'MSERYTDFLDLSYEPGDNDLVCTFRIEPAEGMSMEAAAGRVASESSNGTWTALQTMEDVKKLKATVFSIDGNIVKIAYPLGLFEPGNMPQILSCIAGNIMGMKAVDNLRLLDIHWPEEIVSSFPGPQFGSSVVQELFGVHDRPITATVPKPKVGLSAEQHAEVGYEAWVGGIDLLKDDENLTSQAFNPFEERLTKSMEMRDKAEDETGEKKSYLVNITAETNEMLRRAELVADYGGEYVMVDVITAGWSAVQTVRERCEDLGLAIHAHRAMHAAFTRNPSHGISMLVLAQLARLCGVDQLHTGTGLGKLAGDDTVGINDWLRSDWYNIKDVLPVASGGLHPGLVPELLDAFGKDIIIQAGGGVHGHPDGTRAGAKALRQAIEAAMEGVSLEEYAKEHPELAKALEKWGHVTPR',\n",
    "  'MSRYTDYVDLNYTPKENDLICTFHIEPADGVDLEEAAGRVAAESSTGTWTDVSTMPEIWEKLKARVYEIDESGNIVKIAYPLDLFEPGNIPQILSSIAGNIFGMKAVKNLRLLDIHFPKELVKSFKGPKFGIEGVRELLGVYDRPLVGTIVKPKVGLSAEEHAEVAYEAWVGGLDLIKDDENLTSQPFNPFEERVKKVLEARDKAEEETGEKKVYLVNITAPTEEMIRRAELVKDLGGKYVMIDIITAGFSAVQSLREEDLGLAIHAHRAMHAAFTRNPKHGISMLVLAKLARLVGVDQLHIGTVVGKMEGDKEEVLAIRDALRLDRVPADEANHFLEQDWYNIKPVFPVASGGLHPGLVPDLIDIFGKDIIIQAGGGVHGHPDGTRAGAKAMRQAIEAAMEGISLEEYAKEHKELAKALEKWGHVR',\n",
    "  'MSERYTDFVDLNYEPGETDLICTFRIEPADGISLEAAAGRVASESSTGTWATLQVMPERITKLKAKVFSIDGNIIKVAYPAGLFEPGNIPQILSCIAGNIMGMKAVDNLRLLDIHWPEEILKSFKGPQFGSSVVQEIFGVHDRPLTATVPKPKVGLSAEEHAQIGYEAWVGGLDLLKDDENLTDQAFNPFEERLTEVMAMRDKAEEETGEKKAYLVNITAPTNEMLERADMVADYGGEYVMIDIITAGWSAVQTVRERCEDLGLAIHAHRAMHAAFTRLPSHGVSMRVLAQIARLCGVDQLHTGTAGVGKLEGDKETVAINDWLRQDLYNMNDVFPVASGGLHPGLVPELIDAFGTNIIIQAGGGIHGHPDGTRAGAKALRQAVDAVVEGISLEEYADEHPELATALDKWGHVRPR',\n",
    "  'MSERYEDFLDLNYEPTDNDLVCTFRIEPADGISMEAAASRVASESSTGTWAALQTMERITKLKAKVFEIDGNIIKVAYPLGLFEAGNIPQILSCIAGNIFGMKAVDTLRLLDCEWPESILKSFPGPQFGSSGVRELLGVDDRPLTATVPKPKVGLSAEEHAEIGYEAWVGGIDLLKDDENLTSQPFNPFEERLKEVMEMRDKAEDETGEKKAYLVNITAETEEMLERADMVADQGGEYVMVDIITAGWSAVQTLRERCEDLGLAIHAHRAMHAAFTRLPSHGISMLVLAKLARLCGVDQLHTGTGLGKLENDETLGIADWLRSDWYNINPVLPVASGGLHPGLVPELLEAFGTNIIIQAGGGIHGHPDGTRAGAKALRQAIEAAMEGISIEEYAKDHPELAKALDKWGTETPR',\n",
    "  'MSKRYTDYVDLNYTPKENDLICTFHIEPADGVDLEEAAGRVAAESSTGTWTDVSTMPEIWEKLKARVYEIDESGNIVKIAYPLDLFEPGNIPQILSSIAGNIFGMKAVKNLRLLDIRFPKELVKSFKGPKFGIEGVRELLGVYDRPLVGTIVKPKVGLSAEEHAEVAYEAWVGGLDLVKDDENLTSQPFNPFEERVKKVMEARDKAEEETGEKKVYLVNITAPTEEMIRRAELVKDLGGKYVMIDIITAGFSAVQSLREEDLGLAIHAHRAMHAAFTRNPKHGISMLVLAKLARLVGVDQLHIGTVVGKMEGDKEEVLAIRDALRLDRVPADEANHFLEQDWYNIKPVFPVASGGLHPGLVPDLIDIFGKDVIIQAGGGVHGHPDGTRAGAKALRQAIEAAMEGISLEEYAKEHPELAKALEKWGHR',\n",
    "  'MSIRYTDFLDLNYEPGDTDLVCTFRIEPADGMSLEAAAGRVASESSNGTWTALQVMERIKKLKATTFSIDGNIIKIAYPADLFEPGNIPQILSSIAGNIMGMKAVDTIRLLDIHWPESILKSFPGPQFGSEVVREIFGVHDRPITATVPKPKVGLSTEQHAQVAYEAWVGGLDLIKDDENLTDQPFNPFEERLTKSLEARDKAEEETGEKKSYLVNITAETEEMLERAEMVAEYGGEYVMIDIITAGWAAVQTVRERCEDLGLAIHAHRAMHAAFDRLPKHGISMRVLAKLARLCGVDQLHTGTAGVGKMEGEETVAIAEWLRQDWYGIKPVFPVASGGLHPGLVPDLIDAFGTNIIIQAGGGVHGHPDGTRAGAKALRQAVDAAMEGISLEEYADEHPELATALDKWGHERPK',\n",
    "  'MSRYTDYVDLNYTPKENDLICTFHIEPADGVDLEEAAGRVAAESSIGTWTDVSTMPEIWEKLKARVYEIDESGNIVKIAYPLDLFEPGNIPQILSSIAGNIFGMKAVKNLRLLDIRFPKELVKSFKGPKFGIEGVRELLGVYDRPLVGTIVKPKVGLSAEEHAEVAYEAWVGGLDLVKDDENLTSQPFNPFEERVKKVLEARDKAEEETGEKKVYLVNITAPTEEMIRRAELVKDLGGKYVMIDIITAGFSAVQSLREEDLGLAIHAHRAMHAAFTRNPKHGISMLVLAKLARLVGVDQLHIGTGVGKMEGDKEEVLAIRDALRLDRVPADEANHFLEQDWYNIKPVFPVASGGLHPGLVPDLIDIFGKDVIIQAGGGVHGHPDGTRAGAKALRQAIEAAMEGISLEEYAKEHPELAKALEKWGHVRK',\n",
    "  'MSGITYEDFVDLSYTPGETDLICTFRIEPADGMSLEEAASRVASESSNGTWTTLQVMPEDIKKLSATVFSIDGNTVKVAYPAGLFEAGNMPQILSCIAGNIMGMKAVKNIRLLDCHWPESIVKSFKGPQFGSSGRREILGVDDRPITATVPKPKVGLSAEEHAEVGYEAWVGGIDLLKDDENLTDQPFNPFEERLTKVLEMRDKAEDETGEKKSYLVNITAETNEMLERAELVAEYGGEYVMVDVITAGWSAVQTLRERCEDLGLAIHAHRAMHAAFTRNPKHGISMRVLAKIARLVGVDQLHTGTGVGKLAGDKEDVLAINDWLRSDWYNMKDVLPVASGGLHPGLVPDLLEIFGTNIIIQAGGGIHGHPDGTRAGAKALRQAIEAVVEGISIEEYAKEHPELATALDKWGHERPR',\n",
    "  'MSERYEDFVDLNYTPGDNDLICTFRIEPADGISMEAAASRVASESSTGTWAALQVMPDRIKKLSAKTFSIDGNIVKVAYPLGLFEPGNMPQILSCIAGNIMGMKAVDTIRLLDCEWPEEILKSFKGPQFGSSGVRELFGVDDRPLTATVPKPKVGLSAEQHAEVAYEAWVGGIDLIKDDENLTDQPFNPFEDRVTKSMEARDKAEDETGEKKSYLVNITAPTNEMLRRAEMVAEYGGEYVMIDVITAGWAAVQTLRERCEDLGLAIHAHRAMHAAFDRLPSHGVSMRVLAKLARLVGVDQLHTGTGVGKMAGEEVVGIADWLRQDLYGIKPVLPVASGGLHPGLVPELIDAFGKNICIQAGGGVHGHPDGTRAGAKALRQAIDAAVEGVSIEEYADDHPELAKALDKWGTVRPR',\n",
    "  'MSKRYTDYIDLNYTPKENDLICTFHIEPADGVDLEEAAGRVAAESSTGTWTDVSTMPEIVEKLKARVYEIDETGNIVKIAYPLDLFEPGNIPQILSSIAGNIFGMKAVKNLRLLDIRFPKELVKSFKGPKFGIEGVRELLGVYDRPLVGTIVKPKVGLSAEEHAEVAYEAWVGGLDLIKDDENLTSQPFNPFEERVKKVLEARDKAEEETGEKKVYLVNITAPTEEMIRRAELVADLGGKYVMIDIITAGFSAVQSLREEDLGLAIHAHRAMHAAFTRNPKHGISMLVLAKLARLVGVDQLHIGTVVGKMEGDKEEVLAIRDALRLDRVPADEANHFLEQDWYNIKPVFPVASGGLHPGLVPDLIDIFGKDVIIQAGGGVHGHPDGTRAGAKALRQAIEAVMEGISLEEYAKEHKELKKALEKWGHVR',\n",
    "  'MSITYEDFVDLSYTPGDNDLICTFRIEPADGMSMEEAAGRVASESSTGTWATLSVDERIKDLSAKVFEIDGNIVKVAYPLGLFEPGNMPQILSSIAGNIMGMKAVKTLRLLDIHWPESILSSFPGPQFGSEVVQEIFGVDDRPITATVPKPKVGLSAEEHAEIGYEAWVGGIDLIKDDENLTDQAFNPFEDRVTKSLAMRDKAEEETGEKKAYLVNITAETNEMLERAELVAEYGGEYVMIDIITAGWAAVQTLRERCEDLGLAIHAHRAMHAAFTRNPKHGVSMRVLAKLARLCGVDQLHTGTGLGKLAGDKEDTVGINEWLRSDWYGIKDVLPVASGGLHPGLVPDLIEAFGTNIIIQAGGGIHGHPDGTRAGAKALRQAVEAVMEGISLEEYADEHPELAKALEKWGTVTPR',\n",
    "  'MSIRYEDFLDLNYEPTDTDLVCTFRIEPADGMSLEEAASRVASESSTGTWATLQTMDDVKKLSATVFEIDGNIVKIAYPLGLFEAGNMPQILSSIAGNIMGMKAVKNLRLLDIHWPESIVKSFKGPQFGSEVRRELLGVHDRPLTATVPKPKVGLSTEEHAEIAYEAWVGGLDLLKDDENLTDQAFNPFEDRLTEVLEARDKAEDETGEKKSYLVNITAETNEMLERADLVAEYGGEYVMIDIITAGWAAVQTVRERCEDLGLAIHAHRAMHAAFDRLPKHGISMRVLAKIARLCGVDQLHTGTAGVGKLENDKETLAINDWLRQDWYNMKDVFPVASGGLHPGLVPDLLDIAGTDIIIQAGGGVHGHPDGTRAGAKALRQAIEAAVEGVSIEEYAKEHPELAKALDKWGHVTPK',\n",
    "  'MSERYEDFVDLSYTPGDTDLVCTFRIEPAEGISMEAAAGRVASESSNGTWTALSTMEDIKKLKAKTFSIDGNIVKVAYPLGLFEAGNIPQILSSIAGNIFGMKAVKNIRLLDCHWPEELLKSFPGPQFGSSVVQELFGVHDRPITATVPKPKVGLSTEQHAQIGYEAWVGGIDLIKDDENLTDQAFNPFEERVTKVLAMRDKAEDETGEKKSYLVNITAPTEEMLRRAELVAEYGGEYVMIDVITAGWAAVQTVRERCEDLGLAIHAHRAMHAAFTRLPKHGISMRVLAQIARLCGVDQLHTGTGVGKLAGDEDVLGIAEWLRSDWYNIKDVLPVASGGLHPGLVPELIDIAGTDICIQAGGGVHGHPDGTRAGAKALRQAVEAVMEGISIEEYAKDHPELATALDKWGTVRPR',\n",
    "  'MSRYTDYVDLNYTPKENDLICTFHIEPADGVDLEEAAGRVAAESSIGTWTDVSTMKPEIWEKLKARVYEIDESGNIVKIAYPLDLFEPGNIPQILSSIAGNIFGMKAVKNLRLLDIRFPEELVKSFKGPKFGIEGVRELLGVYDRPLVGTIVKPKVGLSAEEHAEVAYEAWVGGLDLVKDDENLTSQPFNPFEERVKKVMEARDKAEEETGEKKVYLVNITAPTEEMIRRAELVKDLGGKYVMIDIITAGFSAVQSLREEDLGLAIHAHRAMHAAFTRNPKHGISMLVLAKLARLVGVDQLHIGTVVGKMEGDKEEVLAIRDALRLDRVPADEANHFLEQDWYNIKPVFPVASGGLHPGLVPDLIDIFGKDIIIQAGGGVHGHPDGTRAGAKAMRQAIEAVMEGISLEEYAKEHPELKKALEKWGHVRP',\n",
    "  'MSIRYEDFVDLSYTPGDTDLICTFRIEPAEGISMEAAASRVASESSNGTWAALQTMDDIKKLKAKVFSIDGNTVKIAYPLGLFEPGNIPQILSSIAGNIFGMKAVKTIRLLDCHFPEEIVSSFPGPQFGSSVVQELLGVHDRPITATVPKPKVGLSTEEHAQVGYEAWVGGLDLIKDDENLTSQPFNPFEERVKESMAMRDKAEDETGEKKSYLVNITAETNEMLRRAEMVAEYGGEYVMIDVITAGWAAVQTLRERCEDLGLAIHAHRAMHAAFDRNPSHGISMRVLAQIARLVGVDQLHTGTGLGKLENEKEDVLAIAEWLRSDWYGMNDVFPVASGGLHPGLVPELLEIAGKDIIIQAGGGIHGHPDGTRAGAKALRQAIEAAMEGISLEEYAKEHPELAKALDKWGHVRPR',\n",
    "  'MSRYTDYVDLNYTPKENDLICTFHIEPADGVDLEEAAGRVAAESSIGTWTDVSTMPEIWEKLKARVYEIDESGNIVKIAYPLDLFEPGNIPQILSSIAGNIFGMKAVKNLRLLDIHFPKELVKSFKGPKFGIEGVRELLGVYDRPLVGTIVKPKVGLSAEEHAEVAYEAWVGGLDLVKDDENLTSQPFNPFEERVKKVLEARDKAEEETGEKKVYLVNITAPTEEMIRRAELVKDLGGKYVMIDIITAGFSAVQSLREEDLGLAIHAHRAMHAAFTRNPKHGISMLVLAKLARLVGVDQLHIGTVVGKMEGDKEEVLAIRDALRLDRVPADEANHFLEQDWYNIKPVFPVASGGLHPGLVPDLIDIFGKDIIIQAGGGVHGHPDGTRAGAKALRQAIEAAMEGISLEEYAKEHKELAKALEKWGHVRK',\n",
    "  'MSKRYTDYVDLNYTPKENDLICTFHIEPADGVDLEEAAGRVAAESSTGTWTDVSTMPEIVEKLKARVYEIDESGNIVKIAYPLDLFEPGNIPQILSSIAGNIFGMKAVKNLRLLDIRFPKELVKSFKGPKFGIEGVRELLGVYDRPLVGTIVKPKVGLSAEEHAEVAYEAWVGGLDLVKDDENLTSQPFNPFEERVKKVLEARDKAEEETGEKKVYLVNITAPTEEMIRRAELVKDLGGKYVMIDIITAGFSAVQSLREEDLGLAIHAHRAMHAAFTRNPKHGISMLVLAKLARLVGVDQLHIGTGVGKMEGDKEEVLAIRDALRLDRVPADEANHFLEQDWYNIKPVFPVASGGLHPGLVPDLIDIFGKDVIIQAGGGVHGHPDGTRAGAKAMRQAIEAVMEGISLEEYAKEHPELKKALEKWGHP',\n",
    "  'MSKYTDYVDLNYTPKENDLICTFHIEPADGVDLEEAAGRVAAESSIGTWTDVSTMPEIWEKLKARVYEIDETGNIVKIAYPLDLFEPGNIPQILSSIAGNIFGMKAVKNLRLLDIRFPKELVKSFKGPKFGIEGVRELLGVYDRPLVGTIVKPKVGLSAEEHAEVAYEAWVGGLDLIKDDENLTSQPFNPFEERVKKVMEARDKAEEETGEKKVYLVNITAPTEEMIRRAELVKDLGGKYVMIDIITAGFSAVQSLREEDLGLAIHAHRAMHAAFTRNPKHGISMLVLAKLARLVGVDQLHIGTVVGKMEGDKEEVLAIRDALRLDRVPADEANHFLEQDWYNIKPVFPVASGGLHPGLVPDLIDIFGKDVIIQAGGGVHGHPDGTRAGAKAMRQAIEAVMEGISLEEYAKEHPELAKALEKWGHVRP',\n",
    "  'MSIRYTDFVDLNYEPGETDLVCTFRIEPAEGISMEAAASRVASESSNGTWTTLQTMERITDLKAKVFSIDGNIIKIAYPAGLFEAGNMPQILSCIAGNIMGMKAVDTLRLLDCHWPEEILSSFPGPQFGISGRREIFGVHDRPLTATVPKPKVGLSTEEHAEVGYEAWVGGIDLIKDDENLTSQPFNPFEERVTKSMEMRDKAEEETGEKKAYLVNITAETEEMLRRADLVAEYGGEYVMVDVITAGWAAVQTLRERCEDLGLAIHAHRAMHAAFDRNPKHGVSMLVLAKLARLCGVDQLHTGTAGLGKMAGDDTVGINEMLRSDLYGIKDVFPVASGGLHPGLVPELIEIAGKNICIQAGGGVHGHPDGTRAGAKALRQAIEAAVEGISLEEYAKEHPELAKALDKWGTVTPR'\n",
    "]\n",
    "train_set_labels = [0, 1, 1, 0, 1, 0, 0, 0, 1, 0, 0, 0, 0, 0, 0, 1, 0, 1, 1, 1, 0, 1, 0, 0, 0, 0, 1, 0, 0, 1, 1, 0, 0, 0, 1, 0, 0, 0, 0, 0, 0, 0, 0, 1, 0, 1, 0, 0, 0, 0, 0, 1, 0, 0, 1, 1, 0, 0, 0, 1, 0, 1, 0, 0, 1, 0, 1, 0, 0, 0, 1, 0, 0, 0, 0, 0, 1, 0, 0, 0, 0, 0, 0, 0, 0, 1, 0, 0]"
   ]
  },
  {
   "cell_type": "code",
   "execution_count": 9,
   "metadata": {},
   "outputs": [],
   "source": [
    "## Copy pasting the entries and labels from the validation set with random manual seed(42)\n",
    "\n",
    "val_set_seqs = [\n",
    "  'MSKRYTDYVDLNYTPKENDLICTFHIEPADGVDLEEAAGRVAAESSIGTWTDVSTMPEIVEKLKARVYEIDESGNIVKIAYPLDLFEPGNIPQILSSIAGNIFGMKAVKNLRLLDIRFPKELVKSFKGPKFGIEGVRELLGVYDRPLVGTIVKPKVGLSAEEHAEVAYEAWVGGLDLVKDDENLTSQPFNPFEERVKKVLEARDKAEEETGEKKVYLVNITAPTEEMIRRAELVADLGGKYVMIDIITAGFSAVQSLREEDLGLAIHAHRAMHAAFTRNPKHGISMLVLAKLARLVGVDQLHIGTVVGKMEGDKEEVLAIRDALRLDRVPADEANHFLEQDWYNIKPVFPVASGGLHPGLVPDLIDIFGKDIIIQAGGGVHGHPDGTRAGAKALRQAIEAAMEGISLEEYAKEHKELKKALEKWGHVR',\n",
    "  'MSIRYEDFLDLNYEPGDNDLICTFRIEPADGISMEAAASRVASESSNGTWTTLQVMPDRIKKLSATVFEIDGNIVKIAYPADLFEPGNMPQILSSIAGNIMGMKAVDTIRLLDCHWPESLVSSFPGPQFGSSVRRELFGVHDRPLTATVPKPKVGLSAEQHAQIAYEAWVGGLDLIKDDENLTDQPFNPFEERVKKVLAARDKAEEETGEKKAYLVNITAETNEMLERADLVADYGGEYVMIDVITAGWSAVQTLRERCEDLGLAIHAHRAMHAAFTRLPSHGVSMRVLAQIARLVGVDQLHTGTGLGKMEGDEDVLGIADWLRQDLYNINDVFPVASGGLHPGLVPELIEAFGTDICIQAGGGVHGHPDGTRAGAKALRQAVEAAMEGVSLEEYADDHPELATALDKWGTERPR',\n",
    "  'MSERYEDFVDLSYTPGENDLVCTFRIEPAEGMSMEEAASRVASESSNGTWATLSTMEDIKDLKAKTFSIDGNIIKIAYPLGLFEAGNMPQILSCIAGNIMGMKAVDTLRLLDIHWPEELLSSFKGPQFGSEGRQEIFGVHDRPITATVPKPKVGLSAEQHAQIAYEAWVGGIDLLKDDENLTSQPFNPFEERLKEVLAMRDKAEEETGEKKAYLVNITAPTEEMLRRAEMVAEQGGEYVMVDIITAGWAAVQTLRERCEDLGLAIHAHRAMHAAFTRLPSHGISMLVLAQIARLVGVDQLHTGTGLGKLANEEDVLAINDMLRSDWYGMNDVFPVASGGLHPGLVPELIEIFGKNICIQAGGGIHGHPDGTRAGAKALRQAVDAVVEGISIEEYAKEHPELATALEKWGHVTPK',\n",
    "  'MSIRYEDFLDLNYEPGETDLVCTFRIEPADGMSLEAAAGRVASESSTGTWATLQVMDRITDLKATVFEIDGNIVKIAYPLGLFEPGNMPQILSCIAGNIMGMKAVKNLRLLDCHWPESLLKSFKGPQFGSEGRQEIFGVHDRPLTATVPKPKVGLSTEEHAQVGYEAWVGGLDLLKDDENLTDQPFNPFEDRLKEVMEMRDKAEEETGEKKAYLVNITAETNEMLRRADLVADQGGEYVMVDIITAGWAAVQTLRERCEDLGLAIHAHRAMHAAFTRNPKHGISMRVLAQLARLCGVDQLHTGTAGVGKLENDKDVLAINDWLRSDWYGIKDVLPVASGGLHPGLVPDLLDAAGKDIIIQAGGGIHGHPDGTRAGAKALRQAIDAAVEGISLEEYADDHPELATALEKWGTVRPR',\n",
    "  'MSGERYTDFVDLNYTPGDTDLVCTFRIEPAEGMSMEAAASRVASESSTGTWTTLQTMEDIKKLSATVFSIDGNIVKVAYPAGLFEPGNIPQILSCIAGNIMGMKAVDTLRLLDCHWPESILSSFPGPQFGISGRRELFGVHDRPLTATVPKPKVGLSAEEHAEVGYEAWVGGIDLLKDDENLTSQPFNPFEDRVKESMAARDKAEEETGEKKAYLVNITAETNEMLRRADMVADQGGEYVMVDIITAGWAAVQTLRERCEDLGLAIHAHRAMHAAFDRLPSHGVSMRVLAKLARLVGVDQLHTGTGVGKLEGDETLGIADMLRSDWYGIKDVLPVASGGLHPGLVPELLEIAGTDICIQAGGGVHGHPDGTRAGAKALRQAVDAVVEGISIEEYAKDHPELAKALEKWGHETPR',\n",
    "  'MSKRYTDFVDLNYTPKENDLICTFHIEPADGVDLEEAAGRVAAESSIGTWTDVSTMPEIWEKLKARVYEIDETGNIVKIAYPLDLFEPGNIPQILSSIAGNIFGMKAVKNLRLLDIRFPKELVKSFKGPKFGIEGVRELLGVYDRPLVGTIVKPKVGLSAEEHAEVAYEAWVGGLDLVKDDENLTSQPFNPFEERVKKVMEARDKAEEETGEKKVYLVNITAPTEEMIRRAELVADLGGKYVMIDIITAGFSAVQSLREEDLGLAIHAHRAMHAAFTRNPKHGISMLVLAKLARLVGVDQLHIGTVVGKMEGDKEEVLAIRDALRLDRVPADEANHFLEQDWYNIKPVFPVASGGLHPGLVPDLIDIFGKDVIIQAGGGVHGHPDGTRAGAKALRQAIEAAMEGISLEEYAKEHPELKKALEKWGHVR',\n",
    "  'MSERYTDFVDLNYTPGENDLICTFRIEPADGMSLEEAASRVASESSNGTWTALSTMDRIKKLSAKTFEIDGNIIKVAYPLGLFEAGNIPQILSCIAGNIFGMKAVDNLRLLDCEFPESILKSFKGPQFGSSVVQELFGVDDRPLTATVPKPKVGLSTEEHAEVGYEAWVGGLDLIKDDENLTDQPFNPFEERLKKVLAARDKAEDETGEKKSYLVNITAPTEEMLRRADMVAEYGGEYVMIDIITAGWAAVQTLRERCEDLGLAIHAHRAMHAAFDRNPKHGVSMRVLAKIARLCGVDQLHTGTAGLGKMENDDVVGINEWLRQDWYGMKDVFPVASGGLHPGLVPDLIDIFGTNICIQAGGGIHGHPDGTRAGAKALRQAVEAAVEGVSIEEYAKDHPELAKALDKWGTERPR',\n",
    "  'MSRYTDYVDLNYTPKENDLICCFHIEPADGVDLEEAAGRVAAESSIGTWTDVSTMKPEIWEKLKARVYEIDESGNIVKIAYPLDLFEPGNIPQILSSIAGNIFGMKAVKNLRLLDIRFPKELVKSFKGPKFGIEGVRELLGVYDRPLVGTIVKPKVGLSAEEHAEVAYEAWVGGLDLVKDDENLTSQPFNPFEERVKKVMEARDKAEEETGEKKVYLVNITAPTEEMIRRAELVADLGGKYVMIDIITAGFSAVQSLREEDLGLAIHAHRAMHAAFTRNPKHGISMLVLAKLARLVGVDQLHIGTVVGKMEGDKEEVLAIRDALRLDRVPADEANHFLEQDWYNIKPVFPVASGGLHPGLVPDLIDIFGKDIIIQAGGGVHGHPDGTRAGAKAMRQAIEAVMEGISLEEYAKEHPELAKALEKWGHVRP',\n",
    "  'MSKRYTDYIDLNYTPKENDLICTFHIEPADGVDLEEAAGRVAAESSIGTWTDVSTMPEIWEKLKARVYEIDESGNIVKIAYPLDLFEPGNIPQILSSIAGNIFGMKAVKNLRLLDIRFPKELVKSFKGPKFGIEGVRELLGVYDRPLVGTIVKPKVGLSAEEHAEVAYEAWVGGLDLVKDDENLTSQPFNPFEERVKKVMEARDKAEEETGEKKVYLVNITAPTEEMIRRAELVKDLGGKYVMIDIITAGFSAVQSLREEDLGLAIHAHRAMHAAFTRNPKHGISMLVLAKLARLVGVDQLHIGTVVGKMEGDKEEVLAIRDALRLDRVPADEANHFLEQDWYNIKPVFPVASGGLHPGLVPDLIDIFGKDIIIQAGGGVHGHPDGTRAGAKAMRQAIEAAMEGISLEEYAKEHPELKKALEKWGHVRPK',\n",
    "  'MSGIRYEDFLDLNYEPGDTDLVCTFRIEPAEGISMEAAASRVASESSTGTWATLQVDEDIKDLKAKVFSIDGNIIKVAYPLDLFEAGNMPQILSCIAGNIMGMKAVKTIRLLDIEWPEEILKSFKGPQFGSSGRQELFGVHDRPLTATVPKPKVGLSAEEHAEIGYEAWVGGLDLIKDDENLTDQAFNPFEDRVTKVMEARDKAEEETGEKKSYLVNITAPTEEMLRRAEMVADYGGEYVMIDIITAGWAAVQTLRERCEDLGLAIHAHRAMHAAFTRNPSHGVSMRVLAKLARLVGVDQLHTGTGVGKMEGDEDTLGINDWLRQDLYNMKDVFPVASGGLHPGLVPDLLDAFGTDIIIQAGGGVHGHPDGTRAGAKALRQAVDAVMEGVSIEEYAKDHPELAKALDKWGTERPR',\n",
    "  'MSKRYTDYVDLNYTPKENDLICTFHIEPADGVDLEEAAGRVAAESSIGTWTDVSTMPEIWEKLKARVYEIDESGNIVKIAYPLDLFEPGNIPQILSSIAGNIFGMKAVKNLRLLDIRFPKELVKSFKGPKFGIEGVRELLGVYDRPLVGTIVKPKVGLSAEEHAEVAYEAWVGGLDLIKDDENLTSQPFNPFEERVKKTLEARDKAEEETGEKKVYLVNITAPTEEMIRRAELVADLGGKYVMIDIITAGFSAVQSLREEDLGLAIHAHRAMHAAFTRNPKHGISMLVLAKLARLVGVDQLHIGTVVGKMEGDKEEVLAIRDALRLDRVPADEANHFLEQDWYNIKPVFPVASGGLHPGLVPDLIDIFGKDVIIQAGGGVHGHPDGTRAGAKAMRQAIEAAMEGISLEEYAKEHKELAKALEKWGHVRPK',\n",
    "  'MSITYEDFVDLNYEPGETDLVCTFRIEPADGMSMEAAAGRVASESSNGTWAALQTMDRVKKLKATVFEIDGNIVKIAYPAGLFEAGNMPQILSCIAGNIFGMKAVDTIRLLDIHWPEEILKSFKGPQFGSSGRQEIFGVDDRPLTATVPKPKVGLSAEEHAEVGYEAWVGGIDLIKDDENLTDQPFNPFEDRVKKVLEMRDKAEDETGEKKAYLVNITAETNEMLRRADMVADQGGEYVMIDVITAGWSAVQTLRERCEDLGLAIHAHRAMHAAFDRNPKHGVSMRVLAKIARLCGVDQLHTGTAGLGKMANEKEETVGIADMLRSDWYGINPVFPVASGGLHPGLVPDLIDAFGKNICIQAGGGIHGHPDGTRAGAKALRQAVDAVMEGISLEEYAKDHPELAKALDKWGHERPR',\n",
    "  'MSRYTDYVDLNYTPKENDLICTFHIEPADGVDLEEAAGRVAAESSTGTWTDVSTMPEIWEKLKARVYEIDESGNIVKIAYPLDLFEPGNIPQILSSIAGNIFGMKAVKNLRLLDIRFPEELVKSFKGPKFGIEGVRELLGVYDRPLVGTIVKPKVGLSAEEHAEVAYEAWVGGLDLIKDDENLTSQPFNPFEERVKKVMEARDKAEEETGEKKVYLVNITAPTEEMIRRAELVKDLGGKYVMIDIITAGFSAVQSLREEDLGLAIHAHRAMHAAFTRNPKHGISMLVLAKLARLVGVDQLHIGTVVGKMEGDKEEVLAIRDALRLDRVPADEANHFLEQDWYNIKPVFPVASGGLHPGLVPDLIDIFGKDVIIQAGGGVHGHPDGTRAGAKAMRQAIEAVMEGISLEEYAKEHPELKKALEKWGHV',\n",
    "  'MSGERYEDFLDLNYTPGDNDLICTFRIEPADGMSLEAAASRVASESSNGTWAALQVMERITKLSATVFEIDGNIVKVAYPADLFEAGNIPQILSCIAGNIFGMKAVKNLRLLDIEWPESLLKSFPGPQFGSSVVRELFGVHDRPITATVPKPKVGLSAEEHAQVAYEAWVGGLDLIKDDENLTDQPFNPFEDRLKESMAMRDKAEDETGEKKAYLVNITAETNEMLRRADMVAEYGGEYVMVDIITAGWAAVQTVRERCEDLGLAIHAHRAMHAAFDRLPKHGVSMRVLAKLARLCGVDQLHTGTGLGKMEGDEDVLAINDMLRQDLYGMKPVLPVASGGLHPGLVPDLLDIFGTNIIIQAGGGVHGHPDGTRAGAKALRQAVEAAVEGISLEEYADDHPELAKALDKWGHVRPR',\n",
    "  'MSKYTDYVDLNYTPKENDLICTFHIEPADGVDLEEAAGRVAAESSIGTWTDVSTMPEIWEKLKARVYEIDETGNIVKIAYPLDLFEPGNIPQILSSIAGNIFGMKAVKNLRLLDIRFPKELVKSFKGPKFGIEGVRELLGVYDRPLVGTIVKPKVGLSAEEHAEVAYEAWVGGLDLVKDDENLTSQPFNPFEERVKKVLEARDKAEEETGEKKVYLVNITAPTEEMIRRAELVADLGGKYVMIDIITAGFSAVQSLREEDLGLAIHAHRAMHAAFTRNPKHGISMLVLAKLARLVGVDQLHIGTGVGKMEGDKEEVLAIRDALRLDRVPADEANHFLEQDWYNIKPVFPVASGGLHPGLVPDLIDIFGKDVIIQAGGGVHGHPDGTRAGAKAMRQAIEAVMEGISLEEYAKEHPELAKALEKWGHVRP',\n",
    "  'MSITYEDFLDLNYTPGDNDLVCTFRIEPADGISMEAAASRVASESSTGTWTTLSVMDRVKKLSAKTFEIDGNTIKIAYPLDLFEAGNMPQILSSIAGNIMGMKAVDTLRLLDIHWPESILKSFPGPQFGSSGRREIFGVHDRPITATVPKPKVGLSTEEHAQIAYEAWVGGLDLIKDDENLTDQPFNPFEERLKKVMEMRDKAEDETGEKKAYLVNITAETNEMLRRADLVADYGGEYVMVDVITAGWAAVQTVRERCEDLGLAIHAHRAMHAAFDRLPSHGISMLVLAQIARLVGVDQLHTGTGVGKLENEEDVLGIADWLRSDWYNMKDVFPVASGGLHPGLVPDLIEIFGTDIIIQAGGGVHGHPDGTRAGAKALRQAIDAAVEGVSIEEYADEHPELATALDKWGTVTPK'\n",
    "  ]\n",
    "val_set_labels = [0, 0, 0, 0, 0, 1, 1, 0, 0, 0, 0, 1, 1, 1, 1, 0]"
   ]
  },
  {
   "cell_type": "code",
   "execution_count": 10,
   "metadata": {},
   "outputs": [
    {
     "name": "stdout",
     "output_type": "stream",
     "text": [
      "[0.39141196]\n",
      "[0.40846667]\n",
      "[0.3891067]\n",
      "[0.40961963]\n",
      "[0.4090864]\n",
      "[0.3885698]\n",
      "[0.36698443]\n",
      "[0.4174836]\n",
      "[0.39052194]\n",
      "[0.4057564]\n",
      "[0.40720266]\n",
      "[0.39096788]\n",
      "[0.40432054]\n",
      "[0.39365855]\n",
      "[0.3904029]\n",
      "[0.40649733]\n"
     ]
    }
   ],
   "source": [
    "output_pred = []\n",
    "\n",
    "for i in range(len(val_set_seqs)):\n",
    "    inputs = loaded_tokenizer(train_set_seqs[i], truncation=True, padding='max_length', max_length=512, return_tensors=\"pt\")\n",
    "    inputs = {key: inputs[key] for key in inputs}\n",
    "\n",
    "    with torch.no_grad():\n",
    "        outputs = loaded_model(**inputs)[\"logits\"]\n",
    "\n",
    "        probs = torch.sigmoid(outputs).cpu().numpy()\n",
    "        print(probs)"
   ]
  },
  {
   "cell_type": "code",
   "execution_count": 11,
   "metadata": {},
   "outputs": [
    {
     "data": {
      "text/plain": [
       "Text(0.5, 1.0, 'Predictions vs Labels for the training set')"
      ]
     },
     "execution_count": 11,
     "metadata": {},
     "output_type": "execute_result"
    },
    {
     "data": {
      "image/png": "[encoded data removed]",
      "text/plain": [
       "<Figure size 640x480 with 1 Axes>"
      ]
     },
     "metadata": {},
     "output_type": "display_data"
    }
   ],
   "source": [
    "output_pred = []\n",
    "\n",
    "for i in range(len(train_set_seqs)):\n",
    "    inputs = loaded_tokenizer(train_set_seqs[i], truncation=True, padding='max_length', max_length=512, return_tensors=\"pt\")\n",
    "    labels = [train_set_labels[i]]\n",
    "\n",
    "    with torch.no_grad():\n",
    "        outputs = loaded_model(**inputs)[\"logits\"].squeeze(0)\n",
    "        outputs = outputs.cpu().numpy()\n",
    "        # Sigmoid activation\n",
    "        outputs = 1 / (1 + np.exp(-outputs))\n",
    "        # print(outputs, labels)\n",
    "\n",
    "        output_pred.append(outputs)\n",
    "\n",
    "#Plot the values in output_pred with the labels from val_set_labels\n",
    "\n",
    "output_pred = np.array(output_pred)\n",
    "val_set_labels = np.array(val_set_labels)\n",
    "\n",
    "plt.scatter(output_pred, train_set_labels)\n",
    "plt.title(\"Predictions vs Labels for the training set\")"
   ]
  },
  {
   "cell_type": "code",
   "execution_count": 12,
   "metadata": {},
   "outputs": [
    {
     "data": {
      "text/plain": [
       "Text(0.5, 1.0, 'Predictions vs Labels for the validation set')"
      ]
     },
     "execution_count": 12,
     "metadata": {},
     "output_type": "execute_result"
    },
    {
     "data": {
      "image/png": "[encoded data removed]",
      "text/plain": [
       "<Figure size 640x480 with 1 Axes>"
      ]
     },
     "metadata": {},
     "output_type": "display_data"
    }
   ],
   "source": [
    "output_pred = []\n",
    "\n",
    "for i in range(len(val_set_seqs)):\n",
    "    inputs = loaded_tokenizer(val_set_seqs[i], truncation=True, padding='max_length', max_length=512, return_tensors=\"pt\")\n",
    "    labels = [val_set_labels[i]]\n",
    "\n",
    "    with torch.no_grad():\n",
    "        outputs = loaded_model(**inputs)[\"logits\"].squeeze(0)\n",
    "        outputs = outputs.cpu().numpy()\n",
    "        # Sigmoid activation\n",
    "        outputs = 1 / (1 + np.exp(-outputs))\n",
    "        # print(outputs, labels)\n",
    "\n",
    "        output_pred.append(outputs)\n",
    "\n",
    "#Plot the values in output_pred with the labels from val_set_labels\n",
    "\n",
    "output_pred = np.array(output_pred)\n",
    "val_set_labels = np.array(val_set_labels)\n",
    "\n",
    "plt.scatter(output_pred, val_set_labels)\n",
    "plt.title(\"Predictions vs Labels for the validation set\")"
   ]
  },
  {
   "cell_type": "code",
   "execution_count": null,
   "metadata": {},
   "outputs": [],
   "source": []
  }
 ],
 "metadata": {
  "kernelspec": {
   "display_name": "Python 3 (ipykernel)",
   "language": "python",
   "name": "python3"
  },
  "language_info": {
   "codemirror_mode": {
    "name": "ipython",
    "version": 3
   },
   "file_extension": ".py",
   "mimetype": "text/x-python",
   "name": "python",
   "nbconvert_exporter": "python",
   "pygments_lexer": "ipython3",
   "version": "3.13.2"
  }
 },
 "nbformat": 4,
 "nbformat_minor": 2
}
