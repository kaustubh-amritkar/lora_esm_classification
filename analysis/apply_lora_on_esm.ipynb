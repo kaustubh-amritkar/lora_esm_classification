{
 "cells": [
  {
   "cell_type": "code",
   "execution_count": 1,
   "metadata": {},
   "outputs": [
    {
     "name": "stdout",
     "output_type": "stream",
     "text": [
      "/home/kaustubh/RuBisCO_ML/ESM_LoRA/analysis\n"
     ]
    }
   ],
   "source": [
    "import os\n",
    "import sys\n",
    "%cd /home/kaustubh/RuBisCO_ML/ESM_LoRA/analysis/"
   ]
  },
  {
   "cell_type": "code",
   "execution_count": 2,
   "metadata": {},
   "outputs": [],
   "source": [
    "import matplotlib.pyplot as plt\n",
    "from lora_esm2_script_updated import *\n",
    "# from lora_esm2_script_updated import CustomModel"
   ]
  },
  {
   "cell_type": "code",
   "execution_count": 3,
   "metadata": {},
   "outputs": [
    {
     "name": "stdout",
     "output_type": "stream",
     "text": [
      "4\n",
      "NVIDIA L40S\n",
      "OrderedDict({'active.all.allocated': 0, 'active.all.current': 0, 'active.all.freed': 0, 'active.all.peak': 0, 'active.large_pool.allocated': 0, 'active.large_pool.current': 0, 'active.large_pool.freed': 0, 'active.large_pool.peak': 0, 'active.small_pool.allocated': 0, 'active.small_pool.current': 0, 'active.small_pool.freed': 0, 'active.small_pool.peak': 0, 'active_bytes.all.allocated': 0, 'active_bytes.all.current': 0, 'active_bytes.all.freed': 0, 'active_bytes.all.peak': 0, 'active_bytes.large_pool.allocated': 0, 'active_bytes.large_pool.current': 0, 'active_bytes.large_pool.freed': 0, 'active_bytes.large_pool.peak': 0, 'active_bytes.small_pool.allocated': 0, 'active_bytes.small_pool.current': 0, 'active_bytes.small_pool.freed': 0, 'active_bytes.small_pool.peak': 0, 'allocated_bytes.all.allocated': 0, 'allocated_bytes.all.current': 0, 'allocated_bytes.all.freed': 0, 'allocated_bytes.all.peak': 0, 'allocated_bytes.large_pool.allocated': 0, 'allocated_bytes.large_pool.current': 0, 'allocated_bytes.large_pool.freed': 0, 'allocated_bytes.large_pool.peak': 0, 'allocated_bytes.small_pool.allocated': 0, 'allocated_bytes.small_pool.current': 0, 'allocated_bytes.small_pool.freed': 0, 'allocated_bytes.small_pool.peak': 0, 'allocation.all.allocated': 0, 'allocation.all.current': 0, 'allocation.all.freed': 0, 'allocation.all.peak': 0, 'allocation.large_pool.allocated': 0, 'allocation.large_pool.current': 0, 'allocation.large_pool.freed': 0, 'allocation.large_pool.peak': 0, 'allocation.small_pool.allocated': 0, 'allocation.small_pool.current': 0, 'allocation.small_pool.freed': 0, 'allocation.small_pool.peak': 0, 'inactive_split.all.allocated': 0, 'inactive_split.all.current': 0, 'inactive_split.all.freed': 0, 'inactive_split.all.peak': 0, 'inactive_split.large_pool.allocated': 0, 'inactive_split.large_pool.current': 0, 'inactive_split.large_pool.freed': 0, 'inactive_split.large_pool.peak': 0, 'inactive_split.small_pool.allocated': 0, 'inactive_split.small_pool.current': 0, 'inactive_split.small_pool.freed': 0, 'inactive_split.small_pool.peak': 0, 'inactive_split_bytes.all.allocated': 0, 'inactive_split_bytes.all.current': 0, 'inactive_split_bytes.all.freed': 0, 'inactive_split_bytes.all.peak': 0, 'inactive_split_bytes.large_pool.allocated': 0, 'inactive_split_bytes.large_pool.current': 0, 'inactive_split_bytes.large_pool.freed': 0, 'inactive_split_bytes.large_pool.peak': 0, 'inactive_split_bytes.small_pool.allocated': 0, 'inactive_split_bytes.small_pool.current': 0, 'inactive_split_bytes.small_pool.freed': 0, 'inactive_split_bytes.small_pool.peak': 0, 'max_split_size': -1, 'num_alloc_retries': 0, 'num_device_alloc': 0, 'num_device_free': 0, 'num_ooms': 0, 'num_sync_all_streams': 0, 'oversize_allocations.allocated': 0, 'oversize_allocations.current': 0, 'oversize_allocations.freed': 0, 'oversize_allocations.peak': 0, 'oversize_segments.allocated': 0, 'oversize_segments.current': 0, 'oversize_segments.freed': 0, 'oversize_segments.peak': 0, 'requested_bytes.all.allocated': 0, 'requested_bytes.all.current': 0, 'requested_bytes.all.freed': 0, 'requested_bytes.all.peak': 0, 'requested_bytes.large_pool.allocated': 0, 'requested_bytes.large_pool.current': 0, 'requested_bytes.large_pool.freed': 0, 'requested_bytes.large_pool.peak': 0, 'requested_bytes.small_pool.allocated': 0, 'requested_bytes.small_pool.current': 0, 'requested_bytes.small_pool.freed': 0, 'requested_bytes.small_pool.peak': 0, 'reserved_bytes.all.allocated': 0, 'reserved_bytes.all.current': 0, 'reserved_bytes.all.freed': 0, 'reserved_bytes.all.peak': 0, 'reserved_bytes.large_pool.allocated': 0, 'reserved_bytes.large_pool.current': 0, 'reserved_bytes.large_pool.freed': 0, 'reserved_bytes.large_pool.peak': 0, 'reserved_bytes.small_pool.allocated': 0, 'reserved_bytes.small_pool.current': 0, 'reserved_bytes.small_pool.freed': 0, 'reserved_bytes.small_pool.peak': 0, 'segment.all.allocated': 0, 'segment.all.current': 0, 'segment.all.freed': 0, 'segment.all.peak': 0, 'segment.large_pool.allocated': 0, 'segment.large_pool.current': 0, 'segment.large_pool.freed': 0, 'segment.large_pool.peak': 0, 'segment.small_pool.allocated': 0, 'segment.small_pool.current': 0, 'segment.small_pool.freed': 0, 'segment.small_pool.peak': 0})\n"
     ]
    }
   ],
   "source": [
    "print(torch.cuda.device_count())\n",
    "print(torch.cuda.get_device_name(0))\n",
    "print(torch.cuda.memory_stats())"
   ]
  },
  {
   "cell_type": "code",
   "execution_count": 4,
   "metadata": {},
   "outputs": [
    {
     "name": "stderr",
     "output_type": "stream",
     "text": [
      "Detected kernel version 5.4.0, which is below the recommended minimum of 5.5.0; this can cause the process to hang. It is recommended to upgrade the kernel to the minimum version or higher.\n"
     ]
    },
    {
     "name": "stderr",
     "output_type": "stream",
     "text": [
      "/home/kaustubh/miniforge3/envs/lora_esm/lib/python3.13/site-packages/transformers/training_args.py:1594: FutureWarning: `evaluation_strategy` is deprecated and will be removed in version 4.46 of 🤗 Transformers. Use `eval_strategy` instead\n",
      "  warnings.warn(\n",
      "Detected kernel version 5.4.0, which is below the recommended minimum of 5.5.0; this can cause the process to hang. It is recommended to upgrade the kernel to the minimum version or higher.\n"
     ]
    },
    {
     "name": "stdout",
     "output_type": "stream",
     "text": [
      "OrderedDict({'active.all.allocated': 0, 'active.all.current': 0, 'active.all.freed': 0, 'active.all.peak': 0, 'active.large_pool.allocated': 0, 'active.large_pool.current': 0, 'active.large_pool.freed': 0, 'active.large_pool.peak': 0, 'active.small_pool.allocated': 0, 'active.small_pool.current': 0, 'active.small_pool.freed': 0, 'active.small_pool.peak': 0, 'active_bytes.all.allocated': 0, 'active_bytes.all.current': 0, 'active_bytes.all.freed': 0, 'active_bytes.all.peak': 0, 'active_bytes.large_pool.allocated': 0, 'active_bytes.large_pool.current': 0, 'active_bytes.large_pool.freed': 0, 'active_bytes.large_pool.peak': 0, 'active_bytes.small_pool.allocated': 0, 'active_bytes.small_pool.current': 0, 'active_bytes.small_pool.freed': 0, 'active_bytes.small_pool.peak': 0, 'allocated_bytes.all.allocated': 0, 'allocated_bytes.all.current': 0, 'allocated_bytes.all.freed': 0, 'allocated_bytes.all.peak': 0, 'allocated_bytes.large_pool.allocated': 0, 'allocated_bytes.large_pool.current': 0, 'allocated_bytes.large_pool.freed': 0, 'allocated_bytes.large_pool.peak': 0, 'allocated_bytes.small_pool.allocated': 0, 'allocated_bytes.small_pool.current': 0, 'allocated_bytes.small_pool.freed': 0, 'allocated_bytes.small_pool.peak': 0, 'allocation.all.allocated': 0, 'allocation.all.current': 0, 'allocation.all.freed': 0, 'allocation.all.peak': 0, 'allocation.large_pool.allocated': 0, 'allocation.large_pool.current': 0, 'allocation.large_pool.freed': 0, 'allocation.large_pool.peak': 0, 'allocation.small_pool.allocated': 0, 'allocation.small_pool.current': 0, 'allocation.small_pool.freed': 0, 'allocation.small_pool.peak': 0, 'inactive_split.all.allocated': 0, 'inactive_split.all.current': 0, 'inactive_split.all.freed': 0, 'inactive_split.all.peak': 0, 'inactive_split.large_pool.allocated': 0, 'inactive_split.large_pool.current': 0, 'inactive_split.large_pool.freed': 0, 'inactive_split.large_pool.peak': 0, 'inactive_split.small_pool.allocated': 0, 'inactive_split.small_pool.current': 0, 'inactive_split.small_pool.freed': 0, 'inactive_split.small_pool.peak': 0, 'inactive_split_bytes.all.allocated': 0, 'inactive_split_bytes.all.current': 0, 'inactive_split_bytes.all.freed': 0, 'inactive_split_bytes.all.peak': 0, 'inactive_split_bytes.large_pool.allocated': 0, 'inactive_split_bytes.large_pool.current': 0, 'inactive_split_bytes.large_pool.freed': 0, 'inactive_split_bytes.large_pool.peak': 0, 'inactive_split_bytes.small_pool.allocated': 0, 'inactive_split_bytes.small_pool.current': 0, 'inactive_split_bytes.small_pool.freed': 0, 'inactive_split_bytes.small_pool.peak': 0, 'max_split_size': -1, 'num_alloc_retries': 0, 'num_device_alloc': 0, 'num_device_free': 0, 'num_ooms': 0, 'num_sync_all_streams': 1, 'oversize_allocations.allocated': 0, 'oversize_allocations.current': 0, 'oversize_allocations.freed': 0, 'oversize_allocations.peak': 0, 'oversize_segments.allocated': 0, 'oversize_segments.current': 0, 'oversize_segments.freed': 0, 'oversize_segments.peak': 0, 'requested_bytes.all.allocated': 0, 'requested_bytes.all.current': 0, 'requested_bytes.all.freed': 0, 'requested_bytes.all.peak': 0, 'requested_bytes.large_pool.allocated': 0, 'requested_bytes.large_pool.current': 0, 'requested_bytes.large_pool.freed': 0, 'requested_bytes.large_pool.peak': 0, 'requested_bytes.small_pool.allocated': 0, 'requested_bytes.small_pool.current': 0, 'requested_bytes.small_pool.freed': 0, 'requested_bytes.small_pool.peak': 0, 'reserved_bytes.all.allocated': 0, 'reserved_bytes.all.current': 0, 'reserved_bytes.all.freed': 0, 'reserved_bytes.all.peak': 0, 'reserved_bytes.large_pool.allocated': 0, 'reserved_bytes.large_pool.current': 0, 'reserved_bytes.large_pool.freed': 0, 'reserved_bytes.large_pool.peak': 0, 'reserved_bytes.small_pool.allocated': 0, 'reserved_bytes.small_pool.current': 0, 'reserved_bytes.small_pool.freed': 0, 'reserved_bytes.small_pool.peak': 0, 'segment.all.allocated': 0, 'segment.all.current': 0, 'segment.all.freed': 0, 'segment.all.peak': 0, 'segment.large_pool.allocated': 0, 'segment.large_pool.current': 0, 'segment.large_pool.freed': 0, 'segment.large_pool.peak': 0, 'segment.small_pool.allocated': 0, 'segment.small_pool.current': 0, 'segment.small_pool.freed': 0, 'segment.small_pool.peak': 0})\n"
     ]
    },
    {
     "name": "stderr",
     "output_type": "stream",
     "text": [
      "Some weights of EsmModel were not initialized from the model checkpoint at facebook/esm2_t33_650M_UR50D and are newly initialized: ['esm.pooler.dense.bias', 'esm.pooler.dense.weight']\n",
      "You should probably TRAIN this model on a down-stream task to be able to use it for predictions and inference.\n"
     ]
    },
    {
     "name": "stdout",
     "output_type": "stream",
     "text": [
      "dict_keys(['method', 'metric', 'parameters'])\n",
      "Trial 1/10\n",
      "learning_rate:  1e-05\n",
      "OrderedDict({'active.all.allocated': 770, 'active.all.current': 770, 'active.all.freed': 0, 'active.all.peak': 770, 'active.large_pool.allocated': 200, 'active.large_pool.current': 200, 'active.large_pool.freed': 0, 'active.large_pool.peak': 200, 'active.small_pool.allocated': 570, 'active.small_pool.current': 570, 'active.small_pool.freed': 0, 'active.small_pool.peak': 570, 'active_bytes.all.allocated': 2694874112, 'active_bytes.all.current': 2694874112, 'active_bytes.all.freed': 0, 'active_bytes.all.peak': 2694874112, 'active_bytes.large_pool.allocated': 2676238336, 'active_bytes.large_pool.current': 2676238336, 'active_bytes.large_pool.freed': 0, 'active_bytes.large_pool.peak': 2676238336, 'active_bytes.small_pool.allocated': 18635776, 'active_bytes.small_pool.current': 18635776, 'active_bytes.small_pool.freed': 0, 'active_bytes.small_pool.peak': 18635776, 'allocated_bytes.all.allocated': 2694874112, 'allocated_bytes.all.current': 2694874112, 'allocated_bytes.all.freed': 0, 'allocated_bytes.all.peak': 2694874112, 'allocated_bytes.large_pool.allocated': 2676238336, 'allocated_bytes.large_pool.current': 2676238336, 'allocated_bytes.large_pool.freed': 0, 'allocated_bytes.large_pool.peak': 2676238336, 'allocated_bytes.small_pool.allocated': 18635776, 'allocated_bytes.small_pool.current': 18635776, 'allocated_bytes.small_pool.freed': 0, 'allocated_bytes.small_pool.peak': 18635776, 'allocation.all.allocated': 770, 'allocation.all.current': 770, 'allocation.all.freed': 0, 'allocation.all.peak': 770, 'allocation.large_pool.allocated': 200, 'allocation.large_pool.current': 200, 'allocation.large_pool.freed': 0, 'allocation.large_pool.peak': 200, 'allocation.small_pool.allocated': 570, 'allocation.small_pool.current': 570, 'allocation.small_pool.freed': 0, 'allocation.small_pool.peak': 570, 'inactive_split.all.allocated': 54, 'inactive_split.all.current': 48, 'inactive_split.all.freed': 6, 'inactive_split.all.peak': 49, 'inactive_split.large_pool.allocated': 45, 'inactive_split.large_pool.current': 45, 'inactive_split.large_pool.freed': 0, 'inactive_split.large_pool.peak': 45, 'inactive_split.small_pool.allocated': 9, 'inactive_split.small_pool.current': 3, 'inactive_split.small_pool.freed': 6, 'inactive_split.small_pool.peak': 5, 'inactive_split_bytes.all.allocated': 668279808, 'inactive_split_bytes.all.current': 67075072, 'inactive_split_bytes.all.freed': 601204736, 'inactive_split_bytes.all.peak': 73704448, 'inactive_split_bytes.large_pool.allocated': 650106880, 'inactive_split_bytes.large_pool.current': 66836480, 'inactive_split_bytes.large_pool.freed': 583270400, 'inactive_split_bytes.large_pool.peak': 73390080, 'inactive_split_bytes.small_pool.allocated': 18172928, 'inactive_split_bytes.small_pool.current': 238592, 'inactive_split_bytes.small_pool.freed': 17934336, 'inactive_split_bytes.small_pool.peak': 2094592, 'max_split_size': -1, 'num_alloc_retries': 0, 'num_device_alloc': 120, 'num_device_free': 0, 'num_ooms': 0, 'num_sync_all_streams': 2, 'oversize_allocations.allocated': 0, 'oversize_allocations.current': 0, 'oversize_allocations.freed': 0, 'oversize_allocations.peak': 0, 'oversize_segments.allocated': 0, 'oversize_segments.current': 0, 'oversize_segments.freed': 0, 'oversize_segments.peak': 0, 'requested_bytes.all.allocated': 2625653480, 'requested_bytes.all.current': 2625653480, 'requested_bytes.all.freed': 0, 'requested_bytes.all.peak': 2625653480, 'requested_bytes.large_pool.allocated': 2607032320, 'requested_bytes.large_pool.current': 2607032320, 'requested_bytes.large_pool.freed': 0, 'requested_bytes.large_pool.peak': 2607032320, 'requested_bytes.small_pool.allocated': 18621160, 'requested_bytes.small_pool.current': 18621160, 'requested_bytes.small_pool.freed': 0, 'requested_bytes.small_pool.peak': 18621160, 'reserved_bytes.all.allocated': 2761949184, 'reserved_bytes.all.current': 2761949184, 'reserved_bytes.all.freed': 0, 'reserved_bytes.all.peak': 2761949184, 'reserved_bytes.large_pool.allocated': 2743074816, 'reserved_bytes.large_pool.current': 2743074816, 'reserved_bytes.large_pool.freed': 0, 'reserved_bytes.large_pool.peak': 2743074816, 'reserved_bytes.small_pool.allocated': 18874368, 'reserved_bytes.small_pool.current': 18874368, 'reserved_bytes.small_pool.freed': 0, 'reserved_bytes.small_pool.peak': 18874368, 'segment.all.allocated': 120, 'segment.all.current': 120, 'segment.all.freed': 0, 'segment.all.peak': 120, 'segment.large_pool.allocated': 111, 'segment.large_pool.current': 111, 'segment.large_pool.freed': 0, 'segment.large_pool.peak': 111, 'segment.small_pool.allocated': 9, 'segment.small_pool.current': 9, 'segment.small_pool.freed': 0, 'segment.small_pool.peak': 9})\n"
     ]
    },
    {
     "name": "stderr",
     "output_type": "stream",
     "text": [
      "Some weights of EsmModel were not initialized from the model checkpoint at facebook/esm2_t33_650M_UR50D and are newly initialized: ['esm.pooler.dense.bias', 'esm.pooler.dense.weight']\n",
      "You should probably TRAIN this model on a down-stream task to be able to use it for predictions and inference.\n",
      "\u001b[34m\u001b[1mwandb\u001b[0m: \u001b[33mWARNING\u001b[0m The `run_name` is currently set to the same value as `TrainingArguments.output_dir`. If this was not intended, please specify a different run name by setting the `TrainingArguments.run_name` parameter.\n",
      "\u001b[34m\u001b[1mwandb\u001b[0m: Using wandb-core as the SDK backend.  Please refer to https://wandb.me/wandb-core for more information.\n",
      "\u001b[34m\u001b[1mwandb\u001b[0m: Currently logged in as: \u001b[33mkauamritkar\u001b[0m (\u001b[33mkauamritkar-university-of-wisconsin-madison\u001b[0m) to \u001b[32mhttps://api.wandb.ai\u001b[0m. Use \u001b[1m`wandb login --relogin`\u001b[0m to force relogin\n"
     ]
    },
    {
     "data": {
      "text/html": [
       "Tracking run with wandb version 0.19.7"
      ],
      "text/plain": [
       "<IPython.core.display.HTML object>"
      ]
     },
     "metadata": {},
     "output_type": "display_data"
    },
    {
     "data": {
      "text/html": [
       "Run data is saved locally in <code>/home/kaustubh/RuBisCO_ML/ESM_LoRA/analysis/wandb/run-20250509_035621-0i3h9wws</code>"
      ],
      "text/plain": [
       "<IPython.core.display.HTML object>"
      ]
     },
     "metadata": {},
     "output_type": "display_data"
    },
    {
     "data": {
      "text/html": [
       "Syncing run <strong><a href='https://wandb.ai/kauamritkar-university-of-wisconsin-madison/huggingface/runs/0i3h9wws' target=\"_blank\">/home/kaustubh/RuBisCO_ML/ESM_LoRA/training_runs/esm2_t33_650M-finetuned-lora_2025-05-09_03-56-15</a></strong> to <a href='https://wandb.ai/kauamritkar-university-of-wisconsin-madison/huggingface' target=\"_blank\">Weights & Biases</a> (<a href='https://wandb.me/developer-guide' target=\"_blank\">docs</a>)<br>"
      ],
      "text/plain": [
       "<IPython.core.display.HTML object>"
      ]
     },
     "metadata": {},
     "output_type": "display_data"
    },
    {
     "data": {
      "text/html": [
       " View project at <a href='https://wandb.ai/kauamritkar-university-of-wisconsin-madison/huggingface' target=\"_blank\">https://wandb.ai/kauamritkar-university-of-wisconsin-madison/huggingface</a>"
      ],
      "text/plain": [
       "<IPython.core.display.HTML object>"
      ]
     },
     "metadata": {},
     "output_type": "display_data"
    },
    {
     "data": {
      "text/html": [
       " View run at <a href='https://wandb.ai/kauamritkar-university-of-wisconsin-madison/huggingface/runs/0i3h9wws' target=\"_blank\">https://wandb.ai/kauamritkar-university-of-wisconsin-madison/huggingface/runs/0i3h9wws</a>"
      ],
      "text/plain": [
       "<IPython.core.display.HTML object>"
      ]
     },
     "metadata": {},
     "output_type": "display_data"
    },
    {
     "name": "stderr",
     "output_type": "stream",
     "text": [
      "We strongly recommend passing in an `attention_mask` since your input_ids may be padded. See https://huggingface.co/docs/transformers/troubleshooting#incorrect-output-when-padding-tokens-arent-masked.\n",
      "We strongly recommend passing in an `attention_mask` since your input_ids may be padded. See https://huggingface.co/docs/transformers/troubleshooting#incorrect-output-when-padding-tokens-arent-masked.\n",
      "We strongly recommend passing in an `attention_mask` since your input_ids may be padded. See https://huggingface.co/docs/transformers/troubleshooting#incorrect-output-when-padding-tokens-arent-masked.\n",
      "We strongly recommend passing in an `attention_mask` since your input_ids may be padded. See https://huggingface.co/docs/transformers/troubleshooting#incorrect-output-when-padding-tokens-arent-masked.\n",
      "/home/kaustubh/miniforge3/envs/lora_esm/lib/python3.13/site-packages/torch/nn/parallel/_functions.py:70: UserWarning: Was asked to gather along dimension 0, but all input tensors were scalars; will instead unsqueeze and return a vector.\n",
      "  warnings.warn(\n"
     ]
    },
    {
     "data": {
      "text/html": [
       "\n",
       "    <div>\n",
       "      \n",
       "      <progress value='1335' max='1335' style='width:300px; height:20px; vertical-align: middle;'></progress>\n",
       "      [1335/1335 20:02, Epoch 5/5]\n",
       "    </div>\n",
       "    <table border=\"1\" class=\"dataframe\">\n",
       "  <thead>\n",
       " <tr style=\"text-align: left;\">\n",
       "      <th>Epoch</th>\n",
       "      <th>Training Loss</th>\n",
       "      <th>Validation Loss</th>\n",
       "      <th>Accuracy</th>\n",
       "    </tr>\n",
       "  </thead>\n",
       "  <tbody>\n",
       "    <tr>\n",
       "      <td>1</td>\n",
       "      <td>0.668700</td>\n",
       "      <td>0.695929</td>\n",
       "      <td>0.687177</td>\n",
       "    </tr>\n",
       "    <tr>\n",
       "      <td>2</td>\n",
       "      <td>0.646700</td>\n",
       "      <td>0.687405</td>\n",
       "      <td>0.684483</td>\n",
       "    </tr>\n",
       "    <tr>\n",
       "      <td>3</td>\n",
       "      <td>0.636000</td>\n",
       "      <td>0.682806</td>\n",
       "      <td>0.733435</td>\n",
       "    </tr>\n",
       "    <tr>\n",
       "      <td>4</td>\n",
       "      <td>0.628100</td>\n",
       "      <td>0.667353</td>\n",
       "      <td>0.751272</td>\n",
       "    </tr>\n",
       "    <tr>\n",
       "      <td>5</td>\n",
       "      <td>0.564400</td>\n",
       "      <td>0.667686</td>\n",
       "      <td>0.757993</td>\n",
       "    </tr>\n",
       "  </tbody>\n",
       "</table><p>"
      ],
      "text/plain": [
       "<IPython.core.display.HTML object>"
      ]
     },
     "metadata": {},
     "output_type": "display_data"
    },
    {
     "name": "stderr",
     "output_type": "stream",
     "text": [
      "/home/kaustubh/miniforge3/envs/lora_esm/lib/python3.13/site-packages/peft/utils/save_and_load.py:246: UserWarning: Could not find a config file in  - will assume that the vocabulary was not modified.\n",
      "  warnings.warn(\n",
      "/home/kaustubh/miniforge3/envs/lora_esm/lib/python3.13/site-packages/torch/nn/parallel/_functions.py:70: UserWarning: Was asked to gather along dimension 0, but all input tensors were scalars; will instead unsqueeze and return a vector.\n",
      "  warnings.warn(\n",
      "/home/kaustubh/miniforge3/envs/lora_esm/lib/python3.13/site-packages/peft/utils/save_and_load.py:246: UserWarning: Could not find a config file in  - will assume that the vocabulary was not modified.\n",
      "  warnings.warn(\n",
      "/home/kaustubh/miniforge3/envs/lora_esm/lib/python3.13/site-packages/torch/nn/parallel/_functions.py:70: UserWarning: Was asked to gather along dimension 0, but all input tensors were scalars; will instead unsqueeze and return a vector.\n",
      "  warnings.warn(\n",
      "/home/kaustubh/miniforge3/envs/lora_esm/lib/python3.13/site-packages/peft/utils/save_and_load.py:246: UserWarning: Could not find a config file in  - will assume that the vocabulary was not modified.\n",
      "  warnings.warn(\n",
      "/home/kaustubh/miniforge3/envs/lora_esm/lib/python3.13/site-packages/torch/nn/parallel/_functions.py:70: UserWarning: Was asked to gather along dimension 0, but all input tensors were scalars; will instead unsqueeze and return a vector.\n",
      "  warnings.warn(\n",
      "/home/kaustubh/miniforge3/envs/lora_esm/lib/python3.13/site-packages/peft/utils/save_and_load.py:246: UserWarning: Could not find a config file in  - will assume that the vocabulary was not modified.\n",
      "  warnings.warn(\n",
      "/home/kaustubh/miniforge3/envs/lora_esm/lib/python3.13/site-packages/torch/nn/parallel/_functions.py:70: UserWarning: Was asked to gather along dimension 0, but all input tensors were scalars; will instead unsqueeze and return a vector.\n",
      "  warnings.warn(\n",
      "/home/kaustubh/miniforge3/envs/lora_esm/lib/python3.13/site-packages/peft/utils/save_and_load.py:246: UserWarning: Could not find a config file in  - will assume that the vocabulary was not modified.\n",
      "  warnings.warn(\n",
      "/home/kaustubh/miniforge3/envs/lora_esm/lib/python3.13/site-packages/torch/nn/parallel/_functions.py:70: UserWarning: Was asked to gather along dimension 0, but all input tensors were scalars; will instead unsqueeze and return a vector.\n",
      "  warnings.warn(\n",
      "/home/kaustubh/miniforge3/envs/lora_esm/lib/python3.13/site-packages/peft/utils/save_and_load.py:246: UserWarning: Could not find a config file in  - will assume that the vocabulary was not modified.\n",
      "  warnings.warn(\n"
     ]
    },
    {
     "name": "stdout",
     "output_type": "stream",
     "text": [
      "trainer: <transformers.trainer.Trainer object at 0x7f11685f7a10>\n",
      "Best current Metric: 0.7579931972789116\n",
      "Updating best trial\n",
      "Trial 2/10\n",
      "learning_rate:  0.00010899999999999999\n",
      "OrderedDict({'active.all.allocated': 8831523, 'active.all.current': 2474, 'active.all.freed': 8829049, 'active.all.peak': 3453, 'active.large_pool.allocated': 5440962, 'active.large_pool.current': 402, 'active.large_pool.freed': 5440560, 'active.large_pool.peak': 903, 'active.small_pool.allocated': 3390561, 'active.small_pool.current': 2072, 'active.small_pool.freed': 3388489, 'active.small_pool.peak': 2650, 'active_bytes.all.allocated': 138450370509312, 'active_bytes.all.current': 5442967552, 'active_bytes.all.freed': 138444927541760, 'active_bytes.all.peak': 18568579072, 'active_bytes.large_pool.allocated': 138018572360704, 'active_bytes.large_pool.current': 5369516032, 'active_bytes.large_pool.freed': 138013202844672, 'active_bytes.large_pool.peak': 18463608832, 'active_bytes.small_pool.allocated': 431798148608, 'active_bytes.small_pool.current': 73451520, 'active_bytes.small_pool.freed': 431724697088, 'active_bytes.small_pool.peak': 106035200, 'allocated_bytes.all.allocated': 138450370509312, 'allocated_bytes.all.current': 5442967552, 'allocated_bytes.all.freed': 138444927541760, 'allocated_bytes.all.peak': 18568579072, 'allocated_bytes.large_pool.allocated': 138018572360704, 'allocated_bytes.large_pool.current': 5369516032, 'allocated_bytes.large_pool.freed': 138013202844672, 'allocated_bytes.large_pool.peak': 18463608832, 'allocated_bytes.small_pool.allocated': 431798148608, 'allocated_bytes.small_pool.current': 73451520, 'allocated_bytes.small_pool.freed': 431724697088, 'allocated_bytes.small_pool.peak': 106035200, 'allocation.all.allocated': 8831523, 'allocation.all.current': 2474, 'allocation.all.freed': 8829049, 'allocation.all.peak': 3453, 'allocation.large_pool.allocated': 5440962, 'allocation.large_pool.current': 402, 'allocation.large_pool.freed': 5440560, 'allocation.large_pool.peak': 903, 'allocation.small_pool.allocated': 3390561, 'allocation.small_pool.current': 2072, 'allocation.small_pool.freed': 3388489, 'allocation.small_pool.peak': 2650, 'inactive_split.all.allocated': 3829112, 'inactive_split.all.current': 134, 'inactive_split.all.freed': 3828978, 'inactive_split.all.peak': 407, 'inactive_split.large_pool.allocated': 2847413, 'inactive_split.large_pool.current': 93, 'inactive_split.large_pool.freed': 2847320, 'inactive_split.large_pool.peak': 203, 'inactive_split.small_pool.allocated': 981699, 'inactive_split.small_pool.current': 41, 'inactive_split.small_pool.freed': 981658, 'inactive_split.small_pool.peak': 206, 'inactive_split_bytes.all.allocated': 78278927247872, 'inactive_split_bytes.all.current': 162719744, 'inactive_split_bytes.all.freed': 78278764528128, 'inactive_split_bytes.all.peak': 2029373440, 'inactive_split_bytes.large_pool.allocated': 77794875237376, 'inactive_split_bytes.large_pool.current': 160673792, 'inactive_split_bytes.large_pool.freed': 77794714563584, 'inactive_split_bytes.large_pool.peak': 2017576960, 'inactive_split_bytes.small_pool.allocated': 484052010496, 'inactive_split_bytes.small_pool.current': 2045952, 'inactive_split_bytes.small_pool.freed': 484049964544, 'inactive_split_bytes.small_pool.peak': 20984832, 'max_split_size': -1, 'num_alloc_retries': 0, 'num_device_alloc': 432, 'num_device_free': 172, 'num_ooms': 0, 'num_sync_all_streams': 4, 'oversize_allocations.allocated': 0, 'oversize_allocations.current': 0, 'oversize_allocations.freed': 0, 'oversize_allocations.peak': 0, 'oversize_segments.allocated': 0, 'oversize_segments.current': 0, 'oversize_segments.freed': 0, 'oversize_segments.peak': 0, 'requested_bytes.all.allocated': 138393862077852, 'requested_bytes.all.current': 5304524256, 'requested_bytes.all.freed': 138388557553596, 'requested_bytes.all.peak': 18430131772, 'requested_bytes.large_pool.allocated': 137962532071920, 'requested_bytes.large_pool.current': 5231104000, 'requested_bytes.large_pool.freed': 137957300967920, 'requested_bytes.large_pool.peak': 18325196800, 'requested_bytes.small_pool.allocated': 431330005932, 'requested_bytes.small_pool.current': 73420256, 'requested_bytes.small_pool.freed': 431256585676, 'requested_bytes.small_pool.peak': 106001964, 'reserved_bytes.all.allocated': 20264779776, 'reserved_bytes.all.current': 5605687296, 'reserved_bytes.all.freed': 14659092480, 'reserved_bytes.all.peak': 20264779776, 'reserved_bytes.large_pool.allocated': 20157825024, 'reserved_bytes.large_pool.current': 5530189824, 'reserved_bytes.large_pool.freed': 14627635200, 'reserved_bytes.large_pool.peak': 20157825024, 'reserved_bytes.small_pool.allocated': 106954752, 'reserved_bytes.small_pool.current': 75497472, 'reserved_bytes.small_pool.freed': 31457280, 'reserved_bytes.small_pool.peak': 106954752, 'segment.all.allocated': 432, 'segment.all.current': 260, 'segment.all.freed': 172, 'segment.all.peak': 432, 'segment.large_pool.allocated': 381, 'segment.large_pool.current': 224, 'segment.large_pool.freed': 157, 'segment.large_pool.peak': 381, 'segment.small_pool.allocated': 51, 'segment.small_pool.current': 36, 'segment.small_pool.freed': 15, 'segment.small_pool.peak': 51})\n"
     ]
    },
    {
     "name": "stderr",
     "output_type": "stream",
     "text": [
      "Some weights of EsmModel were not initialized from the model checkpoint at facebook/esm2_t33_650M_UR50D and are newly initialized: ['esm.pooler.dense.bias', 'esm.pooler.dense.weight']\n",
      "You should probably TRAIN this model on a down-stream task to be able to use it for predictions and inference.\n",
      "/home/kaustubh/miniforge3/envs/lora_esm/lib/python3.13/site-packages/torch/nn/parallel/_functions.py:70: UserWarning: Was asked to gather along dimension 0, but all input tensors were scalars; will instead unsqueeze and return a vector.\n",
      "  warnings.warn(\n"
     ]
    },
    {
     "data": {
      "text/html": [
       "\n",
       "    <div>\n",
       "      \n",
       "      <progress value='1335' max='1335' style='width:300px; height:20px; vertical-align: middle;'></progress>\n",
       "      [1335/1335 20:05, Epoch 5/5]\n",
       "    </div>\n",
       "    <table border=\"1\" class=\"dataframe\">\n",
       "  <thead>\n",
       " <tr style=\"text-align: left;\">\n",
       "      <th>Epoch</th>\n",
       "      <th>Training Loss</th>\n",
       "      <th>Validation Loss</th>\n",
       "      <th>Accuracy</th>\n",
       "    </tr>\n",
       "  </thead>\n",
       "  <tbody>\n",
       "    <tr>\n",
       "      <td>1</td>\n",
       "      <td>0.510200</td>\n",
       "      <td>0.629130</td>\n",
       "      <td>0.819939</td>\n",
       "    </tr>\n",
       "    <tr>\n",
       "      <td>2</td>\n",
       "      <td>0.399500</td>\n",
       "      <td>0.396332</td>\n",
       "      <td>0.879694</td>\n",
       "    </tr>\n",
       "    <tr>\n",
       "      <td>3</td>\n",
       "      <td>0.190400</td>\n",
       "      <td>0.346002</td>\n",
       "      <td>0.888769</td>\n",
       "    </tr>\n",
       "    <tr>\n",
       "      <td>4</td>\n",
       "      <td>0.085400</td>\n",
       "      <td>0.349431</td>\n",
       "      <td>0.868565</td>\n",
       "    </tr>\n",
       "    <tr>\n",
       "      <td>5</td>\n",
       "      <td>0.228900</td>\n",
       "      <td>0.351629</td>\n",
       "      <td>0.867830</td>\n",
       "    </tr>\n",
       "  </tbody>\n",
       "</table><p>"
      ],
      "text/plain": [
       "<IPython.core.display.HTML object>"
      ]
     },
     "metadata": {},
     "output_type": "display_data"
    },
    {
     "name": "stderr",
     "output_type": "stream",
     "text": [
      "/home/kaustubh/miniforge3/envs/lora_esm/lib/python3.13/site-packages/peft/utils/save_and_load.py:246: UserWarning: Could not find a config file in  - will assume that the vocabulary was not modified.\n",
      "  warnings.warn(\n",
      "/home/kaustubh/miniforge3/envs/lora_esm/lib/python3.13/site-packages/torch/nn/parallel/_functions.py:70: UserWarning: Was asked to gather along dimension 0, but all input tensors were scalars; will instead unsqueeze and return a vector.\n",
      "  warnings.warn(\n",
      "/home/kaustubh/miniforge3/envs/lora_esm/lib/python3.13/site-packages/peft/utils/save_and_load.py:246: UserWarning: Could not find a config file in  - will assume that the vocabulary was not modified.\n",
      "  warnings.warn(\n",
      "/home/kaustubh/miniforge3/envs/lora_esm/lib/python3.13/site-packages/torch/nn/parallel/_functions.py:70: UserWarning: Was asked to gather along dimension 0, but all input tensors were scalars; will instead unsqueeze and return a vector.\n",
      "  warnings.warn(\n",
      "/home/kaustubh/miniforge3/envs/lora_esm/lib/python3.13/site-packages/peft/utils/save_and_load.py:246: UserWarning: Could not find a config file in  - will assume that the vocabulary was not modified.\n",
      "  warnings.warn(\n",
      "/home/kaustubh/miniforge3/envs/lora_esm/lib/python3.13/site-packages/torch/nn/parallel/_functions.py:70: UserWarning: Was asked to gather along dimension 0, but all input tensors were scalars; will instead unsqueeze and return a vector.\n",
      "  warnings.warn(\n",
      "/home/kaustubh/miniforge3/envs/lora_esm/lib/python3.13/site-packages/peft/utils/save_and_load.py:246: UserWarning: Could not find a config file in  - will assume that the vocabulary was not modified.\n",
      "  warnings.warn(\n",
      "/home/kaustubh/miniforge3/envs/lora_esm/lib/python3.13/site-packages/torch/nn/parallel/_functions.py:70: UserWarning: Was asked to gather along dimension 0, but all input tensors were scalars; will instead unsqueeze and return a vector.\n",
      "  warnings.warn(\n",
      "/home/kaustubh/miniforge3/envs/lora_esm/lib/python3.13/site-packages/peft/utils/save_and_load.py:246: UserWarning: Could not find a config file in  - will assume that the vocabulary was not modified.\n",
      "  warnings.warn(\n",
      "/home/kaustubh/miniforge3/envs/lora_esm/lib/python3.13/site-packages/torch/nn/parallel/_functions.py:70: UserWarning: Was asked to gather along dimension 0, but all input tensors were scalars; will instead unsqueeze and return a vector.\n",
      "  warnings.warn(\n",
      "/home/kaustubh/miniforge3/envs/lora_esm/lib/python3.13/site-packages/peft/utils/save_and_load.py:246: UserWarning: Could not find a config file in  - will assume that the vocabulary was not modified.\n",
      "  warnings.warn(\n"
     ]
    },
    {
     "name": "stdout",
     "output_type": "stream",
     "text": [
      "trainer: <transformers.trainer.Trainer object at 0x7f11685f7a10>\n",
      "Best current Metric: 0.8887687074829932\n",
      "Best trial metric: 0.7579931972789116\n",
      "Updating best trial\n",
      "Trial 3/10\n",
      "learning_rate:  0.000208\n",
      "OrderedDict({'active.all.allocated': 17662274, 'active.all.current': 3244, 'active.all.freed': 17659030, 'active.all.peak': 4223, 'active.large_pool.allocated': 10881722, 'active.large_pool.current': 602, 'active.large_pool.freed': 10881120, 'active.large_pool.peak': 1103, 'active.small_pool.allocated': 6780552, 'active.small_pool.current': 2642, 'active.small_pool.freed': 6777910, 'active.small_pool.peak': 3220, 'active_bytes.all.allocated': 276856041594880, 'active_bytes.all.current': 8137841664, 'active_bytes.all.freed': 276847903753216, 'active_bytes.all.peak': 21263453184, 'active_bytes.large_pool.allocated': 275992463933440, 'active_bytes.large_pool.current': 8045754368, 'active_bytes.large_pool.freed': 275984418179072, 'active_bytes.large_pool.peak': 21139847168, 'active_bytes.small_pool.allocated': 863577661440, 'active_bytes.small_pool.current': 92087296, 'active_bytes.small_pool.freed': 863485574144, 'active_bytes.small_pool.peak': 124670976, 'allocated_bytes.all.allocated': 276856041594880, 'allocated_bytes.all.current': 8137841664, 'allocated_bytes.all.freed': 276847903753216, 'allocated_bytes.all.peak': 21263453184, 'allocated_bytes.large_pool.allocated': 275992463933440, 'allocated_bytes.large_pool.current': 8045754368, 'allocated_bytes.large_pool.freed': 275984418179072, 'allocated_bytes.large_pool.peak': 21139847168, 'allocated_bytes.small_pool.allocated': 863577661440, 'allocated_bytes.small_pool.current': 92087296, 'allocated_bytes.small_pool.freed': 863485574144, 'allocated_bytes.small_pool.peak': 124670976, 'allocation.all.allocated': 17662274, 'allocation.all.current': 3244, 'allocation.all.freed': 17659030, 'allocation.all.peak': 4223, 'allocation.large_pool.allocated': 10881722, 'allocation.large_pool.current': 602, 'allocation.large_pool.freed': 10881120, 'allocation.large_pool.peak': 1103, 'allocation.small_pool.allocated': 6780552, 'allocation.small_pool.current': 2642, 'allocation.small_pool.freed': 6777910, 'allocation.small_pool.peak': 3220, 'inactive_split.all.allocated': 7759903, 'inactive_split.all.current': 192, 'inactive_split.all.freed': 7759711, 'inactive_split.all.peak': 468, 'inactive_split.large_pool.allocated': 5748132, 'inactive_split.large_pool.current': 136, 'inactive_split.large_pool.freed': 5747996, 'inactive_split.large_pool.peak': 247, 'inactive_split.small_pool.allocated': 2011771, 'inactive_split.small_pool.current': 56, 'inactive_split.small_pool.freed': 2011715, 'inactive_split.small_pool.peak': 222, 'inactive_split_bytes.all.allocated': 153928453331968, 'inactive_split_bytes.all.current': 187851776, 'inactive_split_bytes.all.freed': 153928265480192, 'inactive_split_bytes.all.peak': 2045808640, 'inactive_split_bytes.large_pool.allocated': 152962974109696, 'inactive_split_bytes.large_pool.current': 185567232, 'inactive_split_bytes.large_pool.freed': 152962788542464, 'inactive_split_bytes.large_pool.peak': 2035870720, 'inactive_split_bytes.small_pool.allocated': 965479222272, 'inactive_split_bytes.small_pool.current': 2284544, 'inactive_split_bytes.small_pool.freed': 965476937728, 'inactive_split_bytes.small_pool.peak': 32945152, 'max_split_size': -1, 'num_alloc_retries': 0, 'num_device_alloc': 724, 'num_device_free': 346, 'num_ooms': 0, 'num_sync_all_streams': 6, 'oversize_allocations.allocated': 0, 'oversize_allocations.current': 0, 'oversize_allocations.freed': 0, 'oversize_allocations.peak': 0, 'oversize_segments.allocated': 0, 'oversize_segments.current': 0, 'oversize_segments.freed': 0, 'oversize_segments.peak': 0, 'requested_bytes.all.allocated': 276785081462864, 'requested_bytes.all.current': 7930177736, 'requested_bytes.all.freed': 276777151285128, 'requested_bytes.all.peak': 21055785252, 'requested_bytes.large_pool.allocated': 275922440072160, 'requested_bytes.large_pool.current': 7838136320, 'requested_bytes.large_pool.freed': 275914601935840, 'requested_bytes.large_pool.peak': 20932229120, 'requested_bytes.small_pool.allocated': 862641390704, 'requested_bytes.small_pool.current': 92041416, 'requested_bytes.small_pool.freed': 862549349288, 'requested_bytes.small_pool.peak': 124623124, 'reserved_bytes.all.allocated': 37694210048, 'reserved_bytes.all.current': 8325693440, 'reserved_bytes.all.freed': 29368516608, 'reserved_bytes.all.peak': 23035117568, 'reserved_bytes.large_pool.allocated': 37536923648, 'reserved_bytes.large_pool.current': 8231321600, 'reserved_bytes.large_pool.freed': 29305602048, 'reserved_bytes.large_pool.peak': 22909288448, 'reserved_bytes.small_pool.allocated': 157286400, 'reserved_bytes.small_pool.current': 94371840, 'reserved_bytes.small_pool.freed': 62914560, 'reserved_bytes.small_pool.peak': 125829120, 'segment.all.allocated': 724, 'segment.all.current': 378, 'segment.all.freed': 346, 'segment.all.peak': 552, 'segment.large_pool.allocated': 649, 'segment.large_pool.current': 333, 'segment.large_pool.freed': 316, 'segment.large_pool.peak': 492, 'segment.small_pool.allocated': 75, 'segment.small_pool.current': 45, 'segment.small_pool.freed': 30, 'segment.small_pool.peak': 60})\n"
     ]
    },
    {
     "name": "stderr",
     "output_type": "stream",
     "text": [
      "Some weights of EsmModel were not initialized from the model checkpoint at facebook/esm2_t33_650M_UR50D and are newly initialized: ['esm.pooler.dense.bias', 'esm.pooler.dense.weight']\n",
      "You should probably TRAIN this model on a down-stream task to be able to use it for predictions and inference.\n",
      "/home/kaustubh/miniforge3/envs/lora_esm/lib/python3.13/site-packages/torch/nn/parallel/_functions.py:70: UserWarning: Was asked to gather along dimension 0, but all input tensors were scalars; will instead unsqueeze and return a vector.\n",
      "  warnings.warn(\n"
     ]
    },
    {
     "data": {
      "text/html": [
       "\n",
       "    <div>\n",
       "      \n",
       "      <progress value='1335' max='1335' style='width:300px; height:20px; vertical-align: middle;'></progress>\n",
       "      [1335/1335 20:06, Epoch 5/5]\n",
       "    </div>\n",
       "    <table border=\"1\" class=\"dataframe\">\n",
       "  <thead>\n",
       " <tr style=\"text-align: left;\">\n",
       "      <th>Epoch</th>\n",
       "      <th>Training Loss</th>\n",
       "      <th>Validation Loss</th>\n",
       "      <th>Accuracy</th>\n",
       "    </tr>\n",
       "  </thead>\n",
       "  <tbody>\n",
       "    <tr>\n",
       "      <td>1</td>\n",
       "      <td>0.479700</td>\n",
       "      <td>0.475909</td>\n",
       "      <td>0.868007</td>\n",
       "    </tr>\n",
       "    <tr>\n",
       "      <td>2</td>\n",
       "      <td>0.242800</td>\n",
       "      <td>0.455744</td>\n",
       "      <td>0.911871</td>\n",
       "    </tr>\n",
       "    <tr>\n",
       "      <td>3</td>\n",
       "      <td>0.131400</td>\n",
       "      <td>0.370581</td>\n",
       "      <td>0.928986</td>\n",
       "    </tr>\n",
       "    <tr>\n",
       "      <td>4</td>\n",
       "      <td>0.025200</td>\n",
       "      <td>0.383660</td>\n",
       "      <td>0.925803</td>\n",
       "    </tr>\n",
       "    <tr>\n",
       "      <td>5</td>\n",
       "      <td>0.179800</td>\n",
       "      <td>0.386506</td>\n",
       "      <td>0.917789</td>\n",
       "    </tr>\n",
       "  </tbody>\n",
       "</table><p>"
      ],
      "text/plain": [
       "<IPython.core.display.HTML object>"
      ]
     },
     "metadata": {},
     "output_type": "display_data"
    },
    {
     "name": "stderr",
     "output_type": "stream",
     "text": [
      "/home/kaustubh/miniforge3/envs/lora_esm/lib/python3.13/site-packages/peft/utils/save_and_load.py:246: UserWarning: Could not find a config file in  - will assume that the vocabulary was not modified.\n",
      "  warnings.warn(\n",
      "/home/kaustubh/miniforge3/envs/lora_esm/lib/python3.13/site-packages/torch/nn/parallel/_functions.py:70: UserWarning: Was asked to gather along dimension 0, but all input tensors were scalars; will instead unsqueeze and return a vector.\n",
      "  warnings.warn(\n",
      "/home/kaustubh/miniforge3/envs/lora_esm/lib/python3.13/site-packages/peft/utils/save_and_load.py:246: UserWarning: Could not find a config file in  - will assume that the vocabulary was not modified.\n",
      "  warnings.warn(\n",
      "/home/kaustubh/miniforge3/envs/lora_esm/lib/python3.13/site-packages/torch/nn/parallel/_functions.py:70: UserWarning: Was asked to gather along dimension 0, but all input tensors were scalars; will instead unsqueeze and return a vector.\n",
      "  warnings.warn(\n",
      "/home/kaustubh/miniforge3/envs/lora_esm/lib/python3.13/site-packages/peft/utils/save_and_load.py:246: UserWarning: Could not find a config file in  - will assume that the vocabulary was not modified.\n",
      "  warnings.warn(\n",
      "/home/kaustubh/miniforge3/envs/lora_esm/lib/python3.13/site-packages/torch/nn/parallel/_functions.py:70: UserWarning: Was asked to gather along dimension 0, but all input tensors were scalars; will instead unsqueeze and return a vector.\n",
      "  warnings.warn(\n",
      "/home/kaustubh/miniforge3/envs/lora_esm/lib/python3.13/site-packages/peft/utils/save_and_load.py:246: UserWarning: Could not find a config file in  - will assume that the vocabulary was not modified.\n",
      "  warnings.warn(\n",
      "/home/kaustubh/miniforge3/envs/lora_esm/lib/python3.13/site-packages/torch/nn/parallel/_functions.py:70: UserWarning: Was asked to gather along dimension 0, but all input tensors were scalars; will instead unsqueeze and return a vector.\n",
      "  warnings.warn(\n",
      "/home/kaustubh/miniforge3/envs/lora_esm/lib/python3.13/site-packages/peft/utils/save_and_load.py:246: UserWarning: Could not find a config file in  - will assume that the vocabulary was not modified.\n",
      "  warnings.warn(\n",
      "/home/kaustubh/miniforge3/envs/lora_esm/lib/python3.13/site-packages/torch/nn/parallel/_functions.py:70: UserWarning: Was asked to gather along dimension 0, but all input tensors were scalars; will instead unsqueeze and return a vector.\n",
      "  warnings.warn(\n",
      "/home/kaustubh/miniforge3/envs/lora_esm/lib/python3.13/site-packages/peft/utils/save_and_load.py:246: UserWarning: Could not find a config file in  - will assume that the vocabulary was not modified.\n",
      "  warnings.warn(\n"
     ]
    },
    {
     "name": "stdout",
     "output_type": "stream",
     "text": [
      "trainer: <transformers.trainer.Trainer object at 0x7f11685f7a10>\n",
      "Best current Metric: 0.9289863945578232\n",
      "Best trial metric: 0.8887687074829932\n",
      "Updating best trial\n",
      "Trial 4/10\n",
      "learning_rate:  0.000307\n",
      "OrderedDict({'active.all.allocated': 26493025, 'active.all.current': 4014, 'active.all.freed': 26489011, 'active.all.peak': 4993, 'active.large_pool.allocated': 16322482, 'active.large_pool.current': 802, 'active.large_pool.freed': 16321680, 'active.large_pool.peak': 1303, 'active.small_pool.allocated': 10170543, 'active.small_pool.current': 3212, 'active.small_pool.freed': 10167331, 'active.small_pool.peak': 3790, 'active_bytes.all.allocated': 415261712680448, 'active_bytes.all.current': 10832715776, 'active_bytes.all.freed': 415250879964672, 'active_bytes.all.peak': 23958327296, 'active_bytes.large_pool.allocated': 413966355506176, 'active_bytes.large_pool.current': 10721992704, 'active_bytes.large_pool.freed': 413955633513472, 'active_bytes.large_pool.peak': 23816085504, 'active_bytes.small_pool.allocated': 1295357174272, 'active_bytes.small_pool.current': 110723072, 'active_bytes.small_pool.freed': 1295246451200, 'active_bytes.small_pool.peak': 143306752, 'allocated_bytes.all.allocated': 415261712680448, 'allocated_bytes.all.current': 10832715776, 'allocated_bytes.all.freed': 415250879964672, 'allocated_bytes.all.peak': 23958327296, 'allocated_bytes.large_pool.allocated': 413966355506176, 'allocated_bytes.large_pool.current': 10721992704, 'allocated_bytes.large_pool.freed': 413955633513472, 'allocated_bytes.large_pool.peak': 23816085504, 'allocated_bytes.small_pool.allocated': 1295357174272, 'allocated_bytes.small_pool.current': 110723072, 'allocated_bytes.small_pool.freed': 1295246451200, 'allocated_bytes.small_pool.peak': 143306752, 'allocation.all.allocated': 26493025, 'allocation.all.current': 4014, 'allocation.all.freed': 26489011, 'allocation.all.peak': 4993, 'allocation.large_pool.allocated': 16322482, 'allocation.large_pool.current': 802, 'allocation.large_pool.freed': 16321680, 'allocation.large_pool.peak': 1303, 'allocation.small_pool.allocated': 10170543, 'allocation.small_pool.current': 3212, 'allocation.small_pool.freed': 10167331, 'allocation.small_pool.peak': 3790, 'inactive_split.all.allocated': 11738486, 'inactive_split.all.current': 255, 'inactive_split.all.freed': 11738231, 'inactive_split.all.peak': 520, 'inactive_split.large_pool.allocated': 8666055, 'inactive_split.large_pool.current': 181, 'inactive_split.large_pool.freed': 8665874, 'inactive_split.large_pool.peak': 291, 'inactive_split.small_pool.allocated': 3072431, 'inactive_split.small_pool.current': 74, 'inactive_split.small_pool.freed': 3072357, 'inactive_split.small_pool.peak': 230, 'inactive_split_bytes.all.allocated': 230132984016384, 'inactive_split_bytes.all.current': 254926848, 'inactive_split_bytes.all.freed': 230132729089536, 'inactive_split_bytes.all.peak': 2112883712, 'inactive_split_bytes.large_pool.allocated': 228686470874112, 'inactive_split_bytes.large_pool.current': 252403712, 'inactive_split_bytes.large_pool.freed': 228686218470400, 'inactive_split_bytes.large_pool.peak': 2102707200, 'inactive_split_bytes.small_pool.allocated': 1446513142272, 'inactive_split_bytes.small_pool.current': 2523136, 'inactive_split_bytes.small_pool.freed': 1446510619136, 'inactive_split_bytes.small_pool.peak': 33414144, 'max_split_size': -1, 'num_alloc_retries': 0, 'num_device_alloc': 1017, 'num_device_free': 519, 'num_ooms': 0, 'num_sync_all_streams': 8, 'oversize_allocations.allocated': 0, 'oversize_allocations.current': 0, 'oversize_allocations.freed': 0, 'oversize_allocations.peak': 0, 'oversize_segments.allocated': 0, 'oversize_segments.current': 0, 'oversize_segments.freed': 0, 'oversize_segments.peak': 0, 'requested_bytes.all.allocated': 415176300847876, 'requested_bytes.all.current': 10555831216, 'requested_bytes.all.freed': 415165745016660, 'requested_bytes.all.peak': 23681438732, 'requested_bytes.large_pool.allocated': 413882348072400, 'requested_bytes.large_pool.current': 10445168640, 'requested_bytes.large_pool.freed': 413871902903760, 'requested_bytes.large_pool.peak': 23539261440, 'requested_bytes.small_pool.allocated': 1293952775476, 'requested_bytes.small_pool.current': 110662576, 'requested_bytes.small_pool.freed': 1293842112900, 'requested_bytes.small_pool.peak': 143244284, 'reserved_bytes.all.allocated': 55155097600, 'reserved_bytes.all.current': 11087642624, 'reserved_bytes.all.freed': 44067454976, 'reserved_bytes.all.peak': 25786580992, 'reserved_bytes.large_pool.allocated': 54947479552, 'reserved_bytes.large_pool.current': 10974396416, 'reserved_bytes.large_pool.freed': 43973083136, 'reserved_bytes.large_pool.peak': 25641877504, 'reserved_bytes.small_pool.allocated': 207618048, 'reserved_bytes.small_pool.current': 113246208, 'reserved_bytes.small_pool.freed': 94371840, 'reserved_bytes.small_pool.peak': 144703488, 'segment.all.allocated': 1017, 'segment.all.current': 498, 'segment.all.freed': 519, 'segment.all.peak': 671, 'segment.large_pool.allocated': 918, 'segment.large_pool.current': 444, 'segment.large_pool.freed': 474, 'segment.large_pool.peak': 602, 'segment.small_pool.allocated': 99, 'segment.small_pool.current': 54, 'segment.small_pool.freed': 45, 'segment.small_pool.peak': 69})\n"
     ]
    },
    {
     "name": "stderr",
     "output_type": "stream",
     "text": [
      "Some weights of EsmModel were not initialized from the model checkpoint at facebook/esm2_t33_650M_UR50D and are newly initialized: ['esm.pooler.dense.bias', 'esm.pooler.dense.weight']\n",
      "You should probably TRAIN this model on a down-stream task to be able to use it for predictions and inference.\n",
      "/home/kaustubh/miniforge3/envs/lora_esm/lib/python3.13/site-packages/torch/nn/parallel/_functions.py:70: UserWarning: Was asked to gather along dimension 0, but all input tensors were scalars; will instead unsqueeze and return a vector.\n",
      "  warnings.warn(\n"
     ]
    },
    {
     "data": {
      "text/html": [
       "\n",
       "    <div>\n",
       "      \n",
       "      <progress value='1335' max='1335' style='width:300px; height:20px; vertical-align: middle;'></progress>\n",
       "      [1335/1335 20:07, Epoch 5/5]\n",
       "    </div>\n",
       "    <table border=\"1\" class=\"dataframe\">\n",
       "  <thead>\n",
       " <tr style=\"text-align: left;\">\n",
       "      <th>Epoch</th>\n",
       "      <th>Training Loss</th>\n",
       "      <th>Validation Loss</th>\n",
       "      <th>Accuracy</th>\n",
       "    </tr>\n",
       "  </thead>\n",
       "  <tbody>\n",
       "    <tr>\n",
       "      <td>1</td>\n",
       "      <td>0.297900</td>\n",
       "      <td>0.568192</td>\n",
       "      <td>0.940156</td>\n",
       "    </tr>\n",
       "    <tr>\n",
       "      <td>2</td>\n",
       "      <td>0.255700</td>\n",
       "      <td>0.362876</td>\n",
       "      <td>0.903381</td>\n",
       "    </tr>\n",
       "    <tr>\n",
       "      <td>3</td>\n",
       "      <td>0.109300</td>\n",
       "      <td>0.533944</td>\n",
       "      <td>0.911939</td>\n",
       "    </tr>\n",
       "    <tr>\n",
       "      <td>4</td>\n",
       "      <td>0.033300</td>\n",
       "      <td>0.527704</td>\n",
       "      <td>0.902796</td>\n",
       "    </tr>\n",
       "    <tr>\n",
       "      <td>5</td>\n",
       "      <td>0.136600</td>\n",
       "      <td>0.544033</td>\n",
       "      <td>0.899163</td>\n",
       "    </tr>\n",
       "  </tbody>\n",
       "</table><p>"
      ],
      "text/plain": [
       "<IPython.core.display.HTML object>"
      ]
     },
     "metadata": {},
     "output_type": "display_data"
    },
    {
     "name": "stderr",
     "output_type": "stream",
     "text": [
      "/home/kaustubh/miniforge3/envs/lora_esm/lib/python3.13/site-packages/peft/utils/save_and_load.py:246: UserWarning: Could not find a config file in  - will assume that the vocabulary was not modified.\n",
      "  warnings.warn(\n",
      "/home/kaustubh/miniforge3/envs/lora_esm/lib/python3.13/site-packages/torch/nn/parallel/_functions.py:70: UserWarning: Was asked to gather along dimension 0, but all input tensors were scalars; will instead unsqueeze and return a vector.\n",
      "  warnings.warn(\n",
      "/home/kaustubh/miniforge3/envs/lora_esm/lib/python3.13/site-packages/peft/utils/save_and_load.py:246: UserWarning: Could not find a config file in  - will assume that the vocabulary was not modified.\n",
      "  warnings.warn(\n",
      "/home/kaustubh/miniforge3/envs/lora_esm/lib/python3.13/site-packages/torch/nn/parallel/_functions.py:70: UserWarning: Was asked to gather along dimension 0, but all input tensors were scalars; will instead unsqueeze and return a vector.\n",
      "  warnings.warn(\n",
      "/home/kaustubh/miniforge3/envs/lora_esm/lib/python3.13/site-packages/peft/utils/save_and_load.py:246: UserWarning: Could not find a config file in  - will assume that the vocabulary was not modified.\n",
      "  warnings.warn(\n",
      "/home/kaustubh/miniforge3/envs/lora_esm/lib/python3.13/site-packages/torch/nn/parallel/_functions.py:70: UserWarning: Was asked to gather along dimension 0, but all input tensors were scalars; will instead unsqueeze and return a vector.\n",
      "  warnings.warn(\n",
      "/home/kaustubh/miniforge3/envs/lora_esm/lib/python3.13/site-packages/peft/utils/save_and_load.py:246: UserWarning: Could not find a config file in  - will assume that the vocabulary was not modified.\n",
      "  warnings.warn(\n",
      "/home/kaustubh/miniforge3/envs/lora_esm/lib/python3.13/site-packages/torch/nn/parallel/_functions.py:70: UserWarning: Was asked to gather along dimension 0, but all input tensors were scalars; will instead unsqueeze and return a vector.\n",
      "  warnings.warn(\n",
      "/home/kaustubh/miniforge3/envs/lora_esm/lib/python3.13/site-packages/peft/utils/save_and_load.py:246: UserWarning: Could not find a config file in  - will assume that the vocabulary was not modified.\n",
      "  warnings.warn(\n",
      "/home/kaustubh/miniforge3/envs/lora_esm/lib/python3.13/site-packages/torch/nn/parallel/_functions.py:70: UserWarning: Was asked to gather along dimension 0, but all input tensors were scalars; will instead unsqueeze and return a vector.\n",
      "  warnings.warn(\n",
      "/home/kaustubh/miniforge3/envs/lora_esm/lib/python3.13/site-packages/peft/utils/save_and_load.py:246: UserWarning: Could not find a config file in  - will assume that the vocabulary was not modified.\n",
      "  warnings.warn(\n"
     ]
    },
    {
     "name": "stdout",
     "output_type": "stream",
     "text": [
      "trainer: <transformers.trainer.Trainer object at 0x7f11685f7a10>\n",
      "Best current Metric: 0.9401564625850339\n",
      "Best trial metric: 0.9289863945578232\n",
      "Updating best trial\n",
      "Trial 5/10\n",
      "learning_rate:  0.000406\n",
      "OrderedDict({'active.all.allocated': 35323776, 'active.all.current': 4784, 'active.all.freed': 35318992, 'active.all.peak': 5763, 'active.large_pool.allocated': 21763242, 'active.large_pool.current': 1002, 'active.large_pool.freed': 21762240, 'active.large_pool.peak': 1503, 'active.small_pool.allocated': 13560534, 'active.small_pool.current': 3782, 'active.small_pool.freed': 13556752, 'active.small_pool.peak': 4360, 'active_bytes.all.allocated': 553708965446656, 'active_bytes.all.current': 13527589888, 'active_bytes.all.freed': 553695437856768, 'active_bytes.all.peak': 26653201408, 'active_bytes.large_pool.allocated': 551981828759552, 'active_bytes.large_pool.current': 13398231040, 'active_bytes.large_pool.freed': 551968430528512, 'active_bytes.large_pool.peak': 26492323840, 'active_bytes.small_pool.allocated': 1727136687104, 'active_bytes.small_pool.current': 129358848, 'active_bytes.small_pool.freed': 1727007328256, 'active_bytes.small_pool.peak': 161942528, 'allocated_bytes.all.allocated': 553708965446656, 'allocated_bytes.all.current': 13527589888, 'allocated_bytes.all.freed': 553695437856768, 'allocated_bytes.all.peak': 26653201408, 'allocated_bytes.large_pool.allocated': 551981828759552, 'allocated_bytes.large_pool.current': 13398231040, 'allocated_bytes.large_pool.freed': 551968430528512, 'allocated_bytes.large_pool.peak': 26492323840, 'allocated_bytes.small_pool.allocated': 1727136687104, 'allocated_bytes.small_pool.current': 129358848, 'allocated_bytes.small_pool.freed': 1727007328256, 'allocated_bytes.small_pool.peak': 161942528, 'allocation.all.allocated': 35323776, 'allocation.all.current': 4784, 'allocation.all.freed': 35318992, 'allocation.all.peak': 5763, 'allocation.large_pool.allocated': 21763242, 'allocation.large_pool.current': 1002, 'allocation.large_pool.freed': 21762240, 'allocation.large_pool.peak': 1503, 'allocation.small_pool.allocated': 13560534, 'allocation.small_pool.current': 3782, 'allocation.small_pool.freed': 13556752, 'allocation.small_pool.peak': 4360, 'inactive_split.all.allocated': 15653931, 'inactive_split.all.current': 316, 'inactive_split.all.freed': 15653615, 'inactive_split.all.peak': 591, 'inactive_split.large_pool.allocated': 11497371, 'inactive_split.large_pool.current': 226, 'inactive_split.large_pool.freed': 11497145, 'inactive_split.large_pool.peak': 337, 'inactive_split.small_pool.allocated': 4156560, 'inactive_split.small_pool.current': 90, 'inactive_split.small_pool.freed': 4156470, 'inactive_split.small_pool.peak': 256, 'inactive_split_bytes.all.allocated': 306740533883904, 'inactive_split_bytes.all.current': 322001920, 'inactive_split_bytes.all.freed': 306740211881984, 'inactive_split_bytes.all.peak': 2179820544, 'inactive_split_bytes.large_pool.allocated': 304813337619456, 'inactive_split_bytes.large_pool.current': 319240192, 'inactive_split_bytes.large_pool.freed': 304813018379264, 'inactive_split_bytes.large_pool.peak': 2169405440, 'inactive_split_bytes.small_pool.allocated': 1927196264448, 'inactive_split_bytes.small_pool.current': 2761728, 'inactive_split_bytes.small_pool.freed': 1927193502720, 'inactive_split_bytes.small_pool.peak': 33965056, 'max_split_size': -1, 'num_alloc_retries': 0, 'num_device_alloc': 1310, 'num_device_free': 692, 'num_ooms': 0, 'num_sync_all_streams': 10, 'oversize_allocations.allocated': 0, 'oversize_allocations.current': 0, 'oversize_allocations.freed': 0, 'oversize_allocations.peak': 0, 'oversize_segments.allocated': 0, 'oversize_segments.current': 0, 'oversize_segments.freed': 0, 'oversize_segments.peak': 0, 'requested_bytes.all.allocated': 553567520232888, 'requested_bytes.all.current': 13181484696, 'requested_bytes.all.freed': 553554338748192, 'requested_bytes.all.peak': 26307092212, 'requested_bytes.large_pool.allocated': 551842256072640, 'requested_bytes.large_pool.current': 13052200960, 'requested_bytes.large_pool.freed': 551829203871680, 'requested_bytes.large_pool.peak': 26146293760, 'requested_bytes.small_pool.allocated': 1725264160248, 'requested_bytes.small_pool.current': 129283736, 'requested_bytes.small_pool.freed': 1725134876512, 'requested_bytes.small_pool.peak': 161865444, 'reserved_bytes.all.allocated': 72609693696, 'reserved_bytes.all.current': 13849591808, 'reserved_bytes.all.freed': 58760101888, 'reserved_bytes.all.peak': 28542238720, 'reserved_bytes.large_pool.allocated': 72351744000, 'reserved_bytes.large_pool.current': 13717471232, 'reserved_bytes.large_pool.freed': 58634272768, 'reserved_bytes.large_pool.peak': 28378660864, 'reserved_bytes.small_pool.allocated': 257949696, 'reserved_bytes.small_pool.current': 132120576, 'reserved_bytes.small_pool.freed': 125829120, 'reserved_bytes.small_pool.peak': 163577856, 'segment.all.allocated': 1310, 'segment.all.current': 618, 'segment.all.freed': 692, 'segment.all.peak': 791, 'segment.large_pool.allocated': 1187, 'segment.large_pool.current': 555, 'segment.large_pool.freed': 632, 'segment.large_pool.peak': 713, 'segment.small_pool.allocated': 123, 'segment.small_pool.current': 63, 'segment.small_pool.freed': 60, 'segment.small_pool.peak': 78})\n"
     ]
    },
    {
     "name": "stderr",
     "output_type": "stream",
     "text": [
      "Some weights of EsmModel were not initialized from the model checkpoint at facebook/esm2_t33_650M_UR50D and are newly initialized: ['esm.pooler.dense.bias', 'esm.pooler.dense.weight']\n",
      "You should probably TRAIN this model on a down-stream task to be able to use it for predictions and inference.\n",
      "/home/kaustubh/miniforge3/envs/lora_esm/lib/python3.13/site-packages/torch/nn/parallel/_functions.py:70: UserWarning: Was asked to gather along dimension 0, but all input tensors were scalars; will instead unsqueeze and return a vector.\n",
      "  warnings.warn(\n"
     ]
    },
    {
     "data": {
      "text/html": [
       "\n",
       "    <div>\n",
       "      \n",
       "      <progress value='1335' max='1335' style='width:300px; height:20px; vertical-align: middle;'></progress>\n",
       "      [1335/1335 20:12, Epoch 5/5]\n",
       "    </div>\n",
       "    <table border=\"1\" class=\"dataframe\">\n",
       "  <thead>\n",
       " <tr style=\"text-align: left;\">\n",
       "      <th>Epoch</th>\n",
       "      <th>Training Loss</th>\n",
       "      <th>Validation Loss</th>\n",
       "      <th>Accuracy</th>\n",
       "    </tr>\n",
       "  </thead>\n",
       "  <tbody>\n",
       "    <tr>\n",
       "      <td>1</td>\n",
       "      <td>0.513300</td>\n",
       "      <td>0.601424</td>\n",
       "      <td>0.898483</td>\n",
       "    </tr>\n",
       "    <tr>\n",
       "      <td>2</td>\n",
       "      <td>0.239700</td>\n",
       "      <td>0.338764</td>\n",
       "      <td>0.917095</td>\n",
       "    </tr>\n",
       "    <tr>\n",
       "      <td>3</td>\n",
       "      <td>0.165900</td>\n",
       "      <td>0.365733</td>\n",
       "      <td>0.933109</td>\n",
       "    </tr>\n",
       "    <tr>\n",
       "      <td>4</td>\n",
       "      <td>0.051500</td>\n",
       "      <td>0.342664</td>\n",
       "      <td>0.937531</td>\n",
       "    </tr>\n",
       "    <tr>\n",
       "      <td>5</td>\n",
       "      <td>0.153700</td>\n",
       "      <td>0.345706</td>\n",
       "      <td>0.934374</td>\n",
       "    </tr>\n",
       "  </tbody>\n",
       "</table><p>"
      ],
      "text/plain": [
       "<IPython.core.display.HTML object>"
      ]
     },
     "metadata": {},
     "output_type": "display_data"
    },
    {
     "name": "stderr",
     "output_type": "stream",
     "text": [
      "/home/kaustubh/miniforge3/envs/lora_esm/lib/python3.13/site-packages/peft/utils/save_and_load.py:246: UserWarning: Could not find a config file in  - will assume that the vocabulary was not modified.\n",
      "  warnings.warn(\n",
      "/home/kaustubh/miniforge3/envs/lora_esm/lib/python3.13/site-packages/torch/nn/parallel/_functions.py:70: UserWarning: Was asked to gather along dimension 0, but all input tensors were scalars; will instead unsqueeze and return a vector.\n",
      "  warnings.warn(\n",
      "/home/kaustubh/miniforge3/envs/lora_esm/lib/python3.13/site-packages/peft/utils/save_and_load.py:246: UserWarning: Could not find a config file in  - will assume that the vocabulary was not modified.\n",
      "  warnings.warn(\n",
      "/home/kaustubh/miniforge3/envs/lora_esm/lib/python3.13/site-packages/torch/nn/parallel/_functions.py:70: UserWarning: Was asked to gather along dimension 0, but all input tensors were scalars; will instead unsqueeze and return a vector.\n",
      "  warnings.warn(\n",
      "/home/kaustubh/miniforge3/envs/lora_esm/lib/python3.13/site-packages/peft/utils/save_and_load.py:246: UserWarning: Could not find a config file in  - will assume that the vocabulary was not modified.\n",
      "  warnings.warn(\n",
      "/home/kaustubh/miniforge3/envs/lora_esm/lib/python3.13/site-packages/torch/nn/parallel/_functions.py:70: UserWarning: Was asked to gather along dimension 0, but all input tensors were scalars; will instead unsqueeze and return a vector.\n",
      "  warnings.warn(\n",
      "/home/kaustubh/miniforge3/envs/lora_esm/lib/python3.13/site-packages/peft/utils/save_and_load.py:246: UserWarning: Could not find a config file in  - will assume that the vocabulary was not modified.\n",
      "  warnings.warn(\n",
      "/home/kaustubh/miniforge3/envs/lora_esm/lib/python3.13/site-packages/torch/nn/parallel/_functions.py:70: UserWarning: Was asked to gather along dimension 0, but all input tensors were scalars; will instead unsqueeze and return a vector.\n",
      "  warnings.warn(\n",
      "/home/kaustubh/miniforge3/envs/lora_esm/lib/python3.13/site-packages/peft/utils/save_and_load.py:246: UserWarning: Could not find a config file in  - will assume that the vocabulary was not modified.\n",
      "  warnings.warn(\n",
      "/home/kaustubh/miniforge3/envs/lora_esm/lib/python3.13/site-packages/torch/nn/parallel/_functions.py:70: UserWarning: Was asked to gather along dimension 0, but all input tensors were scalars; will instead unsqueeze and return a vector.\n",
      "  warnings.warn(\n",
      "/home/kaustubh/miniforge3/envs/lora_esm/lib/python3.13/site-packages/peft/utils/save_and_load.py:246: UserWarning: Could not find a config file in  - will assume that the vocabulary was not modified.\n",
      "  warnings.warn(\n"
     ]
    },
    {
     "name": "stdout",
     "output_type": "stream",
     "text": [
      "trainer: <transformers.trainer.Trainer object at 0x7f11685f7a10>\n",
      "Best current Metric: 0.937530612244898\n",
      "Best trial metric: 0.9401564625850339\n",
      "Trial 6/10\n",
      "learning_rate:  0.000505\n",
      "OrderedDict({'active.all.allocated': 44154527, 'active.all.current': 5554, 'active.all.freed': 44148973, 'active.all.peak': 6533, 'active.large_pool.allocated': 27204002, 'active.large_pool.current': 1202, 'active.large_pool.freed': 27202800, 'active.large_pool.peak': 1703, 'active.small_pool.allocated': 16950525, 'active.small_pool.current': 4352, 'active.small_pool.freed': 16946173, 'active.small_pool.peak': 4930, 'active_bytes.all.allocated': 692114636532224, 'active_bytes.all.current': 16222464000, 'active_bytes.all.freed': 692098414068224, 'active_bytes.all.peak': 29348075520, 'active_bytes.large_pool.allocated': 689955720332288, 'active_bytes.large_pool.current': 16074469376, 'active_bytes.large_pool.freed': 689939645862912, 'active_bytes.large_pool.peak': 29168562176, 'active_bytes.small_pool.allocated': 2158916199936, 'active_bytes.small_pool.current': 147994624, 'active_bytes.small_pool.freed': 2158768205312, 'active_bytes.small_pool.peak': 180578304, 'allocated_bytes.all.allocated': 692114636532224, 'allocated_bytes.all.current': 16222464000, 'allocated_bytes.all.freed': 692098414068224, 'allocated_bytes.all.peak': 29348075520, 'allocated_bytes.large_pool.allocated': 689955720332288, 'allocated_bytes.large_pool.current': 16074469376, 'allocated_bytes.large_pool.freed': 689939645862912, 'allocated_bytes.large_pool.peak': 29168562176, 'allocated_bytes.small_pool.allocated': 2158916199936, 'allocated_bytes.small_pool.current': 147994624, 'allocated_bytes.small_pool.freed': 2158768205312, 'allocated_bytes.small_pool.peak': 180578304, 'allocation.all.allocated': 44154527, 'allocation.all.current': 5554, 'allocation.all.freed': 44148973, 'allocation.all.peak': 6533, 'allocation.large_pool.allocated': 27204002, 'allocation.large_pool.current': 1202, 'allocation.large_pool.freed': 27202800, 'allocation.large_pool.peak': 1703, 'allocation.small_pool.allocated': 16950525, 'allocation.small_pool.current': 4352, 'allocation.small_pool.freed': 16946173, 'allocation.small_pool.peak': 4930, 'inactive_split.all.allocated': 19456462, 'inactive_split.all.current': 373, 'inactive_split.all.freed': 19456089, 'inactive_split.all.peak': 643, 'inactive_split.large_pool.allocated': 14398108, 'inactive_split.large_pool.current': 270, 'inactive_split.large_pool.freed': 14397838, 'inactive_split.large_pool.peak': 381, 'inactive_split.small_pool.allocated': 5058354, 'inactive_split.small_pool.current': 103, 'inactive_split.small_pool.freed': 5058251, 'inactive_split.small_pool.peak': 263, 'inactive_split_bytes.all.allocated': 382390305588736, 'inactive_split_bytes.all.current': 368105472, 'inactive_split_bytes.all.freed': 382389937483264, 'inactive_split_bytes.all.peak': 2226029568, 'inactive_split_bytes.large_pool.allocated': 379981689985024, 'inactive_split_bytes.large_pool.current': 365105152, 'inactive_split_bytes.large_pool.freed': 379981324879872, 'inactive_split_bytes.large_pool.peak': 2215408640, 'inactive_split_bytes.small_pool.allocated': 2408615603712, 'inactive_split_bytes.small_pool.current': 3000320, 'inactive_split_bytes.small_pool.freed': 2408612603392, 'inactive_split_bytes.small_pool.peak': 34387968, 'max_split_size': -1, 'num_alloc_retries': 0, 'num_device_alloc': 1603, 'num_device_free': 866, 'num_ooms': 0, 'num_sync_all_streams': 12, 'oversize_allocations.allocated': 0, 'oversize_allocations.current': 0, 'oversize_allocations.freed': 0, 'oversize_allocations.peak': 0, 'oversize_segments.allocated': 0, 'oversize_segments.current': 0, 'oversize_segments.freed': 0, 'oversize_segments.peak': 0, 'requested_bytes.all.allocated': 691958739617900, 'requested_bytes.all.current': 15807138176, 'requested_bytes.all.freed': 691942932479724, 'requested_bytes.all.peak': 28932745692, 'requested_bytes.large_pool.allocated': 689802164072880, 'requested_bytes.large_pool.current': 15659233280, 'requested_bytes.large_pool.freed': 689786504839600, 'requested_bytes.large_pool.peak': 28753326080, 'requested_bytes.small_pool.allocated': 2156575545020, 'requested_bytes.small_pool.current': 147904896, 'requested_bytes.small_pool.freed': 2156427640124, 'requested_bytes.small_pool.peak': 180486604, 'reserved_bytes.all.allocated': 90060095488, 'reserved_bytes.all.current': 16590569472, 'reserved_bytes.all.freed': 73469526016, 'reserved_bytes.all.peak': 31299993600, 'reserved_bytes.large_pool.allocated': 89751814144, 'reserved_bytes.large_pool.current': 16439574528, 'reserved_bytes.large_pool.freed': 73312239616, 'reserved_bytes.large_pool.peak': 31117541376, 'reserved_bytes.small_pool.allocated': 308281344, 'reserved_bytes.small_pool.current': 150994944, 'reserved_bytes.small_pool.freed': 157286400, 'reserved_bytes.small_pool.peak': 182452224, 'segment.all.allocated': 1603, 'segment.all.current': 737, 'segment.all.freed': 866, 'segment.all.peak': 911, 'segment.large_pool.allocated': 1456, 'segment.large_pool.current': 665, 'segment.large_pool.freed': 791, 'segment.large_pool.peak': 824, 'segment.small_pool.allocated': 147, 'segment.small_pool.current': 72, 'segment.small_pool.freed': 75, 'segment.small_pool.peak': 87})\n"
     ]
    },
    {
     "name": "stderr",
     "output_type": "stream",
     "text": [
      "Some weights of EsmModel were not initialized from the model checkpoint at facebook/esm2_t33_650M_UR50D and are newly initialized: ['esm.pooler.dense.bias', 'esm.pooler.dense.weight']\n",
      "You should probably TRAIN this model on a down-stream task to be able to use it for predictions and inference.\n",
      "/home/kaustubh/miniforge3/envs/lora_esm/lib/python3.13/site-packages/torch/nn/parallel/_functions.py:70: UserWarning: Was asked to gather along dimension 0, but all input tensors were scalars; will instead unsqueeze and return a vector.\n",
      "  warnings.warn(\n"
     ]
    },
    {
     "data": {
      "text/html": [
       "\n",
       "    <div>\n",
       "      \n",
       "      <progress value='1335' max='1335' style='width:300px; height:20px; vertical-align: middle;'></progress>\n",
       "      [1335/1335 20:11, Epoch 5/5]\n",
       "    </div>\n",
       "    <table border=\"1\" class=\"dataframe\">\n",
       "  <thead>\n",
       " <tr style=\"text-align: left;\">\n",
       "      <th>Epoch</th>\n",
       "      <th>Training Loss</th>\n",
       "      <th>Validation Loss</th>\n",
       "      <th>Accuracy</th>\n",
       "    </tr>\n",
       "  </thead>\n",
       "  <tbody>\n",
       "    <tr>\n",
       "      <td>1</td>\n",
       "      <td>0.252100</td>\n",
       "      <td>0.445495</td>\n",
       "      <td>0.955857</td>\n",
       "    </tr>\n",
       "    <tr>\n",
       "      <td>2</td>\n",
       "      <td>0.191500</td>\n",
       "      <td>0.335730</td>\n",
       "      <td>0.925408</td>\n",
       "    </tr>\n",
       "    <tr>\n",
       "      <td>3</td>\n",
       "      <td>0.122300</td>\n",
       "      <td>0.396333</td>\n",
       "      <td>0.919748</td>\n",
       "    </tr>\n",
       "    <tr>\n",
       "      <td>4</td>\n",
       "      <td>0.039300</td>\n",
       "      <td>0.451695</td>\n",
       "      <td>0.890633</td>\n",
       "    </tr>\n",
       "    <tr>\n",
       "      <td>5</td>\n",
       "      <td>0.090800</td>\n",
       "      <td>0.602004</td>\n",
       "      <td>0.889585</td>\n",
       "    </tr>\n",
       "  </tbody>\n",
       "</table><p>"
      ],
      "text/plain": [
       "<IPython.core.display.HTML object>"
      ]
     },
     "metadata": {},
     "output_type": "display_data"
    },
    {
     "name": "stderr",
     "output_type": "stream",
     "text": [
      "/home/kaustubh/miniforge3/envs/lora_esm/lib/python3.13/site-packages/peft/utils/save_and_load.py:246: UserWarning: Could not find a config file in  - will assume that the vocabulary was not modified.\n",
      "  warnings.warn(\n",
      "/home/kaustubh/miniforge3/envs/lora_esm/lib/python3.13/site-packages/torch/nn/parallel/_functions.py:70: UserWarning: Was asked to gather along dimension 0, but all input tensors were scalars; will instead unsqueeze and return a vector.\n",
      "  warnings.warn(\n",
      "/home/kaustubh/miniforge3/envs/lora_esm/lib/python3.13/site-packages/peft/utils/save_and_load.py:246: UserWarning: Could not find a config file in  - will assume that the vocabulary was not modified.\n",
      "  warnings.warn(\n",
      "/home/kaustubh/miniforge3/envs/lora_esm/lib/python3.13/site-packages/torch/nn/parallel/_functions.py:70: UserWarning: Was asked to gather along dimension 0, but all input tensors were scalars; will instead unsqueeze and return a vector.\n",
      "  warnings.warn(\n",
      "/home/kaustubh/miniforge3/envs/lora_esm/lib/python3.13/site-packages/peft/utils/save_and_load.py:246: UserWarning: Could not find a config file in  - will assume that the vocabulary was not modified.\n",
      "  warnings.warn(\n",
      "/home/kaustubh/miniforge3/envs/lora_esm/lib/python3.13/site-packages/torch/nn/parallel/_functions.py:70: UserWarning: Was asked to gather along dimension 0, but all input tensors were scalars; will instead unsqueeze and return a vector.\n",
      "  warnings.warn(\n",
      "/home/kaustubh/miniforge3/envs/lora_esm/lib/python3.13/site-packages/peft/utils/save_and_load.py:246: UserWarning: Could not find a config file in  - will assume that the vocabulary was not modified.\n",
      "  warnings.warn(\n",
      "/home/kaustubh/miniforge3/envs/lora_esm/lib/python3.13/site-packages/torch/nn/parallel/_functions.py:70: UserWarning: Was asked to gather along dimension 0, but all input tensors were scalars; will instead unsqueeze and return a vector.\n",
      "  warnings.warn(\n",
      "/home/kaustubh/miniforge3/envs/lora_esm/lib/python3.13/site-packages/peft/utils/save_and_load.py:246: UserWarning: Could not find a config file in  - will assume that the vocabulary was not modified.\n",
      "  warnings.warn(\n",
      "/home/kaustubh/miniforge3/envs/lora_esm/lib/python3.13/site-packages/torch/nn/parallel/_functions.py:70: UserWarning: Was asked to gather along dimension 0, but all input tensors were scalars; will instead unsqueeze and return a vector.\n",
      "  warnings.warn(\n",
      "/home/kaustubh/miniforge3/envs/lora_esm/lib/python3.13/site-packages/peft/utils/save_and_load.py:246: UserWarning: Could not find a config file in  - will assume that the vocabulary was not modified.\n",
      "  warnings.warn(\n"
     ]
    },
    {
     "name": "stdout",
     "output_type": "stream",
     "text": [
      "trainer: <transformers.trainer.Trainer object at 0x7f11685f7a10>\n",
      "Best current Metric: 0.9558571428571428\n",
      "Best trial metric: 0.9401564625850339\n",
      "Updating best trial\n",
      "Trial 7/10\n",
      "learning_rate:  0.0006039999999999999\n",
      "OrderedDict({'active.all.allocated': 52985278, 'active.all.current': 6324, 'active.all.freed': 52978954, 'active.all.peak': 7303, 'active.large_pool.allocated': 32644762, 'active.large_pool.current': 1402, 'active.large_pool.freed': 32643360, 'active.large_pool.peak': 1903, 'active.small_pool.allocated': 20340516, 'active.small_pool.current': 4922, 'active.small_pool.freed': 20335594, 'active.small_pool.peak': 5500, 'active_bytes.all.allocated': 830520307617792, 'active_bytes.all.current': 18917338112, 'active_bytes.all.freed': 830501390279680, 'active_bytes.all.peak': 32042949632, 'active_bytes.large_pool.allocated': 827929611905024, 'active_bytes.large_pool.current': 18750707712, 'active_bytes.large_pool.freed': 827910861197312, 'active_bytes.large_pool.peak': 31844800512, 'active_bytes.small_pool.allocated': 2590695712768, 'active_bytes.small_pool.current': 166630400, 'active_bytes.small_pool.freed': 2590529082368, 'active_bytes.small_pool.peak': 199214080, 'allocated_bytes.all.allocated': 830520307617792, 'allocated_bytes.all.current': 18917338112, 'allocated_bytes.all.freed': 830501390279680, 'allocated_bytes.all.peak': 32042949632, 'allocated_bytes.large_pool.allocated': 827929611905024, 'allocated_bytes.large_pool.current': 18750707712, 'allocated_bytes.large_pool.freed': 827910861197312, 'allocated_bytes.large_pool.peak': 31844800512, 'allocated_bytes.small_pool.allocated': 2590695712768, 'allocated_bytes.small_pool.current': 166630400, 'allocated_bytes.small_pool.freed': 2590529082368, 'allocated_bytes.small_pool.peak': 199214080, 'allocation.all.allocated': 52985278, 'allocation.all.current': 6324, 'allocation.all.freed': 52978954, 'allocation.all.peak': 7303, 'allocation.large_pool.allocated': 32644762, 'allocation.large_pool.current': 1402, 'allocation.large_pool.freed': 32643360, 'allocation.large_pool.peak': 1903, 'allocation.small_pool.allocated': 20340516, 'allocation.small_pool.current': 4922, 'allocation.small_pool.freed': 20335594, 'allocation.small_pool.peak': 5500, 'inactive_split.all.allocated': 23437640, 'inactive_split.all.current': 429, 'inactive_split.all.freed': 23437211, 'inactive_split.all.peak': 708, 'inactive_split.large_pool.allocated': 17316089, 'inactive_split.large_pool.current': 315, 'inactive_split.large_pool.freed': 17315774, 'inactive_split.large_pool.peak': 425, 'inactive_split.small_pool.allocated': 6121551, 'inactive_split.small_pool.current': 114, 'inactive_split.small_pool.freed': 6121437, 'inactive_split.small_pool.peak': 283, 'inactive_split_bytes.all.allocated': 458596539732992, 'inactive_split_bytes.all.current': 433083392, 'inactive_split_bytes.all.freed': 458596106649600, 'inactive_split_bytes.all.peak': 2293137408, 'inactive_split_bytes.large_pool.allocated': 455705412717568, 'inactive_split_bytes.large_pool.current': 431941632, 'inactive_split_bytes.large_pool.freed': 455704980775936, 'inactive_split_bytes.large_pool.peak': 2282245120, 'inactive_split_bytes.small_pool.allocated': 2891127015424, 'inactive_split_bytes.small_pool.current': 1141760, 'inactive_split_bytes.small_pool.freed': 2891125873664, 'inactive_split_bytes.small_pool.peak': 35031040, 'max_split_size': -1, 'num_alloc_retries': 0, 'num_device_alloc': 1896, 'num_device_free': 1040, 'num_ooms': 0, 'num_sync_all_streams': 14, 'oversize_allocations.allocated': 0, 'oversize_allocations.current': 0, 'oversize_allocations.freed': 0, 'oversize_allocations.peak': 0, 'oversize_segments.allocated': 0, 'oversize_segments.current': 0, 'oversize_segments.freed': 0, 'oversize_segments.peak': 0, 'requested_bytes.all.allocated': 830349959002912, 'requested_bytes.all.current': 18432791656, 'requested_bytes.all.freed': 830331526211256, 'requested_bytes.all.peak': 31558399172, 'requested_bytes.large_pool.allocated': 827762072073120, 'requested_bytes.large_pool.current': 18266265600, 'requested_bytes.large_pool.freed': 827743805807520, 'requested_bytes.large_pool.peak': 31360358400, 'requested_bytes.small_pool.allocated': 2587886929792, 'requested_bytes.small_pool.current': 166526056, 'requested_bytes.small_pool.freed': 2587720403736, 'requested_bytes.small_pool.peak': 199107764, 'reserved_bytes.all.allocated': 107520983040, 'reserved_bytes.all.current': 19350421504, 'reserved_bytes.all.freed': 88170561536, 'reserved_bytes.all.peak': 34051457024, 'reserved_bytes.large_pool.allocated': 107162370048, 'reserved_bytes.large_pool.current': 19182649344, 'reserved_bytes.large_pool.freed': 87979720704, 'reserved_bytes.large_pool.peak': 33850130432, 'reserved_bytes.small_pool.allocated': 358612992, 'reserved_bytes.small_pool.current': 167772160, 'reserved_bytes.small_pool.freed': 190840832, 'reserved_bytes.small_pool.peak': 201326592, 'segment.all.allocated': 1896, 'segment.all.current': 856, 'segment.all.freed': 1040, 'segment.all.peak': 1030, 'segment.large_pool.allocated': 1725, 'segment.large_pool.current': 776, 'segment.large_pool.freed': 949, 'segment.large_pool.peak': 934, 'segment.small_pool.allocated': 171, 'segment.small_pool.current': 80, 'segment.small_pool.freed': 91, 'segment.small_pool.peak': 96})\n"
     ]
    },
    {
     "name": "stderr",
     "output_type": "stream",
     "text": [
      "Some weights of EsmModel were not initialized from the model checkpoint at facebook/esm2_t33_650M_UR50D and are newly initialized: ['esm.pooler.dense.bias', 'esm.pooler.dense.weight']\n",
      "You should probably TRAIN this model on a down-stream task to be able to use it for predictions and inference.\n",
      "/home/kaustubh/miniforge3/envs/lora_esm/lib/python3.13/site-packages/torch/nn/parallel/_functions.py:70: UserWarning: Was asked to gather along dimension 0, but all input tensors were scalars; will instead unsqueeze and return a vector.\n",
      "  warnings.warn(\n"
     ]
    },
    {
     "data": {
      "text/html": [
       "\n",
       "    <div>\n",
       "      \n",
       "      <progress value='1335' max='1335' style='width:300px; height:20px; vertical-align: middle;'></progress>\n",
       "      [1335/1335 20:11, Epoch 5/5]\n",
       "    </div>\n",
       "    <table border=\"1\" class=\"dataframe\">\n",
       "  <thead>\n",
       " <tr style=\"text-align: left;\">\n",
       "      <th>Epoch</th>\n",
       "      <th>Training Loss</th>\n",
       "      <th>Validation Loss</th>\n",
       "      <th>Accuracy</th>\n",
       "    </tr>\n",
       "  </thead>\n",
       "  <tbody>\n",
       "    <tr>\n",
       "      <td>1</td>\n",
       "      <td>0.298500</td>\n",
       "      <td>0.446513</td>\n",
       "      <td>0.943503</td>\n",
       "    </tr>\n",
       "    <tr>\n",
       "      <td>2</td>\n",
       "      <td>0.190100</td>\n",
       "      <td>0.330047</td>\n",
       "      <td>0.948211</td>\n",
       "    </tr>\n",
       "    <tr>\n",
       "      <td>3</td>\n",
       "      <td>0.097300</td>\n",
       "      <td>0.234848</td>\n",
       "      <td>0.957340</td>\n",
       "    </tr>\n",
       "    <tr>\n",
       "      <td>4</td>\n",
       "      <td>0.034700</td>\n",
       "      <td>0.312380</td>\n",
       "      <td>0.954129</td>\n",
       "    </tr>\n",
       "    <tr>\n",
       "      <td>5</td>\n",
       "      <td>0.088300</td>\n",
       "      <td>0.302057</td>\n",
       "      <td>0.949912</td>\n",
       "    </tr>\n",
       "  </tbody>\n",
       "</table><p>"
      ],
      "text/plain": [
       "<IPython.core.display.HTML object>"
      ]
     },
     "metadata": {},
     "output_type": "display_data"
    },
    {
     "name": "stderr",
     "output_type": "stream",
     "text": [
      "/home/kaustubh/miniforge3/envs/lora_esm/lib/python3.13/site-packages/peft/utils/save_and_load.py:246: UserWarning: Could not find a config file in  - will assume that the vocabulary was not modified.\n",
      "  warnings.warn(\n",
      "/home/kaustubh/miniforge3/envs/lora_esm/lib/python3.13/site-packages/torch/nn/parallel/_functions.py:70: UserWarning: Was asked to gather along dimension 0, but all input tensors were scalars; will instead unsqueeze and return a vector.\n",
      "  warnings.warn(\n",
      "/home/kaustubh/miniforge3/envs/lora_esm/lib/python3.13/site-packages/peft/utils/save_and_load.py:246: UserWarning: Could not find a config file in  - will assume that the vocabulary was not modified.\n",
      "  warnings.warn(\n",
      "/home/kaustubh/miniforge3/envs/lora_esm/lib/python3.13/site-packages/torch/nn/parallel/_functions.py:70: UserWarning: Was asked to gather along dimension 0, but all input tensors were scalars; will instead unsqueeze and return a vector.\n",
      "  warnings.warn(\n",
      "/home/kaustubh/miniforge3/envs/lora_esm/lib/python3.13/site-packages/peft/utils/save_and_load.py:246: UserWarning: Could not find a config file in  - will assume that the vocabulary was not modified.\n",
      "  warnings.warn(\n",
      "/home/kaustubh/miniforge3/envs/lora_esm/lib/python3.13/site-packages/torch/nn/parallel/_functions.py:70: UserWarning: Was asked to gather along dimension 0, but all input tensors were scalars; will instead unsqueeze and return a vector.\n",
      "  warnings.warn(\n",
      "/home/kaustubh/miniforge3/envs/lora_esm/lib/python3.13/site-packages/peft/utils/save_and_load.py:246: UserWarning: Could not find a config file in  - will assume that the vocabulary was not modified.\n",
      "  warnings.warn(\n",
      "/home/kaustubh/miniforge3/envs/lora_esm/lib/python3.13/site-packages/torch/nn/parallel/_functions.py:70: UserWarning: Was asked to gather along dimension 0, but all input tensors were scalars; will instead unsqueeze and return a vector.\n",
      "  warnings.warn(\n",
      "/home/kaustubh/miniforge3/envs/lora_esm/lib/python3.13/site-packages/peft/utils/save_and_load.py:246: UserWarning: Could not find a config file in  - will assume that the vocabulary was not modified.\n",
      "  warnings.warn(\n",
      "/home/kaustubh/miniforge3/envs/lora_esm/lib/python3.13/site-packages/torch/nn/parallel/_functions.py:70: UserWarning: Was asked to gather along dimension 0, but all input tensors were scalars; will instead unsqueeze and return a vector.\n",
      "  warnings.warn(\n",
      "/home/kaustubh/miniforge3/envs/lora_esm/lib/python3.13/site-packages/peft/utils/save_and_load.py:246: UserWarning: Could not find a config file in  - will assume that the vocabulary was not modified.\n",
      "  warnings.warn(\n"
     ]
    },
    {
     "name": "stdout",
     "output_type": "stream",
     "text": [
      "trainer: <transformers.trainer.Trainer object at 0x7f11685f7a10>\n",
      "Best current Metric: 0.9573401360544218\n",
      "Best trial metric: 0.9558571428571428\n",
      "Updating best trial\n",
      "Trial 8/10\n",
      "learning_rate:  0.000703\n",
      "OrderedDict({'active.all.allocated': 61816029, 'active.all.current': 7094, 'active.all.freed': 61808935, 'active.all.peak': 8073, 'active.large_pool.allocated': 38085522, 'active.large_pool.current': 1602, 'active.large_pool.freed': 38083920, 'active.large_pool.peak': 2103, 'active.small_pool.allocated': 23730507, 'active.small_pool.current': 5492, 'active.small_pool.freed': 23725015, 'active.small_pool.peak': 6070, 'active_bytes.all.allocated': 968967560384000, 'active_bytes.all.current': 21612212224, 'active_bytes.all.freed': 968945948171776, 'active_bytes.all.peak': 34737823744, 'active_bytes.large_pool.allocated': 965945085158400, 'active_bytes.large_pool.current': 21426946048, 'active_bytes.large_pool.freed': 965923658212352, 'active_bytes.large_pool.peak': 34521038848, 'active_bytes.small_pool.allocated': 3022475225600, 'active_bytes.small_pool.current': 185266176, 'active_bytes.small_pool.freed': 3022289959424, 'active_bytes.small_pool.peak': 217849856, 'allocated_bytes.all.allocated': 968967560384000, 'allocated_bytes.all.current': 21612212224, 'allocated_bytes.all.freed': 968945948171776, 'allocated_bytes.all.peak': 34737823744, 'allocated_bytes.large_pool.allocated': 965945085158400, 'allocated_bytes.large_pool.current': 21426946048, 'allocated_bytes.large_pool.freed': 965923658212352, 'allocated_bytes.large_pool.peak': 34521038848, 'allocated_bytes.small_pool.allocated': 3022475225600, 'allocated_bytes.small_pool.current': 185266176, 'allocated_bytes.small_pool.freed': 3022289959424, 'allocated_bytes.small_pool.peak': 217849856, 'allocation.all.allocated': 61816029, 'allocation.all.current': 7094, 'allocation.all.freed': 61808935, 'allocation.all.peak': 8073, 'allocation.large_pool.allocated': 38085522, 'allocation.large_pool.current': 1602, 'allocation.large_pool.freed': 38083920, 'allocation.large_pool.peak': 2103, 'allocation.small_pool.allocated': 23730507, 'allocation.small_pool.current': 5492, 'allocation.small_pool.freed': 23725015, 'allocation.small_pool.peak': 6070, 'inactive_split.all.allocated': 27378535, 'inactive_split.all.current': 485, 'inactive_split.all.freed': 27378050, 'inactive_split.all.peak': 755, 'inactive_split.large_pool.allocated': 20147363, 'inactive_split.large_pool.current': 360, 'inactive_split.large_pool.freed': 20147003, 'inactive_split.large_pool.peak': 471, 'inactive_split.small_pool.allocated': 7231172, 'inactive_split.small_pool.current': 125, 'inactive_split.small_pool.freed': 7231047, 'inactive_split.small_pool.peak': 285, 'inactive_split_bytes.all.allocated': 535206720195072, 'inactive_split_bytes.all.current': 500158464, 'inactive_split_bytes.all.freed': 535206220036608, 'inactive_split_bytes.all.peak': 2362244608, 'inactive_split_bytes.large_pool.allocated': 531831810225152, 'inactive_split_bytes.large_pool.current': 498778112, 'inactive_split_bytes.large_pool.freed': 531831311447040, 'inactive_split_bytes.large_pool.peak': 2348943360, 'inactive_split_bytes.small_pool.allocated': 3374909969920, 'inactive_split_bytes.small_pool.current': 1380352, 'inactive_split_bytes.small_pool.freed': 3374908589568, 'inactive_split_bytes.small_pool.peak': 35525632, 'max_split_size': -1, 'num_alloc_retries': 0, 'num_device_alloc': 2190, 'num_device_free': 1214, 'num_ooms': 0, 'num_sync_all_streams': 16, 'oversize_allocations.allocated': 0, 'oversize_allocations.current': 0, 'oversize_allocations.freed': 0, 'oversize_allocations.peak': 0, 'oversize_segments.allocated': 0, 'oversize_segments.current': 0, 'oversize_segments.freed': 0, 'oversize_segments.peak': 0, 'requested_bytes.all.allocated': 968741178387924, 'requested_bytes.all.current': 21058445136, 'requested_bytes.all.freed': 968720119942788, 'requested_bytes.all.peak': 34184052652, 'requested_bytes.large_pool.allocated': 965721980073360, 'requested_bytes.large_pool.current': 20873297920, 'requested_bytes.large_pool.freed': 965701106775440, 'requested_bytes.large_pool.peak': 33967390720, 'requested_bytes.small_pool.allocated': 3019198314564, 'requested_bytes.small_pool.current': 185147216, 'requested_bytes.small_pool.freed': 3019013167348, 'requested_bytes.small_pool.peak': 217728924, 'reserved_bytes.all.allocated': 124977676288, 'reserved_bytes.all.current': 22112370688, 'reserved_bytes.all.freed': 102865305600, 'reserved_bytes.all.peak': 36807114752, 'reserved_bytes.large_pool.allocated': 124566634496, 'reserved_bytes.large_pool.current': 21925724160, 'reserved_bytes.large_pool.freed': 102640910336, 'reserved_bytes.large_pool.peak': 36586913792, 'reserved_bytes.small_pool.allocated': 411041792, 'reserved_bytes.small_pool.current': 186646528, 'reserved_bytes.small_pool.freed': 224395264, 'reserved_bytes.small_pool.peak': 220200960, 'segment.all.allocated': 2190, 'segment.all.current': 976, 'segment.all.freed': 1214, 'segment.all.peak': 1150, 'segment.large_pool.allocated': 1994, 'segment.large_pool.current': 887, 'segment.large_pool.freed': 1107, 'segment.large_pool.peak': 1045, 'segment.small_pool.allocated': 196, 'segment.small_pool.current': 89, 'segment.small_pool.freed': 107, 'segment.small_pool.peak': 105})\n"
     ]
    },
    {
     "name": "stderr",
     "output_type": "stream",
     "text": [
      "Some weights of EsmModel were not initialized from the model checkpoint at facebook/esm2_t33_650M_UR50D and are newly initialized: ['esm.pooler.dense.bias', 'esm.pooler.dense.weight']\n",
      "You should probably TRAIN this model on a down-stream task to be able to use it for predictions and inference.\n",
      "/home/kaustubh/miniforge3/envs/lora_esm/lib/python3.13/site-packages/torch/nn/parallel/_functions.py:70: UserWarning: Was asked to gather along dimension 0, but all input tensors were scalars; will instead unsqueeze and return a vector.\n",
      "  warnings.warn(\n"
     ]
    },
    {
     "data": {
      "text/html": [
       "\n",
       "    <div>\n",
       "      \n",
       "      <progress value='1335' max='1335' style='width:300px; height:20px; vertical-align: middle;'></progress>\n",
       "      [1335/1335 20:12, Epoch 5/5]\n",
       "    </div>\n",
       "    <table border=\"1\" class=\"dataframe\">\n",
       "  <thead>\n",
       " <tr style=\"text-align: left;\">\n",
       "      <th>Epoch</th>\n",
       "      <th>Training Loss</th>\n",
       "      <th>Validation Loss</th>\n",
       "      <th>Accuracy</th>\n",
       "    </tr>\n",
       "  </thead>\n",
       "  <tbody>\n",
       "    <tr>\n",
       "      <td>1</td>\n",
       "      <td>0.292800</td>\n",
       "      <td>0.481479</td>\n",
       "      <td>0.904551</td>\n",
       "    </tr>\n",
       "    <tr>\n",
       "      <td>2</td>\n",
       "      <td>0.276000</td>\n",
       "      <td>0.267927</td>\n",
       "      <td>0.963844</td>\n",
       "    </tr>\n",
       "    <tr>\n",
       "      <td>3</td>\n",
       "      <td>0.148800</td>\n",
       "      <td>0.243577</td>\n",
       "      <td>0.966782</td>\n",
       "    </tr>\n",
       "    <tr>\n",
       "      <td>4</td>\n",
       "      <td>0.048100</td>\n",
       "      <td>0.171775</td>\n",
       "      <td>0.964592</td>\n",
       "    </tr>\n",
       "    <tr>\n",
       "      <td>5</td>\n",
       "      <td>0.131100</td>\n",
       "      <td>0.203544</td>\n",
       "      <td>0.964878</td>\n",
       "    </tr>\n",
       "  </tbody>\n",
       "</table><p>"
      ],
      "text/plain": [
       "<IPython.core.display.HTML object>"
      ]
     },
     "metadata": {},
     "output_type": "display_data"
    },
    {
     "name": "stderr",
     "output_type": "stream",
     "text": [
      "/home/kaustubh/miniforge3/envs/lora_esm/lib/python3.13/site-packages/peft/utils/save_and_load.py:246: UserWarning: Could not find a config file in  - will assume that the vocabulary was not modified.\n",
      "  warnings.warn(\n",
      "/home/kaustubh/miniforge3/envs/lora_esm/lib/python3.13/site-packages/torch/nn/parallel/_functions.py:70: UserWarning: Was asked to gather along dimension 0, but all input tensors were scalars; will instead unsqueeze and return a vector.\n",
      "  warnings.warn(\n",
      "/home/kaustubh/miniforge3/envs/lora_esm/lib/python3.13/site-packages/peft/utils/save_and_load.py:246: UserWarning: Could not find a config file in  - will assume that the vocabulary was not modified.\n",
      "  warnings.warn(\n",
      "/home/kaustubh/miniforge3/envs/lora_esm/lib/python3.13/site-packages/torch/nn/parallel/_functions.py:70: UserWarning: Was asked to gather along dimension 0, but all input tensors were scalars; will instead unsqueeze and return a vector.\n",
      "  warnings.warn(\n",
      "/home/kaustubh/miniforge3/envs/lora_esm/lib/python3.13/site-packages/peft/utils/save_and_load.py:246: UserWarning: Could not find a config file in  - will assume that the vocabulary was not modified.\n",
      "  warnings.warn(\n",
      "/home/kaustubh/miniforge3/envs/lora_esm/lib/python3.13/site-packages/torch/nn/parallel/_functions.py:70: UserWarning: Was asked to gather along dimension 0, but all input tensors were scalars; will instead unsqueeze and return a vector.\n",
      "  warnings.warn(\n",
      "/home/kaustubh/miniforge3/envs/lora_esm/lib/python3.13/site-packages/peft/utils/save_and_load.py:246: UserWarning: Could not find a config file in  - will assume that the vocabulary was not modified.\n",
      "  warnings.warn(\n",
      "/home/kaustubh/miniforge3/envs/lora_esm/lib/python3.13/site-packages/torch/nn/parallel/_functions.py:70: UserWarning: Was asked to gather along dimension 0, but all input tensors were scalars; will instead unsqueeze and return a vector.\n",
      "  warnings.warn(\n",
      "/home/kaustubh/miniforge3/envs/lora_esm/lib/python3.13/site-packages/peft/utils/save_and_load.py:246: UserWarning: Could not find a config file in  - will assume that the vocabulary was not modified.\n",
      "  warnings.warn(\n",
      "/home/kaustubh/miniforge3/envs/lora_esm/lib/python3.13/site-packages/torch/nn/parallel/_functions.py:70: UserWarning: Was asked to gather along dimension 0, but all input tensors were scalars; will instead unsqueeze and return a vector.\n",
      "  warnings.warn(\n",
      "/home/kaustubh/miniforge3/envs/lora_esm/lib/python3.13/site-packages/peft/utils/save_and_load.py:246: UserWarning: Could not find a config file in  - will assume that the vocabulary was not modified.\n",
      "  warnings.warn(\n"
     ]
    },
    {
     "name": "stdout",
     "output_type": "stream",
     "text": [
      "trainer: <transformers.trainer.Trainer object at 0x7f11685f7a10>\n",
      "Best current Metric: 0.96678231292517\n",
      "Best trial metric: 0.9573401360544218\n",
      "Updating best trial\n",
      "Trial 9/10\n",
      "learning_rate:  0.000802\n",
      "OrderedDict({'active.all.allocated': 70646780, 'active.all.current': 7864, 'active.all.freed': 70638916, 'active.all.peak': 8843, 'active.large_pool.allocated': 43526282, 'active.large_pool.current': 1802, 'active.large_pool.freed': 43524480, 'active.large_pool.peak': 2303, 'active.small_pool.allocated': 27120498, 'active.small_pool.current': 6062, 'active.small_pool.freed': 27114436, 'active.small_pool.peak': 6640, 'active_bytes.all.allocated': 1107373231469568, 'active_bytes.all.current': 24307086336, 'active_bytes.all.freed': 1107348924383232, 'active_bytes.all.peak': 37432697856, 'active_bytes.large_pool.allocated': 1103918976731136, 'active_bytes.large_pool.current': 24103184384, 'active_bytes.large_pool.freed': 1103894873546752, 'active_bytes.large_pool.peak': 37197277184, 'active_bytes.small_pool.allocated': 3454254738432, 'active_bytes.small_pool.current': 203901952, 'active_bytes.small_pool.freed': 3454050836480, 'active_bytes.small_pool.peak': 236485632, 'allocated_bytes.all.allocated': 1107373231469568, 'allocated_bytes.all.current': 24307086336, 'allocated_bytes.all.freed': 1107348924383232, 'allocated_bytes.all.peak': 37432697856, 'allocated_bytes.large_pool.allocated': 1103918976731136, 'allocated_bytes.large_pool.current': 24103184384, 'allocated_bytes.large_pool.freed': 1103894873546752, 'allocated_bytes.large_pool.peak': 37197277184, 'allocated_bytes.small_pool.allocated': 3454254738432, 'allocated_bytes.small_pool.current': 203901952, 'allocated_bytes.small_pool.freed': 3454050836480, 'allocated_bytes.small_pool.peak': 236485632, 'allocation.all.allocated': 70646780, 'allocation.all.current': 7864, 'allocation.all.freed': 70638916, 'allocation.all.peak': 8843, 'allocation.large_pool.allocated': 43526282, 'allocation.large_pool.current': 1802, 'allocation.large_pool.freed': 43524480, 'allocation.large_pool.peak': 2303, 'allocation.small_pool.allocated': 27120498, 'allocation.small_pool.current': 6062, 'allocation.small_pool.freed': 27114436, 'allocation.small_pool.peak': 6640, 'inactive_split.all.allocated': 31403902, 'inactive_split.all.current': 549, 'inactive_split.all.freed': 31403353, 'inactive_split.all.peak': 812, 'inactive_split.large_pool.allocated': 23048399, 'inactive_split.large_pool.current': 404, 'inactive_split.large_pool.freed': 23047995, 'inactive_split.large_pool.peak': 515, 'inactive_split.small_pool.allocated': 8355503, 'inactive_split.small_pool.current': 145, 'inactive_split.small_pool.freed': 8355358, 'inactive_split.small_pool.peak': 299, 'inactive_split_bytes.all.allocated': 610862575896576, 'inactive_split_bytes.all.current': 546262016, 'inactive_split_bytes.all.freed': 610862029634560, 'inactive_split_bytes.all.peak': 2412542464, 'inactive_split_bytes.large_pool.allocated': 607003656970240, 'inactive_split_bytes.large_pool.current': 544643072, 'inactive_split_bytes.large_pool.freed': 607003112327168, 'inactive_split_bytes.large_pool.peak': 2394946560, 'inactive_split_bytes.small_pool.allocated': 3858918926336, 'inactive_split_bytes.small_pool.current': 1618944, 'inactive_split_bytes.small_pool.freed': 3858917307392, 'inactive_split_bytes.small_pool.peak': 37798912, 'max_split_size': -1, 'num_alloc_retries': 0, 'num_device_alloc': 2484, 'num_device_free': 1389, 'num_ooms': 0, 'num_sync_all_streams': 18, 'oversize_allocations.allocated': 0, 'oversize_allocations.current': 0, 'oversize_allocations.freed': 0, 'oversize_allocations.peak': 0, 'oversize_segments.allocated': 0, 'oversize_segments.current': 0, 'oversize_segments.freed': 0, 'oversize_segments.peak': 0, 'requested_bytes.all.allocated': 1107132397772936, 'requested_bytes.all.current': 23684098616, 'requested_bytes.all.freed': 1107108713674320, 'requested_bytes.all.peak': 36809706132, 'requested_bytes.large_pool.allocated': 1103681888073600, 'requested_bytes.large_pool.current': 23480330240, 'requested_bytes.large_pool.freed': 1103658407743360, 'requested_bytes.large_pool.peak': 36574423040, 'requested_bytes.small_pool.allocated': 3450509699336, 'requested_bytes.small_pool.current': 203768376, 'requested_bytes.small_pool.freed': 3450305930960, 'requested_bytes.small_pool.peak': 236350084, 'reserved_bytes.all.allocated': 142430175232, 'reserved_bytes.all.current': 24853348352, 'reserved_bytes.all.freed': 117576826880, 'reserved_bytes.all.peak': 39564869632, 'reserved_bytes.large_pool.allocated': 141966704640, 'reserved_bytes.large_pool.current': 24647827456, 'reserved_bytes.large_pool.freed': 117318877184, 'reserved_bytes.large_pool.peak': 39325794304, 'reserved_bytes.small_pool.allocated': 463470592, 'reserved_bytes.small_pool.current': 205520896, 'reserved_bytes.small_pool.freed': 257949696, 'reserved_bytes.small_pool.peak': 239075328, 'segment.all.allocated': 2484, 'segment.all.current': 1095, 'segment.all.freed': 1389, 'segment.all.peak': 1270, 'segment.large_pool.allocated': 2263, 'segment.large_pool.current': 997, 'segment.large_pool.freed': 1266, 'segment.large_pool.peak': 1156, 'segment.small_pool.allocated': 221, 'segment.small_pool.current': 98, 'segment.small_pool.freed': 123, 'segment.small_pool.peak': 114})\n"
     ]
    },
    {
     "name": "stderr",
     "output_type": "stream",
     "text": [
      "Some weights of EsmModel were not initialized from the model checkpoint at facebook/esm2_t33_650M_UR50D and are newly initialized: ['esm.pooler.dense.bias', 'esm.pooler.dense.weight']\n",
      "You should probably TRAIN this model on a down-stream task to be able to use it for predictions and inference.\n",
      "/home/kaustubh/miniforge3/envs/lora_esm/lib/python3.13/site-packages/torch/nn/parallel/_functions.py:70: UserWarning: Was asked to gather along dimension 0, but all input tensors were scalars; will instead unsqueeze and return a vector.\n",
      "  warnings.warn(\n"
     ]
    },
    {
     "data": {
      "text/html": [
       "\n",
       "    <div>\n",
       "      \n",
       "      <progress value='1335' max='1335' style='width:300px; height:20px; vertical-align: middle;'></progress>\n",
       "      [1335/1335 20:15, Epoch 5/5]\n",
       "    </div>\n",
       "    <table border=\"1\" class=\"dataframe\">\n",
       "  <thead>\n",
       " <tr style=\"text-align: left;\">\n",
       "      <th>Epoch</th>\n",
       "      <th>Training Loss</th>\n",
       "      <th>Validation Loss</th>\n",
       "      <th>Accuracy</th>\n",
       "    </tr>\n",
       "  </thead>\n",
       "  <tbody>\n",
       "    <tr>\n",
       "      <td>1</td>\n",
       "      <td>0.516200</td>\n",
       "      <td>0.649327</td>\n",
       "      <td>0.881218</td>\n",
       "    </tr>\n",
       "    <tr>\n",
       "      <td>2</td>\n",
       "      <td>0.263200</td>\n",
       "      <td>0.384984</td>\n",
       "      <td>0.928116</td>\n",
       "    </tr>\n",
       "    <tr>\n",
       "      <td>3</td>\n",
       "      <td>0.115100</td>\n",
       "      <td>0.431217</td>\n",
       "      <td>0.907789</td>\n",
       "    </tr>\n",
       "    <tr>\n",
       "      <td>4</td>\n",
       "      <td>0.057700</td>\n",
       "      <td>0.583324</td>\n",
       "      <td>0.868347</td>\n",
       "    </tr>\n",
       "    <tr>\n",
       "      <td>5</td>\n",
       "      <td>0.134400</td>\n",
       "      <td>0.566895</td>\n",
       "      <td>0.864429</td>\n",
       "    </tr>\n",
       "  </tbody>\n",
       "</table><p>"
      ],
      "text/plain": [
       "<IPython.core.display.HTML object>"
      ]
     },
     "metadata": {},
     "output_type": "display_data"
    },
    {
     "name": "stderr",
     "output_type": "stream",
     "text": [
      "/home/kaustubh/miniforge3/envs/lora_esm/lib/python3.13/site-packages/peft/utils/save_and_load.py:246: UserWarning: Could not find a config file in  - will assume that the vocabulary was not modified.\n",
      "  warnings.warn(\n",
      "/home/kaustubh/miniforge3/envs/lora_esm/lib/python3.13/site-packages/torch/nn/parallel/_functions.py:70: UserWarning: Was asked to gather along dimension 0, but all input tensors were scalars; will instead unsqueeze and return a vector.\n",
      "  warnings.warn(\n",
      "/home/kaustubh/miniforge3/envs/lora_esm/lib/python3.13/site-packages/peft/utils/save_and_load.py:246: UserWarning: Could not find a config file in  - will assume that the vocabulary was not modified.\n",
      "  warnings.warn(\n",
      "/home/kaustubh/miniforge3/envs/lora_esm/lib/python3.13/site-packages/torch/nn/parallel/_functions.py:70: UserWarning: Was asked to gather along dimension 0, but all input tensors were scalars; will instead unsqueeze and return a vector.\n",
      "  warnings.warn(\n",
      "/home/kaustubh/miniforge3/envs/lora_esm/lib/python3.13/site-packages/peft/utils/save_and_load.py:246: UserWarning: Could not find a config file in  - will assume that the vocabulary was not modified.\n",
      "  warnings.warn(\n",
      "/home/kaustubh/miniforge3/envs/lora_esm/lib/python3.13/site-packages/torch/nn/parallel/_functions.py:70: UserWarning: Was asked to gather along dimension 0, but all input tensors were scalars; will instead unsqueeze and return a vector.\n",
      "  warnings.warn(\n",
      "/home/kaustubh/miniforge3/envs/lora_esm/lib/python3.13/site-packages/peft/utils/save_and_load.py:246: UserWarning: Could not find a config file in  - will assume that the vocabulary was not modified.\n",
      "  warnings.warn(\n",
      "/home/kaustubh/miniforge3/envs/lora_esm/lib/python3.13/site-packages/torch/nn/parallel/_functions.py:70: UserWarning: Was asked to gather along dimension 0, but all input tensors were scalars; will instead unsqueeze and return a vector.\n",
      "  warnings.warn(\n",
      "/home/kaustubh/miniforge3/envs/lora_esm/lib/python3.13/site-packages/peft/utils/save_and_load.py:246: UserWarning: Could not find a config file in  - will assume that the vocabulary was not modified.\n",
      "  warnings.warn(\n",
      "/home/kaustubh/miniforge3/envs/lora_esm/lib/python3.13/site-packages/torch/nn/parallel/_functions.py:70: UserWarning: Was asked to gather along dimension 0, but all input tensors were scalars; will instead unsqueeze and return a vector.\n",
      "  warnings.warn(\n",
      "/home/kaustubh/miniforge3/envs/lora_esm/lib/python3.13/site-packages/peft/utils/save_and_load.py:246: UserWarning: Could not find a config file in  - will assume that the vocabulary was not modified.\n",
      "  warnings.warn(\n"
     ]
    },
    {
     "name": "stdout",
     "output_type": "stream",
     "text": [
      "trainer: <transformers.trainer.Trainer object at 0x7f11685f7a10>\n",
      "Best current Metric: 0.9281156462585034\n",
      "Best trial metric: 0.96678231292517\n",
      "Trial 10/10\n",
      "learning_rate:  0.000901\n",
      "OrderedDict({'active.all.allocated': 79477531, 'active.all.current': 8634, 'active.all.freed': 79468897, 'active.all.peak': 9613, 'active.large_pool.allocated': 48967042, 'active.large_pool.current': 2002, 'active.large_pool.freed': 48965040, 'active.large_pool.peak': 2503, 'active.small_pool.allocated': 30510489, 'active.small_pool.current': 6632, 'active.small_pool.freed': 30503857, 'active.small_pool.peak': 7210, 'active_bytes.all.allocated': 1245778902555136, 'active_bytes.all.current': 27001960448, 'active_bytes.all.freed': 1245751900594688, 'active_bytes.all.peak': 40127571968, 'active_bytes.large_pool.allocated': 1241892868303872, 'active_bytes.large_pool.current': 26779422720, 'active_bytes.large_pool.freed': 1241866088881152, 'active_bytes.large_pool.peak': 39873515520, 'active_bytes.small_pool.allocated': 3886034251264, 'active_bytes.small_pool.current': 222537728, 'active_bytes.small_pool.freed': 3885811713536, 'active_bytes.small_pool.peak': 255121408, 'allocated_bytes.all.allocated': 1245778902555136, 'allocated_bytes.all.current': 27001960448, 'allocated_bytes.all.freed': 1245751900594688, 'allocated_bytes.all.peak': 40127571968, 'allocated_bytes.large_pool.allocated': 1241892868303872, 'allocated_bytes.large_pool.current': 26779422720, 'allocated_bytes.large_pool.freed': 1241866088881152, 'allocated_bytes.large_pool.peak': 39873515520, 'allocated_bytes.small_pool.allocated': 3886034251264, 'allocated_bytes.small_pool.current': 222537728, 'allocated_bytes.small_pool.freed': 3885811713536, 'allocated_bytes.small_pool.peak': 255121408, 'allocation.all.allocated': 79477531, 'allocation.all.current': 8634, 'allocation.all.freed': 79468897, 'allocation.all.peak': 9613, 'allocation.large_pool.allocated': 48967042, 'allocation.large_pool.current': 2002, 'allocation.large_pool.freed': 48965040, 'allocation.large_pool.peak': 2503, 'allocation.small_pool.allocated': 30510489, 'allocation.small_pool.current': 6632, 'allocation.small_pool.freed': 30503857, 'allocation.small_pool.peak': 7210, 'inactive_split.all.allocated': 35293223, 'inactive_split.all.current': 601, 'inactive_split.all.freed': 35292622, 'inactive_split.all.peak': 873, 'inactive_split.large_pool.allocated': 25966359, 'inactive_split.large_pool.current': 449, 'inactive_split.large_pool.freed': 25965910, 'inactive_split.large_pool.peak': 559, 'inactive_split.small_pool.allocated': 9326864, 'inactive_split.small_pool.current': 152, 'inactive_split.small_pool.freed': 9326712, 'inactive_split.small_pool.peak': 316, 'inactive_split_bytes.all.allocated': 687068780019200, 'inactive_split_bytes.all.current': 613337088, 'inactive_split_bytes.all.freed': 687068166682112, 'inactive_split_bytes.all.peak': 2479617536, 'inactive_split_bytes.large_pool.allocated': 682727557960704, 'inactive_split_bytes.large_pool.current': 611479552, 'inactive_split_bytes.large_pool.freed': 682726946481152, 'inactive_split_bytes.large_pool.peak': 2461783040, 'inactive_split_bytes.small_pool.allocated': 4341222058496, 'inactive_split_bytes.small_pool.current': 1857536, 'inactive_split_bytes.small_pool.freed': 4341220200960, 'inactive_split_bytes.small_pool.peak': 38037504, 'max_split_size': -1, 'num_alloc_retries': 0, 'num_device_alloc': 2778, 'num_device_free': 1563, 'num_ooms': 0, 'num_sync_all_streams': 20, 'oversize_allocations.allocated': 0, 'oversize_allocations.current': 0, 'oversize_allocations.freed': 0, 'oversize_allocations.peak': 0, 'oversize_segments.allocated': 0, 'oversize_segments.current': 0, 'oversize_segments.freed': 0, 'oversize_segments.peak': 0, 'requested_bytes.all.allocated': 1245523617157948, 'requested_bytes.all.current': 26309752096, 'requested_bytes.all.freed': 1245497307405852, 'requested_bytes.all.peak': 39435359612, 'requested_bytes.large_pool.allocated': 1241641796073840, 'requested_bytes.large_pool.current': 26087362560, 'requested_bytes.large_pool.freed': 1241615708711280, 'requested_bytes.large_pool.peak': 39181455360, 'requested_bytes.small_pool.allocated': 3881821084108, 'requested_bytes.small_pool.current': 222389536, 'requested_bytes.small_pool.freed': 3881598694572, 'requested_bytes.small_pool.peak': 254971244, 'reserved_bytes.all.allocated': 159893159936, 'reserved_bytes.all.current': 27615297536, 'reserved_bytes.all.freed': 132277862400, 'reserved_bytes.all.peak': 42316333056, 'reserved_bytes.large_pool.allocated': 159377260544, 'reserved_bytes.large_pool.current': 27390902272, 'reserved_bytes.large_pool.freed': 131986358272, 'reserved_bytes.large_pool.peak': 42058383360, 'reserved_bytes.small_pool.allocated': 515899392, 'reserved_bytes.small_pool.current': 224395264, 'reserved_bytes.small_pool.freed': 291504128, 'reserved_bytes.small_pool.peak': 257949696, 'segment.all.allocated': 2778, 'segment.all.current': 1215, 'segment.all.freed': 1563, 'segment.all.peak': 1389, 'segment.large_pool.allocated': 2532, 'segment.large_pool.current': 1108, 'segment.large_pool.freed': 1424, 'segment.large_pool.peak': 1266, 'segment.small_pool.allocated': 246, 'segment.small_pool.current': 107, 'segment.small_pool.freed': 139, 'segment.small_pool.peak': 123})\n"
     ]
    },
    {
     "name": "stderr",
     "output_type": "stream",
     "text": [
      "Some weights of EsmModel were not initialized from the model checkpoint at facebook/esm2_t33_650M_UR50D and are newly initialized: ['esm.pooler.dense.bias', 'esm.pooler.dense.weight']\n",
      "You should probably TRAIN this model on a down-stream task to be able to use it for predictions and inference.\n",
      "/home/kaustubh/miniforge3/envs/lora_esm/lib/python3.13/site-packages/torch/nn/parallel/_functions.py:70: UserWarning: Was asked to gather along dimension 0, but all input tensors were scalars; will instead unsqueeze and return a vector.\n",
      "  warnings.warn(\n"
     ]
    },
    {
     "data": {
      "text/html": [
       "\n",
       "    <div>\n",
       "      \n",
       "      <progress value='1335' max='1335' style='width:300px; height:20px; vertical-align: middle;'></progress>\n",
       "      [1335/1335 20:12, Epoch 5/5]\n",
       "    </div>\n",
       "    <table border=\"1\" class=\"dataframe\">\n",
       "  <thead>\n",
       " <tr style=\"text-align: left;\">\n",
       "      <th>Epoch</th>\n",
       "      <th>Training Loss</th>\n",
       "      <th>Validation Loss</th>\n",
       "      <th>Accuracy</th>\n",
       "    </tr>\n",
       "  </thead>\n",
       "  <tbody>\n",
       "    <tr>\n",
       "      <td>1</td>\n",
       "      <td>0.238800</td>\n",
       "      <td>0.446363</td>\n",
       "      <td>0.935367</td>\n",
       "    </tr>\n",
       "    <tr>\n",
       "      <td>2</td>\n",
       "      <td>0.188400</td>\n",
       "      <td>0.446967</td>\n",
       "      <td>0.867354</td>\n",
       "    </tr>\n",
       "    <tr>\n",
       "      <td>3</td>\n",
       "      <td>0.107700</td>\n",
       "      <td>0.326108</td>\n",
       "      <td>0.951558</td>\n",
       "    </tr>\n",
       "    <tr>\n",
       "      <td>4</td>\n",
       "      <td>0.046000</td>\n",
       "      <td>0.355001</td>\n",
       "      <td>0.935803</td>\n",
       "    </tr>\n",
       "    <tr>\n",
       "      <td>5</td>\n",
       "      <td>0.080800</td>\n",
       "      <td>0.334997</td>\n",
       "      <td>0.949585</td>\n",
       "    </tr>\n",
       "  </tbody>\n",
       "</table><p>"
      ],
      "text/plain": [
       "<IPython.core.display.HTML object>"
      ]
     },
     "metadata": {},
     "output_type": "display_data"
    },
    {
     "name": "stderr",
     "output_type": "stream",
     "text": [
      "/home/kaustubh/miniforge3/envs/lora_esm/lib/python3.13/site-packages/peft/utils/save_and_load.py:246: UserWarning: Could not find a config file in  - will assume that the vocabulary was not modified.\n",
      "  warnings.warn(\n",
      "/home/kaustubh/miniforge3/envs/lora_esm/lib/python3.13/site-packages/torch/nn/parallel/_functions.py:70: UserWarning: Was asked to gather along dimension 0, but all input tensors were scalars; will instead unsqueeze and return a vector.\n",
      "  warnings.warn(\n",
      "/home/kaustubh/miniforge3/envs/lora_esm/lib/python3.13/site-packages/peft/utils/save_and_load.py:246: UserWarning: Could not find a config file in  - will assume that the vocabulary was not modified.\n",
      "  warnings.warn(\n",
      "/home/kaustubh/miniforge3/envs/lora_esm/lib/python3.13/site-packages/torch/nn/parallel/_functions.py:70: UserWarning: Was asked to gather along dimension 0, but all input tensors were scalars; will instead unsqueeze and return a vector.\n",
      "  warnings.warn(\n",
      "/home/kaustubh/miniforge3/envs/lora_esm/lib/python3.13/site-packages/peft/utils/save_and_load.py:246: UserWarning: Could not find a config file in  - will assume that the vocabulary was not modified.\n",
      "  warnings.warn(\n",
      "/home/kaustubh/miniforge3/envs/lora_esm/lib/python3.13/site-packages/torch/nn/parallel/_functions.py:70: UserWarning: Was asked to gather along dimension 0, but all input tensors were scalars; will instead unsqueeze and return a vector.\n",
      "  warnings.warn(\n",
      "/home/kaustubh/miniforge3/envs/lora_esm/lib/python3.13/site-packages/peft/utils/save_and_load.py:246: UserWarning: Could not find a config file in  - will assume that the vocabulary was not modified.\n",
      "  warnings.warn(\n",
      "/home/kaustubh/miniforge3/envs/lora_esm/lib/python3.13/site-packages/torch/nn/parallel/_functions.py:70: UserWarning: Was asked to gather along dimension 0, but all input tensors were scalars; will instead unsqueeze and return a vector.\n",
      "  warnings.warn(\n",
      "/home/kaustubh/miniforge3/envs/lora_esm/lib/python3.13/site-packages/peft/utils/save_and_load.py:246: UserWarning: Could not find a config file in  - will assume that the vocabulary was not modified.\n",
      "  warnings.warn(\n",
      "/home/kaustubh/miniforge3/envs/lora_esm/lib/python3.13/site-packages/torch/nn/parallel/_functions.py:70: UserWarning: Was asked to gather along dimension 0, but all input tensors were scalars; will instead unsqueeze and return a vector.\n",
      "  warnings.warn(\n",
      "/home/kaustubh/miniforge3/envs/lora_esm/lib/python3.13/site-packages/peft/utils/save_and_load.py:246: UserWarning: Could not find a config file in  - will assume that the vocabulary was not modified.\n",
      "  warnings.warn(\n"
     ]
    },
    {
     "name": "stdout",
     "output_type": "stream",
     "text": [
      "trainer: <transformers.trainer.Trainer object at 0x7f11685f7a10>\n",
      "Best current Metric: 0.9515578231292515\n",
      "Best trial metric: 0.96678231292517\n",
      "Best Trial: {'learning_rate': 0.000703, 'per_device_train_batch_size': 2, 0.96678231292517: 0.96678231292517}\n",
      "OrderedDict({'active.all.allocated': 88308282, 'active.all.current': 9404, 'active.all.freed': 88298878, 'active.all.peak': 10383, 'active.large_pool.allocated': 54407802, 'active.large_pool.current': 2202, 'active.large_pool.freed': 54405600, 'active.large_pool.peak': 2703, 'active.small_pool.allocated': 33900480, 'active.small_pool.current': 7202, 'active.small_pool.freed': 33893278, 'active.small_pool.peak': 7780, 'active_bytes.all.allocated': 1384226155321344, 'active_bytes.all.current': 29696834560, 'active_bytes.all.freed': 1384196458486784, 'active_bytes.all.peak': 42822446080, 'active_bytes.large_pool.allocated': 1379908341557248, 'active_bytes.large_pool.current': 29455661056, 'active_bytes.large_pool.freed': 1379878885896192, 'active_bytes.large_pool.peak': 42549753856, 'active_bytes.small_pool.allocated': 4317813764096, 'active_bytes.small_pool.current': 241173504, 'active_bytes.small_pool.freed': 4317572590592, 'active_bytes.small_pool.peak': 273757184, 'allocated_bytes.all.allocated': 1384226155321344, 'allocated_bytes.all.current': 29696834560, 'allocated_bytes.all.freed': 1384196458486784, 'allocated_bytes.all.peak': 42822446080, 'allocated_bytes.large_pool.allocated': 1379908341557248, 'allocated_bytes.large_pool.current': 29455661056, 'allocated_bytes.large_pool.freed': 1379878885896192, 'allocated_bytes.large_pool.peak': 42549753856, 'allocated_bytes.small_pool.allocated': 4317813764096, 'allocated_bytes.small_pool.current': 241173504, 'allocated_bytes.small_pool.freed': 4317572590592, 'allocated_bytes.small_pool.peak': 273757184, 'allocation.all.allocated': 88308282, 'allocation.all.current': 9404, 'allocation.all.freed': 88298878, 'allocation.all.peak': 10383, 'allocation.large_pool.allocated': 54407802, 'allocation.large_pool.current': 2202, 'allocation.large_pool.freed': 54405600, 'allocation.large_pool.peak': 2703, 'allocation.small_pool.allocated': 33900480, 'allocation.small_pool.current': 7202, 'allocation.small_pool.freed': 33893278, 'allocation.small_pool.peak': 7780, 'inactive_split.all.allocated': 39151546, 'inactive_split.all.current': 666, 'inactive_split.all.freed': 39150880, 'inactive_split.all.peak': 937, 'inactive_split.large_pool.allocated': 28797646, 'inactive_split.large_pool.current': 494, 'inactive_split.large_pool.freed': 28797152, 'inactive_split.large_pool.peak': 605, 'inactive_split.small_pool.allocated': 10353900, 'inactive_split.small_pool.current': 172, 'inactive_split.small_pool.freed': 10353728, 'inactive_split.small_pool.peak': 334, 'inactive_split_bytes.all.allocated': 763676965339136, 'inactive_split_bytes.all.current': 680412160, 'inactive_split_bytes.all.freed': 763676284926976, 'inactive_split_bytes.all.peak': 2546692608, 'inactive_split_bytes.large_pool.allocated': 758854123240448, 'inactive_split_bytes.large_pool.current': 678316032, 'inactive_split_bytes.large_pool.freed': 758853444924416, 'inactive_split_bytes.large_pool.peak': 2528481280, 'inactive_split_bytes.small_pool.allocated': 4822842098688, 'inactive_split_bytes.small_pool.current': 2096128, 'inactive_split_bytes.small_pool.freed': 4822840002560, 'inactive_split_bytes.small_pool.peak': 38276096, 'max_split_size': -1, 'num_alloc_retries': 0, 'num_device_alloc': 3071, 'num_device_free': 1736, 'num_ooms': 0, 'num_sync_all_streams': 22, 'oversize_allocations.allocated': 0, 'oversize_allocations.current': 0, 'oversize_allocations.freed': 0, 'oversize_allocations.peak': 0, 'oversize_segments.allocated': 0, 'oversize_segments.current': 0, 'oversize_segments.freed': 0, 'oversize_segments.peak': 0, 'requested_bytes.all.allocated': 1383914836542960, 'requested_bytes.all.current': 28935405576, 'requested_bytes.all.freed': 1383885901137384, 'requested_bytes.all.peak': 42061013092, 'requested_bytes.large_pool.allocated': 1379601704074080, 'requested_bytes.large_pool.current': 28694394880, 'requested_bytes.large_pool.freed': 1379573009679200, 'requested_bytes.large_pool.peak': 41788487680, 'requested_bytes.small_pool.allocated': 4313132468880, 'requested_bytes.small_pool.current': 241010696, 'requested_bytes.small_pool.freed': 4312891458184, 'requested_bytes.small_pool.peak': 273592404, 'reserved_bytes.all.allocated': 177347756032, 'reserved_bytes.all.current': 30377246720, 'reserved_bytes.all.freed': 146970509312, 'reserved_bytes.all.peak': 45069893632, 'reserved_bytes.large_pool.allocated': 176781524992, 'reserved_bytes.large_pool.current': 30133977088, 'reserved_bytes.large_pool.freed': 146647547904, 'reserved_bytes.large_pool.peak': 44795166720, 'reserved_bytes.small_pool.allocated': 566231040, 'reserved_bytes.small_pool.current': 243269632, 'reserved_bytes.small_pool.freed': 322961408, 'reserved_bytes.small_pool.peak': 274726912, 'segment.all.allocated': 3071, 'segment.all.current': 1335, 'segment.all.freed': 1736, 'segment.all.peak': 1508, 'segment.large_pool.allocated': 2801, 'segment.large_pool.current': 1219, 'segment.large_pool.freed': 1582, 'segment.large_pool.peak': 1377, 'segment.small_pool.allocated': 270, 'segment.small_pool.current': 116, 'segment.small_pool.freed': 154, 'segment.small_pool.peak': 131})\n"
     ]
    },
    {
     "name": "stderr",
     "output_type": "stream",
     "text": [
      "Some weights of EsmModel were not initialized from the model checkpoint at facebook/esm2_t33_650M_UR50D and are newly initialized: ['esm.pooler.dense.bias', 'esm.pooler.dense.weight']\n",
      "You should probably TRAIN this model on a down-stream task to be able to use it for predictions and inference.\n",
      "Detected kernel version 5.4.0, which is below the recommended minimum of 5.5.0; this can cause the process to hang. It is recommended to upgrade the kernel to the minimum version or higher.\n",
      "/home/kaustubh/miniforge3/envs/lora_esm/lib/python3.13/site-packages/torch/nn/parallel/_functions.py:70: UserWarning: Was asked to gather along dimension 0, but all input tensors were scalars; will instead unsqueeze and return a vector.\n",
      "  warnings.warn(\n"
     ]
    },
    {
     "data": {
      "text/html": [
       "\n",
       "    <div>\n",
       "      \n",
       "      <progress value='1335' max='1335' style='width:300px; height:20px; vertical-align: middle;'></progress>\n",
       "      [1335/1335 20:13, Epoch 5/5]\n",
       "    </div>\n",
       "    <table border=\"1\" class=\"dataframe\">\n",
       "  <thead>\n",
       " <tr style=\"text-align: left;\">\n",
       "      <th>Epoch</th>\n",
       "      <th>Training Loss</th>\n",
       "      <th>Validation Loss</th>\n",
       "      <th>Accuracy</th>\n",
       "    </tr>\n",
       "  </thead>\n",
       "  <tbody>\n",
       "    <tr>\n",
       "      <td>1</td>\n",
       "      <td>0.292800</td>\n",
       "      <td>0.481479</td>\n",
       "      <td>0.904551</td>\n",
       "    </tr>\n",
       "    <tr>\n",
       "      <td>2</td>\n",
       "      <td>0.276000</td>\n",
       "      <td>0.267927</td>\n",
       "      <td>0.963844</td>\n",
       "    </tr>\n",
       "    <tr>\n",
       "      <td>3</td>\n",
       "      <td>0.148800</td>\n",
       "      <td>0.243577</td>\n",
       "      <td>0.966782</td>\n",
       "    </tr>\n",
       "    <tr>\n",
       "      <td>4</td>\n",
       "      <td>0.048100</td>\n",
       "      <td>0.171775</td>\n",
       "      <td>0.964592</td>\n",
       "    </tr>\n",
       "    <tr>\n",
       "      <td>5</td>\n",
       "      <td>0.131100</td>\n",
       "      <td>0.203544</td>\n",
       "      <td>0.964878</td>\n",
       "    </tr>\n",
       "  </tbody>\n",
       "</table><p>"
      ],
      "text/plain": [
       "<IPython.core.display.HTML object>"
      ]
     },
     "metadata": {},
     "output_type": "display_data"
    },
    {
     "name": "stderr",
     "output_type": "stream",
     "text": [
      "/home/kaustubh/miniforge3/envs/lora_esm/lib/python3.13/site-packages/peft/utils/save_and_load.py:246: UserWarning: Could not find a config file in  - will assume that the vocabulary was not modified.\n",
      "  warnings.warn(\n",
      "/home/kaustubh/miniforge3/envs/lora_esm/lib/python3.13/site-packages/torch/nn/parallel/_functions.py:70: UserWarning: Was asked to gather along dimension 0, but all input tensors were scalars; will instead unsqueeze and return a vector.\n",
      "  warnings.warn(\n",
      "/home/kaustubh/miniforge3/envs/lora_esm/lib/python3.13/site-packages/peft/utils/save_and_load.py:246: UserWarning: Could not find a config file in  - will assume that the vocabulary was not modified.\n",
      "  warnings.warn(\n",
      "/home/kaustubh/miniforge3/envs/lora_esm/lib/python3.13/site-packages/torch/nn/parallel/_functions.py:70: UserWarning: Was asked to gather along dimension 0, but all input tensors were scalars; will instead unsqueeze and return a vector.\n",
      "  warnings.warn(\n",
      "/home/kaustubh/miniforge3/envs/lora_esm/lib/python3.13/site-packages/peft/utils/save_and_load.py:246: UserWarning: Could not find a config file in  - will assume that the vocabulary was not modified.\n",
      "  warnings.warn(\n",
      "/home/kaustubh/miniforge3/envs/lora_esm/lib/python3.13/site-packages/torch/nn/parallel/_functions.py:70: UserWarning: Was asked to gather along dimension 0, but all input tensors were scalars; will instead unsqueeze and return a vector.\n",
      "  warnings.warn(\n",
      "/home/kaustubh/miniforge3/envs/lora_esm/lib/python3.13/site-packages/peft/utils/save_and_load.py:246: UserWarning: Could not find a config file in  - will assume that the vocabulary was not modified.\n",
      "  warnings.warn(\n",
      "/home/kaustubh/miniforge3/envs/lora_esm/lib/python3.13/site-packages/torch/nn/parallel/_functions.py:70: UserWarning: Was asked to gather along dimension 0, but all input tensors were scalars; will instead unsqueeze and return a vector.\n",
      "  warnings.warn(\n",
      "/home/kaustubh/miniforge3/envs/lora_esm/lib/python3.13/site-packages/peft/utils/save_and_load.py:246: UserWarning: Could not find a config file in  - will assume that the vocabulary was not modified.\n",
      "  warnings.warn(\n",
      "/home/kaustubh/miniforge3/envs/lora_esm/lib/python3.13/site-packages/torch/nn/parallel/_functions.py:70: UserWarning: Was asked to gather along dimension 0, but all input tensors were scalars; will instead unsqueeze and return a vector.\n",
      "  warnings.warn(\n",
      "/home/kaustubh/miniforge3/envs/lora_esm/lib/python3.13/site-packages/peft/utils/save_and_load.py:246: UserWarning: Could not find a config file in  - will assume that the vocabulary was not modified.\n",
      "  warnings.warn(\n",
      "/home/kaustubh/miniforge3/envs/lora_esm/lib/python3.13/site-packages/peft/utils/save_and_load.py:246: UserWarning: Could not find a config file in  - will assume that the vocabulary was not modified.\n",
      "  warnings.warn(\n"
     ]
    }
   ],
   "source": [
    "train_protein_model()"
   ]
  },
  {
   "cell_type": "markdown",
   "metadata": {},
   "source": [
    "## Gathering the exact data used for training & testing"
   ]
  },
  {
   "cell_type": "code",
   "execution_count": 11,
   "metadata": {},
   "outputs": [],
   "source": [
    "large_dataset = pd.read_pickle('/home/kaustubh/RuBisCO_ML/ESM_LoRA/data/large_assay_dataset_wco2_wiptg_bimodal_activity_threshold.pkl')\n",
    "large_dataset = large_dataset[[\"LSU_id\", \"SSU_id\", \"lsu_seq\", \"ssu_seq\", \"activity_binary\"]]\n",
    "\n",
    "mutant_dataset = pd.read_pickle(\"/home/kaustubh/RuBisCO_ML/ESM_LoRA/data/form_III_IB_anc_variants_binary_activity_only_wrt_inactive_variant.pkl\")\n",
    "mutant_dataset.rename(columns={\"activity_binary_wrt_inactive_Anc\": \"activity_binary\"}, inplace=True)\n",
    "\n",
    "combined_dataset = pd.concat([large_dataset, mutant_dataset], ignore_index=True)\n",
    "combined_dataset = combined_dataset[combined_dataset['LSU_id'] != \"SUMO\"]\n",
    "combined_dataset = combined_dataset[combined_dataset['LSU_id'] != \"DEAD\"]\n",
    "combined_dataset['LSU_SSU_id'] = combined_dataset.apply(lambda x: x['LSU_id'] + \"-\" + x['SSU_id'] if pd.notna(x['SSU_id']) else x['LSU_id'] + \"-none\", axis=1)\n",
    "combined_dataset['LSU_SSU_seq'] = combined_dataset.apply(lambda x: x['lsu_seq'] + x['ssu_seq'] if (pd.notna(x['ssu_seq']) and x[\"SSU_id\"] != \"SUMO\") else x['lsu_seq'], axis=1)\n",
    "\n",
    "combined_dataset_large_subet = combined_dataset[~combined_dataset['LSU_id'].str.startswith(\"Anc\")]\n",
    "combined_dataset_mutant_subet = combined_dataset[combined_dataset['LSU_id'].str.startswith(\"Anc\")]\n",
    "\n",
    "sequences = combined_dataset_large_subet['LSU_SSU_seq'].to_list()\n",
    "binary_activity = combined_dataset_large_subet['activity_binary'].to_list()\n",
    "lsu_ssu_ids = combined_dataset_large_subet['LSU_SSU_id'].to_list()"
   ]
  },
  {
   "cell_type": "code",
   "execution_count": 18,
   "metadata": {},
   "outputs": [
    {
     "data": {
      "application/vnd.microsoft.datawrangler.viewer.v0+json": {
       "columns": [
        {
         "name": "index",
         "rawType": "int64",
         "type": "integer"
        },
        {
         "name": "LSU_id",
         "rawType": "object",
         "type": "string"
        },
        {
         "name": "SSU_id",
         "rawType": "object",
         "type": "string"
        },
        {
         "name": "lsu_seq",
         "rawType": "object",
         "type": "string"
        },
        {
         "name": "ssu_seq",
         "rawType": "object",
         "type": "unknown"
        },
        {
         "name": "activity_binary",
         "rawType": "int64",
         "type": "integer"
        },
        {
         "name": "LSU_SSU_id",
         "rawType": "object",
         "type": "string"
        },
        {
         "name": "LSU_SSU_seq",
         "rawType": "object",
         "type": "string"
        }
       ],
       "conversionMethod": "pd.DataFrame",
       "ref": "cfbf3719-4999-45e5-9638-8a4218ead5c5",
       "rows": [
        [
         "246",
         "337",
         "SUMO",
         "MAQQKEYVDLNLKDEDLVKNGNHLLAVFHLKPAGGLDLLEAASEVAAESSTGTNVEVSTATEFSKSLDALVYKIDEAKNLVKIAYPWDIFDRGGNVQNILTYIAGNIFGMSDIKALKLLDVWFPPEMLKQFDGPSYNIDDMRKLLGVYDRPILGTIIKPKIGLKPEEFAEVCYQFWVGGGDFIKNDEPQANQPFCPFEKMVDAVREAMDKAEEETGKKKVYSFNITAADFDEMIKRAEYVIDKMKPGSYAFLVDGITAGWTAVQTLRREYPNVFIHFHRAGHGAFTRPENPMGYSVLVLTKLARLAGASGIHTGTAGVGKMEGDAEEDVTVAHMLRRDKAKGPFFEQDWYGMKPTCPIVSGGLNPVLLPPFIDVLGHVDVITTAGGGVHGHPDGTKAGAKALRQACEAWKKGIDIEEYAKDHKELAQAIESYSKKKEKVHKL",
         null,
         "0",
         "337-SUMO",
         "MAQQKEYVDLNLKDEDLVKNGNHLLAVFHLKPAGGLDLLEAASEVAAESSTGTNVEVSTATEFSKSLDALVYKIDEAKNLVKIAYPWDIFDRGGNVQNILTYIAGNIFGMSDIKALKLLDVWFPPEMLKQFDGPSYNIDDMRKLLGVYDRPILGTIIKPKIGLKPEEFAEVCYQFWVGGGDFIKNDEPQANQPFCPFEKMVDAVREAMDKAEEETGKKKVYSFNITAADFDEMIKRAEYVIDKMKPGSYAFLVDGITAGWTAVQTLRREYPNVFIHFHRAGHGAFTRPENPMGYSVLVLTKLARLAGASGIHTGTAGVGKMEGDAEEDVTVAHMLRRDKAKGPFFEQDWYGMKPTCPIVSGGLNPVLLPPFIDVLGHVDVITTAGGGVHGHPDGTKAGAKALRQACEAWKKGIDIEEYAKDHKELAQAIESYSKKKEKVHKL"
        ],
        [
         "594",
         "435",
         "SUMO",
         "MQTNSQTKAQFQAGVREYRETYYDPGYTPKDTDILAAFRVTPQPGVPPEEAAAAVAAESSTGTWTTVWTDLLTDLERYQARCYRIEPVPGQEDQYIAYIAYPLDLFEEGSIVNLMSSIVGNVFGFKALRALRLEDMRIPVAYVKTFQGPPHGIQVERDRLNKYGRPLLGATIKPKLGLSAKNYGRVVYECLRGGLDFTKDDENINSQPFMRWRDRFLFVMEAVHKAEAETGERKGHYLNVTAPTMEEMYERAEFAKELGSPIIMVDYLTVGFTAHTSLSKWCRKNGMLLHVHRAMHAVIDRQKNHGISFRVLAKWLRLAGGDHLHTGTVVGKLEGDRAATLGIVDLLREDYVPADPSRGIYFDQDWASLPAVFPVASGGIHVGHMPALVSIFGDDAVLQFGGGTLGHPWGNAAGATANRVALEAVVQARNEGRDLVAEGQEILKEAARHSPELRAALETWKDIKFDFETVDTLDVVAAKS",
         null,
         "1",
         "435-SUMO",
         "MQTNSQTKAQFQAGVREYRETYYDPGYTPKDTDILAAFRVTPQPGVPPEEAAAAVAAESSTGTWTTVWTDLLTDLERYQARCYRIEPVPGQEDQYIAYIAYPLDLFEEGSIVNLMSSIVGNVFGFKALRALRLEDMRIPVAYVKTFQGPPHGIQVERDRLNKYGRPLLGATIKPKLGLSAKNYGRVVYECLRGGLDFTKDDENINSQPFMRWRDRFLFVMEAVHKAEAETGERKGHYLNVTAPTMEEMYERAEFAKELGSPIIMVDYLTVGFTAHTSLSKWCRKNGMLLHVHRAMHAVIDRQKNHGISFRVLAKWLRLAGGDHLHTGTVVGKLEGDRAATLGIVDLLREDYVPADPSRGIYFDQDWASLPAVFPVASGGIHVGHMPALVSIFGDDAVLQFGGGTLGHPWGNAAGATANRVALEAVVQARNEGRDLVAEGQEILKEAARHSPELRAALETWKDIKFDFETVDTLDVVAAKS"
        ],
        [
         "660",
         "495",
         "SUMO",
         "MQTNSQTKALFDAGVREYRETYYDPGYVPKDTDVLAAFRVTPQPGVPPEEAAAAVAAESSTGTWTTVWTDLLTDLERYQARCYRIEPVPGQEDQFIAYIAYPLDLFEEGSIVNLMSSIVGNVFGFKALRALRLEDLRIPVAYLKTFQGPPHGIQVERDRLNKYGRPLLGATIKPKLGLSAKNYGRAVYECLRGGLDFTKDDENINSQPFMRWRDRYLFVMEAVHKAEAETGERKGHYLNVTAPTMEEMYERAEFAKELGSPIIMVDYLTVGFTAHTSLSKWCRKNGMLLHVHRAMHAVIDRQKNHGIHWRVLAKWLRMAGGDHLHNGTVVGKLEGDRASTLGINDLLREDYVPADPSRGIYFDQPWASLPAVFPVASGGIHVWHMPELVSIFGDDAVLQFGGGTLGHPWGNAAGATANRVALEAVVQARNEGRDLVAEGQEILKEAARHSPELRAALETWKDIAFDFETVDTLDPVAAKA",
         null,
         "1",
         "495-SUMO",
         "MQTNSQTKALFDAGVREYRETYYDPGYVPKDTDVLAAFRVTPQPGVPPEEAAAAVAAESSTGTWTTVWTDLLTDLERYQARCYRIEPVPGQEDQFIAYIAYPLDLFEEGSIVNLMSSIVGNVFGFKALRALRLEDLRIPVAYLKTFQGPPHGIQVERDRLNKYGRPLLGATIKPKLGLSAKNYGRAVYECLRGGLDFTKDDENINSQPFMRWRDRYLFVMEAVHKAEAETGERKGHYLNVTAPTMEEMYERAEFAKELGSPIIMVDYLTVGFTAHTSLSKWCRKNGMLLHVHRAMHAVIDRQKNHGIHWRVLAKWLRMAGGDHLHNGTVVGKLEGDRASTLGINDLLREDYVPADPSRGIYFDQPWASLPAVFPVASGGIHVWHMPELVSIFGDDAVLQFGGGTLGHPWGNAAGATANRVALEAVVQARNEGRDLVAEGQEILKEAARHSPELRAALETWKDIAFDFETVDTLDPVAAKA"
        ],
        [
         "787",
         "348",
         "SUMO",
         "MQKEYLNLGDQSVNNGQYLLAVFHIVPAGGLNLADAATEIAAESSTGSNIKVSTATEFSKSLNALVYKIDEDKNLVWIAYPWRIFDRGGNVQNILTFIAGNIFGMSEIKACKLLDVWFPPEMLVQYDGPSYTLDDMRKYLGVYDSPILGTIIKPKIGLTSTEYAELCYDFWVGGGHFVKNDEPQANQDFCPYEKMVDAIRIAMDKAEKETGKKKVHSFNVSAADFDTMIRRCEYIINKMKPGSYAFLIDGITAGWMAVQTLRRRYPDVFIHFHRAGHGAFTRTENPIGYSVAVLTKFARLAGASGIHTGTAGVGKMAGDPEEDITAAHMALRLKAKGPFFEQVWTKIPEKDPDIVNMVEEEEAHNVVYENDSWRFIKKTCPIVSGGLNPVLLKEFIDVMGTIDFITTMGGGVHSHPEGTKAGAKALVQAYEAWKAGIDIEEYAKDNKELALAIEFYTKNRTNAHKL",
         null,
         "1",
         "348-SUMO",
         "MQKEYLNLGDQSVNNGQYLLAVFHIVPAGGLNLADAATEIAAESSTGSNIKVSTATEFSKSLNALVYKIDEDKNLVWIAYPWRIFDRGGNVQNILTFIAGNIFGMSEIKACKLLDVWFPPEMLVQYDGPSYTLDDMRKYLGVYDSPILGTIIKPKIGLTSTEYAELCYDFWVGGGHFVKNDEPQANQDFCPYEKMVDAIRIAMDKAEKETGKKKVHSFNVSAADFDTMIRRCEYIINKMKPGSYAFLIDGITAGWMAVQTLRRRYPDVFIHFHRAGHGAFTRTENPIGYSVAVLTKFARLAGASGIHTGTAGVGKMAGDPEEDITAAHMALRLKAKGPFFEQVWTKIPEKDPDIVNMVEEEEAHNVVYENDSWRFIKKTCPIVSGGLNPVLLKEFIDVMGTIDFITTMGGGVHSHPEGTKAGAKALVQAYEAWKAGIDIEEYAKDNKELALAIEFYTKNRTNAHKL"
        ],
        [
         "861",
         "366",
         "SUMO",
         "MSERYTDFVDLNYTPGENDLICTFRIEPADGISLEEAAGRVASESSTGTWTTLSTMPERVKKLKAKVFEIDGNIVKIAYPLDLFEPGNIPQILSSIAGNIFGMKAVKNLRLLDIHFPEELLKSFKGPQFGIEGVRELLGVHDRPLTATVPKPKVGLSAEEHAEVAYEAWVGGIDLIKDDENLTSQPFNPFEERVKKVMEARDKAEEETGEKKAYLVNITAPTEEMLRRAELVADYGGEYVMIDIITAGWSAVQTLRERCEDLGLAIHAHRAMHAAFTRNPKHGISMLVLAKLARLVGVDQLHTGTGVGKMEGDKEEVLAIADMLRQDWYNIKPVFPVASGGLHPGLVPDLIEIFGKDIIIQAGGGVHGHPDGTRAGAKALRQAIEAVMEGISLEEYAKEHPELAKALEKWGHVRPK",
         null,
         "1",
         "366-SUMO",
         "MSERYTDFVDLNYTPGENDLICTFRIEPADGISLEEAAGRVASESSTGTWTTLSTMPERVKKLKAKVFEIDGNIVKIAYPLDLFEPGNIPQILSSIAGNIFGMKAVKNLRLLDIHFPEELLKSFKGPQFGIEGVRELLGVHDRPLTATVPKPKVGLSAEEHAEVAYEAWVGGIDLIKDDENLTSQPFNPFEERVKKVMEARDKAEEETGEKKAYLVNITAPTEEMLRRAELVADYGGEYVMIDIITAGWSAVQTLRERCEDLGLAIHAHRAMHAAFTRNPKHGISMLVLAKLARLVGVDQLHTGTGVGKMEGDKEEVLAIADMLRQDWYNIKPVFPVASGGLHPGLVPDLIEIFGKDIIIQAGGGVHGHPDGTRAGAKALRQAIEAVMEGISLEEYAKEHPELAKALEKWGHVRPK"
        ],
        [
         "916",
         "380",
         "SUMO",
         "MSEWYTDFVDLNYTPGENELICVFRVEPADGISMEEAAGRVASESSTGTWTTLSTLPERIKRLMAKVFEIDGNIVKIAYPLDLFEEGNIPQLLSSIAGNIFGMKAIKNLRLLDIHFPAEYLKHFKGPQFGIEGVRELMGVHDRPLTATVPKPKVGFSAEEYAEVAYEAWVGGIDLIKDDENLTSQPFNRFEERVKKVMKARDKAEKETGEKKAYLVNITAPTEEMEKRAELVADYGGEYVMIDIVTAGWSAVQTLRERCEDLGLAIHAHRAMHAAFTRNPKHGISMLVLAKLARLVGVDQLHVGTGVGKMEGDKEEVMRIADILRQDWHNIKPVFPVSSGGLHPGLVPDLIEIFGKDIIIQAGGGVHGHPDGTRAGAKALRQAIEAVMEGISLEEYAKEHPELARALEKWGYVRPK",
         null,
         "1",
         "380-SUMO",
         "MSEWYTDFVDLNYTPGENELICVFRVEPADGISMEEAAGRVASESSTGTWTTLSTLPERIKRLMAKVFEIDGNIVKIAYPLDLFEEGNIPQLLSSIAGNIFGMKAIKNLRLLDIHFPAEYLKHFKGPQFGIEGVRELMGVHDRPLTATVPKPKVGFSAEEYAEVAYEAWVGGIDLIKDDENLTSQPFNRFEERVKKVMKARDKAEKETGEKKAYLVNITAPTEEMEKRAELVADYGGEYVMIDIVTAGWSAVQTLRERCEDLGLAIHAHRAMHAAFTRNPKHGISMLVLAKLARLVGVDQLHVGTGVGKMEGDKEEVMRIADILRQDWHNIKPVFPVSSGGLHPGLVPDLIEIFGKDIIIQAGGGVHGHPDGTRAGAKALRQAIEAVMEGISLEEYAKEHPELARALEKWGYVRPK"
        ],
        [
         "938",
         "382",
         "SUMO",
         "MSKVEWYLDFVDLDYTPGRDELIVEYYFEPNGVSPEEAAGRIASESSIGTWTTLWKLPEMAKRSMAKVFSLEKSGEGYIAKIAYPLTLFEEGNLVQLFSAIAGNIFGMKALKNLRLLDFHPPYEYLRHFKGPQFGVKGIMGVKDRPLTATVPKPKMGWSVEEYAEIAYELWSGGIDLLKDDENFTSFPFNRFEERVRKLYRVRDRVEAETGETKEYLINITGPAHVMEKRAELVAAEGGQYVMIDIVVVGWSALQYMREVAEDLGLAIHAHRAMHAAFTRNPRHGISMLVLAKAARMVGVDQIHTGTAVGKMAGDYEEVKRINDFLLSEWEHIKPVFPVASGGLHPGLMPELIRLFGKDLVIQAGGGVMGHPDGPRAGAKALRDAIEAAIEGVSLEEKAKESPELKKALEKWGYLKPK",
         null,
         "1",
         "382-SUMO",
         "MSKVEWYLDFVDLDYTPGRDELIVEYYFEPNGVSPEEAAGRIASESSIGTWTTLWKLPEMAKRSMAKVFSLEKSGEGYIAKIAYPLTLFEEGNLVQLFSAIAGNIFGMKALKNLRLLDFHPPYEYLRHFKGPQFGVKGIMGVKDRPLTATVPKPKMGWSVEEYAEIAYELWSGGIDLLKDDENFTSFPFNRFEERVRKLYRVRDRVEAETGETKEYLINITGPAHVMEKRAELVAAEGGQYVMIDIVVVGWSALQYMREVAEDLGLAIHAHRAMHAAFTRNPRHGISMLVLAKAARMVGVDQIHTGTAVGKMAGDYEEVKRINDFLLSEWEHIKPVFPVASGGLHPGLMPELIRLFGKDLVIQAGGGVMGHPDGPRAGAKALRDAIEAAIEGVSLEEKAKESPELKKALEKWGYLKPK"
        ],
        [
         "1020",
         "408",
         "SUMO",
         "TTAEETKKYQAGVRPYAETYYEPDYTPLDTDLLCAFRIQPKPGVDMVEAAAAVAAESSTGTWTEVWSNQLTDLDFYKARVYRIEGDIAYIAYPMDLFEEGSIVNIMSSIVGNVFGFKAVAALRLEDMRIPVALVKTFPGPNVGIYDERVRLNKWDRPLLGGTVKPKLGLSAKDYSTIIYECLVGGLDTTKDDENMNSQPFNRWRDRFLYVMEAVKKAEAETGEAKGHWLNVTAGSTEEMLRRTEYAAQLGSRYIMVDFLTAGFAASADVFKRAGELGLIVHCHRAMHAVFTRQKNHGIHFRVVAKWLRLAGGDHLHTGTVVGKLEGSWAETLDIVDLLRERYVPAGPTRGLYFDQDWAGLKTVWPVASGGIHVHHIPDLYKIYGNDAFWLFGGGTHGHPKGSRAGARANRVATEAIASGRTLEQAARDCPELRDAMELWRDIRFDVSE",
         null,
         "1",
         "408-SUMO",
         "TTAEETKKYQAGVRPYAETYYEPDYTPLDTDLLCAFRIQPKPGVDMVEAAAAVAAESSTGTWTEVWSNQLTDLDFYKARVYRIEGDIAYIAYPMDLFEEGSIVNIMSSIVGNVFGFKAVAALRLEDMRIPVALVKTFPGPNVGIYDERVRLNKWDRPLLGGTVKPKLGLSAKDYSTIIYECLVGGLDTTKDDENMNSQPFNRWRDRFLYVMEAVKKAEAETGEAKGHWLNVTAGSTEEMLRRTEYAAQLGSRYIMVDFLTAGFAASADVFKRAGELGLIVHCHRAMHAVFTRQKNHGIHFRVVAKWLRLAGGDHLHTGTVVGKLEGSWAETLDIVDLLRERYVPAGPTRGLYFDQDWAGLKTVWPVASGGIHVHHIPDLYKIYGNDAFWLFGGGTHGHPKGSRAGARANRVATEAIASGRTLEQAARDCPELRDAMELWRDIRFDVSE"
        ],
        [
         "1067",
         "424",
         "SUMO",
         "VTTLTAAPTAELSEKYKAGVRPYAADYYVPDYVPLDTDLLCAFRIQPKPGVDMIEAAAAVAAESSTGTWTEVWSNQLTDLDFYKAKVYRIEGDIAYIAYPMDLFEENSVVNIMSSIVGNVFGFKAVSALRLEDMRIPVALVKTFPGPNVGIYDERVWSNKWDRPLLGGTVKPKLGLSPKAYSTIIYECLVGGLDTTKDDENMNSQPFSRWRDRFMYGQEAVEKAMAETGEFKGHWHNVTAGSTEESLRRLEYVAELGSRMCMFDFLTAGFAASADVFKRAGELGLIVHCHRAMHAVFTRQKNHGIHMRVVAKWLRLAGGDHLHTGTVVGKLEGSWNETLGIIDLLRERVVPANPERGLYFEQDFAGLKTTWPVASGGIHVHHIPDLYKIYGNDAFWLFGGGTHGHPRGSRAGARANRVATEAIASGKTLEQAARTCPELREAMELWGNVKFEVSE",
         null,
         "1",
         "424-SUMO",
         "VTTLTAAPTAELSEKYKAGVRPYAADYYVPDYVPLDTDLLCAFRIQPKPGVDMIEAAAAVAAESSTGTWTEVWSNQLTDLDFYKAKVYRIEGDIAYIAYPMDLFEENSVVNIMSSIVGNVFGFKAVSALRLEDMRIPVALVKTFPGPNVGIYDERVWSNKWDRPLLGGTVKPKLGLSPKAYSTIIYECLVGGLDTTKDDENMNSQPFSRWRDRFMYGQEAVEKAMAETGEFKGHWHNVTAGSTEESLRRLEYVAELGSRMCMFDFLTAGFAASADVFKRAGELGLIVHCHRAMHAVFTRQKNHGIHMRVVAKWLRLAGGDHLHTGTVVGKLEGSWNETLGIIDLLRERVVPANPERGLYFEQDFAGLKTTWPVASGGIHVHHIPDLYKIYGNDAFWLFGGGTHGHPRGSRAGARANRVATEAIASGKTLEQAARTCPELREAMELWGNVKFEVSE"
        ],
        [
         "1152",
         "501",
         "SUMO",
         "MSKANSNSKSQEKALFDAGVKEYSEAGRYYYDIGYQPSDTQVLAAFRITPQEGVPWEEAAAAVAAESSFATWTTVWSDYLVDPSRYCARTYEIKPVPGRDDQFMAYIAYPLDLFEEGSMPNLMSSLVGNVFGFKPLRALRLEDIYFPPALLKTFQGPPHGIQVERDRLNKYGRPLLGATMKPKLGLSAKNYGRLVYEALRGGLDFTKDDENITSQPFMRWRDRYEFVMEAVHKAEAETGERKGHYLNVTAGTMEEMYRRAEFAKELGSRIIMVDYLIVGFTAFTSLSKWCRENGMLLHAHRAMHSVIDRQPNHGIHWRVLAKWCRIVGADHLHNGTVVGKLEGDRASTIGINEMLREDYVKKEECPGFHFDQPWLSMPGVFPVASGGIHVWHMPELVSIFGDDSILQFGGGTVGHPWGSAAGATANRVALEAVVQARNEGRDLVAEGPDILKEAARHSPELRAAMETWKGITFDYETVDKLAVV",
         null,
         "1",
         "501-SUMO",
         "MSKANSNSKSQEKALFDAGVKEYSEAGRYYYDIGYQPSDTQVLAAFRITPQEGVPWEEAAAAVAAESSFATWTTVWSDYLVDPSRYCARTYEIKPVPGRDDQFMAYIAYPLDLFEEGSMPNLMSSLVGNVFGFKPLRALRLEDIYFPPALLKTFQGPPHGIQVERDRLNKYGRPLLGATMKPKLGLSAKNYGRLVYEALRGGLDFTKDDENITSQPFMRWRDRYEFVMEAVHKAEAETGERKGHYLNVTAGTMEEMYRRAEFAKELGSRIIMVDYLIVGFTAFTSLSKWCRENGMLLHAHRAMHSVIDRQPNHGIHWRVLAKWCRIVGADHLHNGTVVGKLEGDRASTIGINEMLREDYVKKEECPGFHFDQPWLSMPGVFPVASGGIHVWHMPELVSIFGDDSILQFGGGTVGHPWGSAAGATANRVALEAVVQARNEGRDLVAEGPDILKEAARHSPELRAAMETWKGITFDYETVDKLAVV"
        ],
        [
         "1171",
         "509",
         "SUMO",
         "MQTQTQTKAMYQAGVKDYRETYYDPDYTPKDTDILAAFRVTPQPGVPPEEAAAAVAAESSTGTWTTVWTDLLTDLDRYKGRCYRIEPVPGEDDQYIAYVAYPLDLFEEGSVVNLLTSIVGNVFGFKALRALRLEDLRIPVAYVKTFQGPPHGIQVERDKLNKYGRPLLGCTIKPKLGLSAKNYGRAVYECLRGGLDFTKDDENVNSQPFMRWRDRFLFVAEAIHKAEAETGERKGHYLNVTAPTCEEMYKRAEFAKELGMPIIMHDYLTGGFTANTSLAKWCRDNGMLLHIHRAMHAVIDRQKNHGIHFRVLAKCLRLSGGDHLHSGTVVGKLEGDREATLGFVDLMREDYIPQDRSRGIYFDQDWASMPGVFPVASGGIHVWHMPALVSIFGDDSVLQFGGGTLGHPWGNAAGATANRVALEACVQARNEGRDLAREGKDILREAARHSPELAAALETWKEIKFEFETVDTLDVASK",
         null,
         "1",
         "509-SUMO",
         "MQTQTQTKAMYQAGVKDYRETYYDPDYTPKDTDILAAFRVTPQPGVPPEEAAAAVAAESSTGTWTTVWTDLLTDLDRYKGRCYRIEPVPGEDDQYIAYVAYPLDLFEEGSVVNLLTSIVGNVFGFKALRALRLEDLRIPVAYVKTFQGPPHGIQVERDKLNKYGRPLLGCTIKPKLGLSAKNYGRAVYECLRGGLDFTKDDENVNSQPFMRWRDRFLFVAEAIHKAEAETGERKGHYLNVTAPTCEEMYKRAEFAKELGMPIIMHDYLTGGFTANTSLAKWCRDNGMLLHIHRAMHAVIDRQKNHGIHFRVLAKCLRLSGGDHLHSGTVVGKLEGDREATLGFVDLMREDYIPQDRSRGIYFDQDWASMPGVFPVASGGIHVWHMPALVSIFGDDSVLQFGGGTLGHPWGNAAGATANRVALEACVQARNEGRDLAREGKDILREAARHSPELAAALETWKEIKFEFETVDTLDVASK"
        ],
        [
         "1229",
         "603",
         "SUMO",
         "MMAKTYNAGVKEYRQTYWMPDYTPLDTDILACFKITPQPGVPREEAAAAVAAESSTGTWTTVWTDLLTDMDYYKGRAYRIEDVPGDDTCFYAFIAYPIDLFEEGSVVNVFTSLVGNVFGFKAVRALRLEDVRFPIAYVKTCGGPPNGIQVERDIMNKYGRPLLGCTIKPKLGLSAKNYGRAVYECLRGGLDFTKDDENVNSQPFMRWRQRFDFVMEAIHKAERETGERKGHYLNVTAPTPEEMYKRAEYAKEIGAPIIMHDYITGGFCANTGLANWCRDNGMLLHIHRAMHAVIDRNPHHGIHFRVLAKILRLSGGDHLHTGTVVGKLEGDREATLGWIDLLRESFIPEDRSRGIFFDQDWGSMPGVFAVASGGIHVWHMPALVTIFGDDSVLQFGGGTLGHPWGNAAGAAANRVALEACVKARNEGRELEKEGKEILTKAAQHSPELKIAMETWKEIKFEFDTVDKLDVAHK",
         null,
         "1",
         "603-SUMO",
         "MMAKTYNAGVKEYRQTYWMPDYTPLDTDILACFKITPQPGVPREEAAAAVAAESSTGTWTTVWTDLLTDMDYYKGRAYRIEDVPGDDTCFYAFIAYPIDLFEEGSVVNVFTSLVGNVFGFKAVRALRLEDVRFPIAYVKTCGGPPNGIQVERDIMNKYGRPLLGCTIKPKLGLSAKNYGRAVYECLRGGLDFTKDDENVNSQPFMRWRQRFDFVMEAIHKAERETGERKGHYLNVTAPTPEEMYKRAEYAKEIGAPIIMHDYITGGFCANTGLANWCRDNGMLLHIHRAMHAVIDRNPHHGIHFRVLAKILRLSGGDHLHTGTVVGKLEGDREATLGWIDLLRESFIPEDRSRGIFFDQDWGSMPGVFAVASGGIHVWHMPALVTIFGDDSVLQFGGGTLGHPWGNAAGAAANRVALEACVKARNEGRELEKEGKEILTKAAQHSPELKIAMETWKEIKFEFDTVDKLDVAHK"
        ],
        [
         "1278",
         "340",
         "SUMO",
         "MIIEELVQSLNPKQQAYVNLDLPDPRNGEYLLAVFHLIPGGGLNILQAAAEVAAESSTGTNFKVNTETPFSRTMNALVYKIDLEKNLVWIAYPWRLFDRGGNVQNILTYIVGNILGMKEIKALKLLDVWFPPSMLEQYDGPSYTLDDMRKYLGVYDRPILGTIIKPKMGLTSAEYAEVCYDFWVGGGDFVKNDEPQANQDFCPYDKMVKHVKEAMDKAVKETGKKKVHSFNVSAADFDTMIERCEMIRNAGFEPGSYAFLIDGITAGWMAVQTLRRRYPDVFIHFHRAGHGAFTRPENPIGFSVLVLSKFARLAGASGIHTGTAGVGKMAGSPEEDVTAAHNILKLKAKGHFFEQSWSKIPETDKDAINMVQEDTAHHVILEDDSWRGMKKCCPIVSGGLNPVLLKPFIDVMGNVDFITTMGAGVHAHPGGTKAGAKALVQACEAYKKGIDIEEYAKDHKELAQAIEFFSKKKKKA",
         null,
         "1",
         "340-SUMO",
         "MIIEELVQSLNPKQQAYVNLDLPDPRNGEYLLAVFHLIPGGGLNILQAAAEVAAESSTGTNFKVNTETPFSRTMNALVYKIDLEKNLVWIAYPWRLFDRGGNVQNILTYIVGNILGMKEIKALKLLDVWFPPSMLEQYDGPSYTLDDMRKYLGVYDRPILGTIIKPKMGLTSAEYAEVCYDFWVGGGDFVKNDEPQANQDFCPYDKMVKHVKEAMDKAVKETGKKKVHSFNVSAADFDTMIERCEMIRNAGFEPGSYAFLIDGITAGWMAVQTLRRRYPDVFIHFHRAGHGAFTRPENPIGFSVLVLSKFARLAGASGIHTGTAGVGKMAGSPEEDVTAAHNILKLKAKGHFFEQSWSKIPETDKDAINMVQEDTAHHVILEDDSWRGMKKCCPIVSGGLNPVLLKPFIDVMGNVDFITTMGAGVHAHPGGTKAGAKALVQACEAYKKGIDIEEYAKDHKELAQAIEFFSKKKKKA"
        ],
        [
         "1379",
         "365",
         "SUMO",
         "MSKRYTDFVDLNYTPKENDLICTFHIEPADGVDLEEAAGRVAAESSTGTWTDVSTMPEIVEKLKARVYEIDESGNIVKIAYPLDLFEPGNIPQILSSIAGNIFGMKAVKNLRLLDIHFPEELVKSFKGPKFGIEGVRELLGVYDRPLVGTIVKPKVGLSAEEHAEVAYEAWVGGIDLIKDDENLTSQPFNPFEERVKKVMEARDKAEEETGEKKVYLVNITAPTEEMIRRAELVADLGGKYVMIDIITAGFSAVQSLREEDLGLAIHAHRAMHAAFTRNPKHGISMLVLAKLARLVGVDQLHIGTGVGKMEGDKEEVLAIRDALRQDWYNIKPVFPVASGGLHPGLVPDLIDIFGKDIIIQAGGGVHGHPDGTRAGAKALRQAIEAVMEGISLEEYAKEHPELAKALEKWGHVRPK",
         null,
         "1",
         "365-SUMO",
         "MSKRYTDFVDLNYTPKENDLICTFHIEPADGVDLEEAAGRVAAESSTGTWTDVSTMPEIVEKLKARVYEIDESGNIVKIAYPLDLFEPGNIPQILSSIAGNIFGMKAVKNLRLLDIHFPEELVKSFKGPKFGIEGVRELLGVYDRPLVGTIVKPKVGLSAEEHAEVAYEAWVGGIDLIKDDENLTSQPFNPFEERVKKVMEARDKAEEETGEKKVYLVNITAPTEEMIRRAELVADLGGKYVMIDIITAGFSAVQSLREEDLGLAIHAHRAMHAAFTRNPKHGISMLVLAKLARLVGVDQLHIGTGVGKMEGDKEEVLAIRDALRQDWYNIKPVFPVASGGLHPGLVPDLIDIFGKDIIIQAGGGVHGHPDGTRAGAKALRQAIEAVMEGISLEEYAKEHPELAKALEKWGHVRPK"
        ],
        [
         "1447",
         "387",
         "SUMO",
         "MSEKFDEIYLEFVDKNYKPGKDEIIAVFRVTPAEGISIEDAAGRVAAESSVGTWTTLSTLPERVKKLKAKAYEFHDLGDGSWIVRIAYPVELFEEGNIPNLLSSIAGNIFGMKAIKGLRLEDIYFPPKYLKNFKGPNKGIEGVREILGVKDRPIVATVPKPKVGYSPEEYAKVAYELLVGGIDLIKDDENLTSQPFCRFEERLKKVMKAIDKAEKETGEKKAYLANITAPIREMEKRLKLVADYGNKYVMIDVLTAGWSALQHIRELAEEYGLAIHGHRAMHAAFTRNPKHGISMFVLAKLARMVGVDQLHVGTAGVGKMEGGKREVLRHARILREQYYRPDEGDLFHLEQEWHNIKPVFPVSSGGLHPGTLPEVIEVLGKDIILQVGGGVLGHPDGPRAGARAVRQAIEAVMKGISLDEYAKEHRELARALEKWGYVRPV",
         null,
         "1",
         "387-SUMO",
         "MSEKFDEIYLEFVDKNYKPGKDEIIAVFRVTPAEGISIEDAAGRVAAESSVGTWTTLSTLPERVKKLKAKAYEFHDLGDGSWIVRIAYPVELFEEGNIPNLLSSIAGNIFGMKAIKGLRLEDIYFPPKYLKNFKGPNKGIEGVREILGVKDRPIVATVPKPKVGYSPEEYAKVAYELLVGGIDLIKDDENLTSQPFCRFEERLKKVMKAIDKAEKETGEKKAYLANITAPIREMEKRLKLVADYGNKYVMIDVLTAGWSALQHIRELAEEYGLAIHGHRAMHAAFTRNPKHGISMFVLAKLARMVGVDQLHVGTAGVGKMEGGKREVLRHARILREQYYRPDEGDLFHLEQEWHNIKPVFPVSSGGLHPGTLPEVIEVLGKDIILQVGGGVLGHPDGPRAGARAVRQAIEAVMKGISLDEYAKEHRELARALEKWGYVRPV"
        ],
        [
         "1565",
         "436",
         "SUMO",
         "MSQTTDEQKAQFSAGVREYREMGYYDPNYTPKDTDILAAFRVTPQPGVPPEEAAAAVAGESSTATWTVVWTDLLTNLERYQAKCYRIEPVPGTEDQYIAYIAYDLDLFEEGSIANLTSSIVGNVFGFKALKALRLEDMRIPVAYVKTFQGPPHGIQVERDLLNKYGRPLLGATVKPKLGLSAKNYGRVVYEALRGGLDFTKDDENINSQPFMRWRDRFLYCMEAVHKAEAETGERKGHYLNVTAPTMEEMYERAEFAKELGSPIIMVDFLTVGFTAHTSLSKWCRKNGMLLHVHRAMHATIDRQKNHGISFRVLAKWLRLAGGDHLHTGTVVGKLEGDRNMTQGYVDLLREDYVPADPSRGLYFDQDWASLPAVMPVASGGIHVGHMPQLVDIFGDDVVLQFGGGTIGHPWGIAAGATANRVALEAVVQARNEGRDLLAEGQEILKEAAKHSPELRAALDTWKDITFDYESTDTPDVVATPST",
         null,
         "1",
         "436-SUMO",
         "MSQTTDEQKAQFSAGVREYREMGYYDPNYTPKDTDILAAFRVTPQPGVPPEEAAAAVAGESSTATWTVVWTDLLTNLERYQAKCYRIEPVPGTEDQYIAYIAYDLDLFEEGSIANLTSSIVGNVFGFKALKALRLEDMRIPVAYVKTFQGPPHGIQVERDLLNKYGRPLLGATVKPKLGLSAKNYGRVVYEALRGGLDFTKDDENINSQPFMRWRDRFLYCMEAVHKAEAETGERKGHYLNVTAPTMEEMYERAEFAKELGSPIIMVDFLTVGFTAHTSLSKWCRKNGMLLHVHRAMHATIDRQKNHGISFRVLAKWLRLAGGDHLHTGTVVGKLEGDRNMTQGYVDLLREDYVPADPSRGLYFDQDWASLPAVMPVASGGIHVGHMPQLVDIFGDDVVLQFGGGTIGHPWGIAAGATANRVALEAVVQARNEGRDLLAEGQEILKEAAKHSPELRAALDTWKDITFDYESTDTPDVVATPST"
        ],
        [
         "1594",
         "607",
         "SUMO",
         "MATKTYDAGVKDYALTYWTPDYVPLDSDLLACFKVTPQPGVPREEAAAAVAAESSTGTWTTVWSDLLTDLDYYKGRAYRIEDVPGDKESFYAFVAYPIDLFEEGSIVNVLTSLVGNVFGFKAVRHLRLEDIRFPLHYVKTCGGPPNGIQVERDRMDKYGRPFLGATVKPKLGLSAKNYGRAVYEMLRGGLDFTKDDENVNSQPFMRWQNRFEFVMEAVRKAQEETGERKGHYLNVTAPTCEEMFKRAEFAKELGAPIIMHDFLTGGFTANTSLANWCRDNGMLLHIHRAMHAVIDRHPKHGIHFRVLAKCLRLSGGDHLHTGTVVGKLEGDRQSTLGFVDLLRESFVPEDRSRGLFFDQDWGGMPGVMAVASGGIHVWHIPALVTIFGDDSVLQFGGGTQGHPWGNAAGAAANRVATEACVKARNEGVEVEKEAREILTEAARHSPELAAAMETWKEIKFEFDVVDKLDVA",
         null,
         "1",
         "607-SUMO",
         "MATKTYDAGVKDYALTYWTPDYVPLDSDLLACFKVTPQPGVPREEAAAAVAAESSTGTWTTVWSDLLTDLDYYKGRAYRIEDVPGDKESFYAFVAYPIDLFEEGSIVNVLTSLVGNVFGFKAVRHLRLEDIRFPLHYVKTCGGPPNGIQVERDRMDKYGRPFLGATVKPKLGLSAKNYGRAVYEMLRGGLDFTKDDENVNSQPFMRWQNRFEFVMEAVRKAQEETGERKGHYLNVTAPTCEEMFKRAEFAKELGAPIIMHDFLTGGFTANTSLANWCRDNGMLLHIHRAMHAVIDRHPKHGIHFRVLAKCLRLSGGDHLHTGTVVGKLEGDRQSTLGFVDLLRESFVPEDRSRGLFFDQDWGGMPGVMAVASGGIHVWHIPALVTIFGDDSVLQFGGGTQGHPWGNAAGAAANRVATEACVKARNEGVEVEKEAREILTEAARHSPELAAAMETWKEIKFEFDVVDKLDVA"
        ],
        [
         "1612",
         "E7",
         "SUMO",
         "MHEHFDSIYLEFVDESYKPGKDEVIAVFRVTPAQGISIKDAAGRIAAESSVGTWTTLSVKPSWFEKLKAKAYRFHDLGDGSWLVWVAYPVELFEEGSIPNFASSILGNIFGMKAIAGLRVEDVYFPPSYLETFPGPNKGIQGVREILGIKDRPILATVPKPKLGYTPEEYGRVAYEILIGGIDLVKDDENFASQPFCRFEARLKEVMKAIDRAEKETGERKGYLANVTAPIREMEKRIKLVADYGNKFIMIDFLTAGWAALQHARELAEEYDLAIHGHRAFHAAFTRNPKHGVSMFLVAKLARMAGVDHVHVGTPGVGKMDAKTREVLEHTRIVREQYYRPKEGDLFHLEQPWSNIKPVFPVASGGLHPGTLPEVIRVMGKDIIMQVGGGVLGHPDGPEAGARAVRQAVEAAMKGISLDEYAREHRELARALEKWGYVRPV",
         null,
         "1",
         "E7-SUMO",
         "MHEHFDSIYLEFVDESYKPGKDEVIAVFRVTPAQGISIKDAAGRIAAESSVGTWTTLSVKPSWFEKLKAKAYRFHDLGDGSWLVWVAYPVELFEEGSIPNFASSILGNIFGMKAIAGLRVEDVYFPPSYLETFPGPNKGIQGVREILGIKDRPILATVPKPKLGYTPEEYGRVAYEILIGGIDLVKDDENFASQPFCRFEARLKEVMKAIDRAEKETGERKGYLANVTAPIREMEKRIKLVADYGNKFIMIDFLTAGWAALQHARELAEEYDLAIHGHRAFHAAFTRNPKHGVSMFLVAKLARMAGVDHVHVGTPGVGKMDAKTREVLEHTRIVREQYYRPKEGDLFHLEQPWSNIKPVFPVASGGLHPGTLPEVIRVMGKDIIMQVGGGVLGHPDGPEAGARAVRQAVEAAMKGISLDEYAREHRELARALEKWGYVRPV"
        ],
        [
         "1656",
         "361",
         "SUMO",
         "MDQSNRYADLSLKEADLIKGGRHVLCAYIMKPKAGYGYLETAAHFAAESSTGTNVEVSTTDDFTKGVDALVYEIDEAKELMKIAYPVELFDRNIIDGRAMIASFLTLTIGNNQGMGDVEYAKMYDFYVPPSYLRLFDGPAVNIADMWRILGRPVVNGGMVVGTIIKPKLGLRPKPFAEACYQFWLGGDFIKNDEPQGNQVFCPMKETIPLVADAMRRAQDETGEAKLFSANITADDPAEMIARGEYILETFGPNASHVAFLVDGYVAGPTAVTTARRNFPKQFLHYHRAGHGAVTSPQSKRGYTAFVHTKMSRLLGASGIHVGTMGYGKMEGDASDKIIAYMLERDSADGPYYHQEWAGMKPTTPIISGGMNALRLPGFFENLGHSNVIQTAGGGSFGHKDGPAAGAVSLRQAHEAWKQGADLVEYAKEHKEFARAFESFPKDADKIYPGWREKLGVHA",
         null,
         "1",
         "361-SUMO",
         "MDQSNRYADLSLKEADLIKGGRHVLCAYIMKPKAGYGYLETAAHFAAESSTGTNVEVSTTDDFTKGVDALVYEIDEAKELMKIAYPVELFDRNIIDGRAMIASFLTLTIGNNQGMGDVEYAKMYDFYVPPSYLRLFDGPAVNIADMWRILGRPVVNGGMVVGTIIKPKLGLRPKPFAEACYQFWLGGDFIKNDEPQGNQVFCPMKETIPLVADAMRRAQDETGEAKLFSANITADDPAEMIARGEYILETFGPNASHVAFLVDGYVAGPTAVTTARRNFPKQFLHYHRAGHGAVTSPQSKRGYTAFVHTKMSRLLGASGIHVGTMGYGKMEGDASDKIIAYMLERDSADGPYYHQEWAGMKPTTPIISGGMNALRLPGFFENLGHSNVIQTAGGGSFGHKDGPAAGAVSLRQAHEAWKQGADLVEYAKEHKEFARAFESFPKDADKIYPGWREKLGVHA"
        ],
        [
         "1803",
         "650",
         "SUMO",
         "MAEDRLTATYHIEGGADIEKAAQAIAAEQSTGTWTRVPAETEELRERHAARVEDIEELGGGGGRVTIAYPLENFGPNLPQLLSTLMGNLFGMSALKGVRLLDIQFPPSFLKSFPGPKFGIEGVRKLTGVYDRPLIGTIIKPKIGLSPEELAEVAHQLAEGGIDFIKDDEILADPPFCPFEERVKAVMEALDKAEEETGKKTLYAVNITAEADEMLRRAELAVDLGATAVMINVLTVGLSALQALREHVNLPIHAHRAGHGAFTRNPEHGISFRVLAKLMRLAGADHLHVGTFGGKMAEPEDEVLQTAHALRQPWYDLKPVFPVFSGGMHPGMVPPLLKRFGTDIILAAGGGIHGHPDGPRAGARAFRQALEAAMEGVPLEEYAKDHPELARALEKWGPAR",
         null,
         "0",
         "650-SUMO",
         "MAEDRLTATYHIEGGADIEKAAQAIAAEQSTGTWTRVPAETEELRERHAARVEDIEELGGGGGRVTIAYPLENFGPNLPQLLSTLMGNLFGMSALKGVRLLDIQFPPSFLKSFPGPKFGIEGVRKLTGVYDRPLIGTIIKPKIGLSPEELAEVAHQLAEGGIDFIKDDEILADPPFCPFEERVKAVMEALDKAEEETGKKTLYAVNITAEADEMLRRAELAVDLGATAVMINVLTVGLSALQALREHVNLPIHAHRAGHGAFTRNPEHGISFRVLAKLMRLAGADHLHVGTFGGKMAEPEDEVLQTAHALRQPWYDLKPVFPVFSGGMHPGMVPPLLKRFGTDIILAAGGGIHGHPDGPRAGARAFRQALEAAMEGVPLEEYAKDHPELARALEKWGPAR"
        ],
        [
         "1896",
         "494",
         "SUMO",
         "MQTNSQTKAMFQAGVREYRETYYDPGYTPKDTDILAAFRVTPQPGVPPEEAAAAVAAESSTGTWTTVWTDLLTDLERYQARCYRIEPVPGQEDQYIAYIAYPLDLFEEGSIVNLMSSIVGNVFGFKALRALRLEDLRIPVAYVKTFQGPPHGIQVERDRLNKYGRPLLGATIKPKLGLSAKNYGRAVYECLRGGLDFTKDDENINSQPFMRWRDRFLFVMEAVHKAEAETGERKGHYLNVTAPTMEEMYERAEFAKELGSPIIMVDYLTVGFTAHTSLSKWCRKNGMLLHVHRAMHAVIDRQKNHGIHFRVLAKWLRLAGGDHLHTGTVVGKLEGDRAATLGIVDLLREDYVPADPSRGIYFDQDWASLPAVFPVASGGIHVWHMPALVSIFGDDAVLQFGGGTLGHPWGNAAGATANRVALEAVVQARNEGRDLVAEGQEILKEAARHSPELRAALETWKDIKFDFETVDTLDVVAAKA",
         null,
         "1",
         "494-SUMO",
         "MQTNSQTKAMFQAGVREYRETYYDPGYTPKDTDILAAFRVTPQPGVPPEEAAAAVAAESSTGTWTTVWTDLLTDLERYQARCYRIEPVPGQEDQYIAYIAYPLDLFEEGSIVNLMSSIVGNVFGFKALRALRLEDLRIPVAYVKTFQGPPHGIQVERDRLNKYGRPLLGATIKPKLGLSAKNYGRAVYECLRGGLDFTKDDENINSQPFMRWRDRFLFVMEAVHKAEAETGERKGHYLNVTAPTMEEMYERAEFAKELGSPIIMVDYLTVGFTAHTSLSKWCRKNGMLLHVHRAMHAVIDRQKNHGIHFRVLAKWLRLAGGDHLHTGTVVGKLEGDRAATLGIVDLLREDYVPADPSRGIYFDQDWASLPAVFPVASGGIHVWHMPALVSIFGDDAVLQFGGGTLGHPWGNAAGATANRVALEAVVQARNEGRDLVAEGQEILKEAARHSPELRAALETWKDIKFDFETVDTLDVVAAKA"
        ],
        [
         "1947",
         "E1",
         "SUMO",
         "MAVKKYSAGVKEYRQTYWMPEYTPLDSDILACFKITPQPGVDREEAAAAVAAESSTGTWTTVWTDLLTDMDYYKGRAYRIEDVPGDDAAFYAFIAYPIDLFEEGSVVNVFTSLVGNVFGFKAVRGLRLEDVRFPLAYVKTCGGPPHGIQVERDKMNKYGRPLLGCTIKPKLGLSAKNYGRAVYECLRGGLDFTKDDENINSQPFMRWRDRFLFVQDATETAEAQTGERKGHYLNVTAPTPEEMYKRAEFAKEIGAPIIMHDYITGGFTANTGLAKWCQDNGVLLHIHRAMHAVIDRNPNHGIHFRVLTKILRLSGGDHLHTGTVVGKLEGDRASTLGWIDLLRESFIPEDRSRGIFFDQDWGSMPGVFAVASGGIHVWHMPALVNIFGDDSVLQFGGGTLGHPWGNAAGAAANRVALEACVEARNQGRDIEKEGKEILTAAAQHSPELKIAMETWKEIKFEFDTVDKLDTQNR",
         null,
         "0",
         "E1-SUMO",
         "MAVKKYSAGVKEYRQTYWMPEYTPLDSDILACFKITPQPGVDREEAAAAVAAESSTGTWTTVWTDLLTDMDYYKGRAYRIEDVPGDDAAFYAFIAYPIDLFEEGSVVNVFTSLVGNVFGFKAVRGLRLEDVRFPLAYVKTCGGPPHGIQVERDKMNKYGRPLLGCTIKPKLGLSAKNYGRAVYECLRGGLDFTKDDENINSQPFMRWRDRFLFVQDATETAEAQTGERKGHYLNVTAPTPEEMYKRAEFAKEIGAPIIMHDYITGGFTANTGLAKWCQDNGVLLHIHRAMHAVIDRNPNHGIHFRVLTKILRLSGGDHLHTGTVVGKLEGDRASTLGWIDLLRESFIPEDRSRGIFFDQDWGSMPGVFAVASGGIHVWHMPALVNIFGDDSVLQFGGGTLGHPWGNAAGAAANRVALEACVEARNQGRDIEKEGKEILTAAAQHSPELKIAMETWKEIKFEFDTVDKLDTQNR"
        ],
        [
         "1975",
         "406",
         "SUMO",
         "MPAVQPSATAAEARPQFQAGVRPYRETYYDPDYTPRETDILCAFRIQPKPGVDLVEAAAAVAAESSTGTWTEVWSNALTDLERYKARCYRIEGDIAYIAYPLDLFEEGSIVNIMSSIVGNVFGFKAVAALRLEDMRIPVALVKTFPGPPTGIENERARLNKYGRPLLGGTVKPKLGLSAKDYARVVYECLVGGLDTTKDDENMNSQPFNRWRDRFLFVMEAVKKAEAETGEAKGHWLNVTAATTEEMLERAEYAAQLGSRYIMTDYLTMGFAAHQSVVKRAAKLGLMVHVHRAMHAVIDRQKNHGISFRVLAKWLRLAGGDHLHTGTVVGKLEGDRAATMAIADMLREDFVPANPAVGLYFDQDWASLKTVFPVASGGIHVHHIPALYEIYGNDAFWLFGGGTHGHPGGSRAGARANRVATEAVAQGRTLEQAARDCPELREAMELWKDIRFDD",
         null,
         "1",
         "406-SUMO",
         "MPAVQPSATAAEARPQFQAGVRPYRETYYDPDYTPRETDILCAFRIQPKPGVDLVEAAAAVAAESSTGTWTEVWSNALTDLERYKARCYRIEGDIAYIAYPLDLFEEGSIVNIMSSIVGNVFGFKAVAALRLEDMRIPVALVKTFPGPPTGIENERARLNKYGRPLLGGTVKPKLGLSAKDYARVVYECLVGGLDTTKDDENMNSQPFNRWRDRFLFVMEAVKKAEAETGEAKGHWLNVTAATTEEMLERAEYAAQLGSRYIMTDYLTMGFAAHQSVVKRAAKLGLMVHVHRAMHAVIDRQKNHGISFRVLAKWLRLAGGDHLHTGTVVGKLEGDRAATMAIADMLREDFVPANPAVGLYFDQDWASLKTVFPVASGGIHVHHIPALYEIYGNDAFWLFGGGTHGHPGGSRAGARANRVATEAVAQGRTLEQAARDCPELREAMELWKDIRFDD"
        ],
        [
         "1985",
         "411",
         "SUMO",
         "MTTITAAPTAEVSEKYKAGVRPYAADYYVPDYVPLDTDLLCAFRIQPKPGVDMIEAAAAVAAESSTGTWTEVWSNQLTDLDFYKAKVYRIEGDIAYIAYPMDLFEENSIVNIMSSIVGNVFGFKAVSALRLEDMRIPVALVKTFPGPNVGIYDERVRLNKWDRPLLGGTVKPKLGLSAKDYSTIIYECLVGGLDTTKDDENMNSQPFNRWRDRFLYGMEAVKKAEAETGEAKGHWFNVTAGSTEESLRRLEYVAALGSRYIMFDFLTAGFAASADVFKRAGELGLIVHCHRAMHAVFTRQKNHGIHMRVVAKWLRLAGGDHLHTGTVVGKLEGSWNETLGIIDLLRERVIPANPERGLYFEQDFAGLKTVWPVASGGIHVHHIPDLYKIYGNDAFWLFGGGTHGHPRGSRAGARANRVATEAIASGKTLEQAARTCPELREAMELWGNVKFEVSE",
         null,
         "1",
         "411-SUMO",
         "MTTITAAPTAEVSEKYKAGVRPYAADYYVPDYVPLDTDLLCAFRIQPKPGVDMIEAAAAVAAESSTGTWTEVWSNQLTDLDFYKAKVYRIEGDIAYIAYPMDLFEENSIVNIMSSIVGNVFGFKAVSALRLEDMRIPVALVKTFPGPNVGIYDERVRLNKWDRPLLGGTVKPKLGLSAKDYSTIIYECLVGGLDTTKDDENMNSQPFNRWRDRFLYGMEAVKKAEAETGEAKGHWFNVTAGSTEESLRRLEYVAALGSRYIMFDFLTAGFAASADVFKRAGELGLIVHCHRAMHAVFTRQKNHGIHMRVVAKWLRLAGGDHLHTGTVVGKLEGSWNETLGIIDLLRERVIPANPERGLYFEQDFAGLKTVWPVASGGIHVHHIPDLYKIYGNDAFWLFGGGTHGHPRGSRAGARANRVATEAIASGKTLEQAARTCPELREAMELWGNVKFEVSE"
        ],
        [
         "2016",
         "338",
         "SUMO",
         "MQKEYINLKLKDPKNGEYLLAVFHLVPAGGLDLLDAASEVAAESSTGSNVKVSTATEFSKSLNALVYKIDKEKNLVWIAYPWRIFDRGGNVQNILTYIAGNIFGMSDIKALKLLDVWFPPEMLKQYDGPSYTIDDMRKYLGVYDRPILGTIIKPKIGLKPEEFAEVCYQFWVGGGDFVKNDEPQANQDFCPYEKMVDAIREAMDKAEKETGKKKVHSFNISAADFDTMIKRAEYIINKMKPGSYAFLIDGITAGWTAVQTLRRRYPDVFIHFHRAGHGAFTRPENPIGYSVLVLTKFARLAGASGIHTGTAGVGKMAGDAEEDVTAAHMALRAKAKGPFFEQDWYGMKPTCPIVSGGLNPVLLKPFIDVMGNVDFITTMGGGVHSHPGGTKAGAKALVQACEAWKKGIDIEEYAKDHKELAQAIEFYSKKKEKTHKY",
         null,
         "1",
         "338-SUMO",
         "MQKEYINLKLKDPKNGEYLLAVFHLVPAGGLDLLDAASEVAAESSTGSNVKVSTATEFSKSLNALVYKIDKEKNLVWIAYPWRIFDRGGNVQNILTYIAGNIFGMSDIKALKLLDVWFPPEMLKQYDGPSYTIDDMRKYLGVYDRPILGTIIKPKIGLKPEEFAEVCYQFWVGGGDFVKNDEPQANQDFCPYEKMVDAIREAMDKAEKETGKKKVHSFNISAADFDTMIKRAEYIINKMKPGSYAFLIDGITAGWTAVQTLRRRYPDVFIHFHRAGHGAFTRPENPIGYSVLVLTKFARLAGASGIHTGTAGVGKMAGDAEEDVTAAHMALRAKAKGPFFEQDWYGMKPTCPIVSGGLNPVLLKPFIDVMGNVDFITTMGGGVHSHPGGTKAGAKALVQACEAWKKGIDIEEYAKDHKELAQAIEFYSKKKEKTHKY"
        ],
        [
         "2027",
         "500",
         "SUMO",
         "MSKGKSNSNSQQKALFDAGVKEYSEAGRYYYDPGYVPKDTEVLAAFRITPQPGVPWEEAAAAVAAESSSGTWTTVWSDLLTDQARYAARTYKIEPVPGREDQFMAYIAYPLDLFEEGSLPNLMSSIVGNVFGFKALRALRLEDIYIPPALLKTFQGPPHGIQVERDRLNKYGRPLLGATMKPKLGLSAKNYGRVVYEALRGGLDFTKDDENITSQPFMRWRDRYMFVMEAVHKAEAETGERKGHYLNVTAGTMEEMYRRAEFAKELGSRIIMVDYLTVGFTAFTSLSKWCRENGMLLHAHRAMHAVIDRQKNHGIHWRVLAKWCRMVGGDHLHNGTVVGKLEGDRASTLGINDLLREDYVKRDPSRGIYFDQPWVSMPGVFPVASGGIHVWHMPELVSIFGDDAVLQFGGGTLGHPWGNAAGATANRVALEAVVQARNEGRDLVAEGPDILKEAARHSPELRAAMETWKDITFDFETVDKLDQV",
         null,
         "1",
         "500-SUMO",
         "MSKGKSNSNSQQKALFDAGVKEYSEAGRYYYDPGYVPKDTEVLAAFRITPQPGVPWEEAAAAVAAESSSGTWTTVWSDLLTDQARYAARTYKIEPVPGREDQFMAYIAYPLDLFEEGSLPNLMSSIVGNVFGFKALRALRLEDIYIPPALLKTFQGPPHGIQVERDRLNKYGRPLLGATMKPKLGLSAKNYGRVVYEALRGGLDFTKDDENITSQPFMRWRDRYMFVMEAVHKAEAETGERKGHYLNVTAGTMEEMYRRAEFAKELGSRIIMVDYLTVGFTAFTSLSKWCRENGMLLHAHRAMHAVIDRQKNHGIHWRVLAKWCRMVGGDHLHNGTVVGKLEGDRASTLGINDLLREDYVKRDPSRGIYFDQPWVSMPGVFPVASGGIHVWHMPELVSIFGDDAVLQFGGGTLGHPWGNAAGATANRVALEAVVQARNEGRDLVAEGPDILKEAARHSPELRAAMETWKDITFDFETVDKLDQV"
        ],
        [
         "2039",
         "576",
         "SUMO",
         "MTTKTYDAGVKDYRETYWDPDYTPKDTDILACFKITPQPGVPREEAAAAVAAESSTGTWTTVWTDLLTDLDHYKGRAYRIEDVPGDDECFYAFVAYPIDLFEEGSVVNVLTSLVGNVFGFKAIRALRLEDIRFPLHYVMTCGGPPNGITVERDKLNKYGRPMLGCTIKPKLGLSAKNYGRAVYECLRGGLDFTKDDENVNSQPFMRWRQRFEFVAEAVHKAEAETGERKGHYLNVTAPTVEEMYKRAEFAKELGMPIIMHDFLTAGFTANTSLANWCRDNGMLLHIHRAMHAVIDRNPHHGIHFRVLAKCLRLSGGDHLHSGTVVGKLEGDREATLGWIDLMRESFIPENRSRGIFFDQDFGHMPGMFPVASGGIHVWHMPALVSIFGDDAVLQFGGGTLGHPWGNAAGAAANRVALEACVQARNEGRNLEKEGRDILTEAAKHSPELAVAMETWKEIKFEFDTVDKLDAASG",
         null,
         "1",
         "576-SUMO",
         "MTTKTYDAGVKDYRETYWDPDYTPKDTDILACFKITPQPGVPREEAAAAVAAESSTGTWTTVWTDLLTDLDHYKGRAYRIEDVPGDDECFYAFVAYPIDLFEEGSVVNVLTSLVGNVFGFKAIRALRLEDIRFPLHYVMTCGGPPNGITVERDKLNKYGRPMLGCTIKPKLGLSAKNYGRAVYECLRGGLDFTKDDENVNSQPFMRWRQRFEFVAEAVHKAEAETGERKGHYLNVTAPTVEEMYKRAEFAKELGMPIIMHDFLTAGFTANTSLANWCRDNGMLLHIHRAMHAVIDRNPHHGIHFRVLAKCLRLSGGDHLHSGTVVGKLEGDREATLGWIDLMRESFIPENRSRGIFFDQDFGHMPGMFPVASGGIHVWHMPALVSIFGDDAVLQFGGGTLGHPWGNAAGAAANRVALEACVQARNEGRNLEKEGRDILTEAAKHSPELAVAMETWKEIKFEFDTVDKLDAASG"
        ],
        [
         "2046",
         "588",
         "SUMO",
         "MASKKYDAGVKEYRETYWTPDYTPLDTDLLACFKVTPQPGVPREEAAAAVAAESSTGTWTTVWSDLLTDLEFYKGRAYRIEDVPGDDEAFYAFIAYPIDLFEEGSVVNVLTSLVGNVFGFKAVRALRLEDIRFPIAYIKTCGGPPNGIQVERDKLNKYGRPLLGCTIKPKLGLSAKNYGRAVYECLRGGLDFTKDDENVNSQPFMRWRDRFEFVAEAIHKAEAETGERKGHYLNVTAPTPEEMYKRAEFAKELGMPIIMHDFLTGGFTANTGLANWCRKNGMLLHIHRAMHAVIDRNPKHGIHFRVLAKCLRLSGGDHLHTGTVVGKLEGDRASTLGFVDQLRESFVPEDRSRGIFFDQDWGSMPGVFAVASGGIHVWHMPALVSIFGDDSVLQFGGGTQGHPWGNAAGAAANRVALEACVKARNEGRELEKEGKDILTEAAKHSPELAIAMETWKEIKFEFDTVDKLDVQ",
         null,
         "1",
         "588-SUMO",
         "MASKKYDAGVKEYRETYWTPDYTPLDTDLLACFKVTPQPGVPREEAAAAVAAESSTGTWTTVWSDLLTDLEFYKGRAYRIEDVPGDDEAFYAFIAYPIDLFEEGSVVNVLTSLVGNVFGFKAVRALRLEDIRFPIAYIKTCGGPPNGIQVERDKLNKYGRPLLGCTIKPKLGLSAKNYGRAVYECLRGGLDFTKDDENVNSQPFMRWRDRFEFVAEAIHKAEAETGERKGHYLNVTAPTPEEMYKRAEFAKELGMPIIMHDFLTGGFTANTGLANWCRKNGMLLHIHRAMHAVIDRNPKHGIHFRVLAKCLRLSGGDHLHTGTVVGKLEGDRASTLGFVDQLRESFVPEDRSRGIFFDQDWGSMPGVFAVASGGIHVWHMPALVSIFGDDSVLQFGGGTQGHPWGNAAGAAANRVALEACVKARNEGRELEKEGKDILTEAAKHSPELAIAMETWKEIKFEFDTVDKLDVQ"
        ],
        [
         "2100",
         "354",
         "SUMO",
         "MDQSNRYADLSLKEEDLIKGGNHILVAYTMKPAAGYGYLEAAAHIAAESSTGTNVEVSTTDDFTKGVDALVYEIDEAKGLMKIAYPVDLFDRNIIDGRAMIASFLTLTIGNNQGMGDIENLKMLDFYVPPKMLRLFDGPAVNISDMWRILGRPVENGGYIAGTIIKPKLGLRPEPFAEACYQFWLGGDFIKNDEPQGNQVFCPMKKVIPLVADAMKRAQDETGQAKLFSANITADDHAEMIARGEYVLETFGPDASQVAFLVDGYVAGPAAVTTARRNFPNQFLHYHRAGHGAVTSPQSKRGYTAFVLMKMSRLMGASGIHVGTMGYGKMEGDASDKIIAYMIERDSCQGPFYHQEWYGMKPTTPIISGGMNALRLPGFFENLGHGNVINTAGGGSYGHIDSPAAGAVSLRQAYECWKSGADPIEYAKEHKEFARAFESFPKDADKIFPGWREKLGVHK",
         null,
         "1",
         "354-SUMO",
         "MDQSNRYADLSLKEEDLIKGGNHILVAYTMKPAAGYGYLEAAAHIAAESSTGTNVEVSTTDDFTKGVDALVYEIDEAKGLMKIAYPVDLFDRNIIDGRAMIASFLTLTIGNNQGMGDIENLKMLDFYVPPKMLRLFDGPAVNISDMWRILGRPVENGGYIAGTIIKPKLGLRPEPFAEACYQFWLGGDFIKNDEPQGNQVFCPMKKVIPLVADAMKRAQDETGQAKLFSANITADDHAEMIARGEYVLETFGPDASQVAFLVDGYVAGPAAVTTARRNFPNQFLHYHRAGHGAVTSPQSKRGYTAFVLMKMSRLMGASGIHVGTMGYGKMEGDASDKIIAYMIERDSCQGPFYHQEWYGMKPTTPIISGGMNALRLPGFFENLGHGNVINTAGGGSYGHIDSPAAGAVSLRQAYECWKSGADPIEYAKEHKEFARAFESFPKDADKIFPGWREKLGVHK"
        ],
        [
         "2122",
         "388",
         "SUMO",
         "MSGKFEEIYHEYVDKNYEPDKNDIIAVFRVTPAEGFTIEDAAGAVAAESSTGTWTTLYPWDTERVKKLSAKAYDFKDLGDGSWIVRIAYPVELFEEGNMPGLLASIAGNVFGMKRVKGLRLEDIYLPKKFLKNFKGPSKGIEGVRKIFGVKDRPIVGTVPKPKVGYSPEEVEKLAYELLSGGMDYIKDDENLTSPSFCRFEERAKRIMKVIDKVEKETGEKKTWFANITADIREMEKRLKLVADYGNPYVMVDVVITGWSALEYIRDLAEEYGLAIHGHRAMHAAFTRNPYHGISMFVLAKLYRIIGIDQLHIGTAGAGKLEGGKWDVIQYARILREKHYKPDEDDVFHLEQEFHHIKPAMPVSSGGLHPGNLPPVIEALGKDIVLQVGGGVLGHPDGPRAGARAVRQALEAIMKGIPLDEYAKTHRELARALEKWGYVKPI",
         null,
         "1",
         "388-SUMO",
         "MSGKFEEIYHEYVDKNYEPDKNDIIAVFRVTPAEGFTIEDAAGAVAAESSTGTWTTLYPWDTERVKKLSAKAYDFKDLGDGSWIVRIAYPVELFEEGNMPGLLASIAGNVFGMKRVKGLRLEDIYLPKKFLKNFKGPSKGIEGVRKIFGVKDRPIVGTVPKPKVGYSPEEVEKLAYELLSGGMDYIKDDENLTSPSFCRFEERAKRIMKVIDKVEKETGEKKTWFANITADIREMEKRLKLVADYGNPYVMVDVVITGWSALEYIRDLAEEYGLAIHGHRAMHAAFTRNPYHGISMFVLAKLYRIIGIDQLHIGTAGAGKLEGGKWDVIQYARILREKHYKPDEDDVFHLEQEFHHIKPAMPVSSGGLHPGNLPPVIEALGKDIVLQVGGGVLGHPDGPRAGARAVRQALEAIMKGIPLDEYAKTHRELARALEKWGYVKPI"
        ],
        [
         "2163",
         "605",
         "SUMO",
         "MMAKTYNAGVKEYRETYWTPDYTPKDTDLLACFKVTPQPGVPREEAAAAVAAESSTGTWTTVWTDLLTDLDYYKGRAYRIEDVPGDDESFYAFIAYPIDLFEEGSVVNVFTSLVGNVFGFKAVRALRLEDVRFPIAYVKTCGGPPHGIQVERDKMNKYGRPLLGCTIKPKLGLSAKNYGRAVYECLRGGLDFTKDDENVNSQPFMRWRDRFEFVMEAIEKAQRETGERKGHYLNVTAPTPEEMYKRAEYAKELGAPIIMHDYLTGGFCANTGLANWCRDNGMLLHIHRAMHAVIDRHPKHGIHFRVLAKCLRLSGGDHLHTGTVVGKLEGDRQATLGWIDLLRDSFVPEDRSRGLFFDQDWGSMPGVFAVASGGIHVWHMPALVTIFGDDSVLQFGGGTLGHPWGNAAGAAANRVALEACVKARNEGRELEKEGKEILTEAARHSPELKIAMETWKEIKFEFDTVDKLDVAHK",
         null,
         "1",
         "605-SUMO",
         "MMAKTYNAGVKEYRETYWTPDYTPKDTDLLACFKVTPQPGVPREEAAAAVAAESSTGTWTTVWTDLLTDLDYYKGRAYRIEDVPGDDESFYAFIAYPIDLFEEGSVVNVFTSLVGNVFGFKAVRALRLEDVRFPIAYVKTCGGPPHGIQVERDKMNKYGRPLLGCTIKPKLGLSAKNYGRAVYECLRGGLDFTKDDENVNSQPFMRWRDRFEFVMEAIEKAQRETGERKGHYLNVTAPTPEEMYKRAEYAKELGAPIIMHDYLTGGFCANTGLANWCRDNGMLLHIHRAMHAVIDRHPKHGIHFRVLAKCLRLSGGDHLHTGTVVGKLEGDRQATLGWIDLLRDSFVPEDRSRGLFFDQDWGSMPGVFAVASGGIHVWHMPALVTIFGDDSVLQFGGGTLGHPWGNAAGAAANRVALEACVKARNEGRELEKEGKEILTEAARHSPELKIAMETWKEIKFEFDTVDKLDVAHK"
        ],
        [
         "2198",
         "400",
         "SUMO",
         "MSTDYIDLNYTPKENDLICCFHIEPADGVDLEEAAGRVAAESSIGTWTDVSTMKPEIWEKLKARVYEIDEAGNIVKIAYPLDLFEPGNIPQILSSIAGNIFGMKAVKNLRLLDIRFPKELVKSFKGPKFGIEGVRELLGVYDRPLVGTIVKPKVGLSAEEHAEVAYEAWVGGLDLVKDDENLTSQPFNPFEERVKKTLEARDKAEEETGEKKMYLVNITAPTEEMIRRAELVKDLGGKYVMIDIITAGFSAVQSLREEDLGLAIHAHRAMHAAFTRNPKHGISMLVLAKLARLVGVDQLHIGTVVGKMEGDKEEVLAIRDALRLDRVPADEANHFLEQDWGNIKPVFPVASGGLHPGLIPDLIDIFGKDVIIQFGGGVHGHPDGTRAGAKAMRQAIEAAMEGISLEEYAKEHKELEKALEKWG",
         null,
         "0",
         "400-SUMO",
         "MSTDYIDLNYTPKENDLICCFHIEPADGVDLEEAAGRVAAESSIGTWTDVSTMKPEIWEKLKARVYEIDEAGNIVKIAYPLDLFEPGNIPQILSSIAGNIFGMKAVKNLRLLDIRFPKELVKSFKGPKFGIEGVRELLGVYDRPLVGTIVKPKVGLSAEEHAEVAYEAWVGGLDLVKDDENLTSQPFNPFEERVKKTLEARDKAEEETGEKKMYLVNITAPTEEMIRRAELVKDLGGKYVMIDIITAGFSAVQSLREEDLGLAIHAHRAMHAAFTRNPKHGISMLVLAKLARLVGVDQLHIGTVVGKMEGDKEEVLAIRDALRLDRVPADEANHFLEQDWGNIKPVFPVASGGLHPGLIPDLIDIFGKDVIIQFGGGVHGHPDGTRAGAKAMRQAIEAAMEGISLEEYAKEHKELEKALEKWG"
        ],
        [
         "2199",
         "332",
         "SUMO",
         "MADKDVIATYHIEEGVTLEKAAQEIAAEQSTGTWTDVSTEQEVVEKLGARVVSIEPSGGGNTVTIAYPAEIFEPGNIPQILSVVAGNLFGLGALKALRLLDVDFPPELVKSFKGPKFGIEGVRKLLGVYDRPLVGTIIKPKVGLSPKETAEVAYQAAIGGVDLIKDDETLTDQPFCPLEERLKAVMEKLDKAEEETGKKVLYAVNITAGADEIVERAERAVDLGANMVMIDVITAGFSAVQALREENINLPIHVHRTMHGALTRNPEHGISMRVLAKLVRMVGGDQLHTGTVSGKMEHDVSEIRASRDALRQPWYNLKPVFPVASGGLHPGKVPANLDCFGTDIILQAGGGIHGHPDGTRAGAKAMRQAVEAWMEGVSLEEYAKDHPELARALEKWGPSR",
         null,
         "0",
         "332-SUMO",
         "MADKDVIATYHIEEGVTLEKAAQEIAAEQSTGTWTDVSTEQEVVEKLGARVVSIEPSGGGNTVTIAYPAEIFEPGNIPQILSVVAGNLFGLGALKALRLLDVDFPPELVKSFKGPKFGIEGVRKLLGVYDRPLVGTIIKPKVGLSPKETAEVAYQAAIGGVDLIKDDETLTDQPFCPLEERLKAVMEKLDKAEEETGKKVLYAVNITAGADEIVERAERAVDLGANMVMIDVITAGFSAVQALREENINLPIHVHRTMHGALTRNPEHGISMRVLAKLVRMVGGDQLHTGTVSGKMEHDVSEIRASRDALRQPWYNLKPVFPVASGGLHPGKVPANLDCFGTDIILQAGGGIHGHPDGTRAGAKAMRQAVEAWMEGVSLEEYAKDHPELARALEKWGPSR"
        ],
        [
         "2208",
         "483",
         "SUMO",
         "MSPSTASTSEEKKDRWASGVTPYAEMGYYDADYEPKDTDILCAFRITPQPGVDPIEAAAAVAGESSTATWTVVWTDRLTDHKHYQAKAYRVEPVPGTEGQYIAKIAYDIDLFEEGSIANLTSSIIGNVFGFKALKALRLEDMRIPPHYVKTFQGPAHGIVMEREYLDKFGRPLLGATVKPKLGLSAKNYGRVVYEALRGGLDFTKDDENINSQPFMRWRDRFLYCMEAVNKASAATGEVKGHYMNVTAATMEEMYERAEFAKELGSVIIMIDLTVGYTAIQSMAKWARANGVILHLHRAGHGTYTRQKTHGVSFRVIAKWMRLAGVDHIHAGTVVGKLEGDPNMTKGYYDTLRESHIPENPAHGIYFDQDWASMPGVMPVASGGIHAGQMHQLLHYLGEDVVLQFGGGTIGHPMGIAAGATANRVAVEAMIQARNEGRDYFQEGPDILEKAAKHCPELNAALQVWKDITFDFESTDTPDVVATPSVG",
         null,
         "0",
         "483-SUMO",
         "MSPSTASTSEEKKDRWASGVTPYAEMGYYDADYEPKDTDILCAFRITPQPGVDPIEAAAAVAGESSTATWTVVWTDRLTDHKHYQAKAYRVEPVPGTEGQYIAKIAYDIDLFEEGSIANLTSSIIGNVFGFKALKALRLEDMRIPPHYVKTFQGPAHGIVMEREYLDKFGRPLLGATVKPKLGLSAKNYGRVVYEALRGGLDFTKDDENINSQPFMRWRDRFLYCMEAVNKASAATGEVKGHYMNVTAATMEEMYERAEFAKELGSVIIMIDLTVGYTAIQSMAKWARANGVILHLHRAGHGTYTRQKTHGVSFRVIAKWMRLAGVDHIHAGTVVGKLEGDPNMTKGYYDTLRESHIPENPAHGIYFDQDWASMPGVMPVASGGIHAGQMHQLLHYLGEDVVLQFGGGTIGHPMGIAAGATANRVAVEAMIQARNEGRDYFQEGPDILEKAAKHCPELNAALQVWKDITFDFESTDTPDVVATPSVG"
        ],
        [
         "2213",
         "634",
         "SUMO",
         "MAGDRLVATYHLAGPGEEAEKKAKGIALEQTVEMPLELVPEAAIRDRVVGRVEDIEPIDGGRYRVTIAYPVATAGGELPQLLNVIFGNISLQPGIRLVDIHLPPSFLKSFPGPRFGIEGLRKLLGVHDRPLLCTALKPMGLSPEELAEIAYQCALGGVDIIKDDHGLADQPYSPFEERVRACARAVEKANRETGRKTLYLPNITAPLDELRERARFAREAGAKAVLISPMLVGLDTMRALAERLGLPIMAHPAFSGAFVASPEHGISHSLLLGKLMRLAGADAVIFPNFGGRFAFSREECRAIAEAARSPWGHLKPVFPVPGGGMSLDRVPDMLRTYGPDVILLIGGGLFAHPDGLEAGARAFREAVEAMV",
         null,
         "0",
         "634-SUMO",
         "MAGDRLVATYHLAGPGEEAEKKAKGIALEQTVEMPLELVPEAAIRDRVVGRVEDIEPIDGGRYRVTIAYPVATAGGELPQLLNVIFGNISLQPGIRLVDIHLPPSFLKSFPGPRFGIEGLRKLLGVHDRPLLCTALKPMGLSPEELAEIAYQCALGGVDIIKDDHGLADQPYSPFEERVRACARAVEKANRETGRKTLYLPNITAPLDELRERARFAREAGAKAVLISPMLVGLDTMRALAERLGLPIMAHPAFSGAFVASPEHGISHSLLLGKLMRLAGADAVIFPNFGGRFAFSREECRAIAEAARSPWGHLKPVFPVPGGGMSLDRVPDMLRTYGPDVILLIGGGLFAHPDGLEAGARAFREAVEAMV"
        ],
        [
         "2214",
         "651",
         "SUMO",
         "MADRITATYLIEAPADVEKAAETLAGEQSTGTFTRVPGETDELKERFAARVESIEALPEAEAPSLPGAGGGGRYRRARVTISWPLDNFGPNLPMLLSTLLGNLFGMKELSGIRLEDIQLPASFVAAYPGPAFGIEGTRRLTGVHDRPLIGTIVKPSIGLSPEETAELVQQLAEGGIDFIKDDELLADPPYCPFDERVKAVMRVLDRAADRTGKKTMYAVNITDEVDEMLRRHDLVVDAGGTCVMVNLNSVGLSALAALRRHSSLPIHAHRAGWGMLTRHPALGMSFKAYQKLWRLAGVDHLHVNGLGGKFWEPDDSVVQSARACLTPLYDHKPVMPVFSGGQTVGQVPPTYQRLGTADLIFAAGGGILGHPDGPAAGVRALRQAWEAAVAGIPLEEYAKDHPELAKAIEKFGKARQA",
         null,
         "0",
         "651-SUMO",
         "MADRITATYLIEAPADVEKAAETLAGEQSTGTFTRVPGETDELKERFAARVESIEALPEAEAPSLPGAGGGGRYRRARVTISWPLDNFGPNLPMLLSTLLGNLFGMKELSGIRLEDIQLPASFVAAYPGPAFGIEGTRRLTGVHDRPLIGTIVKPSIGLSPEETAELVQQLAEGGIDFIKDDELLADPPYCPFDERVKAVMRVLDRAADRTGKKTMYAVNITDEVDEMLRRHDLVVDAGGTCVMVNLNSVGLSALAALRRHSSLPIHAHRAGWGMLTRHPALGMSFKAYQKLWRLAGVDHLHVNGLGGKFWEPDDSVVQSARACLTPLYDHKPVMPVFSGGQTVGQVPPTYQRLGTADLIFAAGGGILGHPDGPAAGVRALRQAWEAAVAGIPLEEYAKDHPELAKAIEKFGKARQA"
        ],
        [
         "2216",
         "E10",
         "SUMO",
         "MNAEDVKGFFASRESLDMEQYLVLDYYLESVGDIETALAHFCSEQSTAQWKRVGVDEDFRLVHAAKVIDYEVIEELEQLSYPVKHSETGKIHACRVTIAHPHCNFGPKIPNLLTAVCGEGTYFTPGVPVVKLMDIHFPDTYLADFEGPKFGIEGLRDILNAHGRPIFFGVVKPNIGLSPGEFAEIAYQSWLGGLDIAKDDEMLADVTWSSIEERAAHLGKARRKAEAETGEPKIYLANITDEVDSLMEKHDVAVRNGANALLINALPVGLSAVRMLSNYTQVPLIGHFPFIASFSRMEKYGIHSKVMTKLQRLAGLDAVIMPGFGDRVMTPEEEVLENVIECTKPMGRIKPCLPVPGGSDSALTLQTVYEKVGNVDFGFVPGRGVFGHPMGPKAGAKSIRQAWEAIEQGISIETWAETHPELQAMVDQSLLKKQD",
         null,
         "0",
         "E10-SUMO",
         "MNAEDVKGFFASRESLDMEQYLVLDYYLESVGDIETALAHFCSEQSTAQWKRVGVDEDFRLVHAAKVIDYEVIEELEQLSYPVKHSETGKIHACRVTIAHPHCNFGPKIPNLLTAVCGEGTYFTPGVPVVKLMDIHFPDTYLADFEGPKFGIEGLRDILNAHGRPIFFGVVKPNIGLSPGEFAEIAYQSWLGGLDIAKDDEMLADVTWSSIEERAAHLGKARRKAEAETGEPKIYLANITDEVDSLMEKHDVAVRNGANALLINALPVGLSAVRMLSNYTQVPLIGHFPFIASFSRMEKYGIHSKVMTKLQRLAGLDAVIMPGFGDRVMTPEEEVLENVIECTKPMGRIKPCLPVPGGSDSALTLQTVYEKVGNVDFGFVPGRGVFGHPMGPKAGAKSIRQAWEAIEQGISIETWAETHPELQAMVDQSLLKKQD"
        ],
        [
         "2217",
         "E3",
         "SUMO",
         "MPKTQSAAGYKAGVKDYKLTYYTPDYTPKDTDLLAAFRFSPQPGVPADEAGAAIAAESSTGTWTTVWTDLLTDMDRYKGKCYHIEPVQGEENSYFAFIAYPLDLFEEGSVTNILTSIVGNVFGFKAIRSLRLEDIRFPVALVKTFQGPPHGIQVERDLLNKYGRPMLGCTIKPKLGLSAKNYGRAVYECLRGGLDFTKDDENINSQPFQRWRDRFLFVADAIHKSQAETGEIKGHYLNVTAPTCEEMMKRAEFAKELGMPIIMHDFLTAGFTANTTLAKWCRDNGVLLHIHRAMHAVIDRQRNHGIHFRVLAKCLRLSGGDHLHSGTVVGKLEGDKASTLGFVDLMREDHIEADRSRGVFFTQDWASMPGVLPVASGGIHVWHMPALVEIFGDDSVLQFGGGTLGHPWGNAPGATANRVALEACVQARNEGRDLYREGGDILREAGKWSPELAAALDLWKEIKFEFETMDKL",
         null,
         "0",
         "E3-SUMO",
         "MPKTQSAAGYKAGVKDYKLTYYTPDYTPKDTDLLAAFRFSPQPGVPADEAGAAIAAESSTGTWTTVWTDLLTDMDRYKGKCYHIEPVQGEENSYFAFIAYPLDLFEEGSVTNILTSIVGNVFGFKAIRSLRLEDIRFPVALVKTFQGPPHGIQVERDLLNKYGRPMLGCTIKPKLGLSAKNYGRAVYECLRGGLDFTKDDENINSQPFQRWRDRFLFVADAIHKSQAETGEIKGHYLNVTAPTCEEMMKRAEFAKELGMPIIMHDFLTAGFTANTTLAKWCRDNGVLLHIHRAMHAVIDRQRNHGIHFRVLAKCLRLSGGDHLHSGTVVGKLEGDKASTLGFVDLMREDHIEADRSRGVFFTQDWASMPGVLPVASGGIHVWHMPALVEIFGDDSVLQFGGGTLGHPWGNAPGATANRVALEACVQARNEGRDLYREGGDILREAGKWSPELAAALDLWKEIKFEFETMDKL"
        ],
        [
         "2225",
         "446",
         "SUMO",
         "MADSTTTTTRDAKERYKAGVLPYAQMGYWEPDYEPKDTDILALFRITPQDGVDPEEAAAAVAGESSTATWTVVWTDRLTACEHYRAKAYRVEPVPGTPGQYFAYIAYDLDLFEEGSIANLTASIIGNVFGFKPLKALRLEDMRIPVAYVKTFQGPPTGIVVERERLDKFGRPLLGATVKPKLGLSGRNYGRVVYEALKGGLDFTKDDENINSQPFMHWRDRFLYCMEAVNRAQAATGEVKGHYLNVTAATMEEMYERAEFAKELGSVIVMIDLVIGYTAIQSMAKWARRNDMILHLHRAGHSTYTRQKNHGVSFRVIAKWMRLAGVDHIHAGTVVGKLEGDPNTVRGYYDVCRESHTPQNLENGLFFDQDWASLRKVMPVASGGIHAGQMHQLLHYLGEDVVLQFGGGTIGHPMGIAAGATANRVALEAMILARNEGRDFLNEGPEILRDAAKWCAPLRAALDTWGDVTFNYTSTDTPDFVPTPTVA",
         null,
         "0",
         "446-SUMO",
         "MADSTTTTTRDAKERYKAGVLPYAQMGYWEPDYEPKDTDILALFRITPQDGVDPEEAAAAVAGESSTATWTVVWTDRLTACEHYRAKAYRVEPVPGTPGQYFAYIAYDLDLFEEGSIANLTASIIGNVFGFKPLKALRLEDMRIPVAYVKTFQGPPTGIVVERERLDKFGRPLLGATVKPKLGLSGRNYGRVVYEALKGGLDFTKDDENINSQPFMHWRDRFLYCMEAVNRAQAATGEVKGHYLNVTAATMEEMYERAEFAKELGSVIVMIDLVIGYTAIQSMAKWARRNDMILHLHRAGHSTYTRQKNHGVSFRVIAKWMRLAGVDHIHAGTVVGKLEGDPNTVRGYYDVCRESHTPQNLENGLFFDQDWASLRKVMPVASGGIHAGQMHQLLHYLGEDVVLQFGGGTIGHPMGIAAGATANRVALEAMILARNEGRDFLNEGPEILRDAAKWCAPLRAALDTWGDVTFNYTSTDTPDFVPTPTVA"
        ],
        [
         "2231",
         "574",
         "SUMO",
         "MTAKTYQAGVKDYRETYWDPDYTPKDTDILACFKITPQPGVPREEAAAAVAAESSTGTWTTVWTDLLTDLDYYKGRAYRIEDVPGDDECFYAFVAYPIDLFEEGSVVNVLTSLVGNVFGFKAIRALRLEDVRFPLAYVKTCGGPPNGIQVERDKLNKYGRPLLGCTIKPKLGLSAKNYGRAVYECLRGGLDFTKDDENVNSQPFMRWRDRFEFVAEAIHKAEAETGERKGHYLNVTAPTVEEMYKRAEFAKELGMPIIMHDYLTGGFTANTSLANWCRDNGMLLHIHRAMHAVIDRNPHHGIHFRVLAKCLRLSGGDHLHSGTVVGKLEGDREATLGWIDLMRESFIPEDRSRGIFFDQDWGSMPGVFPVASGGIHVWHMPALVSIFGDDSVLQFGGGTLGHPWGNAAGAAANRVALEACVQARNEGRDLEKEGKDILTEAAKHSPELAVAMETWKEIKFEFDTVDKLDVASG",
         null,
         "1",
         "574-SUMO",
         "MTAKTYQAGVKDYRETYWDPDYTPKDTDILACFKITPQPGVPREEAAAAVAAESSTGTWTTVWTDLLTDLDYYKGRAYRIEDVPGDDECFYAFVAYPIDLFEEGSVVNVLTSLVGNVFGFKAIRALRLEDVRFPLAYVKTCGGPPNGIQVERDKLNKYGRPLLGCTIKPKLGLSAKNYGRAVYECLRGGLDFTKDDENVNSQPFMRWRDRFEFVAEAIHKAEAETGERKGHYLNVTAPTVEEMYKRAEFAKELGMPIIMHDYLTGGFTANTSLANWCRDNGMLLHIHRAMHAVIDRNPHHGIHFRVLAKCLRLSGGDHLHSGTVVGKLEGDREATLGWIDLMRESFIPEDRSRGIFFDQDWGSMPGVFPVASGGIHVWHMPALVSIFGDDSVLQFGGGTLGHPWGNAAGAAANRVALEACVQARNEGRDLEKEGKDILTEAAKHSPELAVAMETWKEIKFEFDTVDKLDVASG"
        ],
        [
         "2255",
         "E2",
         "SUMO",
         "MSPQTETKASVEFKAGVKDYKLTYYTPEYETLDTDILAAFRVSPQPGVPPEEAGAAVAAESSTGTWTTVWTDGLTNLDRYKGRCYHIEPVAGEENQYICYVAYPLDLFEEGSVTNMFTSIVGNVFGFKALRALRLEDLRIPVAYVKTFQGPPHGIQVERDKLNKYGRPLLGCTIKPKLGLSAKNYGRAVYECLRGGLDFTKDDENVNSQPFMRWRDRFLFCAEALYKAQAETGEIKGHYLNATAGTCEDMMKRAVFARELGVPIVMHDYLTGGFTANTTLSHYCRDNGLLLHIHRAMHAVIDRQKNHGMHFRVLAKALRLSGGDHIHSGTVVGKLEGERDITLGFVDLLRDDYTEKDRSRGIYFTQSWVSTPGVLPVASGGIHVWHMPALTEIFGDDSVLQFGGGTLGHPWGNAPGAVANRVALEACVQARNEGRDLAREGNTIIREATKWSPELAAACEVWKEIKFEFPAMDTV",
         null,
         "0",
         "E2-SUMO",
         "MSPQTETKASVEFKAGVKDYKLTYYTPEYETLDTDILAAFRVSPQPGVPPEEAGAAVAAESSTGTWTTVWTDGLTNLDRYKGRCYHIEPVAGEENQYICYVAYPLDLFEEGSVTNMFTSIVGNVFGFKALRALRLEDLRIPVAYVKTFQGPPHGIQVERDKLNKYGRPLLGCTIKPKLGLSAKNYGRAVYECLRGGLDFTKDDENVNSQPFMRWRDRFLFCAEALYKAQAETGEIKGHYLNATAGTCEDMMKRAVFARELGVPIVMHDYLTGGFTANTTLSHYCRDNGLLLHIHRAMHAVIDRQKNHGMHFRVLAKALRLSGGDHIHSGTVVGKLEGERDITLGFVDLLRDDYTEKDRSRGIYFTQSWVSTPGVLPVASGGIHVWHMPALTEIFGDDSVLQFGGGTLGHPWGNAPGAVANRVALEACVQARNEGRDLAREGNTIIREATKWSPELAAACEVWKEIKFEFPAMDTV"
        ],
        [
         "2257",
         "369",
         "SUMO",
         "MGITYEDFLDLDYEPTDEDLVCTFRIDPATGMSTEAAASRVASESSNGTWAALQTGADFTDMGATTFSIDGDTIRVAYPAGLFEPGNMPQVLSCIAGNIMGMKAVDTIRLMDCEWPESIVSSFPGPLFGSSVREEIFGVDDRPITATVPKPKVGLSTAAHAQVGYDAWVGGVDLLKDDENLTDQAFNPFADRLTESLALRDDAEDETGEKKSYLINVTADTQTMLDRVDEVAEQGGEYVMVDIITAGWAGLQTVRERTEKHGLAIHAHRAMHAAFDRLPTHGVSMRVLAQISRLCGVDQLHTGTAGLGKLANEDTVGINEWLRSDLYGTNDVLPVASGGLHPGLLPDLLDATGTNVCVQLGGGIHGHPDGTRAGAVALRSAIDAYVEGKSIQEAADETPELAVALDKWGTETPR",
         null,
         "0",
         "369-SUMO",
         "MGITYEDFLDLDYEPTDEDLVCTFRIDPATGMSTEAAASRVASESSNGTWAALQTGADFTDMGATTFSIDGDTIRVAYPAGLFEPGNMPQVLSCIAGNIMGMKAVDTIRLMDCEWPESIVSSFPGPLFGSSVREEIFGVDDRPITATVPKPKVGLSTAAHAQVGYDAWVGGVDLLKDDENLTDQAFNPFADRLTESLALRDDAEDETGEKKSYLINVTADTQTMLDRVDEVAEQGGEYVMVDIITAGWAGLQTVRERTEKHGLAIHAHRAMHAAFDRLPTHGVSMRVLAQISRLCGVDQLHTGTAGLGKLANEDTVGINEWLRSDLYGTNDVLPVASGGLHPGLLPDLLDATGTNVCVQLGGGIHGHPDGTRAGAVALRSAIDAYVEGKSIQEAADETPELAVALDKWGTETPR"
        ],
        [
         "2264",
         "412",
         "SUMO",
         "MTTITTAPTAEVSKKYKAGVRPYAADYYVPDYAPLDTDLLCAFRIQPKPGVDMIEAAAAVAAESSTGTWTEVWSNQLTDIDYYKAKVYRIEGDIAYIAYPMDLFEENSIVNIMSSIVGNVFGFKAVSALRLEDMRIPVALVKTFPGPNIGIYDERARLNKWDRPLLGGTVKPKLGLSAKDYATIIYECLVGGLDTTKDDENMNSQPFNRWRDRFLYGMDAVKKAEAETGEAKGHFFNVTANSTEESLRRLEYIAAQGSRYIMYDFLTAGFAASADVFKRAGELGVIVHCHRAMHAVFTRQKNHGIHMRVVAKWLRLTGGDHLHTGTVVGKLEGSRNETLGIIDLLRERVIPANPERGLYFEQDFAGLKTVWPVASGGIHVLHIPDLYKIYGNDAFWLFGGGTHGHPRGSRAGARANRVATEAIASGKTLEEAARTCPELREAMELWGNVKFEVSE",
         null,
         "1",
         "412-SUMO",
         "MTTITTAPTAEVSKKYKAGVRPYAADYYVPDYAPLDTDLLCAFRIQPKPGVDMIEAAAAVAAESSTGTWTEVWSNQLTDIDYYKAKVYRIEGDIAYIAYPMDLFEENSIVNIMSSIVGNVFGFKAVSALRLEDMRIPVALVKTFPGPNIGIYDERARLNKWDRPLLGGTVKPKLGLSAKDYATIIYECLVGGLDTTKDDENMNSQPFNRWRDRFLYGMDAVKKAEAETGEAKGHFFNVTANSTEESLRRLEYIAAQGSRYIMYDFLTAGFAASADVFKRAGELGVIVHCHRAMHAVFTRQKNHGIHMRVVAKWLRLTGGDHLHTGTVVGKLEGSRNETLGIIDLLRERVIPANPERGLYFEQDFAGLKTVWPVASGGIHVLHIPDLYKIYGNDAFWLFGGGTHGHPRGSRAGARANRVATEAIASGKTLEEAARTCPELREAMELWGNVKFEVSE"
        ],
        [
         "2293",
         "520",
         "SUMO",
         "MAPQTETKTGAGFKAGVKDYRLTYYTPDYQVKDTDILAAFRMTPQPGVPPEEAGAAVAAESSTGTWTTVWTDGLTSLDRYKGRCYDIEPVPGEDNQYIAYVAYPLDLFEEGSVTNLFTSIVGNVFGFKALRALRLEDLRIPVAYVKTFQGPPHGIQVERDKLNKYGRPLLGCTIKPKLGLSAKNYGRAVYECLRGGLDFTKDDENVNSQPFMRWRDRFLFVAEAIYKAQAETGEIKGHYLNATAGTCEEMMKRAEFAKELGVPIVMHDYLTGGFTANTSLAHYCRDNGLLLHIHRAMHAVIDRQRNHGIHFRVLAKALRLSGGDHLHSGTVVGKLEGEREVTLGFVDLMRDDYIEKDRSRGIYFTQDWASLPGVMPVASGGIHVWHMPALVEIFGDDSCLQFGGGTLGHPWGNAPGAAANRVALEACVQARNEGRDLAREGGDVIRAAAKWSPELAAACEVWKEIKFEFETIDTL",
         null,
         "0",
         "520-SUMO",
         "MAPQTETKTGAGFKAGVKDYRLTYYTPDYQVKDTDILAAFRMTPQPGVPPEEAGAAVAAESSTGTWTTVWTDGLTSLDRYKGRCYDIEPVPGEDNQYIAYVAYPLDLFEEGSVTNLFTSIVGNVFGFKALRALRLEDLRIPVAYVKTFQGPPHGIQVERDKLNKYGRPLLGCTIKPKLGLSAKNYGRAVYECLRGGLDFTKDDENVNSQPFMRWRDRFLFVAEAIYKAQAETGEIKGHYLNATAGTCEEMMKRAEFAKELGVPIVMHDYLTGGFTANTSLAHYCRDNGLLLHIHRAMHAVIDRQRNHGIHFRVLAKALRLSGGDHLHSGTVVGKLEGEREVTLGFVDLMRDDYIEKDRSRGIYFTQDWASLPGVMPVASGGIHVWHMPALVEIFGDDSCLQFGGGTLGHPWGNAPGAAANRVALEACVQARNEGRDLAREGGDVIRAAAKWSPELAAACEVWKEIKFEFETIDTL"
        ],
        [
         "2324",
         "339",
         "SUMO",
         "MQKEYINLKLKDPRNGEYLLAVFHLVPAGGLNILDAASEVAAESSTGSNVKVSTATEFSKSLNALVYKIDEEKNLVWIAYPWRIFDRGGNVQNILTYIAGNIFGMSEIKALKLLDVWFPPEMLKQYDGPSYTLDDMRKYLGVYDRPILGTIIKPKIGLTSEEYAEVCYDFWVGGGDFVKNDEPQANQDFCPYEKMVDAIREAMDKAEKETGKKKVHSFNVSAADFDTMIKRCEYIINKMKPGSYAFLIDGITAGWMAVQTLRRRYPDVFIHFHRAGHGAFTRPENPIGFSVLVLTKFARLAGASGIHTGTAGVGKMAGDPEEDVTAAHMALKLKAKGPFFEQTWSKIPEKDKDVINMVEEEEAHHVVLEDDSWRGMKKTCPIVSGGLNPVLLKPFIDVMGNVDFITTMGGGVHSHPGGTKAGAKALVQACEAWKKGIDIEEYAKDHKELAQAIEFYSKKKEKAHKY",
         null,
         "1",
         "339-SUMO",
         "MQKEYINLKLKDPRNGEYLLAVFHLVPAGGLNILDAASEVAAESSTGSNVKVSTATEFSKSLNALVYKIDEEKNLVWIAYPWRIFDRGGNVQNILTYIAGNIFGMSEIKALKLLDVWFPPEMLKQYDGPSYTLDDMRKYLGVYDRPILGTIIKPKIGLTSEEYAEVCYDFWVGGGDFVKNDEPQANQDFCPYEKMVDAIREAMDKAEKETGKKKVHSFNVSAADFDTMIKRCEYIINKMKPGSYAFLIDGITAGWMAVQTLRRRYPDVFIHFHRAGHGAFTRPENPIGFSVLVLTKFARLAGASGIHTGTAGVGKMAGDPEEDVTAAHMALKLKAKGPFFEQTWSKIPEKDKDVINMVEEEEAHHVVLEDDSWRGMKKTCPIVSGGLNPVLLKPFIDVMGNVDFITTMGGGVHSHPGGTKAGAKALVQACEAWKKGIDIEEYAKDHKELAQAIEFYSKKKEKAHKY"
        ],
        [
         "2332",
         "E8",
         "SUMO",
         "MIQEELSKTLNPKQVQYMRMDLPDPRNGEYLLAVFHLIPSGELNIMQAAAEVAAESSTGTNFAVKTETPFSRVMNALVYKVDIEKNLVWIAYPWRLFDRNGNVQNIMTYIAGNALGMKEIKALKLLDIWFPPSMLEQYDGPSYTLDDMRTYLNVHDRPILGTIIKPKMGLTSSEYAEVCYDFWVGGGDFVKNDEPQADQDFCPYDKMVKYVKMAMDKAVKETGKKKVHSFNVSSADFDTMIERCEMIREAGFEPGSYAFLIDGITAGWMAVQTLRRRYPDVFLHFHRAGHGGFTRPENPIGFSVLVLSKFARLAGASGIHTGTAGVGKMAGSPEEDVTAARNILKVEGKGHFFTQNWGRIPPQDDDAIKMVEMDDAHHVVLEDDSWRGLKKCCPIISGGLNPTLLEPFIDVMGGIDFITTMGAGCHAHPRGTRAGAMALVQACEAYKNKIDIADYAKDHRELAEAIEFFSKKKKK",
         null,
         "1",
         "E8-SUMO",
         "MIQEELSKTLNPKQVQYMRMDLPDPRNGEYLLAVFHLIPSGELNIMQAAAEVAAESSTGTNFAVKTETPFSRVMNALVYKVDIEKNLVWIAYPWRLFDRNGNVQNIMTYIAGNALGMKEIKALKLLDIWFPPSMLEQYDGPSYTLDDMRTYLNVHDRPILGTIIKPKMGLTSSEYAEVCYDFWVGGGDFVKNDEPQADQDFCPYDKMVKYVKMAMDKAVKETGKKKVHSFNVSSADFDTMIERCEMIREAGFEPGSYAFLIDGITAGWMAVQTLRRRYPDVFLHFHRAGHGGFTRPENPIGFSVLVLSKFARLAGASGIHTGTAGVGKMAGSPEEDVTAARNILKVEGKGHFFTQNWGRIPPQDDDAIKMVEMDDAHHVVLEDDSWRGLKKCCPIISGGLNPTLLEPFIDVMGGIDFITTMGAGCHAHPRGTRAGAMALVQACEAYKNKIDIADYAKDHRELAEAIEFFSKKKKK"
        ],
        [
         "2340",
         "403",
         "SUMO",
         "MSKRYTDYIDLNYTPKENDLLCCFHVEPAEGVDLEEAAGAVAAESSIGTWTDVSTMKPEIWEKLRARVYEIEGNIVKIAYPLDLFEPGNIPQILSSIAGNIFGMKAVKNLRLLDIRFPPELVKSFKGPAFGIEGVRELLGVYDRPLVGTIVKPKLGLSAKEHAEVVYEALVGGLDLVKDDENLTSQPFNPFEERVKRTLEAVDKAEEETGEKKVYLVNVTAPTEEMIRRAELVKDLGGKYVMVDIITAGFSAVQSLREADLGLVIHAHRAMHAAFTRNKKHGISMLVLAKLARLAGVDQLHIGTVVGKMEGDKEEVLAIRDALRNDRVPADEADHFLDQDWGNIKPVFPVASGGLHPGHIPDLIDIFGKDVILQFGGGVHGHPEGTRAGAKAMRAAVEAAMEGISLEEAAKDHKELEEALEKWG",
         null,
         "1",
         "403-SUMO",
         "MSKRYTDYIDLNYTPKENDLLCCFHVEPAEGVDLEEAAGAVAAESSIGTWTDVSTMKPEIWEKLRARVYEIEGNIVKIAYPLDLFEPGNIPQILSSIAGNIFGMKAVKNLRLLDIRFPPELVKSFKGPAFGIEGVRELLGVYDRPLVGTIVKPKLGLSAKEHAEVVYEALVGGLDLVKDDENLTSQPFNPFEERVKRTLEAVDKAEEETGEKKVYLVNVTAPTEEMIRRAELVKDLGGKYVMVDIITAGFSAVQSLREADLGLVIHAHRAMHAAFTRNKKHGISMLVLAKLARLAGVDQLHIGTVVGKMEGDKEEVLAIRDALRNDRVPADEADHFLDQDWGNIKPVFPVASGGLHPGHIPDLIDIFGKDVILQFGGGVHGHPEGTRAGAKAMRAAVEAAMEGISLEEAAKDHKELEEALEKWG"
        ],
        [
         "2360",
         "E4",
         "SUMO",
         "MDTKTTEIKGKERYKAGVLKYAQMGYWDGDYVPKDTDVLALFRITPQEGVDPVEAAAAVAGESSTATWTVVWTDRLTACDSYRAKAYRVEPVPGTPGQYFCYVAYDLILFEEGSIANLTASIIGNVFSFKPLKAARLEDMRFPVAYVKTYKGPPTGIVGERERLDKFGKPLLGATTKPKLGLSGKNYGRVVYEGLKGGLDFMKDDENINSQPFMHWRDRFLYVMEAVNLASAQTGEVKGHYLNITAGTMEEMYRRAEFAKSLGSVIVMVDLIIGYTAIQSISEWCRQNDMILHMHRAGHGTYTRQKNHGISFRVIAKWLRLAGVDHLHCGTAVGKLEGDPLTVQGYYNVCREPFNTVDLPRGIFFEQDWADLRKVMPVASGGIHAGQMHQLLSLFGDDVVLQFGGGTIGHPMGIQAGATANRVALEAMVLARNEGRNIDVEGPEILRAAAKWCKPLEAALDTWGNITFNYTSTDTSDFVPTASVAM",
         null,
         "0",
         "E4-SUMO",
         "MDTKTTEIKGKERYKAGVLKYAQMGYWDGDYVPKDTDVLALFRITPQEGVDPVEAAAAVAGESSTATWTVVWTDRLTACDSYRAKAYRVEPVPGTPGQYFCYVAYDLILFEEGSIANLTASIIGNVFSFKPLKAARLEDMRFPVAYVKTYKGPPTGIVGERERLDKFGKPLLGATTKPKLGLSGKNYGRVVYEGLKGGLDFMKDDENINSQPFMHWRDRFLYVMEAVNLASAQTGEVKGHYLNITAGTMEEMYRRAEFAKSLGSVIVMVDLIIGYTAIQSISEWCRQNDMILHMHRAGHGTYTRQKNHGISFRVIAKWLRLAGVDHLHCGTAVGKLEGDPLTVQGYYNVCREPFNTVDLPRGIFFEQDWADLRKVMPVASGGIHAGQMHQLLSLFGDDVVLQFGGGTIGHPMGIQAGATANRVALEAMVLARNEGRNIDVEGPEILRAAAKWCKPLEAALDTWGNITFNYTSTDTSDFVPTASVAM"
        ],
        [
         "2363",
         "E6",
         "SUMO",
         "MAIHNPLAGPKTVKARPTAELSDAYKAGVRAYAVDYYVPDYIPQDTDLLCAFRIQPRGVDMIEAAAAVAAESSTGTWTEVWSNQLTDIDFYKAKVYAITGDIAYIAYPLDLFEENSVVNIMSSIVGNVFGFKAVGALRLEDMRIPLALVKTFPGPRVGIYDERVWSNKWDRPLIGGTVKPKLGLSPKAYSTIIYECLSGGLDTSKDDENMNSQPFSRWRDRFMYAQEAVDRAAAETNEFKGHWHNVTAGSTEESLRRLEYAYELGSRMVMFDFLTAGFAASADIFKRAGELDMIVHCHRAMHAVFTRQANHGIAMRVVAKWLRLTGGDHLHTGTVVGKLEGSWNDTLGIIDILRERYVKANLEHGLYFDQDFGGLKASWPVASGGIHVHHVPDLLKIYGNDAFFLFGGGTHGHPDGSRAGAIANRAAVEAVSAGQTLQQAARSCPELRKSLELWADVKFEVVQ",
         null,
         "1",
         "E6-SUMO",
         "MAIHNPLAGPKTVKARPTAELSDAYKAGVRAYAVDYYVPDYIPQDTDLLCAFRIQPRGVDMIEAAAAVAAESSTGTWTEVWSNQLTDIDFYKAKVYAITGDIAYIAYPLDLFEENSVVNIMSSIVGNVFGFKAVGALRLEDMRIPLALVKTFPGPRVGIYDERVWSNKWDRPLIGGTVKPKLGLSPKAYSTIIYECLSGGLDTSKDDENMNSQPFSRWRDRFMYAQEAVDRAAAETNEFKGHWHNVTAGSTEESLRRLEYAYELGSRMVMFDFLTAGFAASADIFKRAGELDMIVHCHRAMHAVFTRQANHGIAMRVVAKWLRLTGGDHLHTGTVVGKLEGSWNDTLGIIDILRERYVKANLEHGLYFDQDFGGLKASWPVASGGIHVHHVPDLLKIYGNDAFFLFGGGTHGHPDGSRAGAIANRAAVEAVSAGQTLQQAARSCPELRKSLELWADVKFEVVQ"
        ],
        [
         "2378",
         "352",
         "SUMO",
         "MDQSNRYADLSLKEEDLIKGGNHLLVAYRLKPAAGYGFLEAAAHVAAESSTGTNVEVSTTDDFTKGVDALVYEIDEAKGLMKIAYPVDLFDRNLIDGRANIAHMLTLIIGNNQGMGDIEGLKMLDFYVPPKMLRRFDGPAVNISDMWKILGRPVEDGGYIAGTIIKPKLGLRPEPFAEACYQFWLGGDFIKNDEPQANQPFCPMEKVIPLVAEAMDRAQDETGQAKLFSANITADDHEEMIKRGEYVLETFGPNASHVAFLVDGFVAGPAAVTTARRNFPNTFLHFHRAGHGAVTSPQSPMGYTALVLMKLARLMGASGIHTGTMGYGKMEGDADEKVIAYMLERDECQGPFFHQEWYGMKPTTPIISGGMNALRLPGFFENLGHGNVINTAGGGSYGHIDSPAAGAVSLRQAYECWKSGADPIEYAKEHKEFARAFESFPKDADKIFPGWREKLGVHK",
         null,
         "0",
         "352-SUMO",
         "MDQSNRYADLSLKEEDLIKGGNHLLVAYRLKPAAGYGFLEAAAHVAAESSTGTNVEVSTTDDFTKGVDALVYEIDEAKGLMKIAYPVDLFDRNLIDGRANIAHMLTLIIGNNQGMGDIEGLKMLDFYVPPKMLRRFDGPAVNISDMWKILGRPVEDGGYIAGTIIKPKLGLRPEPFAEACYQFWLGGDFIKNDEPQANQPFCPMEKVIPLVAEAMDRAQDETGQAKLFSANITADDHEEMIKRGEYVLETFGPNASHVAFLVDGFVAGPAAVTTARRNFPNTFLHFHRAGHGAVTSPQSPMGYTALVLMKLARLMGASGIHTGTMGYGKMEGDADEKVIAYMLERDECQGPFFHQEWYGMKPTTPIISGGMNALRLPGFFENLGHGNVINTAGGGSYGHIDSPAAGAVSLRQAYECWKSGADPIEYAKEHKEFARAFESFPKDADKIFPGWREKLGVHK"
        ]
       ],
       "shape": {
        "columns": 7,
        "rows": 79
       }
      },
      "text/html": [
       "<div>\n",
       "<style scoped>\n",
       "    .dataframe tbody tr th:only-of-type {\n",
       "        vertical-align: middle;\n",
       "    }\n",
       "\n",
       "    .dataframe tbody tr th {\n",
       "        vertical-align: top;\n",
       "    }\n",
       "\n",
       "    .dataframe thead th {\n",
       "        text-align: right;\n",
       "    }\n",
       "</style>\n",
       "<table border=\"1\" class=\"dataframe\">\n",
       "  <thead>\n",
       "    <tr style=\"text-align: right;\">\n",
       "      <th></th>\n",
       "      <th>LSU_id</th>\n",
       "      <th>SSU_id</th>\n",
       "      <th>lsu_seq</th>\n",
       "      <th>ssu_seq</th>\n",
       "      <th>activity_binary</th>\n",
       "      <th>LSU_SSU_id</th>\n",
       "      <th>LSU_SSU_seq</th>\n",
       "    </tr>\n",
       "  </thead>\n",
       "  <tbody>\n",
       "    <tr>\n",
       "      <th>246</th>\n",
       "      <td>337</td>\n",
       "      <td>SUMO</td>\n",
       "      <td>MAQQKEYVDLNLKDEDLVKNGNHLLAVFHLKPAGGLDLLEAASEVA...</td>\n",
       "      <td>NaN</td>\n",
       "      <td>0</td>\n",
       "      <td>337-SUMO</td>\n",
       "      <td>MAQQKEYVDLNLKDEDLVKNGNHLLAVFHLKPAGGLDLLEAASEVA...</td>\n",
       "    </tr>\n",
       "    <tr>\n",
       "      <th>594</th>\n",
       "      <td>435</td>\n",
       "      <td>SUMO</td>\n",
       "      <td>MQTNSQTKAQFQAGVREYRETYYDPGYTPKDTDILAAFRVTPQPGV...</td>\n",
       "      <td>NaN</td>\n",
       "      <td>1</td>\n",
       "      <td>435-SUMO</td>\n",
       "      <td>MQTNSQTKAQFQAGVREYRETYYDPGYTPKDTDILAAFRVTPQPGV...</td>\n",
       "    </tr>\n",
       "    <tr>\n",
       "      <th>660</th>\n",
       "      <td>495</td>\n",
       "      <td>SUMO</td>\n",
       "      <td>MQTNSQTKALFDAGVREYRETYYDPGYVPKDTDVLAAFRVTPQPGV...</td>\n",
       "      <td>NaN</td>\n",
       "      <td>1</td>\n",
       "      <td>495-SUMO</td>\n",
       "      <td>MQTNSQTKALFDAGVREYRETYYDPGYVPKDTDVLAAFRVTPQPGV...</td>\n",
       "    </tr>\n",
       "    <tr>\n",
       "      <th>787</th>\n",
       "      <td>348</td>\n",
       "      <td>SUMO</td>\n",
       "      <td>MQKEYLNLGDQSVNNGQYLLAVFHIVPAGGLNLADAATEIAAESST...</td>\n",
       "      <td>NaN</td>\n",
       "      <td>1</td>\n",
       "      <td>348-SUMO</td>\n",
       "      <td>MQKEYLNLGDQSVNNGQYLLAVFHIVPAGGLNLADAATEIAAESST...</td>\n",
       "    </tr>\n",
       "    <tr>\n",
       "      <th>861</th>\n",
       "      <td>366</td>\n",
       "      <td>SUMO</td>\n",
       "      <td>MSERYTDFVDLNYTPGENDLICTFRIEPADGISLEEAAGRVASESS...</td>\n",
       "      <td>NaN</td>\n",
       "      <td>1</td>\n",
       "      <td>366-SUMO</td>\n",
       "      <td>MSERYTDFVDLNYTPGENDLICTFRIEPADGISLEEAAGRVASESS...</td>\n",
       "    </tr>\n",
       "    <tr>\n",
       "      <th>...</th>\n",
       "      <td>...</td>\n",
       "      <td>...</td>\n",
       "      <td>...</td>\n",
       "      <td>...</td>\n",
       "      <td>...</td>\n",
       "      <td>...</td>\n",
       "      <td>...</td>\n",
       "    </tr>\n",
       "    <tr>\n",
       "      <th>2567</th>\n",
       "      <td>597</td>\n",
       "      <td>SUMO</td>\n",
       "      <td>MMAKTYQAGVKDYRETYWEPDYTPKDTDILACFKITPQPGVPREEA...</td>\n",
       "      <td>NaN</td>\n",
       "      <td>1</td>\n",
       "      <td>597-SUMO</td>\n",
       "      <td>MMAKTYQAGVKDYRETYWEPDYTPKDTDILACFKITPQPGVPREEA...</td>\n",
       "    </tr>\n",
       "    <tr>\n",
       "      <th>2633</th>\n",
       "      <td>331</td>\n",
       "      <td>SUMO</td>\n",
       "      <td>MAENDLIATYHIEDGVDLEKAAQEIAAEQSTGTWTDVSTEQELVEK...</td>\n",
       "      <td>NaN</td>\n",
       "      <td>0</td>\n",
       "      <td>331-SUMO</td>\n",
       "      <td>MAENDLIATYHIEDGVDLEKAAQEIAAEQSTGTWTDVSTEQELVEK...</td>\n",
       "    </tr>\n",
       "    <tr>\n",
       "      <th>2645</th>\n",
       "      <td>404</td>\n",
       "      <td>SUMO</td>\n",
       "      <td>MSMRYTDFVDLNYTPKENDVLACFYVEPAEGVDIEEAAGAVASESS...</td>\n",
       "      <td>NaN</td>\n",
       "      <td>0</td>\n",
       "      <td>404-SUMO</td>\n",
       "      <td>MSMRYTDFVDLNYTPKENDVLACFYVEPAEGVDIEEAAGAVASESS...</td>\n",
       "    </tr>\n",
       "    <tr>\n",
       "      <th>2652</th>\n",
       "      <td>440</td>\n",
       "      <td>SUMO</td>\n",
       "      <td>MSGSTTSEEEKERWSAGVIPYAKMGYWEPDYEPKDTDILAAFRITP...</td>\n",
       "      <td>NaN</td>\n",
       "      <td>0</td>\n",
       "      <td>440-SUMO</td>\n",
       "      <td>MSGSTTSEEEKERWSAGVIPYAKMGYWEPDYEPKDTDILAAFRITP...</td>\n",
       "    </tr>\n",
       "    <tr>\n",
       "      <th>2666</th>\n",
       "      <td>453</td>\n",
       "      <td>SUMO</td>\n",
       "      <td>MNDMTTTQITDAKERYKAGVLKYRQMGYWQPDYTPKDTDIIALFRI...</td>\n",
       "      <td>NaN</td>\n",
       "      <td>0</td>\n",
       "      <td>453-SUMO</td>\n",
       "      <td>MNDMTTTQITDAKERYKAGVLKYRQMGYWQPDYTPKDTDIIALFRI...</td>\n",
       "    </tr>\n",
       "  </tbody>\n",
       "</table>\n",
       "<p>79 rows × 7 columns</p>\n",
       "</div>"
      ],
      "text/plain": [
       "     LSU_id SSU_id                                            lsu_seq ssu_seq  \\\n",
       "246     337   SUMO  MAQQKEYVDLNLKDEDLVKNGNHLLAVFHLKPAGGLDLLEAASEVA...     NaN   \n",
       "594     435   SUMO  MQTNSQTKAQFQAGVREYRETYYDPGYTPKDTDILAAFRVTPQPGV...     NaN   \n",
       "660     495   SUMO  MQTNSQTKALFDAGVREYRETYYDPGYVPKDTDVLAAFRVTPQPGV...     NaN   \n",
       "787     348   SUMO  MQKEYLNLGDQSVNNGQYLLAVFHIVPAGGLNLADAATEIAAESST...     NaN   \n",
       "861     366   SUMO  MSERYTDFVDLNYTPGENDLICTFRIEPADGISLEEAAGRVASESS...     NaN   \n",
       "...     ...    ...                                                ...     ...   \n",
       "2567    597   SUMO  MMAKTYQAGVKDYRETYWEPDYTPKDTDILACFKITPQPGVPREEA...     NaN   \n",
       "2633    331   SUMO  MAENDLIATYHIEDGVDLEKAAQEIAAEQSTGTWTDVSTEQELVEK...     NaN   \n",
       "2645    404   SUMO  MSMRYTDFVDLNYTPKENDVLACFYVEPAEGVDIEEAAGAVASESS...     NaN   \n",
       "2652    440   SUMO  MSGSTTSEEEKERWSAGVIPYAKMGYWEPDYEPKDTDILAAFRITP...     NaN   \n",
       "2666    453   SUMO  MNDMTTTQITDAKERYKAGVLKYRQMGYWQPDYTPKDTDIIALFRI...     NaN   \n",
       "\n",
       "      activity_binary LSU_SSU_id  \\\n",
       "246                 0   337-SUMO   \n",
       "594                 1   435-SUMO   \n",
       "660                 1   495-SUMO   \n",
       "787                 1   348-SUMO   \n",
       "861                 1   366-SUMO   \n",
       "...               ...        ...   \n",
       "2567                1   597-SUMO   \n",
       "2633                0   331-SUMO   \n",
       "2645                0   404-SUMO   \n",
       "2652                0   440-SUMO   \n",
       "2666                0   453-SUMO   \n",
       "\n",
       "                                            LSU_SSU_seq  \n",
       "246   MAQQKEYVDLNLKDEDLVKNGNHLLAVFHLKPAGGLDLLEAASEVA...  \n",
       "594   MQTNSQTKAQFQAGVREYRETYYDPGYTPKDTDILAAFRVTPQPGV...  \n",
       "660   MQTNSQTKALFDAGVREYRETYYDPGYVPKDTDVLAAFRVTPQPGV...  \n",
       "787   MQKEYLNLGDQSVNNGQYLLAVFHIVPAGGLNLADAATEIAAESST...  \n",
       "861   MSERYTDFVDLNYTPGENDLICTFRIEPADGISLEEAAGRVASESS...  \n",
       "...                                                 ...  \n",
       "2567  MMAKTYQAGVKDYRETYWEPDYTPKDTDILACFKITPQPGVPREEA...  \n",
       "2633  MAENDLIATYHIEDGVDLEKAAQEIAAEQSTGTWTDVSTEQELVEK...  \n",
       "2645  MSMRYTDFVDLNYTPKENDVLACFYVEPAEGVDIEEAAGAVASESS...  \n",
       "2652  MSGSTTSEEEKERWSAGVIPYAKMGYWEPDYEPKDTDILAAFRITP...  \n",
       "2666  MNDMTTTQITDAKERYKAGVLKYRQMGYWQPDYTPKDTDIIALFRI...  \n",
       "\n",
       "[79 rows x 7 columns]"
      ]
     },
     "execution_count": 18,
     "metadata": {},
     "output_type": "execute_result"
    }
   ],
   "source": [
    "combined_dataset_large_subet[combined_dataset_large_subet.isna().any(axis=1)]"
   ]
  },
  {
   "cell_type": "code",
   "execution_count": 21,
   "metadata": {},
   "outputs": [
    {
     "name": "stderr",
     "output_type": "stream",
     "text": [
      "Detected kernel version 5.4.0, which is below the recommended minimum of 5.5.0; this can cause the process to hang. It is recommended to upgrade the kernel to the minimum version or higher.\n"
     ]
    }
   ],
   "source": [
    "accelerator = Accelerator()\n",
    "\n",
    "tokenizer = AutoTokenizer.from_pretrained(\"facebook/esm2_t6_8M_UR50D\")\n",
    "\n",
    "class ProteinDataset(Dataset):\n",
    "    def __init__(self, sequences, binary_activity, tokenizer, max_length=1024):\n",
    "        self.sequences = sequences\n",
    "        self.binary_activity = binary_activity\n",
    "        self.tokenizer = tokenizer\n",
    "        self.max_length = max_length\n",
    "\n",
    "    def __len__(self):\n",
    "        return len(self.sequences)\n",
    "\n",
    "    def __getitem__(self, idx):\n",
    "        sequence = self.sequences[idx][:self.max_length]\n",
    "        binding_site = self.binary_activity[idx]\n",
    "        encoding = self.tokenizer(sequence, truncation=True, padding='max_length', max_length=self.max_length)\n",
    "        encoding['labels'] = binding_site # + [-100] * (self.max_length - len(binding_site))  # Ignore extra padding tokens\n",
    "        return encoding"
   ]
  },
  {
   "cell_type": "code",
   "execution_count": 42,
   "metadata": {},
   "outputs": [
    {
     "data": {
      "text/plain": [
       "{'input_ids': [0, 20, 5, 9, 13, 10, 4, 7, 5, 11, 19, 21, 12, 9, 13, 6, 5, 13, 4, 9, 15, 5, 5, 16, 16, 12, 5, 5, 9, 16, 8, 11, 6, 11, 22, 11, 9, 7, 14, 11, 9, 11, 9, 9, 4, 10, 9, 10, 21, 5, 5, 10, 7, 7, 13, 12, 9, 9, 4, 6, 6, 6, 6, 17, 10, 7, 11, 12, 5, 19, 14, 4, 9, 17, 18, 6, 14, 17, 12, 14, 16, 4, 4, 8, 11, 12, 20, 6, 17, 4, 18, 6, 20, 8, 5, 4, 15, 6, 7, 10, 4, 4, 13, 12, 21, 18, 14, 14, 8, 18, 4, 15, 8, 18, 14, 6, 14, 15, 18, 6, 12, 9, 6, 7, 10, 15, 4, 4, 6, 7, 19, 13, 10, 14, 4, 12, 6, 11, 12, 12, 15, 14, 15, 12, 6, 4, 8, 14, 9, 9, 4, 5, 9, 7, 5, 19, 16, 5, 5, 4, 6, 6, 12, 13, 4, 12, 15, 13, 13, 9, 12, 4, 5, 13, 16, 14, 18, 23, 14, 18, 9, 9, 10, 7, 15, 5, 7, 20, 9, 5, 4, 13, 15, 5, 9, 9, 9, 11, 6, 15, 15, 11, 4, 19, 5, 7, 17, 12, 11, 5, 14, 5, 13, 9, 20, 7, 9, 10, 5, 9, 4, 5, 7, 13, 4, 6, 5, 17, 5, 7, 20, 12, 17, 7, 4, 11, 7, 6, 4, 8, 5, 4, 16, 5, 4, 10, 9, 13, 12, 17, 4, 14, 12, 21, 5, 21, 10, 5, 20, 21, 6, 5, 18, 11, 10, 17, 14, 9, 21, 6, 12, 8, 18, 10, 7, 4, 5, 15, 4, 20, 10, 4, 5, 6, 5, 13, 16, 4, 21, 7, 6, 11, 18, 6, 6, 15, 20, 5, 21, 14, 15, 9, 9, 7, 4, 5, 11, 5, 13, 5, 4, 10, 16, 14, 22, 19, 17, 4, 15, 14, 7, 18, 14, 7, 5, 8, 6, 6, 4, 21, 14, 6, 20, 7, 14, 5, 4, 4, 9, 10, 18, 6, 11, 13, 12, 12, 4, 5, 5, 6, 6, 6, 12, 21, 6, 21, 14, 13, 6, 14, 10, 5, 6, 5, 15, 5, 18, 10, 16, 5, 12, 9, 5, 5, 20, 9, 6, 7, 14, 4, 9, 9, 19, 5, 15, 13, 21, 14, 9, 4, 5, 10, 5, 4, 9, 15, 22, 6, 14, 11, 10, 20, 16, 5, 19, 16, 16, 8, 16, 15, 11, 6, 11, 18, 8, 19, 4, 14, 14, 20, 11, 5, 9, 16, 7, 11, 5, 16, 12, 16, 19, 23, 4, 9, 15, 6, 22, 5, 12, 23, 12, 9, 21, 11, 9, 14, 9, 17, 14, 10, 17, 17, 19, 22, 13, 20, 22, 6, 5, 14, 20, 18, 6, 9, 6, 13, 11, 16, 5, 12, 4, 5, 9, 12, 9, 5, 23, 21, 9, 5, 21, 14, 17, 21, 21, 7, 10, 4, 11, 5, 19, 13, 17, 19, 5, 16, 17, 8, 10, 20, 8, 18, 7, 7, 21, 10, 14, 5, 10, 10, 2, 1], 'attention_mask': [1, 1, 1, 1, 1, 1, 1, 1, 1, 1, 1, 1, 1, 1, 1, 1, 1, 1, 1, 1, 1, 1, 1, 1, 1, 1, 1, 1, 1, 1, 1, 1, 1, 1, 1, 1, 1, 1, 1, 1, 1, 1, 1, 1, 1, 1, 1, 1, 1, 1, 1, 1, 1, 1, 1, 1, 1, 1, 1, 1, 1, 1, 1, 1, 1, 1, 1, 1, 1, 1, 1, 1, 1, 1, 1, 1, 1, 1, 1, 1, 1, 1, 1, 1, 1, 1, 1, 1, 1, 1, 1, 1, 1, 1, 1, 1, 1, 1, 1, 1, 1, 1, 1, 1, 1, 1, 1, 1, 1, 1, 1, 1, 1, 1, 1, 1, 1, 1, 1, 1, 1, 1, 1, 1, 1, 1, 1, 1, 1, 1, 1, 1, 1, 1, 1, 1, 1, 1, 1, 1, 1, 1, 1, 1, 1, 1, 1, 1, 1, 1, 1, 1, 1, 1, 1, 1, 1, 1, 1, 1, 1, 1, 1, 1, 1, 1, 1, 1, 1, 1, 1, 1, 1, 1, 1, 1, 1, 1, 1, 1, 1, 1, 1, 1, 1, 1, 1, 1, 1, 1, 1, 1, 1, 1, 1, 1, 1, 1, 1, 1, 1, 1, 1, 1, 1, 1, 1, 1, 1, 1, 1, 1, 1, 1, 1, 1, 1, 1, 1, 1, 1, 1, 1, 1, 1, 1, 1, 1, 1, 1, 1, 1, 1, 1, 1, 1, 1, 1, 1, 1, 1, 1, 1, 1, 1, 1, 1, 1, 1, 1, 1, 1, 1, 1, 1, 1, 1, 1, 1, 1, 1, 1, 1, 1, 1, 1, 1, 1, 1, 1, 1, 1, 1, 1, 1, 1, 1, 1, 1, 1, 1, 1, 1, 1, 1, 1, 1, 1, 1, 1, 1, 1, 1, 1, 1, 1, 1, 1, 1, 1, 1, 1, 1, 1, 1, 1, 1, 1, 1, 1, 1, 1, 1, 1, 1, 1, 1, 1, 1, 1, 1, 1, 1, 1, 1, 1, 1, 1, 1, 1, 1, 1, 1, 1, 1, 1, 1, 1, 1, 1, 1, 1, 1, 1, 1, 1, 1, 1, 1, 1, 1, 1, 1, 1, 1, 1, 1, 1, 1, 1, 1, 1, 1, 1, 1, 1, 1, 1, 1, 1, 1, 1, 1, 1, 1, 1, 1, 1, 1, 1, 1, 1, 1, 1, 1, 1, 1, 1, 1, 1, 1, 1, 1, 1, 1, 1, 1, 1, 1, 1, 1, 1, 1, 1, 1, 1, 1, 1, 1, 1, 1, 1, 1, 1, 1, 1, 1, 1, 1, 1, 1, 1, 1, 1, 1, 1, 1, 1, 1, 1, 1, 1, 1, 1, 1, 1, 1, 1, 1, 1, 1, 1, 1, 1, 1, 1, 1, 1, 1, 1, 1, 1, 1, 1, 1, 1, 1, 1, 1, 1, 1, 1, 1, 1, 1, 1, 1, 1, 1, 1, 1, 1, 1, 1, 1, 1, 1, 1, 1, 1, 1, 1, 1, 1, 1, 1, 1, 1, 1, 1, 1, 1, 1, 1, 1, 1, 1, 1, 1, 1, 1, 1, 1, 1, 1, 1, 1, 1, 1, 1, 1, 0], 'labels': 0}"
      ]
     },
     "execution_count": 42,
     "metadata": {},
     "output_type": "execute_result"
    }
   ],
   "source": [
    "def generate_train_test(Xs, ys, headers, random_seed, fraction=0.8):\n",
    "    lsu_list = [x.split(\"-\")[0] for x in headers]\n",
    "    lsu_list_uniq = pd.Series(lsu_list).unique().copy()\n",
    "    random.seed(random_seed)\n",
    "    random.shuffle(lsu_list_uniq)\n",
    "    train_size = int(len(lsu_list_uniq) * fraction)\n",
    "    train_set = lsu_list_uniq[:train_size]\n",
    "    test_set = lsu_list_uniq[train_size:]\n",
    "    train_indices = [i for i, x in enumerate(lsu_list) if x in train_set]\n",
    "    test_indices = [i for i, x in enumerate(lsu_list) if x in test_set]\n",
    "\n",
    "    Xs_train = [Xs[i] for i in train_indices]\n",
    "    Xs_test = [Xs[i] for i in test_indices]\n",
    "    ys_train = [ys[i] for i in train_indices]\n",
    "    ys_test = [ys[i] for i in test_indices]\n",
    "    return train_indices, test_indices, train_set, test_set, Xs_train, Xs_test, ys_train, ys_test\n",
    "\n",
    "train_indices, test_indices, train_ids, test_ids, Xs_train, Xs_test, ys_train, ys_test = generate_train_test(sequences, binary_activity, lsu_ssu_ids, 42)\n",
    "\n",
    "train_dataset = ProteinDataset(Xs_train, ys_train, tokenizer)\n",
    "val_dataset = ProteinDataset(Xs_test, ys_test, tokenizer)\n",
    "train_dataset, val_dataset = accelerator.prepare(train_dataset, val_dataset)\n",
    "train_dataset[0]"
   ]
  },
  {
   "cell_type": "code",
   "execution_count": null,
   "metadata": {},
   "outputs": [
    {
     "data": {
      "text/plain": [
       "<__main__.ProteinDataset at 0x7feafd430e10>"
      ]
     },
     "execution_count": 37,
     "metadata": {},
     "output_type": "execute_result"
    }
   ],
   "source": []
  },
  {
   "cell_type": "code",
   "execution_count": 8,
   "metadata": {},
   "outputs": [
    {
     "data": {
      "text/plain": [
       "(2276, 402)"
      ]
     },
     "execution_count": 8,
     "metadata": {},
     "output_type": "execute_result"
    }
   ],
   "source": [
    "len(train_sequences), len(val_sequences)"
   ]
  },
  {
   "cell_type": "markdown",
   "metadata": {},
   "source": [
    "## Applying the finetuned model to the mutant dataset (test set) to visualize the results"
   ]
  },
  {
   "cell_type": "code",
   "execution_count": 5,
   "metadata": {},
   "outputs": [],
   "source": [
    "model_path = \"/home/kaustubh/RuBisCO_ML/ESM_LoRA/training_runs/esm2_t33_650M-finetuned-lora_2025-05-09_03-56-15\"\n",
    "base_model_path = \"facebook/esm2_t33_650M_UR50D\""
   ]
  },
  {
   "cell_type": "code",
   "execution_count": null,
   "metadata": {},
   "outputs": [],
   "source": [
    "# class CustomModel(EsmPreTrainedModel):\n",
    "#     def __init__(self):\n",
    "#         super().__init__(EsmConfig.from_pretrained(\"facebook/esm2_t33_650M_UR50D\"))\n",
    "#         self.backbone = EsmModel.from_pretrained(\"facebook/esm2_t33_650M_UR50D\")\n",
    "\n",
    "#         self.outputs = torch.nn.Linear(1280, 1)\n",
    "\n",
    "#     def forward(\n",
    "#         self,\n",
    "#         input_ids,\n",
    "#         attention_mask=None,\n",
    "#         token_type_ids=None,\n",
    "#         position_ids=None,\n",
    "#         labels=None,\n",
    "#         inputs_embeds=None,\n",
    "#         output_attentions=False,\n",
    "#         output_hidden_states=False,\n",
    "#         return_dict=True\n",
    "#     ):\n",
    "#         outputs = self.backbone(\n",
    "#             input_ids,\n",
    "#             inputs_embeds=inputs_embeds,\n",
    "#             output_attentions=output_attentions,\n",
    "#             output_hidden_states=output_hidden_states,\n",
    "#             return_dict=return_dict\n",
    "#         )\n",
    "\n",
    "#         sequence_output = outputs.last_hidden_state # (B, L, 1280)\n",
    "#         bos_emb = sequence_output[:,0] # (B, L, 1280) -> (B, 1280)\n",
    "#         # outputs = [self.outputs[i](sequence_output) for i in range(5)]\n",
    "#         pred = self.outputs(bos_emb).squeeze(1) # (B,)\n",
    "\n",
    "#         # if labels, then we are training\n",
    "#         loss = None\n",
    "#         if labels is not None:\n",
    "#             assert pred.shape == labels.shape, f\"{pred}, {labels}\"\n",
    "#             loss_fn = torch.nn.BCEWithLogitsLoss(reduction=\"mean\")\n",
    "#             loss = loss_fn(pred, labels.float())\n",
    "#             # loss = sum(losses)/len(losses)\n",
    "\n",
    "#         return {\n",
    "#             \"loss\": loss,\n",
    "#             \"last_hidden_state\": sequence_output,\n",
    "#             \"logits\": pred\n",
    "#         }\n",
    "\n",
    "#     def get_embedding(\n",
    "#         self,\n",
    "#         input_ids,\n",
    "#         attention_mask=None,\n",
    "#         token_type_ids=None,\n",
    "#         position_ids=None,\n",
    "#         labels=None,\n",
    "#         inputs_embeds=None,\n",
    "#         output_attentions=False,\n",
    "#         output_hidden_states=False,\n",
    "#         return_dict=True\n",
    "#     ):\n",
    "#         outputs = self.backbone(\n",
    "#             input_ids,\n",
    "#             inputs_embeds=inputs_embeds,\n",
    "#             output_attentions=output_attentions,\n",
    "#             output_hidden_states=output_hidden_states,\n",
    "#             return_dict=return_dict\n",
    "#         )\n",
    "\n",
    "#         return outputs"
   ]
  },
  {
   "cell_type": "code",
   "execution_count": 7,
   "metadata": {},
   "outputs": [],
   "source": [
    "class CustomModel(EsmPreTrainedModel):\n",
    "    def __init__(self, model=None):\n",
    "        print(torch.cuda.memory_stats())\n",
    "        super().__init__(EsmConfig.from_pretrained(\"facebook/esm2_t33_650M_UR50D\"))\n",
    "        self.backbone = EsmModel.from_pretrained(\"facebook/esm2_t33_650M_UR50D\")\n",
    "\n",
    "        self.outputs = torch.nn.Linear(1280, 1)\n",
    "\n",
    "    def forward(\n",
    "        self,\n",
    "        input_ids,\n",
    "        attention_mask=None,\n",
    "        token_type_ids=None,\n",
    "        position_ids=None,\n",
    "        labels=None,\n",
    "        inputs_embeds=None,\n",
    "        output_attentions=False,\n",
    "        output_hidden_states=False,\n",
    "        return_dict=True\n",
    "    ):\n",
    "        outputs = self.backbone(\n",
    "            input_ids,\n",
    "            inputs_embeds=inputs_embeds,\n",
    "            output_attentions=output_attentions,\n",
    "            output_hidden_states=output_hidden_states,\n",
    "            return_dict=return_dict\n",
    "        )\n",
    "\n",
    "        sequence_output = outputs.last_hidden_state # (B, L, 1280)\n",
    "\n",
    "        ## Following for getting the BOS token embedding\n",
    "        # bos_emb = sequence_output[:,0] # (B, L, 1280) -> (B, 1280)\n",
    "        # # outputs = [self.outputs[i](sequence_output) for i in range(5)]\n",
    "        # outputs = self.outputs(bos_emb).squeeze(1) # (B,)\n",
    "\n",
    "        ## Following for getting the mean of the sequence embeddings\n",
    "        mask_sum = attention_mask.sum(dim=1, keepdim=True).float()\n",
    "        mean_emb = (sequence_output * attention_mask.unsqueeze(-1)).sum(dim=1) / mask_sum\n",
    "        outputs = self.outputs(mean_emb).squeeze(1) # (B,)\n",
    "\n",
    "        # if labels, then we are training\n",
    "        loss = None\n",
    "        if labels is not None:\n",
    "            assert outputs.shape == labels.shape, f\"{outputs}, {labels}\"\n",
    "            loss_fn = torch.nn.BCEWithLogitsLoss(reduction=\"mean\")\n",
    "            loss = loss_fn(outputs, labels.float())\n",
    "            # loss = sum(losses)/len(losses)\n",
    "\n",
    "        return {\n",
    "            \"loss\": loss,\n",
    "            \"last_hidden_state\": sequence_output,\n",
    "            \"logits\": outputs\n",
    "        }\n",
    "\n",
    "    def get_embedding(\n",
    "        self,\n",
    "        input_ids,\n",
    "        attention_mask=None,\n",
    "        token_type_ids=None,\n",
    "        position_ids=None,\n",
    "        labels=None,\n",
    "        inputs_embeds=None,\n",
    "        output_attentions=False,\n",
    "        output_hidden_states=False,\n",
    "        return_dict=True\n",
    "    ):\n",
    "        outputs = self.backbone(\n",
    "            input_ids,\n",
    "            inputs_embeds=inputs_embeds,\n",
    "            output_attentions=output_attentions,\n",
    "            output_hidden_states=output_hidden_states,\n",
    "            return_dict=return_dict\n",
    "        )\n",
    "\n",
    "        return outputs"
   ]
  },
  {
   "cell_type": "code",
   "execution_count": 8,
   "metadata": {},
   "outputs": [
    {
     "name": "stdout",
     "output_type": "stream",
     "text": [
      "OrderedDict({'active.all.allocated': 97139033, 'active.all.current': 2, 'active.all.freed': 97139031, 'active.all.peak': 12085, 'active.large_pool.allocated': 59848562, 'active.large_pool.current': 2, 'active.large_pool.freed': 59848560, 'active.large_pool.peak': 2903, 'active.small_pool.allocated': 37290471, 'active.small_pool.current': 0, 'active.small_pool.freed': 37290471, 'active.small_pool.peak': 9282, 'active_bytes.all.allocated': 1522626385710592, 'active_bytes.all.current': 17039360, 'active_bytes.all.freed': 1522626368671232, 'active_bytes.all.peak': 45553500160, 'active_bytes.large_pool.allocated': 1517876792433664, 'active_bytes.large_pool.current': 17039360, 'active_bytes.large_pool.freed': 1517876775394304, 'active_bytes.large_pool.peak': 45225992192, 'active_bytes.small_pool.allocated': 4749593276928, 'active_bytes.small_pool.current': 0, 'active_bytes.small_pool.freed': 4749593276928, 'active_bytes.small_pool.peak': 328572928, 'allocated_bytes.all.allocated': 1522626385710592, 'allocated_bytes.all.current': 17039360, 'allocated_bytes.all.freed': 1522626368671232, 'allocated_bytes.all.peak': 45553500160, 'allocated_bytes.large_pool.allocated': 1517876792433664, 'allocated_bytes.large_pool.current': 17039360, 'allocated_bytes.large_pool.freed': 1517876775394304, 'allocated_bytes.large_pool.peak': 45225992192, 'allocated_bytes.small_pool.allocated': 4749593276928, 'allocated_bytes.small_pool.current': 0, 'allocated_bytes.small_pool.freed': 4749593276928, 'allocated_bytes.small_pool.peak': 328572928, 'allocation.all.allocated': 97139033, 'allocation.all.current': 2, 'allocation.all.freed': 97139031, 'allocation.all.peak': 12085, 'allocation.large_pool.allocated': 59848562, 'allocation.large_pool.current': 2, 'allocation.large_pool.freed': 59848560, 'allocation.large_pool.peak': 2903, 'allocation.small_pool.allocated': 37290471, 'allocation.small_pool.current': 0, 'allocation.small_pool.freed': 37290471, 'allocation.small_pool.peak': 9282, 'inactive_split.all.allocated': 43145703, 'inactive_split.all.current': 3, 'inactive_split.all.freed': 43145700, 'inactive_split.all.peak': 1007, 'inactive_split.large_pool.allocated': 31798122, 'inactive_split.large_pool.current': 3, 'inactive_split.large_pool.freed': 31798119, 'inactive_split.large_pool.peak': 649, 'inactive_split.small_pool.allocated': 11347581, 'inactive_split.small_pool.current': 0, 'inactive_split.small_pool.freed': 11347581, 'inactive_split.small_pool.peak': 359, 'inactive_split_bytes.all.allocated': 852780244335104, 'inactive_split_bytes.all.current': 27000832, 'inactive_split_bytes.all.freed': 852780217334272, 'inactive_split_bytes.all.peak': 2713252864, 'inactive_split_bytes.large_pool.allocated': 847474279012352, 'inactive_split_bytes.large_pool.current': 27000832, 'inactive_split_bytes.large_pool.freed': 847474252011520, 'inactive_split_bytes.large_pool.peak': 2701736960, 'inactive_split_bytes.small_pool.allocated': 5305965322752, 'inactive_split_bytes.small_pool.current': 0, 'inactive_split_bytes.small_pool.freed': 5305965322752, 'inactive_split_bytes.small_pool.peak': 46248448, 'max_split_size': -1, 'num_alloc_retries': 1, 'num_device_alloc': 3518, 'num_device_free': 1900, 'num_ooms': 0, 'num_sync_all_streams': 24, 'oversize_allocations.allocated': 0, 'oversize_allocations.current': 0, 'oversize_allocations.freed': 0, 'oversize_allocations.peak': 0, 'oversize_segments.allocated': 0, 'oversize_segments.current': 0, 'oversize_segments.freed': 0, 'oversize_segments.peak': 0, 'requested_bytes.all.allocated': 1522306055927972, 'requested_bytes.all.current': 17039360, 'requested_bytes.all.freed': 1522306038888612, 'requested_bytes.all.peak': 44722844508, 'requested_bytes.large_pool.allocated': 1517561612074320, 'requested_bytes.large_pool.current': 17039360, 'requested_bytes.large_pool.freed': 1517561595034960, 'requested_bytes.large_pool.peak': 44395520000, 'requested_bytes.small_pool.allocated': 4744443853652, 'requested_bytes.small_pool.current': 0, 'requested_bytes.small_pool.freed': 4744443853652, 'requested_bytes.small_pool.peak': 328391500, 'reserved_bytes.all.allocated': 206517043200, 'reserved_bytes.all.current': 46514831360, 'reserved_bytes.all.freed': 160002211840, 'reserved_bytes.all.peak': 46523219968, 'reserved_bytes.large_pool.allocated': 205831274496, 'reserved_bytes.large_pool.current': 46183481344, 'reserved_bytes.large_pool.freed': 159647793152, 'reserved_bytes.large_pool.peak': 46191869952, 'reserved_bytes.small_pool.allocated': 685768704, 'reserved_bytes.small_pool.current': 331350016, 'reserved_bytes.small_pool.freed': 354418688, 'reserved_bytes.small_pool.peak': 331350016, 'segment.all.allocated': 3518, 'segment.all.current': 1618, 'segment.all.freed': 1900, 'segment.all.peak': 1644, 'segment.large_pool.allocated': 3191, 'segment.large_pool.current': 1460, 'segment.large_pool.freed': 1731, 'segment.large_pool.peak': 1486, 'segment.small_pool.allocated': 327, 'segment.small_pool.current': 158, 'segment.small_pool.freed': 169, 'segment.small_pool.peak': 158})\n"
     ]
    },
    {
     "name": "stderr",
     "output_type": "stream",
     "text": [
      "Some weights of EsmModel were not initialized from the model checkpoint at facebook/esm2_t33_650M_UR50D and are newly initialized: ['esm.pooler.dense.bias', 'esm.pooler.dense.weight']\n",
      "You should probably TRAIN this model on a down-stream task to be able to use it for predictions and inference.\n"
     ]
    },
    {
     "data": {
      "text/plain": [
       "PeftModelForTokenClassification(\n",
       "  (base_model): LoraModel(\n",
       "    (model): CustomModel(\n",
       "      (backbone): EsmModel(\n",
       "        (embeddings): EsmEmbeddings(\n",
       "          (word_embeddings): Embedding(33, 1280, padding_idx=1)\n",
       "          (dropout): Dropout(p=0.0, inplace=False)\n",
       "          (position_embeddings): Embedding(1026, 1280, padding_idx=1)\n",
       "        )\n",
       "        (encoder): EsmEncoder(\n",
       "          (layer): ModuleList(\n",
       "            (0-32): 33 x EsmLayer(\n",
       "              (attention): EsmAttention(\n",
       "                (self): EsmSelfAttention(\n",
       "                  (query): lora.Linear(\n",
       "                    (base_layer): Linear(in_features=1280, out_features=1280, bias=True)\n",
       "                    (lora_dropout): ModuleDict(\n",
       "                      (default): Dropout(p=0.1, inplace=False)\n",
       "                    )\n",
       "                    (lora_A): ModuleDict(\n",
       "                      (default): Linear(in_features=1280, out_features=16, bias=False)\n",
       "                    )\n",
       "                    (lora_B): ModuleDict(\n",
       "                      (default): Linear(in_features=16, out_features=1280, bias=False)\n",
       "                    )\n",
       "                    (lora_embedding_A): ParameterDict()\n",
       "                    (lora_embedding_B): ParameterDict()\n",
       "                    (lora_magnitude_vector): ModuleDict()\n",
       "                  )\n",
       "                  (key): lora.Linear(\n",
       "                    (base_layer): Linear(in_features=1280, out_features=1280, bias=True)\n",
       "                    (lora_dropout): ModuleDict(\n",
       "                      (default): Dropout(p=0.1, inplace=False)\n",
       "                    )\n",
       "                    (lora_A): ModuleDict(\n",
       "                      (default): Linear(in_features=1280, out_features=16, bias=False)\n",
       "                    )\n",
       "                    (lora_B): ModuleDict(\n",
       "                      (default): Linear(in_features=16, out_features=1280, bias=False)\n",
       "                    )\n",
       "                    (lora_embedding_A): ParameterDict()\n",
       "                    (lora_embedding_B): ParameterDict()\n",
       "                    (lora_magnitude_vector): ModuleDict()\n",
       "                  )\n",
       "                  (value): lora.Linear(\n",
       "                    (base_layer): Linear(in_features=1280, out_features=1280, bias=True)\n",
       "                    (lora_dropout): ModuleDict(\n",
       "                      (default): Dropout(p=0.1, inplace=False)\n",
       "                    )\n",
       "                    (lora_A): ModuleDict(\n",
       "                      (default): Linear(in_features=1280, out_features=16, bias=False)\n",
       "                    )\n",
       "                    (lora_B): ModuleDict(\n",
       "                      (default): Linear(in_features=16, out_features=1280, bias=False)\n",
       "                    )\n",
       "                    (lora_embedding_A): ParameterDict()\n",
       "                    (lora_embedding_B): ParameterDict()\n",
       "                    (lora_magnitude_vector): ModuleDict()\n",
       "                  )\n",
       "                  (dropout): Dropout(p=0.0, inplace=False)\n",
       "                  (rotary_embeddings): RotaryEmbedding()\n",
       "                )\n",
       "                (output): EsmSelfOutput(\n",
       "                  (dense): Linear(in_features=1280, out_features=1280, bias=True)\n",
       "                  (dropout): Dropout(p=0.0, inplace=False)\n",
       "                )\n",
       "                (LayerNorm): LayerNorm((1280,), eps=1e-05, elementwise_affine=True)\n",
       "              )\n",
       "              (intermediate): EsmIntermediate(\n",
       "                (dense): Linear(in_features=1280, out_features=5120, bias=True)\n",
       "              )\n",
       "              (output): EsmOutput(\n",
       "                (dense): Linear(in_features=5120, out_features=1280, bias=True)\n",
       "                (dropout): Dropout(p=0.0, inplace=False)\n",
       "              )\n",
       "              (LayerNorm): LayerNorm((1280,), eps=1e-05, elementwise_affine=True)\n",
       "            )\n",
       "          )\n",
       "          (emb_layer_norm_after): LayerNorm((1280,), eps=1e-05, elementwise_affine=True)\n",
       "        )\n",
       "        (pooler): EsmPooler(\n",
       "          (dense): Linear(in_features=1280, out_features=1280, bias=True)\n",
       "          (activation): Tanh()\n",
       "        )\n",
       "        (contact_head): EsmContactPredictionHead(\n",
       "          (regression): Linear(in_features=660, out_features=1, bias=True)\n",
       "          (activation): Sigmoid()\n",
       "        )\n",
       "      )\n",
       "      (outputs): Linear(in_features=1280, out_features=1, bias=True)\n",
       "    )\n",
       "  )\n",
       ")"
      ]
     },
     "execution_count": 8,
     "metadata": {},
     "output_type": "execute_result"
    }
   ],
   "source": [
    "base_model = CustomModel()\n",
    "loaded_model = PeftModel.from_pretrained(base_model, model_path).to(torch.device(\"cuda:0\"))\n",
    "loaded_model.eval()\n",
    "# Load base_model_path to base_model\n",
    "# base_model.load_state_dict(torch.load(model_path))"
   ]
  },
  {
   "cell_type": "code",
   "execution_count": 9,
   "metadata": {},
   "outputs": [],
   "source": [
    "loaded_tokenizer = AutoTokenizer.from_pretrained(model_path)"
   ]
  },
  {
   "cell_type": "code",
   "execution_count": 12,
   "metadata": {},
   "outputs": [],
   "source": [
    "formIII_mutants = combined_dataset.query('LSU_id.str.startswith(\"Anc3\")')\n",
    "formIII_seqs = formIII_mutants['LSU_SSU_seq'].to_list()\n",
    "formIII_labels = formIII_mutants['activity_binary'].to_list()\n",
    "formIII_ids = formIII_mutants['LSU_SSU_id'].to_list()"
   ]
  },
  {
   "cell_type": "code",
   "execution_count": 13,
   "metadata": {},
   "outputs": [
    {
     "ename": "RuntimeError",
     "evalue": "Expected all tensors to be on the same device, but found at least two devices, cuda:0 and cpu! (when checking argument for argument index in method wrapper_CUDA__index_select)",
     "output_type": "error",
     "traceback": [
      "\u001b[0;31m---------------------------------------------------------------------------\u001b[0m",
      "\u001b[0;31mRuntimeError\u001b[0m                              Traceback (most recent call last)",
      "Cell \u001b[0;32mIn[13], line 9\u001b[0m\n\u001b[1;32m      6\u001b[0m labels \u001b[38;5;241m=\u001b[39m [formIII_labels[i]]\n\u001b[1;32m      8\u001b[0m \u001b[38;5;28;01mwith\u001b[39;00m torch\u001b[38;5;241m.\u001b[39mno_grad():\n\u001b[0;32m----> 9\u001b[0m     outputs \u001b[38;5;241m=\u001b[39m \u001b[43mloaded_model\u001b[49m\u001b[43m(\u001b[49m\u001b[38;5;241;43m*\u001b[39;49m\u001b[38;5;241;43m*\u001b[39;49m\u001b[43minputs\u001b[49m\u001b[43m)\u001b[49m[\u001b[38;5;124m\"\u001b[39m\u001b[38;5;124mlogits\u001b[39m\u001b[38;5;124m\"\u001b[39m]\u001b[38;5;241m.\u001b[39msqueeze(\u001b[38;5;241m0\u001b[39m)\n\u001b[1;32m     10\u001b[0m     outputs \u001b[38;5;241m=\u001b[39m outputs\u001b[38;5;241m.\u001b[39mcpu()\u001b[38;5;241m.\u001b[39mnumpy()\n\u001b[1;32m     11\u001b[0m     \u001b[38;5;66;03m# Sigmoid activation\u001b[39;00m\n",
      "File \u001b[0;32m~/miniforge3/envs/lora_esm/lib/python3.13/site-packages/torch/nn/modules/module.py:1739\u001b[0m, in \u001b[0;36mModule._wrapped_call_impl\u001b[0;34m(self, *args, **kwargs)\u001b[0m\n\u001b[1;32m   1737\u001b[0m     \u001b[38;5;28;01mreturn\u001b[39;00m \u001b[38;5;28mself\u001b[39m\u001b[38;5;241m.\u001b[39m_compiled_call_impl(\u001b[38;5;241m*\u001b[39margs, \u001b[38;5;241m*\u001b[39m\u001b[38;5;241m*\u001b[39mkwargs)  \u001b[38;5;66;03m# type: ignore[misc]\u001b[39;00m\n\u001b[1;32m   1738\u001b[0m \u001b[38;5;28;01melse\u001b[39;00m:\n\u001b[0;32m-> 1739\u001b[0m     \u001b[38;5;28;01mreturn\u001b[39;00m \u001b[38;5;28;43mself\u001b[39;49m\u001b[38;5;241;43m.\u001b[39;49m\u001b[43m_call_impl\u001b[49m\u001b[43m(\u001b[49m\u001b[38;5;241;43m*\u001b[39;49m\u001b[43margs\u001b[49m\u001b[43m,\u001b[49m\u001b[43m \u001b[49m\u001b[38;5;241;43m*\u001b[39;49m\u001b[38;5;241;43m*\u001b[39;49m\u001b[43mkwargs\u001b[49m\u001b[43m)\u001b[49m\n",
      "File \u001b[0;32m~/miniforge3/envs/lora_esm/lib/python3.13/site-packages/torch/nn/modules/module.py:1750\u001b[0m, in \u001b[0;36mModule._call_impl\u001b[0;34m(self, *args, **kwargs)\u001b[0m\n\u001b[1;32m   1745\u001b[0m \u001b[38;5;66;03m# If we don't have any hooks, we want to skip the rest of the logic in\u001b[39;00m\n\u001b[1;32m   1746\u001b[0m \u001b[38;5;66;03m# this function, and just call forward.\u001b[39;00m\n\u001b[1;32m   1747\u001b[0m \u001b[38;5;28;01mif\u001b[39;00m \u001b[38;5;129;01mnot\u001b[39;00m (\u001b[38;5;28mself\u001b[39m\u001b[38;5;241m.\u001b[39m_backward_hooks \u001b[38;5;129;01mor\u001b[39;00m \u001b[38;5;28mself\u001b[39m\u001b[38;5;241m.\u001b[39m_backward_pre_hooks \u001b[38;5;129;01mor\u001b[39;00m \u001b[38;5;28mself\u001b[39m\u001b[38;5;241m.\u001b[39m_forward_hooks \u001b[38;5;129;01mor\u001b[39;00m \u001b[38;5;28mself\u001b[39m\u001b[38;5;241m.\u001b[39m_forward_pre_hooks\n\u001b[1;32m   1748\u001b[0m         \u001b[38;5;129;01mor\u001b[39;00m _global_backward_pre_hooks \u001b[38;5;129;01mor\u001b[39;00m _global_backward_hooks\n\u001b[1;32m   1749\u001b[0m         \u001b[38;5;129;01mor\u001b[39;00m _global_forward_hooks \u001b[38;5;129;01mor\u001b[39;00m _global_forward_pre_hooks):\n\u001b[0;32m-> 1750\u001b[0m     \u001b[38;5;28;01mreturn\u001b[39;00m \u001b[43mforward_call\u001b[49m\u001b[43m(\u001b[49m\u001b[38;5;241;43m*\u001b[39;49m\u001b[43margs\u001b[49m\u001b[43m,\u001b[49m\u001b[43m \u001b[49m\u001b[38;5;241;43m*\u001b[39;49m\u001b[38;5;241;43m*\u001b[39;49m\u001b[43mkwargs\u001b[49m\u001b[43m)\u001b[49m\n\u001b[1;32m   1752\u001b[0m result \u001b[38;5;241m=\u001b[39m \u001b[38;5;28;01mNone\u001b[39;00m\n\u001b[1;32m   1753\u001b[0m called_always_called_hooks \u001b[38;5;241m=\u001b[39m \u001b[38;5;28mset\u001b[39m()\n",
      "File \u001b[0;32m~/miniforge3/envs/lora_esm/lib/python3.13/site-packages/peft/peft_model.py:2314\u001b[0m, in \u001b[0;36mPeftModelForTokenClassification.forward\u001b[0;34m(self, input_ids, attention_mask, inputs_embeds, labels, output_attentions, output_hidden_states, return_dict, task_ids, **kwargs)\u001b[0m\n\u001b[1;32m   2312\u001b[0m         \u001b[38;5;28;01mif\u001b[39;00m peft_config\u001b[38;5;241m.\u001b[39mpeft_type \u001b[38;5;241m==\u001b[39m PeftType\u001b[38;5;241m.\u001b[39mPOLY:\n\u001b[1;32m   2313\u001b[0m             kwargs[\u001b[38;5;124m\"\u001b[39m\u001b[38;5;124mtask_ids\u001b[39m\u001b[38;5;124m\"\u001b[39m] \u001b[38;5;241m=\u001b[39m task_ids\n\u001b[0;32m-> 2314\u001b[0m         \u001b[38;5;28;01mreturn\u001b[39;00m \u001b[38;5;28;43mself\u001b[39;49m\u001b[38;5;241;43m.\u001b[39;49m\u001b[43mbase_model\u001b[49m\u001b[43m(\u001b[49m\n\u001b[1;32m   2315\u001b[0m \u001b[43m            \u001b[49m\u001b[43minput_ids\u001b[49m\u001b[38;5;241;43m=\u001b[39;49m\u001b[43minput_ids\u001b[49m\u001b[43m,\u001b[49m\n\u001b[1;32m   2316\u001b[0m \u001b[43m            \u001b[49m\u001b[43mattention_mask\u001b[49m\u001b[38;5;241;43m=\u001b[39;49m\u001b[43mattention_mask\u001b[49m\u001b[43m,\u001b[49m\n\u001b[1;32m   2317\u001b[0m \u001b[43m            \u001b[49m\u001b[43minputs_embeds\u001b[49m\u001b[38;5;241;43m=\u001b[39;49m\u001b[43minputs_embeds\u001b[49m\u001b[43m,\u001b[49m\n\u001b[1;32m   2318\u001b[0m \u001b[43m            \u001b[49m\u001b[43mlabels\u001b[49m\u001b[38;5;241;43m=\u001b[39;49m\u001b[43mlabels\u001b[49m\u001b[43m,\u001b[49m\n\u001b[1;32m   2319\u001b[0m \u001b[43m            \u001b[49m\u001b[43moutput_attentions\u001b[49m\u001b[38;5;241;43m=\u001b[39;49m\u001b[43moutput_attentions\u001b[49m\u001b[43m,\u001b[49m\n\u001b[1;32m   2320\u001b[0m \u001b[43m            \u001b[49m\u001b[43moutput_hidden_states\u001b[49m\u001b[38;5;241;43m=\u001b[39;49m\u001b[43moutput_hidden_states\u001b[49m\u001b[43m,\u001b[49m\n\u001b[1;32m   2321\u001b[0m \u001b[43m            \u001b[49m\u001b[43mreturn_dict\u001b[49m\u001b[38;5;241;43m=\u001b[39;49m\u001b[43mreturn_dict\u001b[49m\u001b[43m,\u001b[49m\n\u001b[1;32m   2322\u001b[0m \u001b[43m            \u001b[49m\u001b[38;5;241;43m*\u001b[39;49m\u001b[38;5;241;43m*\u001b[39;49m\u001b[43mkwargs\u001b[49m\u001b[43m,\u001b[49m\n\u001b[1;32m   2323\u001b[0m \u001b[43m        \u001b[49m\u001b[43m)\u001b[49m\n\u001b[1;32m   2325\u001b[0m batch_size \u001b[38;5;241m=\u001b[39m _get_batch_size(input_ids, inputs_embeds)\n\u001b[1;32m   2326\u001b[0m \u001b[38;5;28;01mif\u001b[39;00m attention_mask \u001b[38;5;129;01mis\u001b[39;00m \u001b[38;5;129;01mnot\u001b[39;00m \u001b[38;5;28;01mNone\u001b[39;00m:\n\u001b[1;32m   2327\u001b[0m     \u001b[38;5;66;03m# concat prompt attention mask\u001b[39;00m\n",
      "File \u001b[0;32m~/miniforge3/envs/lora_esm/lib/python3.13/site-packages/torch/nn/modules/module.py:1739\u001b[0m, in \u001b[0;36mModule._wrapped_call_impl\u001b[0;34m(self, *args, **kwargs)\u001b[0m\n\u001b[1;32m   1737\u001b[0m     \u001b[38;5;28;01mreturn\u001b[39;00m \u001b[38;5;28mself\u001b[39m\u001b[38;5;241m.\u001b[39m_compiled_call_impl(\u001b[38;5;241m*\u001b[39margs, \u001b[38;5;241m*\u001b[39m\u001b[38;5;241m*\u001b[39mkwargs)  \u001b[38;5;66;03m# type: ignore[misc]\u001b[39;00m\n\u001b[1;32m   1738\u001b[0m \u001b[38;5;28;01melse\u001b[39;00m:\n\u001b[0;32m-> 1739\u001b[0m     \u001b[38;5;28;01mreturn\u001b[39;00m \u001b[38;5;28;43mself\u001b[39;49m\u001b[38;5;241;43m.\u001b[39;49m\u001b[43m_call_impl\u001b[49m\u001b[43m(\u001b[49m\u001b[38;5;241;43m*\u001b[39;49m\u001b[43margs\u001b[49m\u001b[43m,\u001b[49m\u001b[43m \u001b[49m\u001b[38;5;241;43m*\u001b[39;49m\u001b[38;5;241;43m*\u001b[39;49m\u001b[43mkwargs\u001b[49m\u001b[43m)\u001b[49m\n",
      "File \u001b[0;32m~/miniforge3/envs/lora_esm/lib/python3.13/site-packages/torch/nn/modules/module.py:1750\u001b[0m, in \u001b[0;36mModule._call_impl\u001b[0;34m(self, *args, **kwargs)\u001b[0m\n\u001b[1;32m   1745\u001b[0m \u001b[38;5;66;03m# If we don't have any hooks, we want to skip the rest of the logic in\u001b[39;00m\n\u001b[1;32m   1746\u001b[0m \u001b[38;5;66;03m# this function, and just call forward.\u001b[39;00m\n\u001b[1;32m   1747\u001b[0m \u001b[38;5;28;01mif\u001b[39;00m \u001b[38;5;129;01mnot\u001b[39;00m (\u001b[38;5;28mself\u001b[39m\u001b[38;5;241m.\u001b[39m_backward_hooks \u001b[38;5;129;01mor\u001b[39;00m \u001b[38;5;28mself\u001b[39m\u001b[38;5;241m.\u001b[39m_backward_pre_hooks \u001b[38;5;129;01mor\u001b[39;00m \u001b[38;5;28mself\u001b[39m\u001b[38;5;241m.\u001b[39m_forward_hooks \u001b[38;5;129;01mor\u001b[39;00m \u001b[38;5;28mself\u001b[39m\u001b[38;5;241m.\u001b[39m_forward_pre_hooks\n\u001b[1;32m   1748\u001b[0m         \u001b[38;5;129;01mor\u001b[39;00m _global_backward_pre_hooks \u001b[38;5;129;01mor\u001b[39;00m _global_backward_hooks\n\u001b[1;32m   1749\u001b[0m         \u001b[38;5;129;01mor\u001b[39;00m _global_forward_hooks \u001b[38;5;129;01mor\u001b[39;00m _global_forward_pre_hooks):\n\u001b[0;32m-> 1750\u001b[0m     \u001b[38;5;28;01mreturn\u001b[39;00m \u001b[43mforward_call\u001b[49m\u001b[43m(\u001b[49m\u001b[38;5;241;43m*\u001b[39;49m\u001b[43margs\u001b[49m\u001b[43m,\u001b[49m\u001b[43m \u001b[49m\u001b[38;5;241;43m*\u001b[39;49m\u001b[38;5;241;43m*\u001b[39;49m\u001b[43mkwargs\u001b[49m\u001b[43m)\u001b[49m\n\u001b[1;32m   1752\u001b[0m result \u001b[38;5;241m=\u001b[39m \u001b[38;5;28;01mNone\u001b[39;00m\n\u001b[1;32m   1753\u001b[0m called_always_called_hooks \u001b[38;5;241m=\u001b[39m \u001b[38;5;28mset\u001b[39m()\n",
      "File \u001b[0;32m~/miniforge3/envs/lora_esm/lib/python3.13/site-packages/peft/tuners/tuners_utils.py:197\u001b[0m, in \u001b[0;36mBaseTuner.forward\u001b[0;34m(self, *args, **kwargs)\u001b[0m\n\u001b[1;32m    196\u001b[0m \u001b[38;5;28;01mdef\u001b[39;00m\u001b[38;5;250m \u001b[39m\u001b[38;5;21mforward\u001b[39m(\u001b[38;5;28mself\u001b[39m, \u001b[38;5;241m*\u001b[39margs: Any, \u001b[38;5;241m*\u001b[39m\u001b[38;5;241m*\u001b[39mkwargs: Any):\n\u001b[0;32m--> 197\u001b[0m     \u001b[38;5;28;01mreturn\u001b[39;00m \u001b[38;5;28;43mself\u001b[39;49m\u001b[38;5;241;43m.\u001b[39;49m\u001b[43mmodel\u001b[49m\u001b[38;5;241;43m.\u001b[39;49m\u001b[43mforward\u001b[49m\u001b[43m(\u001b[49m\u001b[38;5;241;43m*\u001b[39;49m\u001b[43margs\u001b[49m\u001b[43m,\u001b[49m\u001b[43m \u001b[49m\u001b[38;5;241;43m*\u001b[39;49m\u001b[38;5;241;43m*\u001b[39;49m\u001b[43mkwargs\u001b[49m\u001b[43m)\u001b[49m\n",
      "Cell \u001b[0;32mIn[7], line 21\u001b[0m, in \u001b[0;36mCustomModel.forward\u001b[0;34m(self, input_ids, attention_mask, token_type_ids, position_ids, labels, inputs_embeds, output_attentions, output_hidden_states, return_dict)\u001b[0m\n\u001b[1;32m      9\u001b[0m \u001b[38;5;28;01mdef\u001b[39;00m\u001b[38;5;250m \u001b[39m\u001b[38;5;21mforward\u001b[39m(\n\u001b[1;32m     10\u001b[0m     \u001b[38;5;28mself\u001b[39m,\n\u001b[1;32m     11\u001b[0m     input_ids,\n\u001b[0;32m   (...)\u001b[0m\n\u001b[1;32m     19\u001b[0m     return_dict\u001b[38;5;241m=\u001b[39m\u001b[38;5;28;01mTrue\u001b[39;00m\n\u001b[1;32m     20\u001b[0m ):\n\u001b[0;32m---> 21\u001b[0m     outputs \u001b[38;5;241m=\u001b[39m \u001b[38;5;28;43mself\u001b[39;49m\u001b[38;5;241;43m.\u001b[39;49m\u001b[43mbackbone\u001b[49m\u001b[43m(\u001b[49m\n\u001b[1;32m     22\u001b[0m \u001b[43m        \u001b[49m\u001b[43minput_ids\u001b[49m\u001b[43m,\u001b[49m\n\u001b[1;32m     23\u001b[0m \u001b[43m        \u001b[49m\u001b[43minputs_embeds\u001b[49m\u001b[38;5;241;43m=\u001b[39;49m\u001b[43minputs_embeds\u001b[49m\u001b[43m,\u001b[49m\n\u001b[1;32m     24\u001b[0m \u001b[43m        \u001b[49m\u001b[43moutput_attentions\u001b[49m\u001b[38;5;241;43m=\u001b[39;49m\u001b[43moutput_attentions\u001b[49m\u001b[43m,\u001b[49m\n\u001b[1;32m     25\u001b[0m \u001b[43m        \u001b[49m\u001b[43moutput_hidden_states\u001b[49m\u001b[38;5;241;43m=\u001b[39;49m\u001b[43moutput_hidden_states\u001b[49m\u001b[43m,\u001b[49m\n\u001b[1;32m     26\u001b[0m \u001b[43m        \u001b[49m\u001b[43mreturn_dict\u001b[49m\u001b[38;5;241;43m=\u001b[39;49m\u001b[43mreturn_dict\u001b[49m\n\u001b[1;32m     27\u001b[0m \u001b[43m    \u001b[49m\u001b[43m)\u001b[49m\n\u001b[1;32m     29\u001b[0m     sequence_output \u001b[38;5;241m=\u001b[39m outputs\u001b[38;5;241m.\u001b[39mlast_hidden_state \u001b[38;5;66;03m# (B, L, 1280)\u001b[39;00m\n\u001b[1;32m     31\u001b[0m     \u001b[38;5;66;03m## Following for getting the BOS token embedding\u001b[39;00m\n\u001b[1;32m     32\u001b[0m     \u001b[38;5;66;03m# bos_emb = sequence_output[:,0] # (B, L, 1280) -> (B, 1280)\u001b[39;00m\n\u001b[1;32m     33\u001b[0m     \u001b[38;5;66;03m# # outputs = [self.outputs[i](sequence_output) for i in range(5)]\u001b[39;00m\n\u001b[1;32m     34\u001b[0m     \u001b[38;5;66;03m# outputs = self.outputs(bos_emb).squeeze(1) # (B,)\u001b[39;00m\n\u001b[1;32m     35\u001b[0m \n\u001b[1;32m     36\u001b[0m     \u001b[38;5;66;03m## Following for getting the mean of the sequence embeddings\u001b[39;00m\n",
      "File \u001b[0;32m~/miniforge3/envs/lora_esm/lib/python3.13/site-packages/torch/nn/modules/module.py:1739\u001b[0m, in \u001b[0;36mModule._wrapped_call_impl\u001b[0;34m(self, *args, **kwargs)\u001b[0m\n\u001b[1;32m   1737\u001b[0m     \u001b[38;5;28;01mreturn\u001b[39;00m \u001b[38;5;28mself\u001b[39m\u001b[38;5;241m.\u001b[39m_compiled_call_impl(\u001b[38;5;241m*\u001b[39margs, \u001b[38;5;241m*\u001b[39m\u001b[38;5;241m*\u001b[39mkwargs)  \u001b[38;5;66;03m# type: ignore[misc]\u001b[39;00m\n\u001b[1;32m   1738\u001b[0m \u001b[38;5;28;01melse\u001b[39;00m:\n\u001b[0;32m-> 1739\u001b[0m     \u001b[38;5;28;01mreturn\u001b[39;00m \u001b[38;5;28;43mself\u001b[39;49m\u001b[38;5;241;43m.\u001b[39;49m\u001b[43m_call_impl\u001b[49m\u001b[43m(\u001b[49m\u001b[38;5;241;43m*\u001b[39;49m\u001b[43margs\u001b[49m\u001b[43m,\u001b[49m\u001b[43m \u001b[49m\u001b[38;5;241;43m*\u001b[39;49m\u001b[38;5;241;43m*\u001b[39;49m\u001b[43mkwargs\u001b[49m\u001b[43m)\u001b[49m\n",
      "File \u001b[0;32m~/miniforge3/envs/lora_esm/lib/python3.13/site-packages/torch/nn/modules/module.py:1750\u001b[0m, in \u001b[0;36mModule._call_impl\u001b[0;34m(self, *args, **kwargs)\u001b[0m\n\u001b[1;32m   1745\u001b[0m \u001b[38;5;66;03m# If we don't have any hooks, we want to skip the rest of the logic in\u001b[39;00m\n\u001b[1;32m   1746\u001b[0m \u001b[38;5;66;03m# this function, and just call forward.\u001b[39;00m\n\u001b[1;32m   1747\u001b[0m \u001b[38;5;28;01mif\u001b[39;00m \u001b[38;5;129;01mnot\u001b[39;00m (\u001b[38;5;28mself\u001b[39m\u001b[38;5;241m.\u001b[39m_backward_hooks \u001b[38;5;129;01mor\u001b[39;00m \u001b[38;5;28mself\u001b[39m\u001b[38;5;241m.\u001b[39m_backward_pre_hooks \u001b[38;5;129;01mor\u001b[39;00m \u001b[38;5;28mself\u001b[39m\u001b[38;5;241m.\u001b[39m_forward_hooks \u001b[38;5;129;01mor\u001b[39;00m \u001b[38;5;28mself\u001b[39m\u001b[38;5;241m.\u001b[39m_forward_pre_hooks\n\u001b[1;32m   1748\u001b[0m         \u001b[38;5;129;01mor\u001b[39;00m _global_backward_pre_hooks \u001b[38;5;129;01mor\u001b[39;00m _global_backward_hooks\n\u001b[1;32m   1749\u001b[0m         \u001b[38;5;129;01mor\u001b[39;00m _global_forward_hooks \u001b[38;5;129;01mor\u001b[39;00m _global_forward_pre_hooks):\n\u001b[0;32m-> 1750\u001b[0m     \u001b[38;5;28;01mreturn\u001b[39;00m \u001b[43mforward_call\u001b[49m\u001b[43m(\u001b[49m\u001b[38;5;241;43m*\u001b[39;49m\u001b[43margs\u001b[49m\u001b[43m,\u001b[49m\u001b[43m \u001b[49m\u001b[38;5;241;43m*\u001b[39;49m\u001b[38;5;241;43m*\u001b[39;49m\u001b[43mkwargs\u001b[49m\u001b[43m)\u001b[49m\n\u001b[1;32m   1752\u001b[0m result \u001b[38;5;241m=\u001b[39m \u001b[38;5;28;01mNone\u001b[39;00m\n\u001b[1;32m   1753\u001b[0m called_always_called_hooks \u001b[38;5;241m=\u001b[39m \u001b[38;5;28mset\u001b[39m()\n",
      "File \u001b[0;32m~/miniforge3/envs/lora_esm/lib/python3.13/site-packages/transformers/models/esm/modeling_esm.py:900\u001b[0m, in \u001b[0;36mEsmModel.forward\u001b[0;34m(self, input_ids, attention_mask, position_ids, head_mask, inputs_embeds, encoder_hidden_states, encoder_attention_mask, past_key_values, use_cache, output_attentions, output_hidden_states, return_dict)\u001b[0m\n\u001b[1;32m    893\u001b[0m \u001b[38;5;66;03m# Prepare head mask if needed\u001b[39;00m\n\u001b[1;32m    894\u001b[0m \u001b[38;5;66;03m# 1.0 in head_mask indicate we keep the head\u001b[39;00m\n\u001b[1;32m    895\u001b[0m \u001b[38;5;66;03m# attention_probs has shape bsz x n_heads x N x N\u001b[39;00m\n\u001b[1;32m    896\u001b[0m \u001b[38;5;66;03m# input head_mask has shape [num_heads] or [num_hidden_layers x num_heads]\u001b[39;00m\n\u001b[1;32m    897\u001b[0m \u001b[38;5;66;03m# and head_mask is converted to shape [num_hidden_layers x batch x num_heads x seq_length x seq_length]\u001b[39;00m\n\u001b[1;32m    898\u001b[0m head_mask \u001b[38;5;241m=\u001b[39m \u001b[38;5;28mself\u001b[39m\u001b[38;5;241m.\u001b[39mget_head_mask(head_mask, \u001b[38;5;28mself\u001b[39m\u001b[38;5;241m.\u001b[39mconfig\u001b[38;5;241m.\u001b[39mnum_hidden_layers)\n\u001b[0;32m--> 900\u001b[0m embedding_output \u001b[38;5;241m=\u001b[39m \u001b[38;5;28;43mself\u001b[39;49m\u001b[38;5;241;43m.\u001b[39;49m\u001b[43membeddings\u001b[49m\u001b[43m(\u001b[49m\n\u001b[1;32m    901\u001b[0m \u001b[43m    \u001b[49m\u001b[43minput_ids\u001b[49m\u001b[38;5;241;43m=\u001b[39;49m\u001b[43minput_ids\u001b[49m\u001b[43m,\u001b[49m\n\u001b[1;32m    902\u001b[0m \u001b[43m    \u001b[49m\u001b[43mposition_ids\u001b[49m\u001b[38;5;241;43m=\u001b[39;49m\u001b[43mposition_ids\u001b[49m\u001b[43m,\u001b[49m\n\u001b[1;32m    903\u001b[0m \u001b[43m    \u001b[49m\u001b[43mattention_mask\u001b[49m\u001b[38;5;241;43m=\u001b[39;49m\u001b[43mattention_mask\u001b[49m\u001b[43m,\u001b[49m\n\u001b[1;32m    904\u001b[0m \u001b[43m    \u001b[49m\u001b[43minputs_embeds\u001b[49m\u001b[38;5;241;43m=\u001b[39;49m\u001b[43minputs_embeds\u001b[49m\u001b[43m,\u001b[49m\n\u001b[1;32m    905\u001b[0m \u001b[43m    \u001b[49m\u001b[43mpast_key_values_length\u001b[49m\u001b[38;5;241;43m=\u001b[39;49m\u001b[43mpast_key_values_length\u001b[49m\u001b[43m,\u001b[49m\n\u001b[1;32m    906\u001b[0m \u001b[43m\u001b[49m\u001b[43m)\u001b[49m\n\u001b[1;32m    907\u001b[0m encoder_outputs \u001b[38;5;241m=\u001b[39m \u001b[38;5;28mself\u001b[39m\u001b[38;5;241m.\u001b[39mencoder(\n\u001b[1;32m    908\u001b[0m     embedding_output,\n\u001b[1;32m    909\u001b[0m     attention_mask\u001b[38;5;241m=\u001b[39mextended_attention_mask,\n\u001b[0;32m   (...)\u001b[0m\n\u001b[1;32m    917\u001b[0m     return_dict\u001b[38;5;241m=\u001b[39mreturn_dict,\n\u001b[1;32m    918\u001b[0m )\n\u001b[1;32m    919\u001b[0m sequence_output \u001b[38;5;241m=\u001b[39m encoder_outputs[\u001b[38;5;241m0\u001b[39m]\n",
      "File \u001b[0;32m~/miniforge3/envs/lora_esm/lib/python3.13/site-packages/torch/nn/modules/module.py:1739\u001b[0m, in \u001b[0;36mModule._wrapped_call_impl\u001b[0;34m(self, *args, **kwargs)\u001b[0m\n\u001b[1;32m   1737\u001b[0m     \u001b[38;5;28;01mreturn\u001b[39;00m \u001b[38;5;28mself\u001b[39m\u001b[38;5;241m.\u001b[39m_compiled_call_impl(\u001b[38;5;241m*\u001b[39margs, \u001b[38;5;241m*\u001b[39m\u001b[38;5;241m*\u001b[39mkwargs)  \u001b[38;5;66;03m# type: ignore[misc]\u001b[39;00m\n\u001b[1;32m   1738\u001b[0m \u001b[38;5;28;01melse\u001b[39;00m:\n\u001b[0;32m-> 1739\u001b[0m     \u001b[38;5;28;01mreturn\u001b[39;00m \u001b[38;5;28;43mself\u001b[39;49m\u001b[38;5;241;43m.\u001b[39;49m\u001b[43m_call_impl\u001b[49m\u001b[43m(\u001b[49m\u001b[38;5;241;43m*\u001b[39;49m\u001b[43margs\u001b[49m\u001b[43m,\u001b[49m\u001b[43m \u001b[49m\u001b[38;5;241;43m*\u001b[39;49m\u001b[38;5;241;43m*\u001b[39;49m\u001b[43mkwargs\u001b[49m\u001b[43m)\u001b[49m\n",
      "File \u001b[0;32m~/miniforge3/envs/lora_esm/lib/python3.13/site-packages/torch/nn/modules/module.py:1750\u001b[0m, in \u001b[0;36mModule._call_impl\u001b[0;34m(self, *args, **kwargs)\u001b[0m\n\u001b[1;32m   1745\u001b[0m \u001b[38;5;66;03m# If we don't have any hooks, we want to skip the rest of the logic in\u001b[39;00m\n\u001b[1;32m   1746\u001b[0m \u001b[38;5;66;03m# this function, and just call forward.\u001b[39;00m\n\u001b[1;32m   1747\u001b[0m \u001b[38;5;28;01mif\u001b[39;00m \u001b[38;5;129;01mnot\u001b[39;00m (\u001b[38;5;28mself\u001b[39m\u001b[38;5;241m.\u001b[39m_backward_hooks \u001b[38;5;129;01mor\u001b[39;00m \u001b[38;5;28mself\u001b[39m\u001b[38;5;241m.\u001b[39m_backward_pre_hooks \u001b[38;5;129;01mor\u001b[39;00m \u001b[38;5;28mself\u001b[39m\u001b[38;5;241m.\u001b[39m_forward_hooks \u001b[38;5;129;01mor\u001b[39;00m \u001b[38;5;28mself\u001b[39m\u001b[38;5;241m.\u001b[39m_forward_pre_hooks\n\u001b[1;32m   1748\u001b[0m         \u001b[38;5;129;01mor\u001b[39;00m _global_backward_pre_hooks \u001b[38;5;129;01mor\u001b[39;00m _global_backward_hooks\n\u001b[1;32m   1749\u001b[0m         \u001b[38;5;129;01mor\u001b[39;00m _global_forward_hooks \u001b[38;5;129;01mor\u001b[39;00m _global_forward_pre_hooks):\n\u001b[0;32m-> 1750\u001b[0m     \u001b[38;5;28;01mreturn\u001b[39;00m \u001b[43mforward_call\u001b[49m\u001b[43m(\u001b[49m\u001b[38;5;241;43m*\u001b[39;49m\u001b[43margs\u001b[49m\u001b[43m,\u001b[49m\u001b[43m \u001b[49m\u001b[38;5;241;43m*\u001b[39;49m\u001b[38;5;241;43m*\u001b[39;49m\u001b[43mkwargs\u001b[49m\u001b[43m)\u001b[49m\n\u001b[1;32m   1752\u001b[0m result \u001b[38;5;241m=\u001b[39m \u001b[38;5;28;01mNone\u001b[39;00m\n\u001b[1;32m   1753\u001b[0m called_always_called_hooks \u001b[38;5;241m=\u001b[39m \u001b[38;5;28mset\u001b[39m()\n",
      "File \u001b[0;32m~/miniforge3/envs/lora_esm/lib/python3.13/site-packages/transformers/models/esm/modeling_esm.py:196\u001b[0m, in \u001b[0;36mEsmEmbeddings.forward\u001b[0;34m(self, input_ids, attention_mask, position_ids, inputs_embeds, past_key_values_length)\u001b[0m\n\u001b[1;32m    193\u001b[0m         position_ids \u001b[38;5;241m=\u001b[39m \u001b[38;5;28mself\u001b[39m\u001b[38;5;241m.\u001b[39mcreate_position_ids_from_inputs_embeds(inputs_embeds)\n\u001b[1;32m    195\u001b[0m \u001b[38;5;28;01mif\u001b[39;00m inputs_embeds \u001b[38;5;129;01mis\u001b[39;00m \u001b[38;5;28;01mNone\u001b[39;00m:\n\u001b[0;32m--> 196\u001b[0m     inputs_embeds \u001b[38;5;241m=\u001b[39m \u001b[38;5;28;43mself\u001b[39;49m\u001b[38;5;241;43m.\u001b[39;49m\u001b[43mword_embeddings\u001b[49m\u001b[43m(\u001b[49m\u001b[43minput_ids\u001b[49m\u001b[43m)\u001b[49m\n\u001b[1;32m    198\u001b[0m \u001b[38;5;66;03m# Note that if we want to support ESM-1 (not 1b!) in future then we need to support an\u001b[39;00m\n\u001b[1;32m    199\u001b[0m \u001b[38;5;66;03m# embedding_scale factor here.\u001b[39;00m\n\u001b[1;32m    200\u001b[0m embeddings \u001b[38;5;241m=\u001b[39m inputs_embeds\n",
      "File \u001b[0;32m~/miniforge3/envs/lora_esm/lib/python3.13/site-packages/torch/nn/modules/module.py:1739\u001b[0m, in \u001b[0;36mModule._wrapped_call_impl\u001b[0;34m(self, *args, **kwargs)\u001b[0m\n\u001b[1;32m   1737\u001b[0m     \u001b[38;5;28;01mreturn\u001b[39;00m \u001b[38;5;28mself\u001b[39m\u001b[38;5;241m.\u001b[39m_compiled_call_impl(\u001b[38;5;241m*\u001b[39margs, \u001b[38;5;241m*\u001b[39m\u001b[38;5;241m*\u001b[39mkwargs)  \u001b[38;5;66;03m# type: ignore[misc]\u001b[39;00m\n\u001b[1;32m   1738\u001b[0m \u001b[38;5;28;01melse\u001b[39;00m:\n\u001b[0;32m-> 1739\u001b[0m     \u001b[38;5;28;01mreturn\u001b[39;00m \u001b[38;5;28;43mself\u001b[39;49m\u001b[38;5;241;43m.\u001b[39;49m\u001b[43m_call_impl\u001b[49m\u001b[43m(\u001b[49m\u001b[38;5;241;43m*\u001b[39;49m\u001b[43margs\u001b[49m\u001b[43m,\u001b[49m\u001b[43m \u001b[49m\u001b[38;5;241;43m*\u001b[39;49m\u001b[38;5;241;43m*\u001b[39;49m\u001b[43mkwargs\u001b[49m\u001b[43m)\u001b[49m\n",
      "File \u001b[0;32m~/miniforge3/envs/lora_esm/lib/python3.13/site-packages/torch/nn/modules/module.py:1750\u001b[0m, in \u001b[0;36mModule._call_impl\u001b[0;34m(self, *args, **kwargs)\u001b[0m\n\u001b[1;32m   1745\u001b[0m \u001b[38;5;66;03m# If we don't have any hooks, we want to skip the rest of the logic in\u001b[39;00m\n\u001b[1;32m   1746\u001b[0m \u001b[38;5;66;03m# this function, and just call forward.\u001b[39;00m\n\u001b[1;32m   1747\u001b[0m \u001b[38;5;28;01mif\u001b[39;00m \u001b[38;5;129;01mnot\u001b[39;00m (\u001b[38;5;28mself\u001b[39m\u001b[38;5;241m.\u001b[39m_backward_hooks \u001b[38;5;129;01mor\u001b[39;00m \u001b[38;5;28mself\u001b[39m\u001b[38;5;241m.\u001b[39m_backward_pre_hooks \u001b[38;5;129;01mor\u001b[39;00m \u001b[38;5;28mself\u001b[39m\u001b[38;5;241m.\u001b[39m_forward_hooks \u001b[38;5;129;01mor\u001b[39;00m \u001b[38;5;28mself\u001b[39m\u001b[38;5;241m.\u001b[39m_forward_pre_hooks\n\u001b[1;32m   1748\u001b[0m         \u001b[38;5;129;01mor\u001b[39;00m _global_backward_pre_hooks \u001b[38;5;129;01mor\u001b[39;00m _global_backward_hooks\n\u001b[1;32m   1749\u001b[0m         \u001b[38;5;129;01mor\u001b[39;00m _global_forward_hooks \u001b[38;5;129;01mor\u001b[39;00m _global_forward_pre_hooks):\n\u001b[0;32m-> 1750\u001b[0m     \u001b[38;5;28;01mreturn\u001b[39;00m \u001b[43mforward_call\u001b[49m\u001b[43m(\u001b[49m\u001b[38;5;241;43m*\u001b[39;49m\u001b[43margs\u001b[49m\u001b[43m,\u001b[49m\u001b[43m \u001b[49m\u001b[38;5;241;43m*\u001b[39;49m\u001b[38;5;241;43m*\u001b[39;49m\u001b[43mkwargs\u001b[49m\u001b[43m)\u001b[49m\n\u001b[1;32m   1752\u001b[0m result \u001b[38;5;241m=\u001b[39m \u001b[38;5;28;01mNone\u001b[39;00m\n\u001b[1;32m   1753\u001b[0m called_always_called_hooks \u001b[38;5;241m=\u001b[39m \u001b[38;5;28mset\u001b[39m()\n",
      "File \u001b[0;32m~/miniforge3/envs/lora_esm/lib/python3.13/site-packages/torch/nn/modules/sparse.py:190\u001b[0m, in \u001b[0;36mEmbedding.forward\u001b[0;34m(self, input)\u001b[0m\n\u001b[1;32m    189\u001b[0m \u001b[38;5;28;01mdef\u001b[39;00m\u001b[38;5;250m \u001b[39m\u001b[38;5;21mforward\u001b[39m(\u001b[38;5;28mself\u001b[39m, \u001b[38;5;28minput\u001b[39m: Tensor) \u001b[38;5;241m-\u001b[39m\u001b[38;5;241m>\u001b[39m Tensor:\n\u001b[0;32m--> 190\u001b[0m     \u001b[38;5;28;01mreturn\u001b[39;00m \u001b[43mF\u001b[49m\u001b[38;5;241;43m.\u001b[39;49m\u001b[43membedding\u001b[49m\u001b[43m(\u001b[49m\n\u001b[1;32m    191\u001b[0m \u001b[43m        \u001b[49m\u001b[38;5;28;43minput\u001b[39;49m\u001b[43m,\u001b[49m\n\u001b[1;32m    192\u001b[0m \u001b[43m        \u001b[49m\u001b[38;5;28;43mself\u001b[39;49m\u001b[38;5;241;43m.\u001b[39;49m\u001b[43mweight\u001b[49m\u001b[43m,\u001b[49m\n\u001b[1;32m    193\u001b[0m \u001b[43m        \u001b[49m\u001b[38;5;28;43mself\u001b[39;49m\u001b[38;5;241;43m.\u001b[39;49m\u001b[43mpadding_idx\u001b[49m\u001b[43m,\u001b[49m\n\u001b[1;32m    194\u001b[0m \u001b[43m        \u001b[49m\u001b[38;5;28;43mself\u001b[39;49m\u001b[38;5;241;43m.\u001b[39;49m\u001b[43mmax_norm\u001b[49m\u001b[43m,\u001b[49m\n\u001b[1;32m    195\u001b[0m \u001b[43m        \u001b[49m\u001b[38;5;28;43mself\u001b[39;49m\u001b[38;5;241;43m.\u001b[39;49m\u001b[43mnorm_type\u001b[49m\u001b[43m,\u001b[49m\n\u001b[1;32m    196\u001b[0m \u001b[43m        \u001b[49m\u001b[38;5;28;43mself\u001b[39;49m\u001b[38;5;241;43m.\u001b[39;49m\u001b[43mscale_grad_by_freq\u001b[49m\u001b[43m,\u001b[49m\n\u001b[1;32m    197\u001b[0m \u001b[43m        \u001b[49m\u001b[38;5;28;43mself\u001b[39;49m\u001b[38;5;241;43m.\u001b[39;49m\u001b[43msparse\u001b[49m\u001b[43m,\u001b[49m\n\u001b[1;32m    198\u001b[0m \u001b[43m    \u001b[49m\u001b[43m)\u001b[49m\n",
      "File \u001b[0;32m~/miniforge3/envs/lora_esm/lib/python3.13/site-packages/torch/nn/functional.py:2551\u001b[0m, in \u001b[0;36membedding\u001b[0;34m(input, weight, padding_idx, max_norm, norm_type, scale_grad_by_freq, sparse)\u001b[0m\n\u001b[1;32m   2545\u001b[0m     \u001b[38;5;66;03m# Note [embedding_renorm set_grad_enabled]\u001b[39;00m\n\u001b[1;32m   2546\u001b[0m     \u001b[38;5;66;03m# XXX: equivalent to\u001b[39;00m\n\u001b[1;32m   2547\u001b[0m     \u001b[38;5;66;03m# with torch.no_grad():\u001b[39;00m\n\u001b[1;32m   2548\u001b[0m     \u001b[38;5;66;03m#   torch.embedding_renorm_\u001b[39;00m\n\u001b[1;32m   2549\u001b[0m     \u001b[38;5;66;03m# remove once script supports set_grad_enabled\u001b[39;00m\n\u001b[1;32m   2550\u001b[0m     _no_grad_embedding_renorm_(weight, \u001b[38;5;28minput\u001b[39m, max_norm, norm_type)\n\u001b[0;32m-> 2551\u001b[0m \u001b[38;5;28;01mreturn\u001b[39;00m \u001b[43mtorch\u001b[49m\u001b[38;5;241;43m.\u001b[39;49m\u001b[43membedding\u001b[49m\u001b[43m(\u001b[49m\u001b[43mweight\u001b[49m\u001b[43m,\u001b[49m\u001b[43m \u001b[49m\u001b[38;5;28;43minput\u001b[39;49m\u001b[43m,\u001b[49m\u001b[43m \u001b[49m\u001b[43mpadding_idx\u001b[49m\u001b[43m,\u001b[49m\u001b[43m \u001b[49m\u001b[43mscale_grad_by_freq\u001b[49m\u001b[43m,\u001b[49m\u001b[43m \u001b[49m\u001b[43msparse\u001b[49m\u001b[43m)\u001b[49m\n",
      "\u001b[0;31mRuntimeError\u001b[0m: Expected all tensors to be on the same device, but found at least two devices, cuda:0 and cpu! (when checking argument for argument index in method wrapper_CUDA__index_select)"
     ]
    }
   ],
   "source": [
    "output_pred_formIII = []\n",
    "output_emb_formIII = []\n",
    "\n",
    "for i in range(len(formIII_seqs)):\n",
    "    inputs = loaded_tokenizer(formIII_seqs[i], truncation=True, padding='max_length', max_length=1024, return_tensors=\"pt\")\n",
    "    labels = [formIII_labels[i]]\n",
    "\n",
    "    with torch.no_grad():\n",
    "        outputs = loaded_model(**inputs)[\"logits\"].squeeze(0)\n",
    "        outputs = outputs.cpu().numpy()\n",
    "        # Sigmoid activation\n",
    "        outputs = 1 / (1 + np.exp(-outputs))\n",
    "\n",
    "        output_pred_formIII.append(outputs)\n",
    "        # print(outputs, labels)\n",
    "        outputs_emb = loaded_model(**inputs)[\"last_hidden_state\"].squeeze(0)[0]\n",
    "        outputs_emb = outputs_emb.cpu().numpy()\n",
    "\n",
    "        output_emb_formIII.append(outputs_emb)"
   ]
  },
  {
   "cell_type": "code",
   "execution_count": 36,
   "metadata": {},
   "outputs": [
    {
     "name": "stdout",
     "output_type": "stream",
     "text": [
      "Anc367_mutant_7-none 0.39452004 0\n",
      "Anc367_mutant_10-none 0.39413607 0\n",
      "Anc367_mutant_15-none 0.5660141 1\n",
      "Anc367_mutant_17-none 0.39281946 0\n",
      "Anc367_mutant_20-none 0.39457932 1\n",
      "Anc367_mutant_26-none 0.43341178 1\n",
      "Anc367_mutant_29-none 0.3943195 0\n",
      "Anc367_mutant_38-none 0.3946639 1\n",
      "Anc367_mutant_39-none 0.39664474 0\n",
      "Anc367_mutant_42-none 0.39815158 0\n",
      "Anc366-none 0.5675697 1\n",
      "Anc367-none 0.39563125 0\n",
      "Anc393_mutant_4-none 0.5494187 1\n",
      "Anc393_mutant_11-none 0.55009073 1\n",
      "Anc393_mutant_12-none 0.54990363 1\n",
      "Anc393_mutant_13-none 0.547416 0\n",
      "Anc393_mutant_14-none 0.551925 1\n",
      "Anc393_mutant_15-none 0.54683113 1\n",
      "Anc393_mutant_16-none 0.5454568 1\n",
      "Anc393_mutant_18-none 0.55009997 1\n",
      "Anc393_mutant_19-none 0.5475726 1\n",
      "Anc393_mutant_21-none 0.5477891 0\n",
      "Anc393_mutant_22-none 0.54851604 1\n",
      "Anc393_mutant_25-none 0.55237514 0\n",
      "Anc393_mutant_27-none 0.55394256 1\n",
      "Anc393_mutant_28-none 0.55300885 1\n",
      "Anc393_mutant_29-none 0.5450992 1\n",
      "Anc393_mutant_30-none 0.5522993 1\n",
      "Anc393_mutant_31-none 0.54972893 0\n",
      "Anc393_mutant_32-none 0.5499214 1\n",
      "Anc393_mutant_33-none 0.5506281 1\n",
      "Anc393_mutant_35-none 0.5458271 1\n",
      "Anc393_mutant_36-none 0.550998 0\n",
      "Anc393_mutant_38-none 0.5447293 1\n",
      "Anc393_mutant_41-none 0.5422887 1\n",
      "Anc393_mutant_42-none 0.55179524 1\n",
      "Anc393_mutant_43-none 0.55121505 1\n",
      "Anc393_mutant_46-none 0.55420226 1\n",
      "Anc393_mutant_47-none 0.54722315 1\n",
      "Anc393_mutant_49-none 0.5504571 1\n",
      "Anc365-none 0.5648255 1\n",
      "Anc393-none 0.5330075 0\n",
      "Anc367_mutant_0-none 0.40332586 0\n",
      "Anc367_mutant_1-none 0.5723642 1\n",
      "Anc367_mutant_2-none 0.39505202 0\n",
      "Anc367_mutant_3-none 0.39458796 0\n",
      "Anc367_mutant_4-none 0.39434353 0\n",
      "Anc367_mutant_5-none 0.54101586 1\n",
      "Anc367_mutant_6-none 0.39392382 0\n",
      "Anc367_mutant_8-none 0.39437854 0\n",
      "Anc367_mutant_9-none 0.39523163 1\n",
      "Anc367_mutant_11-none 0.39459655 1\n",
      "Anc367_mutant_12-none 0.39350465 0\n",
      "Anc367_mutant_13-none 0.39368075 1\n",
      "Anc367_mutant_14-none 0.39552772 0\n",
      "Anc367_mutant_16-none 0.39445212 1\n",
      "Anc367_mutant_18-none 0.39363936 1\n",
      "Anc367_mutant_19-none 0.5047309 0\n",
      "Anc367_mutant_21-none 0.3972884 0\n",
      "Anc367_mutant_22-none 0.3936747 0\n",
      "Anc367_mutant_23-none 0.39836788 0\n",
      "Anc367_mutant_24-none 0.3929273 0\n",
      "Anc367_mutant_25-none 0.5171405 1\n",
      "Anc367_mutant_27-none 0.42305666 1\n",
      "Anc367_mutant_28-none 0.39599586 0\n",
      "Anc367_mutant_30-none 0.3948435 1\n",
      "Anc367_mutant_31-none 0.39417106 0\n",
      "Anc367_mutant_32-none 0.39280534 0\n",
      "Anc367_mutant_33-none 0.39585793 0\n",
      "Anc367_mutant_34-none 0.5006044 1\n",
      "Anc367_mutant_35-none 0.39229006 0\n",
      "Anc367_mutant_36-none 0.39517808 0\n",
      "Anc367_mutant_37-none 0.39508668 0\n",
      "Anc367_mutant_40-none 0.500123 1\n",
      "Anc367_mutant_41-none 0.39392725 0\n",
      "Anc367_mutant_43-none 0.39448202 0\n",
      "Anc367_mutant_44-none 0.39500126 0\n",
      "Anc367_mutant_45-none 0.39652467 0\n",
      "Anc367_mutant_46-none 0.39938065 1\n",
      "Anc367_mutant_47-none 0.3930629 0\n",
      "Anc367_mutant_48-none 0.39398363 1\n",
      "Anc367_mutant_49-none 0.39440832 0\n",
      "Anc393_mutant_0-none 0.5509912 0\n",
      "Anc393_mutant_1-none 0.5454468 0\n",
      "Anc393_mutant_2-none 0.5531871 1\n",
      "Anc393_mutant_3-none 0.55219144 0\n",
      "Anc393_mutant_5-none 0.5522976 1\n",
      "Anc393_mutant_6-none 0.548946 0\n",
      "Anc393_mutant_7-none 0.54593784 1\n",
      "Anc393_mutant_8-none 0.5449565 0\n",
      "Anc393_mutant_9-none 0.54834914 0\n",
      "Anc393_mutant_10-none 0.55379885 0\n",
      "Anc393_mutant_17-none 0.5545241 1\n",
      "Anc393_mutant_20-none 0.5512623 1\n",
      "Anc393_mutant_23-none 0.5495259 1\n",
      "Anc393_mutant_24-none 0.5442112 0\n",
      "Anc393_mutant_26-none 0.54710597 1\n",
      "Anc393_mutant_34-none 0.549105 0\n",
      "Anc393_mutant_37-none 0.5532475 1\n",
      "Anc393_mutant_39-none 0.55024165 1\n",
      "Anc393_mutant_40-none 0.54661417 1\n",
      "Anc393_mutant_44-none 0.55030185 1\n",
      "Anc393_mutant_45-none 0.5441049 1\n",
      "Anc393_mutant_48-none 0.5521941 1\n"
     ]
    }
   ],
   "source": [
    "for i in range(len(output_pred_formIII)):\n",
    "    print(formIII_ids[i], output_pred_formIII[i], formIII_labels[i])"
   ]
  },
  {
   "cell_type": "code",
   "execution_count": 33,
   "metadata": {},
   "outputs": [
    {
     "data": {
      "image/png": "[encoded data removed]",
      "text/plain": [
       "<Figure size 1000x800 with 1 Axes>"
      ]
     },
     "metadata": {},
     "output_type": "display_data"
    }
   ],
   "source": [
    "from sklearn.metrics import pairwise_distances\n",
    "from sklearn.manifold import TSNE\n",
    "# import umap\n",
    "import matplotlib.pyplot as plt\n",
    "\n",
    "distance_matrix = pairwise_distances(output_emb_formIII, metric=\"cosine\")\n",
    "tsne = TSNE(n_components=2, metric=\"precomputed\", init=\"random\", random_state=42)\n",
    "tsne_embedding = tsne.fit_transform(distance_matrix)\n",
    "# umap_model = umap.UMAP(n_neighbors=5, min_dist=0.3, metric=\"cosine\")\n",
    "# tsne_embedding = umap_model.fit_transform(output_emb)\n",
    "\n",
    "plt.figure(figsize=(10, 8))\n",
    "scatter = plt.scatter(tsne_embedding[:, 0], tsne_embedding[:, 1], c=output_pred_formIII, cmap=\"coolwarm\")"
   ]
  },
  {
   "cell_type": "code",
   "execution_count": null,
   "metadata": {},
   "outputs": [],
   "source": []
  },
  {
   "cell_type": "code",
   "execution_count": null,
   "metadata": {},
   "outputs": [],
   "source": []
  },
  {
   "cell_type": "code",
   "execution_count": null,
   "metadata": {},
   "outputs": [],
   "source": [
    "output_pred = []\n",
    "\n",
    "for i in range(len(val_sequences)):\n",
    "    inputs = loaded_tokenizer(train_sequences[i], truncation=True, padding='max_length', max_length=512, return_tensors=\"pt\")\n",
    "    inputs = {key: inputs[key] for key in inputs}\n",
    "\n",
    "    with torch.no_grad():\n",
    "        outputs = loaded_model(**inputs)[\"logits\"]\n",
    "\n",
    "        probs = torch.sigmoid(outputs).cpu().numpy()\n",
    "        print(probs)"
   ]
  },
  {
   "cell_type": "code",
   "execution_count": null,
   "metadata": {},
   "outputs": [],
   "source": [
    "output_pred = []\n",
    "\n",
    "for i in range(len(train_sequences)):\n",
    "    inputs = loaded_tokenizer(train_sequences[i], truncation=True, padding='max_length', max_length=512, return_tensors=\"pt\")\n",
    "    labels = [train_binary_activity[i]]\n",
    "\n",
    "    with torch.no_grad():\n",
    "        outputs = loaded_model(**inputs)[\"logits\"].squeeze(0)\n",
    "        outputs = outputs.cpu().numpy()\n",
    "        # Sigmoid activation\n",
    "        outputs = 1 / (1 + np.exp(-outputs))\n",
    "        # print(outputs, labels)\n",
    "\n",
    "        output_pred.append(outputs)\n",
    "\n",
    "#Plot the values in output_pred with the labels from val_set_labels\n",
    "\n",
    "output_pred = np.array(output_pred)\n",
    "# val_set_labels = np.array(val_set_labels)\n",
    "\n",
    "plt.scatter(output_pred, train_binary_activity)\n",
    "plt.title(\"Predictions vs Labels for the training set\")"
   ]
  },
  {
   "cell_type": "code",
   "execution_count": 39,
   "metadata": {},
   "outputs": [
    {
     "data": {
      "text/plain": [
       "Text(0.5, 1.0, 'Predictions vs Labels for the validation set')"
      ]
     },
     "execution_count": 39,
     "metadata": {},
     "output_type": "execute_result"
    },
    {
     "data": {
      "image/png": "[encoded data removed]",
      "text/plain": [
       "<Figure size 640x480 with 1 Axes>"
      ]
     },
     "metadata": {},
     "output_type": "display_data"
    }
   ],
   "source": [
    "output_pred = []\n",
    "\n",
    "for i in range(len(val_sequences)):\n",
    "    inputs = loaded_tokenizer(val_sequences[i], truncation=True, padding='max_length', max_length=512, return_tensors=\"pt\")\n",
    "    labels = [val_binary_activity[i]]\n",
    "\n",
    "    with torch.no_grad():\n",
    "        outputs = loaded_model(**inputs)[\"logits\"].squeeze(0)\n",
    "        outputs = outputs.cpu().numpy()\n",
    "        # Sigmoid activation\n",
    "        outputs = 1 / (1 + np.exp(-outputs))\n",
    "        # print(outputs, labels)\n",
    "\n",
    "        output_pred.append(outputs)\n",
    "\n",
    "#Plot the values in output_pred with the labels from val_set_labels\n",
    "\n",
    "output_pred = np.array(output_pred)\n",
    "# val_set_labels = np.array(val_set_labels)\n",
    "\n",
    "plt.scatter(output_pred, val_binary_activity)\n",
    "plt.title(\"Predictions vs Labels for the validation set\")"
   ]
  },
  {
   "cell_type": "code",
   "execution_count": null,
   "metadata": {},
   "outputs": [
    {
     "name": "stdout",
     "output_type": "stream",
     "text": [
      "\u001b[1;34mwandb\u001b[0m: \n",
      "\u001b[1;34mwandb\u001b[0m: 🚀 View run \u001b[33m/home/kaustubh/RuBisCO_ML/ESM_LoRA/training_runs/esm2_t33_650M-finetuned-lora_2025-04-15_06-58-30\u001b[0m at: \u001b[34mhttps://wandb.ai/kauamritkar-university-of-wisconsin-madison/huggingface/runs/hbgguq7j\u001b[0m\n",
      "\u001b[1;34mwandb\u001b[0m: Find logs at: \u001b[1;35mwandb/run-20250415_070136-hbgguq7j/logs\u001b[0m\n"
     ]
    }
   ],
   "source": [
    "combined_seqs = train_sequences + val_sequences\n",
    "combined_labels = train_binary_activity + val_binary_activity\n",
    "\n",
    "output_pred_all = []\n",
    "output_emb_all = []\n",
    "\n",
    "for i in range(len(combined_seqs)):\n",
    "    inputs = loaded_tokenizer(combined_seqs[i], truncation=True, padding='max_length', max_length=512, return_tensors=\"pt\")\n",
    "    labels = [combined_labels[i]]\n",
    "\n",
    "    with torch.no_grad():\n",
    "        outputs = loaded_model(**inputs)[\"logits\"].squeeze(0)\n",
    "        outputs = outputs.cpu().numpy()\n",
    "        # Sigmoid activation\n",
    "        outputs = 1 / (1 + np.exp(-outputs))\n",
    "\n",
    "        output_pred_all.append(outputs)\n",
    "        # print(outputs, labels)\n",
    "        outputs_emb = loaded_model(**inputs)[\"last_hidden_state\"].squeeze(0)[0]\n",
    "        outputs_emb = outputs_emb.cpu().numpy()\n",
    "\n",
    "        output_emb_all.append(outputs_emb)"
   ]
  },
  {
   "cell_type": "code",
   "execution_count": null,
   "metadata": {},
   "outputs": [],
   "source": [
    "#Plot the values in output_pred with the labels from val_set_labels\n",
    "\n",
    "output_pred_all = np.array(output_pred_all)\n",
    "combined_labels = np.array(combined_labels)\n",
    "\n",
    "plt.scatter(output_pred_all, combined_labels)"
   ]
  },
  {
   "cell_type": "code",
   "execution_count": null,
   "metadata": {},
   "outputs": [],
   "source": [
    "from sklearn.metrics import pairwise_distances\n",
    "from sklearn.manifold import TSNE\n",
    "# import umap\n",
    "import matplotlib.pyplot as plt\n",
    "\n",
    "distance_matrix = pairwise_distances(output_emb_all, metric=\"cosine\")\n",
    "tsne = TSNE(n_components=2, metric=\"precomputed\", init=\"random\", random_state=42)\n",
    "tsne_embedding = tsne.fit_transform(distance_matrix)\n",
    "# umap_model = umap.UMAP(n_neighbors=5, min_dist=0.3, metric=\"cosine\")\n",
    "# tsne_embedding = umap_model.fit_transform(output_emb)\n",
    "\n",
    "plt.figure(figsize=(10, 8))\n",
    "scatter = plt.scatter(tsne_embedding[:, 0], tsne_embedding[:, 1], c=combined_labels, cmap=\"coolwarm\")"
   ]
  },
  {
   "cell_type": "code",
   "execution_count": null,
   "metadata": {},
   "outputs": [],
   "source": []
  }
 ],
 "metadata": {
  "kernelspec": {
   "display_name": "Python 3 (ipykernel)",
   "language": "python",
   "name": "python3"
  },
  "language_info": {
   "codemirror_mode": {
    "name": "ipython",
    "version": 3
   },
   "file_extension": ".py",
   "mimetype": "text/x-python",
   "name": "python",
   "nbconvert_exporter": "python",
   "pygments_lexer": "ipython3",
   "version": "3.13.2"
  }
 },
 "nbformat": 4,
 "nbformat_minor": 2
}
