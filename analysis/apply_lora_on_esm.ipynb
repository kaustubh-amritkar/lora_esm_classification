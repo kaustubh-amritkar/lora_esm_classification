{
 "cells": [
  {
   "cell_type": "code",
   "execution_count": null,
   "metadata": {},
   "outputs": [
    {
     "name": "stdout",
     "output_type": "stream",
     "text": [
      "/home/kaustubh/RuBisCO_ML/ESM_LoRA/analysis\n"
     ]
    }
   ],
   "source": [
    "import os\n",
    "import sys\n",
    "%cd /home/kaustubh/RuBisCO_ML/ESM_LoRA/analysis/"
   ]
  },
  {
   "cell_type": "code",
   "execution_count": 2,
   "metadata": {},
   "outputs": [],
   "source": [
    "import matplotlib.pyplot as plt\n",
    "from lora_esm2_script_updated import *\n",
    "# from lora_esm2_script_updated import CustomModel"
   ]
  },
  {
   "cell_type": "code",
   "execution_count": 3,
   "metadata": {},
   "outputs": [
    {
     "name": "stdout",
     "output_type": "stream",
     "text": [
      "2\n",
      "NVIDIA L40S\n",
      "OrderedDict({'active.all.allocated': 0, 'active.all.current': 0, 'active.all.freed': 0, 'active.all.peak': 0, 'active.large_pool.allocated': 0, 'active.large_pool.current': 0, 'active.large_pool.freed': 0, 'active.large_pool.peak': 0, 'active.small_pool.allocated': 0, 'active.small_pool.current': 0, 'active.small_pool.freed': 0, 'active.small_pool.peak': 0, 'active_bytes.all.allocated': 0, 'active_bytes.all.current': 0, 'active_bytes.all.freed': 0, 'active_bytes.all.peak': 0, 'active_bytes.large_pool.allocated': 0, 'active_bytes.large_pool.current': 0, 'active_bytes.large_pool.freed': 0, 'active_bytes.large_pool.peak': 0, 'active_bytes.small_pool.allocated': 0, 'active_bytes.small_pool.current': 0, 'active_bytes.small_pool.freed': 0, 'active_bytes.small_pool.peak': 0, 'allocated_bytes.all.allocated': 0, 'allocated_bytes.all.current': 0, 'allocated_bytes.all.freed': 0, 'allocated_bytes.all.peak': 0, 'allocated_bytes.large_pool.allocated': 0, 'allocated_bytes.large_pool.current': 0, 'allocated_bytes.large_pool.freed': 0, 'allocated_bytes.large_pool.peak': 0, 'allocated_bytes.small_pool.allocated': 0, 'allocated_bytes.small_pool.current': 0, 'allocated_bytes.small_pool.freed': 0, 'allocated_bytes.small_pool.peak': 0, 'allocation.all.allocated': 0, 'allocation.all.current': 0, 'allocation.all.freed': 0, 'allocation.all.peak': 0, 'allocation.large_pool.allocated': 0, 'allocation.large_pool.current': 0, 'allocation.large_pool.freed': 0, 'allocation.large_pool.peak': 0, 'allocation.small_pool.allocated': 0, 'allocation.small_pool.current': 0, 'allocation.small_pool.freed': 0, 'allocation.small_pool.peak': 0, 'inactive_split.all.allocated': 0, 'inactive_split.all.current': 0, 'inactive_split.all.freed': 0, 'inactive_split.all.peak': 0, 'inactive_split.large_pool.allocated': 0, 'inactive_split.large_pool.current': 0, 'inactive_split.large_pool.freed': 0, 'inactive_split.large_pool.peak': 0, 'inactive_split.small_pool.allocated': 0, 'inactive_split.small_pool.current': 0, 'inactive_split.small_pool.freed': 0, 'inactive_split.small_pool.peak': 0, 'inactive_split_bytes.all.allocated': 0, 'inactive_split_bytes.all.current': 0, 'inactive_split_bytes.all.freed': 0, 'inactive_split_bytes.all.peak': 0, 'inactive_split_bytes.large_pool.allocated': 0, 'inactive_split_bytes.large_pool.current': 0, 'inactive_split_bytes.large_pool.freed': 0, 'inactive_split_bytes.large_pool.peak': 0, 'inactive_split_bytes.small_pool.allocated': 0, 'inactive_split_bytes.small_pool.current': 0, 'inactive_split_bytes.small_pool.freed': 0, 'inactive_split_bytes.small_pool.peak': 0, 'max_split_size': -1, 'num_alloc_retries': 0, 'num_device_alloc': 0, 'num_device_free': 0, 'num_ooms': 0, 'num_sync_all_streams': 0, 'oversize_allocations.allocated': 0, 'oversize_allocations.current': 0, 'oversize_allocations.freed': 0, 'oversize_allocations.peak': 0, 'oversize_segments.allocated': 0, 'oversize_segments.current': 0, 'oversize_segments.freed': 0, 'oversize_segments.peak': 0, 'requested_bytes.all.allocated': 0, 'requested_bytes.all.current': 0, 'requested_bytes.all.freed': 0, 'requested_bytes.all.peak': 0, 'requested_bytes.large_pool.allocated': 0, 'requested_bytes.large_pool.current': 0, 'requested_bytes.large_pool.freed': 0, 'requested_bytes.large_pool.peak': 0, 'requested_bytes.small_pool.allocated': 0, 'requested_bytes.small_pool.current': 0, 'requested_bytes.small_pool.freed': 0, 'requested_bytes.small_pool.peak': 0, 'reserved_bytes.all.allocated': 0, 'reserved_bytes.all.current': 0, 'reserved_bytes.all.freed': 0, 'reserved_bytes.all.peak': 0, 'reserved_bytes.large_pool.allocated': 0, 'reserved_bytes.large_pool.current': 0, 'reserved_bytes.large_pool.freed': 0, 'reserved_bytes.large_pool.peak': 0, 'reserved_bytes.small_pool.allocated': 0, 'reserved_bytes.small_pool.current': 0, 'reserved_bytes.small_pool.freed': 0, 'reserved_bytes.small_pool.peak': 0, 'segment.all.allocated': 0, 'segment.all.current': 0, 'segment.all.freed': 0, 'segment.all.peak': 0, 'segment.large_pool.allocated': 0, 'segment.large_pool.current': 0, 'segment.large_pool.freed': 0, 'segment.large_pool.peak': 0, 'segment.small_pool.allocated': 0, 'segment.small_pool.current': 0, 'segment.small_pool.freed': 0, 'segment.small_pool.peak': 0})\n"
     ]
    }
   ],
   "source": [
    "print(torch.cuda.device_count())\n",
    "print(torch.cuda.get_device_name(0))\n",
    "print(torch.cuda.memory_stats())"
   ]
  },
  {
   "cell_type": "code",
   "execution_count": 4,
   "metadata": {},
   "outputs": [
    {
     "name": "stderr",
     "output_type": "stream",
     "text": [
      "Detected kernel version 5.4.0, which is below the recommended minimum of 5.5.0; this can cause the process to hang. It is recommended to upgrade the kernel to the minimum version or higher.\n"
     ]
    },
    {
     "name": "stderr",
     "output_type": "stream",
     "text": [
      "/home/kaustubh/miniforge3/envs/lora_esm/lib/python3.13/site-packages/transformers/training_args.py:1594: FutureWarning: `evaluation_strategy` is deprecated and will be removed in version 4.46 of 🤗 Transformers. Use `eval_strategy` instead\n",
      "  warnings.warn(\n",
      "Detected kernel version 5.4.0, which is below the recommended minimum of 5.5.0; this can cause the process to hang. It is recommended to upgrade the kernel to the minimum version or higher.\n"
     ]
    },
    {
     "name": "stdout",
     "output_type": "stream",
     "text": [
      "OrderedDict({'active.all.allocated': 0, 'active.all.current': 0, 'active.all.freed': 0, 'active.all.peak': 0, 'active.large_pool.allocated': 0, 'active.large_pool.current': 0, 'active.large_pool.freed': 0, 'active.large_pool.peak': 0, 'active.small_pool.allocated': 0, 'active.small_pool.current': 0, 'active.small_pool.freed': 0, 'active.small_pool.peak': 0, 'active_bytes.all.allocated': 0, 'active_bytes.all.current': 0, 'active_bytes.all.freed': 0, 'active_bytes.all.peak': 0, 'active_bytes.large_pool.allocated': 0, 'active_bytes.large_pool.current': 0, 'active_bytes.large_pool.freed': 0, 'active_bytes.large_pool.peak': 0, 'active_bytes.small_pool.allocated': 0, 'active_bytes.small_pool.current': 0, 'active_bytes.small_pool.freed': 0, 'active_bytes.small_pool.peak': 0, 'allocated_bytes.all.allocated': 0, 'allocated_bytes.all.current': 0, 'allocated_bytes.all.freed': 0, 'allocated_bytes.all.peak': 0, 'allocated_bytes.large_pool.allocated': 0, 'allocated_bytes.large_pool.current': 0, 'allocated_bytes.large_pool.freed': 0, 'allocated_bytes.large_pool.peak': 0, 'allocated_bytes.small_pool.allocated': 0, 'allocated_bytes.small_pool.current': 0, 'allocated_bytes.small_pool.freed': 0, 'allocated_bytes.small_pool.peak': 0, 'allocation.all.allocated': 0, 'allocation.all.current': 0, 'allocation.all.freed': 0, 'allocation.all.peak': 0, 'allocation.large_pool.allocated': 0, 'allocation.large_pool.current': 0, 'allocation.large_pool.freed': 0, 'allocation.large_pool.peak': 0, 'allocation.small_pool.allocated': 0, 'allocation.small_pool.current': 0, 'allocation.small_pool.freed': 0, 'allocation.small_pool.peak': 0, 'inactive_split.all.allocated': 0, 'inactive_split.all.current': 0, 'inactive_split.all.freed': 0, 'inactive_split.all.peak': 0, 'inactive_split.large_pool.allocated': 0, 'inactive_split.large_pool.current': 0, 'inactive_split.large_pool.freed': 0, 'inactive_split.large_pool.peak': 0, 'inactive_split.small_pool.allocated': 0, 'inactive_split.small_pool.current': 0, 'inactive_split.small_pool.freed': 0, 'inactive_split.small_pool.peak': 0, 'inactive_split_bytes.all.allocated': 0, 'inactive_split_bytes.all.current': 0, 'inactive_split_bytes.all.freed': 0, 'inactive_split_bytes.all.peak': 0, 'inactive_split_bytes.large_pool.allocated': 0, 'inactive_split_bytes.large_pool.current': 0, 'inactive_split_bytes.large_pool.freed': 0, 'inactive_split_bytes.large_pool.peak': 0, 'inactive_split_bytes.small_pool.allocated': 0, 'inactive_split_bytes.small_pool.current': 0, 'inactive_split_bytes.small_pool.freed': 0, 'inactive_split_bytes.small_pool.peak': 0, 'max_split_size': -1, 'num_alloc_retries': 0, 'num_device_alloc': 0, 'num_device_free': 0, 'num_ooms': 0, 'num_sync_all_streams': 1, 'oversize_allocations.allocated': 0, 'oversize_allocations.current': 0, 'oversize_allocations.freed': 0, 'oversize_allocations.peak': 0, 'oversize_segments.allocated': 0, 'oversize_segments.current': 0, 'oversize_segments.freed': 0, 'oversize_segments.peak': 0, 'requested_bytes.all.allocated': 0, 'requested_bytes.all.current': 0, 'requested_bytes.all.freed': 0, 'requested_bytes.all.peak': 0, 'requested_bytes.large_pool.allocated': 0, 'requested_bytes.large_pool.current': 0, 'requested_bytes.large_pool.freed': 0, 'requested_bytes.large_pool.peak': 0, 'requested_bytes.small_pool.allocated': 0, 'requested_bytes.small_pool.current': 0, 'requested_bytes.small_pool.freed': 0, 'requested_bytes.small_pool.peak': 0, 'reserved_bytes.all.allocated': 0, 'reserved_bytes.all.current': 0, 'reserved_bytes.all.freed': 0, 'reserved_bytes.all.peak': 0, 'reserved_bytes.large_pool.allocated': 0, 'reserved_bytes.large_pool.current': 0, 'reserved_bytes.large_pool.freed': 0, 'reserved_bytes.large_pool.peak': 0, 'reserved_bytes.small_pool.allocated': 0, 'reserved_bytes.small_pool.current': 0, 'reserved_bytes.small_pool.freed': 0, 'reserved_bytes.small_pool.peak': 0, 'segment.all.allocated': 0, 'segment.all.current': 0, 'segment.all.freed': 0, 'segment.all.peak': 0, 'segment.large_pool.allocated': 0, 'segment.large_pool.current': 0, 'segment.large_pool.freed': 0, 'segment.large_pool.peak': 0, 'segment.small_pool.allocated': 0, 'segment.small_pool.current': 0, 'segment.small_pool.freed': 0, 'segment.small_pool.peak': 0})\n"
     ]
    },
    {
     "name": "stderr",
     "output_type": "stream",
     "text": [
      "Some weights of EsmModel were not initialized from the model checkpoint at facebook/esm2_t33_650M_UR50D and are newly initialized: ['esm.pooler.dense.bias', 'esm.pooler.dense.weight']\n",
      "You should probably TRAIN this model on a down-stream task to be able to use it for predictions and inference.\n"
     ]
    },
    {
     "name": "stdout",
     "output_type": "stream",
     "text": [
      "dict_keys(['method', 'metric', 'parameters'])\n",
      "Trial 1/10\n",
      "learning_rate:  1e-05\n",
      "OrderedDict({'active.all.allocated': 770, 'active.all.current': 770, 'active.all.freed': 0, 'active.all.peak': 770, 'active.large_pool.allocated': 200, 'active.large_pool.current': 200, 'active.large_pool.freed': 0, 'active.large_pool.peak': 200, 'active.small_pool.allocated': 570, 'active.small_pool.current': 570, 'active.small_pool.freed': 0, 'active.small_pool.peak': 570, 'active_bytes.all.allocated': 2694874112, 'active_bytes.all.current': 2694874112, 'active_bytes.all.freed': 0, 'active_bytes.all.peak': 2694874112, 'active_bytes.large_pool.allocated': 2676238336, 'active_bytes.large_pool.current': 2676238336, 'active_bytes.large_pool.freed': 0, 'active_bytes.large_pool.peak': 2676238336, 'active_bytes.small_pool.allocated': 18635776, 'active_bytes.small_pool.current': 18635776, 'active_bytes.small_pool.freed': 0, 'active_bytes.small_pool.peak': 18635776, 'allocated_bytes.all.allocated': 2694874112, 'allocated_bytes.all.current': 2694874112, 'allocated_bytes.all.freed': 0, 'allocated_bytes.all.peak': 2694874112, 'allocated_bytes.large_pool.allocated': 2676238336, 'allocated_bytes.large_pool.current': 2676238336, 'allocated_bytes.large_pool.freed': 0, 'allocated_bytes.large_pool.peak': 2676238336, 'allocated_bytes.small_pool.allocated': 18635776, 'allocated_bytes.small_pool.current': 18635776, 'allocated_bytes.small_pool.freed': 0, 'allocated_bytes.small_pool.peak': 18635776, 'allocation.all.allocated': 770, 'allocation.all.current': 770, 'allocation.all.freed': 0, 'allocation.all.peak': 770, 'allocation.large_pool.allocated': 200, 'allocation.large_pool.current': 200, 'allocation.large_pool.freed': 0, 'allocation.large_pool.peak': 200, 'allocation.small_pool.allocated': 570, 'allocation.small_pool.current': 570, 'allocation.small_pool.freed': 0, 'allocation.small_pool.peak': 570, 'inactive_split.all.allocated': 54, 'inactive_split.all.current': 48, 'inactive_split.all.freed': 6, 'inactive_split.all.peak': 49, 'inactive_split.large_pool.allocated': 45, 'inactive_split.large_pool.current': 45, 'inactive_split.large_pool.freed': 0, 'inactive_split.large_pool.peak': 45, 'inactive_split.small_pool.allocated': 9, 'inactive_split.small_pool.current': 3, 'inactive_split.small_pool.freed': 6, 'inactive_split.small_pool.peak': 5, 'inactive_split_bytes.all.allocated': 668279808, 'inactive_split_bytes.all.current': 67075072, 'inactive_split_bytes.all.freed': 601204736, 'inactive_split_bytes.all.peak': 73704448, 'inactive_split_bytes.large_pool.allocated': 650106880, 'inactive_split_bytes.large_pool.current': 66836480, 'inactive_split_bytes.large_pool.freed': 583270400, 'inactive_split_bytes.large_pool.peak': 73390080, 'inactive_split_bytes.small_pool.allocated': 18172928, 'inactive_split_bytes.small_pool.current': 238592, 'inactive_split_bytes.small_pool.freed': 17934336, 'inactive_split_bytes.small_pool.peak': 2094592, 'max_split_size': -1, 'num_alloc_retries': 0, 'num_device_alloc': 120, 'num_device_free': 0, 'num_ooms': 0, 'num_sync_all_streams': 2, 'oversize_allocations.allocated': 0, 'oversize_allocations.current': 0, 'oversize_allocations.freed': 0, 'oversize_allocations.peak': 0, 'oversize_segments.allocated': 0, 'oversize_segments.current': 0, 'oversize_segments.freed': 0, 'oversize_segments.peak': 0, 'requested_bytes.all.allocated': 2625653480, 'requested_bytes.all.current': 2625653480, 'requested_bytes.all.freed': 0, 'requested_bytes.all.peak': 2625653480, 'requested_bytes.large_pool.allocated': 2607032320, 'requested_bytes.large_pool.current': 2607032320, 'requested_bytes.large_pool.freed': 0, 'requested_bytes.large_pool.peak': 2607032320, 'requested_bytes.small_pool.allocated': 18621160, 'requested_bytes.small_pool.current': 18621160, 'requested_bytes.small_pool.freed': 0, 'requested_bytes.small_pool.peak': 18621160, 'reserved_bytes.all.allocated': 2761949184, 'reserved_bytes.all.current': 2761949184, 'reserved_bytes.all.freed': 0, 'reserved_bytes.all.peak': 2761949184, 'reserved_bytes.large_pool.allocated': 2743074816, 'reserved_bytes.large_pool.current': 2743074816, 'reserved_bytes.large_pool.freed': 0, 'reserved_bytes.large_pool.peak': 2743074816, 'reserved_bytes.small_pool.allocated': 18874368, 'reserved_bytes.small_pool.current': 18874368, 'reserved_bytes.small_pool.freed': 0, 'reserved_bytes.small_pool.peak': 18874368, 'segment.all.allocated': 120, 'segment.all.current': 120, 'segment.all.freed': 0, 'segment.all.peak': 120, 'segment.large_pool.allocated': 111, 'segment.large_pool.current': 111, 'segment.large_pool.freed': 0, 'segment.large_pool.peak': 111, 'segment.small_pool.allocated': 9, 'segment.small_pool.current': 9, 'segment.small_pool.freed': 0, 'segment.small_pool.peak': 9})\n"
     ]
    },
    {
     "name": "stderr",
     "output_type": "stream",
     "text": [
      "Some weights of EsmModel were not initialized from the model checkpoint at facebook/esm2_t33_650M_UR50D and are newly initialized: ['esm.pooler.dense.bias', 'esm.pooler.dense.weight']\n",
      "You should probably TRAIN this model on a down-stream task to be able to use it for predictions and inference.\n",
      "\u001b[34m\u001b[1mwandb\u001b[0m: \u001b[33mWARNING\u001b[0m The `run_name` is currently set to the same value as `TrainingArguments.output_dir`. If this was not intended, please specify a different run name by setting the `TrainingArguments.run_name` parameter.\n",
      "\u001b[34m\u001b[1mwandb\u001b[0m: Using wandb-core as the SDK backend.  Please refer to https://wandb.me/wandb-core for more information.\n",
      "\u001b[34m\u001b[1mwandb\u001b[0m: Currently logged in as: \u001b[33mkauamritkar\u001b[0m (\u001b[33mkauamritkar-university-of-wisconsin-madison\u001b[0m) to \u001b[32mhttps://api.wandb.ai\u001b[0m. Use \u001b[1m`wandb login --relogin`\u001b[0m to force relogin\n"
     ]
    },
    {
     "data": {
      "text/html": [
       "Tracking run with wandb version 0.19.7"
      ],
      "text/plain": [
       "<IPython.core.display.HTML object>"
      ]
     },
     "metadata": {},
     "output_type": "display_data"
    },
    {
     "data": {
      "text/html": [
       "Run data is saved locally in <code>/home/kaustubh/RuBisCO_ML/ESM_LoRA/analysis/wandb/run-20250507_013909-q8uaodkp</code>"
      ],
      "text/plain": [
       "<IPython.core.display.HTML object>"
      ]
     },
     "metadata": {},
     "output_type": "display_data"
    },
    {
     "data": {
      "text/html": [
       "Syncing run <strong><a href='https://wandb.ai/kauamritkar-university-of-wisconsin-madison/huggingface/runs/q8uaodkp' target=\"_blank\">/home/kaustubh/RuBisCO_ML/ESM_LoRA/training_runs/esm2_t33_650M-finetuned-lora_2025-05-07_01-39-02</a></strong> to <a href='https://wandb.ai/kauamritkar-university-of-wisconsin-madison/huggingface' target=\"_blank\">Weights & Biases</a> (<a href='https://wandb.me/developer-guide' target=\"_blank\">docs</a>)<br>"
      ],
      "text/plain": [
       "<IPython.core.display.HTML object>"
      ]
     },
     "metadata": {},
     "output_type": "display_data"
    },
    {
     "data": {
      "text/html": [
       " View project at <a href='https://wandb.ai/kauamritkar-university-of-wisconsin-madison/huggingface' target=\"_blank\">https://wandb.ai/kauamritkar-university-of-wisconsin-madison/huggingface</a>"
      ],
      "text/plain": [
       "<IPython.core.display.HTML object>"
      ]
     },
     "metadata": {},
     "output_type": "display_data"
    },
    {
     "data": {
      "text/html": [
       " View run at <a href='https://wandb.ai/kauamritkar-university-of-wisconsin-madison/huggingface/runs/q8uaodkp' target=\"_blank\">https://wandb.ai/kauamritkar-university-of-wisconsin-madison/huggingface/runs/q8uaodkp</a>"
      ],
      "text/plain": [
       "<IPython.core.display.HTML object>"
      ]
     },
     "metadata": {},
     "output_type": "display_data"
    },
    {
     "name": "stderr",
     "output_type": "stream",
     "text": [
      "We strongly recommend passing in an `attention_mask` since your input_ids may be padded. See https://huggingface.co/docs/transformers/troubleshooting#incorrect-output-when-padding-tokens-arent-masked.\n",
      "We strongly recommend passing in an `attention_mask` since your input_ids may be padded. See https://huggingface.co/docs/transformers/troubleshooting#incorrect-output-when-padding-tokens-arent-masked.\n",
      "/home/kaustubh/miniforge3/envs/lora_esm/lib/python3.13/site-packages/torch/nn/parallel/_functions.py:70: UserWarning: Was asked to gather along dimension 0, but all input tensors were scalars; will instead unsqueeze and return a vector.\n",
      "  warnings.warn(\n"
     ]
    },
    {
     "data": {
      "text/html": [
       "\n",
       "    <div>\n",
       "      \n",
       "      <progress value='2845' max='2845' style='width:300px; height:20px; vertical-align: middle;'></progress>\n",
       "      [2845/2845 34:51, Epoch 5/5]\n",
       "    </div>\n",
       "    <table border=\"1\" class=\"dataframe\">\n",
       "  <thead>\n",
       " <tr style=\"text-align: left;\">\n",
       "      <th>Epoch</th>\n",
       "      <th>Training Loss</th>\n",
       "      <th>Validation Loss</th>\n",
       "      <th>Accuracy</th>\n",
       "    </tr>\n",
       "  </thead>\n",
       "  <tbody>\n",
       "    <tr>\n",
       "      <td>1</td>\n",
       "      <td>0.654600</td>\n",
       "      <td>0.664780</td>\n",
       "      <td>0.751860</td>\n",
       "    </tr>\n",
       "    <tr>\n",
       "      <td>2</td>\n",
       "      <td>0.634400</td>\n",
       "      <td>0.595468</td>\n",
       "      <td>0.798207</td>\n",
       "    </tr>\n",
       "    <tr>\n",
       "      <td>3</td>\n",
       "      <td>0.497100</td>\n",
       "      <td>0.537516</td>\n",
       "      <td>0.870940</td>\n",
       "    </tr>\n",
       "    <tr>\n",
       "      <td>4</td>\n",
       "      <td>0.541700</td>\n",
       "      <td>0.510735</td>\n",
       "      <td>0.878762</td>\n",
       "    </tr>\n",
       "    <tr>\n",
       "      <td>5</td>\n",
       "      <td>0.567500</td>\n",
       "      <td>0.494398</td>\n",
       "      <td>0.889910</td>\n",
       "    </tr>\n",
       "  </tbody>\n",
       "</table><p>"
      ],
      "text/plain": [
       "<IPython.core.display.HTML object>"
      ]
     },
     "metadata": {},
     "output_type": "display_data"
    },
    {
     "name": "stderr",
     "output_type": "stream",
     "text": [
      "/home/kaustubh/miniforge3/envs/lora_esm/lib/python3.13/site-packages/peft/utils/save_and_load.py:246: UserWarning: Could not find a config file in  - will assume that the vocabulary was not modified.\n",
      "  warnings.warn(\n",
      "/home/kaustubh/miniforge3/envs/lora_esm/lib/python3.13/site-packages/torch/nn/parallel/_functions.py:70: UserWarning: Was asked to gather along dimension 0, but all input tensors were scalars; will instead unsqueeze and return a vector.\n",
      "  warnings.warn(\n",
      "/home/kaustubh/miniforge3/envs/lora_esm/lib/python3.13/site-packages/peft/utils/save_and_load.py:246: UserWarning: Could not find a config file in  - will assume that the vocabulary was not modified.\n",
      "  warnings.warn(\n",
      "/home/kaustubh/miniforge3/envs/lora_esm/lib/python3.13/site-packages/torch/nn/parallel/_functions.py:70: UserWarning: Was asked to gather along dimension 0, but all input tensors were scalars; will instead unsqueeze and return a vector.\n",
      "  warnings.warn(\n",
      "/home/kaustubh/miniforge3/envs/lora_esm/lib/python3.13/site-packages/peft/utils/save_and_load.py:246: UserWarning: Could not find a config file in  - will assume that the vocabulary was not modified.\n",
      "  warnings.warn(\n",
      "/home/kaustubh/miniforge3/envs/lora_esm/lib/python3.13/site-packages/torch/nn/parallel/_functions.py:70: UserWarning: Was asked to gather along dimension 0, but all input tensors were scalars; will instead unsqueeze and return a vector.\n",
      "  warnings.warn(\n",
      "/home/kaustubh/miniforge3/envs/lora_esm/lib/python3.13/site-packages/peft/utils/save_and_load.py:246: UserWarning: Could not find a config file in  - will assume that the vocabulary was not modified.\n",
      "  warnings.warn(\n",
      "/home/kaustubh/miniforge3/envs/lora_esm/lib/python3.13/site-packages/torch/nn/parallel/_functions.py:70: UserWarning: Was asked to gather along dimension 0, but all input tensors were scalars; will instead unsqueeze and return a vector.\n",
      "  warnings.warn(\n",
      "/home/kaustubh/miniforge3/envs/lora_esm/lib/python3.13/site-packages/peft/utils/save_and_load.py:246: UserWarning: Could not find a config file in  - will assume that the vocabulary was not modified.\n",
      "  warnings.warn(\n",
      "/home/kaustubh/miniforge3/envs/lora_esm/lib/python3.13/site-packages/torch/nn/parallel/_functions.py:70: UserWarning: Was asked to gather along dimension 0, but all input tensors were scalars; will instead unsqueeze and return a vector.\n",
      "  warnings.warn(\n",
      "/home/kaustubh/miniforge3/envs/lora_esm/lib/python3.13/site-packages/peft/utils/save_and_load.py:246: UserWarning: Could not find a config file in  - will assume that the vocabulary was not modified.\n",
      "  warnings.warn(\n"
     ]
    },
    {
     "name": "stdout",
     "output_type": "stream",
     "text": [
      "trainer: <transformers.trainer.Trainer object at 0x7fb44b622900>\n",
      "Best current Metric: 0.8899103537598091\n",
      "Updating best trial\n",
      "Trial 2/10\n",
      "learning_rate:  0.00010899999999999999\n",
      "OrderedDict({'active.all.allocated': 18703059, 'active.all.current': 2474, 'active.all.freed': 18700585, 'active.all.peak': 3453, 'active.large_pool.allocated': 11514427, 'active.large_pool.current': 402, 'active.large_pool.freed': 11514025, 'active.large_pool.peak': 903, 'active.small_pool.allocated': 7188632, 'active.small_pool.current': 2072, 'active.small_pool.freed': 7186560, 'active.small_pool.peak': 2650, 'active_bytes.all.allocated': 286799897923584, 'active_bytes.all.current': 5442967552, 'active_bytes.all.freed': 286794454956032, 'active_bytes.all.peak': 18568513536, 'active_bytes.large_pool.allocated': 285895438946304, 'active_bytes.large_pool.current': 5369516032, 'active_bytes.large_pool.freed': 285890069430272, 'active_bytes.large_pool.peak': 18463608832, 'active_bytes.small_pool.allocated': 904458977280, 'active_bytes.small_pool.current': 73451520, 'active_bytes.small_pool.freed': 904385525760, 'active_bytes.small_pool.peak': 105969664, 'allocated_bytes.all.allocated': 286799897923584, 'allocated_bytes.all.current': 5442967552, 'allocated_bytes.all.freed': 286794454956032, 'allocated_bytes.all.peak': 18568513536, 'allocated_bytes.large_pool.allocated': 285895438946304, 'allocated_bytes.large_pool.current': 5369516032, 'allocated_bytes.large_pool.freed': 285890069430272, 'allocated_bytes.large_pool.peak': 18463608832, 'allocated_bytes.small_pool.allocated': 904458977280, 'allocated_bytes.small_pool.current': 73451520, 'allocated_bytes.small_pool.freed': 904385525760, 'allocated_bytes.small_pool.peak': 105969664, 'allocation.all.allocated': 18703059, 'allocation.all.current': 2474, 'allocation.all.freed': 18700585, 'allocation.all.peak': 3453, 'allocation.large_pool.allocated': 11514427, 'allocation.large_pool.current': 402, 'allocation.large_pool.freed': 11514025, 'allocation.large_pool.peak': 903, 'allocation.small_pool.allocated': 7188632, 'allocation.small_pool.current': 2072, 'allocation.small_pool.freed': 7186560, 'allocation.small_pool.peak': 2650, 'inactive_split.all.allocated': 7944061, 'inactive_split.all.current': 135, 'inactive_split.all.freed': 7943926, 'inactive_split.all.peak': 399, 'inactive_split.large_pool.allocated': 6069088, 'inactive_split.large_pool.current': 93, 'inactive_split.large_pool.freed': 6068995, 'inactive_split.large_pool.peak': 203, 'inactive_split.small_pool.allocated': 1874973, 'inactive_split.small_pool.current': 42, 'inactive_split.small_pool.freed': 1874931, 'inactive_split.small_pool.peak': 196, 'inactive_split_bytes.all.allocated': 166789602402304, 'inactive_split_bytes.all.current': 162719744, 'inactive_split_bytes.all.freed': 166789439682560, 'inactive_split_bytes.all.peak': 2027309056, 'inactive_split_bytes.large_pool.allocated': 165776753473536, 'inactive_split_bytes.large_pool.current': 160673792, 'inactive_split_bytes.large_pool.freed': 165776592799744, 'inactive_split_bytes.large_pool.peak': 2017576960, 'inactive_split_bytes.small_pool.allocated': 1012848928768, 'inactive_split_bytes.small_pool.current': 2045952, 'inactive_split_bytes.small_pool.freed': 1012846882816, 'inactive_split_bytes.small_pool.peak': 19872768, 'max_split_size': -1, 'num_alloc_retries': 0, 'num_device_alloc': 432, 'num_device_free': 172, 'num_ooms': 0, 'num_sync_all_streams': 4, 'oversize_allocations.allocated': 0, 'oversize_allocations.current': 0, 'oversize_allocations.freed': 0, 'oversize_allocations.peak': 0, 'oversize_segments.allocated': 0, 'oversize_segments.current': 0, 'oversize_segments.freed': 0, 'oversize_segments.peak': 0, 'requested_bytes.all.allocated': 286681272669166, 'requested_bytes.all.current': 5304524256, 'requested_bytes.all.freed': 286675968144910, 'requested_bytes.all.peak': 18430066204, 'requested_bytes.large_pool.allocated': 285777811104920, 'requested_bytes.large_pool.current': 5231104000, 'requested_bytes.large_pool.freed': 285772580000920, 'requested_bytes.large_pool.peak': 18325196800, 'requested_bytes.small_pool.allocated': 903461564246, 'requested_bytes.small_pool.current': 73420256, 'requested_bytes.small_pool.freed': 903388143990, 'requested_bytes.small_pool.peak': 105936396, 'reserved_bytes.all.allocated': 20264779776, 'reserved_bytes.all.current': 5605687296, 'reserved_bytes.all.freed': 14659092480, 'reserved_bytes.all.peak': 20264779776, 'reserved_bytes.large_pool.allocated': 20157825024, 'reserved_bytes.large_pool.current': 5530189824, 'reserved_bytes.large_pool.freed': 14627635200, 'reserved_bytes.large_pool.peak': 20157825024, 'reserved_bytes.small_pool.allocated': 106954752, 'reserved_bytes.small_pool.current': 75497472, 'reserved_bytes.small_pool.freed': 31457280, 'reserved_bytes.small_pool.peak': 106954752, 'segment.all.allocated': 432, 'segment.all.current': 260, 'segment.all.freed': 172, 'segment.all.peak': 432, 'segment.large_pool.allocated': 381, 'segment.large_pool.current': 224, 'segment.large_pool.freed': 157, 'segment.large_pool.peak': 381, 'segment.small_pool.allocated': 51, 'segment.small_pool.current': 36, 'segment.small_pool.freed': 15, 'segment.small_pool.peak': 51})\n"
     ]
    },
    {
     "name": "stderr",
     "output_type": "stream",
     "text": [
      "Some weights of EsmModel were not initialized from the model checkpoint at facebook/esm2_t33_650M_UR50D and are newly initialized: ['esm.pooler.dense.bias', 'esm.pooler.dense.weight']\n",
      "You should probably TRAIN this model on a down-stream task to be able to use it for predictions and inference.\n",
      "/home/kaustubh/miniforge3/envs/lora_esm/lib/python3.13/site-packages/torch/nn/parallel/_functions.py:70: UserWarning: Was asked to gather along dimension 0, but all input tensors were scalars; will instead unsqueeze and return a vector.\n",
      "  warnings.warn(\n"
     ]
    },
    {
     "data": {
      "text/html": [
       "\n",
       "    <div>\n",
       "      \n",
       "      <progress value='2845' max='2845' style='width:300px; height:20px; vertical-align: middle;'></progress>\n",
       "      [2845/2845 34:57, Epoch 5/5]\n",
       "    </div>\n",
       "    <table border=\"1\" class=\"dataframe\">\n",
       "  <thead>\n",
       " <tr style=\"text-align: left;\">\n",
       "      <th>Epoch</th>\n",
       "      <th>Training Loss</th>\n",
       "      <th>Validation Loss</th>\n",
       "      <th>Accuracy</th>\n",
       "    </tr>\n",
       "  </thead>\n",
       "  <tbody>\n",
       "    <tr>\n",
       "      <td>1</td>\n",
       "      <td>0.365100</td>\n",
       "      <td>0.472515</td>\n",
       "      <td>0.921502</td>\n",
       "    </tr>\n",
       "    <tr>\n",
       "      <td>2</td>\n",
       "      <td>0.331700</td>\n",
       "      <td>0.231525</td>\n",
       "      <td>0.975443</td>\n",
       "    </tr>\n",
       "    <tr>\n",
       "      <td>3</td>\n",
       "      <td>0.112700</td>\n",
       "      <td>0.186113</td>\n",
       "      <td>0.985550</td>\n",
       "    </tr>\n",
       "    <tr>\n",
       "      <td>4</td>\n",
       "      <td>0.108300</td>\n",
       "      <td>0.162357</td>\n",
       "      <td>0.991619</td>\n",
       "    </tr>\n",
       "    <tr>\n",
       "      <td>5</td>\n",
       "      <td>0.326200</td>\n",
       "      <td>0.159005</td>\n",
       "      <td>0.991035</td>\n",
       "    </tr>\n",
       "  </tbody>\n",
       "</table><p>"
      ],
      "text/plain": [
       "<IPython.core.display.HTML object>"
      ]
     },
     "metadata": {},
     "output_type": "display_data"
    },
    {
     "name": "stderr",
     "output_type": "stream",
     "text": [
      "/home/kaustubh/miniforge3/envs/lora_esm/lib/python3.13/site-packages/peft/utils/save_and_load.py:246: UserWarning: Could not find a config file in  - will assume that the vocabulary was not modified.\n",
      "  warnings.warn(\n",
      "/home/kaustubh/miniforge3/envs/lora_esm/lib/python3.13/site-packages/torch/nn/parallel/_functions.py:70: UserWarning: Was asked to gather along dimension 0, but all input tensors were scalars; will instead unsqueeze and return a vector.\n",
      "  warnings.warn(\n",
      "/home/kaustubh/miniforge3/envs/lora_esm/lib/python3.13/site-packages/peft/utils/save_and_load.py:246: UserWarning: Could not find a config file in  - will assume that the vocabulary was not modified.\n",
      "  warnings.warn(\n",
      "/home/kaustubh/miniforge3/envs/lora_esm/lib/python3.13/site-packages/torch/nn/parallel/_functions.py:70: UserWarning: Was asked to gather along dimension 0, but all input tensors were scalars; will instead unsqueeze and return a vector.\n",
      "  warnings.warn(\n",
      "/home/kaustubh/miniforge3/envs/lora_esm/lib/python3.13/site-packages/peft/utils/save_and_load.py:246: UserWarning: Could not find a config file in  - will assume that the vocabulary was not modified.\n",
      "  warnings.warn(\n",
      "/home/kaustubh/miniforge3/envs/lora_esm/lib/python3.13/site-packages/torch/nn/parallel/_functions.py:70: UserWarning: Was asked to gather along dimension 0, but all input tensors were scalars; will instead unsqueeze and return a vector.\n",
      "  warnings.warn(\n",
      "/home/kaustubh/miniforge3/envs/lora_esm/lib/python3.13/site-packages/peft/utils/save_and_load.py:246: UserWarning: Could not find a config file in  - will assume that the vocabulary was not modified.\n",
      "  warnings.warn(\n",
      "/home/kaustubh/miniforge3/envs/lora_esm/lib/python3.13/site-packages/torch/nn/parallel/_functions.py:70: UserWarning: Was asked to gather along dimension 0, but all input tensors were scalars; will instead unsqueeze and return a vector.\n",
      "  warnings.warn(\n",
      "/home/kaustubh/miniforge3/envs/lora_esm/lib/python3.13/site-packages/peft/utils/save_and_load.py:246: UserWarning: Could not find a config file in  - will assume that the vocabulary was not modified.\n",
      "  warnings.warn(\n",
      "/home/kaustubh/miniforge3/envs/lora_esm/lib/python3.13/site-packages/torch/nn/parallel/_functions.py:70: UserWarning: Was asked to gather along dimension 0, but all input tensors were scalars; will instead unsqueeze and return a vector.\n",
      "  warnings.warn(\n",
      "/home/kaustubh/miniforge3/envs/lora_esm/lib/python3.13/site-packages/peft/utils/save_and_load.py:246: UserWarning: Could not find a config file in  - will assume that the vocabulary was not modified.\n",
      "  warnings.warn(\n"
     ]
    },
    {
     "name": "stdout",
     "output_type": "stream",
     "text": [
      "trainer: <transformers.trainer.Trainer object at 0x7fb44b622900>\n",
      "Best current Metric: 0.9916194732965944\n",
      "Best trial metric: 0.8899103537598091\n",
      "Updating best trial\n",
      "Trial 3/10\n",
      "learning_rate:  0.000208\n",
      "OrderedDict({'active.all.allocated': 37405346, 'active.all.current': 3244, 'active.all.freed': 37402102, 'active.all.peak': 4223, 'active.large_pool.allocated': 23028652, 'active.large_pool.current': 602, 'active.large_pool.freed': 23028050, 'active.large_pool.peak': 1103, 'active.small_pool.allocated': 14376694, 'active.small_pool.current': 2642, 'active.small_pool.freed': 14374052, 'active.small_pool.peak': 3220, 'active_bytes.all.allocated': 573509185347584, 'active_bytes.all.current': 8137841664, 'active_bytes.all.freed': 573501047505920, 'active_bytes.all.peak': 21263387648, 'active_bytes.large_pool.allocated': 571700286028800, 'active_bytes.large_pool.current': 8045754368, 'active_bytes.large_pool.freed': 571692240274432, 'active_bytes.large_pool.peak': 21139847168, 'active_bytes.small_pool.allocated': 1808899318784, 'active_bytes.small_pool.current': 92087296, 'active_bytes.small_pool.freed': 1808807231488, 'active_bytes.small_pool.peak': 124605440, 'allocated_bytes.all.allocated': 573509185347584, 'allocated_bytes.all.current': 8137841664, 'allocated_bytes.all.freed': 573501047505920, 'allocated_bytes.all.peak': 21263387648, 'allocated_bytes.large_pool.allocated': 571700286028800, 'allocated_bytes.large_pool.current': 8045754368, 'allocated_bytes.large_pool.freed': 571692240274432, 'allocated_bytes.large_pool.peak': 21139847168, 'allocated_bytes.small_pool.allocated': 1808899318784, 'allocated_bytes.small_pool.current': 92087296, 'allocated_bytes.small_pool.freed': 1808807231488, 'allocated_bytes.small_pool.peak': 124605440, 'allocation.all.allocated': 37405346, 'allocation.all.current': 3244, 'allocation.all.freed': 37402102, 'allocation.all.peak': 4223, 'allocation.large_pool.allocated': 23028652, 'allocation.large_pool.current': 602, 'allocation.large_pool.freed': 23028050, 'allocation.large_pool.peak': 1103, 'allocation.small_pool.allocated': 14376694, 'allocation.small_pool.current': 2642, 'allocation.small_pool.freed': 14374052, 'allocation.small_pool.peak': 3220, 'inactive_split.all.allocated': 16319494, 'inactive_split.all.current': 192, 'inactive_split.all.freed': 16319302, 'inactive_split.all.peak': 455, 'inactive_split.large_pool.allocated': 12250266, 'inactive_split.large_pool.current': 136, 'inactive_split.large_pool.freed': 12250130, 'inactive_split.large_pool.peak': 247, 'inactive_split.small_pool.allocated': 4069228, 'inactive_split.small_pool.current': 56, 'inactive_split.small_pool.freed': 4069172, 'inactive_split.small_pool.peak': 209, 'inactive_split_bytes.all.allocated': 328046875006976, 'inactive_split_bytes.all.current': 187851776, 'inactive_split_bytes.all.freed': 328046687155200, 'inactive_split_bytes.all.peak': 2045841408, 'inactive_split_bytes.large_pool.allocated': 326026053069824, 'inactive_split_bytes.large_pool.current': 185567232, 'inactive_split_bytes.large_pool.freed': 326025867502592, 'inactive_split_bytes.large_pool.peak': 2035870720, 'inactive_split_bytes.small_pool.allocated': 2020821937152, 'inactive_split_bytes.small_pool.current': 2284544, 'inactive_split_bytes.small_pool.freed': 2020819652608, 'inactive_split_bytes.small_pool.peak': 33057792, 'max_split_size': -1, 'num_alloc_retries': 0, 'num_device_alloc': 724, 'num_device_free': 346, 'num_ooms': 0, 'num_sync_all_streams': 6, 'oversize_allocations.allocated': 0, 'oversize_allocations.current': 0, 'oversize_allocations.freed': 0, 'oversize_allocations.peak': 0, 'oversize_segments.allocated': 0, 'oversize_segments.current': 0, 'oversize_segments.freed': 0, 'oversize_segments.peak': 0, 'requested_bytes.all.allocated': 573359902645492, 'requested_bytes.all.current': 7930177736, 'requested_bytes.all.freed': 573351972467756, 'requested_bytes.all.peak': 21055719684, 'requested_bytes.large_pool.allocated': 571552998138160, 'requested_bytes.large_pool.current': 7838136320, 'requested_bytes.large_pool.freed': 571545160001840, 'requested_bytes.large_pool.peak': 20932229120, 'requested_bytes.small_pool.allocated': 1806904507332, 'requested_bytes.small_pool.current': 92041416, 'requested_bytes.small_pool.freed': 1806812465916, 'requested_bytes.small_pool.peak': 124557556, 'reserved_bytes.all.allocated': 37694210048, 'reserved_bytes.all.current': 8325693440, 'reserved_bytes.all.freed': 29368516608, 'reserved_bytes.all.peak': 23035117568, 'reserved_bytes.large_pool.allocated': 37536923648, 'reserved_bytes.large_pool.current': 8231321600, 'reserved_bytes.large_pool.freed': 29305602048, 'reserved_bytes.large_pool.peak': 22909288448, 'reserved_bytes.small_pool.allocated': 157286400, 'reserved_bytes.small_pool.current': 94371840, 'reserved_bytes.small_pool.freed': 62914560, 'reserved_bytes.small_pool.peak': 125829120, 'segment.all.allocated': 724, 'segment.all.current': 378, 'segment.all.freed': 346, 'segment.all.peak': 552, 'segment.large_pool.allocated': 649, 'segment.large_pool.current': 333, 'segment.large_pool.freed': 316, 'segment.large_pool.peak': 492, 'segment.small_pool.allocated': 75, 'segment.small_pool.current': 45, 'segment.small_pool.freed': 30, 'segment.small_pool.peak': 60})\n"
     ]
    },
    {
     "name": "stderr",
     "output_type": "stream",
     "text": [
      "Some weights of EsmModel were not initialized from the model checkpoint at facebook/esm2_t33_650M_UR50D and are newly initialized: ['esm.pooler.dense.bias', 'esm.pooler.dense.weight']\n",
      "You should probably TRAIN this model on a down-stream task to be able to use it for predictions and inference.\n",
      "/home/kaustubh/miniforge3/envs/lora_esm/lib/python3.13/site-packages/torch/nn/parallel/_functions.py:70: UserWarning: Was asked to gather along dimension 0, but all input tensors were scalars; will instead unsqueeze and return a vector.\n",
      "  warnings.warn(\n"
     ]
    },
    {
     "data": {
      "text/html": [
       "\n",
       "    <div>\n",
       "      \n",
       "      <progress value='2845' max='2845' style='width:300px; height:20px; vertical-align: middle;'></progress>\n",
       "      [2845/2845 35:00, Epoch 5/5]\n",
       "    </div>\n",
       "    <table border=\"1\" class=\"dataframe\">\n",
       "  <thead>\n",
       " <tr style=\"text-align: left;\">\n",
       "      <th>Epoch</th>\n",
       "      <th>Training Loss</th>\n",
       "      <th>Validation Loss</th>\n",
       "      <th>Accuracy</th>\n",
       "    </tr>\n",
       "  </thead>\n",
       "  <tbody>\n",
       "    <tr>\n",
       "      <td>1</td>\n",
       "      <td>0.127600</td>\n",
       "      <td>0.318350</td>\n",
       "      <td>0.964700</td>\n",
       "    </tr>\n",
       "    <tr>\n",
       "      <td>2</td>\n",
       "      <td>0.323300</td>\n",
       "      <td>0.159207</td>\n",
       "      <td>0.986464</td>\n",
       "    </tr>\n",
       "    <tr>\n",
       "      <td>3</td>\n",
       "      <td>0.163700</td>\n",
       "      <td>0.178958</td>\n",
       "      <td>0.991264</td>\n",
       "    </tr>\n",
       "    <tr>\n",
       "      <td>4</td>\n",
       "      <td>0.110500</td>\n",
       "      <td>0.134554</td>\n",
       "      <td>0.995149</td>\n",
       "    </tr>\n",
       "    <tr>\n",
       "      <td>5</td>\n",
       "      <td>0.133700</td>\n",
       "      <td>0.131948</td>\n",
       "      <td>0.994972</td>\n",
       "    </tr>\n",
       "  </tbody>\n",
       "</table><p>"
      ],
      "text/plain": [
       "<IPython.core.display.HTML object>"
      ]
     },
     "metadata": {},
     "output_type": "display_data"
    },
    {
     "name": "stderr",
     "output_type": "stream",
     "text": [
      "/home/kaustubh/miniforge3/envs/lora_esm/lib/python3.13/site-packages/peft/utils/save_and_load.py:246: UserWarning: Could not find a config file in  - will assume that the vocabulary was not modified.\n",
      "  warnings.warn(\n",
      "/home/kaustubh/miniforge3/envs/lora_esm/lib/python3.13/site-packages/torch/nn/parallel/_functions.py:70: UserWarning: Was asked to gather along dimension 0, but all input tensors were scalars; will instead unsqueeze and return a vector.\n",
      "  warnings.warn(\n",
      "/home/kaustubh/miniforge3/envs/lora_esm/lib/python3.13/site-packages/peft/utils/save_and_load.py:246: UserWarning: Could not find a config file in  - will assume that the vocabulary was not modified.\n",
      "  warnings.warn(\n",
      "/home/kaustubh/miniforge3/envs/lora_esm/lib/python3.13/site-packages/torch/nn/parallel/_functions.py:70: UserWarning: Was asked to gather along dimension 0, but all input tensors were scalars; will instead unsqueeze and return a vector.\n",
      "  warnings.warn(\n",
      "/home/kaustubh/miniforge3/envs/lora_esm/lib/python3.13/site-packages/peft/utils/save_and_load.py:246: UserWarning: Could not find a config file in  - will assume that the vocabulary was not modified.\n",
      "  warnings.warn(\n",
      "/home/kaustubh/miniforge3/envs/lora_esm/lib/python3.13/site-packages/torch/nn/parallel/_functions.py:70: UserWarning: Was asked to gather along dimension 0, but all input tensors were scalars; will instead unsqueeze and return a vector.\n",
      "  warnings.warn(\n",
      "/home/kaustubh/miniforge3/envs/lora_esm/lib/python3.13/site-packages/peft/utils/save_and_load.py:246: UserWarning: Could not find a config file in  - will assume that the vocabulary was not modified.\n",
      "  warnings.warn(\n",
      "/home/kaustubh/miniforge3/envs/lora_esm/lib/python3.13/site-packages/torch/nn/parallel/_functions.py:70: UserWarning: Was asked to gather along dimension 0, but all input tensors were scalars; will instead unsqueeze and return a vector.\n",
      "  warnings.warn(\n",
      "/home/kaustubh/miniforge3/envs/lora_esm/lib/python3.13/site-packages/peft/utils/save_and_load.py:246: UserWarning: Could not find a config file in  - will assume that the vocabulary was not modified.\n",
      "  warnings.warn(\n",
      "/home/kaustubh/miniforge3/envs/lora_esm/lib/python3.13/site-packages/torch/nn/parallel/_functions.py:70: UserWarning: Was asked to gather along dimension 0, but all input tensors were scalars; will instead unsqueeze and return a vector.\n",
      "  warnings.warn(\n",
      "/home/kaustubh/miniforge3/envs/lora_esm/lib/python3.13/site-packages/peft/utils/save_and_load.py:246: UserWarning: Could not find a config file in  - will assume that the vocabulary was not modified.\n",
      "  warnings.warn(\n"
     ]
    },
    {
     "name": "stdout",
     "output_type": "stream",
     "text": [
      "trainer: <transformers.trainer.Trainer object at 0x7fb44b622900>\n",
      "Best current Metric: 0.9951494527262107\n",
      "Best trial metric: 0.9916194732965944\n",
      "Updating best trial\n",
      "Trial 4/10\n",
      "learning_rate:  0.000307\n",
      "OrderedDict({'active.all.allocated': 56107633, 'active.all.current': 4014, 'active.all.freed': 56103619, 'active.all.peak': 4993, 'active.large_pool.allocated': 34542877, 'active.large_pool.current': 802, 'active.large_pool.freed': 34542075, 'active.large_pool.peak': 1303, 'active.small_pool.allocated': 21564756, 'active.small_pool.current': 3212, 'active.small_pool.freed': 21561544, 'active.small_pool.peak': 3790, 'active_bytes.all.allocated': 860218472771584, 'active_bytes.all.current': 10832715776, 'active_bytes.all.freed': 860207640055808, 'active_bytes.all.peak': 23958261760, 'active_bytes.large_pool.allocated': 857505133111296, 'active_bytes.large_pool.current': 10721992704, 'active_bytes.large_pool.freed': 857494411118592, 'active_bytes.large_pool.peak': 23816085504, 'active_bytes.small_pool.allocated': 2713339660288, 'active_bytes.small_pool.current': 110723072, 'active_bytes.small_pool.freed': 2713228937216, 'active_bytes.small_pool.peak': 143241216, 'allocated_bytes.all.allocated': 860218472771584, 'allocated_bytes.all.current': 10832715776, 'allocated_bytes.all.freed': 860207640055808, 'allocated_bytes.all.peak': 23958261760, 'allocated_bytes.large_pool.allocated': 857505133111296, 'allocated_bytes.large_pool.current': 10721992704, 'allocated_bytes.large_pool.freed': 857494411118592, 'allocated_bytes.large_pool.peak': 23816085504, 'allocated_bytes.small_pool.allocated': 2713339660288, 'allocated_bytes.small_pool.current': 110723072, 'allocated_bytes.small_pool.freed': 2713228937216, 'allocated_bytes.small_pool.peak': 143241216, 'allocation.all.allocated': 56107633, 'allocation.all.current': 4014, 'allocation.all.freed': 56103619, 'allocation.all.peak': 4993, 'allocation.large_pool.allocated': 34542877, 'allocation.large_pool.current': 802, 'allocation.large_pool.freed': 34542075, 'allocation.large_pool.peak': 1303, 'allocation.small_pool.allocated': 21564756, 'allocation.small_pool.current': 3212, 'allocation.small_pool.freed': 21561544, 'allocation.small_pool.peak': 3790, 'inactive_split.all.allocated': 24658621, 'inactive_split.all.current': 247, 'inactive_split.all.freed': 24658374, 'inactive_split.all.peak': 509, 'inactive_split.large_pool.allocated': 18467237, 'inactive_split.large_pool.current': 181, 'inactive_split.large_pool.freed': 18467056, 'inactive_split.large_pool.peak': 291, 'inactive_split.small_pool.allocated': 6191384, 'inactive_split.small_pool.current': 66, 'inactive_split.small_pool.freed': 6191318, 'inactive_split.small_pool.peak': 219, 'inactive_split_bytes.all.allocated': 490488165327872, 'inactive_split_bytes.all.current': 254926848, 'inactive_split_bytes.all.freed': 490487910401024, 'inactive_split_bytes.all.peak': 2112916480, 'inactive_split_bytes.large_pool.allocated': 487459534297088, 'inactive_split_bytes.large_pool.current': 252403712, 'inactive_split_bytes.large_pool.freed': 487459281893376, 'inactive_split_bytes.large_pool.peak': 2102707200, 'inactive_split_bytes.small_pool.allocated': 3028631030784, 'inactive_split_bytes.small_pool.current': 2523136, 'inactive_split_bytes.small_pool.freed': 3028628507648, 'inactive_split_bytes.small_pool.peak': 33409024, 'max_split_size': -1, 'num_alloc_retries': 0, 'num_device_alloc': 1017, 'num_device_free': 519, 'num_ooms': 0, 'num_sync_all_streams': 8, 'oversize_allocations.allocated': 0, 'oversize_allocations.current': 0, 'oversize_allocations.freed': 0, 'oversize_allocations.peak': 0, 'oversize_segments.allocated': 0, 'oversize_segments.current': 0, 'oversize_segments.freed': 0, 'oversize_segments.peak': 0, 'requested_bytes.all.allocated': 860038532621818, 'requested_bytes.all.current': 10555831216, 'requested_bytes.all.freed': 860027976790602, 'requested_bytes.all.peak': 23681373164, 'requested_bytes.large_pool.allocated': 857328185171400, 'requested_bytes.large_pool.current': 10445168640, 'requested_bytes.large_pool.freed': 857317740002760, 'requested_bytes.large_pool.peak': 23539261440, 'requested_bytes.small_pool.allocated': 2710347450418, 'requested_bytes.small_pool.current': 110662576, 'requested_bytes.small_pool.freed': 2710236787842, 'requested_bytes.small_pool.peak': 143178716, 'reserved_bytes.all.allocated': 55155097600, 'reserved_bytes.all.current': 11087642624, 'reserved_bytes.all.freed': 44067454976, 'reserved_bytes.all.peak': 25786580992, 'reserved_bytes.large_pool.allocated': 54947479552, 'reserved_bytes.large_pool.current': 10974396416, 'reserved_bytes.large_pool.freed': 43973083136, 'reserved_bytes.large_pool.peak': 25641877504, 'reserved_bytes.small_pool.allocated': 207618048, 'reserved_bytes.small_pool.current': 113246208, 'reserved_bytes.small_pool.freed': 94371840, 'reserved_bytes.small_pool.peak': 144703488, 'segment.all.allocated': 1017, 'segment.all.current': 498, 'segment.all.freed': 519, 'segment.all.peak': 671, 'segment.large_pool.allocated': 918, 'segment.large_pool.current': 444, 'segment.large_pool.freed': 474, 'segment.large_pool.peak': 602, 'segment.small_pool.allocated': 99, 'segment.small_pool.current': 54, 'segment.small_pool.freed': 45, 'segment.small_pool.peak': 69})\n"
     ]
    },
    {
     "name": "stderr",
     "output_type": "stream",
     "text": [
      "Some weights of EsmModel were not initialized from the model checkpoint at facebook/esm2_t33_650M_UR50D and are newly initialized: ['esm.pooler.dense.bias', 'esm.pooler.dense.weight']\n",
      "You should probably TRAIN this model on a down-stream task to be able to use it for predictions and inference.\n",
      "/home/kaustubh/miniforge3/envs/lora_esm/lib/python3.13/site-packages/torch/nn/parallel/_functions.py:70: UserWarning: Was asked to gather along dimension 0, but all input tensors were scalars; will instead unsqueeze and return a vector.\n",
      "  warnings.warn(\n"
     ]
    },
    {
     "data": {
      "text/html": [
       "\n",
       "    <div>\n",
       "      \n",
       "      <progress value='2845' max='2845' style='width:300px; height:20px; vertical-align: middle;'></progress>\n",
       "      [2845/2845 35:00, Epoch 5/5]\n",
       "    </div>\n",
       "    <table border=\"1\" class=\"dataframe\">\n",
       "  <thead>\n",
       " <tr style=\"text-align: left;\">\n",
       "      <th>Epoch</th>\n",
       "      <th>Training Loss</th>\n",
       "      <th>Validation Loss</th>\n",
       "      <th>Accuracy</th>\n",
       "    </tr>\n",
       "  </thead>\n",
       "  <tbody>\n",
       "    <tr>\n",
       "      <td>1</td>\n",
       "      <td>0.215500</td>\n",
       "      <td>0.340469</td>\n",
       "      <td>0.957894</td>\n",
       "    </tr>\n",
       "    <tr>\n",
       "      <td>2</td>\n",
       "      <td>0.308100</td>\n",
       "      <td>0.174444</td>\n",
       "      <td>0.984407</td>\n",
       "    </tr>\n",
       "    <tr>\n",
       "      <td>3</td>\n",
       "      <td>0.086100</td>\n",
       "      <td>0.178242</td>\n",
       "      <td>0.992864</td>\n",
       "    </tr>\n",
       "    <tr>\n",
       "      <td>4</td>\n",
       "      <td>0.089600</td>\n",
       "      <td>0.127899</td>\n",
       "      <td>0.995581</td>\n",
       "    </tr>\n",
       "    <tr>\n",
       "      <td>5</td>\n",
       "      <td>0.226100</td>\n",
       "      <td>0.131180</td>\n",
       "      <td>0.995530</td>\n",
       "    </tr>\n",
       "  </tbody>\n",
       "</table><p>"
      ],
      "text/plain": [
       "<IPython.core.display.HTML object>"
      ]
     },
     "metadata": {},
     "output_type": "display_data"
    },
    {
     "name": "stderr",
     "output_type": "stream",
     "text": [
      "/home/kaustubh/miniforge3/envs/lora_esm/lib/python3.13/site-packages/peft/utils/save_and_load.py:246: UserWarning: Could not find a config file in  - will assume that the vocabulary was not modified.\n",
      "  warnings.warn(\n",
      "/home/kaustubh/miniforge3/envs/lora_esm/lib/python3.13/site-packages/torch/nn/parallel/_functions.py:70: UserWarning: Was asked to gather along dimension 0, but all input tensors were scalars; will instead unsqueeze and return a vector.\n",
      "  warnings.warn(\n",
      "/home/kaustubh/miniforge3/envs/lora_esm/lib/python3.13/site-packages/peft/utils/save_and_load.py:246: UserWarning: Could not find a config file in  - will assume that the vocabulary was not modified.\n",
      "  warnings.warn(\n",
      "/home/kaustubh/miniforge3/envs/lora_esm/lib/python3.13/site-packages/torch/nn/parallel/_functions.py:70: UserWarning: Was asked to gather along dimension 0, but all input tensors were scalars; will instead unsqueeze and return a vector.\n",
      "  warnings.warn(\n",
      "/home/kaustubh/miniforge3/envs/lora_esm/lib/python3.13/site-packages/peft/utils/save_and_load.py:246: UserWarning: Could not find a config file in  - will assume that the vocabulary was not modified.\n",
      "  warnings.warn(\n",
      "/home/kaustubh/miniforge3/envs/lora_esm/lib/python3.13/site-packages/torch/nn/parallel/_functions.py:70: UserWarning: Was asked to gather along dimension 0, but all input tensors were scalars; will instead unsqueeze and return a vector.\n",
      "  warnings.warn(\n",
      "/home/kaustubh/miniforge3/envs/lora_esm/lib/python3.13/site-packages/peft/utils/save_and_load.py:246: UserWarning: Could not find a config file in  - will assume that the vocabulary was not modified.\n",
      "  warnings.warn(\n",
      "/home/kaustubh/miniforge3/envs/lora_esm/lib/python3.13/site-packages/torch/nn/parallel/_functions.py:70: UserWarning: Was asked to gather along dimension 0, but all input tensors were scalars; will instead unsqueeze and return a vector.\n",
      "  warnings.warn(\n",
      "/home/kaustubh/miniforge3/envs/lora_esm/lib/python3.13/site-packages/peft/utils/save_and_load.py:246: UserWarning: Could not find a config file in  - will assume that the vocabulary was not modified.\n",
      "  warnings.warn(\n",
      "/home/kaustubh/miniforge3/envs/lora_esm/lib/python3.13/site-packages/torch/nn/parallel/_functions.py:70: UserWarning: Was asked to gather along dimension 0, but all input tensors were scalars; will instead unsqueeze and return a vector.\n",
      "  warnings.warn(\n",
      "/home/kaustubh/miniforge3/envs/lora_esm/lib/python3.13/site-packages/peft/utils/save_and_load.py:246: UserWarning: Could not find a config file in  - will assume that the vocabulary was not modified.\n",
      "  warnings.warn(\n"
     ]
    },
    {
     "name": "stdout",
     "output_type": "stream",
     "text": [
      "trainer: <transformers.trainer.Trainer object at 0x7fb44b622900>\n",
      "Best current Metric: 0.9955811768291134\n",
      "Best trial metric: 0.9951494527262107\n",
      "Updating best trial\n",
      "Trial 5/10\n",
      "learning_rate:  0.000406\n",
      "OrderedDict({'active.all.allocated': 74809920, 'active.all.current': 4784, 'active.all.freed': 74805136, 'active.all.peak': 5763, 'active.large_pool.allocated': 46057102, 'active.large_pool.current': 1002, 'active.large_pool.freed': 46056100, 'active.large_pool.peak': 1503, 'active.small_pool.allocated': 28752818, 'active.small_pool.current': 3782, 'active.small_pool.freed': 28749036, 'active.small_pool.peak': 4360, 'active_bytes.all.allocated': 1147014763602944, 'active_bytes.all.current': 13527589888, 'active_bytes.all.freed': 1147001236013056, 'active_bytes.all.peak': 26653135872, 'active_bytes.large_pool.allocated': 1143396983601152, 'active_bytes.large_pool.current': 13398231040, 'active_bytes.large_pool.freed': 1143383585370112, 'active_bytes.large_pool.peak': 26492323840, 'active_bytes.small_pool.allocated': 3617780001792, 'active_bytes.small_pool.current': 129358848, 'active_bytes.small_pool.freed': 3617650642944, 'active_bytes.small_pool.peak': 161876992, 'allocated_bytes.all.allocated': 1147014763602944, 'allocated_bytes.all.current': 13527589888, 'allocated_bytes.all.freed': 1147001236013056, 'allocated_bytes.all.peak': 26653135872, 'allocated_bytes.large_pool.allocated': 1143396983601152, 'allocated_bytes.large_pool.current': 13398231040, 'allocated_bytes.large_pool.freed': 1143383585370112, 'allocated_bytes.large_pool.peak': 26492323840, 'allocated_bytes.small_pool.allocated': 3617780001792, 'allocated_bytes.small_pool.current': 129358848, 'allocated_bytes.small_pool.freed': 3617650642944, 'allocated_bytes.small_pool.peak': 161876992, 'allocation.all.allocated': 74809920, 'allocation.all.current': 4784, 'allocation.all.freed': 74805136, 'allocation.all.peak': 5763, 'allocation.large_pool.allocated': 46057102, 'allocation.large_pool.current': 1002, 'allocation.large_pool.freed': 46056100, 'allocation.large_pool.peak': 1503, 'allocation.small_pool.allocated': 28752818, 'allocation.small_pool.current': 3782, 'allocation.small_pool.freed': 28749036, 'allocation.small_pool.peak': 4360, 'inactive_split.all.allocated': 32968001, 'inactive_split.all.current': 307, 'inactive_split.all.freed': 32967694, 'inactive_split.all.peak': 584, 'inactive_split.large_pool.allocated': 24499186, 'inactive_split.large_pool.current': 226, 'inactive_split.large_pool.freed': 24498960, 'inactive_split.large_pool.peak': 337, 'inactive_split.small_pool.allocated': 8468815, 'inactive_split.small_pool.current': 81, 'inactive_split.small_pool.freed': 8468734, 'inactive_split.small_pool.peak': 248, 'inactive_split_bytes.all.allocated': 653680711816192, 'inactive_split_bytes.all.current': 322001920, 'inactive_split_bytes.all.freed': 653680389814272, 'inactive_split_bytes.all.peak': 2179853312, 'inactive_split_bytes.large_pool.allocated': 649648852667392, 'inactive_split_bytes.large_pool.current': 319240192, 'inactive_split_bytes.large_pool.freed': 649648533427200, 'inactive_split_bytes.large_pool.peak': 2169405440, 'inactive_split_bytes.small_pool.allocated': 4031859148800, 'inactive_split_bytes.small_pool.current': 2761728, 'inactive_split_bytes.small_pool.freed': 4031856387072, 'inactive_split_bytes.small_pool.peak': 33872896, 'max_split_size': -1, 'num_alloc_retries': 0, 'num_device_alloc': 1310, 'num_device_free': 692, 'num_ooms': 0, 'num_sync_all_streams': 10, 'oversize_allocations.allocated': 0, 'oversize_allocations.current': 0, 'oversize_allocations.freed': 0, 'oversize_allocations.peak': 0, 'oversize_segments.allocated': 0, 'oversize_segments.current': 0, 'oversize_segments.freed': 0, 'oversize_segments.peak': 0, 'requested_bytes.all.allocated': 1146717162598144, 'requested_bytes.all.current': 13181484696, 'requested_bytes.all.freed': 1146703981113448, 'requested_bytes.all.peak': 26307026644, 'requested_bytes.large_pool.allocated': 1143103372204640, 'requested_bytes.large_pool.current': 13052200960, 'requested_bytes.large_pool.freed': 1143090320003680, 'requested_bytes.large_pool.peak': 26146293760, 'requested_bytes.small_pool.allocated': 3613790393504, 'requested_bytes.small_pool.current': 129283736, 'requested_bytes.small_pool.freed': 3613661109768, 'requested_bytes.small_pool.peak': 161799876, 'reserved_bytes.all.allocated': 72609693696, 'reserved_bytes.all.current': 13849591808, 'reserved_bytes.all.freed': 58760101888, 'reserved_bytes.all.peak': 28542238720, 'reserved_bytes.large_pool.allocated': 72351744000, 'reserved_bytes.large_pool.current': 13717471232, 'reserved_bytes.large_pool.freed': 58634272768, 'reserved_bytes.large_pool.peak': 28378660864, 'reserved_bytes.small_pool.allocated': 257949696, 'reserved_bytes.small_pool.current': 132120576, 'reserved_bytes.small_pool.freed': 125829120, 'reserved_bytes.small_pool.peak': 163577856, 'segment.all.allocated': 1310, 'segment.all.current': 618, 'segment.all.freed': 692, 'segment.all.peak': 791, 'segment.large_pool.allocated': 1187, 'segment.large_pool.current': 555, 'segment.large_pool.freed': 632, 'segment.large_pool.peak': 713, 'segment.small_pool.allocated': 123, 'segment.small_pool.current': 63, 'segment.small_pool.freed': 60, 'segment.small_pool.peak': 78})\n"
     ]
    },
    {
     "name": "stderr",
     "output_type": "stream",
     "text": [
      "Some weights of EsmModel were not initialized from the model checkpoint at facebook/esm2_t33_650M_UR50D and are newly initialized: ['esm.pooler.dense.bias', 'esm.pooler.dense.weight']\n",
      "You should probably TRAIN this model on a down-stream task to be able to use it for predictions and inference.\n",
      "/home/kaustubh/miniforge3/envs/lora_esm/lib/python3.13/site-packages/torch/nn/parallel/_functions.py:70: UserWarning: Was asked to gather along dimension 0, but all input tensors were scalars; will instead unsqueeze and return a vector.\n",
      "  warnings.warn(\n"
     ]
    },
    {
     "data": {
      "text/html": [
       "\n",
       "    <div>\n",
       "      \n",
       "      <progress value='2845' max='2845' style='width:300px; height:20px; vertical-align: middle;'></progress>\n",
       "      [2845/2845 35:00, Epoch 5/5]\n",
       "    </div>\n",
       "    <table border=\"1\" class=\"dataframe\">\n",
       "  <thead>\n",
       " <tr style=\"text-align: left;\">\n",
       "      <th>Epoch</th>\n",
       "      <th>Training Loss</th>\n",
       "      <th>Validation Loss</th>\n",
       "      <th>Accuracy</th>\n",
       "    </tr>\n",
       "  </thead>\n",
       "  <tbody>\n",
       "    <tr>\n",
       "      <td>1</td>\n",
       "      <td>0.145700</td>\n",
       "      <td>0.410185</td>\n",
       "      <td>0.949031</td>\n",
       "    </tr>\n",
       "    <tr>\n",
       "      <td>2</td>\n",
       "      <td>0.127500</td>\n",
       "      <td>0.174425</td>\n",
       "      <td>0.988496</td>\n",
       "    </tr>\n",
       "    <tr>\n",
       "      <td>3</td>\n",
       "      <td>0.102300</td>\n",
       "      <td>0.185568</td>\n",
       "      <td>0.991315</td>\n",
       "    </tr>\n",
       "    <tr>\n",
       "      <td>4</td>\n",
       "      <td>0.076700</td>\n",
       "      <td>0.117152</td>\n",
       "      <td>0.995759</td>\n",
       "    </tr>\n",
       "    <tr>\n",
       "      <td>5</td>\n",
       "      <td>0.096000</td>\n",
       "      <td>0.110293</td>\n",
       "      <td>0.996622</td>\n",
       "    </tr>\n",
       "  </tbody>\n",
       "</table><p>"
      ],
      "text/plain": [
       "<IPython.core.display.HTML object>"
      ]
     },
     "metadata": {},
     "output_type": "display_data"
    },
    {
     "name": "stderr",
     "output_type": "stream",
     "text": [
      "/home/kaustubh/miniforge3/envs/lora_esm/lib/python3.13/site-packages/peft/utils/save_and_load.py:246: UserWarning: Could not find a config file in  - will assume that the vocabulary was not modified.\n",
      "  warnings.warn(\n",
      "/home/kaustubh/miniforge3/envs/lora_esm/lib/python3.13/site-packages/torch/nn/parallel/_functions.py:70: UserWarning: Was asked to gather along dimension 0, but all input tensors were scalars; will instead unsqueeze and return a vector.\n",
      "  warnings.warn(\n",
      "/home/kaustubh/miniforge3/envs/lora_esm/lib/python3.13/site-packages/peft/utils/save_and_load.py:246: UserWarning: Could not find a config file in  - will assume that the vocabulary was not modified.\n",
      "  warnings.warn(\n",
      "/home/kaustubh/miniforge3/envs/lora_esm/lib/python3.13/site-packages/torch/nn/parallel/_functions.py:70: UserWarning: Was asked to gather along dimension 0, but all input tensors were scalars; will instead unsqueeze and return a vector.\n",
      "  warnings.warn(\n",
      "/home/kaustubh/miniforge3/envs/lora_esm/lib/python3.13/site-packages/peft/utils/save_and_load.py:246: UserWarning: Could not find a config file in  - will assume that the vocabulary was not modified.\n",
      "  warnings.warn(\n",
      "/home/kaustubh/miniforge3/envs/lora_esm/lib/python3.13/site-packages/torch/nn/parallel/_functions.py:70: UserWarning: Was asked to gather along dimension 0, but all input tensors were scalars; will instead unsqueeze and return a vector.\n",
      "  warnings.warn(\n",
      "/home/kaustubh/miniforge3/envs/lora_esm/lib/python3.13/site-packages/peft/utils/save_and_load.py:246: UserWarning: Could not find a config file in  - will assume that the vocabulary was not modified.\n",
      "  warnings.warn(\n",
      "/home/kaustubh/miniforge3/envs/lora_esm/lib/python3.13/site-packages/torch/nn/parallel/_functions.py:70: UserWarning: Was asked to gather along dimension 0, but all input tensors were scalars; will instead unsqueeze and return a vector.\n",
      "  warnings.warn(\n",
      "/home/kaustubh/miniforge3/envs/lora_esm/lib/python3.13/site-packages/peft/utils/save_and_load.py:246: UserWarning: Could not find a config file in  - will assume that the vocabulary was not modified.\n",
      "  warnings.warn(\n",
      "/home/kaustubh/miniforge3/envs/lora_esm/lib/python3.13/site-packages/torch/nn/parallel/_functions.py:70: UserWarning: Was asked to gather along dimension 0, but all input tensors were scalars; will instead unsqueeze and return a vector.\n",
      "  warnings.warn(\n",
      "/home/kaustubh/miniforge3/envs/lora_esm/lib/python3.13/site-packages/peft/utils/save_and_load.py:246: UserWarning: Could not find a config file in  - will assume that the vocabulary was not modified.\n",
      "  warnings.warn(\n"
     ]
    },
    {
     "name": "stdout",
     "output_type": "stream",
     "text": [
      "trainer: <transformers.trainer.Trainer object at 0x7fb44b622900>\n",
      "Best current Metric: 0.996622393783173\n",
      "Best trial metric: 0.9955811768291134\n",
      "Updating best trial\n",
      "Trial 6/10\n",
      "learning_rate:  0.000505\n",
      "OrderedDict({'active.all.allocated': 93512207, 'active.all.current': 5554, 'active.all.freed': 93506653, 'active.all.peak': 6533, 'active.large_pool.allocated': 57571327, 'active.large_pool.current': 1202, 'active.large_pool.freed': 57570125, 'active.large_pool.peak': 1703, 'active.small_pool.allocated': 35940880, 'active.small_pool.current': 4352, 'active.small_pool.freed': 35936528, 'active.small_pool.peak': 4930, 'active_bytes.all.allocated': 1433724051026944, 'active_bytes.all.current': 16222464000, 'active_bytes.all.freed': 1433707828562944, 'active_bytes.all.peak': 29348009984, 'active_bytes.large_pool.allocated': 1429201830683648, 'active_bytes.large_pool.current': 16074469376, 'active_bytes.large_pool.freed': 1429185756214272, 'active_bytes.large_pool.peak': 29168562176, 'active_bytes.small_pool.allocated': 4522220343296, 'active_bytes.small_pool.current': 147994624, 'active_bytes.small_pool.freed': 4522072348672, 'active_bytes.small_pool.peak': 180512768, 'allocated_bytes.all.allocated': 1433724051026944, 'allocated_bytes.all.current': 16222464000, 'allocated_bytes.all.freed': 1433707828562944, 'allocated_bytes.all.peak': 29348009984, 'allocated_bytes.large_pool.allocated': 1429201830683648, 'allocated_bytes.large_pool.current': 16074469376, 'allocated_bytes.large_pool.freed': 1429185756214272, 'allocated_bytes.large_pool.peak': 29168562176, 'allocated_bytes.small_pool.allocated': 4522220343296, 'allocated_bytes.small_pool.current': 147994624, 'allocated_bytes.small_pool.freed': 4522072348672, 'allocated_bytes.small_pool.peak': 180512768, 'allocation.all.allocated': 93512207, 'allocation.all.current': 5554, 'allocation.all.freed': 93506653, 'allocation.all.peak': 6533, 'allocation.large_pool.allocated': 57571327, 'allocation.large_pool.current': 1202, 'allocation.large_pool.freed': 57570125, 'allocation.large_pool.peak': 1703, 'allocation.small_pool.allocated': 35940880, 'allocation.small_pool.current': 4352, 'allocation.small_pool.freed': 35936528, 'allocation.small_pool.peak': 4930, 'inactive_split.all.allocated': 41460473, 'inactive_split.all.current': 359, 'inactive_split.all.freed': 41460114, 'inactive_split.all.peak': 633, 'inactive_split.large_pool.allocated': 30677531, 'inactive_split.large_pool.current': 270, 'inactive_split.large_pool.freed': 30677261, 'inactive_split.large_pool.peak': 381, 'inactive_split.small_pool.allocated': 10782942, 'inactive_split.small_pool.current': 89, 'inactive_split.small_pool.freed': 10782853, 'inactive_split.small_pool.peak': 254, 'inactive_split_bytes.all.allocated': 814879467907072, 'inactive_split_bytes.all.current': 368105472, 'inactive_split_bytes.all.freed': 814879099801600, 'inactive_split_bytes.all.peak': 2223997952, 'inactive_split_bytes.large_pool.allocated': 809838581350400, 'inactive_split_bytes.large_pool.current': 365105152, 'inactive_split_bytes.large_pool.freed': 809838216245248, 'inactive_split_bytes.large_pool.peak': 2215408640, 'inactive_split_bytes.small_pool.allocated': 5040886556672, 'inactive_split_bytes.small_pool.current': 3000320, 'inactive_split_bytes.small_pool.freed': 5040883556352, 'inactive_split_bytes.small_pool.peak': 34403328, 'max_split_size': -1, 'num_alloc_retries': 0, 'num_device_alloc': 1603, 'num_device_free': 866, 'num_ooms': 0, 'num_sync_all_streams': 12, 'oversize_allocations.allocated': 0, 'oversize_allocations.current': 0, 'oversize_allocations.freed': 0, 'oversize_allocations.peak': 0, 'oversize_segments.allocated': 0, 'oversize_segments.current': 0, 'oversize_segments.freed': 0, 'oversize_segments.peak': 0, 'requested_bytes.all.allocated': 1433395792574470, 'requested_bytes.all.current': 15807138176, 'requested_bytes.all.freed': 1433379985436294, 'requested_bytes.all.peak': 28932680124, 'requested_bytes.large_pool.allocated': 1428878559237880, 'requested_bytes.large_pool.current': 15659233280, 'requested_bytes.large_pool.freed': 1428862900004600, 'requested_bytes.large_pool.peak': 28753326080, 'requested_bytes.small_pool.allocated': 4517233336590, 'requested_bytes.small_pool.current': 147904896, 'requested_bytes.small_pool.freed': 4517085431694, 'requested_bytes.small_pool.peak': 180421036, 'reserved_bytes.all.allocated': 90060095488, 'reserved_bytes.all.current': 16590569472, 'reserved_bytes.all.freed': 73469526016, 'reserved_bytes.all.peak': 31299993600, 'reserved_bytes.large_pool.allocated': 89751814144, 'reserved_bytes.large_pool.current': 16439574528, 'reserved_bytes.large_pool.freed': 73312239616, 'reserved_bytes.large_pool.peak': 31117541376, 'reserved_bytes.small_pool.allocated': 308281344, 'reserved_bytes.small_pool.current': 150994944, 'reserved_bytes.small_pool.freed': 157286400, 'reserved_bytes.small_pool.peak': 182452224, 'segment.all.allocated': 1603, 'segment.all.current': 737, 'segment.all.freed': 866, 'segment.all.peak': 911, 'segment.large_pool.allocated': 1456, 'segment.large_pool.current': 665, 'segment.large_pool.freed': 791, 'segment.large_pool.peak': 824, 'segment.small_pool.allocated': 147, 'segment.small_pool.current': 72, 'segment.small_pool.freed': 75, 'segment.small_pool.peak': 87})\n"
     ]
    },
    {
     "name": "stderr",
     "output_type": "stream",
     "text": [
      "Some weights of EsmModel were not initialized from the model checkpoint at facebook/esm2_t33_650M_UR50D and are newly initialized: ['esm.pooler.dense.bias', 'esm.pooler.dense.weight']\n",
      "You should probably TRAIN this model on a down-stream task to be able to use it for predictions and inference.\n",
      "/home/kaustubh/miniforge3/envs/lora_esm/lib/python3.13/site-packages/torch/nn/parallel/_functions.py:70: UserWarning: Was asked to gather along dimension 0, but all input tensors were scalars; will instead unsqueeze and return a vector.\n",
      "  warnings.warn(\n"
     ]
    },
    {
     "data": {
      "text/html": [
       "\n",
       "    <div>\n",
       "      \n",
       "      <progress value='2845' max='2845' style='width:300px; height:20px; vertical-align: middle;'></progress>\n",
       "      [2845/2845 34:59, Epoch 5/5]\n",
       "    </div>\n",
       "    <table border=\"1\" class=\"dataframe\">\n",
       "  <thead>\n",
       " <tr style=\"text-align: left;\">\n",
       "      <th>Epoch</th>\n",
       "      <th>Training Loss</th>\n",
       "      <th>Validation Loss</th>\n",
       "      <th>Accuracy</th>\n",
       "    </tr>\n",
       "  </thead>\n",
       "  <tbody>\n",
       "    <tr>\n",
       "      <td>1</td>\n",
       "      <td>0.169600</td>\n",
       "      <td>0.318442</td>\n",
       "      <td>0.975062</td>\n",
       "    </tr>\n",
       "    <tr>\n",
       "      <td>2</td>\n",
       "      <td>0.154100</td>\n",
       "      <td>0.179211</td>\n",
       "      <td>0.986236</td>\n",
       "    </tr>\n",
       "    <tr>\n",
       "      <td>3</td>\n",
       "      <td>0.046900</td>\n",
       "      <td>0.168286</td>\n",
       "      <td>0.992127</td>\n",
       "    </tr>\n",
       "    <tr>\n",
       "      <td>4</td>\n",
       "      <td>0.051900</td>\n",
       "      <td>0.116151</td>\n",
       "      <td>0.996089</td>\n",
       "    </tr>\n",
       "    <tr>\n",
       "      <td>5</td>\n",
       "      <td>0.072400</td>\n",
       "      <td>0.108544</td>\n",
       "      <td>0.996216</td>\n",
       "    </tr>\n",
       "  </tbody>\n",
       "</table><p>"
      ],
      "text/plain": [
       "<IPython.core.display.HTML object>"
      ]
     },
     "metadata": {},
     "output_type": "display_data"
    },
    {
     "name": "stderr",
     "output_type": "stream",
     "text": [
      "/home/kaustubh/miniforge3/envs/lora_esm/lib/python3.13/site-packages/peft/utils/save_and_load.py:246: UserWarning: Could not find a config file in  - will assume that the vocabulary was not modified.\n",
      "  warnings.warn(\n",
      "/home/kaustubh/miniforge3/envs/lora_esm/lib/python3.13/site-packages/torch/nn/parallel/_functions.py:70: UserWarning: Was asked to gather along dimension 0, but all input tensors were scalars; will instead unsqueeze and return a vector.\n",
      "  warnings.warn(\n",
      "/home/kaustubh/miniforge3/envs/lora_esm/lib/python3.13/site-packages/peft/utils/save_and_load.py:246: UserWarning: Could not find a config file in  - will assume that the vocabulary was not modified.\n",
      "  warnings.warn(\n",
      "/home/kaustubh/miniforge3/envs/lora_esm/lib/python3.13/site-packages/torch/nn/parallel/_functions.py:70: UserWarning: Was asked to gather along dimension 0, but all input tensors were scalars; will instead unsqueeze and return a vector.\n",
      "  warnings.warn(\n",
      "/home/kaustubh/miniforge3/envs/lora_esm/lib/python3.13/site-packages/peft/utils/save_and_load.py:246: UserWarning: Could not find a config file in  - will assume that the vocabulary was not modified.\n",
      "  warnings.warn(\n",
      "/home/kaustubh/miniforge3/envs/lora_esm/lib/python3.13/site-packages/torch/nn/parallel/_functions.py:70: UserWarning: Was asked to gather along dimension 0, but all input tensors were scalars; will instead unsqueeze and return a vector.\n",
      "  warnings.warn(\n",
      "/home/kaustubh/miniforge3/envs/lora_esm/lib/python3.13/site-packages/peft/utils/save_and_load.py:246: UserWarning: Could not find a config file in  - will assume that the vocabulary was not modified.\n",
      "  warnings.warn(\n",
      "/home/kaustubh/miniforge3/envs/lora_esm/lib/python3.13/site-packages/torch/nn/parallel/_functions.py:70: UserWarning: Was asked to gather along dimension 0, but all input tensors were scalars; will instead unsqueeze and return a vector.\n",
      "  warnings.warn(\n",
      "/home/kaustubh/miniforge3/envs/lora_esm/lib/python3.13/site-packages/peft/utils/save_and_load.py:246: UserWarning: Could not find a config file in  - will assume that the vocabulary was not modified.\n",
      "  warnings.warn(\n",
      "/home/kaustubh/miniforge3/envs/lora_esm/lib/python3.13/site-packages/torch/nn/parallel/_functions.py:70: UserWarning: Was asked to gather along dimension 0, but all input tensors were scalars; will instead unsqueeze and return a vector.\n",
      "  warnings.warn(\n",
      "/home/kaustubh/miniforge3/envs/lora_esm/lib/python3.13/site-packages/peft/utils/save_and_load.py:246: UserWarning: Could not find a config file in  - will assume that the vocabulary was not modified.\n",
      "  warnings.warn(\n"
     ]
    },
    {
     "name": "stdout",
     "output_type": "stream",
     "text": [
      "trainer: <transformers.trainer.Trainer object at 0x7fb44b622900>\n",
      "Best current Metric: 0.996216065215735\n",
      "Best trial metric: 0.996622393783173\n",
      "Trial 7/10\n",
      "learning_rate:  0.0006039999999999999\n",
      "OrderedDict({'active.all.allocated': 112214494, 'active.all.current': 6324, 'active.all.freed': 112208170, 'active.all.peak': 7303, 'active.large_pool.allocated': 69085552, 'active.large_pool.current': 1402, 'active.large_pool.freed': 69084150, 'active.large_pool.peak': 1903, 'active.small_pool.allocated': 43128942, 'active.small_pool.current': 4922, 'active.small_pool.freed': 43124020, 'active.small_pool.peak': 5500, 'active_bytes.all.allocated': 1720433338450944, 'active_bytes.all.current': 18917338112, 'active_bytes.all.freed': 1720414421112832, 'active_bytes.all.peak': 32042884096, 'active_bytes.large_pool.allocated': 1715006677766144, 'active_bytes.large_pool.current': 18750707712, 'active_bytes.large_pool.freed': 1714987927058432, 'active_bytes.large_pool.peak': 31844800512, 'active_bytes.small_pool.allocated': 5426660684800, 'active_bytes.small_pool.current': 166630400, 'active_bytes.small_pool.freed': 5426494054400, 'active_bytes.small_pool.peak': 199148544, 'allocated_bytes.all.allocated': 1720433338450944, 'allocated_bytes.all.current': 18917338112, 'allocated_bytes.all.freed': 1720414421112832, 'allocated_bytes.all.peak': 32042884096, 'allocated_bytes.large_pool.allocated': 1715006677766144, 'allocated_bytes.large_pool.current': 18750707712, 'allocated_bytes.large_pool.freed': 1714987927058432, 'allocated_bytes.large_pool.peak': 31844800512, 'allocated_bytes.small_pool.allocated': 5426660684800, 'allocated_bytes.small_pool.current': 166630400, 'allocated_bytes.small_pool.freed': 5426494054400, 'allocated_bytes.small_pool.peak': 199148544, 'allocation.all.allocated': 112214494, 'allocation.all.current': 6324, 'allocation.all.freed': 112208170, 'allocation.all.peak': 7303, 'allocation.large_pool.allocated': 69085552, 'allocation.large_pool.current': 1402, 'allocation.large_pool.freed': 69084150, 'allocation.large_pool.peak': 1903, 'allocation.small_pool.allocated': 43128942, 'allocation.small_pool.current': 4922, 'allocation.small_pool.freed': 43124020, 'allocation.small_pool.peak': 5500, 'inactive_split.all.allocated': 49983811, 'inactive_split.all.current': 418, 'inactive_split.all.freed': 49983393, 'inactive_split.all.peak': 693, 'inactive_split.large_pool.allocated': 36894506, 'inactive_split.large_pool.current': 315, 'inactive_split.large_pool.freed': 36894191, 'inactive_split.large_pool.peak': 425, 'inactive_split.small_pool.allocated': 13089305, 'inactive_split.small_pool.current': 103, 'inactive_split.small_pool.freed': 13089202, 'inactive_split.small_pool.peak': 271, 'inactive_split_bytes.all.allocated': 977321619035136, 'inactive_split_bytes.all.current': 433083392, 'inactive_split_bytes.all.freed': 977321185951744, 'inactive_split_bytes.all.peak': 2293170176, 'inactive_split_bytes.large_pool.allocated': 971272031120384, 'inactive_split_bytes.large_pool.current': 431941632, 'inactive_split_bytes.large_pool.freed': 971271599178752, 'inactive_split_bytes.large_pool.peak': 2282245120, 'inactive_split_bytes.small_pool.allocated': 6049587914752, 'inactive_split_bytes.small_pool.current': 1141760, 'inactive_split_bytes.small_pool.freed': 6049586772992, 'inactive_split_bytes.small_pool.peak': 35138560, 'max_split_size': -1, 'num_alloc_retries': 0, 'num_device_alloc': 1896, 'num_device_free': 1040, 'num_ooms': 0, 'num_sync_all_streams': 14, 'oversize_allocations.allocated': 0, 'oversize_allocations.current': 0, 'oversize_allocations.freed': 0, 'oversize_allocations.peak': 0, 'oversize_segments.allocated': 0, 'oversize_segments.current': 0, 'oversize_segments.freed': 0, 'oversize_segments.peak': 0, 'requested_bytes.all.allocated': 1720074422550796, 'requested_bytes.all.current': 18432791656, 'requested_bytes.all.freed': 1720055989759140, 'requested_bytes.all.peak': 31558333604, 'requested_bytes.large_pool.allocated': 1714653746271120, 'requested_bytes.large_pool.current': 18266265600, 'requested_bytes.large_pool.freed': 1714635480005520, 'requested_bytes.large_pool.peak': 31360358400, 'requested_bytes.small_pool.allocated': 5420676279676, 'requested_bytes.small_pool.current': 166526056, 'requested_bytes.small_pool.freed': 5420509753620, 'requested_bytes.small_pool.peak': 199042196, 'reserved_bytes.all.allocated': 107520983040, 'reserved_bytes.all.current': 19350421504, 'reserved_bytes.all.freed': 88170561536, 'reserved_bytes.all.peak': 34051457024, 'reserved_bytes.large_pool.allocated': 107162370048, 'reserved_bytes.large_pool.current': 19182649344, 'reserved_bytes.large_pool.freed': 87979720704, 'reserved_bytes.large_pool.peak': 33850130432, 'reserved_bytes.small_pool.allocated': 358612992, 'reserved_bytes.small_pool.current': 167772160, 'reserved_bytes.small_pool.freed': 190840832, 'reserved_bytes.small_pool.peak': 201326592, 'segment.all.allocated': 1896, 'segment.all.current': 856, 'segment.all.freed': 1040, 'segment.all.peak': 1030, 'segment.large_pool.allocated': 1725, 'segment.large_pool.current': 776, 'segment.large_pool.freed': 949, 'segment.large_pool.peak': 934, 'segment.small_pool.allocated': 171, 'segment.small_pool.current': 80, 'segment.small_pool.freed': 91, 'segment.small_pool.peak': 96})\n"
     ]
    },
    {
     "name": "stderr",
     "output_type": "stream",
     "text": [
      "Some weights of EsmModel were not initialized from the model checkpoint at facebook/esm2_t33_650M_UR50D and are newly initialized: ['esm.pooler.dense.bias', 'esm.pooler.dense.weight']\n",
      "You should probably TRAIN this model on a down-stream task to be able to use it for predictions and inference.\n",
      "/home/kaustubh/miniforge3/envs/lora_esm/lib/python3.13/site-packages/torch/nn/parallel/_functions.py:70: UserWarning: Was asked to gather along dimension 0, but all input tensors were scalars; will instead unsqueeze and return a vector.\n",
      "  warnings.warn(\n"
     ]
    },
    {
     "data": {
      "text/html": [
       "\n",
       "    <div>\n",
       "      \n",
       "      <progress value='2845' max='2845' style='width:300px; height:20px; vertical-align: middle;'></progress>\n",
       "      [2845/2845 34:56, Epoch 5/5]\n",
       "    </div>\n",
       "    <table border=\"1\" class=\"dataframe\">\n",
       "  <thead>\n",
       " <tr style=\"text-align: left;\">\n",
       "      <th>Epoch</th>\n",
       "      <th>Training Loss</th>\n",
       "      <th>Validation Loss</th>\n",
       "      <th>Accuracy</th>\n",
       "    </tr>\n",
       "  </thead>\n",
       "  <tbody>\n",
       "    <tr>\n",
       "      <td>1</td>\n",
       "      <td>0.664200</td>\n",
       "      <td>0.673864</td>\n",
       "      <td>0.693781</td>\n",
       "    </tr>\n",
       "    <tr>\n",
       "      <td>2</td>\n",
       "      <td>0.573600</td>\n",
       "      <td>0.536015</td>\n",
       "      <td>0.865277</td>\n",
       "    </tr>\n",
       "    <tr>\n",
       "      <td>3</td>\n",
       "      <td>0.335100</td>\n",
       "      <td>0.183299</td>\n",
       "      <td>0.977779</td>\n",
       "    </tr>\n",
       "    <tr>\n",
       "      <td>4</td>\n",
       "      <td>0.231900</td>\n",
       "      <td>0.135181</td>\n",
       "      <td>0.992711</td>\n",
       "    </tr>\n",
       "    <tr>\n",
       "      <td>5</td>\n",
       "      <td>0.243300</td>\n",
       "      <td>0.124596</td>\n",
       "      <td>0.994743</td>\n",
       "    </tr>\n",
       "  </tbody>\n",
       "</table><p>"
      ],
      "text/plain": [
       "<IPython.core.display.HTML object>"
      ]
     },
     "metadata": {},
     "output_type": "display_data"
    },
    {
     "name": "stderr",
     "output_type": "stream",
     "text": [
      "/home/kaustubh/miniforge3/envs/lora_esm/lib/python3.13/site-packages/peft/utils/save_and_load.py:246: UserWarning: Could not find a config file in  - will assume that the vocabulary was not modified.\n",
      "  warnings.warn(\n",
      "/home/kaustubh/miniforge3/envs/lora_esm/lib/python3.13/site-packages/torch/nn/parallel/_functions.py:70: UserWarning: Was asked to gather along dimension 0, but all input tensors were scalars; will instead unsqueeze and return a vector.\n",
      "  warnings.warn(\n",
      "/home/kaustubh/miniforge3/envs/lora_esm/lib/python3.13/site-packages/peft/utils/save_and_load.py:246: UserWarning: Could not find a config file in  - will assume that the vocabulary was not modified.\n",
      "  warnings.warn(\n",
      "/home/kaustubh/miniforge3/envs/lora_esm/lib/python3.13/site-packages/torch/nn/parallel/_functions.py:70: UserWarning: Was asked to gather along dimension 0, but all input tensors were scalars; will instead unsqueeze and return a vector.\n",
      "  warnings.warn(\n",
      "/home/kaustubh/miniforge3/envs/lora_esm/lib/python3.13/site-packages/peft/utils/save_and_load.py:246: UserWarning: Could not find a config file in  - will assume that the vocabulary was not modified.\n",
      "  warnings.warn(\n",
      "/home/kaustubh/miniforge3/envs/lora_esm/lib/python3.13/site-packages/torch/nn/parallel/_functions.py:70: UserWarning: Was asked to gather along dimension 0, but all input tensors were scalars; will instead unsqueeze and return a vector.\n",
      "  warnings.warn(\n",
      "/home/kaustubh/miniforge3/envs/lora_esm/lib/python3.13/site-packages/peft/utils/save_and_load.py:246: UserWarning: Could not find a config file in  - will assume that the vocabulary was not modified.\n",
      "  warnings.warn(\n",
      "/home/kaustubh/miniforge3/envs/lora_esm/lib/python3.13/site-packages/torch/nn/parallel/_functions.py:70: UserWarning: Was asked to gather along dimension 0, but all input tensors were scalars; will instead unsqueeze and return a vector.\n",
      "  warnings.warn(\n",
      "/home/kaustubh/miniforge3/envs/lora_esm/lib/python3.13/site-packages/peft/utils/save_and_load.py:246: UserWarning: Could not find a config file in  - will assume that the vocabulary was not modified.\n",
      "  warnings.warn(\n",
      "/home/kaustubh/miniforge3/envs/lora_esm/lib/python3.13/site-packages/torch/nn/parallel/_functions.py:70: UserWarning: Was asked to gather along dimension 0, but all input tensors were scalars; will instead unsqueeze and return a vector.\n",
      "  warnings.warn(\n",
      "/home/kaustubh/miniforge3/envs/lora_esm/lib/python3.13/site-packages/peft/utils/save_and_load.py:246: UserWarning: Could not find a config file in  - will assume that the vocabulary was not modified.\n",
      "  warnings.warn(\n"
     ]
    },
    {
     "name": "stdout",
     "output_type": "stream",
     "text": [
      "trainer: <transformers.trainer.Trainer object at 0x7fb44b622900>\n",
      "Best current Metric: 0.9947431241587729\n",
      "Best trial metric: 0.996622393783173\n",
      "Trial 8/10\n",
      "learning_rate:  0.000703\n",
      "OrderedDict({'active.all.allocated': 130916781, 'active.all.current': 7094, 'active.all.freed': 130909687, 'active.all.peak': 8073, 'active.large_pool.allocated': 80599777, 'active.large_pool.current': 1602, 'active.large_pool.freed': 80598175, 'active.large_pool.peak': 2103, 'active.small_pool.allocated': 50317004, 'active.small_pool.current': 5492, 'active.small_pool.freed': 50311512, 'active.small_pool.peak': 6070, 'active_bytes.all.allocated': 2007229629282304, 'active_bytes.all.current': 21612212224, 'active_bytes.all.freed': 2007208017070080, 'active_bytes.all.peak': 34737758208, 'active_bytes.large_pool.allocated': 2000898528256000, 'active_bytes.large_pool.current': 21426946048, 'active_bytes.large_pool.freed': 2000877101309952, 'active_bytes.large_pool.peak': 34521038848, 'active_bytes.small_pool.allocated': 6331101026304, 'active_bytes.small_pool.current': 185266176, 'active_bytes.small_pool.freed': 6330915760128, 'active_bytes.small_pool.peak': 217784320, 'allocated_bytes.all.allocated': 2007229629282304, 'allocated_bytes.all.current': 21612212224, 'allocated_bytes.all.freed': 2007208017070080, 'allocated_bytes.all.peak': 34737758208, 'allocated_bytes.large_pool.allocated': 2000898528256000, 'allocated_bytes.large_pool.current': 21426946048, 'allocated_bytes.large_pool.freed': 2000877101309952, 'allocated_bytes.large_pool.peak': 34521038848, 'allocated_bytes.small_pool.allocated': 6331101026304, 'allocated_bytes.small_pool.current': 185266176, 'allocated_bytes.small_pool.freed': 6330915760128, 'allocated_bytes.small_pool.peak': 217784320, 'allocation.all.allocated': 130916781, 'allocation.all.current': 7094, 'allocation.all.freed': 130909687, 'allocation.all.peak': 8073, 'allocation.large_pool.allocated': 80599777, 'allocation.large_pool.current': 1602, 'allocation.large_pool.freed': 80598175, 'allocation.large_pool.peak': 2103, 'allocation.small_pool.allocated': 50317004, 'allocation.small_pool.current': 5492, 'allocation.small_pool.freed': 50311512, 'allocation.small_pool.peak': 6070, 'inactive_split.all.allocated': 58172906, 'inactive_split.all.current': 479, 'inactive_split.all.freed': 58172427, 'inactive_split.all.peak': 752, 'inactive_split.large_pool.allocated': 42926459, 'inactive_split.large_pool.current': 360, 'inactive_split.large_pool.freed': 42926099, 'inactive_split.large_pool.peak': 471, 'inactive_split.small_pool.allocated': 15246447, 'inactive_split.small_pool.current': 119, 'inactive_split.small_pool.freed': 15246328, 'inactive_split.small_pool.peak': 282, 'inactive_split_bytes.all.allocated': 1140526108689408, 'inactive_split_bytes.all.current': 500158464, 'inactive_split_bytes.all.freed': 1140525608530944, 'inactive_split_bytes.all.peak': 2362310144, 'inactive_split_bytes.large_pool.allocated': 1133461438619648, 'inactive_split_bytes.large_pool.current': 498778112, 'inactive_split_bytes.large_pool.freed': 1133460939841536, 'inactive_split_bytes.large_pool.peak': 2348943360, 'inactive_split_bytes.small_pool.allocated': 7064670069760, 'inactive_split_bytes.small_pool.current': 1380352, 'inactive_split_bytes.small_pool.freed': 7064668689408, 'inactive_split_bytes.small_pool.peak': 35407872, 'max_split_size': -1, 'num_alloc_retries': 0, 'num_device_alloc': 2190, 'num_device_free': 1214, 'num_ooms': 0, 'num_sync_all_streams': 16, 'oversize_allocations.allocated': 0, 'oversize_allocations.current': 0, 'oversize_allocations.freed': 0, 'oversize_allocations.peak': 0, 'oversize_segments.allocated': 0, 'oversize_segments.current': 0, 'oversize_segments.freed': 0, 'oversize_segments.peak': 0, 'requested_bytes.all.allocated': 2006753052527122, 'requested_bytes.all.current': 21058445136, 'requested_bytes.all.freed': 2006731994081986, 'requested_bytes.all.peak': 34183987084, 'requested_bytes.large_pool.allocated': 2000428933304360, 'requested_bytes.large_pool.current': 20873297920, 'requested_bytes.large_pool.freed': 2000408060006440, 'requested_bytes.large_pool.peak': 33967390720, 'requested_bytes.small_pool.allocated': 6324119222762, 'requested_bytes.small_pool.current': 185147216, 'requested_bytes.small_pool.freed': 6323934075546, 'requested_bytes.small_pool.peak': 217663356, 'reserved_bytes.all.allocated': 124977676288, 'reserved_bytes.all.current': 22112370688, 'reserved_bytes.all.freed': 102865305600, 'reserved_bytes.all.peak': 36807114752, 'reserved_bytes.large_pool.allocated': 124566634496, 'reserved_bytes.large_pool.current': 21925724160, 'reserved_bytes.large_pool.freed': 102640910336, 'reserved_bytes.large_pool.peak': 36586913792, 'reserved_bytes.small_pool.allocated': 411041792, 'reserved_bytes.small_pool.current': 186646528, 'reserved_bytes.small_pool.freed': 224395264, 'reserved_bytes.small_pool.peak': 220200960, 'segment.all.allocated': 2190, 'segment.all.current': 976, 'segment.all.freed': 1214, 'segment.all.peak': 1150, 'segment.large_pool.allocated': 1994, 'segment.large_pool.current': 887, 'segment.large_pool.freed': 1107, 'segment.large_pool.peak': 1045, 'segment.small_pool.allocated': 196, 'segment.small_pool.current': 89, 'segment.small_pool.freed': 107, 'segment.small_pool.peak': 105})\n"
     ]
    },
    {
     "name": "stderr",
     "output_type": "stream",
     "text": [
      "Some weights of EsmModel were not initialized from the model checkpoint at facebook/esm2_t33_650M_UR50D and are newly initialized: ['esm.pooler.dense.bias', 'esm.pooler.dense.weight']\n",
      "You should probably TRAIN this model on a down-stream task to be able to use it for predictions and inference.\n",
      "/home/kaustubh/miniforge3/envs/lora_esm/lib/python3.13/site-packages/torch/nn/parallel/_functions.py:70: UserWarning: Was asked to gather along dimension 0, but all input tensors were scalars; will instead unsqueeze and return a vector.\n",
      "  warnings.warn(\n"
     ]
    },
    {
     "data": {
      "text/html": [
       "\n",
       "    <div>\n",
       "      \n",
       "      <progress value='2845' max='2845' style='width:300px; height:20px; vertical-align: middle;'></progress>\n",
       "      [2845/2845 34:52, Epoch 5/5]\n",
       "    </div>\n",
       "    <table border=\"1\" class=\"dataframe\">\n",
       "  <thead>\n",
       " <tr style=\"text-align: left;\">\n",
       "      <th>Epoch</th>\n",
       "      <th>Training Loss</th>\n",
       "      <th>Validation Loss</th>\n",
       "      <th>Accuracy</th>\n",
       "    </tr>\n",
       "  </thead>\n",
       "  <tbody>\n",
       "    <tr>\n",
       "      <td>1</td>\n",
       "      <td>0.185700</td>\n",
       "      <td>0.374676</td>\n",
       "      <td>0.938568</td>\n",
       "    </tr>\n",
       "    <tr>\n",
       "      <td>2</td>\n",
       "      <td>0.161900</td>\n",
       "      <td>0.153379</td>\n",
       "      <td>0.988521</td>\n",
       "    </tr>\n",
       "    <tr>\n",
       "      <td>3</td>\n",
       "      <td>0.073400</td>\n",
       "      <td>0.174418</td>\n",
       "      <td>0.988166</td>\n",
       "    </tr>\n",
       "    <tr>\n",
       "      <td>4</td>\n",
       "      <td>0.051100</td>\n",
       "      <td>0.112034</td>\n",
       "      <td>0.994616</td>\n",
       "    </tr>\n",
       "    <tr>\n",
       "      <td>5</td>\n",
       "      <td>0.110700</td>\n",
       "      <td>0.100275</td>\n",
       "      <td>0.995378</td>\n",
       "    </tr>\n",
       "  </tbody>\n",
       "</table><p>"
      ],
      "text/plain": [
       "<IPython.core.display.HTML object>"
      ]
     },
     "metadata": {},
     "output_type": "display_data"
    },
    {
     "name": "stderr",
     "output_type": "stream",
     "text": [
      "/home/kaustubh/miniforge3/envs/lora_esm/lib/python3.13/site-packages/peft/utils/save_and_load.py:246: UserWarning: Could not find a config file in  - will assume that the vocabulary was not modified.\n",
      "  warnings.warn(\n",
      "/home/kaustubh/miniforge3/envs/lora_esm/lib/python3.13/site-packages/torch/nn/parallel/_functions.py:70: UserWarning: Was asked to gather along dimension 0, but all input tensors were scalars; will instead unsqueeze and return a vector.\n",
      "  warnings.warn(\n",
      "/home/kaustubh/miniforge3/envs/lora_esm/lib/python3.13/site-packages/peft/utils/save_and_load.py:246: UserWarning: Could not find a config file in  - will assume that the vocabulary was not modified.\n",
      "  warnings.warn(\n",
      "/home/kaustubh/miniforge3/envs/lora_esm/lib/python3.13/site-packages/torch/nn/parallel/_functions.py:70: UserWarning: Was asked to gather along dimension 0, but all input tensors were scalars; will instead unsqueeze and return a vector.\n",
      "  warnings.warn(\n",
      "/home/kaustubh/miniforge3/envs/lora_esm/lib/python3.13/site-packages/peft/utils/save_and_load.py:246: UserWarning: Could not find a config file in  - will assume that the vocabulary was not modified.\n",
      "  warnings.warn(\n",
      "/home/kaustubh/miniforge3/envs/lora_esm/lib/python3.13/site-packages/torch/nn/parallel/_functions.py:70: UserWarning: Was asked to gather along dimension 0, but all input tensors were scalars; will instead unsqueeze and return a vector.\n",
      "  warnings.warn(\n",
      "/home/kaustubh/miniforge3/envs/lora_esm/lib/python3.13/site-packages/peft/utils/save_and_load.py:246: UserWarning: Could not find a config file in  - will assume that the vocabulary was not modified.\n",
      "  warnings.warn(\n",
      "/home/kaustubh/miniforge3/envs/lora_esm/lib/python3.13/site-packages/torch/nn/parallel/_functions.py:70: UserWarning: Was asked to gather along dimension 0, but all input tensors were scalars; will instead unsqueeze and return a vector.\n",
      "  warnings.warn(\n",
      "/home/kaustubh/miniforge3/envs/lora_esm/lib/python3.13/site-packages/peft/utils/save_and_load.py:246: UserWarning: Could not find a config file in  - will assume that the vocabulary was not modified.\n",
      "  warnings.warn(\n",
      "/home/kaustubh/miniforge3/envs/lora_esm/lib/python3.13/site-packages/torch/nn/parallel/_functions.py:70: UserWarning: Was asked to gather along dimension 0, but all input tensors were scalars; will instead unsqueeze and return a vector.\n",
      "  warnings.warn(\n",
      "/home/kaustubh/miniforge3/envs/lora_esm/lib/python3.13/site-packages/peft/utils/save_and_load.py:246: UserWarning: Could not find a config file in  - will assume that the vocabulary was not modified.\n",
      "  warnings.warn(\n"
     ]
    },
    {
     "name": "stdout",
     "output_type": "stream",
     "text": [
      "trainer: <transformers.trainer.Trainer object at 0x7fb44b622900>\n",
      "Best current Metric: 0.9953780125453946\n",
      "Best trial metric: 0.996622393783173\n",
      "Trial 9/10\n",
      "learning_rate:  0.000802\n",
      "OrderedDict({'active.all.allocated': 149619068, 'active.all.current': 7864, 'active.all.freed': 149611204, 'active.all.peak': 8843, 'active.large_pool.allocated': 92114002, 'active.large_pool.current': 1802, 'active.large_pool.freed': 92112200, 'active.large_pool.peak': 2303, 'active.small_pool.allocated': 57505066, 'active.small_pool.current': 6062, 'active.small_pool.freed': 57499004, 'active.small_pool.peak': 6640, 'active_bytes.all.allocated': 2293938916706304, 'active_bytes.all.current': 24307086336, 'active_bytes.all.freed': 2293914609619968, 'active_bytes.all.peak': 37432632320, 'active_bytes.large_pool.allocated': 2286703375338496, 'active_bytes.large_pool.current': 24103184384, 'active_bytes.large_pool.freed': 2286679272154112, 'active_bytes.large_pool.peak': 37197277184, 'active_bytes.small_pool.allocated': 7235541367808, 'active_bytes.small_pool.current': 203901952, 'active_bytes.small_pool.freed': 7235337465856, 'active_bytes.small_pool.peak': 236420096, 'allocated_bytes.all.allocated': 2293938916706304, 'allocated_bytes.all.current': 24307086336, 'allocated_bytes.all.freed': 2293914609619968, 'allocated_bytes.all.peak': 37432632320, 'allocated_bytes.large_pool.allocated': 2286703375338496, 'allocated_bytes.large_pool.current': 24103184384, 'allocated_bytes.large_pool.freed': 2286679272154112, 'allocated_bytes.large_pool.peak': 37197277184, 'allocated_bytes.small_pool.allocated': 7235541367808, 'allocated_bytes.small_pool.current': 203901952, 'allocated_bytes.small_pool.freed': 7235337465856, 'allocated_bytes.small_pool.peak': 236420096, 'allocation.all.allocated': 149619068, 'allocation.all.current': 7864, 'allocation.all.freed': 149611204, 'allocation.all.peak': 8843, 'allocation.large_pool.allocated': 92114002, 'allocation.large_pool.current': 1802, 'allocation.large_pool.freed': 92112200, 'allocation.large_pool.peak': 2303, 'allocation.small_pool.allocated': 57505066, 'allocation.small_pool.current': 6062, 'allocation.small_pool.freed': 57499004, 'allocation.small_pool.peak': 6640, 'inactive_split.all.allocated': 66729391, 'inactive_split.all.current': 536, 'inactive_split.all.freed': 66728855, 'inactive_split.all.peak': 801, 'inactive_split.large_pool.allocated': 49107600, 'inactive_split.large_pool.current': 404, 'inactive_split.large_pool.freed': 49107196, 'inactive_split.large_pool.peak': 515, 'inactive_split.small_pool.allocated': 17621791, 'inactive_split.small_pool.current': 132, 'inactive_split.small_pool.freed': 17621659, 'inactive_split.small_pool.peak': 288, 'inactive_split_bytes.all.allocated': 1301789704720384, 'inactive_split_bytes.all.current': 546262016, 'inactive_split_bytes.all.freed': 1301789158458368, 'inactive_split_bytes.all.peak': 2412608000, 'inactive_split_bytes.large_pool.allocated': 1293710660883456, 'inactive_split_bytes.large_pool.current': 544643072, 'inactive_split_bytes.large_pool.freed': 1293710116240384, 'inactive_split_bytes.large_pool.peak': 2394946560, 'inactive_split_bytes.small_pool.allocated': 8079043836928, 'inactive_split_bytes.small_pool.current': 1618944, 'inactive_split_bytes.small_pool.freed': 8079042217984, 'inactive_split_bytes.small_pool.peak': 37798912, 'max_split_size': -1, 'num_alloc_retries': 0, 'num_device_alloc': 2484, 'num_device_free': 1389, 'num_ooms': 0, 'num_sync_all_streams': 18, 'oversize_allocations.allocated': 0, 'oversize_allocations.current': 0, 'oversize_allocations.freed': 0, 'oversize_allocations.peak': 0, 'oversize_segments.allocated': 0, 'oversize_segments.current': 0, 'oversize_segments.freed': 0, 'oversize_segments.peak': 0, 'requested_bytes.all.allocated': 2293431682503448, 'requested_bytes.all.current': 23684098616, 'requested_bytes.all.freed': 2293407998404832, 'requested_bytes.all.peak': 36809640564, 'requested_bytes.large_pool.allocated': 2286204120337600, 'requested_bytes.large_pool.current': 23480330240, 'requested_bytes.large_pool.freed': 2286180640007360, 'requested_bytes.large_pool.peak': 36574423040, 'requested_bytes.small_pool.allocated': 7227562165848, 'requested_bytes.small_pool.current': 203768376, 'requested_bytes.small_pool.freed': 7227358397472, 'requested_bytes.small_pool.peak': 236284516, 'reserved_bytes.all.allocated': 142430175232, 'reserved_bytes.all.current': 24853348352, 'reserved_bytes.all.freed': 117576826880, 'reserved_bytes.all.peak': 39564869632, 'reserved_bytes.large_pool.allocated': 141966704640, 'reserved_bytes.large_pool.current': 24647827456, 'reserved_bytes.large_pool.freed': 117318877184, 'reserved_bytes.large_pool.peak': 39325794304, 'reserved_bytes.small_pool.allocated': 463470592, 'reserved_bytes.small_pool.current': 205520896, 'reserved_bytes.small_pool.freed': 257949696, 'reserved_bytes.small_pool.peak': 239075328, 'segment.all.allocated': 2484, 'segment.all.current': 1095, 'segment.all.freed': 1389, 'segment.all.peak': 1270, 'segment.large_pool.allocated': 2263, 'segment.large_pool.current': 997, 'segment.large_pool.freed': 1266, 'segment.large_pool.peak': 1156, 'segment.small_pool.allocated': 221, 'segment.small_pool.current': 98, 'segment.small_pool.freed': 123, 'segment.small_pool.peak': 114})\n"
     ]
    },
    {
     "name": "stderr",
     "output_type": "stream",
     "text": [
      "Some weights of EsmModel were not initialized from the model checkpoint at facebook/esm2_t33_650M_UR50D and are newly initialized: ['esm.pooler.dense.bias', 'esm.pooler.dense.weight']\n",
      "You should probably TRAIN this model on a down-stream task to be able to use it for predictions and inference.\n",
      "/home/kaustubh/miniforge3/envs/lora_esm/lib/python3.13/site-packages/torch/nn/parallel/_functions.py:70: UserWarning: Was asked to gather along dimension 0, but all input tensors were scalars; will instead unsqueeze and return a vector.\n",
      "  warnings.warn(\n"
     ]
    },
    {
     "data": {
      "text/html": [
       "\n",
       "    <div>\n",
       "      \n",
       "      <progress value='2845' max='2845' style='width:300px; height:20px; vertical-align: middle;'></progress>\n",
       "      [2845/2845 34:59, Epoch 5/5]\n",
       "    </div>\n",
       "    <table border=\"1\" class=\"dataframe\">\n",
       "  <thead>\n",
       " <tr style=\"text-align: left;\">\n",
       "      <th>Epoch</th>\n",
       "      <th>Training Loss</th>\n",
       "      <th>Validation Loss</th>\n",
       "      <th>Accuracy</th>\n",
       "    </tr>\n",
       "  </thead>\n",
       "  <tbody>\n",
       "    <tr>\n",
       "      <td>1</td>\n",
       "      <td>0.144200</td>\n",
       "      <td>0.319624</td>\n",
       "      <td>0.959723</td>\n",
       "    </tr>\n",
       "    <tr>\n",
       "      <td>2</td>\n",
       "      <td>0.208400</td>\n",
       "      <td>0.170412</td>\n",
       "      <td>0.986236</td>\n",
       "    </tr>\n",
       "    <tr>\n",
       "      <td>3</td>\n",
       "      <td>0.060100</td>\n",
       "      <td>0.182417</td>\n",
       "      <td>0.989562</td>\n",
       "    </tr>\n",
       "    <tr>\n",
       "      <td>4</td>\n",
       "      <td>0.095300</td>\n",
       "      <td>0.107225</td>\n",
       "      <td>0.994718</td>\n",
       "    </tr>\n",
       "    <tr>\n",
       "      <td>5</td>\n",
       "      <td>0.130500</td>\n",
       "      <td>0.110096</td>\n",
       "      <td>0.995175</td>\n",
       "    </tr>\n",
       "  </tbody>\n",
       "</table><p>"
      ],
      "text/plain": [
       "<IPython.core.display.HTML object>"
      ]
     },
     "metadata": {},
     "output_type": "display_data"
    },
    {
     "name": "stderr",
     "output_type": "stream",
     "text": [
      "/home/kaustubh/miniforge3/envs/lora_esm/lib/python3.13/site-packages/peft/utils/save_and_load.py:246: UserWarning: Could not find a config file in  - will assume that the vocabulary was not modified.\n",
      "  warnings.warn(\n",
      "/home/kaustubh/miniforge3/envs/lora_esm/lib/python3.13/site-packages/torch/nn/parallel/_functions.py:70: UserWarning: Was asked to gather along dimension 0, but all input tensors were scalars; will instead unsqueeze and return a vector.\n",
      "  warnings.warn(\n",
      "/home/kaustubh/miniforge3/envs/lora_esm/lib/python3.13/site-packages/peft/utils/save_and_load.py:246: UserWarning: Could not find a config file in  - will assume that the vocabulary was not modified.\n",
      "  warnings.warn(\n",
      "/home/kaustubh/miniforge3/envs/lora_esm/lib/python3.13/site-packages/torch/nn/parallel/_functions.py:70: UserWarning: Was asked to gather along dimension 0, but all input tensors were scalars; will instead unsqueeze and return a vector.\n",
      "  warnings.warn(\n",
      "/home/kaustubh/miniforge3/envs/lora_esm/lib/python3.13/site-packages/peft/utils/save_and_load.py:246: UserWarning: Could not find a config file in  - will assume that the vocabulary was not modified.\n",
      "  warnings.warn(\n",
      "/home/kaustubh/miniforge3/envs/lora_esm/lib/python3.13/site-packages/torch/nn/parallel/_functions.py:70: UserWarning: Was asked to gather along dimension 0, but all input tensors were scalars; will instead unsqueeze and return a vector.\n",
      "  warnings.warn(\n",
      "/home/kaustubh/miniforge3/envs/lora_esm/lib/python3.13/site-packages/peft/utils/save_and_load.py:246: UserWarning: Could not find a config file in  - will assume that the vocabulary was not modified.\n",
      "  warnings.warn(\n",
      "/home/kaustubh/miniforge3/envs/lora_esm/lib/python3.13/site-packages/torch/nn/parallel/_functions.py:70: UserWarning: Was asked to gather along dimension 0, but all input tensors were scalars; will instead unsqueeze and return a vector.\n",
      "  warnings.warn(\n",
      "/home/kaustubh/miniforge3/envs/lora_esm/lib/python3.13/site-packages/peft/utils/save_and_load.py:246: UserWarning: Could not find a config file in  - will assume that the vocabulary was not modified.\n",
      "  warnings.warn(\n",
      "/home/kaustubh/miniforge3/envs/lora_esm/lib/python3.13/site-packages/torch/nn/parallel/_functions.py:70: UserWarning: Was asked to gather along dimension 0, but all input tensors were scalars; will instead unsqueeze and return a vector.\n",
      "  warnings.warn(\n",
      "/home/kaustubh/miniforge3/envs/lora_esm/lib/python3.13/site-packages/peft/utils/save_and_load.py:246: UserWarning: Could not find a config file in  - will assume that the vocabulary was not modified.\n",
      "  warnings.warn(\n"
     ]
    },
    {
     "name": "stdout",
     "output_type": "stream",
     "text": [
      "trainer: <transformers.trainer.Trainer object at 0x7fb44b622900>\n",
      "Best current Metric: 0.9951748482616756\n",
      "Best trial metric: 0.996622393783173\n",
      "Trial 10/10\n",
      "learning_rate:  0.000901\n",
      "OrderedDict({'active.all.allocated': 168321355, 'active.all.current': 8634, 'active.all.freed': 168312721, 'active.all.peak': 9613, 'active.large_pool.allocated': 103628227, 'active.large_pool.current': 2002, 'active.large_pool.freed': 103626225, 'active.large_pool.peak': 2503, 'active.small_pool.allocated': 64693128, 'active.small_pool.current': 6632, 'active.small_pool.freed': 64686496, 'active.small_pool.peak': 7210, 'active_bytes.all.allocated': 2580648204130304, 'active_bytes.all.current': 27001960448, 'active_bytes.all.freed': 2580621202169856, 'active_bytes.all.peak': 40127506432, 'active_bytes.large_pool.allocated': 2572508222420992, 'active_bytes.large_pool.current': 26779422720, 'active_bytes.large_pool.freed': 2572481442998272, 'active_bytes.large_pool.peak': 39873515520, 'active_bytes.small_pool.allocated': 8139981709312, 'active_bytes.small_pool.current': 222537728, 'active_bytes.small_pool.freed': 8139759171584, 'active_bytes.small_pool.peak': 255055872, 'allocated_bytes.all.allocated': 2580648204130304, 'allocated_bytes.all.current': 27001960448, 'allocated_bytes.all.freed': 2580621202169856, 'allocated_bytes.all.peak': 40127506432, 'allocated_bytes.large_pool.allocated': 2572508222420992, 'allocated_bytes.large_pool.current': 26779422720, 'allocated_bytes.large_pool.freed': 2572481442998272, 'allocated_bytes.large_pool.peak': 39873515520, 'allocated_bytes.small_pool.allocated': 8139981709312, 'allocated_bytes.small_pool.current': 222537728, 'allocated_bytes.small_pool.freed': 8139759171584, 'allocated_bytes.small_pool.peak': 255055872, 'allocation.all.allocated': 168321355, 'allocation.all.current': 8634, 'allocation.all.freed': 168312721, 'allocation.all.peak': 9613, 'allocation.large_pool.allocated': 103628227, 'allocation.large_pool.current': 2002, 'allocation.large_pool.freed': 103626225, 'allocation.large_pool.peak': 2503, 'allocation.small_pool.allocated': 64693128, 'allocation.small_pool.current': 6632, 'allocation.small_pool.freed': 64686496, 'allocation.small_pool.peak': 7210, 'inactive_split.all.allocated': 75269575, 'inactive_split.all.current': 593, 'inactive_split.all.freed': 75268982, 'inactive_split.all.peak': 864, 'inactive_split.large_pool.allocated': 55324573, 'inactive_split.large_pool.current': 449, 'inactive_split.large_pool.freed': 55324124, 'inactive_split.large_pool.peak': 559, 'inactive_split.small_pool.allocated': 19945002, 'inactive_split.small_pool.current': 144, 'inactive_split.small_pool.freed': 19944858, 'inactive_split.small_pool.peak': 305, 'inactive_split_bytes.all.allocated': 1464231751584768, 'inactive_split_bytes.all.current': 613337088, 'inactive_split_bytes.all.freed': 1464231138247680, 'inactive_split_bytes.all.peak': 2479683072, 'inactive_split_bytes.large_pool.allocated': 1455144032010240, 'inactive_split_bytes.large_pool.current': 611479552, 'inactive_split_bytes.large_pool.freed': 1455143420530688, 'inactive_split_bytes.large_pool.peak': 2461783040, 'inactive_split_bytes.small_pool.allocated': 9087719574528, 'inactive_split_bytes.small_pool.current': 1857536, 'inactive_split_bytes.small_pool.freed': 9087717716992, 'inactive_split_bytes.small_pool.peak': 38037504, 'max_split_size': -1, 'num_alloc_retries': 0, 'num_device_alloc': 2777, 'num_device_free': 1562, 'num_ooms': 0, 'num_sync_all_streams': 20, 'oversize_allocations.allocated': 0, 'oversize_allocations.current': 0, 'oversize_allocations.freed': 0, 'oversize_allocations.peak': 0, 'oversize_segments.allocated': 0, 'oversize_segments.current': 0, 'oversize_segments.freed': 0, 'oversize_segments.peak': 0, 'requested_bytes.all.allocated': 2580110312479774, 'requested_bytes.all.current': 26309752096, 'requested_bytes.all.freed': 2580084002727678, 'requested_bytes.all.peak': 39435294044, 'requested_bytes.large_pool.allocated': 2571979307370840, 'requested_bytes.large_pool.current': 26087362560, 'requested_bytes.large_pool.freed': 2571953220008280, 'requested_bytes.large_pool.peak': 39181455360, 'requested_bytes.small_pool.allocated': 8131005108934, 'requested_bytes.small_pool.current': 222389536, 'requested_bytes.small_pool.freed': 8130782719398, 'requested_bytes.small_pool.peak': 254905676, 'reserved_bytes.all.allocated': 159891062784, 'reserved_bytes.all.current': 27615297536, 'reserved_bytes.all.freed': 132275765248, 'reserved_bytes.all.peak': 42314235904, 'reserved_bytes.large_pool.allocated': 159377260544, 'reserved_bytes.large_pool.current': 27390902272, 'reserved_bytes.large_pool.freed': 131986358272, 'reserved_bytes.large_pool.peak': 42058383360, 'reserved_bytes.small_pool.allocated': 513802240, 'reserved_bytes.small_pool.current': 224395264, 'reserved_bytes.small_pool.freed': 289406976, 'reserved_bytes.small_pool.peak': 255852544, 'segment.all.allocated': 2777, 'segment.all.current': 1215, 'segment.all.freed': 1562, 'segment.all.peak': 1388, 'segment.large_pool.allocated': 2532, 'segment.large_pool.current': 1108, 'segment.large_pool.freed': 1424, 'segment.large_pool.peak': 1266, 'segment.small_pool.allocated': 245, 'segment.small_pool.current': 107, 'segment.small_pool.freed': 138, 'segment.small_pool.peak': 122})\n"
     ]
    },
    {
     "name": "stderr",
     "output_type": "stream",
     "text": [
      "Some weights of EsmModel were not initialized from the model checkpoint at facebook/esm2_t33_650M_UR50D and are newly initialized: ['esm.pooler.dense.bias', 'esm.pooler.dense.weight']\n",
      "You should probably TRAIN this model on a down-stream task to be able to use it for predictions and inference.\n",
      "/home/kaustubh/miniforge3/envs/lora_esm/lib/python3.13/site-packages/torch/nn/parallel/_functions.py:70: UserWarning: Was asked to gather along dimension 0, but all input tensors were scalars; will instead unsqueeze and return a vector.\n",
      "  warnings.warn(\n"
     ]
    },
    {
     "data": {
      "text/html": [
       "\n",
       "    <div>\n",
       "      \n",
       "      <progress value='2845' max='2845' style='width:300px; height:20px; vertical-align: middle;'></progress>\n",
       "      [2845/2845 35:03, Epoch 5/5]\n",
       "    </div>\n",
       "    <table border=\"1\" class=\"dataframe\">\n",
       "  <thead>\n",
       " <tr style=\"text-align: left;\">\n",
       "      <th>Epoch</th>\n",
       "      <th>Training Loss</th>\n",
       "      <th>Validation Loss</th>\n",
       "      <th>Accuracy</th>\n",
       "    </tr>\n",
       "  </thead>\n",
       "  <tbody>\n",
       "    <tr>\n",
       "      <td>1</td>\n",
       "      <td>0.173900</td>\n",
       "      <td>0.300386</td>\n",
       "      <td>0.968802</td>\n",
       "    </tr>\n",
       "    <tr>\n",
       "      <td>2</td>\n",
       "      <td>0.203800</td>\n",
       "      <td>0.179314</td>\n",
       "      <td>0.981537</td>\n",
       "    </tr>\n",
       "    <tr>\n",
       "      <td>3</td>\n",
       "      <td>0.047900</td>\n",
       "      <td>0.153933</td>\n",
       "      <td>0.991696</td>\n",
       "    </tr>\n",
       "    <tr>\n",
       "      <td>4</td>\n",
       "      <td>0.080400</td>\n",
       "      <td>0.091566</td>\n",
       "      <td>0.995632</td>\n",
       "    </tr>\n",
       "    <tr>\n",
       "      <td>5</td>\n",
       "      <td>0.058500</td>\n",
       "      <td>0.096218</td>\n",
       "      <td>0.995632</td>\n",
       "    </tr>\n",
       "  </tbody>\n",
       "</table><p>"
      ],
      "text/plain": [
       "<IPython.core.display.HTML object>"
      ]
     },
     "metadata": {},
     "output_type": "display_data"
    },
    {
     "name": "stderr",
     "output_type": "stream",
     "text": [
      "/home/kaustubh/miniforge3/envs/lora_esm/lib/python3.13/site-packages/peft/utils/save_and_load.py:246: UserWarning: Could not find a config file in  - will assume that the vocabulary was not modified.\n",
      "  warnings.warn(\n",
      "/home/kaustubh/miniforge3/envs/lora_esm/lib/python3.13/site-packages/torch/nn/parallel/_functions.py:70: UserWarning: Was asked to gather along dimension 0, but all input tensors were scalars; will instead unsqueeze and return a vector.\n",
      "  warnings.warn(\n",
      "/home/kaustubh/miniforge3/envs/lora_esm/lib/python3.13/site-packages/peft/utils/save_and_load.py:246: UserWarning: Could not find a config file in  - will assume that the vocabulary was not modified.\n",
      "  warnings.warn(\n",
      "/home/kaustubh/miniforge3/envs/lora_esm/lib/python3.13/site-packages/torch/nn/parallel/_functions.py:70: UserWarning: Was asked to gather along dimension 0, but all input tensors were scalars; will instead unsqueeze and return a vector.\n",
      "  warnings.warn(\n",
      "/home/kaustubh/miniforge3/envs/lora_esm/lib/python3.13/site-packages/peft/utils/save_and_load.py:246: UserWarning: Could not find a config file in  - will assume that the vocabulary was not modified.\n",
      "  warnings.warn(\n",
      "/home/kaustubh/miniforge3/envs/lora_esm/lib/python3.13/site-packages/torch/nn/parallel/_functions.py:70: UserWarning: Was asked to gather along dimension 0, but all input tensors were scalars; will instead unsqueeze and return a vector.\n",
      "  warnings.warn(\n",
      "/home/kaustubh/miniforge3/envs/lora_esm/lib/python3.13/site-packages/peft/utils/save_and_load.py:246: UserWarning: Could not find a config file in  - will assume that the vocabulary was not modified.\n",
      "  warnings.warn(\n",
      "/home/kaustubh/miniforge3/envs/lora_esm/lib/python3.13/site-packages/torch/nn/parallel/_functions.py:70: UserWarning: Was asked to gather along dimension 0, but all input tensors were scalars; will instead unsqueeze and return a vector.\n",
      "  warnings.warn(\n",
      "/home/kaustubh/miniforge3/envs/lora_esm/lib/python3.13/site-packages/peft/utils/save_and_load.py:246: UserWarning: Could not find a config file in  - will assume that the vocabulary was not modified.\n",
      "  warnings.warn(\n",
      "/home/kaustubh/miniforge3/envs/lora_esm/lib/python3.13/site-packages/torch/nn/parallel/_functions.py:70: UserWarning: Was asked to gather along dimension 0, but all input tensors were scalars; will instead unsqueeze and return a vector.\n",
      "  warnings.warn(\n",
      "/home/kaustubh/miniforge3/envs/lora_esm/lib/python3.13/site-packages/peft/utils/save_and_load.py:246: UserWarning: Could not find a config file in  - will assume that the vocabulary was not modified.\n",
      "  warnings.warn(\n"
     ]
    },
    {
     "name": "stdout",
     "output_type": "stream",
     "text": [
      "trainer: <transformers.trainer.Trainer object at 0x7fb44b622900>\n",
      "Best current Metric: 0.9956319679000432\n",
      "Best trial metric: 0.996622393783173\n",
      "Best Trial: {'learning_rate': 0.000406, 'per_device_train_batch_size': 2, 0.996622393783173: 0.996622393783173}\n",
      "OrderedDict({'active.all.allocated': 187023642, 'active.all.current': 9404, 'active.all.freed': 187014238, 'active.all.peak': 10383, 'active.large_pool.allocated': 115142452, 'active.large_pool.current': 2202, 'active.large_pool.freed': 115140250, 'active.large_pool.peak': 2703, 'active.small_pool.allocated': 71881190, 'active.small_pool.current': 7202, 'active.small_pool.freed': 71873988, 'active.small_pool.peak': 7780, 'active_bytes.all.allocated': 2867444494961664, 'active_bytes.all.current': 29696834560, 'active_bytes.all.freed': 2867414798127104, 'active_bytes.all.peak': 42822380544, 'active_bytes.large_pool.allocated': 2858400072910848, 'active_bytes.large_pool.current': 29455661056, 'active_bytes.large_pool.freed': 2858370617249792, 'active_bytes.large_pool.peak': 42549753856, 'active_bytes.small_pool.allocated': 9044422050816, 'active_bytes.small_pool.current': 241173504, 'active_bytes.small_pool.freed': 9044180877312, 'active_bytes.small_pool.peak': 273691648, 'allocated_bytes.all.allocated': 2867444494961664, 'allocated_bytes.all.current': 29696834560, 'allocated_bytes.all.freed': 2867414798127104, 'allocated_bytes.all.peak': 42822380544, 'allocated_bytes.large_pool.allocated': 2858400072910848, 'allocated_bytes.large_pool.current': 29455661056, 'allocated_bytes.large_pool.freed': 2858370617249792, 'allocated_bytes.large_pool.peak': 42549753856, 'allocated_bytes.small_pool.allocated': 9044422050816, 'allocated_bytes.small_pool.current': 241173504, 'allocated_bytes.small_pool.freed': 9044180877312, 'allocated_bytes.small_pool.peak': 273691648, 'allocation.all.allocated': 187023642, 'allocation.all.current': 9404, 'allocation.all.freed': 187014238, 'allocation.all.peak': 10383, 'allocation.large_pool.allocated': 115142452, 'allocation.large_pool.current': 2202, 'allocation.large_pool.freed': 115140250, 'allocation.large_pool.peak': 2703, 'allocation.small_pool.allocated': 71881190, 'allocation.small_pool.current': 7202, 'allocation.small_pool.freed': 71873988, 'allocation.small_pool.peak': 7780, 'inactive_split.all.allocated': 83450461, 'inactive_split.all.current': 648, 'inactive_split.all.freed': 83449813, 'inactive_split.all.peak': 919, 'inactive_split.large_pool.allocated': 61356522, 'inactive_split.large_pool.current': 494, 'inactive_split.large_pool.freed': 61356028, 'inactive_split.large_pool.peak': 605, 'inactive_split.small_pool.allocated': 22093939, 'inactive_split.small_pool.current': 154, 'inactive_split.small_pool.freed': 22093785, 'inactive_split.small_pool.peak': 314, 'inactive_split_bytes.all.allocated': 1627440328704000, 'inactive_split_bytes.all.current': 680412160, 'inactive_split_bytes.all.freed': 1627439648291840, 'inactive_split_bytes.all.peak': 2546758144, 'inactive_split_bytes.large_pool.allocated': 1617333350380544, 'inactive_split_bytes.large_pool.current': 678316032, 'inactive_split_bytes.large_pool.freed': 1617332672064512, 'inactive_split_bytes.large_pool.peak': 2528481280, 'inactive_split_bytes.small_pool.allocated': 10106978323456, 'inactive_split_bytes.small_pool.current': 2096128, 'inactive_split_bytes.small_pool.freed': 10106976227328, 'inactive_split_bytes.small_pool.peak': 38276096, 'max_split_size': -1, 'num_alloc_retries': 0, 'num_device_alloc': 3070, 'num_device_free': 1735, 'num_ooms': 0, 'num_sync_all_streams': 22, 'oversize_allocations.allocated': 0, 'oversize_allocations.current': 0, 'oversize_allocations.freed': 0, 'oversize_allocations.peak': 0, 'oversize_segments.allocated': 0, 'oversize_segments.current': 0, 'oversize_segments.freed': 0, 'oversize_segments.peak': 0, 'requested_bytes.all.allocated': 2866788942456100, 'requested_bytes.all.current': 28935405576, 'requested_bytes.all.freed': 2866760007050524, 'requested_bytes.all.peak': 42060947524, 'requested_bytes.large_pool.allocated': 2857754494404080, 'requested_bytes.large_pool.current': 28694394880, 'requested_bytes.large_pool.freed': 2857725800009200, 'requested_bytes.large_pool.peak': 41788487680, 'requested_bytes.small_pool.allocated': 9034448052020, 'requested_bytes.small_pool.current': 241010696, 'requested_bytes.small_pool.freed': 9034207041324, 'requested_bytes.small_pool.peak': 273526836, 'reserved_bytes.all.allocated': 177345658880, 'reserved_bytes.all.current': 30377246720, 'reserved_bytes.all.freed': 146968412160, 'reserved_bytes.all.peak': 45069893632, 'reserved_bytes.large_pool.allocated': 176781524992, 'reserved_bytes.large_pool.current': 30133977088, 'reserved_bytes.large_pool.freed': 146647547904, 'reserved_bytes.large_pool.peak': 44795166720, 'reserved_bytes.small_pool.allocated': 564133888, 'reserved_bytes.small_pool.current': 243269632, 'reserved_bytes.small_pool.freed': 320864256, 'reserved_bytes.small_pool.peak': 274726912, 'segment.all.allocated': 3070, 'segment.all.current': 1335, 'segment.all.freed': 1735, 'segment.all.peak': 1508, 'segment.large_pool.allocated': 2801, 'segment.large_pool.current': 1219, 'segment.large_pool.freed': 1582, 'segment.large_pool.peak': 1377, 'segment.small_pool.allocated': 269, 'segment.small_pool.current': 116, 'segment.small_pool.freed': 153, 'segment.small_pool.peak': 131})\n"
     ]
    },
    {
     "name": "stderr",
     "output_type": "stream",
     "text": [
      "Some weights of EsmModel were not initialized from the model checkpoint at facebook/esm2_t33_650M_UR50D and are newly initialized: ['esm.pooler.dense.bias', 'esm.pooler.dense.weight']\n",
      "You should probably TRAIN this model on a down-stream task to be able to use it for predictions and inference.\n",
      "Detected kernel version 5.4.0, which is below the recommended minimum of 5.5.0; this can cause the process to hang. It is recommended to upgrade the kernel to the minimum version or higher.\n",
      "/home/kaustubh/miniforge3/envs/lora_esm/lib/python3.13/site-packages/torch/nn/parallel/_functions.py:70: UserWarning: Was asked to gather along dimension 0, but all input tensors were scalars; will instead unsqueeze and return a vector.\n",
      "  warnings.warn(\n"
     ]
    },
    {
     "data": {
      "text/html": [
       "\n",
       "    <div>\n",
       "      \n",
       "      <progress value='2845' max='2845' style='width:300px; height:20px; vertical-align: middle;'></progress>\n",
       "      [2845/2845 34:59, Epoch 5/5]\n",
       "    </div>\n",
       "    <table border=\"1\" class=\"dataframe\">\n",
       "  <thead>\n",
       " <tr style=\"text-align: left;\">\n",
       "      <th>Epoch</th>\n",
       "      <th>Training Loss</th>\n",
       "      <th>Validation Loss</th>\n",
       "      <th>Accuracy</th>\n",
       "    </tr>\n",
       "  </thead>\n",
       "  <tbody>\n",
       "    <tr>\n",
       "      <td>1</td>\n",
       "      <td>0.145700</td>\n",
       "      <td>0.410185</td>\n",
       "      <td>0.949031</td>\n",
       "    </tr>\n",
       "    <tr>\n",
       "      <td>2</td>\n",
       "      <td>0.127500</td>\n",
       "      <td>0.174425</td>\n",
       "      <td>0.988496</td>\n",
       "    </tr>\n",
       "    <tr>\n",
       "      <td>3</td>\n",
       "      <td>0.102300</td>\n",
       "      <td>0.185568</td>\n",
       "      <td>0.991315</td>\n",
       "    </tr>\n",
       "    <tr>\n",
       "      <td>4</td>\n",
       "      <td>0.076700</td>\n",
       "      <td>0.117152</td>\n",
       "      <td>0.995759</td>\n",
       "    </tr>\n",
       "    <tr>\n",
       "      <td>5</td>\n",
       "      <td>0.096000</td>\n",
       "      <td>0.110293</td>\n",
       "      <td>0.996622</td>\n",
       "    </tr>\n",
       "  </tbody>\n",
       "</table><p>"
      ],
      "text/plain": [
       "<IPython.core.display.HTML object>"
      ]
     },
     "metadata": {},
     "output_type": "display_data"
    },
    {
     "name": "stderr",
     "output_type": "stream",
     "text": [
      "/home/kaustubh/miniforge3/envs/lora_esm/lib/python3.13/site-packages/peft/utils/save_and_load.py:246: UserWarning: Could not find a config file in  - will assume that the vocabulary was not modified.\n",
      "  warnings.warn(\n",
      "/home/kaustubh/miniforge3/envs/lora_esm/lib/python3.13/site-packages/torch/nn/parallel/_functions.py:70: UserWarning: Was asked to gather along dimension 0, but all input tensors were scalars; will instead unsqueeze and return a vector.\n",
      "  warnings.warn(\n",
      "/home/kaustubh/miniforge3/envs/lora_esm/lib/python3.13/site-packages/peft/utils/save_and_load.py:246: UserWarning: Could not find a config file in  - will assume that the vocabulary was not modified.\n",
      "  warnings.warn(\n",
      "/home/kaustubh/miniforge3/envs/lora_esm/lib/python3.13/site-packages/torch/nn/parallel/_functions.py:70: UserWarning: Was asked to gather along dimension 0, but all input tensors were scalars; will instead unsqueeze and return a vector.\n",
      "  warnings.warn(\n",
      "/home/kaustubh/miniforge3/envs/lora_esm/lib/python3.13/site-packages/peft/utils/save_and_load.py:246: UserWarning: Could not find a config file in  - will assume that the vocabulary was not modified.\n",
      "  warnings.warn(\n",
      "/home/kaustubh/miniforge3/envs/lora_esm/lib/python3.13/site-packages/torch/nn/parallel/_functions.py:70: UserWarning: Was asked to gather along dimension 0, but all input tensors were scalars; will instead unsqueeze and return a vector.\n",
      "  warnings.warn(\n",
      "/home/kaustubh/miniforge3/envs/lora_esm/lib/python3.13/site-packages/peft/utils/save_and_load.py:246: UserWarning: Could not find a config file in  - will assume that the vocabulary was not modified.\n",
      "  warnings.warn(\n",
      "/home/kaustubh/miniforge3/envs/lora_esm/lib/python3.13/site-packages/torch/nn/parallel/_functions.py:70: UserWarning: Was asked to gather along dimension 0, but all input tensors were scalars; will instead unsqueeze and return a vector.\n",
      "  warnings.warn(\n",
      "/home/kaustubh/miniforge3/envs/lora_esm/lib/python3.13/site-packages/peft/utils/save_and_load.py:246: UserWarning: Could not find a config file in  - will assume that the vocabulary was not modified.\n",
      "  warnings.warn(\n",
      "/home/kaustubh/miniforge3/envs/lora_esm/lib/python3.13/site-packages/torch/nn/parallel/_functions.py:70: UserWarning: Was asked to gather along dimension 0, but all input tensors were scalars; will instead unsqueeze and return a vector.\n",
      "  warnings.warn(\n",
      "/home/kaustubh/miniforge3/envs/lora_esm/lib/python3.13/site-packages/peft/utils/save_and_load.py:246: UserWarning: Could not find a config file in  - will assume that the vocabulary was not modified.\n",
      "  warnings.warn(\n",
      "/home/kaustubh/miniforge3/envs/lora_esm/lib/python3.13/site-packages/peft/utils/save_and_load.py:246: UserWarning: Could not find a config file in  - will assume that the vocabulary was not modified.\n",
      "  warnings.warn(\n"
     ]
    }
   ],
   "source": [
    "train_protein_model()"
   ]
  },
  {
   "cell_type": "markdown",
   "metadata": {},
   "source": [
    "## Gathering the exact data used for training & testing"
   ]
  },
  {
   "cell_type": "code",
   "execution_count": null,
   "metadata": {},
   "outputs": [],
   "source": [
    "large_dataset = pd.read_pickle('/home/kaustubh/RuBisCO_ML/ESM_LoRA/data/large_assay_dataset_wco2_wiptg_bimodal_activity_threshold.pkl')\n",
    "large_dataset = large_dataset[[\"LSU_id\", \"SSU_id\", \"lsu_seq\", \"ssu_seq\", \"activity_binary\"]]\n",
    "\n",
    "mutant_dataset = pd.read_pickle(\"/home/kaustubh/RuBisCO_ML/ESM_LoRA/data/form_III_IB_anc_variants_binary_activity_only_wrt_inactive_variant.pkl\")\n",
    "mutant_dataset.rename(columns={\"activity_binary_wrt_inactive_Anc\": \"activity_binary\"}, inplace=True)\n",
    "\n",
    "combined_dataset = pd.concat([large_dataset, mutant_dataset], ignore_index=True)\n",
    "combined_dataset = combined_dataset[combined_dataset['LSU_id'] != \"SUMO\"]\n",
    "combined_dataset = combined_dataset[combined_dataset['LSU_id'] != \"DEAD\"]\n",
    "combined_dataset['LSU_SSU_id'] = combined_dataset.apply(lambda x: x['LSU_id'] + \"-\" + x['SSU_id'] if pd.notna(x['SSU_id']) else x['LSU_id'] + \"-none\", axis=1)\n",
    "combined_dataset['LSU_SSU_seq'] = combined_dataset.apply(lambda x: x['lsu_seq'] + x['ssu_seq'] if pd.notna(x['ssu_seq']) else x['lsu_seq'], axis=1)\n",
    "\n",
    "sequences = combined_dataset['LSU_SSU_seq'].to_list()\n",
    "binary_activity = combined_dataset['activity_binary'].to_list()\n",
    "lsu_ssu_ids = combined_dataset['LSU_SSU_id'].to_list()"
   ]
  },
  {
   "cell_type": "code",
   "execution_count": 9,
   "metadata": {},
   "outputs": [
    {
     "name": "stderr",
     "output_type": "stream",
     "text": [
      "Detected kernel version 5.4.0, which is below the recommended minimum of 5.5.0; this can cause the process to hang. It is recommended to upgrade the kernel to the minimum version or higher.\n"
     ]
    }
   ],
   "source": [
    "accelerator = Accelerator()\n",
    "\n",
    "tokenizer = AutoTokenizer.from_pretrained(\"facebook/esm2_t6_8M_UR50D\")\n",
    "\n",
    "class ProteinDataset(Dataset):\n",
    "    def __init__(self, sequences, binary_activity, tokenizer, max_length=512):\n",
    "        self.sequences = sequences\n",
    "        self.binary_activity = binary_activity\n",
    "        self.tokenizer = tokenizer\n",
    "        self.max_length = max_length\n",
    "\n",
    "    def __len__(self):\n",
    "        return len(self.sequences)\n",
    "\n",
    "    def __getitem__(self, idx):\n",
    "        sequence = self.sequences[idx][:self.max_length]\n",
    "        binding_site = self.binary_activity[idx]\n",
    "        encoding = self.tokenizer(sequence, truncation=True, padding='max_length', max_length=self.max_length)\n",
    "        encoding['labels'] = binding_site # + [-100] * (self.max_length - len(binding_site))  # Ignore extra padding tokens\n",
    "        return encoding\n",
    "\n",
    "dataset = ProteinDataset(sequences, binary_activity, tokenizer)\n",
    "train_size = int(0.85 * len(dataset))\n",
    "val_size = len(dataset) - train_size\n",
    "train_dataset, val_dataset = random_split(dataset, [train_size, val_size], generator=torch.Generator().manual_seed(42))\n",
    "train_dataset, val_dataset = accelerator.prepare(train_dataset, val_dataset)\n",
    "\n",
    "# Extract back the sequences and their binding sites info for the entries in the train_dataset & val_dataset\n",
    "train_sequences = [sequences[i] for i in train_dataset.indices]\n",
    "train_binary_activity = [binary_activity[i] for i in train_dataset.indices]\n",
    "\n",
    "val_sequences = [sequences[i] for i in val_dataset.indices]\n",
    "val_binary_activity = [binary_activity[i] for i in val_dataset.indices]"
   ]
  },
  {
   "cell_type": "code",
   "execution_count": 10,
   "metadata": {},
   "outputs": [
    {
     "data": {
      "text/plain": [
       "(2451, 433)"
      ]
     },
     "execution_count": 10,
     "metadata": {},
     "output_type": "execute_result"
    }
   ],
   "source": [
    "len(train_sequences), len(val_sequences)"
   ]
  },
  {
   "cell_type": "markdown",
   "metadata": {},
   "source": [
    "## Applying the finetuned model to the test set to visualize the results"
   ]
  },
  {
   "cell_type": "code",
   "execution_count": 5,
   "metadata": {},
   "outputs": [],
   "source": [
    "model_path = \"/home/kaustubh/RuBisCO_ML/ESM_LoRA/training_runs/esm2_t33_650M-finetuned-lora_2025-05-07_01-39-02\"\n",
    "base_model_path = \"facebook/esm2_t33_650M_UR50D\""
   ]
  },
  {
   "cell_type": "code",
   "execution_count": null,
   "metadata": {},
   "outputs": [],
   "source": [
    "# class CustomModel(EsmPreTrainedModel):\n",
    "#     def __init__(self):\n",
    "#         super().__init__(EsmConfig.from_pretrained(\"facebook/esm2_t33_650M_UR50D\"))\n",
    "#         self.backbone = EsmModel.from_pretrained(\"facebook/esm2_t33_650M_UR50D\")\n",
    "\n",
    "#         self.outputs = torch.nn.Linear(1280, 1)\n",
    "\n",
    "#     def forward(\n",
    "#         self,\n",
    "#         input_ids,\n",
    "#         attention_mask=None,\n",
    "#         token_type_ids=None,\n",
    "#         position_ids=None,\n",
    "#         labels=None,\n",
    "#         inputs_embeds=None,\n",
    "#         output_attentions=False,\n",
    "#         output_hidden_states=False,\n",
    "#         return_dict=True\n",
    "#     ):\n",
    "#         outputs = self.backbone(\n",
    "#             input_ids,\n",
    "#             inputs_embeds=inputs_embeds,\n",
    "#             output_attentions=output_attentions,\n",
    "#             output_hidden_states=output_hidden_states,\n",
    "#             return_dict=return_dict\n",
    "#         )\n",
    "\n",
    "#         sequence_output = outputs.last_hidden_state # (B, L, 1280)\n",
    "#         bos_emb = sequence_output[:,0] # (B, L, 1280) -> (B, 1280)\n",
    "#         # outputs = [self.outputs[i](sequence_output) for i in range(5)]\n",
    "#         pred = self.outputs(bos_emb).squeeze(1) # (B,)\n",
    "\n",
    "#         # if labels, then we are training\n",
    "#         loss = None\n",
    "#         if labels is not None:\n",
    "#             assert pred.shape == labels.shape, f\"{pred}, {labels}\"\n",
    "#             loss_fn = torch.nn.BCEWithLogitsLoss(reduction=\"mean\")\n",
    "#             loss = loss_fn(pred, labels.float())\n",
    "#             # loss = sum(losses)/len(losses)\n",
    "\n",
    "#         return {\n",
    "#             \"loss\": loss,\n",
    "#             \"last_hidden_state\": sequence_output,\n",
    "#             \"logits\": pred\n",
    "#         }\n",
    "\n",
    "#     def get_embedding(\n",
    "#         self,\n",
    "#         input_ids,\n",
    "#         attention_mask=None,\n",
    "#         token_type_ids=None,\n",
    "#         position_ids=None,\n",
    "#         labels=None,\n",
    "#         inputs_embeds=None,\n",
    "#         output_attentions=False,\n",
    "#         output_hidden_states=False,\n",
    "#         return_dict=True\n",
    "#     ):\n",
    "#         outputs = self.backbone(\n",
    "#             input_ids,\n",
    "#             inputs_embeds=inputs_embeds,\n",
    "#             output_attentions=output_attentions,\n",
    "#             output_hidden_states=output_hidden_states,\n",
    "#             return_dict=return_dict\n",
    "#         )\n",
    "\n",
    "#         return outputs"
   ]
  },
  {
   "cell_type": "code",
   "execution_count": 15,
   "metadata": {},
   "outputs": [],
   "source": [
    "class CustomModel(EsmPreTrainedModel):\n",
    "    def __init__(self, model=None):\n",
    "        print(torch.cuda.memory_stats())\n",
    "        super().__init__(EsmConfig.from_pretrained(\"facebook/esm2_t33_650M_UR50D\"))\n",
    "        self.backbone = EsmModel.from_pretrained(\"facebook/esm2_t33_650M_UR50D\")\n",
    "\n",
    "        self.outputs = torch.nn.Linear(1280, 1)\n",
    "\n",
    "    def forward(\n",
    "        self,\n",
    "        input_ids,\n",
    "        attention_mask=None,\n",
    "        token_type_ids=None,\n",
    "        position_ids=None,\n",
    "        labels=None,\n",
    "        inputs_embeds=None,\n",
    "        output_attentions=False,\n",
    "        output_hidden_states=False,\n",
    "        return_dict=True\n",
    "    ):\n",
    "        outputs = self.backbone(\n",
    "            input_ids,\n",
    "            inputs_embeds=inputs_embeds,\n",
    "            output_attentions=output_attentions,\n",
    "            output_hidden_states=output_hidden_states,\n",
    "            return_dict=return_dict\n",
    "        )\n",
    "\n",
    "        sequence_output = outputs.last_hidden_state # (B, L, 1280)\n",
    "\n",
    "        ## Following for getting the BOS token embedding\n",
    "        # bos_emb = sequence_output[:,0] # (B, L, 1280) -> (B, 1280)\n",
    "        # # outputs = [self.outputs[i](sequence_output) for i in range(5)]\n",
    "        # outputs = self.outputs(bos_emb).squeeze(1) # (B,)\n",
    "\n",
    "        ## Following for getting the mean of the sequence embeddings\n",
    "        mask_sum = attention_mask.sum(dim=1, keepdim=True).float()\n",
    "        mean_emb = (sequence_output * attention_mask.unsqueeze(-1)).sum(dim=1) / mask_sum\n",
    "        outputs = self.outputs(mean_emb).squeeze(1) # (B,)\n",
    "\n",
    "        # if labels, then we are training\n",
    "        loss = None\n",
    "        if labels is not None:\n",
    "            assert outputs.shape == labels.shape, f\"{outputs}, {labels}\"\n",
    "            loss_fn = torch.nn.BCEWithLogitsLoss(reduction=\"mean\")\n",
    "            loss = loss_fn(outputs, labels.float())\n",
    "            # loss = sum(losses)/len(losses)\n",
    "\n",
    "        return {\n",
    "            \"loss\": loss,\n",
    "            \"last_hidden_state\": sequence_output,\n",
    "            \"logits\": outputs\n",
    "        }\n",
    "\n",
    "    def get_embedding(\n",
    "        self,\n",
    "        input_ids,\n",
    "        attention_mask=None,\n",
    "        token_type_ids=None,\n",
    "        position_ids=None,\n",
    "        labels=None,\n",
    "        inputs_embeds=None,\n",
    "        output_attentions=False,\n",
    "        output_hidden_states=False,\n",
    "        return_dict=True\n",
    "    ):\n",
    "        outputs = self.backbone(\n",
    "            input_ids,\n",
    "            inputs_embeds=inputs_embeds,\n",
    "            output_attentions=output_attentions,\n",
    "            output_hidden_states=output_hidden_states,\n",
    "            return_dict=return_dict\n",
    "        )\n",
    "\n",
    "        return outputs"
   ]
  },
  {
   "cell_type": "code",
   "execution_count": null,
   "metadata": {},
   "outputs": [
    {
     "name": "stdout",
     "output_type": "stream",
     "text": [
      "OrderedDict({'active.all.allocated': 376097757, 'active.all.current': 2, 'active.all.freed': 376097755, 'active.all.peak': 12760, 'active.large_pool.allocated': 227432242, 'active.large_pool.current': 2, 'active.large_pool.freed': 227432240, 'active.large_pool.peak': 2903, 'active.small_pool.allocated': 148665515, 'active.small_pool.current': 0, 'active.small_pool.freed': 148665515, 'active.small_pool.peak': 10358, 'active_bytes.all.allocated': 6191673293955072, 'active_bytes.all.current': 17039360, 'active_bytes.all.freed': 6191673276915712, 'active_bytes.all.peak': 45727039488, 'active_bytes.large_pool.allocated': 6172497835046912, 'active_bytes.large_pool.current': 17039360, 'active_bytes.large_pool.freed': 6172497818007552, 'active_bytes.large_pool.peak': 45226637312, 'active_bytes.small_pool.allocated': 19175458908160, 'active_bytes.small_pool.current': 0, 'active_bytes.small_pool.freed': 19175458908160, 'active_bytes.small_pool.peak': 520622592, 'allocated_bytes.all.allocated': 6191673293955072, 'allocated_bytes.all.current': 17039360, 'allocated_bytes.all.freed': 6191673276915712, 'allocated_bytes.all.peak': 45727039488, 'allocated_bytes.large_pool.allocated': 6172497835046912, 'allocated_bytes.large_pool.current': 17039360, 'allocated_bytes.large_pool.freed': 6172497818007552, 'allocated_bytes.large_pool.peak': 45226637312, 'allocated_bytes.small_pool.allocated': 19175458908160, 'allocated_bytes.small_pool.current': 0, 'allocated_bytes.small_pool.freed': 19175458908160, 'allocated_bytes.small_pool.peak': 520622592, 'allocation.all.allocated': 376097757, 'allocation.all.current': 2, 'allocation.all.freed': 376097755, 'allocation.all.peak': 12760, 'allocation.large_pool.allocated': 227432242, 'allocation.large_pool.current': 2, 'allocation.large_pool.freed': 227432240, 'allocation.large_pool.peak': 2903, 'allocation.small_pool.allocated': 148665515, 'allocation.small_pool.current': 0, 'allocation.small_pool.freed': 148665515, 'allocation.small_pool.peak': 10358, 'inactive_split.all.allocated': 157869608, 'inactive_split.all.current': 3, 'inactive_split.all.freed': 157869605, 'inactive_split.all.peak': 1366, 'inactive_split.large_pool.allocated': 115597398, 'inactive_split.large_pool.current': 3, 'inactive_split.large_pool.freed': 115597395, 'inactive_split.large_pool.peak': 548, 'inactive_split.small_pool.allocated': 42272210, 'inactive_split.small_pool.current': 0, 'inactive_split.small_pool.freed': 42272210, 'inactive_split.small_pool.peak': 829, 'inactive_split_bytes.all.allocated': 3193432322286080, 'inactive_split_bytes.all.current': 14417920, 'inactive_split_bytes.all.freed': 3193432307868160, 'inactive_split_bytes.all.peak': 1966555136, 'inactive_split_bytes.large_pool.allocated': 3171732785141760, 'inactive_split_bytes.large_pool.current': 14417920, 'inactive_split_bytes.large_pool.freed': 3171732770723840, 'inactive_split_bytes.large_pool.peak': 1943029760, 'inactive_split_bytes.small_pool.allocated': 21699537144320, 'inactive_split_bytes.small_pool.current': 0, 'inactive_split_bytes.small_pool.freed': 21699537144320, 'inactive_split_bytes.small_pool.peak': 76681216, 'max_split_size': -1, 'num_alloc_retries': 1, 'num_device_alloc': 3585, 'num_device_free': 1866, 'num_ooms': 0, 'num_sync_all_streams': 24, 'oversize_allocations.allocated': 0, 'oversize_allocations.current': 0, 'oversize_allocations.freed': 0, 'oversize_allocations.peak': 0, 'oversize_segments.allocated': 0, 'oversize_segments.current': 0, 'oversize_segments.freed': 0, 'oversize_segments.peak': 0, 'requested_bytes.all.allocated': 6191644443238030, 'requested_bytes.all.current': 17039360, 'requested_bytes.all.freed': 6191644426198670, 'requested_bytes.all.peak': 44895740700, 'requested_bytes.large_pool.allocated': 6172492295168000, 'requested_bytes.large_pool.current': 17039360, 'requested_bytes.large_pool.freed': 6172492278128640, 'requested_bytes.large_pool.peak': 44395520000, 'requested_bytes.small_pool.allocated': 19152148070030, 'requested_bytes.small_pool.current': 0, 'requested_bytes.small_pool.freed': 19152148070030, 'requested_bytes.small_pool.peak': 520442640, 'reserved_bytes.all.allocated': 206470905856, 'reserved_bytes.all.current': 46724546560, 'reserved_bytes.all.freed': 159746359296, 'reserved_bytes.all.peak': 46724546560, 'reserved_bytes.large_pool.allocated': 205659308032, 'reserved_bytes.large_pool.current': 46181384192, 'reserved_bytes.large_pool.freed': 159477923840, 'reserved_bytes.large_pool.peak': 46181384192, 'reserved_bytes.small_pool.allocated': 811597824, 'reserved_bytes.small_pool.current': 543162368, 'reserved_bytes.small_pool.freed': 268435456, 'reserved_bytes.small_pool.peak': 543162368, 'segment.all.allocated': 3585, 'segment.all.current': 1719, 'segment.all.freed': 1866, 'segment.all.peak': 1747, 'segment.large_pool.allocated': 3198, 'segment.large_pool.current': 1460, 'segment.large_pool.freed': 1738, 'segment.large_pool.peak': 1488, 'segment.small_pool.allocated': 387, 'segment.small_pool.current': 259, 'segment.small_pool.freed': 128, 'segment.small_pool.peak': 259})\n"
     ]
    },
    {
     "name": "stderr",
     "output_type": "stream",
     "text": [
      "Some weights of EsmModel were not initialized from the model checkpoint at facebook/esm2_t33_650M_UR50D and are newly initialized: ['esm.pooler.dense.bias', 'esm.pooler.dense.weight']\n",
      "You should probably TRAIN this model on a down-stream task to be able to use it for predictions and inference.\n"
     ]
    },
    {
     "data": {
      "text/plain": [
       "PeftModelForTokenClassification(\n",
       "  (base_model): LoraModel(\n",
       "    (model): CustomModel(\n",
       "      (backbone): EsmModel(\n",
       "        (embeddings): EsmEmbeddings(\n",
       "          (word_embeddings): Embedding(33, 1280, padding_idx=1)\n",
       "          (dropout): Dropout(p=0.0, inplace=False)\n",
       "          (position_embeddings): Embedding(1026, 1280, padding_idx=1)\n",
       "        )\n",
       "        (encoder): EsmEncoder(\n",
       "          (layer): ModuleList(\n",
       "            (0-32): 33 x EsmLayer(\n",
       "              (attention): EsmAttention(\n",
       "                (self): EsmSelfAttention(\n",
       "                  (query): lora.Linear(\n",
       "                    (base_layer): Linear(in_features=1280, out_features=1280, bias=True)\n",
       "                    (lora_dropout): ModuleDict(\n",
       "                      (default): Dropout(p=0.1, inplace=False)\n",
       "                    )\n",
       "                    (lora_A): ModuleDict(\n",
       "                      (default): Linear(in_features=1280, out_features=16, bias=False)\n",
       "                    )\n",
       "                    (lora_B): ModuleDict(\n",
       "                      (default): Linear(in_features=16, out_features=1280, bias=False)\n",
       "                    )\n",
       "                    (lora_embedding_A): ParameterDict()\n",
       "                    (lora_embedding_B): ParameterDict()\n",
       "                    (lora_magnitude_vector): ModuleDict()\n",
       "                  )\n",
       "                  (key): lora.Linear(\n",
       "                    (base_layer): Linear(in_features=1280, out_features=1280, bias=True)\n",
       "                    (lora_dropout): ModuleDict(\n",
       "                      (default): Dropout(p=0.1, inplace=False)\n",
       "                    )\n",
       "                    (lora_A): ModuleDict(\n",
       "                      (default): Linear(in_features=1280, out_features=16, bias=False)\n",
       "                    )\n",
       "                    (lora_B): ModuleDict(\n",
       "                      (default): Linear(in_features=16, out_features=1280, bias=False)\n",
       "                    )\n",
       "                    (lora_embedding_A): ParameterDict()\n",
       "                    (lora_embedding_B): ParameterDict()\n",
       "                    (lora_magnitude_vector): ModuleDict()\n",
       "                  )\n",
       "                  (value): lora.Linear(\n",
       "                    (base_layer): Linear(in_features=1280, out_features=1280, bias=True)\n",
       "                    (lora_dropout): ModuleDict(\n",
       "                      (default): Dropout(p=0.1, inplace=False)\n",
       "                    )\n",
       "                    (lora_A): ModuleDict(\n",
       "                      (default): Linear(in_features=1280, out_features=16, bias=False)\n",
       "                    )\n",
       "                    (lora_B): ModuleDict(\n",
       "                      (default): Linear(in_features=16, out_features=1280, bias=False)\n",
       "                    )\n",
       "                    (lora_embedding_A): ParameterDict()\n",
       "                    (lora_embedding_B): ParameterDict()\n",
       "                    (lora_magnitude_vector): ModuleDict()\n",
       "                  )\n",
       "                  (dropout): Dropout(p=0.0, inplace=False)\n",
       "                  (rotary_embeddings): RotaryEmbedding()\n",
       "                )\n",
       "                (output): EsmSelfOutput(\n",
       "                  (dense): Linear(in_features=1280, out_features=1280, bias=True)\n",
       "                  (dropout): Dropout(p=0.0, inplace=False)\n",
       "                )\n",
       "                (LayerNorm): LayerNorm((1280,), eps=1e-05, elementwise_affine=True)\n",
       "              )\n",
       "              (intermediate): EsmIntermediate(\n",
       "                (dense): Linear(in_features=1280, out_features=5120, bias=True)\n",
       "              )\n",
       "              (output): EsmOutput(\n",
       "                (dense): Linear(in_features=5120, out_features=1280, bias=True)\n",
       "                (dropout): Dropout(p=0.0, inplace=False)\n",
       "              )\n",
       "              (LayerNorm): LayerNorm((1280,), eps=1e-05, elementwise_affine=True)\n",
       "            )\n",
       "          )\n",
       "          (emb_layer_norm_after): LayerNorm((1280,), eps=1e-05, elementwise_affine=True)\n",
       "        )\n",
       "        (pooler): EsmPooler(\n",
       "          (dense): Linear(in_features=1280, out_features=1280, bias=True)\n",
       "          (activation): Tanh()\n",
       "        )\n",
       "        (contact_head): EsmContactPredictionHead(\n",
       "          (regression): Linear(in_features=660, out_features=1, bias=True)\n",
       "          (activation): Sigmoid()\n",
       "        )\n",
       "      )\n",
       "      (outputs): Linear(in_features=1280, out_features=1, bias=True)\n",
       "    )\n",
       "  )\n",
       ")"
      ]
     },
     "execution_count": 16,
     "metadata": {},
     "output_type": "execute_result"
    }
   ],
   "source": [
    "base_model = CustomModel()\n",
    "loaded_model = PeftModel.from_pretrained(base_model, model_path).to(torch.device(\"cuda:0\"))\n",
    "loaded_model.eval()\n",
    "# Load base_model_path to base_model\n",
    "# base_model.load_state_dict(torch.load(model_path))"
   ]
  },
  {
   "cell_type": "code",
   "execution_count": 25,
   "metadata": {},
   "outputs": [],
   "source": [
    "loaded_tokenizer = AutoTokenizer.from_pretrained(model_path)"
   ]
  },
  {
   "cell_type": "code",
   "execution_count": 28,
   "metadata": {},
   "outputs": [],
   "source": [
    "formIII_mutants = combined_dataset.query('LSU_id.str.startswith(\"Anc3\")')\n",
    "formIII_seqs = formIII_mutants['LSU_SSU_seq'].to_list()\n",
    "formIII_labels = formIII_mutants['activity_binary'].to_list()\n",
    "formIII_ids = formIII_mutants['LSU_SSU_id'].to_list()"
   ]
  },
  {
   "cell_type": "code",
   "execution_count": 29,
   "metadata": {},
   "outputs": [],
   "source": [
    "output_pred_formIII = []\n",
    "output_emb_formIII = []\n",
    "\n",
    "for i in range(len(formIII_seqs)):\n",
    "    inputs = loaded_tokenizer(formIII_seqs[i], truncation=True, padding='max_length', max_length=1024, return_tensors=\"pt\")\n",
    "    labels = [formIII_labels[i]]\n",
    "\n",
    "    with torch.no_grad():\n",
    "        outputs = loaded_model(**inputs)[\"logits\"].squeeze(0)\n",
    "        outputs = outputs.cpu().numpy()\n",
    "        # Sigmoid activation\n",
    "        outputs = 1 / (1 + np.exp(-outputs))\n",
    "\n",
    "        output_pred_formIII.append(outputs)\n",
    "        # print(outputs, labels)\n",
    "        outputs_emb = loaded_model(**inputs)[\"last_hidden_state\"].squeeze(0)[0]\n",
    "        outputs_emb = outputs_emb.cpu().numpy()\n",
    "\n",
    "        output_emb_formIII.append(outputs_emb)"
   ]
  },
  {
   "cell_type": "code",
   "execution_count": 36,
   "metadata": {},
   "outputs": [
    {
     "name": "stdout",
     "output_type": "stream",
     "text": [
      "Anc367_mutant_7-none 0.39452004 0\n",
      "Anc367_mutant_10-none 0.39413607 0\n",
      "Anc367_mutant_15-none 0.5660141 1\n",
      "Anc367_mutant_17-none 0.39281946 0\n",
      "Anc367_mutant_20-none 0.39457932 1\n",
      "Anc367_mutant_26-none 0.43341178 1\n",
      "Anc367_mutant_29-none 0.3943195 0\n",
      "Anc367_mutant_38-none 0.3946639 1\n",
      "Anc367_mutant_39-none 0.39664474 0\n",
      "Anc367_mutant_42-none 0.39815158 0\n",
      "Anc366-none 0.5675697 1\n",
      "Anc367-none 0.39563125 0\n",
      "Anc393_mutant_4-none 0.5494187 1\n",
      "Anc393_mutant_11-none 0.55009073 1\n",
      "Anc393_mutant_12-none 0.54990363 1\n",
      "Anc393_mutant_13-none 0.547416 0\n",
      "Anc393_mutant_14-none 0.551925 1\n",
      "Anc393_mutant_15-none 0.54683113 1\n",
      "Anc393_mutant_16-none 0.5454568 1\n",
      "Anc393_mutant_18-none 0.55009997 1\n",
      "Anc393_mutant_19-none 0.5475726 1\n",
      "Anc393_mutant_21-none 0.5477891 0\n",
      "Anc393_mutant_22-none 0.54851604 1\n",
      "Anc393_mutant_25-none 0.55237514 0\n",
      "Anc393_mutant_27-none 0.55394256 1\n",
      "Anc393_mutant_28-none 0.55300885 1\n",
      "Anc393_mutant_29-none 0.5450992 1\n",
      "Anc393_mutant_30-none 0.5522993 1\n",
      "Anc393_mutant_31-none 0.54972893 0\n",
      "Anc393_mutant_32-none 0.5499214 1\n",
      "Anc393_mutant_33-none 0.5506281 1\n",
      "Anc393_mutant_35-none 0.5458271 1\n",
      "Anc393_mutant_36-none 0.550998 0\n",
      "Anc393_mutant_38-none 0.5447293 1\n",
      "Anc393_mutant_41-none 0.5422887 1\n",
      "Anc393_mutant_42-none 0.55179524 1\n",
      "Anc393_mutant_43-none 0.55121505 1\n",
      "Anc393_mutant_46-none 0.55420226 1\n",
      "Anc393_mutant_47-none 0.54722315 1\n",
      "Anc393_mutant_49-none 0.5504571 1\n",
      "Anc365-none 0.5648255 1\n",
      "Anc393-none 0.5330075 0\n",
      "Anc367_mutant_0-none 0.40332586 0\n",
      "Anc367_mutant_1-none 0.5723642 1\n",
      "Anc367_mutant_2-none 0.39505202 0\n",
      "Anc367_mutant_3-none 0.39458796 0\n",
      "Anc367_mutant_4-none 0.39434353 0\n",
      "Anc367_mutant_5-none 0.54101586 1\n",
      "Anc367_mutant_6-none 0.39392382 0\n",
      "Anc367_mutant_8-none 0.39437854 0\n",
      "Anc367_mutant_9-none 0.39523163 1\n",
      "Anc367_mutant_11-none 0.39459655 1\n",
      "Anc367_mutant_12-none 0.39350465 0\n",
      "Anc367_mutant_13-none 0.39368075 1\n",
      "Anc367_mutant_14-none 0.39552772 0\n",
      "Anc367_mutant_16-none 0.39445212 1\n",
      "Anc367_mutant_18-none 0.39363936 1\n",
      "Anc367_mutant_19-none 0.5047309 0\n",
      "Anc367_mutant_21-none 0.3972884 0\n",
      "Anc367_mutant_22-none 0.3936747 0\n",
      "Anc367_mutant_23-none 0.39836788 0\n",
      "Anc367_mutant_24-none 0.3929273 0\n",
      "Anc367_mutant_25-none 0.5171405 1\n",
      "Anc367_mutant_27-none 0.42305666 1\n",
      "Anc367_mutant_28-none 0.39599586 0\n",
      "Anc367_mutant_30-none 0.3948435 1\n",
      "Anc367_mutant_31-none 0.39417106 0\n",
      "Anc367_mutant_32-none 0.39280534 0\n",
      "Anc367_mutant_33-none 0.39585793 0\n",
      "Anc367_mutant_34-none 0.5006044 1\n",
      "Anc367_mutant_35-none 0.39229006 0\n",
      "Anc367_mutant_36-none 0.39517808 0\n",
      "Anc367_mutant_37-none 0.39508668 0\n",
      "Anc367_mutant_40-none 0.500123 1\n",
      "Anc367_mutant_41-none 0.39392725 0\n",
      "Anc367_mutant_43-none 0.39448202 0\n",
      "Anc367_mutant_44-none 0.39500126 0\n",
      "Anc367_mutant_45-none 0.39652467 0\n",
      "Anc367_mutant_46-none 0.39938065 1\n",
      "Anc367_mutant_47-none 0.3930629 0\n",
      "Anc367_mutant_48-none 0.39398363 1\n",
      "Anc367_mutant_49-none 0.39440832 0\n",
      "Anc393_mutant_0-none 0.5509912 0\n",
      "Anc393_mutant_1-none 0.5454468 0\n",
      "Anc393_mutant_2-none 0.5531871 1\n",
      "Anc393_mutant_3-none 0.55219144 0\n",
      "Anc393_mutant_5-none 0.5522976 1\n",
      "Anc393_mutant_6-none 0.548946 0\n",
      "Anc393_mutant_7-none 0.54593784 1\n",
      "Anc393_mutant_8-none 0.5449565 0\n",
      "Anc393_mutant_9-none 0.54834914 0\n",
      "Anc393_mutant_10-none 0.55379885 0\n",
      "Anc393_mutant_17-none 0.5545241 1\n",
      "Anc393_mutant_20-none 0.5512623 1\n",
      "Anc393_mutant_23-none 0.5495259 1\n",
      "Anc393_mutant_24-none 0.5442112 0\n",
      "Anc393_mutant_26-none 0.54710597 1\n",
      "Anc393_mutant_34-none 0.549105 0\n",
      "Anc393_mutant_37-none 0.5532475 1\n",
      "Anc393_mutant_39-none 0.55024165 1\n",
      "Anc393_mutant_40-none 0.54661417 1\n",
      "Anc393_mutant_44-none 0.55030185 1\n",
      "Anc393_mutant_45-none 0.5441049 1\n",
      "Anc393_mutant_48-none 0.5521941 1\n"
     ]
    }
   ],
   "source": [
    "for i in range(len(output_pred_formIII)):\n",
    "    print(formIII_ids[i], output_pred_formIII[i], formIII_labels[i])"
   ]
  },
  {
   "cell_type": "code",
   "execution_count": 33,
   "metadata": {},
   "outputs": [
    {
     "data": {
      "image/png": "[encoded data removed]",
      "text/plain": [
       "<Figure size 1000x800 with 1 Axes>"
      ]
     },
     "metadata": {},
     "output_type": "display_data"
    }
   ],
   "source": [
    "from sklearn.metrics import pairwise_distances\n",
    "from sklearn.manifold import TSNE\n",
    "# import umap\n",
    "import matplotlib.pyplot as plt\n",
    "\n",
    "distance_matrix = pairwise_distances(output_emb_formIII, metric=\"cosine\")\n",
    "tsne = TSNE(n_components=2, metric=\"precomputed\", init=\"random\", random_state=42)\n",
    "tsne_embedding = tsne.fit_transform(distance_matrix)\n",
    "# umap_model = umap.UMAP(n_neighbors=5, min_dist=0.3, metric=\"cosine\")\n",
    "# tsne_embedding = umap_model.fit_transform(output_emb)\n",
    "\n",
    "plt.figure(figsize=(10, 8))\n",
    "scatter = plt.scatter(tsne_embedding[:, 0], tsne_embedding[:, 1], c=output_pred_formIII, cmap=\"coolwarm\")"
   ]
  },
  {
   "cell_type": "code",
   "execution_count": null,
   "metadata": {},
   "outputs": [],
   "source": []
  },
  {
   "cell_type": "code",
   "execution_count": null,
   "metadata": {},
   "outputs": [],
   "source": []
  },
  {
   "cell_type": "code",
   "execution_count": null,
   "metadata": {},
   "outputs": [],
   "source": [
    "output_pred = []\n",
    "\n",
    "for i in range(len(val_sequences)):\n",
    "    inputs = loaded_tokenizer(train_sequences[i], truncation=True, padding='max_length', max_length=512, return_tensors=\"pt\")\n",
    "    inputs = {key: inputs[key] for key in inputs}\n",
    "\n",
    "    with torch.no_grad():\n",
    "        outputs = loaded_model(**inputs)[\"logits\"]\n",
    "\n",
    "        probs = torch.sigmoid(outputs).cpu().numpy()\n",
    "        print(probs)"
   ]
  },
  {
   "cell_type": "code",
   "execution_count": null,
   "metadata": {},
   "outputs": [],
   "source": [
    "output_pred = []\n",
    "\n",
    "for i in range(len(train_sequences)):\n",
    "    inputs = loaded_tokenizer(train_sequences[i], truncation=True, padding='max_length', max_length=512, return_tensors=\"pt\")\n",
    "    labels = [train_binary_activity[i]]\n",
    "\n",
    "    with torch.no_grad():\n",
    "        outputs = loaded_model(**inputs)[\"logits\"].squeeze(0)\n",
    "        outputs = outputs.cpu().numpy()\n",
    "        # Sigmoid activation\n",
    "        outputs = 1 / (1 + np.exp(-outputs))\n",
    "        # print(outputs, labels)\n",
    "\n",
    "        output_pred.append(outputs)\n",
    "\n",
    "#Plot the values in output_pred with the labels from val_set_labels\n",
    "\n",
    "output_pred = np.array(output_pred)\n",
    "# val_set_labels = np.array(val_set_labels)\n",
    "\n",
    "plt.scatter(output_pred, train_binary_activity)\n",
    "plt.title(\"Predictions vs Labels for the training set\")"
   ]
  },
  {
   "cell_type": "code",
   "execution_count": 39,
   "metadata": {},
   "outputs": [
    {
     "data": {
      "text/plain": [
       "Text(0.5, 1.0, 'Predictions vs Labels for the validation set')"
      ]
     },
     "execution_count": 39,
     "metadata": {},
     "output_type": "execute_result"
    },
    {
     "data": {
      "image/png": "[encoded data removed]",
      "text/plain": [
       "<Figure size 640x480 with 1 Axes>"
      ]
     },
     "metadata": {},
     "output_type": "display_data"
    }
   ],
   "source": [
    "output_pred = []\n",
    "\n",
    "for i in range(len(val_sequences)):\n",
    "    inputs = loaded_tokenizer(val_sequences[i], truncation=True, padding='max_length', max_length=512, return_tensors=\"pt\")\n",
    "    labels = [val_binary_activity[i]]\n",
    "\n",
    "    with torch.no_grad():\n",
    "        outputs = loaded_model(**inputs)[\"logits\"].squeeze(0)\n",
    "        outputs = outputs.cpu().numpy()\n",
    "        # Sigmoid activation\n",
    "        outputs = 1 / (1 + np.exp(-outputs))\n",
    "        # print(outputs, labels)\n",
    "\n",
    "        output_pred.append(outputs)\n",
    "\n",
    "#Plot the values in output_pred with the labels from val_set_labels\n",
    "\n",
    "output_pred = np.array(output_pred)\n",
    "# val_set_labels = np.array(val_set_labels)\n",
    "\n",
    "plt.scatter(output_pred, val_binary_activity)\n",
    "plt.title(\"Predictions vs Labels for the validation set\")"
   ]
  },
  {
   "cell_type": "code",
   "execution_count": null,
   "metadata": {},
   "outputs": [
    {
     "name": "stdout",
     "output_type": "stream",
     "text": [
      "\u001b[1;34mwandb\u001b[0m: \n",
      "\u001b[1;34mwandb\u001b[0m: 🚀 View run \u001b[33m/home/kaustubh/RuBisCO_ML/ESM_LoRA/training_runs/esm2_t33_650M-finetuned-lora_2025-04-15_06-58-30\u001b[0m at: \u001b[34mhttps://wandb.ai/kauamritkar-university-of-wisconsin-madison/huggingface/runs/hbgguq7j\u001b[0m\n",
      "\u001b[1;34mwandb\u001b[0m: Find logs at: \u001b[1;35mwandb/run-20250415_070136-hbgguq7j/logs\u001b[0m\n"
     ]
    }
   ],
   "source": [
    "combined_seqs = train_sequences + val_sequences\n",
    "combined_labels = train_binary_activity + val_binary_activity\n",
    "\n",
    "output_pred_all = []\n",
    "output_emb_all = []\n",
    "\n",
    "for i in range(len(combined_seqs)):\n",
    "    inputs = loaded_tokenizer(combined_seqs[i], truncation=True, padding='max_length', max_length=512, return_tensors=\"pt\")\n",
    "    labels = [combined_labels[i]]\n",
    "\n",
    "    with torch.no_grad():\n",
    "        outputs = loaded_model(**inputs)[\"logits\"].squeeze(0)\n",
    "        outputs = outputs.cpu().numpy()\n",
    "        # Sigmoid activation\n",
    "        outputs = 1 / (1 + np.exp(-outputs))\n",
    "\n",
    "        output_pred_all.append(outputs)\n",
    "        # print(outputs, labels)\n",
    "        outputs_emb = loaded_model(**inputs)[\"last_hidden_state\"].squeeze(0)[0]\n",
    "        outputs_emb = outputs_emb.cpu().numpy()\n",
    "\n",
    "        output_emb_all.append(outputs_emb)"
   ]
  },
  {
   "cell_type": "code",
   "execution_count": null,
   "metadata": {},
   "outputs": [],
   "source": [
    "#Plot the values in output_pred with the labels from val_set_labels\n",
    "\n",
    "output_pred_all = np.array(output_pred_all)\n",
    "combined_labels = np.array(combined_labels)\n",
    "\n",
    "plt.scatter(output_pred_all, combined_labels)"
   ]
  },
  {
   "cell_type": "code",
   "execution_count": null,
   "metadata": {},
   "outputs": [],
   "source": [
    "from sklearn.metrics import pairwise_distances\n",
    "from sklearn.manifold import TSNE\n",
    "# import umap\n",
    "import matplotlib.pyplot as plt\n",
    "\n",
    "distance_matrix = pairwise_distances(output_emb_all, metric=\"cosine\")\n",
    "tsne = TSNE(n_components=2, metric=\"precomputed\", init=\"random\", random_state=42)\n",
    "tsne_embedding = tsne.fit_transform(distance_matrix)\n",
    "# umap_model = umap.UMAP(n_neighbors=5, min_dist=0.3, metric=\"cosine\")\n",
    "# tsne_embedding = umap_model.fit_transform(output_emb)\n",
    "\n",
    "plt.figure(figsize=(10, 8))\n",
    "scatter = plt.scatter(tsne_embedding[:, 0], tsne_embedding[:, 1], c=combined_labels, cmap=\"coolwarm\")"
   ]
  },
  {
   "cell_type": "code",
   "execution_count": null,
   "metadata": {},
   "outputs": [],
   "source": []
  }
 ],
 "metadata": {
  "kernelspec": {
   "display_name": "Python 3 (ipykernel)",
   "language": "python",
   "name": "python3"
  },
  "language_info": {
   "codemirror_mode": {
    "name": "ipython",
    "version": 3
   },
   "file_extension": ".py",
   "mimetype": "text/x-python",
   "name": "python",
   "nbconvert_exporter": "python",
   "pygments_lexer": "ipython3",
   "version": "3.13.2"
  }
 },
 "nbformat": 4,
 "nbformat_minor": 2
}
